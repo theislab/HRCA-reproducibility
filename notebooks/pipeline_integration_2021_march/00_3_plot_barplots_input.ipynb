{
 "cells": [
  {
   "cell_type": "code",
   "execution_count": 1,
   "metadata": {},
   "outputs": [],
   "source": [
    "%load_ext autoreload\n",
    "%autoreload 2"
   ]
  },
  {
   "cell_type": "code",
   "execution_count": 53,
   "metadata": {},
   "outputs": [],
   "source": [
    "# Fix export PDF as text issue\n",
    "import matplotlib\n",
    "\n",
    "matplotlib.rcParams['pdf.fonttype'] = 42\n",
    "matplotlib.rcParams['ps.fonttype'] = 42\n",
    "\n",
    "fpath = join(plt.rcParams[\"datapath\"], \"fonts/ttf/arial.ttf\")\n",
    "from matplotlib import font_manager as fm, rcParams\n",
    "prop = fm.FontProperties(fname=fpath)\n",
    "rcParams[\"font.family\"] = \"arial\"\n",
    "\n",
    "import os\n",
    "import scanpy as sc\n",
    "from os.path import join, exists\n",
    "from os import listdir\n",
    "import anndata\n",
    "import scipy\n",
    "import numpy as np\n",
    "import sys\n",
    "\n",
    "\n",
    "import seaborn as sns\n",
    "sns.set()\n",
    "from matplotlib import rcParams\n",
    "import matplotlib.pyplot as plt\n",
    "\n",
    "from utils import *\n",
    "\n",
    "# convert counts into float32\n",
    "# Convenience method for computing the size of objects\n",
    "def print_size_in_MB(x):\n",
    "    return '{:.3} MB'.format(x.__sizeof__()/1e6)\n",
    "\n",
    "def print_size_in_MB_sparse_matrix(a):\n",
    "    # a = scipy.sparse.csr_matrix(np.random.randint(10, size=(40, 3)))\n",
    "    # x = a.data.nbytes + a.indptr.nbytes + a.indices.nbytes\n",
    "    size = a.data.size/(1024**2)\n",
    "    return '{:.3} MB'.format(size)\n",
    "\n",
    "import warnings\n",
    "warnings.filterwarnings(\"ignore\")"
   ]
  },
  {
   "cell_type": "code",
   "execution_count": 47,
   "metadata": {},
   "outputs": [
    {
     "name": "stdout",
     "output_type": "stream",
     "text": [
      "total 14G\n",
      "drwxr-xr-x. 2 ignacio.ibarra OG-ICB-User   11 Apr 29 08:48 \u001b[0m\u001b[38;5;33mbydataset_500\u001b[0m/\n",
      "drwxr-xr-x. 2 ignacio.ibarra OG-ICB-User   11 Apr 29 09:19 \u001b[38;5;33mbydataset_1000\u001b[0m/\n",
      "-rw-r--r--. 1 ignacio.ibarra OG-ICB-User 435M Apr 29 09:41 input_500_cells.h5ad\n",
      "-rw-r--r--. 1 ignacio.ibarra OG-ICB-User 863M Apr 29 09:43 input_1000_cells.h5ad\n",
      "drwxr-xr-x. 2 ignacio.ibarra OG-ICB-User   11 Apr 29 09:54 \u001b[38;5;33mbydataset\u001b[0m/\n",
      "-rw-r--r--. 1 ignacio.ibarra OG-ICB-User  12G Apr 29 11:47 input_all_cells.h5ad\n"
     ]
    }
   ],
   "source": [
    "ls -ltrh ../../data/integration_march_2021/input/"
   ]
  },
  {
   "cell_type": "code",
   "execution_count": 49,
   "metadata": {},
   "outputs": [],
   "source": [
    "input_dir = '../../data/integration_march_2021/input'"
   ]
  },
  {
   "cell_type": "code",
   "execution_count": 212,
   "metadata": {},
   "outputs": [
    {
     "data": {
      "text/plain": [
       "AnnData object with n_obs × n_vars = 69627 × 3840\n",
       "    obs: 'batch', 'dataset', 'filename', 'nCount_RNA', 'nFeature_RNA', 'orig.ident', 'size_factors', 'cell.type', 'batch.merged'\n",
       "    layers: 'counts'"
      ]
     },
     "execution_count": 212,
     "metadata": {},
     "output_type": "execute_result"
    }
   ],
   "source": [
    "ad_by_f['input_500_cells.h5ad']"
   ]
  },
  {
   "cell_type": "code",
   "execution_count": 208,
   "metadata": {},
   "outputs": [
    {
     "data": {
      "text/plain": [
       "dict_keys(['input_500_cells.h5ad', 'input_1000_cells.h5ad', 'input_all_cells.h5ad'])"
      ]
     },
     "execution_count": 208,
     "metadata": {},
     "output_type": "execute_result"
    }
   ],
   "source": [
    "ad_by_f.keys()"
   ]
  },
  {
   "cell_type": "code",
   "execution_count": 229,
   "metadata": {},
   "outputs": [
    {
     "name": "stdout",
     "output_type": "stream",
     "text": [
      "input_500_cells.h5ad\n",
      "done...\n",
      "input_1000_cells.h5ad\n",
      "done...\n",
      "input_all_cells.h5ad\n",
      "done...\n"
     ]
    }
   ],
   "source": [
    "ad_by_f = {}\n",
    "for f in listdir(input_dir):\n",
    "    if not f.endswith('h5ad'):\n",
    "        continue\n",
    "    print(f)\n",
    "    p = join(input_dir, f)\n",
    "    ad = sc.read_h5ad(p)\n",
    "    ad_by_f[f] = ad\n",
    "    print('done...')"
   ]
  },
  {
   "cell_type": "code",
   "execution_count": 231,
   "metadata": {},
   "outputs": [
    {
     "name": "stdout",
     "output_type": "stream",
     "text": [
      "input_500_cells.h5ad\n",
      "/mnt/znas/icb_zstore01/groups/ml01/workspace/ignacio.ibarra/theislab/retinal_scRNAseq_integration/scIB_run/input_500_cells_barplot_scpred.png\n",
      "input_1000_cells.h5ad\n",
      "/mnt/znas/icb_zstore01/groups/ml01/workspace/ignacio.ibarra/theislab/retinal_scRNAseq_integration/scIB_run/input_1000_cells_barplot_scpred.png\n",
      "input_all_cells.h5ad\n",
      "/mnt/znas/icb_zstore01/groups/ml01/workspace/ignacio.ibarra/theislab/retinal_scRNAseq_integration/scIB_run/input_all_cells_barplot_scpred.png\n"
     ]
    }
   ],
   "source": [
    "for f in ad_by_f:\n",
    "    print(f)\n",
    "    \n",
    "    ad = ad_by_f[f]\n",
    "    import pandas as pd\n",
    "\n",
    "    ad.obs['batch.full'] = ad.obs['dataset'].astype(str) + '_' + ad.obs['batch.merged'].astype(str)\n",
    "    df = ad.obs[['cell.type', 'batch.full']].value_counts().reset_index()\n",
    "    df = df.pivot('batch.full', 'cell.type', 0)\n",
    "\n",
    "    name = df.index\n",
    "    df = df.reset_index(drop=True)\n",
    "    df = pd.DataFrame(np.array(df.fillna(0)).astype(int), columns=list(df.columns), index=list(name))\n",
    "\n",
    "    df['sum'] = df.sum(axis=1)\n",
    "    df['k'] = ['_'.join(a) for a in df.index.str.split('_').str[:-1]]\n",
    "    \n",
    "    df = df.sort_values(['k','sum'], ascending=[False, False])\n",
    "    del df['sum']\n",
    "    del df['k']\n",
    "    \n",
    "    rcParams['figure.figsize'] = [15, 7]\n",
    "    rcParams['figure.dpi'] = 120\n",
    "\n",
    "    from itertools import cycle, islice\n",
    "    import pandas, numpy as np  # I find np.random.randint to be better\n",
    "    c = ['#a6cee3', '#1f78b4', '#b2df8a', '#33a02c', '#fb9a99', '#e31a1c', '#fdbf6f', '#ff7f00', '#cab2d6', '#6a3d9a', 'lightgrey']\n",
    "    my_colors = list(islice(cycle(c), None, len(df)))\n",
    "\n",
    "    for pi in [0, 1]:\n",
    "        ax = plt.subplot(2, 1, pi + 1)\n",
    "        df.plot(kind='bar', stacked=True, width=1.0, linewidth=0.2, logy=pi == 0,\n",
    "                color=my_colors, edgecolor='black', ax=ax)\n",
    "        plt.ylabel('# cells%s' % (' (log)' if pi == 0 else ''))\n",
    "        plt.xlabel('dataset batch')\n",
    "        plt.xticks(fontsize=6)\n",
    "        plt.legend(fontsize=10, title='scpred', bbox_to_anchor=(1.01, 1))\n",
    "        \n",
    "    \n",
    "    img_path = '../../scIB_run/%s' % f.replace('.h5ad', '_barplot_scpred.png')\n",
    "    plt.savefig(img_path)\n",
    "    \n",
    "    print(os.path.abspath(img_path)) # .replace('.pdf', '.png')))\n",
    "    plt.close()\n"
   ]
  },
  {
   "cell_type": "code",
   "execution_count": 233,
   "metadata": {},
   "outputs": [
    {
     "name": "stdout",
     "output_type": "stream",
     "text": [
      "/mnt/znas/icb_zstore01/groups/ml01/workspace/ignacio.ibarra/theislab/retinal_scRNAseq_integration/scIB_run/input_all_cells_barplot_scpred.png\n"
     ]
    }
   ],
   "source": [
    "print(os.path.abspath(img_path))"
   ]
  },
  {
   "cell_type": "code",
   "execution_count": 235,
   "metadata": {},
   "outputs": [],
   "source": [
    "%matplotlib inline"
   ]
  },
  {
   "cell_type": "code",
   "execution_count": 236,
   "metadata": {},
   "outputs": [],
   "source": [
    "from PIL import Image\n",
    "\n",
    "image = Image.open(img_path)\n",
    "image.show()"
   ]
  },
  {
   "cell_type": "code",
   "execution_count": 222,
   "metadata": {},
   "outputs": [],
   "source": []
  }
 ],
 "metadata": {
  "kernelspec": {
   "display_name": "Python [conda env:mypython3] *",
   "language": "python",
   "name": "conda-env-mypython3-py"
  },
  "language_info": {
   "codemirror_mode": {
    "name": "ipython",
    "version": 3
   },
   "file_extension": ".py",
   "mimetype": "text/x-python",
   "name": "python",
   "nbconvert_exporter": "python",
   "pygments_lexer": "ipython3",
   "version": "3.7.8"
  }
 },
 "nbformat": 4,
 "nbformat_minor": 5
}
