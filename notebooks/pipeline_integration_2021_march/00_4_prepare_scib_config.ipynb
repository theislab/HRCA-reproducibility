{
 "cells": [
  {
   "cell_type": "code",
   "execution_count": 216,
   "metadata": {},
   "outputs": [],
   "source": [
    "import os\n",
    "import scanpy as sc\n",
    "from os.path import join, exists\n",
    "from os import listdir\n",
    "import anndata\n",
    "import scipy\n",
    "import numpy as np\n",
    "import sys\n",
    "\n",
    "from utils import *\n",
    "\n",
    "# convert counts into float32\n",
    "# Convenience method for computing the size of objects\n",
    "def print_size_in_MB(x):\n",
    "    return '{:.3} MB'.format(x.__sizeof__()/1e6)\n",
    "\n",
    "def print_size_in_MB_sparse_matrix(a):\n",
    "    # a = scipy.sparse.csr_matrix(np.random.randint(10, size=(40, 3)))\n",
    "    # x = a.data.nbytes + a.indptr.nbytes + a.indices.nbytes\n",
    "    size = a.data.size/(1024**2)\n",
    "    return '{:.3} MB'.format(size)\n",
    "\n",
    "import warnings\n",
    "warnings.filterwarnings(\"ignore\")"
   ]
  },
  {
   "cell_type": "markdown",
   "metadata": {},
   "source": [
    "### Prepare input for general run"
   ]
  },
  {
   "cell_type": "code",
   "execution_count": 233,
   "metadata": {},
   "outputs": [],
   "source": [
    "scib_methods_path = 'scib_config.methods.yml'\n",
    "lines = [r for r in open(scib_methods_path)]\n",
    "methods_data = {}\n",
    "curr_method = None\n",
    "method_parms = []\n",
    "for e in lines:\n",
    "    if e.startswith('  ') and not e.startswith('   '):\n",
    "        if curr_method is not None:\n",
    "            methods_data[curr_method] = method_parms\n",
    "        curr_method = e.strip()[:-1]\n",
    "        method_parms = []\n",
    "    else:\n",
    "        method_parms.append(e.strip())\n",
    "        \n",
    "# last method\n",
    "methods_data[curr_method] = method_parms"
   ]
  },
  {
   "cell_type": "code",
   "execution_count": 234,
   "metadata": {},
   "outputs": [
    {
     "data": {
      "text/plain": [
       "dict_keys(['seurat', 'trvae', 'harmony', 'scvi', 'fastmnn', 'mnn', 'scanorama', 'saucie', 'trvaep', 'bbknn', 'conos', 'combat', 'liger', 'scgen', 'desc'])"
      ]
     },
     "execution_count": 234,
     "metadata": {},
     "output_type": "execute_result"
    }
   ],
   "source": [
    "methods.keys()"
   ]
  },
  {
   "cell_type": "code",
   "execution_count": 235,
   "metadata": {},
   "outputs": [],
   "source": [
    "methods_query = ['scanorama', 'seurat', 'combat', 'bbknn'] # 'saucie'] # 'scgen']"
   ]
  },
  {
   "cell_type": "code",
   "execution_count": 237,
   "metadata": {},
   "outputs": [
    {
     "name": "stdout",
     "output_type": "stream",
     "text": [
      "_500\n",
      "# of cells (input argument) 500\n",
      "/mnt/znas/icb_zstore01/groups/ml01/workspace/ignacio.ibarra/theislab/retinal_scRNAseq_integration/data/integration_march_2021/input/input_500_cells.h5ad\n",
      "_1000\n",
      "# of cells (input argument) 1000\n",
      "/mnt/znas/icb_zstore01/groups/ml01/workspace/ignacio.ibarra/theislab/retinal_scRNAseq_integration/data/integration_march_2021/input/input_1000_cells.h5ad\n"
     ]
    }
   ],
   "source": [
    "\n",
    "\n",
    "# methods use\n",
    "\n",
    "\n",
    "scib_template_path = 'scib_config.template.yml'\n",
    "exists(scib_template_path)\n",
    "lines = ''.join([r for r in open(scib_template_path)])\n",
    "\n",
    "import pandas as pd\n",
    "from os.path import abspath\n",
    "input_dir = '/storage/groups/ml01/workspace/ignacio.ibarra/theislab/retinal_scRNAseq_integration/data/integration_march_2021/input'\n",
    "batches = ['dataset', 'batch.merged']\n",
    "labels = ['cell.type']\n",
    "\n",
    "queries = []\n",
    "for f in listdir(input_dir):\n",
    "    \n",
    "    if 'all' in f:\n",
    "        continue\n",
    "    if not f.endswith('.h5ad') or 'part' in f:\n",
    "        continue\n",
    "    p = abspath(join(input_dir, f))\n",
    "    \n",
    "    for batch in batches:\n",
    "        for label in labels:\n",
    "            queries.append([p, batch, label])\n",
    "queries = pd.DataFrame(queries, columns=['file', 'batch_key', 'label_key'])\n",
    "\n",
    "dataset_template = '''\n",
    "  $query_name:\n",
    "    batch_key: $batch_key\n",
    "    label_key: $label_key\n",
    "    assay: expression\n",
    "    organism: human\n",
    "    file: $path\n",
    "'''\n",
    "out_queries = ''\n",
    "for ri, r in queries.iterrows():\n",
    "    # print(ri, r.values)\n",
    "    next_query = dataset_template.replace('$query_name', os.path.basename(r['file'].replace('.h5ad', '')) + '_' + r['batch_key'] + '_' + r['label_key'])\n",
    "    next_query = next_query.replace('$batch_key', r['batch_key']).replace('$label_key', r['label_key']).replace('$path', r['file'])\n",
    "    out_queries += next_query\n",
    "\n",
    "out_methods = ''\n",
    "for q in methods_query:\n",
    "    next_method = '  ' + q + ':\\n    ' + '\\n    '.join(methods_data[q])\n",
    "    out_methods += next_method + '\\n'\n",
    "out = lines.replace('$METHODS_QUERY', out_methods)\n",
    "out = out.replace('$DATA_SCENARIOS_QUERY', out_queries)\n",
    "\n",
    "config_output_path = '../../scib/config.yaml'\n",
    "writer = open(config_output_path, 'w')\n",
    "writer.writelines(out + '\\n')\n",
    "writer.close()\n",
    "\n",
    "overwrite = False\n",
    "for n_sample_per_batch in [500, 1000]: #  None]:\n",
    "    # examine types, columns and others incorporated in the object\n",
    "    \n",
    "    code_n_cells = (('_' + str(n_sample_per_batch) if n_sample_per_batch is not None else ''))\n",
    "\n",
    "    print(code_n_cells)\n",
    "\n",
    "    print('# of cells (input argument)', n_sample_per_batch)\n",
    "    \n",
    "    code_output = (('_' + str(n_sample_per_batch) if n_sample_per_batch is not None else '_all'))\n",
    "    output_path = '../../data/integration_march_2021/input/input%s_cells.h5ad' % code_output\n",
    "    abspath_scib = os.path.abspath(output_path)        \n",
    "    print(abspath_scib)"
   ]
  },
  {
   "cell_type": "markdown",
   "metadata": {},
   "source": [
    "### Check queries for routines that should run in GPU (e.g. scgen)"
   ]
  },
  {
   "cell_type": "code",
   "execution_count": 214,
   "metadata": {},
   "outputs": [
    {
     "name": "stdout",
     "output_type": "stream",
     "text": [
      "        conda run -n scIB-python python scripts/runIntegration.py -i /storage/groups/ml01/workspace/ignacio.ibarra/theislab/retinal_scRNAseq_integration/scIB_run/input_all_cells_batch.merged_cell.type/prepare/unscaled/hvg/adata_pre.h5ad -o /storage/groups/ml01/workspace/ignacio.ibarra/theislab/retinal_scRNAseq_integration/scIB_run/input_all_cells_batch.merged_cell.type/integration/unscaled/hvg/scgen.h5ad \t      -b batch.merged --method scgen -v 2000 -c cell.type \t      \n",
      "\n",
      "        conda run -n scIB-python python scripts/runIntegration.py -i /storage/groups/ml01/workspace/ignacio.ibarra/theislab/retinal_scRNAseq_integration/scIB_run/input_1000_cells_batch.merged_cell.type/prepare/unscaled/hvg/adata_pre.h5ad -o /storage/groups/ml01/workspace/ignacio.ibarra/theislab/retinal_scRNAseq_integration/scIB_run/input_1000_cells_batch.merged_cell.type/integration/unscaled/hvg/scgen.h5ad \t      -b batch.merged --method scgen -v 2000 -c cell.type \t      \n",
      "\n",
      "        conda run -n scIB-python python scripts/runIntegration.py -i /storage/groups/ml01/workspace/ignacio.ibarra/theislab/retinal_scRNAseq_integration/scIB_run/input_all_cells_dataset_cell.type/prepare/unscaled/hvg/adata_pre.h5ad -o /storage/groups/ml01/workspace/ignacio.ibarra/theislab/retinal_scRNAseq_integration/scIB_run/input_all_cells_dataset_cell.type/integration/unscaled/hvg/scgen.h5ad \t      -b dataset --method scgen -v 2000 -c cell.type \t      \n",
      "\n",
      "        conda run -n scIB-python python scripts/runIntegration.py -i /storage/groups/ml01/workspace/ignacio.ibarra/theislab/retinal_scRNAseq_integration/scIB_run/input_500_cells_batch.merged_cell.type/prepare/unscaled/hvg/adata_pre.h5ad -o /storage/groups/ml01/workspace/ignacio.ibarra/theislab/retinal_scRNAseq_integration/scIB_run/input_500_cells_batch.merged_cell.type/integration/unscaled/hvg/scgen.h5ad \t      -b batch.merged --method scgen -v 2000 -c cell.type \t      \n",
      "\n",
      "        conda run -n scIB-python python scripts/runIntegration.py -i /storage/groups/ml01/workspace/ignacio.ibarra/theislab/retinal_scRNAseq_integration/scIB_run/input_1000_cells_dataset_cell.type/prepare/unscaled/hvg/adata_pre.h5ad -o /storage/groups/ml01/workspace/ignacio.ibarra/theislab/retinal_scRNAseq_integration/scIB_run/input_1000_cells_dataset_cell.type/integration/unscaled/hvg/scgen.h5ad \t      -b dataset --method scgen -v 2000 -c cell.type \t      \n",
      "\n",
      "        conda run -n scIB-python python scripts/runIntegration.py -i /storage/groups/ml01/workspace/ignacio.ibarra/theislab/retinal_scRNAseq_integration/scIB_run/input_500_cells_dataset_cell.type/prepare/unscaled/hvg/adata_pre.h5ad -o /storage/groups/ml01/workspace/ignacio.ibarra/theislab/retinal_scRNAseq_integration/scIB_run/input_500_cells_dataset_cell.type/integration/unscaled/hvg/scgen.h5ad \t      -b dataset --method scgen -v 2000 -c cell.type \t      \n",
      "\n"
     ]
    }
   ],
   "source": [
    "p = '/storage/groups/ml01/workspace/ignacio.ibarra/theislab/retinal_scRNAseq_integration/scib/snakemake_dryrun.out'\n",
    "queries = [q for q in open(p) if q.strip().startswith('conda') and 'scgen' in q and 'runIntegration'in q]\n",
    "for q in queries:\n",
    "    print(q)"
   ]
  }
 ],
 "metadata": {
  "kernelspec": {
   "display_name": "Python [conda env:mypython3] *",
   "language": "python",
   "name": "conda-env-mypython3-py"
  },
  "language_info": {
   "codemirror_mode": {
    "name": "ipython",
    "version": 3
   },
   "file_extension": ".py",
   "mimetype": "text/x-python",
   "name": "python",
   "nbconvert_exporter": "python",
   "pygments_lexer": "ipython3",
   "version": "3.7.8"
  }
 },
 "nbformat": 4,
 "nbformat_minor": 5
}
