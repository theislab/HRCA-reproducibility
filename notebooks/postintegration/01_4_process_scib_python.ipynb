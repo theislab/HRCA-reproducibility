{
 "cells": [
  {
   "cell_type": "code",
   "execution_count": 113,
   "id": "e96a7994-dfe8-4653-8b0a-730fc5840172",
   "metadata": {},
   "outputs": [],
   "source": [
    "import glob\n",
    "import pandas as pd"
   ]
  },
  {
   "cell_type": "code",
   "execution_count": 114,
   "id": "a1582145-f155-40ae-b453-482cb37a8aca",
   "metadata": {},
   "outputs": [],
   "source": [
    "basedir = '/lustre/groups/ml01/workspace/ignacio.ibarra/theislab/retina/data/integration_oct_2022/output'\n",
    "pat = 'retina_*_cells_all_*_batch_donor_dataset_cell.type_2022/metrics/unscaled/HVG.*K/*.csv'"
   ]
  },
  {
   "cell_type": "code",
   "execution_count": 115,
   "id": "4806a181-8151-47d7-8650-fc9d3f25ab52",
   "metadata": {},
   "outputs": [],
   "source": [
    "metrics_paths = glob.glob(basedir + \"/\" + pat)"
   ]
  },
  {
   "cell_type": "code",
   "execution_count": 116,
   "id": "6abd6eee-689b-43e7-9197-af87f269d6a6",
   "metadata": {},
   "outputs": [
    {
     "name": "stdout",
     "output_type": "stream",
     "text": [
      "here...\n"
     ]
    }
   ],
   "source": [
    "print('here...')"
   ]
  },
  {
   "cell_type": "code",
   "execution_count": 117,
   "id": "3e25a446-d89f-4b4a-b1b2-5ef90be94c9e",
   "metadata": {},
   "outputs": [
    {
     "name": "stdout",
     "output_type": "stream",
     "text": [
      "0 746\n",
      "50 746\n",
      "100 746\n",
      "150 746\n",
      "200 746\n",
      "250 746\n",
      "300 746\n",
      "350 746\n",
      "400 746\n",
      "450 746\n",
      "500 746\n",
      "550 746\n",
      "600 746\n",
      "650 746\n",
      "700 746\n"
     ]
    }
   ],
   "source": [
    "import os\n",
    "def is_non_zero_file(fpath):  \n",
    "    return os.path.isfile(fpath) and os.path.getsize(fpath) > 0\n",
    "\n",
    "df = []\n",
    "for i, p in enumerate(metrics_paths):\n",
    "    f = p.split('/')[-1]\n",
    "    if i % 50 == 0:\n",
    "        print(i, len(metrics_paths))\n",
    "    if 'backup' in p and not 'backup_subset' in f: # ignore backup files\n",
    "        continue\n",
    "    if not is_non_zero_file(p):\n",
    "        continue\n",
    "    # print(f, p)\n",
    "    # print(p)\n",
    "    df2 = pd.read_csv(p, index_col=0)\n",
    "    assert df2.shape[1] == 1\n",
    "    \n",
    "    \n",
    "    \n",
    "    method = df2.columns[0]\n",
    "    df2['method'] = method\n",
    "    df2.index.name = 'metric'\n",
    "    df2 = df2[~pd.isnull(df2[method])].reset_index().rename(columns={method: 'value'})\n",
    "    \n",
    "    if 'isolatedlabelssilhouette' in f:\n",
    "        df2 = df2[df2['metric'] == 'isolated_label_silhouette']\n",
    "        assert df2.shape[0] == 1\n",
    "    \n",
    "    # print(hvg)\n",
    "    df2['hvg'] = p.split('/')[-2]\n",
    "    df2['rep'] = p.split('_')[-2]\n",
    "    df2['sample'] = p.split('/')[-5].split('_')[1]\n",
    "    df2['tech_group'] = p.split('/')[-5].split('_')[4]\n",
    "    df2['metrics_subset'] = 'both' if not 'subset_sc' in f and not 'subset_sn' in f else 'sn' if 'subset_sn' in f else 'sc' if 'subset_sc' in f else None\n",
    "    df2['filename'] = f\n",
    "    df2['path'] = p\n",
    "    # print(df)\n",
    "    df.append(df2)\n",
    "    \n",
    "df = pd.concat(df).reset_index(drop=True)\n"
   ]
  },
  {
   "cell_type": "markdown",
   "id": "5933ffc2-af9c-422a-b8cc-250485a04b48",
   "metadata": {},
   "source": [
    "### Prepare all features input\n"
   ]
  },
  {
   "cell_type": "code",
   "execution_count": 124,
   "id": "38bd8e7e-dc1d-49cb-a4f5-da5264a211a9",
   "metadata": {},
   "outputs": [
    {
     "name": "stdout",
     "output_type": "stream",
     "text": [
      "500 sn both (56, 10)\n"
     ]
    },
    {
     "name": "stderr",
     "output_type": "stream",
     "text": [
      "/tmp/ipykernel_295131/2731316255.py:5: FutureWarning: The default value of regex will change from True to False in a future version.\n",
      "  a = df_metrics.path.str.replace('/lustre/groups/ml01/workspace/ignacio.ibarra/theislab/retina/data/integration_oct_2022/output', '')\n"
     ]
    },
    {
     "name": "stdout",
     "output_type": "stream",
     "text": [
      "500 sn both (44, 10)\n",
      "500 sn+sc both (118, 10)\n",
      "500 sn+sc sc (54, 10)\n",
      "500 sn+sc sn (54, 10)\n",
      "500 sn+sc both (44, 10)\n",
      "500 sn+sc sc (44, 10)\n",
      "500 sn+sc sn (44, 10)\n",
      "all sc both (5, 10)\n",
      "all sc both (13, 10)\n",
      "all sc sc (20, 10)\n",
      "all sc sn (44, 10)\n",
      "all sn both (1, 10)\n",
      "all sn both (2, 10)\n"
     ]
    }
   ],
   "source": [
    "for v, df_metrics in df.groupby(['sample', 'tech_group', 'hvg', 'metrics_subset']):\n",
    "    sample, tech, hvg, metrics = v\n",
    "    print(sample, tech, metrics, df_metrics.shape)\n",
    "    \n",
    "    a = df_metrics.path.str.replace('/lustre/groups/ml01/workspace/ignacio.ibarra/theislab/retina/data/integration_oct_2022/output', '')\n",
    "    new_index = []\n",
    "    for ri, r in df_metrics.iterrows():\n",
    "        # print(r['filename'])\n",
    "        new_index.append(a[ri].replace('/' + r['filename'], '') + '/' + r['method'])\n",
    "        # print(new_index[-1])\n",
    "        # assert False\n",
    "    # assert False\n",
    "    df_metrics['method_table'] = new_index\n",
    "    hm = df_metrics.pivot('method_table', 'metric', 'value')\n",
    "    output_filename = '/lustre/groups/ml01/workspace/ignacio.ibarra/theislab/retina/data/integration_oct_2022/output/%s_%s_%s_subset_%s.csv' % (sample, tech, hvg, metrics) \n",
    "    # print(hm.shape)\n",
    "    # print(output_filename)    \n",
    "    hm.to_csv(output_filename)\n",
    "    # break\n"
   ]
  },
  {
   "cell_type": "markdown",
   "id": "62da0714-17ff-4be4-97f2-727897e06297",
   "metadata": {},
   "source": [
    "### Prepare table with sn subsets"
   ]
  },
  {
   "cell_type": "code",
   "execution_count": 125,
   "id": "108f4a72-af38-417b-a047-4fcf458f4bab",
   "metadata": {},
   "outputs": [
    {
     "name": "stdout",
     "output_type": "stream",
     "text": [
      "500 HVG.1K\n",
      "sn       56\n",
      "sn+sc    54\n",
      "Name: tech_group, dtype: int64\n",
      "\n",
      "/lustre/groups/ml01/workspace/ignacio.ibarra/theislab/retina/data/integration_oct_2022/output/500_HVG.1K_sncombined.csv\n",
      "500 HVG.3K\n",
      "sn       44\n",
      "sn+sc    44\n",
      "Name: tech_group, dtype: int64\n",
      "\n",
      "/lustre/groups/ml01/workspace/ignacio.ibarra/theislab/retina/data/integration_oct_2022/output/500_HVG.3K_sncombined.csv\n"
     ]
    },
    {
     "name": "stderr",
     "output_type": "stream",
     "text": [
      "/tmp/ipykernel_295131/1626089973.py:19: FutureWarning: The default value of regex will change from True to False in a future version.\n",
      "  a = df_metrics.path.str.replace('/lustre/groups/ml01/workspace/ignacio.ibarra/theislab/retina/data/integration_oct_2022/output', '')\n"
     ]
    },
    {
     "name": "stdout",
     "output_type": "stream",
     "text": [
      "all HVG.1K\n",
      "sn    1\n",
      "Name: tech_group, dtype: int64\n",
      "\n",
      "/lustre/groups/ml01/workspace/ignacio.ibarra/theislab/retina/data/integration_oct_2022/output/all_HVG.1K_sncombined.csv\n",
      "all HVG.3K\n",
      "sn    2\n",
      "Name: tech_group, dtype: int64\n",
      "\n",
      "/lustre/groups/ml01/workspace/ignacio.ibarra/theislab/retina/data/integration_oct_2022/output/all_HVG.3K_sncombined.csv\n"
     ]
    }
   ],
   "source": [
    "for sample, df_sample in df.groupby(['sample']):\n",
    "    # if sample != '500':\n",
    "    #     continue\n",
    "    for hvg, df_hvg in df_sample.groupby(['hvg']):      \n",
    "        df1 = df_hvg[(df_hvg['tech_group'] == 'sn')]\n",
    "        df2 = df_hvg[(df_hvg['tech_group'] == 'sn+sc') & (df_hvg['metrics_subset'] == 'sn')]\n",
    "        \n",
    "        df_metrics = pd.concat([df1, df2])        \n",
    "        print(sample, hvg)\n",
    "        print(df_metrics['tech_group'].value_counts())\n",
    "        print('')\n",
    "        \n",
    "        # assert False\n",
    "\n",
    "        # print(sample, tech, hvg, metrics, df_metrics.shape)\n",
    "\n",
    "        # continue\n",
    "\n",
    "        a = df_metrics.path.str.replace('/lustre/groups/ml01/workspace/ignacio.ibarra/theislab/retina/data/integration_oct_2022/output', '')\n",
    "        new_index = []\n",
    "        for ri, r in df_metrics.iterrows():\n",
    "            # print(r['filename'])\n",
    "            k = a[ri].replace('/' + r['filename'], '') + '/' + r['method']\n",
    "            k = k.replace('HVG.1K', 'HVG.1K.' + r['tech_group']).replace(\"+\", \"\")\n",
    "            k = k.replace('HVG.3K', 'HVG.3K.' + r['tech_group']).replace(\"+\", \"\")\n",
    "            new_index.append(k)\n",
    "            # print(new_index[-1])\n",
    "            # assert False\n",
    "        # assert False\n",
    "        df_metrics['method_table'] = new_index\n",
    "        df_metrics['method_table'] = df_metrics['method_table'] # + '_' + df_metrics['tech_group'] + '_' + df_metrics['metrics_subset']\n",
    "        hm = df_metrics.pivot('method_table', 'metric', 'value')\n",
    "        output_filename = '/lustre/groups/ml01/workspace/ignacio.ibarra/theislab/retina/data/integration_oct_2022/output/%s_%s_sncombined.csv' % (sample, hvg) \n",
    "        print(output_filename)\n",
    "        # print(hm.shape)\n",
    "        # print(output_filename)    \n",
    "        hm.to_csv(output_filename)\n",
    "        # break\n"
   ]
  },
  {
   "cell_type": "markdown",
   "id": "dc6d7756-9e2d-4ebf-bdda-82946734a543",
   "metadata": {},
   "source": [
    "### Prepare table with sc subsets"
   ]
  },
  {
   "cell_type": "code",
   "execution_count": 110,
   "id": "5504cb24-d3ae-442a-a594-041b6ae35878",
   "metadata": {},
   "outputs": [
    {
     "name": "stdout",
     "output_type": "stream",
     "text": [
      "500 HVG.1K\n",
      "sn+sc    54\n",
      "Name: tech_group, dtype: int64\n",
      "\n",
      "/lustre/groups/ml01/workspace/ignacio.ibarra/theislab/retina/data/integration_oct_2022/output/500_HVG.1K_sccombined.csv\n",
      "500 HVG.3K\n",
      "sn+sc    44\n",
      "Name: tech_group, dtype: int64\n",
      "\n",
      "/lustre/groups/ml01/workspace/ignacio.ibarra/theislab/retina/data/integration_oct_2022/output/500_HVG.3K_sccombined.csv\n"
     ]
    },
    {
     "name": "stderr",
     "output_type": "stream",
     "text": [
      "/tmp/ipykernel_295131/123308798.py:19: FutureWarning: The default value of regex will change from True to False in a future version.\n",
      "  a = df_metrics.path.str.replace('/lustre/groups/ml01/workspace/ignacio.ibarra/theislab/retina/data/integration_oct_2022/output', '')\n"
     ]
    }
   ],
   "source": [
    "for sample, df_sample in df.groupby(['sample']):\n",
    "    if sample != '500':\n",
    "        continue\n",
    "    for hvg, df_hvg in df_sample.groupby(['hvg']):      \n",
    "        df1 = df_hvg[(df_hvg['tech_group'] == 'sc')]\n",
    "        df2 = df_hvg[(df_hvg['tech_group'] == 'sn+sc') & (df_hvg['metrics_subset'] == 'sc')]\n",
    "        \n",
    "        df_metrics = pd.concat([df1, df2])        \n",
    "        print(sample, hvg)\n",
    "        print(df_metrics['tech_group'].value_counts())\n",
    "        print('')\n",
    "        \n",
    "        # assert False\n",
    "\n",
    "        # print(sample, tech, hvg, metrics, df_metrics.shape)\n",
    "\n",
    "        # continue\n",
    "\n",
    "        a = df_metrics.path.str.replace('/lustre/groups/ml01/workspace/ignacio.ibarra/theislab/retina/data/integration_oct_2022/output', '')\n",
    "        new_index = []\n",
    "        for ri, r in df_metrics.iterrows():\n",
    "            # print(r['filename'])\n",
    "            k = a[ri].replace('/' + r['filename'], '') + '/' + r['method']\n",
    "            k = k.replace('HVG.1K', 'HVG.1K.' + r['tech_group']).replace(\"+\", \"\")\n",
    "            k = k.replace('HVG.3K', 'HVG.3K.' + r['tech_group']).replace(\"+\", \"\")\n",
    "            new_index.append(k)\n",
    "            # print(new_index[-1])\n",
    "            # assert False\n",
    "        # assert False\n",
    "        df_metrics['method_table'] = new_index\n",
    "        df_metrics['method_table'] = df_metrics['method_table'] # + '_' + df_metrics['tech_group'] + '_' + df_metrics['metrics_subset']\n",
    "        hm = df_metrics.pivot('method_table', 'metric', 'value')\n",
    "        output_filename = '/lustre/groups/ml01/workspace/ignacio.ibarra/theislab/retina/data/integration_oct_2022/output/%s_%s_sccombined.csv' % (sample, hvg) \n",
    "        print(output_filename)\n",
    "        # print(hm.shape)\n",
    "        # print(output_filename)    \n",
    "        hm.to_csv(output_filename)\n",
    "        # break\n"
   ]
  }
 ],
 "metadata": {
  "kernelspec": {
   "display_name": "Python [conda env:mypy3]",
   "language": "python",
   "name": "conda-env-mypy3-py"
  },
  "language_info": {
   "codemirror_mode": {
    "name": "ipython",
    "version": 3
   },
   "file_extension": ".py",
   "mimetype": "text/x-python",
   "name": "python",
   "nbconvert_exporter": "python",
   "pygments_lexer": "ipython3",
   "version": "3.8.13"
  }
 },
 "nbformat": 4,
 "nbformat_minor": 5
}
