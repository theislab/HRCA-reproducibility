{
 "cells": [
  {
   "cell_type": "code",
   "execution_count": 8,
   "metadata": {},
   "outputs": [
    {
     "name": "stdout",
     "output_type": "stream",
     "text": [
      "[1] \"here...\"\n"
     ]
    }
   ],
   "source": [
    "print('here...')"
   ]
  },
  {
   "cell_type": "code",
   "execution_count": 7,
   "metadata": {},
   "outputs": [],
   "source": [
    "setwd('/lustre/groups/ml01/workspace/ignacio.ibarra/theislab/HECA-scib-pipeline/R/visualization')"
   ]
  },
  {
   "cell_type": "code",
   "execution_count": 87,
   "metadata": {},
   "outputs": [
    {
     "ename": "ERROR",
     "evalue": "Error in source(\"plotSingleTaskRNA.R\"): plotSingleTaskRNA.R:88:36: unexpected ','\n87:   if(!subset_by_scenario)\n88:       data.scenarios = repeat('all',\n                                       ^\n",
     "output_type": "error",
     "traceback": [
      "Error in source(\"plotSingleTaskRNA.R\"): plotSingleTaskRNA.R:88:36: unexpected ','\n87:   if(!subset_by_scenario)\n88:       data.scenarios = repeat('all',\n                                       ^\nTraceback:\n",
      "1. source(\"plotSingleTaskRNA.R\")"
     ]
    }
   ],
   "source": [
    "# import the functions to plot the respective functions\n",
    "source('plotSingleTaskRNA.R');"
   ]
  },
  {
   "cell_type": "code",
   "execution_count": 10,
   "metadata": {},
   "outputs": [],
   "source": [
    "scib_outdir = '/lustre/groups/ml01/workspace/ignacio.ibarra/theislab/retina/data/integration_oct_2022/output'"
   ]
  },
  {
   "cell_type": "code",
   "execution_count": 29,
   "metadata": {},
   "outputs": [],
   "source": [
    "# df_sel\n",
    "options(width=150)"
   ]
  },
  {
   "cell_type": "code",
   "execution_count": 64,
   "metadata": {},
   "outputs": [
    {
     "name": "stdout",
     "output_type": "stream",
     "text": [
      "[1] \"here...\"\n"
     ]
    }
   ],
   "source": [
    "print('here...')"
   ]
  },
  {
   "cell_type": "code",
   "execution_count": 100,
   "metadata": {},
   "outputs": [
    {
     "name": "stdout",
     "output_type": "stream",
     "text": [
      "[1] \"500_HVG.1K_sccombined.csv\"\n",
      "[1] \"/lustre/groups/ml01/workspace/ignacio.ibarra/theislab/retina/data/integration_oct_2022/output/500_HVG.1K_sccombined.csv\"\n"
     ]
    },
    {
     "name": "stderr",
     "output_type": "stream",
     "text": [
      "The following `from` values were not present in `x`: hvg overlap, trajectory\n",
      "\n"
     ]
    },
    {
     "name": "stdout",
     "output_type": "stream",
     "text": [
      "[1] \"next scenario\"\n",
      "[1] \"retina_500_cells_all_snsc_batch_donor_dataset_cell.type_2022\"\n",
      "\n",
      "\n",
      "\n"
     ]
    },
    {
     "name": "stderr",
     "output_type": "stream",
     "text": [
      "The following `from` values were not present in `x`: hvg, full_feature, HVG.1K, HVG.2K\n",
      "\n"
     ]
    },
    {
     "name": "stdout",
     "output_type": "stream",
     "text": [
      "[1] \"METHODS INFO\"\n",
      "[1] \"retina_500_cells_all_snsc_batch_donor_dataset_cell.type_2022/metrics/unscaled/HVG.1K.snsc/scanvi_E100_L2_H256_embed\"     \n",
      "[2] \"retina_500_cells_all_snsc_batch_donor_dataset_cell.type_2022/metrics/unscaled/HVG.1K.snsc/scanvibatch_E100_L2_H256_embed\"\n",
      "[3] \"retina_500_cells_all_snsc_batch_donor_dataset_cell.type_2022/metrics/unscaled/HVG.1K.snsc/scgen_E100_full\"               \n",
      "[4] \"retina_500_cells_all_snsc_batch_donor_dataset_cell.type_2022/metrics/unscaled/HVG.1K.snsc/scvi_E100_L2_H256_embed\"       \n",
      "[5] \"retina_500_cells_all_snsc_batch_donor_dataset_cell.type_2022/metrics/unscaled/HVG.1K.snsc/scvibatch_E100_L2_H256_embed\"  \n",
      "\n",
      "\n",
      "\n",
      "[1] \"METHODS\"\n",
      "[1] \"scanvi_E100_L2_H256_embed\"      \"scanvibatch_E100_L2_H256_embed\" \"scgen_E100_full\"                \"scvi_E100_L2_H256_embed\"       \n",
      "[5] \"scvibatch_E100_L2_H256_embed\"  \n",
      "\n",
      "\n",
      "\n"
     ]
    },
    {
     "name": "stderr",
     "output_type": "stream",
     "text": [
      "The following `from` values were not present in `x`: Seurat, Seuratrpca, Mnn, Bbknn, Trvae, Liger, Combat, Saucie, Fastmnn, Desc\n",
      "\n"
     ]
    },
    {
     "name": "stdout",
     "output_type": "stream",
     "text": [
      "[1] \"\\n\"\n",
      "[1] \"method names\"\n",
      "[1] \"scanvi_E100_L2_H256_embed\"      \"scanvibatch_E100_L2_H256_embed\" \"scgen_E100_full\"                \"scvi_E100_L2_H256_embed\"       \n",
      "[5] \"scvibatch_E100_L2_H256_embed\"  \n",
      "[1] \"scANVI*\"     \"Scanvibatch\" \"scGen*\"      \"scVI\"        \"Scvibatch\"  \n",
      "\n",
      "\n",
      "\n",
      "[1] \"\\n\"\n",
      "[1] \"method groups\"\n",
      "[1] \"embed\" \"embed\" \"full\"  \"embed\" \"embed\"\n",
      "\n",
      "\n",
      "\n"
     ]
    },
    {
     "name": "stderr",
     "output_type": "stream",
     "text": [
      "The following `from` values were not present in `x`: knn\n",
      "\n"
     ]
    },
    {
     "name": "stdout",
     "output_type": "stream",
     "text": [
      "       Method PCR batch Batch ASW graph iLISI graph connectivity NMI cluster/label ARI cluster/label Cell type ASW isolated label F1\n",
      "1     scANVI* 0.6099780 0.8337565  0.10161489          0.8746661         0.7160983         0.6895698     0.6349481         0.3704776\n",
      "2 Scanvibatch 0.6376069 0.8381244  0.09899246          0.8916166         0.7294795         0.6956381     0.6176089         0.6095238\n",
      "3      scGen* 0.0000000 0.8588450  0.08272218          0.9786630         0.8281532         0.8125805     0.7383440         0.6896350\n",
      "4        scVI 0.6507955 0.8666031  0.10159025          0.8808078         0.6913969         0.6666184     0.5578471         0.3657143\n",
      "5   Scvibatch 0.6620853 0.8718241  0.10278935          0.8743440         0.7142712         0.7098602     0.5520829         0.3737226\n",
      "  isolated label silhouette graph cLISI CC conservation\n",
      "1                 0.5506537           1       0.8259315\n",
      "2                 0.5771999           1       0.8421053\n",
      "3                 0.5333969           1              NA\n",
      "4                 0.5507452           1       0.7695735\n",
      "5                 0.5644266           1       0.7683227\n",
      "integer(0)\n",
      "[1] \"metrics tab\"\n",
      "       Method Output    Features  Scaling Overall Score Batch Correction PCR batch Batch ASW graph iLISI graph connectivity Bio conservation\n",
      "3      scGen*   gene HVG.1K.snsc unscaled     0.5659052        0.4147629 0.0000000 0.8588450  0.08272218          0.9786630       0.66666667\n",
      "2 Scanvibatch  embed HVG.1K.snsc unscaled     0.5124222        0.5135342 0.6376069 0.8381244  0.09899246          0.8916166       0.51168089\n",
      "5   Scvibatch  embed HVG.1K.snsc unscaled     0.4025684        0.7500000 0.6620853 0.8718241  0.10278935          0.8743440       0.17094735\n",
      "1     scANVI*  embed HVG.1K.snsc unscaled     0.3556326        0.4664649 0.6099780 0.8337565  0.10161489          0.8746661       0.28174446\n",
      "4        scVI  embed HVG.1K.snsc unscaled     0.3228535        0.7120013 0.6507955 0.8666031  0.10159025          0.8808078       0.06342163\n",
      "  NMI cluster/label ARI cluster/label Cell type ASW isolated label F1 isolated label silhouette graph cLISI CC conservation\n",
      "3         0.8281532         0.8125805     0.7383440         0.6896350                 0.5333969           1              NA\n",
      "2         0.7294795         0.6956381     0.6176089         0.6095238                 0.5771999           1       0.8421053\n",
      "5         0.7142712         0.7098602     0.5520829         0.3737226                 0.5644266           1       0.7683227\n",
      "1         0.7160983         0.6895698     0.6349481         0.3704776                 0.5506537           1       0.8259315\n",
      "4         0.6913969         0.6666184     0.5578471         0.3657143                 0.5507452           1       0.7695735\n",
      "[1] \"\"\n",
      "[1] \"nan columns\"\n",
      "                          id                    group   geom width overlay\n",
      "1                     Method                     Text   text   8.0   FALSE\n",
      "2                     Output                    Image  image   2.5   FALSE\n",
      "3                   Features                     Text   text   2.0   FALSE\n",
      "4                    Scaling                     Text   text   1.5   FALSE\n",
      "5              Overall Score            Score overall    bar   2.0   FALSE\n",
      "6           Batch Correction Removal of batch effects    bar   2.0   FALSE\n",
      "7                  PCR batch Removal of batch effects circle   1.0   FALSE\n",
      "8                  Batch ASW Removal of batch effects circle   1.0   FALSE\n",
      "9                graph iLISI Removal of batch effects circle   1.0   FALSE\n",
      "10        graph connectivity Removal of batch effects circle   1.0   FALSE\n",
      "11          Bio conservation Cell type label variance    bar   2.0   FALSE\n",
      "12         NMI cluster/label Cell type label variance circle   1.0   FALSE\n",
      "13         ARI cluster/label Cell type label variance circle   1.0   FALSE\n",
      "14             Cell type ASW Cell type label variance circle   1.0   FALSE\n",
      "15         isolated label F1 Cell type label variance circle   1.0   FALSE\n",
      "16 isolated label silhouette Cell type label variance circle   1.0   FALSE\n",
      "17               graph cLISI Cell type label variance circle   1.0   FALSE\n",
      "18           CC conservation Cell type label variance circle   1.0   FALSE\n"
     ]
    },
    {
     "name": "stderr",
     "output_type": "stream",
     "text": [
      "The following `from` values were not present in `x`: scaled\n",
      "\n",
      "The following `from` values were not present in `x`: graph\n",
      "\n",
      "Warning message:\n",
      "“Removed 1 rows containing non-finite values (stat_circle).”\n"
     ]
    },
    {
     "name": "stdout",
     "output_type": "stream",
     "text": [
      "[1] \"500_HVG.1K_sncombined.csv\"\n",
      "[1] \"/lustre/groups/ml01/workspace/ignacio.ibarra/theislab/retina/data/integration_oct_2022/output/500_HVG.1K_sncombined.csv\"\n"
     ]
    },
    {
     "name": "stderr",
     "output_type": "stream",
     "text": [
      "The following `from` values were not present in `x`: trajectory\n",
      "\n"
     ]
    },
    {
     "name": "stdout",
     "output_type": "stream",
     "text": [
      "[1] \"next scenario\"\n",
      "[1] \"retina_500_cells_all_sn_batch_donor_dataset_cell.type_2022\"\n",
      "\n",
      "\n",
      "\n"
     ]
    },
    {
     "name": "stderr",
     "output_type": "stream",
     "text": [
      "The following `from` values were not present in `x`: hvg, full_feature, HVG.1K, HVG.2K\n",
      "\n"
     ]
    },
    {
     "name": "stdout",
     "output_type": "stream",
     "text": [
      "[1] \"METHODS INFO\"\n",
      " [1] \"retina_500_cells_all_sn_batch_donor_dataset_cell.type_2022/metrics/unscaled/HVG.1K.sn/scanvi_E100_L2_H256_embed\"         \n",
      " [2] \"retina_500_cells_all_sn_batch_donor_dataset_cell.type_2022/metrics/unscaled/HVG.1K.sn/scanvibatch_E100_L2_H256_embed\"    \n",
      " [3] \"retina_500_cells_all_sn_batch_donor_dataset_cell.type_2022/metrics/unscaled/HVG.1K.sn/scgen_E100_full\"                   \n",
      " [4] \"retina_500_cells_all_sn_batch_donor_dataset_cell.type_2022/metrics/unscaled/HVG.1K.sn/scvi_E100_L2_H256_embed\"           \n",
      " [5] \"retina_500_cells_all_sn_batch_donor_dataset_cell.type_2022/metrics/unscaled/HVG.1K.sn/scvibatch_E100_L2_H256_embed\"      \n",
      " [6] \"retina_500_cells_all_snsc_batch_donor_dataset_cell.type_2022/metrics/unscaled/HVG.1K.snsc/scanvi_E100_L2_H256_embed\"     \n",
      " [7] \"retina_500_cells_all_snsc_batch_donor_dataset_cell.type_2022/metrics/unscaled/HVG.1K.snsc/scanvibatch_E100_L2_H256_embed\"\n",
      " [8] \"retina_500_cells_all_snsc_batch_donor_dataset_cell.type_2022/metrics/unscaled/HVG.1K.snsc/scgen_E100_full\"               \n",
      " [9] \"retina_500_cells_all_snsc_batch_donor_dataset_cell.type_2022/metrics/unscaled/HVG.1K.snsc/scvi_E100_L2_H256_embed\"       \n",
      "[10] \"retina_500_cells_all_snsc_batch_donor_dataset_cell.type_2022/metrics/unscaled/HVG.1K.snsc/scvibatch_E100_L2_H256_embed\"  \n",
      "\n",
      "\n",
      "\n",
      "[1] \"METHODS\"\n",
      " [1] \"scanvi_E100_L2_H256_embed\"      \"scanvibatch_E100_L2_H256_embed\" \"scgen_E100_full\"                \"scvi_E100_L2_H256_embed\"       \n",
      " [5] \"scvibatch_E100_L2_H256_embed\"   \"scanvi_E100_L2_H256_embed\"      \"scanvibatch_E100_L2_H256_embed\" \"scgen_E100_full\"               \n",
      " [9] \"scvi_E100_L2_H256_embed\"        \"scvibatch_E100_L2_H256_embed\"  \n",
      "\n",
      "\n",
      "\n"
     ]
    },
    {
     "name": "stderr",
     "output_type": "stream",
     "text": [
      "The following `from` values were not present in `x`: Seurat, Seuratrpca, Mnn, Bbknn, Trvae, Liger, Combat, Saucie, Fastmnn, Desc\n",
      "\n"
     ]
    },
    {
     "name": "stdout",
     "output_type": "stream",
     "text": [
      "[1] \"\\n\"\n",
      "[1] \"method names\"\n",
      " [1] \"scanvi_E100_L2_H256_embed\"      \"scanvibatch_E100_L2_H256_embed\" \"scgen_E100_full\"                \"scvi_E100_L2_H256_embed\"       \n",
      " [5] \"scvibatch_E100_L2_H256_embed\"   \"scanvi_E100_L2_H256_embed\"      \"scanvibatch_E100_L2_H256_embed\" \"scgen_E100_full\"               \n",
      " [9] \"scvi_E100_L2_H256_embed\"        \"scvibatch_E100_L2_H256_embed\"  \n",
      " [1] \"scANVI*\"     \"Scanvibatch\" \"scGen*\"      \"scVI\"        \"Scvibatch\"   \"scANVI*\"     \"Scanvibatch\" \"scGen*\"      \"scVI\"        \"Scvibatch\"  \n",
      "\n",
      "\n",
      "\n",
      "[1] \"\\n\"\n",
      "[1] \"method groups\"\n",
      " [1] \"embed\" \"embed\" \"full\"  \"embed\" \"embed\" \"embed\" \"embed\" \"full\"  \"embed\" \"embed\"\n",
      "\n",
      "\n",
      "\n"
     ]
    },
    {
     "name": "stderr",
     "output_type": "stream",
     "text": [
      "The following `from` values were not present in `x`: knn\n",
      "\n"
     ]
    },
    {
     "name": "stdout",
     "output_type": "stream",
     "text": [
      "        Method PCR batch Batch ASW graph iLISI graph connectivity NMI cluster/label ARI cluster/label Cell type ASW isolated label F1\n",
      "1      scANVI* 0.6702801 0.8237598  0.06494749          0.8036858         0.7587704         0.7984551     0.6383119         0.9414414\n",
      "2  Scanvibatch 0.6699607 0.8283267  0.06425959          0.7927736         0.7656581         0.7998925     0.6453059         0.9414414\n",
      "3       scGen* 0.0000000 0.9015178  0.07161653          0.9909666         0.8128270         0.8245743     0.7581123         0.9407975\n",
      "4         scVI 0.6800771 0.8566070  0.06279503          0.8004633         0.7643915         0.8002115     0.5626731         0.9414414\n",
      "5    Scvibatch 0.6667690 0.8592715  0.06263023          0.7978117         0.7883382         0.8135577     0.5667186         0.9414414\n",
      "6      scANVI* 0.6207946 0.8271667  0.06249831          0.7855040         0.7524475         0.8008667     0.6507959         0.9375000\n",
      "7  Scanvibatch 0.6449343 0.8320747  0.05876398          0.8032877         0.7704596         0.8138361     0.6341224         0.9375000\n",
      "8       scGen* 0.0000000 0.8687283  0.05783089          0.9932066         0.7881064         0.8242579     0.7539505         0.9792827\n",
      "9         scVI 0.6373420 0.8642594  0.05832588          0.7869721         0.7581219         0.8110310     0.5639890         0.9375000\n",
      "10   Scvibatch 0.6480099 0.8657839  0.05778931          0.7888771         0.7656508         0.8136185     0.5561253         0.9375000\n",
      "   isolated label silhouette graph cLISI CC conservation HVG conservation\n",
      "1                  0.6083297           1      0.68449217               NA\n",
      "2                  0.6172890           1      0.66602122               NA\n",
      "3                  0.5084124           1      0.08957362        0.5702028\n",
      "4                  0.5791038           1      0.44615893               NA\n",
      "5                  0.5737340           1      0.46835337               NA\n",
      "6                  0.5971621           1      0.70853534               NA\n",
      "7                  0.6157679           1      0.63442617               NA\n",
      "8                  0.5581049           1              NA               NA\n",
      "9                  0.5813044           1      0.46642406               NA\n",
      "10                 0.5890685           1      0.45363255               NA\n",
      "integer(0)\n",
      "[1] \"metrics tab\"\n",
      "        Method Output    Features  Scaling Overall Score Batch Correction PCR batch Batch ASW graph iLISI graph connectivity Bio conservation\n",
      "8       scGen*   gene HVG.1K.snsc unscaled     0.5595593        0.3953301 0.0000000 0.8687283  0.05783089          0.9932066        0.6690454\n",
      "3       scGen*   gene   HVG.1K.sn unscaled     0.5298406        0.7473039 0.0000000 0.9015178  0.07161653          0.9909666        0.3848650\n",
      "5    Scvibatch  embed   HVG.1K.sn unscaled     0.4016199        0.4616211 0.6667690 0.8592715  0.06263023          0.7978117        0.3616192\n",
      "7  Scanvibatch  embed HVG.1K.snsc unscaled     0.3902487        0.3028421 0.6449343 0.8320747  0.05876398          0.8032877        0.4485198\n",
      "2  Scanvibatch  embed   HVG.1K.sn unscaled     0.3896213        0.3866988 0.6699607 0.8283267  0.06425959          0.7927736        0.3915697\n",
      "1      scANVI*  embed   HVG.1K.sn unscaled     0.3720657        0.3977049 0.6702801 0.8237598  0.06494749          0.8036858        0.3549728\n",
      "6      scANVI*  embed HVG.1K.snsc unscaled     0.3333920        0.3243012 0.6207946 0.8271667  0.06249831          0.7855040        0.3394525\n",
      "10   Scvibatch  embed HVG.1K.snsc unscaled     0.3333705        0.3773839 0.6480099 0.8657839  0.05778931          0.7888771        0.3040281\n",
      "4         scVI  embed   HVG.1K.sn unscaled     0.3242638        0.4641177 0.6800771 0.8566070  0.06279503          0.8004633        0.2310279\n",
      "9         scVI  embed HVG.1K.snsc unscaled     0.3126215        0.3759694 0.6373420 0.8642594  0.05832588          0.7869721        0.2703896\n",
      "   NMI cluster/label ARI cluster/label Cell type ASW isolated label F1 isolated label silhouette graph cLISI CC conservation HVG conservation\n",
      "8          0.7881064         0.8242579     0.7539505         0.9792827                 0.5581049           1              NA               NA\n",
      "3          0.8128270         0.8245743     0.7581123         0.9407975                 0.5084124           1      0.08957362        0.5702028\n",
      "5          0.7883382         0.8135577     0.5667186         0.9414414                 0.5737340           1      0.46835337               NA\n",
      "7          0.7704596         0.8138361     0.6341224         0.9375000                 0.6157679           1      0.63442617               NA\n",
      "2          0.7656581         0.7998925     0.6453059         0.9414414                 0.6172890           1      0.66602122               NA\n",
      "1          0.7587704         0.7984551     0.6383119         0.9414414                 0.6083297           1      0.68449217               NA\n",
      "6          0.7524475         0.8008667     0.6507959         0.9375000                 0.5971621           1      0.70853534               NA\n",
      "10         0.7656508         0.8136185     0.5561253         0.9375000                 0.5890685           1      0.45363255               NA\n",
      "4          0.7643915         0.8002115     0.5626731         0.9414414                 0.5791038           1      0.44615893               NA\n",
      "9          0.7581219         0.8110310     0.5639890         0.9375000                 0.5813044           1      0.46642406               NA\n",
      "[1] \"\"\n",
      "[1] \"nan columns\"\n",
      "                          id                    group   geom width overlay\n",
      "1                     Method                     Text   text   8.0   FALSE\n",
      "2                     Output                    Image  image   2.5   FALSE\n",
      "3                   Features                     Text   text   2.0   FALSE\n",
      "4                    Scaling                     Text   text   1.5   FALSE\n",
      "5              Overall Score            Score overall    bar   2.0   FALSE\n",
      "6           Batch Correction Removal of batch effects    bar   2.0   FALSE\n",
      "7                  PCR batch Removal of batch effects circle   1.0   FALSE\n",
      "8                  Batch ASW Removal of batch effects circle   1.0   FALSE\n",
      "9                graph iLISI Removal of batch effects circle   1.0   FALSE\n",
      "10        graph connectivity Removal of batch effects circle   1.0   FALSE\n",
      "11          Bio conservation Cell type label variance    bar   2.0   FALSE\n",
      "12         NMI cluster/label Cell type label variance circle   1.0   FALSE\n",
      "13         ARI cluster/label Cell type label variance circle   1.0   FALSE\n",
      "14             Cell type ASW Cell type label variance circle   1.0   FALSE\n",
      "15         isolated label F1 Cell type label variance circle   1.0   FALSE\n",
      "16 isolated label silhouette Cell type label variance circle   1.0   FALSE\n",
      "17               graph cLISI Cell type label variance circle   1.0   FALSE\n",
      "18           CC conservation Cell type label variance circle   1.0   FALSE\n",
      "19          HVG conservation Cell type label variance circle   1.0   FALSE\n"
     ]
    },
    {
     "name": "stderr",
     "output_type": "stream",
     "text": [
      "The following `from` values were not present in `x`: scaled\n",
      "\n",
      "The following `from` values were not present in `x`: graph\n",
      "\n",
      "Warning message:\n",
      "“Removed 10 rows containing non-finite values (stat_circle).”\n"
     ]
    },
    {
     "name": "stdout",
     "output_type": "stream",
     "text": [
      "[1] \"next scenario\"\n",
      "[1] \"retina_500_cells_all_snsc_batch_donor_dataset_cell.type_2022\"\n",
      "\n",
      "\n",
      "\n"
     ]
    },
    {
     "name": "stderr",
     "output_type": "stream",
     "text": [
      "The following `from` values were not present in `x`: hvg, full_feature, HVG.1K, HVG.2K\n",
      "\n"
     ]
    },
    {
     "name": "stdout",
     "output_type": "stream",
     "text": [
      "[1] \"METHODS INFO\"\n",
      " [1] \"retina_500_cells_all_sn_batch_donor_dataset_cell.type_2022/metrics/unscaled/HVG.1K.sn/scanvi_E100_L2_H256_embed\"         \n",
      " [2] \"retina_500_cells_all_sn_batch_donor_dataset_cell.type_2022/metrics/unscaled/HVG.1K.sn/scanvibatch_E100_L2_H256_embed\"    \n",
      " [3] \"retina_500_cells_all_sn_batch_donor_dataset_cell.type_2022/metrics/unscaled/HVG.1K.sn/scgen_E100_full\"                   \n",
      " [4] \"retina_500_cells_all_sn_batch_donor_dataset_cell.type_2022/metrics/unscaled/HVG.1K.sn/scvi_E100_L2_H256_embed\"           \n",
      " [5] \"retina_500_cells_all_sn_batch_donor_dataset_cell.type_2022/metrics/unscaled/HVG.1K.sn/scvibatch_E100_L2_H256_embed\"      \n",
      " [6] \"retina_500_cells_all_snsc_batch_donor_dataset_cell.type_2022/metrics/unscaled/HVG.1K.snsc/scanvi_E100_L2_H256_embed\"     \n",
      " [7] \"retina_500_cells_all_snsc_batch_donor_dataset_cell.type_2022/metrics/unscaled/HVG.1K.snsc/scanvibatch_E100_L2_H256_embed\"\n",
      " [8] \"retina_500_cells_all_snsc_batch_donor_dataset_cell.type_2022/metrics/unscaled/HVG.1K.snsc/scgen_E100_full\"               \n",
      " [9] \"retina_500_cells_all_snsc_batch_donor_dataset_cell.type_2022/metrics/unscaled/HVG.1K.snsc/scvi_E100_L2_H256_embed\"       \n",
      "[10] \"retina_500_cells_all_snsc_batch_donor_dataset_cell.type_2022/metrics/unscaled/HVG.1K.snsc/scvibatch_E100_L2_H256_embed\"  \n",
      "\n",
      "\n",
      "\n",
      "[1] \"METHODS\"\n",
      " [1] \"scanvi_E100_L2_H256_embed\"      \"scanvibatch_E100_L2_H256_embed\" \"scgen_E100_full\"                \"scvi_E100_L2_H256_embed\"       \n",
      " [5] \"scvibatch_E100_L2_H256_embed\"   \"scanvi_E100_L2_H256_embed\"      \"scanvibatch_E100_L2_H256_embed\" \"scgen_E100_full\"               \n",
      " [9] \"scvi_E100_L2_H256_embed\"        \"scvibatch_E100_L2_H256_embed\"  \n",
      "\n",
      "\n",
      "\n"
     ]
    },
    {
     "name": "stderr",
     "output_type": "stream",
     "text": [
      "The following `from` values were not present in `x`: Seurat, Seuratrpca, Mnn, Bbknn, Trvae, Liger, Combat, Saucie, Fastmnn, Desc\n",
      "\n"
     ]
    },
    {
     "name": "stdout",
     "output_type": "stream",
     "text": [
      "[1] \"\\n\"\n",
      "[1] \"method names\"\n",
      " [1] \"scanvi_E100_L2_H256_embed\"      \"scanvibatch_E100_L2_H256_embed\" \"scgen_E100_full\"                \"scvi_E100_L2_H256_embed\"       \n",
      " [5] \"scvibatch_E100_L2_H256_embed\"   \"scanvi_E100_L2_H256_embed\"      \"scanvibatch_E100_L2_H256_embed\" \"scgen_E100_full\"               \n",
      " [9] \"scvi_E100_L2_H256_embed\"        \"scvibatch_E100_L2_H256_embed\"  \n",
      " [1] \"scANVI*\"     \"Scanvibatch\" \"scGen*\"      \"scVI\"        \"Scvibatch\"   \"scANVI*\"     \"Scanvibatch\" \"scGen*\"      \"scVI\"        \"Scvibatch\"  \n",
      "\n",
      "\n",
      "\n",
      "[1] \"\\n\"\n",
      "[1] \"method groups\"\n",
      " [1] \"embed\" \"embed\" \"full\"  \"embed\" \"embed\" \"embed\" \"embed\" \"full\"  \"embed\" \"embed\"\n",
      "\n",
      "\n",
      "\n"
     ]
    },
    {
     "name": "stderr",
     "output_type": "stream",
     "text": [
      "The following `from` values were not present in `x`: knn\n",
      "\n"
     ]
    },
    {
     "name": "stdout",
     "output_type": "stream",
     "text": [
      "        Method PCR batch Batch ASW graph iLISI graph connectivity NMI cluster/label ARI cluster/label Cell type ASW isolated label F1\n",
      "1      scANVI* 0.6702801 0.8237598  0.06494749          0.8036858         0.7587704         0.7984551     0.6383119         0.9414414\n",
      "2  Scanvibatch 0.6699607 0.8283267  0.06425959          0.7927736         0.7656581         0.7998925     0.6453059         0.9414414\n",
      "3       scGen* 0.0000000 0.9015178  0.07161653          0.9909666         0.8128270         0.8245743     0.7581123         0.9407975\n",
      "4         scVI 0.6800771 0.8566070  0.06279503          0.8004633         0.7643915         0.8002115     0.5626731         0.9414414\n",
      "5    Scvibatch 0.6667690 0.8592715  0.06263023          0.7978117         0.7883382         0.8135577     0.5667186         0.9414414\n",
      "6      scANVI* 0.6207946 0.8271667  0.06249831          0.7855040         0.7524475         0.8008667     0.6507959         0.9375000\n",
      "7  Scanvibatch 0.6449343 0.8320747  0.05876398          0.8032877         0.7704596         0.8138361     0.6341224         0.9375000\n",
      "8       scGen* 0.0000000 0.8687283  0.05783089          0.9932066         0.7881064         0.8242579     0.7539505         0.9792827\n",
      "9         scVI 0.6373420 0.8642594  0.05832588          0.7869721         0.7581219         0.8110310     0.5639890         0.9375000\n",
      "10   Scvibatch 0.6480099 0.8657839  0.05778931          0.7888771         0.7656508         0.8136185     0.5561253         0.9375000\n",
      "   isolated label silhouette graph cLISI CC conservation HVG conservation\n",
      "1                  0.6083297           1      0.68449217               NA\n",
      "2                  0.6172890           1      0.66602122               NA\n",
      "3                  0.5084124           1      0.08957362        0.5702028\n",
      "4                  0.5791038           1      0.44615893               NA\n",
      "5                  0.5737340           1      0.46835337               NA\n",
      "6                  0.5971621           1      0.70853534               NA\n",
      "7                  0.6157679           1      0.63442617               NA\n",
      "8                  0.5581049           1              NA               NA\n",
      "9                  0.5813044           1      0.46642406               NA\n",
      "10                 0.5890685           1      0.45363255               NA\n",
      "integer(0)\n",
      "[1] \"metrics tab\"\n",
      "        Method Output    Features  Scaling Overall Score Batch Correction PCR batch Batch ASW graph iLISI graph connectivity Bio conservation\n",
      "8       scGen*   gene HVG.1K.snsc unscaled     0.5595593        0.3953301 0.0000000 0.8687283  0.05783089          0.9932066        0.6690454\n",
      "3       scGen*   gene   HVG.1K.sn unscaled     0.5298406        0.7473039 0.0000000 0.9015178  0.07161653          0.9909666        0.3848650\n",
      "5    Scvibatch  embed   HVG.1K.sn unscaled     0.4016199        0.4616211 0.6667690 0.8592715  0.06263023          0.7978117        0.3616192\n",
      "7  Scanvibatch  embed HVG.1K.snsc unscaled     0.3902487        0.3028421 0.6449343 0.8320747  0.05876398          0.8032877        0.4485198\n",
      "2  Scanvibatch  embed   HVG.1K.sn unscaled     0.3896213        0.3866988 0.6699607 0.8283267  0.06425959          0.7927736        0.3915697\n",
      "1      scANVI*  embed   HVG.1K.sn unscaled     0.3720657        0.3977049 0.6702801 0.8237598  0.06494749          0.8036858        0.3549728\n",
      "6      scANVI*  embed HVG.1K.snsc unscaled     0.3333920        0.3243012 0.6207946 0.8271667  0.06249831          0.7855040        0.3394525\n",
      "10   Scvibatch  embed HVG.1K.snsc unscaled     0.3333705        0.3773839 0.6480099 0.8657839  0.05778931          0.7888771        0.3040281\n",
      "4         scVI  embed   HVG.1K.sn unscaled     0.3242638        0.4641177 0.6800771 0.8566070  0.06279503          0.8004633        0.2310279\n",
      "9         scVI  embed HVG.1K.snsc unscaled     0.3126215        0.3759694 0.6373420 0.8642594  0.05832588          0.7869721        0.2703896\n",
      "   NMI cluster/label ARI cluster/label Cell type ASW isolated label F1 isolated label silhouette graph cLISI CC conservation HVG conservation\n",
      "8          0.7881064         0.8242579     0.7539505         0.9792827                 0.5581049           1              NA               NA\n",
      "3          0.8128270         0.8245743     0.7581123         0.9407975                 0.5084124           1      0.08957362        0.5702028\n",
      "5          0.7883382         0.8135577     0.5667186         0.9414414                 0.5737340           1      0.46835337               NA\n",
      "7          0.7704596         0.8138361     0.6341224         0.9375000                 0.6157679           1      0.63442617               NA\n",
      "2          0.7656581         0.7998925     0.6453059         0.9414414                 0.6172890           1      0.66602122               NA\n",
      "1          0.7587704         0.7984551     0.6383119         0.9414414                 0.6083297           1      0.68449217               NA\n",
      "6          0.7524475         0.8008667     0.6507959         0.9375000                 0.5971621           1      0.70853534               NA\n",
      "10         0.7656508         0.8136185     0.5561253         0.9375000                 0.5890685           1      0.45363255               NA\n",
      "4          0.7643915         0.8002115     0.5626731         0.9414414                 0.5791038           1      0.44615893               NA\n",
      "9          0.7581219         0.8110310     0.5639890         0.9375000                 0.5813044           1      0.46642406               NA\n",
      "[1] \"\"\n",
      "[1] \"nan columns\"\n",
      "                          id                    group   geom width overlay\n",
      "1                     Method                     Text   text   8.0   FALSE\n",
      "2                     Output                    Image  image   2.5   FALSE\n",
      "3                   Features                     Text   text   2.0   FALSE\n",
      "4                    Scaling                     Text   text   1.5   FALSE\n",
      "5              Overall Score            Score overall    bar   2.0   FALSE\n",
      "6           Batch Correction Removal of batch effects    bar   2.0   FALSE\n",
      "7                  PCR batch Removal of batch effects circle   1.0   FALSE\n",
      "8                  Batch ASW Removal of batch effects circle   1.0   FALSE\n",
      "9                graph iLISI Removal of batch effects circle   1.0   FALSE\n",
      "10        graph connectivity Removal of batch effects circle   1.0   FALSE\n",
      "11          Bio conservation Cell type label variance    bar   2.0   FALSE\n",
      "12         NMI cluster/label Cell type label variance circle   1.0   FALSE\n",
      "13         ARI cluster/label Cell type label variance circle   1.0   FALSE\n",
      "14             Cell type ASW Cell type label variance circle   1.0   FALSE\n",
      "15         isolated label F1 Cell type label variance circle   1.0   FALSE\n",
      "16 isolated label silhouette Cell type label variance circle   1.0   FALSE\n",
      "17               graph cLISI Cell type label variance circle   1.0   FALSE\n",
      "18           CC conservation Cell type label variance circle   1.0   FALSE\n",
      "19          HVG conservation Cell type label variance circle   1.0   FALSE\n"
     ]
    },
    {
     "name": "stderr",
     "output_type": "stream",
     "text": [
      "The following `from` values were not present in `x`: scaled\n",
      "\n",
      "The following `from` values were not present in `x`: graph\n",
      "\n",
      "Warning message:\n",
      "“Removed 10 rows containing non-finite values (stat_circle).”\n"
     ]
    },
    {
     "name": "stdout",
     "output_type": "stream",
     "text": [
      "[1] \"500_HVG.3K_sccombined.csv\"\n",
      "[1] \"/lustre/groups/ml01/workspace/ignacio.ibarra/theislab/retina/data/integration_oct_2022/output/500_HVG.3K_sccombined.csv\"\n"
     ]
    },
    {
     "name": "stderr",
     "output_type": "stream",
     "text": [
      "The following `from` values were not present in `x`: hvg overlap, trajectory\n",
      "\n"
     ]
    },
    {
     "name": "stdout",
     "output_type": "stream",
     "text": [
      "[1] \"next scenario\"\n",
      "[1] \"retina_500_cells_all_snsc_batch_donor_dataset_cell.type_2022\"\n",
      "\n",
      "\n",
      "\n"
     ]
    },
    {
     "name": "stderr",
     "output_type": "stream",
     "text": [
      "The following `from` values were not present in `x`: hvg, full_feature, HVG.1K, HVG.2K\n",
      "\n"
     ]
    },
    {
     "name": "stdout",
     "output_type": "stream",
     "text": [
      "[1] \"METHODS INFO\"\n",
      "[1] \"retina_500_cells_all_snsc_batch_donor_dataset_cell.type_2022/metrics/unscaled/HVG.3K.snsc/scanvi_E100_L2_H256_embed\"     \n",
      "[2] \"retina_500_cells_all_snsc_batch_donor_dataset_cell.type_2022/metrics/unscaled/HVG.3K.snsc/scanvibatch_E100_L2_H256_embed\"\n",
      "[3] \"retina_500_cells_all_snsc_batch_donor_dataset_cell.type_2022/metrics/unscaled/HVG.3K.snsc/scvi_E100_L2_H256_embed\"       \n",
      "[4] \"retina_500_cells_all_snsc_batch_donor_dataset_cell.type_2022/metrics/unscaled/HVG.3K.snsc/scvibatch_E100_L2_H256_embed\"  \n",
      "\n",
      "\n",
      "\n",
      "[1] \"METHODS\"\n",
      "[1] \"scanvi_E100_L2_H256_embed\"      \"scanvibatch_E100_L2_H256_embed\" \"scvi_E100_L2_H256_embed\"        \"scvibatch_E100_L2_H256_embed\"  \n",
      "\n",
      "\n",
      "\n"
     ]
    },
    {
     "name": "stderr",
     "output_type": "stream",
     "text": [
      "The following `from` values were not present in `x`: Seurat, Seuratrpca, Mnn, Bbknn, Trvae, Liger, Combat, Saucie, Fastmnn, Desc, Scgen\n",
      "\n"
     ]
    },
    {
     "name": "stdout",
     "output_type": "stream",
     "text": [
      "[1] \"\\n\"\n",
      "[1] \"method names\"\n",
      "[1] \"scanvi_E100_L2_H256_embed\"      \"scanvibatch_E100_L2_H256_embed\" \"scvi_E100_L2_H256_embed\"        \"scvibatch_E100_L2_H256_embed\"  \n",
      "[1] \"scANVI*\"     \"Scanvibatch\" \"scVI\"        \"Scvibatch\"  \n",
      "\n",
      "\n",
      "\n",
      "[1] \"\\n\"\n",
      "[1] \"method groups\"\n",
      "[1] \"embed\" \"embed\" \"embed\" \"embed\"\n",
      "\n",
      "\n",
      "\n"
     ]
    },
    {
     "name": "stderr",
     "output_type": "stream",
     "text": [
      "The following `from` values were not present in `x`: knn, full\n",
      "\n"
     ]
    },
    {
     "name": "stdout",
     "output_type": "stream",
     "text": [
      "       Method PCR batch Batch ASW graph iLISI graph connectivity NMI cluster/label ARI cluster/label Cell type ASW isolated label F1\n",
      "1     scANVI* 0.5970443 0.8298923  0.09332008          0.8872337         0.7262162         0.6923745     0.6281717         0.4731978\n",
      "2 Scanvibatch 0.6099735 0.8330078  0.09338285          0.8876137         0.6995124         0.6739210     0.6234955         0.4701349\n",
      "3        scVI 0.6177152 0.8558550  0.09207544          0.8978826         0.7080288         0.6782343     0.5657157         0.3620178\n",
      "4   Scvibatch 0.6201847 0.8562426  0.09118548          0.8961315         0.6869862         0.6640615     0.5662303         0.3633678\n",
      "  isolated label silhouette graph cLISI CC conservation\n",
      "1                 0.5676476           1       0.8598520\n",
      "2                 0.5710913           1       0.8609967\n",
      "3                 0.5508696           1       0.7631895\n",
      "4                 0.5691091           1       0.7944358\n",
      "integer(0)\n",
      "[1] \"metrics tab\"\n",
      "       Method Output    Features  Scaling Overall Score Batch Correction PCR batch Batch ASW graph iLISI graph connectivity Bio conservation\n",
      "1     scANVI*  embed HVG.3K.snsc unscaled     0.5958287        0.2428578 0.5970443 0.8298923  0.09332008          0.8872337        0.8311427\n",
      "2 Scanvibatch  embed HVG.3K.snsc unscaled     0.5625604        0.4281622 0.6099735 0.8330078  0.09338285          0.8876137        0.6521592\n",
      "3        scVI  embed HVG.3K.snsc unscaled     0.4172413        0.8208959 0.6177152 0.8558550  0.09207544          0.8978826        0.1481381\n",
      "4   Scvibatch  embed HVG.3K.snsc unscaled     0.3899982        0.7088903 0.6201847 0.8562426  0.09118548          0.8961315        0.1774035\n",
      "  NMI cluster/label ARI cluster/label Cell type ASW isolated label F1 isolated label silhouette graph cLISI CC conservation\n",
      "1         0.7262162         0.6923745     0.6281717         0.4731978                 0.5676476           1       0.8598520\n",
      "2         0.6995124         0.6739210     0.6234955         0.4701349                 0.5710913           1       0.8609967\n",
      "3         0.7080288         0.6782343     0.5657157         0.3620178                 0.5508696           1       0.7631895\n",
      "4         0.6869862         0.6640615     0.5662303         0.3633678                 0.5691091           1       0.7944358\n",
      "[1] \"\"\n",
      "[1] \"nan columns\"\n",
      "                          id                    group   geom width overlay\n",
      "1                     Method                     Text   text   8.0   FALSE\n",
      "2                     Output                    Image  image   2.5   FALSE\n",
      "3                   Features                     Text   text   2.0   FALSE\n",
      "4                    Scaling                     Text   text   1.5   FALSE\n",
      "5              Overall Score            Score overall    bar   2.0   FALSE\n",
      "6           Batch Correction Removal of batch effects    bar   2.0   FALSE\n",
      "7                  PCR batch Removal of batch effects circle   1.0   FALSE\n",
      "8                  Batch ASW Removal of batch effects circle   1.0   FALSE\n",
      "9                graph iLISI Removal of batch effects circle   1.0   FALSE\n",
      "10        graph connectivity Removal of batch effects circle   1.0   FALSE\n",
      "11          Bio conservation Cell type label variance    bar   2.0   FALSE\n",
      "12         NMI cluster/label Cell type label variance circle   1.0   FALSE\n",
      "13         ARI cluster/label Cell type label variance circle   1.0   FALSE\n",
      "14             Cell type ASW Cell type label variance circle   1.0   FALSE\n",
      "15         isolated label F1 Cell type label variance circle   1.0   FALSE\n",
      "16 isolated label silhouette Cell type label variance circle   1.0   FALSE\n",
      "17               graph cLISI Cell type label variance circle   1.0   FALSE\n",
      "18           CC conservation Cell type label variance circle   1.0   FALSE\n"
     ]
    },
    {
     "name": "stderr",
     "output_type": "stream",
     "text": [
      "The following `from` values were not present in `x`: scaled\n",
      "\n",
      "The following `from` values were not present in `x`: graph, gene\n",
      "\n"
     ]
    },
    {
     "name": "stdout",
     "output_type": "stream",
     "text": [
      "[1] \"500_HVG.3K_sncombined.csv\"\n",
      "[1] \"/lustre/groups/ml01/workspace/ignacio.ibarra/theislab/retina/data/integration_oct_2022/output/500_HVG.3K_sncombined.csv\"\n"
     ]
    },
    {
     "name": "stderr",
     "output_type": "stream",
     "text": [
      "The following `from` values were not present in `x`: hvg overlap, trajectory\n",
      "\n"
     ]
    },
    {
     "name": "stdout",
     "output_type": "stream",
     "text": [
      "[1] \"next scenario\"\n",
      "[1] \"retina_500_cells_all_sn_batch_donor_dataset_cell.type_2022\"\n",
      "\n",
      "\n",
      "\n"
     ]
    },
    {
     "name": "stderr",
     "output_type": "stream",
     "text": [
      "The following `from` values were not present in `x`: hvg, full_feature, HVG.1K, HVG.2K\n",
      "\n"
     ]
    },
    {
     "name": "stdout",
     "output_type": "stream",
     "text": [
      "[1] \"METHODS INFO\"\n",
      "[1] \"retina_500_cells_all_sn_batch_donor_dataset_cell.type_2022/metrics/unscaled/HVG.3K.sn/scanvi_E100_L2_H256_embed\"         \n",
      "[2] \"retina_500_cells_all_sn_batch_donor_dataset_cell.type_2022/metrics/unscaled/HVG.3K.sn/scanvibatch_E100_L2_H256_embed\"    \n",
      "[3] \"retina_500_cells_all_sn_batch_donor_dataset_cell.type_2022/metrics/unscaled/HVG.3K.sn/scvi_E100_L2_H256_embed\"           \n",
      "[4] \"retina_500_cells_all_sn_batch_donor_dataset_cell.type_2022/metrics/unscaled/HVG.3K.sn/scvibatch_E100_L2_H256_embed\"      \n",
      "[5] \"retina_500_cells_all_snsc_batch_donor_dataset_cell.type_2022/metrics/unscaled/HVG.3K.snsc/scanvi_E100_L2_H256_embed\"     \n",
      "[6] \"retina_500_cells_all_snsc_batch_donor_dataset_cell.type_2022/metrics/unscaled/HVG.3K.snsc/scanvibatch_E100_L2_H256_embed\"\n",
      "[7] \"retina_500_cells_all_snsc_batch_donor_dataset_cell.type_2022/metrics/unscaled/HVG.3K.snsc/scvi_E100_L2_H256_embed\"       \n",
      "[8] \"retina_500_cells_all_snsc_batch_donor_dataset_cell.type_2022/metrics/unscaled/HVG.3K.snsc/scvibatch_E100_L2_H256_embed\"  \n",
      "\n",
      "\n",
      "\n",
      "[1] \"METHODS\"\n",
      "[1] \"scanvi_E100_L2_H256_embed\"      \"scanvibatch_E100_L2_H256_embed\" \"scvi_E100_L2_H256_embed\"        \"scvibatch_E100_L2_H256_embed\"  \n",
      "[5] \"scanvi_E100_L2_H256_embed\"      \"scanvibatch_E100_L2_H256_embed\" \"scvi_E100_L2_H256_embed\"        \"scvibatch_E100_L2_H256_embed\"  \n",
      "\n",
      "\n",
      "\n"
     ]
    },
    {
     "name": "stderr",
     "output_type": "stream",
     "text": [
      "The following `from` values were not present in `x`: Seurat, Seuratrpca, Mnn, Bbknn, Trvae, Liger, Combat, Saucie, Fastmnn, Desc, Scgen\n",
      "\n"
     ]
    },
    {
     "name": "stdout",
     "output_type": "stream",
     "text": [
      "[1] \"\\n\"\n",
      "[1] \"method names\"\n",
      "[1] \"scanvi_E100_L2_H256_embed\"      \"scanvibatch_E100_L2_H256_embed\" \"scvi_E100_L2_H256_embed\"        \"scvibatch_E100_L2_H256_embed\"  \n",
      "[5] \"scanvi_E100_L2_H256_embed\"      \"scanvibatch_E100_L2_H256_embed\" \"scvi_E100_L2_H256_embed\"        \"scvibatch_E100_L2_H256_embed\"  \n",
      "[1] \"scANVI*\"     \"Scanvibatch\" \"scVI\"        \"Scvibatch\"   \"scANVI*\"     \"Scanvibatch\" \"scVI\"        \"Scvibatch\"  \n",
      "\n",
      "\n",
      "\n",
      "[1] \"\\n\"\n",
      "[1] \"method groups\"\n",
      "[1] \"embed\" \"embed\" \"embed\" \"embed\" \"embed\" \"embed\" \"embed\" \"embed\"\n",
      "\n",
      "\n",
      "\n"
     ]
    },
    {
     "name": "stderr",
     "output_type": "stream",
     "text": [
      "The following `from` values were not present in `x`: knn, full\n",
      "\n"
     ]
    },
    {
     "name": "stdout",
     "output_type": "stream",
     "text": [
      "       Method PCR batch Batch ASW graph iLISI graph connectivity NMI cluster/label ARI cluster/label Cell type ASW isolated label F1\n",
      "1     scANVI* 0.6260611 0.8103510  0.06477353          0.7954529         0.7771050         0.8092383     0.6483705         0.9414414\n",
      "2 Scanvibatch 0.6524978 0.8179246  0.06423189          0.8032355         0.7812073         0.8101113     0.6422514         0.9414414\n",
      "3        scVI 0.6495487 0.8357438  0.06338149          0.7950991         0.7781600         0.8120761     0.5810031         0.9414414\n",
      "4   Scvibatch 0.6450550 0.8488161  0.06284583          0.8036481         0.7891117         0.8125553     0.5808484         0.9414414\n",
      "5     scANVI* 0.5960599 0.8213767  0.05827866          0.7949964         0.7635454         0.8103343     0.6500710         0.9375000\n",
      "6 Scanvibatch 0.6018155 0.8262910  0.05799401          0.7870837         0.7551731         0.8079473     0.6459320         0.9375000\n",
      "7        scVI 0.5922436 0.8522176  0.05675546          0.7882695         0.7634428         0.8117998     0.5779426         0.9375000\n",
      "8   Scvibatch 0.5813593 0.8555230  0.05621676          0.7843253         0.7772836         0.8190611     0.5759258         0.9398664\n",
      "  isolated label silhouette graph cLISI CC conservation\n",
      "1                 0.5983504           1       0.7205762\n",
      "2                 0.5908956           1       0.7199603\n",
      "3                 0.5864923           1       0.5381607\n",
      "4                 0.5888072           1       0.5316440\n",
      "5                 0.6178215           1       0.7108823\n",
      "6                 0.6042367           1       0.7099234\n",
      "7                 0.5840825           1       0.5284059\n",
      "8                 0.5930999           1       0.5187966\n",
      "integer(0)\n",
      "[1] \"metrics tab\"\n",
      "       Method Output    Features  Scaling Overall Score Batch Correction PCR batch Batch ASW graph iLISI graph connectivity Bio conservation\n",
      "2 Scanvibatch  embed   HVG.3K.sn unscaled     0.6558922        0.7707527 0.6524978 0.8179246  0.06423189          0.8032355       0.57931859\n",
      "4   Scvibatch  embed   HVG.3K.sn unscaled     0.5822807        0.8804042 0.6450550 0.8488161  0.06284583          0.8036481       0.38353164\n",
      "1     scANVI*  embed   HVG.3K.sn unscaled     0.5771977        0.5510637 0.6260611 0.8103510  0.06477353          0.7954529       0.59462038\n",
      "3        scVI  embed   HVG.3K.sn unscaled     0.4873864        0.7288911 0.6495487 0.8357438  0.06338149          0.7950991       0.32638321\n",
      "5     scANVI*  embed HVG.3K.snsc unscaled     0.4169745        0.3109886 0.5960599 0.8213767  0.05827866          0.7949964       0.48763173\n",
      "8   Scvibatch  embed HVG.3K.snsc unscaled     0.3159259        0.2500000 0.5813593 0.8555230  0.05621676          0.7843253       0.35987657\n",
      "6 Scanvibatch  embed HVG.3K.snsc unscaled     0.3124090        0.2477214 0.6018155 0.8262910  0.05799401          0.7870837       0.35553418\n",
      "7        scVI  embed HVG.3K.snsc unscaled     0.1917025        0.3367273 0.5922436 0.8522176  0.05675546          0.7882695       0.09501937\n",
      "  NMI cluster/label ARI cluster/label Cell type ASW isolated label F1 isolated label silhouette graph cLISI CC conservation\n",
      "2         0.7812073         0.8101113     0.6422514         0.9414414                 0.5908956           1       0.7199603\n",
      "4         0.7891117         0.8125553     0.5808484         0.9414414                 0.5888072           1       0.5316440\n",
      "1         0.7771050         0.8092383     0.6483705         0.9414414                 0.5983504           1       0.7205762\n",
      "3         0.7781600         0.8120761     0.5810031         0.9414414                 0.5864923           1       0.5381607\n",
      "5         0.7635454         0.8103343     0.6500710         0.9375000                 0.6178215           1       0.7108823\n",
      "8         0.7772836         0.8190611     0.5759258         0.9398664                 0.5930999           1       0.5187966\n",
      "6         0.7551731         0.8079473     0.6459320         0.9375000                 0.6042367           1       0.7099234\n",
      "7         0.7634428         0.8117998     0.5779426         0.9375000                 0.5840825           1       0.5284059\n",
      "[1] \"\"\n",
      "[1] \"nan columns\"\n",
      "                          id                    group   geom width overlay\n",
      "1                     Method                     Text   text   8.0   FALSE\n",
      "2                     Output                    Image  image   2.5   FALSE\n",
      "3                   Features                     Text   text   2.0   FALSE\n",
      "4                    Scaling                     Text   text   1.5   FALSE\n",
      "5              Overall Score            Score overall    bar   2.0   FALSE\n",
      "6           Batch Correction Removal of batch effects    bar   2.0   FALSE\n",
      "7                  PCR batch Removal of batch effects circle   1.0   FALSE\n",
      "8                  Batch ASW Removal of batch effects circle   1.0   FALSE\n",
      "9                graph iLISI Removal of batch effects circle   1.0   FALSE\n",
      "10        graph connectivity Removal of batch effects circle   1.0   FALSE\n",
      "11          Bio conservation Cell type label variance    bar   2.0   FALSE\n",
      "12         NMI cluster/label Cell type label variance circle   1.0   FALSE\n",
      "13         ARI cluster/label Cell type label variance circle   1.0   FALSE\n",
      "14             Cell type ASW Cell type label variance circle   1.0   FALSE\n",
      "15         isolated label F1 Cell type label variance circle   1.0   FALSE\n",
      "16 isolated label silhouette Cell type label variance circle   1.0   FALSE\n",
      "17               graph cLISI Cell type label variance circle   1.0   FALSE\n",
      "18           CC conservation Cell type label variance circle   1.0   FALSE\n"
     ]
    },
    {
     "name": "stderr",
     "output_type": "stream",
     "text": [
      "The following `from` values were not present in `x`: scaled\n",
      "\n",
      "The following `from` values were not present in `x`: graph, gene\n",
      "\n"
     ]
    },
    {
     "name": "stdout",
     "output_type": "stream",
     "text": [
      "[1] \"next scenario\"\n",
      "[1] \"retina_500_cells_all_snsc_batch_donor_dataset_cell.type_2022\"\n",
      "\n",
      "\n",
      "\n"
     ]
    },
    {
     "name": "stderr",
     "output_type": "stream",
     "text": [
      "The following `from` values were not present in `x`: hvg, full_feature, HVG.1K, HVG.2K\n",
      "\n"
     ]
    },
    {
     "name": "stdout",
     "output_type": "stream",
     "text": [
      "[1] \"METHODS INFO\"\n",
      "[1] \"retina_500_cells_all_sn_batch_donor_dataset_cell.type_2022/metrics/unscaled/HVG.3K.sn/scanvi_E100_L2_H256_embed\"         \n",
      "[2] \"retina_500_cells_all_sn_batch_donor_dataset_cell.type_2022/metrics/unscaled/HVG.3K.sn/scanvibatch_E100_L2_H256_embed\"    \n",
      "[3] \"retina_500_cells_all_sn_batch_donor_dataset_cell.type_2022/metrics/unscaled/HVG.3K.sn/scvi_E100_L2_H256_embed\"           \n",
      "[4] \"retina_500_cells_all_sn_batch_donor_dataset_cell.type_2022/metrics/unscaled/HVG.3K.sn/scvibatch_E100_L2_H256_embed\"      \n",
      "[5] \"retina_500_cells_all_snsc_batch_donor_dataset_cell.type_2022/metrics/unscaled/HVG.3K.snsc/scanvi_E100_L2_H256_embed\"     \n",
      "[6] \"retina_500_cells_all_snsc_batch_donor_dataset_cell.type_2022/metrics/unscaled/HVG.3K.snsc/scanvibatch_E100_L2_H256_embed\"\n",
      "[7] \"retina_500_cells_all_snsc_batch_donor_dataset_cell.type_2022/metrics/unscaled/HVG.3K.snsc/scvi_E100_L2_H256_embed\"       \n",
      "[8] \"retina_500_cells_all_snsc_batch_donor_dataset_cell.type_2022/metrics/unscaled/HVG.3K.snsc/scvibatch_E100_L2_H256_embed\"  \n",
      "\n",
      "\n",
      "\n",
      "[1] \"METHODS\"\n",
      "[1] \"scanvi_E100_L2_H256_embed\"      \"scanvibatch_E100_L2_H256_embed\" \"scvi_E100_L2_H256_embed\"        \"scvibatch_E100_L2_H256_embed\"  \n",
      "[5] \"scanvi_E100_L2_H256_embed\"      \"scanvibatch_E100_L2_H256_embed\" \"scvi_E100_L2_H256_embed\"        \"scvibatch_E100_L2_H256_embed\"  \n",
      "\n",
      "\n",
      "\n"
     ]
    },
    {
     "name": "stderr",
     "output_type": "stream",
     "text": [
      "The following `from` values were not present in `x`: Seurat, Seuratrpca, Mnn, Bbknn, Trvae, Liger, Combat, Saucie, Fastmnn, Desc, Scgen\n",
      "\n"
     ]
    },
    {
     "name": "stdout",
     "output_type": "stream",
     "text": [
      "[1] \"\\n\"\n",
      "[1] \"method names\"\n",
      "[1] \"scanvi_E100_L2_H256_embed\"      \"scanvibatch_E100_L2_H256_embed\" \"scvi_E100_L2_H256_embed\"        \"scvibatch_E100_L2_H256_embed\"  \n",
      "[5] \"scanvi_E100_L2_H256_embed\"      \"scanvibatch_E100_L2_H256_embed\" \"scvi_E100_L2_H256_embed\"        \"scvibatch_E100_L2_H256_embed\"  \n",
      "[1] \"scANVI*\"     \"Scanvibatch\" \"scVI\"        \"Scvibatch\"   \"scANVI*\"     \"Scanvibatch\" \"scVI\"        \"Scvibatch\"  \n",
      "\n",
      "\n",
      "\n",
      "[1] \"\\n\"\n",
      "[1] \"method groups\"\n",
      "[1] \"embed\" \"embed\" \"embed\" \"embed\" \"embed\" \"embed\" \"embed\" \"embed\"\n",
      "\n",
      "\n",
      "\n"
     ]
    },
    {
     "name": "stderr",
     "output_type": "stream",
     "text": [
      "The following `from` values were not present in `x`: knn, full\n",
      "\n"
     ]
    },
    {
     "name": "stdout",
     "output_type": "stream",
     "text": [
      "       Method PCR batch Batch ASW graph iLISI graph connectivity NMI cluster/label ARI cluster/label Cell type ASW isolated label F1\n",
      "1     scANVI* 0.6260611 0.8103510  0.06477353          0.7954529         0.7771050         0.8092383     0.6483705         0.9414414\n",
      "2 Scanvibatch 0.6524978 0.8179246  0.06423189          0.8032355         0.7812073         0.8101113     0.6422514         0.9414414\n",
      "3        scVI 0.6495487 0.8357438  0.06338149          0.7950991         0.7781600         0.8120761     0.5810031         0.9414414\n",
      "4   Scvibatch 0.6450550 0.8488161  0.06284583          0.8036481         0.7891117         0.8125553     0.5808484         0.9414414\n",
      "5     scANVI* 0.5960599 0.8213767  0.05827866          0.7949964         0.7635454         0.8103343     0.6500710         0.9375000\n",
      "6 Scanvibatch 0.6018155 0.8262910  0.05799401          0.7870837         0.7551731         0.8079473     0.6459320         0.9375000\n",
      "7        scVI 0.5922436 0.8522176  0.05675546          0.7882695         0.7634428         0.8117998     0.5779426         0.9375000\n",
      "8   Scvibatch 0.5813593 0.8555230  0.05621676          0.7843253         0.7772836         0.8190611     0.5759258         0.9398664\n",
      "  isolated label silhouette graph cLISI CC conservation\n",
      "1                 0.5983504           1       0.7205762\n",
      "2                 0.5908956           1       0.7199603\n",
      "3                 0.5864923           1       0.5381607\n",
      "4                 0.5888072           1       0.5316440\n",
      "5                 0.6178215           1       0.7108823\n",
      "6                 0.6042367           1       0.7099234\n",
      "7                 0.5840825           1       0.5284059\n",
      "8                 0.5930999           1       0.5187966\n",
      "integer(0)\n",
      "[1] \"metrics tab\"\n",
      "       Method Output    Features  Scaling Overall Score Batch Correction PCR batch Batch ASW graph iLISI graph connectivity Bio conservation\n",
      "2 Scanvibatch  embed   HVG.3K.sn unscaled     0.6558922        0.7707527 0.6524978 0.8179246  0.06423189          0.8032355       0.57931859\n",
      "4   Scvibatch  embed   HVG.3K.sn unscaled     0.5822807        0.8804042 0.6450550 0.8488161  0.06284583          0.8036481       0.38353164\n",
      "1     scANVI*  embed   HVG.3K.sn unscaled     0.5771977        0.5510637 0.6260611 0.8103510  0.06477353          0.7954529       0.59462038\n",
      "3        scVI  embed   HVG.3K.sn unscaled     0.4873864        0.7288911 0.6495487 0.8357438  0.06338149          0.7950991       0.32638321\n",
      "5     scANVI*  embed HVG.3K.snsc unscaled     0.4169745        0.3109886 0.5960599 0.8213767  0.05827866          0.7949964       0.48763173\n",
      "8   Scvibatch  embed HVG.3K.snsc unscaled     0.3159259        0.2500000 0.5813593 0.8555230  0.05621676          0.7843253       0.35987657\n",
      "6 Scanvibatch  embed HVG.3K.snsc unscaled     0.3124090        0.2477214 0.6018155 0.8262910  0.05799401          0.7870837       0.35553418\n",
      "7        scVI  embed HVG.3K.snsc unscaled     0.1917025        0.3367273 0.5922436 0.8522176  0.05675546          0.7882695       0.09501937\n",
      "  NMI cluster/label ARI cluster/label Cell type ASW isolated label F1 isolated label silhouette graph cLISI CC conservation\n",
      "2         0.7812073         0.8101113     0.6422514         0.9414414                 0.5908956           1       0.7199603\n",
      "4         0.7891117         0.8125553     0.5808484         0.9414414                 0.5888072           1       0.5316440\n",
      "1         0.7771050         0.8092383     0.6483705         0.9414414                 0.5983504           1       0.7205762\n",
      "3         0.7781600         0.8120761     0.5810031         0.9414414                 0.5864923           1       0.5381607\n",
      "5         0.7635454         0.8103343     0.6500710         0.9375000                 0.6178215           1       0.7108823\n",
      "8         0.7772836         0.8190611     0.5759258         0.9398664                 0.5930999           1       0.5187966\n",
      "6         0.7551731         0.8079473     0.6459320         0.9375000                 0.6042367           1       0.7099234\n",
      "7         0.7634428         0.8117998     0.5779426         0.9375000                 0.5840825           1       0.5284059\n",
      "[1] \"\"\n",
      "[1] \"nan columns\"\n",
      "                          id                    group   geom width overlay\n",
      "1                     Method                     Text   text   8.0   FALSE\n",
      "2                     Output                    Image  image   2.5   FALSE\n",
      "3                   Features                     Text   text   2.0   FALSE\n",
      "4                    Scaling                     Text   text   1.5   FALSE\n",
      "5              Overall Score            Score overall    bar   2.0   FALSE\n",
      "6           Batch Correction Removal of batch effects    bar   2.0   FALSE\n",
      "7                  PCR batch Removal of batch effects circle   1.0   FALSE\n",
      "8                  Batch ASW Removal of batch effects circle   1.0   FALSE\n",
      "9                graph iLISI Removal of batch effects circle   1.0   FALSE\n",
      "10        graph connectivity Removal of batch effects circle   1.0   FALSE\n",
      "11          Bio conservation Cell type label variance    bar   2.0   FALSE\n",
      "12         NMI cluster/label Cell type label variance circle   1.0   FALSE\n",
      "13         ARI cluster/label Cell type label variance circle   1.0   FALSE\n",
      "14             Cell type ASW Cell type label variance circle   1.0   FALSE\n",
      "15         isolated label F1 Cell type label variance circle   1.0   FALSE\n",
      "16 isolated label silhouette Cell type label variance circle   1.0   FALSE\n",
      "17               graph cLISI Cell type label variance circle   1.0   FALSE\n",
      "18           CC conservation Cell type label variance circle   1.0   FALSE\n"
     ]
    },
    {
     "name": "stderr",
     "output_type": "stream",
     "text": [
      "The following `from` values were not present in `x`: scaled\n",
      "\n",
      "The following `from` values were not present in `x`: graph, gene\n",
      "\n"
     ]
    },
    {
     "name": "stdout",
     "output_type": "stream",
     "text": [
      "[1] \"500_sn_HVG.1K_subset_both.csv\"\n",
      "[1] \"/lustre/groups/ml01/workspace/ignacio.ibarra/theislab/retina/data/integration_oct_2022/output/500_sn_HVG.1K_subset_both.csv\"\n",
      "[1] \"500_sn_HVG.3K_subset_both.csv\"\n",
      "[1] \"/lustre/groups/ml01/workspace/ignacio.ibarra/theislab/retina/data/integration_oct_2022/output/500_sn_HVG.3K_subset_both.csv\"\n",
      "[1] \"500_sn+sc_HVG.1K_subset_both.csv\"\n",
      "[1] \"/lustre/groups/ml01/workspace/ignacio.ibarra/theislab/retina/data/integration_oct_2022/output/500_sn+sc_HVG.1K_subset_both.csv\"\n",
      "[1] \"500_sn+sc_HVG.1K_subset_sc.csv\"\n",
      "[1] \"/lustre/groups/ml01/workspace/ignacio.ibarra/theislab/retina/data/integration_oct_2022/output/500_sn+sc_HVG.1K_subset_sc.csv\"\n",
      "[1] \"500_sn+sc_HVG.1K_subset_sn.csv\"\n",
      "[1] \"/lustre/groups/ml01/workspace/ignacio.ibarra/theislab/retina/data/integration_oct_2022/output/500_sn+sc_HVG.1K_subset_sn.csv\"\n",
      "[1] \"500_sn+sc_HVG.3K_subset_both.csv\"\n",
      "[1] \"/lustre/groups/ml01/workspace/ignacio.ibarra/theislab/retina/data/integration_oct_2022/output/500_sn+sc_HVG.3K_subset_both.csv\"\n",
      "[1] \"500_sn+sc_HVG.3K_subset_sc.csv\"\n",
      "[1] \"/lustre/groups/ml01/workspace/ignacio.ibarra/theislab/retina/data/integration_oct_2022/output/500_sn+sc_HVG.3K_subset_sc.csv\"\n",
      "[1] \"500_sn+sc_HVG.3K_subset_sn.csv\"\n",
      "[1] \"/lustre/groups/ml01/workspace/ignacio.ibarra/theislab/retina/data/integration_oct_2022/output/500_sn+sc_HVG.3K_subset_sn.csv\"\n",
      "[1] \"all_HVG.1K_sncombined.csv\"\n",
      "[1] \"/lustre/groups/ml01/workspace/ignacio.ibarra/theislab/retina/data/integration_oct_2022/output/all_HVG.1K_sncombined.csv\"\n"
     ]
    },
    {
     "name": "stderr",
     "output_type": "stream",
     "text": [
      "The following `from` values were not present in `x`: ASW label, ASW label/batch, cell cycle conservation, hvg overlap, trajectory, iLISI, cLISI\n",
      "\n"
     ]
    },
    {
     "name": "stdout",
     "output_type": "stream",
     "text": [
      "[1] \"next scenario\"\n",
      "[1] \"retina_all_cells_all_sn_batch_donor_dataset_cell.type_2022\"\n",
      "\n",
      "\n",
      "\n"
     ]
    },
    {
     "name": "stderr",
     "output_type": "stream",
     "text": [
      "The following `from` values were not present in `x`: hvg, full_feature, HVG.1K, HVG.2K\n",
      "\n"
     ]
    },
    {
     "name": "stdout",
     "output_type": "stream",
     "text": [
      "[1] \"METHODS INFO\"\n",
      "[1] \"retina_all_cells_all_sn_batch_donor_dataset_cell.type_2022/metrics/unscaled/HVG.1K.sn/scvi_E100_L2_H256_embed\"\n",
      "\n",
      "\n",
      "\n",
      "[1] \"METHODS\"\n",
      "[1] \"scvi_E100_L2_H256_embed\"\n",
      "\n",
      "\n",
      "\n"
     ]
    },
    {
     "name": "stderr",
     "output_type": "stream",
     "text": [
      "The following `from` values were not present in `x`: Seurat, Seuratrpca, Mnn, Bbknn, Trvae, Liger, Combat, Saucie, Fastmnn, Desc, Scanvi, Scgen\n",
      "\n"
     ]
    },
    {
     "name": "stdout",
     "output_type": "stream",
     "text": [
      "[1] \"\\n\"\n",
      "[1] \"method names\"\n",
      "[1] \"scvi_E100_L2_H256_embed\"\n",
      "[1] \"scVI\"\n",
      "\n",
      "\n",
      "\n",
      "[1] \"\\n\"\n",
      "[1] \"method groups\"\n",
      "[1] \"embed\"\n",
      "\n",
      "\n",
      "\n"
     ]
    },
    {
     "name": "stderr",
     "output_type": "stream",
     "text": [
      "The following `from` values were not present in `x`: knn, full\n",
      "\n"
     ]
    },
    {
     "name": "stdout",
     "output_type": "stream",
     "text": [
      "  Method graph connectivity\n",
      "1   scVI          0.7833902\n",
      "[1] \"all_HVG.3K_sncombined.csv\"\n",
      "[1] \"/lustre/groups/ml01/workspace/ignacio.ibarra/theislab/retina/data/integration_oct_2022/output/all_HVG.3K_sncombined.csv\"\n"
     ]
    },
    {
     "name": "stderr",
     "output_type": "stream",
     "text": [
      "The following `from` values were not present in `x`: ASW label, ASW label/batch, cell cycle conservation, hvg overlap, trajectory, iLISI, cLISI\n",
      "\n"
     ]
    },
    {
     "name": "stdout",
     "output_type": "stream",
     "text": [
      "[1] \"next scenario\"\n",
      "[1] \"retina_all_cells_all_sn_batch_donor_dataset_cell.type_2022\"\n",
      "\n",
      "\n",
      "\n"
     ]
    },
    {
     "name": "stderr",
     "output_type": "stream",
     "text": [
      "The following `from` values were not present in `x`: hvg, full_feature, HVG.1K, HVG.2K\n",
      "\n"
     ]
    },
    {
     "name": "stdout",
     "output_type": "stream",
     "text": [
      "[1] \"METHODS INFO\"\n",
      "[1] \"retina_all_cells_all_sn_batch_donor_dataset_cell.type_2022/metrics/unscaled/HVG.3K.sn/scanvibatch_E100_L2_H256_embed\"\n",
      "[2] \"retina_all_cells_all_sn_batch_donor_dataset_cell.type_2022/metrics/unscaled/HVG.3K.sn/scvi_E100_L2_H256_embed\"       \n",
      "\n",
      "\n",
      "\n",
      "[1] \"METHODS\"\n",
      "[1] \"scanvibatch_E100_L2_H256_embed\" \"scvi_E100_L2_H256_embed\"       \n",
      "\n",
      "\n",
      "\n"
     ]
    },
    {
     "name": "stderr",
     "output_type": "stream",
     "text": [
      "The following `from` values were not present in `x`: Seurat, Seuratrpca, Mnn, Bbknn, Trvae, Liger, Combat, Saucie, Fastmnn, Desc, Scanvi, Scgen\n",
      "\n"
     ]
    },
    {
     "name": "stdout",
     "output_type": "stream",
     "text": [
      "[1] \"\\n\"\n",
      "[1] \"method names\"\n",
      "[1] \"scanvibatch_E100_L2_H256_embed\" \"scvi_E100_L2_H256_embed\"       \n",
      "[1] \"Scanvibatch\" \"scVI\"       \n",
      "\n",
      "\n",
      "\n",
      "[1] \"\\n\"\n",
      "[1] \"method groups\"\n",
      "[1] \"embed\" \"embed\"\n",
      "\n",
      "\n",
      "\n"
     ]
    },
    {
     "name": "stderr",
     "output_type": "stream",
     "text": [
      "The following `from` values were not present in `x`: knn, full\n",
      "\n"
     ]
    },
    {
     "name": "stdout",
     "output_type": "stream",
     "text": [
      "       Method graph connectivity\n",
      "1 Scanvibatch          0.7153326\n",
      "2        scVI          0.6319214\n",
      "[1] \"all_sc_HVG.1K_subset_both.csv\"\n",
      "[1] \"/lustre/groups/ml01/workspace/ignacio.ibarra/theislab/retina/data/integration_oct_2022/output/all_sc_HVG.1K_subset_both.csv\"\n",
      "[1] \"all_sc_HVG.3K_subset_both.csv\"\n",
      "[1] \"/lustre/groups/ml01/workspace/ignacio.ibarra/theislab/retina/data/integration_oct_2022/output/all_sc_HVG.3K_subset_both.csv\"\n",
      "[1] \"all_sc_HVG.3K_subset_sc.csv\"\n",
      "[1] \"/lustre/groups/ml01/workspace/ignacio.ibarra/theislab/retina/data/integration_oct_2022/output/all_sc_HVG.3K_subset_sc.csv\"\n",
      "[1] \"all_sc_HVG.3K_subset_sn.csv\"\n",
      "[1] \"/lustre/groups/ml01/workspace/ignacio.ibarra/theislab/retina/data/integration_oct_2022/output/all_sc_HVG.3K_subset_sn.csv\"\n",
      "[1] \"all_sn_HVG.1K_subset_both.csv\"\n",
      "[1] \"/lustre/groups/ml01/workspace/ignacio.ibarra/theislab/retina/data/integration_oct_2022/output/all_sn_HVG.1K_subset_both.csv\"\n",
      "[1] \"all_sn_HVG.3K_subset_both.csv\"\n",
      "[1] \"/lustre/groups/ml01/workspace/ignacio.ibarra/theislab/retina/data/integration_oct_2022/output/all_sn_HVG.3K_subset_both.csv\"\n"
     ]
    }
   ],
   "source": [
    "source('plotSingleTaskRNA.R');\n",
    "\n",
    "for(f in list.files('/lustre/groups/ml01/workspace/ignacio.ibarra/theislab/retina/data/integration_oct_2022/output')){\n",
    "    \n",
    "    if(endsWith(f, '.csv') == FALSE)\n",
    "        next\n",
    "    print(f)\n",
    "    \n",
    "    # stopifnot(1 > 2)\n",
    "    # df_sel <- read.table(metrics_path_all, sep=',', header=T, row.names=1) #  row.names=1)\n",
    "    # print(nrow(df))\n",
    "    \n",
    "#     rownames(df_sel) <- str_replace(rownames(df_sel), '_E', ':E')\n",
    "#     rownames(df_sel) <- str_replace(rownames(df_sel), '_L', ':L')\n",
    "#     rownames(df_sel) <- str_replace(rownames(df_sel), '_H', ':H')\n",
    "#     rownames(df_sel)\n",
    "\n",
    "    # print(c(dim(df_sel), nrow(df_sel)))\n",
    "    # print(head(df_sel))\n",
    "    p = paste0(metrics_path_all)\n",
    "\n",
    "    # metrics_path_hvg <- str_replace(f, '.csv', '.pdf')\n",
    "    metrics_path_hvg <- paste0('/lustre/groups/ml01/workspace/ignacio.ibarra/theislab/retina/data/integration_oct_2022/output/', f)\n",
    "    print(metrics_path_hvg)\n",
    "    # next\n",
    "    # next\n",
    "    # print(metrics_path_hvg)\n",
    "    # write.csv(df_sel, metrics_path_hvg, quote=F)\n",
    "    # print(metrics_path_hvg)\n",
    "    # stopifnot(1 > 2)\n",
    "    # import the functions to plot the respective functions\n",
    "    subset_by_scenario <- !grepl('combined.csv', f)\n",
    "    \n",
    "    if(subset_by_scenario)\n",
    "        next\n",
    "    \n",
    "    skip_to_next <- FALSE\n",
    "    tryCatch(plotSingleTaskRNA(metrics_path_hvg, outdir=scib_outdir, hvg_key=str_replace(f, '.csv', ''), subset_by_scenario=subset_by_scenario),\n",
    "             error = function(e) { skip_to_next <<- TRUE})\n",
    "    if(skip_to_next){\n",
    "        next\n",
    "    }\n",
    "    # break\n",
    "}"
   ]
  },
  {
   "cell_type": "code",
   "execution_count": 5,
   "metadata": {},
   "outputs": [
    {
     "name": "stdout",
     "output_type": "stream",
     "text": [
      "[1] \"retina_all_cells_all\" \"0\"                    \"11\"                  \n",
      "[1] \"retina_all_cells_all\" \"9\"                    \"11\"                  \n"
     ]
    },
    {
     "ename": "ERROR",
     "evalue": "Error in str_replace(rownames(df_sel), \"_E\", \":E\"): could not find function \"str_replace\"\n",
     "output_type": "error",
     "traceback": [
      "Error in str_replace(rownames(df_sel), \"_E\", \":E\"): could not find function \"str_replace\"\nTraceback:\n"
     ]
    }
   ],
   "source": [
    "for(group in c('retina_all_cells_all')){\n",
    "    for(k in c('HVG.1K', 'HVG.3K')){\n",
    "        df_sel <- df[grepl(k, rownames(df)) == T,]\n",
    "        print(c(group, dim(df_sel)))\n",
    "#         df_sel <- df_sel[grepl(group, rownames(df_sel)) == T,]\n",
    "        \n",
    "#         print(c(k, group, dim(df_sel)))\n",
    "        # if(nrow(df_sel) == 0){\n",
    "        #     next            \n",
    "        # }\n",
    "        if(nrow(df_sel) == 0)\n",
    "            next\n",
    "        rownames(df_sel) <- str_replace(rownames(df_sel), '_E', ':E')\n",
    "        rownames(df_sel) <- str_replace(rownames(df_sel), '_L', ':L')\n",
    "        rownames(df_sel) <- str_replace(rownames(df_sel), '_H', ':H')\n",
    "        rownames(df_sel)\n",
    "        \n",
    "        print(c(dim(df_sel), nrow(df_sel)))\n",
    "        # print(head(df_sel))\n",
    "        p = paste0(metrics_path_all)\n",
    "        \n",
    "        metrics_path_hvg <- str_replace(metrics_path_all, '.csv', paste0('_', k, '.csv'))\n",
    "        # print(metrics_path_hvg)\n",
    "        # write.csv(df_sel, metrics_path_hvg, quote=F)\n",
    "\n",
    "        # print(metrics_path_hvg)\n",
    "        # stopifnot(1 > 2)\n",
    "        # import the functions to plot the respective functions\n",
    "        source('plotSingleTaskRNA.R');\n",
    "        plotSingleTaskRNA(metrics_path_hvg, outdir=scib_outdir, hvg_key=paste0(group, \"_\", k))\n",
    "    }    \n",
    "}\n"
   ]
  },
  {
   "cell_type": "code",
   "execution_count": null,
   "metadata": {},
   "outputs": [],
   "source": [
    "print('here...')"
   ]
  },
  {
   "cell_type": "code",
   "execution_count": null,
   "metadata": {},
   "outputs": [],
   "source": [
    "# import the functions to plot the respective functions\n",
    "source('plotSingleTaskRNA.R');\n",
    "plotSingleTaskRNA(metrics_path, outdir=scib_outdir)"
   ]
  },
  {
   "cell_type": "code",
   "execution_count": null,
   "metadata": {},
   "outputs": [],
   "source": [
    "print('here...')"
   ]
  },
  {
   "cell_type": "code",
   "execution_count": null,
   "metadata": {},
   "outputs": [],
   "source": [
    "for(k in c(250)){ # , 500, 1000, 'all')){\n",
    "    for(batch_label in c('batch_donor_dataset')){ #  'batch.merged', 'dataset')){\n",
    "        p = paste0(scib_outdir, k, '_', batch_label, '.csv')\n",
    "        print(p)\n",
    "        if(!file.exists(p)){\n",
    "            print('skip...')\n",
    "            next\n",
    "        }\n",
    "        print(file.exists(p))\n",
    "        plotSingleTaskRNA(p, outdir=scib_outdir)\n",
    "        # metrics_path = paste0(scib_outdir, 'metrics.csv')\n",
    "    }\n",
    "}"
   ]
  },
  {
   "cell_type": "code",
   "execution_count": null,
   "metadata": {},
   "outputs": [],
   "source": [
    "print(metrics_path_250)"
   ]
  },
  {
   "cell_type": "code",
   "execution_count": null,
   "metadata": {},
   "outputs": [],
   "source": [
    "# df = read.table(metrics_path_250, sep=',', header=T, row.names=1)\n",
    "# df_batch_merged <- df[grepl('_batch.merged_', rownames(df)),]\n",
    "# df_batch_dataset <- df[grepl('_dataset_', rownames(df)),]\n",
    "# print(c(dim(df_batch_merged), dim(df_batch_dataset)))\n",
    "\n",
    "# write.table(df_batch_merged, metrics_path_250_batch_merged, sep=',', quote=F, row.names=T, col.names=NA)\n",
    "# write.table(df_batch_dataset, metrics_path_250_batch_dataset, sep=',', quote=F, row.names=T, col.names=NA)"
   ]
  },
  {
   "cell_type": "code",
   "execution_count": null,
   "metadata": {},
   "outputs": [],
   "source": [
    "df = read.table(metrics_path_500, sep=',', header=T, row.names=1)\n",
    "df_batch_merged <- df[grepl('_batch.merged_', rownames(df)),]\n",
    "df_batch_dataset <- df[grepl('_dataset_', rownames(df)),]\n",
    "print(c(dim(df_batch_merged), dim(df_batch_dataset)))"
   ]
  },
  {
   "cell_type": "code",
   "execution_count": null,
   "metadata": {},
   "outputs": [],
   "source": [
    "write.table(df_batch_merged, metrics_path_500_batch_merged, sep=',', quote=F, row.names=T, col.names=NA)\n",
    "write.table(df_batch_dataset, metrics_path_500_batch_dataset, sep=',', quote=F, row.names=T, col.names=NA)"
   ]
  },
  {
   "cell_type": "code",
   "execution_count": null,
   "metadata": {},
   "outputs": [],
   "source": [
    "sel <- df[grepl('_all_', rownames(df)),]\n",
    "write.table(sel, , sep=',', quote=F, row.names=T, col.names=NA)"
   ]
  },
  {
   "cell_type": "code",
   "execution_count": null,
   "metadata": {},
   "outputs": [],
   "source": [
    "getwd()"
   ]
  },
  {
   "cell_type": "code",
   "execution_count": null,
   "metadata": {},
   "outputs": [],
   "source": [
    "scib_outdir <- '/mnt/znas/icb_zstore01/groups/ml01/workspace/ignacio.ibarra/theislab/retinal_scRNAseq_integration/data/integration_march_2021/output/'"
   ]
  },
  {
   "cell_type": "code",
   "execution_count": null,
   "metadata": {},
   "outputs": [],
   "source": [
    "# import the functions to plot the respective functions\n",
    "source('plotSingleTaskRNA.R');"
   ]
  },
  {
   "cell_type": "code",
   "execution_count": null,
   "metadata": {},
   "outputs": [],
   "source": [
    "v <- c('a', 'b', 'c')"
   ]
  },
  {
   "cell_type": "code",
   "execution_count": null,
   "metadata": {},
   "outputs": [],
   "source": [
    "next_path = paste0(scib_outdir, 'metrics', '.csv')\n",
    "print(next_path)\n",
    "plotSingleTaskRNA(next_path, outdir=scib_outdir)\n",
    "print(p)\n"
   ]
  },
  {
   "cell_type": "code",
   "execution_count": null,
   "metadata": {},
   "outputs": [],
   "source": []
  },
  {
   "cell_type": "code",
   "execution_count": null,
   "metadata": {},
   "outputs": [],
   "source": [
    "# print(metrics_path_500)\n",
    "plotSingleTaskRNA(metrics_path_250_batch_merged, outdir=scib_outdir)"
   ]
  },
  {
   "cell_type": "code",
   "execution_count": null,
   "metadata": {},
   "outputs": [],
   "source": [
    "# print(metrics_path_500)\n",
    "plotSingleTaskRNA(metrics_path_500_batch_merged, outdir=scib_outdir)"
   ]
  },
  {
   "cell_type": "code",
   "execution_count": null,
   "metadata": {},
   "outputs": [],
   "source": [
    "# print(metrics_path_500)\n",
    "plotSingleTaskRNA(metrics_path_500_batch_dataset, outdir=scib_outdir)"
   ]
  },
  {
   "cell_type": "code",
   "execution_count": null,
   "metadata": {},
   "outputs": [],
   "source": [
    "print(metrics_path_500)\n",
    "plotSingleTaskRNA(metrics_path_500, outdir=scib_outdir)"
   ]
  },
  {
   "cell_type": "code",
   "execution_count": null,
   "metadata": {},
   "outputs": [],
   "source": [
    "for (c in c('CP', 'all', 'PDAC')){\n",
    "    print(c)\n",
    "    outdir = paste0(scib_outdir, c, \"/\")\n",
    "    metrics_path = paste0(outdir, 'metrics.csv')\n",
    "    print(outdir)\n",
    "    print(metrics_path)\n",
    "    plotSingleTaskRNA(metrics_path, outdir=outdir)\n",
    "}\n",
    "    "
   ]
  }
 ],
 "metadata": {
  "kernelspec": {
   "display_name": "R [conda env:scIB-table]",
   "language": "R",
   "name": "conda-env-scIB-table-r"
  },
  "language_info": {
   "codemirror_mode": "r",
   "file_extension": ".r",
   "mimetype": "text/x-r-source",
   "name": "R",
   "pygments_lexer": "r",
   "version": "4.1.3"
  }
 },
 "nbformat": 4,
 "nbformat_minor": 4
}
