{
 "cells": [
  {
   "cell_type": "code",
   "execution_count": 5,
   "metadata": {},
   "outputs": [],
   "source": [
    "!cd ../scib/"
   ]
  },
  {
   "cell_type": "code",
   "execution_count": 8,
   "metadata": {},
   "outputs": [],
   "source": [
    "import os\n",
    "os.chdir('../scib')"
   ]
  },
  {
   "cell_type": "code",
   "execution_count": 9,
   "metadata": {},
   "outputs": [
    {
     "name": "stdout",
     "output_type": "stream",
     "text": [
      "total 678K\n",
      "-rw-r--r--. 1 ignacio.ibarra OG-ICB-User 1.1K Aug 28 12:37 LICENSE.txt\n",
      "-rw-r--r--. 1 ignacio.ibarra OG-ICB-User 5.5K Aug 28 12:37 README.md\n",
      "-rw-r--r--. 1 ignacio.ibarra OG-ICB-User  12K Aug 28 12:37 environment.yaml\n",
      "-rw-r--r--. 1 ignacio.ibarra OG-ICB-User 362K Aug 28 12:38 figure.png\n",
      "-rw-r--r--. 1 ignacio.ibarra OG-ICB-User  140 Aug 28 12:38 install.md\n",
      "drwxr-xr-x. 5 ignacio.ibarra OG-ICB-User    9 Aug 28 12:38 notebooks\n",
      "-rw-r--r--. 1 ignacio.ibarra OG-ICB-User   62 Aug 28 12:38 setup.cfg\n",
      "-rw-r--r--. 1 ignacio.ibarra OG-ICB-User 1.2K Aug 28 12:38 setup.py\n",
      "drwxr-xr-x. 2 ignacio.ibarra OG-ICB-User    3 Aug 28 12:38 tests\n",
      "drwxr-xr-x. 3 ignacio.ibarra OG-ICB-User   22 Sep  1 18:16 scripts\n",
      "-rw-r--r--. 1 ignacio.ibarra OG-ICB-User 9.6K Sep  1 18:24 Snakefile\n",
      "drwxr-xr-x. 4 ignacio.ibarra OG-ICB-User    5 Sep  2 12:12 R\n",
      "drwxr-xr-x. 5 ignacio.ibarra OG-ICB-User   12 Sep  2 12:27 SAUCIE\n",
      "drwxr-xr-x. 9 ignacio.ibarra OG-ICB-User   14 Sep  4 13:44 scanorama\n",
      "drwxr-xr-x. 4 ignacio.ibarra OG-ICB-User    4 Sep 10 16:01 build\n",
      "drwxr-xr-x. 2 ignacio.ibarra OG-ICB-User    3 Sep 10 16:01 dist\n",
      "drwxr-xr-x. 4 ignacio.ibarra OG-ICB-User   12 Sep 13 17:16 envs\n",
      "drwxr-xr-x. 2 ignacio.ibarra OG-ICB-User    8 Sep 13 17:36 scIB.egg-info\n",
      "drwxr-xr-x. 6 ignacio.ibarra OG-ICB-User   13 Dec  1 12:06 scIB\n",
      "-rw-r--r--. 1 ignacio.ibarra OG-ICB-User 2.2K Dec  1 12:07 config.yaml\n"
     ]
    }
   ],
   "source": [
    "!ls -ltrh"
   ]
  },
  {
   "cell_type": "code",
   "execution_count": 14,
   "metadata": {},
   "outputs": [
    {
     "name": "stdout",
     "output_type": "stream",
     "text": [
      "ERROR conda.cli.main_run:execute(32): Subprocess for 'conda run ['python', 'scripts/runIntegration.py', '-i', '/mnt/znas/icb_zstore01/groups/ml01/workspace/ignacio.ibarra/theislab/retinal_scRNAseq_integration/scIB_run/retinal/prepare/scaled/hvg/adata_pre.h5ad', '-o', '/mnt/znas/icb_zstore01/groups/ml01/workspace/ignacio.ibarra/theislab/retinal_scRNAseq_integration/scIB_run/retinal/integration/scaled/hvg/scgen.h5ad', '-b', 'study', '--method', 'scgen', '-v', '2000', '-c', 'cell.type']' command failed.  (See above for error)\n",
      "/home/icb/ignacio.ibarra/miniconda3/envs/scIB-python/lib/python3.7/site-packages/anndata/_core/anndata.py:21: FutureWarning: pandas.core.index is deprecated and will be removed in a future version.  The public classes are available in the top-level namespace.\n",
      "  from pandas.core.index import RangeIndex\n",
      "Traceback (most recent call last):\n",
      "  File \"scripts/runIntegration.py\", line 4, in <module>\n",
      "    import scanpy as sc\n",
      "  File \"/home/icb/ignacio.ibarra/miniconda3/envs/scIB-python/lib/python3.7/site-packages/scanpy/__init__.py\", line 38, in <module>\n",
      "    from . import plotting as pl\n",
      "  File \"/home/icb/ignacio.ibarra/miniconda3/envs/scIB-python/lib/python3.7/site-packages/scanpy/plotting/__init__.py\", line 1, in <module>\n",
      "    from ._anndata import scatter, violin, ranking, clustermap, stacked_violin, heatmap, dotplot, matrixplot, tracksplot, dendrogram, correlation_matrix\n",
      "  File \"/home/icb/ignacio.ibarra/miniconda3/envs/scIB-python/lib/python3.7/site-packages/scanpy/plotting/_anndata.py\", line 16, in <module>\n",
      "    from matplotlib import pyplot as pl\n",
      "  File \"/home/icb/ignacio.ibarra/miniconda3/envs/scIB-python/lib/python3.7/site-packages/matplotlib/pyplot.py\", line 2320, in <module>\n",
      "    switch_backend(rcParams[\"backend\"])\n",
      "  File \"/home/icb/ignacio.ibarra/miniconda3/envs/scIB-python/lib/python3.7/site-packages/matplotlib/pyplot.py\", line 260, in switch_backend\n",
      "    class backend_mod(matplotlib.backend_bases._Backend):\n",
      "  File \"/home/icb/ignacio.ibarra/miniconda3/envs/scIB-python/lib/python3.7/site-packages/matplotlib/pyplot.py\", line 261, in backend_mod\n",
      "    locals().update(vars(importlib.import_module(backend_name)))\n",
      "  File \"/home/icb/ignacio.ibarra/miniconda3/envs/scIB-python/lib/python3.7/importlib/__init__.py\", line 127, in import_module\n",
      "    return _bootstrap._gcd_import(name[level:], package, level)\n",
      "ModuleNotFoundError: No module named 'ipykernel'\n",
      "\n"
     ]
    }
   ],
   "source": [
    "!conda run -n scIB-python python scripts/runIntegration.py -i /mnt/znas/icb_zstore01/groups/ml01/workspace/ignacio.ibarra/theislab/retinal_scRNAseq_integration/scIB_run/retinal/prepare/scaled/hvg/adata_pre.h5ad -o /mnt/znas/icb_zstore01/groups/ml01/workspace/ignacio.ibarra/theislab/retinal_scRNAseq_integration/scIB_run/retinal/integration/scaled/hvg/scgen.h5ad -b study --method scgen -v 2000 -c cell.type"
   ]
  }
 ],
 "metadata": {
  "kernelspec": {
   "display_name": "Python 3",
   "language": "python",
   "name": "python3"
  },
  "language_info": {
   "codemirror_mode": {
    "name": "ipython",
    "version": 3
   },
   "file_extension": ".py",
   "mimetype": "text/x-python",
   "name": "python",
   "nbconvert_exporter": "python",
   "pygments_lexer": "ipython3",
   "version": "3.7.8"
  }
 },
 "nbformat": 4,
 "nbformat_minor": 4
}
