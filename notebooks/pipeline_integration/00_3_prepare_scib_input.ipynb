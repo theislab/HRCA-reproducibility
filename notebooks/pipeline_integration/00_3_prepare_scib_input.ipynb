{
 "cells": [
  {
   "cell_type": "markdown",
   "id": "f8bf947a-1f85-4f66-90c3-c18364d55b55",
   "metadata": {},
   "source": [
    "### This notebook prepares a single, concatenate anndata object, using using increasing samples of all files"
   ]
  },
  {
   "cell_type": "code",
   "execution_count": 1,
   "id": "1bbda0a1",
   "metadata": {},
   "outputs": [],
   "source": [
    "%load_ext autoreload\n",
    "%autoreload 2"
   ]
  },
  {
   "cell_type": "code",
   "execution_count": 2,
   "id": "fc9c7a63",
   "metadata": {},
   "outputs": [],
   "source": [
    "import os\n",
    "import scanpy as sc\n",
    "from os.path import join, exists\n",
    "from os import listdir\n",
    "import anndata\n",
    "import scipy\n",
    "import numpy as np\n",
    "import sys\n",
    "import pandas as pd\n",
    "\n",
    "import utils\n",
    "\n",
    "# convert counts into float32\n",
    "# Convenience method for computing the size of objects\n",
    "def print_size_in_MB(x):\n",
    "    return '{:.3} MB'.format(x.__sizeof__()/1e6)\n",
    "\n",
    "def print_size_in_MB_sparse_matrix(a):\n",
    "    # a = scipy.sparse.csr_matrix(np.random.randint(10, size=(40, 3)))\n",
    "    # x = a.data.nbytes + a.indptr.nbytes + a.indices.nbytes\n",
    "    size = a.data.size/(1024**2)\n",
    "    return '{:.3} MB'.format(size)\n",
    "\n",
    "import warnings\n",
    "warnings.filterwarnings(\"ignore\")"
   ]
  },
  {
   "cell_type": "markdown",
   "id": "b17a477e-d1e1-4194-ad5a-ddf7be7e00d3",
   "metadata": {},
   "source": [
    "### attempt combinations of Chen with other datasets, increasingly."
   ]
  },
  {
   "cell_type": "code",
   "execution_count": 3,
   "id": "9f389707",
   "metadata": {},
   "outputs": [
    {
     "name": "stdout",
     "output_type": "stream",
     "text": [
      "Hackney\n",
      "Roska\n",
      "Hafler\n",
      "Wong\n",
      "Scheetz\n",
      "Sanes\n",
      "all ['Hackney', 'Roska', 'Hafler', 'Wong', 'Scheetz', 'Chen_b', 'Chen_c', 'Sanes', 'Chen_a']\n",
      "Chen ['Chen_b', 'Chen_c', 'Chen_a']\n",
      "Chen+Hackney ['Chen_b', 'Chen_c', 'Chen_a', 'Hackney']\n",
      "Chen+Roska ['Chen_b', 'Chen_c', 'Chen_a', 'Roska']\n",
      "Chen+Hafler ['Chen_b', 'Chen_c', 'Chen_a', 'Hafler']\n",
      "Chen+Wong ['Chen_b', 'Chen_c', 'Chen_a', 'Wong']\n",
      "Chen+Scheetz ['Chen_b', 'Chen_c', 'Chen_a', 'Scheetz']\n",
      "Chen+Sanes ['Chen_b', 'Chen_c', 'Chen_a', 'Sanes']\n"
     ]
    }
   ],
   "source": [
    "combinations = [# ['Hackney', 'Roska', 'Hafler', 'Wong', 'Scheetz', 'Chen_b', 'Chen_c', 'Sanes', 'Chen_a'],\n",
    "                ['Hackney', 'Roska', 'Hafler', 'Wong', 'Scheetz', 'Chen_b', 'Chen_c', 'Sanes', 'Chen_a'],\n",
    "                # ['Chen_b', 'Chen_c', 'Chen_a'],\n",
    "                ['Chen_b', 'Chen_c', 'Chen_a']]\n",
    "    \n",
    "dataset_codes = ['all', 'Chen'] # , 'Chen'\n",
    "# add Chen_a plus all others\n",
    "for k in combinations[0]:\n",
    "    if 'Chen' in k:\n",
    "        continue\n",
    "    print(k)\n",
    "    combinations.append(combinations[1] + [k])\n",
    "    dataset_codes.append('Chen+%s' % k)\n",
    "\n",
    "for x, y in zip(dataset_codes, combinations):\n",
    "    print(x, y)\n"
   ]
  },
  {
   "cell_type": "code",
   "execution_count": 4,
   "id": "b9f9f68a",
   "metadata": {},
   "outputs": [
    {
     "name": "stdout",
     "output_type": "stream",
     "text": [
      "# of cells (input argument) 500\n",
      "False ../../data/integration_march_2021/input/input_500_cells_all.h5ad\n",
      "all ['Hackney', 'Roska', 'Hafler', 'Wong', 'Scheetz', 'Chen_b', 'Chen_c', 'Sanes', 'Chen_a']\n",
      "['Hackney', 'Roska', 'Hafler', 'Wong']\n",
      "['Scheetz', 'Chen_b', 'Chen_c', 'Sanes']\n",
      "['Chen_a']\n",
      "Hackney _500\n",
      "Hackney_500.h5ad\n",
      "../../data/integration_march_2021/input/bydataset_500/Hackney_500.h5ad\n"
     ]
    },
    {
     "name": "stderr",
     "output_type": "stream",
     "text": [
      "Trying to set attribute `.var` of view, copying.\n"
     ]
    },
    {
     "name": "stdout",
     "output_type": "stream",
     "text": [
      "after loading (5499, 36974)\n",
      "filtering by number of min_cells with gene\n",
      "after (5499, 19090)\n",
      "['Hackney', 'Roska', 'Hafler', 'Wong']\n",
      "Series([], Name: dataset, dtype: int64)\n",
      "Roska _500\n",
      "Roska_500.h5ad\n",
      "../../data/integration_march_2021/input/bydataset_500/Roska_500.h5ad\n"
     ]
    },
    {
     "name": "stderr",
     "output_type": "stream",
     "text": [
      "Trying to set attribute `.var` of view, copying.\n"
     ]
    },
    {
     "name": "stdout",
     "output_type": "stream",
     "text": [
      "after loading (10109, 12385)\n",
      "filtering by number of min_cells with gene\n",
      "after (10109, 12310)\n",
      "['Hackney', 'Roska', 'Hafler', 'Wong']\n",
      "Series([], Name: dataset, dtype: int64)\n",
      "Hafler _500\n",
      "Hafler_500.h5ad\n",
      "../../data/integration_march_2021/input/bydataset_500/Hafler_500.h5ad\n"
     ]
    },
    {
     "name": "stderr",
     "output_type": "stream",
     "text": [
      "Trying to set attribute `.var` of view, copying.\n"
     ]
    },
    {
     "name": "stdout",
     "output_type": "stream",
     "text": [
      "after loading (2630, 13913)\n",
      "filtering by number of min_cells with gene\n",
      "after (2630, 10350)\n",
      "['Hackney', 'Roska', 'Hafler', 'Wong']\n",
      "Series([], Name: dataset, dtype: int64)\n",
      "Wong _500\n",
      "Wong_500.h5ad\n",
      "../../data/integration_march_2021/input/bydataset_500/Wong_500.h5ad\n"
     ]
    },
    {
     "name": "stderr",
     "output_type": "stream",
     "text": [
      "Trying to set attribute `.var` of view, copying.\n"
     ]
    },
    {
     "name": "stdout",
     "output_type": "stream",
     "text": [
      "after loading (2500, 18769)\n",
      "filtering by number of min_cells with gene\n",
      "after (2500, 11280)\n",
      "['Hackney', 'Roska', 'Hafler', 'Wong']\n",
      "Series([], Name: dataset, dtype: int64)\n",
      "objects before concatenation\n",
      "concatenating...\n"
     ]
    },
    {
     "name": "stderr",
     "output_type": "stream",
     "text": [
      "Trying to set attribute `.obs` of view, copying.\n"
     ]
    },
    {
     "name": "stdout",
     "output_type": "stream",
     "text": [
      "names upon integration\n",
      "Index(['CELL3980150-0:Hackney:0', 'CELL3980173-0:Hackney:0',\n",
      "       'CELL3980184-0:Hackney:0', 'CELL3980226-0:Hackney:0',\n",
      "       'CELL3980300-0:Hackney:0', 'CELL3980311-0:Hackney:0',\n",
      "       'CELL3980366-0:Hackney:0', 'CELL3980412-0:Hackney:0',\n",
      "       'CELL3980447-0:Hackney:0', 'CELL3980462-0:Hackney:0',\n",
      "       ...\n",
      "       'TTGAACGAGTGTCCCG-1-4:Wong:4', 'TTGAACGTCCAGAGGA-1-4:Wong:4',\n",
      "       'TTGCCGTAGGGCTTCC-1-4:Wong:4', 'TTGGAACTCATGCAAC-1-4:Wong:4',\n",
      "       'TTGGCAAAGATGGGTC-1-4:Wong:4', 'TTGTAGGCATCACCCT-1-4:Wong:4',\n",
      "       'TTTACTGAGACGCAAC-1-4:Wong:4', 'TTTACTGTCAAAGTAG-1-4:Wong:4',\n",
      "       'TTTATGCCATAACCTG-1-4:Wong:4', 'TTTGCGCTCGGCGCTA-1-4:Wong:4'],\n",
      "      dtype='object', length=20738)\n",
      "ad1\n",
      "loading datasets 1 done...\n",
      "Roska      10109\n",
      "Hackney     5499\n",
      "Hafler      2630\n",
      "Wong        2500\n",
      "Name: dataset, dtype: int64\n"
     ]
    },
    {
     "name": "stderr",
     "output_type": "stream",
     "text": [
      "... storing 'batch' as categorical\n",
      "Trying to set attribute `.obs` of view, copying.\n",
      "... storing 'dataset' as categorical\n",
      "Trying to set attribute `.obs` of view, copying.\n",
      "... storing 'filename' as categorical\n",
      "Trying to set attribute `.obs` of view, copying.\n",
      "... storing 'scpred_prediction' as categorical\n",
      "Trying to set attribute `.obs` of view, copying.\n",
      "... storing 'cell.type' as categorical\n"
     ]
    },
    {
     "name": "stdout",
     "output_type": "stream",
     "text": [
      "../../data/integration_march_2021/input/input_500_cells_all_part1.h5ad\n",
      "loading ['Scheetz', 'Chen_b', 'Chen_c', 'Sanes']\n",
      "Scheetz _500\n",
      "Scheetz_500.h5ad\n",
      "../../data/integration_march_2021/input/bydataset_500/Scheetz_500.h5ad\n"
     ]
    },
    {
     "name": "stderr",
     "output_type": "stream",
     "text": [
      "Trying to set attribute `.var` of view, copying.\n"
     ]
    },
    {
     "name": "stdout",
     "output_type": "stream",
     "text": [
      "after loading (2582, 16782)\n",
      "filtering by number of min_cells with gene\n",
      "after (2582, 13729)\n",
      "['Scheetz', 'Chen_b', 'Chen_c', 'Sanes']\n",
      "Series([], Name: dataset, dtype: int64)\n",
      "Chen_b _500\n",
      "Chen_b_500.h5ad\n",
      "../../data/integration_march_2021/input/bydataset_500/Chen_b_500.h5ad\n"
     ]
    },
    {
     "name": "stderr",
     "output_type": "stream",
     "text": [
      "Trying to set attribute `.var` of view, copying.\n"
     ]
    },
    {
     "name": "stdout",
     "output_type": "stream",
     "text": [
      "after loading (7500, 23428)\n",
      "filtering by number of min_cells with gene\n",
      "after (7500, 16958)\n",
      "['Scheetz', 'Chen_b', 'Chen_c', 'Sanes']\n",
      "Series([], Name: dataset, dtype: int64)\n",
      "Chen_c _500\n",
      "Chen_c_500.h5ad\n",
      "../../data/integration_march_2021/input/bydataset_500/Chen_c_500.h5ad\n",
      "after loading (10000, 23797)\n",
      "filtering by number of min_cells with gene\n"
     ]
    },
    {
     "name": "stderr",
     "output_type": "stream",
     "text": [
      "Trying to set attribute `.var` of view, copying.\n"
     ]
    },
    {
     "name": "stdout",
     "output_type": "stream",
     "text": [
      "after (10000, 18176)\n",
      "['Scheetz', 'Chen_b', 'Chen_c', 'Sanes']\n",
      "Series([], Name: dataset, dtype: int64)\n",
      "Sanes _500\n",
      "Sanes_500.h5ad\n",
      "../../data/integration_march_2021/input/bydataset_500/Sanes_500.h5ad\n"
     ]
    },
    {
     "name": "stderr",
     "output_type": "stream",
     "text": [
      "Trying to set attribute `.var` of view, copying.\n"
     ]
    },
    {
     "name": "stdout",
     "output_type": "stream",
     "text": [
      "after loading (9020, 5682)\n",
      "filtering by number of min_cells with gene\n",
      "after (9020, 5630)\n",
      "['Scheetz', 'Chen_b', 'Chen_c', 'Sanes']\n",
      "Series([], Name: dataset, dtype: int64)\n",
      "objects before concatenation\n",
      "concatenating...\n"
     ]
    },
    {
     "name": "stderr",
     "output_type": "stream",
     "text": [
      "Trying to set attribute `.obs` of view, copying.\n"
     ]
    },
    {
     "name": "stdout",
     "output_type": "stream",
     "text": [
      "names upon integration\n",
      "Index(['AAACGAACAGGGACTA-1-0:Scheetz:0', 'AAACGAAGTTCTCCAC-1-0:Scheetz:0',\n",
      "       'AAACGCTGTGGTTTGT-1-0:Scheetz:0', 'AAAGGGCCAAGGTCTT-1-0:Scheetz:0',\n",
      "       'AAAGGGCCAGTGTGCC-1-0:Scheetz:0', 'AAAGTGATCTTGCAGA-1-0:Scheetz:0',\n",
      "       'AAATGGAGTCGTACAT-1-0:Scheetz:0', 'AACACACAGATTTGCC-1-0:Scheetz:0',\n",
      "       'AACAGGGAGTGCACTT-1-0:Scheetz:0', 'AACCACATCATCGGGC-1-0:Scheetz:0',\n",
      "       ...\n",
      "       'TTGGTTTTCTGGTCAA-1-18:Sanes:18', 'TTGTGGATCGCTATTT-1-18:Sanes:18',\n",
      "       'TTGTGTTTCGCAGATT-1-18:Sanes:18', 'TTGTTTGTCAGAGCGA-1-18:Sanes:18',\n",
      "       'TTTACCATCTCACTCG-1-18:Sanes:18', 'TTTACTGCAAGGTCGA-1-18:Sanes:18',\n",
      "       'TTTAGTCTCGGAGTGA-1-18:Sanes:18', 'TTTCACACAAGAAATC-1-18:Sanes:18',\n",
      "       'TTTCCTCCAGGGTCTC-1-18:Sanes:18', 'TTTGTTGAGGAACATT-1-18:Sanes:18'],\n",
      "      dtype='object', length=29102)\n",
      "ad2\n",
      "AnnData object with n_obs × n_vars = 29102 × 4703\n",
      "    obs: 'orig.ident', 'nCount_RNA', 'nFeature_RNA', 'RNA_snn_res.0.8', 'seurat_clusters', 'scpred_AC', 'scpred_Astrocyte', 'scpred_BC', 'scpred_Cone', 'scpred_HC', 'scpred_MG', 'scpred_Microglia', 'scpred_RGC', 'scpred_RPE', 'scpred_Rod', 'scpred_max', 'scpred_prediction', 'size_factors', 'dataset', 'filename', 'batch', 'cell.type'\n",
      "    layers: 'counts'\n",
      "Index(['AAACGAACAGGGACTA-1-0:Scheetz:0', 'AAACGAAGTTCTCCAC-1-0:Scheetz:0',\n",
      "       'AAACGCTGTGGTTTGT-1-0:Scheetz:0', 'AAAGGGCCAAGGTCTT-1-0:Scheetz:0',\n",
      "       'AAAGGGCCAGTGTGCC-1-0:Scheetz:0', 'AAAGTGATCTTGCAGA-1-0:Scheetz:0',\n",
      "       'AAATGGAGTCGTACAT-1-0:Scheetz:0', 'AACACACAGATTTGCC-1-0:Scheetz:0',\n",
      "       'AACAGGGAGTGCACTT-1-0:Scheetz:0', 'AACCACATCATCGGGC-1-0:Scheetz:0',\n",
      "       ...\n",
      "       'TTGGTTTTCTGGTCAA-1-18:Sanes:18', 'TTGTGGATCGCTATTT-1-18:Sanes:18',\n",
      "       'TTGTGTTTCGCAGATT-1-18:Sanes:18', 'TTGTTTGTCAGAGCGA-1-18:Sanes:18',\n",
      "       'TTTACCATCTCACTCG-1-18:Sanes:18', 'TTTACTGCAAGGTCGA-1-18:Sanes:18',\n",
      "       'TTTAGTCTCGGAGTGA-1-18:Sanes:18', 'TTTCACACAAGAAATC-1-18:Sanes:18',\n",
      "       'TTTCCTCCAGGGTCTC-1-18:Sanes:18', 'TTTGTTGAGGAACATT-1-18:Sanes:18'],\n",
      "      dtype='object', length=29102)\n",
      "loading datasets 2 done...\n",
      "Chen_c     10000\n",
      "Sanes       9020\n",
      "Chen_b      7500\n",
      "Scheetz     2582\n",
      "Name: dataset, dtype: int64\n"
     ]
    },
    {
     "name": "stderr",
     "output_type": "stream",
     "text": [
      "... storing 'scpred_prediction' as categorical\n",
      "Trying to set attribute `.obs` of view, copying.\n",
      "... storing 'dataset' as categorical\n",
      "Trying to set attribute `.obs` of view, copying.\n",
      "... storing 'filename' as categorical\n",
      "Trying to set attribute `.obs` of view, copying.\n",
      "... storing 'batch' as categorical\n",
      "Trying to set attribute `.obs` of view, copying.\n",
      "... storing 'cell.type' as categorical\n"
     ]
    },
    {
     "name": "stdout",
     "output_type": "stream",
     "text": [
      "../../data/integration_march_2021/input/input_500_cells_all_part2.h5ad\n",
      "../../data/integration_march_2021/input/input_500_cells_all.h5ad\n",
      "../../data/integration_march_2021/input/input_500_cells_all_part3.h5ad\n",
      "loading ['Chen_a']\n",
      "Chen_a _500\n",
      "Chen_a_500.h5ad\n",
      "../../data/integration_march_2021/input/bydataset_500/Chen_a_500.h5ad\n",
      "after loading (20000, 15903)\n",
      "filtering by number of min_cells with gene\n"
     ]
    },
    {
     "name": "stderr",
     "output_type": "stream",
     "text": [
      "Trying to set attribute `.var` of view, copying.\n"
     ]
    },
    {
     "name": "stdout",
     "output_type": "stream",
     "text": [
      "after (20000, 14453)\n",
      "['Chen_a']\n",
      "Series([], Name: dataset, dtype: int64)\n",
      "objects before concatenation\n",
      "concatenating...\n",
      "names upon integration\n",
      "Index(['AAAGGGCGTGATTAGA-1_1-0:Chen_a:0', 'AATGGAAGTTACCCAA-1_1-0:Chen_a:0',\n",
      "       'ACAAAGATCACTGGTA-1_1-0:Chen_a:0', 'ACCAAACTCTAAACGC-1_1-0:Chen_a:0',\n",
      "       'ACGTACAGTAAGGCTG-1_1-0:Chen_a:0', 'ACTCTCGAGGTTGAGC-1_1-0:Chen_a:0',\n",
      "       'ACTTTCACACGTATAC-1_1-0:Chen_a:0', 'AGCCAATCATATGAAG-1_1-0:Chen_a:0',\n",
      "       'AGTGTTGTCGTAATGC-1_1-0:Chen_a:0', 'ATCACGAAGCATGCGA-1_1-0:Chen_a:0',\n",
      "       ...\n",
      "       'TTGTTCAAGACGTCCC-1-39:Chen_a:39', 'TTGTTGTAGGGCATGT-1-39:Chen_a:39',\n",
      "       'TTTACGTAGCCTCTCT-1-39:Chen_a:39', 'TTTACGTTCCTAGAGT-1-39:Chen_a:39',\n",
      "       'TTTACGTTCTCCGAAA-1-39:Chen_a:39', 'TTTACTGAGTACAGAT-1-39:Chen_a:39',\n",
      "       'TTTATGCGTACGAGCA-1-39:Chen_a:39', 'TTTATGCGTGGCCCAT-1-39:Chen_a:39',\n",
      "       'TTTGATCCATCGAAGG-1-39:Chen_a:39', 'TTTGGAGGTTCCTACC-1-39:Chen_a:39'],\n",
      "      dtype='object', length=20000)\n",
      "ad2\n",
      "AnnData object with n_obs × n_vars = 20000 × 14453\n",
      "    obs: 'orig.ident', 'nCount_RNA', 'nFeature_RNA', 'RNA_snn_res.0.8', 'seurat_clusters', 'scpred_AC', 'scpred_Astrocyte', 'scpred_BC', 'scpred_Cone', 'scpred_HC', 'scpred_MG', 'scpred_Microglia', 'scpred_RGC', 'scpred_RPE', 'scpred_Rod', 'scpred_max', 'scpred_prediction', 'percent.mt', 'size_factors', 'dataset', 'filename', 'batch', 'cell.type'\n",
      "    layers: 'counts'\n",
      "Index(['AAAGGGCGTGATTAGA-1_1-0:Chen_a:0', 'AATGGAAGTTACCCAA-1_1-0:Chen_a:0',\n",
      "       'ACAAAGATCACTGGTA-1_1-0:Chen_a:0', 'ACCAAACTCTAAACGC-1_1-0:Chen_a:0',\n",
      "       'ACGTACAGTAAGGCTG-1_1-0:Chen_a:0', 'ACTCTCGAGGTTGAGC-1_1-0:Chen_a:0',\n",
      "       'ACTTTCACACGTATAC-1_1-0:Chen_a:0', 'AGCCAATCATATGAAG-1_1-0:Chen_a:0',\n",
      "       'AGTGTTGTCGTAATGC-1_1-0:Chen_a:0', 'ATCACGAAGCATGCGA-1_1-0:Chen_a:0',\n",
      "       ...\n",
      "       'TTGTTCAAGACGTCCC-1-39:Chen_a:39', 'TTGTTGTAGGGCATGT-1-39:Chen_a:39',\n",
      "       'TTTACGTAGCCTCTCT-1-39:Chen_a:39', 'TTTACGTTCCTAGAGT-1-39:Chen_a:39',\n",
      "       'TTTACGTTCTCCGAAA-1-39:Chen_a:39', 'TTTACTGAGTACAGAT-1-39:Chen_a:39',\n",
      "       'TTTATGCGTACGAGCA-1-39:Chen_a:39', 'TTTATGCGTGGCCCAT-1-39:Chen_a:39',\n",
      "       'TTTGATCCATCGAAGG-1-39:Chen_a:39', 'TTTGGAGGTTCCTACC-1-39:Chen_a:39'],\n",
      "      dtype='object', length=20000)\n",
      "loading datasets 3 done...\n",
      "Chen_a    20000\n",
      "Name: dataset, dtype: int64\n",
      "../../data/integration_march_2021/input/input_500_cells_all_part3.h5ad\n",
      "Roska      10109\n",
      "Hackney     5499\n",
      "Hafler      2630\n",
      "Wong        2500\n",
      "Name: dataset, dtype: int64\n",
      "../../data/integration_march_2021/input/input_500_cells_all_part2.h5ad\n",
      "../../data/integration_march_2021/input/input_500_cells_all_part3.h5ad\n",
      "Chen_c     10000\n",
      "Sanes       9020\n",
      "Chen_b      7500\n",
      "Scheetz     2582\n",
      "Name: dataset, dtype: int64\n",
      "Chen_a    20000\n",
      "Name: dataset, dtype: int64\n",
      "concatenating...\n"
     ]
    },
    {
     "name": "stderr",
     "output_type": "stream",
     "text": [
      "Trying to set attribute `.obs` of view, copying.\n"
     ]
    },
    {
     "name": "stdout",
     "output_type": "stream",
     "text": [
      "done...\n",
      "ad final\n",
      "(69840, 3848)\n",
      "before batch filter (n=100)\n",
      "(69840, 3848)\n"
     ]
    },
    {
     "name": "stderr",
     "output_type": "stream",
     "text": [
      "... storing 'batch' as categorical\n",
      "... storing 'dataset' as categorical\n",
      "... storing 'filename' as categorical\n",
      "... storing 'batch.merged' as categorical\n",
      "... storing 'donor' as categorical\n"
     ]
    },
    {
     "name": "stdout",
     "output_type": "stream",
     "text": [
      "after batch filter (n=100)\n",
      "(69632, 3848)\n",
      "saving to output...\n",
      "done...\n",
      "False ../../data/integration_march_2021/input/input_500_cells_Chen.h5ad\n",
      "Chen ['Chen_b', 'Chen_c', 'Chen_a']\n",
      "['Chen_b', 'Chen_c', 'Chen_a']\n",
      "[]\n",
      "[]\n",
      "Chen_b _500\n",
      "Chen_b_500.h5ad\n",
      "../../data/integration_march_2021/input/bydataset_500/Chen_b_500.h5ad\n"
     ]
    },
    {
     "name": "stderr",
     "output_type": "stream",
     "text": [
      "Trying to set attribute `.var` of view, copying.\n"
     ]
    },
    {
     "name": "stdout",
     "output_type": "stream",
     "text": [
      "after loading (7500, 23428)\n",
      "filtering by number of min_cells with gene\n",
      "after (7500, 16958)\n",
      "['Chen_b', 'Chen_c', 'Chen_a']\n",
      "Series([], Name: dataset, dtype: int64)\n",
      "Chen_c _500\n",
      "Chen_c_500.h5ad\n",
      "../../data/integration_march_2021/input/bydataset_500/Chen_c_500.h5ad\n",
      "after loading (10000, 23797)\n",
      "filtering by number of min_cells with gene\n"
     ]
    },
    {
     "name": "stderr",
     "output_type": "stream",
     "text": [
      "Trying to set attribute `.var` of view, copying.\n"
     ]
    },
    {
     "name": "stdout",
     "output_type": "stream",
     "text": [
      "after (10000, 18176)\n",
      "['Chen_b', 'Chen_c', 'Chen_a']\n",
      "Series([], Name: dataset, dtype: int64)\n",
      "Chen_a _500\n",
      "Chen_a_500.h5ad\n",
      "../../data/integration_march_2021/input/bydataset_500/Chen_a_500.h5ad\n",
      "after loading (20000, 15903)\n",
      "filtering by number of min_cells with gene\n"
     ]
    },
    {
     "name": "stderr",
     "output_type": "stream",
     "text": [
      "Trying to set attribute `.var` of view, copying.\n"
     ]
    },
    {
     "name": "stdout",
     "output_type": "stream",
     "text": [
      "after (20000, 14453)\n",
      "['Chen_b', 'Chen_c', 'Chen_a']\n",
      "Series([], Name: dataset, dtype: int64)\n",
      "objects before concatenation\n",
      "concatenating...\n"
     ]
    },
    {
     "name": "stderr",
     "output_type": "stream",
     "text": [
      "Trying to set attribute `.obs` of view, copying.\n"
     ]
    },
    {
     "name": "stdout",
     "output_type": "stream",
     "text": [
      "names upon integration\n",
      "Index(['AAAGGATTCTTGCAGA-1-0:Chen_b:0', 'AAAGGGCGTCTGGTTA-1-0:Chen_b:0',\n",
      "       'AAAGTGACATGTGACT-1-0:Chen_b:0', 'AAATGGACACCTTCGT-1-0:Chen_b:0',\n",
      "       'AAATGGACATCCCACT-1-0:Chen_b:0', 'AACAACCAGACTTCAC-1-0:Chen_b:0',\n",
      "       'AACAACCTCCGTGCGA-1-0:Chen_b:0', 'AACCAACGTGTTCATG-1-0:Chen_b:0',\n",
      "       'AACCATGTCTGAGGTT-1-0:Chen_b:0', 'AACGGGAAGGTGCTGA-1-0:Chen_b:0',\n",
      "       ...\n",
      "       'TTGTTCAAGACGTCCC-1-39:Chen_a:39', 'TTGTTGTAGGGCATGT-1-39:Chen_a:39',\n",
      "       'TTTACGTAGCCTCTCT-1-39:Chen_a:39', 'TTTACGTTCCTAGAGT-1-39:Chen_a:39',\n",
      "       'TTTACGTTCTCCGAAA-1-39:Chen_a:39', 'TTTACTGAGTACAGAT-1-39:Chen_a:39',\n",
      "       'TTTATGCGTACGAGCA-1-39:Chen_a:39', 'TTTATGCGTGGCCCAT-1-39:Chen_a:39',\n",
      "       'TTTGATCCATCGAAGG-1-39:Chen_a:39', 'TTTGGAGGTTCCTACC-1-39:Chen_a:39'],\n",
      "      dtype='object', length=37500)\n",
      "ad1\n",
      "loading datasets 1 done...\n",
      "Chen_a    20000\n",
      "Chen_c    10000\n",
      "Chen_b     7500\n",
      "Name: dataset, dtype: int64\n"
     ]
    },
    {
     "name": "stderr",
     "output_type": "stream",
     "text": [
      "... storing 'batch' as categorical\n",
      "Trying to set attribute `.obs` of view, copying.\n",
      "... storing 'dataset' as categorical\n",
      "Trying to set attribute `.obs` of view, copying.\n",
      "... storing 'filename' as categorical\n",
      "Trying to set attribute `.obs` of view, copying.\n",
      "... storing 'scpred_prediction' as categorical\n",
      "Trying to set attribute `.obs` of view, copying.\n",
      "... storing 'cell.type' as categorical\n"
     ]
    },
    {
     "name": "stdout",
     "output_type": "stream",
     "text": [
      "../../data/integration_march_2021/input/input_500_cells_Chen_part1.h5ad\n",
      "../../data/integration_march_2021/input/input_500_cells_Chen.h5ad\n",
      "../../data/integration_march_2021/input/input_500_cells_Chen_part3.h5ad\n"
     ]
    },
    {
     "name": "stderr",
     "output_type": "stream",
     "text": [
      "Trying to set attribute `.obs` of view, copying.\n"
     ]
    },
    {
     "name": "stdout",
     "output_type": "stream",
     "text": [
      "Chen_a    20000\n",
      "Chen_c    10000\n",
      "Chen_b     7500\n",
      "Name: dataset, dtype: int64\n",
      "concatenating...\n",
      "done...\n",
      "ad final\n",
      "(37500, 13144)\n"
     ]
    },
    {
     "name": "stderr",
     "output_type": "stream",
     "text": [
      "Trying to set attribute `.obs` of view, copying.\n"
     ]
    },
    {
     "name": "stdout",
     "output_type": "stream",
     "text": [
      "before batch filter (n=100)\n",
      "(37500, 13144)\n"
     ]
    },
    {
     "name": "stderr",
     "output_type": "stream",
     "text": [
      "... storing 'batch.merged' as categorical\n",
      "... storing 'donor' as categorical\n"
     ]
    },
    {
     "name": "stdout",
     "output_type": "stream",
     "text": [
      "after batch filter (n=100)\n",
      "(37500, 13144)\n",
      "saving to output...\n",
      "done...\n",
      "False ../../data/integration_march_2021/input/input_500_cells_Chen+Hackney.h5ad\n",
      "Chen+Hackney ['Chen_b', 'Chen_c', 'Chen_a', 'Hackney']\n",
      "['Chen_b', 'Chen_c', 'Chen_a', 'Hackney']\n",
      "[]\n",
      "[]\n",
      "Chen_b _500\n",
      "Chen_b_500.h5ad\n",
      "../../data/integration_march_2021/input/bydataset_500/Chen_b_500.h5ad\n"
     ]
    },
    {
     "name": "stderr",
     "output_type": "stream",
     "text": [
      "Trying to set attribute `.var` of view, copying.\n"
     ]
    },
    {
     "name": "stdout",
     "output_type": "stream",
     "text": [
      "after loading (7500, 23428)\n",
      "filtering by number of min_cells with gene\n",
      "after (7500, 16958)\n",
      "['Chen_b', 'Chen_c', 'Chen_a', 'Hackney']\n",
      "Series([], Name: dataset, dtype: int64)\n",
      "Chen_c _500\n",
      "Chen_c_500.h5ad\n",
      "../../data/integration_march_2021/input/bydataset_500/Chen_c_500.h5ad\n",
      "after loading (10000, 23797)\n",
      "filtering by number of min_cells with gene\n"
     ]
    },
    {
     "name": "stderr",
     "output_type": "stream",
     "text": [
      "Trying to set attribute `.var` of view, copying.\n"
     ]
    },
    {
     "name": "stdout",
     "output_type": "stream",
     "text": [
      "after (10000, 18176)\n",
      "['Chen_b', 'Chen_c', 'Chen_a', 'Hackney']\n",
      "Series([], Name: dataset, dtype: int64)\n",
      "Chen_a _500\n",
      "Chen_a_500.h5ad\n",
      "../../data/integration_march_2021/input/bydataset_500/Chen_a_500.h5ad\n",
      "after loading (20000, 15903)\n",
      "filtering by number of min_cells with gene\n"
     ]
    },
    {
     "name": "stderr",
     "output_type": "stream",
     "text": [
      "Trying to set attribute `.var` of view, copying.\n"
     ]
    },
    {
     "name": "stdout",
     "output_type": "stream",
     "text": [
      "after (20000, 14453)\n",
      "['Chen_b', 'Chen_c', 'Chen_a', 'Hackney']\n",
      "Series([], Name: dataset, dtype: int64)\n",
      "Hackney _500\n",
      "Hackney_500.h5ad\n",
      "../../data/integration_march_2021/input/bydataset_500/Hackney_500.h5ad\n"
     ]
    },
    {
     "name": "stderr",
     "output_type": "stream",
     "text": [
      "Trying to set attribute `.var` of view, copying.\n"
     ]
    },
    {
     "name": "stdout",
     "output_type": "stream",
     "text": [
      "after loading (5499, 36974)\n",
      "filtering by number of min_cells with gene\n",
      "after (5499, 19090)\n",
      "['Chen_b', 'Chen_c', 'Chen_a', 'Hackney']\n",
      "Series([], Name: dataset, dtype: int64)\n",
      "objects before concatenation\n",
      "concatenating...\n"
     ]
    },
    {
     "name": "stderr",
     "output_type": "stream",
     "text": [
      "Trying to set attribute `.obs` of view, copying.\n"
     ]
    },
    {
     "name": "stdout",
     "output_type": "stream",
     "text": [
      "names upon integration\n",
      "Index(['AAAGGATTCTTGCAGA-1-0:Chen_b:0', 'AAAGGGCGTCTGGTTA-1-0:Chen_b:0',\n",
      "       'AAAGTGACATGTGACT-1-0:Chen_b:0', 'AAATGGACACCTTCGT-1-0:Chen_b:0',\n",
      "       'AAATGGACATCCCACT-1-0:Chen_b:0', 'AACAACCAGACTTCAC-1-0:Chen_b:0',\n",
      "       'AACAACCTCCGTGCGA-1-0:Chen_b:0', 'AACCAACGTGTTCATG-1-0:Chen_b:0',\n",
      "       'AACCATGTCTGAGGTT-1-0:Chen_b:0', 'AACGGGAAGGTGCTGA-1-0:Chen_b:0',\n",
      "       ...\n",
      "       'CELL3965982-10:Hackney:10', 'CELL3965997-10:Hackney:10',\n",
      "       'CELL3966000-10:Hackney:10', 'CELL3966028-10:Hackney:10',\n",
      "       'CELL3966046-10:Hackney:10', 'CELL3966111-10:Hackney:10',\n",
      "       'CELL3966117-10:Hackney:10', 'CELL3966137-10:Hackney:10',\n",
      "       'CELL3966149-10:Hackney:10', 'CELL3966180-10:Hackney:10'],\n",
      "      dtype='object', length=42999)\n",
      "ad1\n",
      "loading datasets 1 done...\n",
      "Chen_a     20000\n",
      "Chen_c     10000\n",
      "Chen_b      7500\n",
      "Hackney     5499\n",
      "Name: dataset, dtype: int64\n"
     ]
    },
    {
     "name": "stderr",
     "output_type": "stream",
     "text": [
      "... storing 'batch' as categorical\n",
      "Trying to set attribute `.obs` of view, copying.\n",
      "... storing 'dataset' as categorical\n",
      "Trying to set attribute `.obs` of view, copying.\n",
      "... storing 'filename' as categorical\n",
      "Trying to set attribute `.obs` of view, copying.\n",
      "... storing 'scpred_prediction' as categorical\n",
      "Trying to set attribute `.obs` of view, copying.\n",
      "... storing 'cell.type' as categorical\n"
     ]
    },
    {
     "name": "stdout",
     "output_type": "stream",
     "text": [
      "../../data/integration_march_2021/input/input_500_cells_Chen+Hackney_part1.h5ad\n",
      "../../data/integration_march_2021/input/input_500_cells_Chen+Hackney.h5ad\n",
      "../../data/integration_march_2021/input/input_500_cells_Chen+Hackney_part3.h5ad\n"
     ]
    },
    {
     "name": "stderr",
     "output_type": "stream",
     "text": [
      "Trying to set attribute `.obs` of view, copying.\n"
     ]
    },
    {
     "name": "stdout",
     "output_type": "stream",
     "text": [
      "Chen_a     20000\n",
      "Chen_c     10000\n",
      "Chen_b      7500\n",
      "Hackney     5499\n",
      "Name: dataset, dtype: int64\n",
      "concatenating...\n",
      "done...\n",
      "ad final\n",
      "(42999, 12451)\n"
     ]
    },
    {
     "name": "stderr",
     "output_type": "stream",
     "text": [
      "Trying to set attribute `.obs` of view, copying.\n"
     ]
    },
    {
     "name": "stdout",
     "output_type": "stream",
     "text": [
      "before batch filter (n=100)\n",
      "(42999, 12451)\n"
     ]
    },
    {
     "name": "stderr",
     "output_type": "stream",
     "text": [
      "... storing 'batch.merged' as categorical\n",
      "... storing 'donor' as categorical\n"
     ]
    },
    {
     "name": "stdout",
     "output_type": "stream",
     "text": [
      "after batch filter (n=100)\n",
      "(42999, 12451)\n",
      "saving to output...\n",
      "done...\n",
      "False ../../data/integration_march_2021/input/input_500_cells_Chen+Roska.h5ad\n",
      "Chen+Roska ['Chen_b', 'Chen_c', 'Chen_a', 'Roska']\n",
      "['Chen_b', 'Chen_c', 'Chen_a', 'Roska']\n",
      "[]\n",
      "[]\n",
      "Chen_b _500\n",
      "Chen_b_500.h5ad\n",
      "../../data/integration_march_2021/input/bydataset_500/Chen_b_500.h5ad\n"
     ]
    },
    {
     "name": "stderr",
     "output_type": "stream",
     "text": [
      "Trying to set attribute `.var` of view, copying.\n"
     ]
    },
    {
     "name": "stdout",
     "output_type": "stream",
     "text": [
      "after loading (7500, 23428)\n",
      "filtering by number of min_cells with gene\n",
      "after (7500, 16958)\n",
      "['Chen_b', 'Chen_c', 'Chen_a', 'Roska']\n",
      "Series([], Name: dataset, dtype: int64)\n",
      "Chen_c _500\n",
      "Chen_c_500.h5ad\n",
      "../../data/integration_march_2021/input/bydataset_500/Chen_c_500.h5ad\n",
      "after loading (10000, 23797)\n",
      "filtering by number of min_cells with gene\n"
     ]
    },
    {
     "name": "stderr",
     "output_type": "stream",
     "text": [
      "Trying to set attribute `.var` of view, copying.\n"
     ]
    },
    {
     "name": "stdout",
     "output_type": "stream",
     "text": [
      "after (10000, 18176)\n",
      "['Chen_b', 'Chen_c', 'Chen_a', 'Roska']\n",
      "Series([], Name: dataset, dtype: int64)\n",
      "Chen_a _500\n",
      "Chen_a_500.h5ad\n",
      "../../data/integration_march_2021/input/bydataset_500/Chen_a_500.h5ad\n",
      "after loading (20000, 15903)\n",
      "filtering by number of min_cells with gene\n"
     ]
    },
    {
     "name": "stderr",
     "output_type": "stream",
     "text": [
      "Trying to set attribute `.var` of view, copying.\n"
     ]
    },
    {
     "name": "stdout",
     "output_type": "stream",
     "text": [
      "after (20000, 14453)\n",
      "['Chen_b', 'Chen_c', 'Chen_a', 'Roska']\n",
      "Series([], Name: dataset, dtype: int64)\n",
      "Roska _500\n",
      "Roska_500.h5ad\n",
      "../../data/integration_march_2021/input/bydataset_500/Roska_500.h5ad\n"
     ]
    },
    {
     "name": "stderr",
     "output_type": "stream",
     "text": [
      "Trying to set attribute `.var` of view, copying.\n"
     ]
    },
    {
     "name": "stdout",
     "output_type": "stream",
     "text": [
      "after loading (10109, 12385)\n",
      "filtering by number of min_cells with gene\n",
      "after (10109, 12310)\n",
      "['Chen_b', 'Chen_c', 'Chen_a', 'Roska']\n",
      "Series([], Name: dataset, dtype: int64)\n",
      "objects before concatenation\n",
      "concatenating...\n"
     ]
    },
    {
     "name": "stderr",
     "output_type": "stream",
     "text": [
      "Trying to set attribute `.obs` of view, copying.\n"
     ]
    },
    {
     "name": "stdout",
     "output_type": "stream",
     "text": [
      "names upon integration\n",
      "Index(['AAAGGATTCTTGCAGA-1-0:Chen_b:0', 'AAAGGGCGTCTGGTTA-1-0:Chen_b:0',\n",
      "       'AAAGTGACATGTGACT-1-0:Chen_b:0', 'AAATGGACACCTTCGT-1-0:Chen_b:0',\n",
      "       'AAATGGACATCCCACT-1-0:Chen_b:0', 'AACAACCAGACTTCAC-1-0:Chen_b:0',\n",
      "       'AACAACCTCCGTGCGA-1-0:Chen_b:0', 'AACCAACGTGTTCATG-1-0:Chen_b:0',\n",
      "       'AACCATGTCTGAGGTT-1-0:Chen_b:0', 'AACGGGAAGGTGCTGA-1-0:Chen_b:0',\n",
      "       ...\n",
      "       'TGGTTAGGTCTAAAGA-1-22:Roska:22', 'TGGTTCCCACTAGTAC-1-22:Roska:22',\n",
      "       'TGTCCCACAGCCACCA-1-22:Roska:22', 'TGTCCCAGTAGAGCTG-1-22:Roska:22',\n",
      "       'TGTTCCGGTCAAACTC-1-22:Roska:22', 'TGTTCCGTCTCAAACG-1-22:Roska:22',\n",
      "       'TTAGGACCACTTAACG-1-22:Roska:22', 'TTCTCCTTCTCTGAGA-1-22:Roska:22',\n",
      "       'TTGGCAATCCGCGCAA-1-22:Roska:22', 'TTTGGTTTCTGTGCAA-1-22:Roska:22'],\n",
      "      dtype='object', length=47609)\n",
      "ad1\n",
      "loading datasets 1 done...\n",
      "Chen_a    20000\n",
      "Roska     10109\n",
      "Chen_c    10000\n",
      "Chen_b     7500\n",
      "Name: dataset, dtype: int64\n"
     ]
    },
    {
     "name": "stderr",
     "output_type": "stream",
     "text": [
      "... storing 'batch' as categorical\n",
      "Trying to set attribute `.obs` of view, copying.\n",
      "... storing 'dataset' as categorical\n",
      "Trying to set attribute `.obs` of view, copying.\n",
      "... storing 'filename' as categorical\n",
      "Trying to set attribute `.obs` of view, copying.\n",
      "... storing 'scpred_prediction' as categorical\n",
      "Trying to set attribute `.obs` of view, copying.\n",
      "... storing 'cell.type' as categorical\n"
     ]
    },
    {
     "name": "stdout",
     "output_type": "stream",
     "text": [
      "../../data/integration_march_2021/input/input_500_cells_Chen+Roska_part1.h5ad\n",
      "../../data/integration_march_2021/input/input_500_cells_Chen+Roska.h5ad\n",
      "../../data/integration_march_2021/input/input_500_cells_Chen+Roska_part3.h5ad\n"
     ]
    },
    {
     "name": "stderr",
     "output_type": "stream",
     "text": [
      "Trying to set attribute `.obs` of view, copying.\n"
     ]
    },
    {
     "name": "stdout",
     "output_type": "stream",
     "text": [
      "Chen_a    20000\n",
      "Roska     10109\n",
      "Chen_c    10000\n",
      "Chen_b     7500\n",
      "Name: dataset, dtype: int64\n",
      "concatenating...\n",
      "done...\n",
      "ad final\n",
      "(47609, 9743)\n"
     ]
    },
    {
     "name": "stderr",
     "output_type": "stream",
     "text": [
      "Trying to set attribute `.obs` of view, copying.\n"
     ]
    },
    {
     "name": "stdout",
     "output_type": "stream",
     "text": [
      "before batch filter (n=100)\n",
      "(47609, 9743)\n"
     ]
    },
    {
     "name": "stderr",
     "output_type": "stream",
     "text": [
      "... storing 'orig.ident' as categorical\n",
      "... storing 'seurat_clusters' as categorical\n",
      "... storing 'batch.merged' as categorical\n",
      "... storing 'donor' as categorical\n"
     ]
    },
    {
     "name": "stdout",
     "output_type": "stream",
     "text": [
      "after batch filter (n=100)\n",
      "(47424, 9743)\n",
      "saving to output...\n",
      "done...\n",
      "False ../../data/integration_march_2021/input/input_500_cells_Chen+Hafler.h5ad\n",
      "Chen+Hafler ['Chen_b', 'Chen_c', 'Chen_a', 'Hafler']\n",
      "['Chen_b', 'Chen_c', 'Chen_a', 'Hafler']\n",
      "[]\n",
      "[]\n",
      "Chen_b _500\n",
      "Chen_b_500.h5ad\n",
      "../../data/integration_march_2021/input/bydataset_500/Chen_b_500.h5ad\n"
     ]
    },
    {
     "name": "stderr",
     "output_type": "stream",
     "text": [
      "Trying to set attribute `.var` of view, copying.\n"
     ]
    },
    {
     "name": "stdout",
     "output_type": "stream",
     "text": [
      "after loading (7500, 23428)\n",
      "filtering by number of min_cells with gene\n",
      "after (7500, 16958)\n",
      "['Chen_b', 'Chen_c', 'Chen_a', 'Hafler']\n",
      "Series([], Name: dataset, dtype: int64)\n",
      "Chen_c _500\n",
      "Chen_c_500.h5ad\n",
      "../../data/integration_march_2021/input/bydataset_500/Chen_c_500.h5ad\n",
      "after loading (10000, 23797)\n",
      "filtering by number of min_cells with gene\n"
     ]
    },
    {
     "name": "stderr",
     "output_type": "stream",
     "text": [
      "Trying to set attribute `.var` of view, copying.\n"
     ]
    },
    {
     "name": "stdout",
     "output_type": "stream",
     "text": [
      "after (10000, 18176)\n",
      "['Chen_b', 'Chen_c', 'Chen_a', 'Hafler']\n",
      "Series([], Name: dataset, dtype: int64)\n",
      "Chen_a _500\n",
      "Chen_a_500.h5ad\n",
      "../../data/integration_march_2021/input/bydataset_500/Chen_a_500.h5ad\n",
      "after loading (20000, 15903)\n",
      "filtering by number of min_cells with gene\n"
     ]
    },
    {
     "name": "stderr",
     "output_type": "stream",
     "text": [
      "Trying to set attribute `.var` of view, copying.\n"
     ]
    },
    {
     "name": "stdout",
     "output_type": "stream",
     "text": [
      "after (20000, 14453)\n",
      "['Chen_b', 'Chen_c', 'Chen_a', 'Hafler']\n",
      "Series([], Name: dataset, dtype: int64)\n",
      "Hafler _500\n",
      "Hafler_500.h5ad\n",
      "../../data/integration_march_2021/input/bydataset_500/Hafler_500.h5ad\n"
     ]
    },
    {
     "name": "stderr",
     "output_type": "stream",
     "text": [
      "Trying to set attribute `.var` of view, copying.\n"
     ]
    },
    {
     "name": "stdout",
     "output_type": "stream",
     "text": [
      "after loading (2630, 13913)\n",
      "filtering by number of min_cells with gene\n",
      "after (2630, 10350)\n",
      "['Chen_b', 'Chen_c', 'Chen_a', 'Hafler']\n",
      "Series([], Name: dataset, dtype: int64)\n",
      "objects before concatenation\n",
      "concatenating...\n"
     ]
    },
    {
     "name": "stderr",
     "output_type": "stream",
     "text": [
      "Trying to set attribute `.obs` of view, copying.\n"
     ]
    },
    {
     "name": "stdout",
     "output_type": "stream",
     "text": [
      "names upon integration\n",
      "Index(['AAAGGATTCTTGCAGA-1-0:Chen_b:0', 'AAAGGGCGTCTGGTTA-1-0:Chen_b:0',\n",
      "       'AAAGTGACATGTGACT-1-0:Chen_b:0', 'AAATGGACACCTTCGT-1-0:Chen_b:0',\n",
      "       'AAATGGACATCCCACT-1-0:Chen_b:0', 'AACAACCAGACTTCAC-1-0:Chen_b:0',\n",
      "       'AACAACCTCCGTGCGA-1-0:Chen_b:0', 'AACCAACGTGTTCATG-1-0:Chen_b:0',\n",
      "       'AACCATGTCTGAGGTT-1-0:Chen_b:0', 'AACGGGAAGGTGCTGA-1-0:Chen_b:0',\n",
      "       ...\n",
      "       'TTGAGTGTCCCATAGA-1-5:Hafler:5', 'TTGGATGGTTTAGAGA-1-5:Hafler:5',\n",
      "       'TTGTGGATCTAGTGTG-1-5:Hafler:5', 'TTGTTGTAGCCTCACG-1-5:Hafler:5',\n",
      "       'TTGTTTGCAACTGGTT-1-5:Hafler:5', 'TTTACTGGTACCCAGC-1-5:Hafler:5',\n",
      "       'TTTACTGTCCTCCACA-1-5:Hafler:5', 'TTTATGCTCCTGATAG-1-5:Hafler:5',\n",
      "       'TTTCGATCAACTGGTT-1-5:Hafler:5', 'TTTGACTAGTCACTGT-1-5:Hafler:5'],\n",
      "      dtype='object', length=40130)\n",
      "ad1\n",
      "loading datasets 1 done...\n",
      "Chen_a    20000\n",
      "Chen_c    10000\n",
      "Chen_b     7500\n",
      "Hafler     2630\n",
      "Name: dataset, dtype: int64\n"
     ]
    },
    {
     "name": "stderr",
     "output_type": "stream",
     "text": [
      "... storing 'batch' as categorical\n",
      "Trying to set attribute `.obs` of view, copying.\n",
      "... storing 'dataset' as categorical\n",
      "Trying to set attribute `.obs` of view, copying.\n",
      "... storing 'filename' as categorical\n",
      "Trying to set attribute `.obs` of view, copying.\n",
      "... storing 'scpred_prediction' as categorical\n",
      "Trying to set attribute `.obs` of view, copying.\n",
      "... storing 'cell.type' as categorical\n"
     ]
    },
    {
     "name": "stdout",
     "output_type": "stream",
     "text": [
      "../../data/integration_march_2021/input/input_500_cells_Chen+Hafler_part1.h5ad\n",
      "../../data/integration_march_2021/input/input_500_cells_Chen+Hafler.h5ad\n",
      "../../data/integration_march_2021/input/input_500_cells_Chen+Hafler_part3.h5ad\n"
     ]
    },
    {
     "name": "stderr",
     "output_type": "stream",
     "text": [
      "Trying to set attribute `.obs` of view, copying.\n"
     ]
    },
    {
     "name": "stdout",
     "output_type": "stream",
     "text": [
      "Chen_a    20000\n",
      "Chen_c    10000\n",
      "Chen_b     7500\n",
      "Hafler     2630\n",
      "Name: dataset, dtype: int64\n",
      "concatenating...\n",
      "done...\n",
      "ad final\n",
      "(40130, 8762)\n"
     ]
    },
    {
     "name": "stderr",
     "output_type": "stream",
     "text": [
      "Trying to set attribute `.obs` of view, copying.\n"
     ]
    },
    {
     "name": "stdout",
     "output_type": "stream",
     "text": [
      "before batch filter (n=100)\n",
      "(40130, 8762)\n"
     ]
    },
    {
     "name": "stderr",
     "output_type": "stream",
     "text": [
      "... storing 'batch.merged' as categorical\n",
      "... storing 'donor' as categorical\n"
     ]
    },
    {
     "name": "stdout",
     "output_type": "stream",
     "text": [
      "after batch filter (n=100)\n",
      "(40130, 8762)\n",
      "saving to output...\n",
      "done...\n",
      "False ../../data/integration_march_2021/input/input_500_cells_Chen+Wong.h5ad\n",
      "Chen+Wong ['Chen_b', 'Chen_c', 'Chen_a', 'Wong']\n",
      "['Chen_b', 'Chen_c', 'Chen_a', 'Wong']\n",
      "[]\n",
      "[]\n",
      "Chen_b _500\n",
      "Chen_b_500.h5ad\n",
      "../../data/integration_march_2021/input/bydataset_500/Chen_b_500.h5ad\n"
     ]
    },
    {
     "name": "stderr",
     "output_type": "stream",
     "text": [
      "Trying to set attribute `.var` of view, copying.\n"
     ]
    },
    {
     "name": "stdout",
     "output_type": "stream",
     "text": [
      "after loading (7500, 23428)\n",
      "filtering by number of min_cells with gene\n",
      "after (7500, 16958)\n",
      "['Chen_b', 'Chen_c', 'Chen_a', 'Wong']\n",
      "Series([], Name: dataset, dtype: int64)\n",
      "Chen_c _500\n",
      "Chen_c_500.h5ad\n",
      "../../data/integration_march_2021/input/bydataset_500/Chen_c_500.h5ad\n",
      "after loading (10000, 23797)\n",
      "filtering by number of min_cells with gene\n"
     ]
    },
    {
     "name": "stderr",
     "output_type": "stream",
     "text": [
      "Trying to set attribute `.var` of view, copying.\n"
     ]
    },
    {
     "name": "stdout",
     "output_type": "stream",
     "text": [
      "after (10000, 18176)\n",
      "['Chen_b', 'Chen_c', 'Chen_a', 'Wong']\n",
      "Series([], Name: dataset, dtype: int64)\n",
      "Chen_a _500\n",
      "Chen_a_500.h5ad\n",
      "../../data/integration_march_2021/input/bydataset_500/Chen_a_500.h5ad\n",
      "after loading (20000, 15903)\n",
      "filtering by number of min_cells with gene\n"
     ]
    },
    {
     "name": "stderr",
     "output_type": "stream",
     "text": [
      "Trying to set attribute `.var` of view, copying.\n"
     ]
    },
    {
     "name": "stdout",
     "output_type": "stream",
     "text": [
      "after (20000, 14453)\n",
      "['Chen_b', 'Chen_c', 'Chen_a', 'Wong']\n",
      "Series([], Name: dataset, dtype: int64)\n",
      "Wong _500\n",
      "Wong_500.h5ad\n",
      "../../data/integration_march_2021/input/bydataset_500/Wong_500.h5ad\n"
     ]
    },
    {
     "name": "stderr",
     "output_type": "stream",
     "text": [
      "Trying to set attribute `.var` of view, copying.\n"
     ]
    },
    {
     "name": "stdout",
     "output_type": "stream",
     "text": [
      "after loading (2500, 18769)\n",
      "filtering by number of min_cells with gene\n",
      "after (2500, 11280)\n",
      "['Chen_b', 'Chen_c', 'Chen_a', 'Wong']\n",
      "Series([], Name: dataset, dtype: int64)\n",
      "objects before concatenation\n",
      "concatenating...\n"
     ]
    },
    {
     "name": "stderr",
     "output_type": "stream",
     "text": [
      "Trying to set attribute `.obs` of view, copying.\n"
     ]
    },
    {
     "name": "stdout",
     "output_type": "stream",
     "text": [
      "names upon integration\n",
      "Index(['AAAGGATTCTTGCAGA-1-0:Chen_b:0', 'AAAGGGCGTCTGGTTA-1-0:Chen_b:0',\n",
      "       'AAAGTGACATGTGACT-1-0:Chen_b:0', 'AAATGGACACCTTCGT-1-0:Chen_b:0',\n",
      "       'AAATGGACATCCCACT-1-0:Chen_b:0', 'AACAACCAGACTTCAC-1-0:Chen_b:0',\n",
      "       'AACAACCTCCGTGCGA-1-0:Chen_b:0', 'AACCAACGTGTTCATG-1-0:Chen_b:0',\n",
      "       'AACCATGTCTGAGGTT-1-0:Chen_b:0', 'AACGGGAAGGTGCTGA-1-0:Chen_b:0',\n",
      "       ...\n",
      "       'TTGAACGAGTGTCCCG-1-4:Wong:4', 'TTGAACGTCCAGAGGA-1-4:Wong:4',\n",
      "       'TTGCCGTAGGGCTTCC-1-4:Wong:4', 'TTGGAACTCATGCAAC-1-4:Wong:4',\n",
      "       'TTGGCAAAGATGGGTC-1-4:Wong:4', 'TTGTAGGCATCACCCT-1-4:Wong:4',\n",
      "       'TTTACTGAGACGCAAC-1-4:Wong:4', 'TTTACTGTCAAAGTAG-1-4:Wong:4',\n",
      "       'TTTATGCCATAACCTG-1-4:Wong:4', 'TTTGCGCTCGGCGCTA-1-4:Wong:4'],\n",
      "      dtype='object', length=40000)\n",
      "ad1\n",
      "loading datasets 1 done...\n",
      "Chen_a    20000\n",
      "Chen_c    10000\n",
      "Chen_b     7500\n",
      "Wong       2500\n",
      "Name: dataset, dtype: int64\n"
     ]
    },
    {
     "name": "stderr",
     "output_type": "stream",
     "text": [
      "... storing 'batch' as categorical\n",
      "Trying to set attribute `.obs` of view, copying.\n",
      "... storing 'dataset' as categorical\n",
      "Trying to set attribute `.obs` of view, copying.\n",
      "... storing 'filename' as categorical\n",
      "Trying to set attribute `.obs` of view, copying.\n",
      "... storing 'scpred_prediction' as categorical\n",
      "Trying to set attribute `.obs` of view, copying.\n",
      "... storing 'cell.type' as categorical\n"
     ]
    },
    {
     "name": "stdout",
     "output_type": "stream",
     "text": [
      "../../data/integration_march_2021/input/input_500_cells_Chen+Wong_part1.h5ad\n",
      "../../data/integration_march_2021/input/input_500_cells_Chen+Wong.h5ad\n",
      "../../data/integration_march_2021/input/input_500_cells_Chen+Wong_part3.h5ad\n"
     ]
    },
    {
     "name": "stderr",
     "output_type": "stream",
     "text": [
      "Trying to set attribute `.obs` of view, copying.\n"
     ]
    },
    {
     "name": "stdout",
     "output_type": "stream",
     "text": [
      "Chen_a    20000\n",
      "Chen_c    10000\n",
      "Chen_b     7500\n",
      "Wong       2500\n",
      "Name: dataset, dtype: int64\n",
      "concatenating...\n",
      "done...\n",
      "ad final\n",
      "(40000, 9355)\n"
     ]
    },
    {
     "name": "stderr",
     "output_type": "stream",
     "text": [
      "Trying to set attribute `.obs` of view, copying.\n"
     ]
    },
    {
     "name": "stdout",
     "output_type": "stream",
     "text": [
      "before batch filter (n=100)\n",
      "(40000, 9355)\n"
     ]
    },
    {
     "name": "stderr",
     "output_type": "stream",
     "text": [
      "... storing 'batch.merged' as categorical\n",
      "... storing 'donor' as categorical\n"
     ]
    },
    {
     "name": "stdout",
     "output_type": "stream",
     "text": [
      "after batch filter (n=100)\n",
      "(40000, 9355)\n",
      "saving to output...\n",
      "done...\n",
      "False ../../data/integration_march_2021/input/input_500_cells_Chen+Scheetz.h5ad\n",
      "Chen+Scheetz ['Chen_b', 'Chen_c', 'Chen_a', 'Scheetz']\n",
      "['Chen_b', 'Chen_c', 'Chen_a', 'Scheetz']\n",
      "[]\n",
      "[]\n",
      "Chen_b _500\n",
      "Chen_b_500.h5ad\n",
      "../../data/integration_march_2021/input/bydataset_500/Chen_b_500.h5ad\n"
     ]
    },
    {
     "name": "stderr",
     "output_type": "stream",
     "text": [
      "Trying to set attribute `.var` of view, copying.\n"
     ]
    },
    {
     "name": "stdout",
     "output_type": "stream",
     "text": [
      "after loading (7500, 23428)\n",
      "filtering by number of min_cells with gene\n",
      "after (7500, 16958)\n",
      "['Chen_b', 'Chen_c', 'Chen_a', 'Scheetz']\n",
      "Series([], Name: dataset, dtype: int64)\n",
      "Chen_c _500\n",
      "Chen_c_500.h5ad\n",
      "../../data/integration_march_2021/input/bydataset_500/Chen_c_500.h5ad\n",
      "after loading (10000, 23797)\n",
      "filtering by number of min_cells with gene\n"
     ]
    },
    {
     "name": "stderr",
     "output_type": "stream",
     "text": [
      "Trying to set attribute `.var` of view, copying.\n"
     ]
    },
    {
     "name": "stdout",
     "output_type": "stream",
     "text": [
      "after (10000, 18176)\n",
      "['Chen_b', 'Chen_c', 'Chen_a', 'Scheetz']\n",
      "Series([], Name: dataset, dtype: int64)\n",
      "Chen_a _500\n",
      "Chen_a_500.h5ad\n",
      "../../data/integration_march_2021/input/bydataset_500/Chen_a_500.h5ad\n",
      "after loading (20000, 15903)\n",
      "filtering by number of min_cells with gene\n"
     ]
    },
    {
     "name": "stderr",
     "output_type": "stream",
     "text": [
      "Trying to set attribute `.var` of view, copying.\n"
     ]
    },
    {
     "name": "stdout",
     "output_type": "stream",
     "text": [
      "after (20000, 14453)\n",
      "['Chen_b', 'Chen_c', 'Chen_a', 'Scheetz']\n",
      "Series([], Name: dataset, dtype: int64)\n",
      "Scheetz _500\n",
      "Scheetz_500.h5ad\n",
      "../../data/integration_march_2021/input/bydataset_500/Scheetz_500.h5ad\n"
     ]
    },
    {
     "name": "stderr",
     "output_type": "stream",
     "text": [
      "Trying to set attribute `.var` of view, copying.\n"
     ]
    },
    {
     "name": "stdout",
     "output_type": "stream",
     "text": [
      "after loading (2582, 16782)\n",
      "filtering by number of min_cells with gene\n",
      "after (2582, 13729)\n",
      "['Chen_b', 'Chen_c', 'Chen_a', 'Scheetz']\n",
      "Series([], Name: dataset, dtype: int64)\n",
      "objects before concatenation\n",
      "concatenating...\n"
     ]
    },
    {
     "name": "stderr",
     "output_type": "stream",
     "text": [
      "Trying to set attribute `.obs` of view, copying.\n"
     ]
    },
    {
     "name": "stdout",
     "output_type": "stream",
     "text": [
      "names upon integration\n",
      "Index(['AAAGGATTCTTGCAGA-1-0:Chen_b:0', 'AAAGGGCGTCTGGTTA-1-0:Chen_b:0',\n",
      "       'AAAGTGACATGTGACT-1-0:Chen_b:0', 'AAATGGACACCTTCGT-1-0:Chen_b:0',\n",
      "       'AAATGGACATCCCACT-1-0:Chen_b:0', 'AACAACCAGACTTCAC-1-0:Chen_b:0',\n",
      "       'AACAACCTCCGTGCGA-1-0:Chen_b:0', 'AACCAACGTGTTCATG-1-0:Chen_b:0',\n",
      "       'AACCATGTCTGAGGTT-1-0:Chen_b:0', 'AACGGGAAGGTGCTGA-1-0:Chen_b:0',\n",
      "       ...\n",
      "       'TTGGTTTGTCGAGCTC-1-5:Scheetz:5', 'TTGTGGAGTCACTTCC-1-5:Scheetz:5',\n",
      "       'TTGTGGATCTAGCAAC-1-5:Scheetz:5', 'TTTACCATCTTACACT-1-5:Scheetz:5',\n",
      "       'TTTATGCTCCATCCGT-1-5:Scheetz:5', 'TTTCACACATGCCGCA-1-5:Scheetz:5',\n",
      "       'TTTCACAGTATGCGGA-1-5:Scheetz:5', 'TTTCATGTCTCTTGCG-1-5:Scheetz:5',\n",
      "       'TTTGGAGCAAAGCTCT-1-5:Scheetz:5', 'TTTGTTGAGGCCTTGC-1-5:Scheetz:5'],\n",
      "      dtype='object', length=40082)\n",
      "ad1\n",
      "loading datasets 1 done...\n",
      "Chen_a     20000\n",
      "Chen_c     10000\n",
      "Chen_b      7500\n",
      "Scheetz     2582\n",
      "Name: dataset, dtype: int64\n"
     ]
    },
    {
     "name": "stderr",
     "output_type": "stream",
     "text": [
      "... storing 'batch' as categorical\n",
      "Trying to set attribute `.obs` of view, copying.\n",
      "... storing 'dataset' as categorical\n",
      "Trying to set attribute `.obs` of view, copying.\n",
      "... storing 'filename' as categorical\n",
      "Trying to set attribute `.obs` of view, copying.\n",
      "... storing 'scpred_prediction' as categorical\n",
      "Trying to set attribute `.obs` of view, copying.\n",
      "... storing 'cell.type' as categorical\n"
     ]
    },
    {
     "name": "stdout",
     "output_type": "stream",
     "text": [
      "../../data/integration_march_2021/input/input_500_cells_Chen+Scheetz_part1.h5ad\n",
      "../../data/integration_march_2021/input/input_500_cells_Chen+Scheetz.h5ad\n",
      "../../data/integration_march_2021/input/input_500_cells_Chen+Scheetz_part3.h5ad\n"
     ]
    },
    {
     "name": "stderr",
     "output_type": "stream",
     "text": [
      "Trying to set attribute `.obs` of view, copying.\n"
     ]
    },
    {
     "name": "stdout",
     "output_type": "stream",
     "text": [
      "Chen_a     20000\n",
      "Chen_c     10000\n",
      "Chen_b      7500\n",
      "Scheetz     2582\n",
      "Name: dataset, dtype: int64\n",
      "concatenating...\n",
      "done...\n",
      "ad final\n",
      "(40082, 10847)\n"
     ]
    },
    {
     "name": "stderr",
     "output_type": "stream",
     "text": [
      "Trying to set attribute `.obs` of view, copying.\n"
     ]
    },
    {
     "name": "stdout",
     "output_type": "stream",
     "text": [
      "before batch filter (n=100)\n",
      "(40082, 10847)\n"
     ]
    },
    {
     "name": "stderr",
     "output_type": "stream",
     "text": [
      "... storing 'batch.merged' as categorical\n",
      "... storing 'donor' as categorical\n"
     ]
    },
    {
     "name": "stdout",
     "output_type": "stream",
     "text": [
      "after batch filter (n=100)\n",
      "(40082, 10847)\n",
      "saving to output...\n",
      "done...\n",
      "False ../../data/integration_march_2021/input/input_500_cells_Chen+Sanes.h5ad\n",
      "Chen+Sanes ['Chen_b', 'Chen_c', 'Chen_a', 'Sanes']\n",
      "['Chen_b', 'Chen_c', 'Chen_a', 'Sanes']\n",
      "[]\n",
      "[]\n",
      "Chen_b _500\n",
      "Chen_b_500.h5ad\n",
      "../../data/integration_march_2021/input/bydataset_500/Chen_b_500.h5ad\n"
     ]
    },
    {
     "name": "stderr",
     "output_type": "stream",
     "text": [
      "Trying to set attribute `.var` of view, copying.\n"
     ]
    },
    {
     "name": "stdout",
     "output_type": "stream",
     "text": [
      "after loading (7500, 23428)\n",
      "filtering by number of min_cells with gene\n",
      "after (7500, 16958)\n",
      "['Chen_b', 'Chen_c', 'Chen_a', 'Sanes']\n",
      "Series([], Name: dataset, dtype: int64)\n",
      "Chen_c _500\n",
      "Chen_c_500.h5ad\n",
      "../../data/integration_march_2021/input/bydataset_500/Chen_c_500.h5ad\n",
      "after loading (10000, 23797)\n",
      "filtering by number of min_cells with gene\n"
     ]
    },
    {
     "name": "stderr",
     "output_type": "stream",
     "text": [
      "Trying to set attribute `.var` of view, copying.\n"
     ]
    },
    {
     "name": "stdout",
     "output_type": "stream",
     "text": [
      "after (10000, 18176)\n",
      "['Chen_b', 'Chen_c', 'Chen_a', 'Sanes']\n",
      "Series([], Name: dataset, dtype: int64)\n",
      "Chen_a _500\n",
      "Chen_a_500.h5ad\n",
      "../../data/integration_march_2021/input/bydataset_500/Chen_a_500.h5ad\n",
      "after loading (20000, 15903)\n",
      "filtering by number of min_cells with gene\n"
     ]
    },
    {
     "name": "stderr",
     "output_type": "stream",
     "text": [
      "Trying to set attribute `.var` of view, copying.\n"
     ]
    },
    {
     "name": "stdout",
     "output_type": "stream",
     "text": [
      "after (20000, 14453)\n",
      "['Chen_b', 'Chen_c', 'Chen_a', 'Sanes']\n",
      "Series([], Name: dataset, dtype: int64)\n",
      "Sanes _500\n",
      "Sanes_500.h5ad\n",
      "../../data/integration_march_2021/input/bydataset_500/Sanes_500.h5ad\n"
     ]
    },
    {
     "name": "stderr",
     "output_type": "stream",
     "text": [
      "Trying to set attribute `.var` of view, copying.\n"
     ]
    },
    {
     "name": "stdout",
     "output_type": "stream",
     "text": [
      "after loading (9020, 5682)\n",
      "filtering by number of min_cells with gene\n",
      "after (9020, 5630)\n",
      "['Chen_b', 'Chen_c', 'Chen_a', 'Sanes']\n",
      "Series([], Name: dataset, dtype: int64)\n",
      "objects before concatenation\n",
      "concatenating...\n"
     ]
    },
    {
     "name": "stderr",
     "output_type": "stream",
     "text": [
      "Trying to set attribute `.obs` of view, copying.\n"
     ]
    },
    {
     "name": "stdout",
     "output_type": "stream",
     "text": [
      "names upon integration\n",
      "Index(['AAAGGATTCTTGCAGA-1-0:Chen_b:0', 'AAAGGGCGTCTGGTTA-1-0:Chen_b:0',\n",
      "       'AAAGTGACATGTGACT-1-0:Chen_b:0', 'AAATGGACACCTTCGT-1-0:Chen_b:0',\n",
      "       'AAATGGACATCCCACT-1-0:Chen_b:0', 'AACAACCAGACTTCAC-1-0:Chen_b:0',\n",
      "       'AACAACCTCCGTGCGA-1-0:Chen_b:0', 'AACCAACGTGTTCATG-1-0:Chen_b:0',\n",
      "       'AACCATGTCTGAGGTT-1-0:Chen_b:0', 'AACGGGAAGGTGCTGA-1-0:Chen_b:0',\n",
      "       ...\n",
      "       'TTGGTTTTCTGGTCAA-1-18:Sanes:18', 'TTGTGGATCGCTATTT-1-18:Sanes:18',\n",
      "       'TTGTGTTTCGCAGATT-1-18:Sanes:18', 'TTGTTTGTCAGAGCGA-1-18:Sanes:18',\n",
      "       'TTTACCATCTCACTCG-1-18:Sanes:18', 'TTTACTGCAAGGTCGA-1-18:Sanes:18',\n",
      "       'TTTAGTCTCGGAGTGA-1-18:Sanes:18', 'TTTCACACAAGAAATC-1-18:Sanes:18',\n",
      "       'TTTCCTCCAGGGTCTC-1-18:Sanes:18', 'TTTGTTGAGGAACATT-1-18:Sanes:18'],\n",
      "      dtype='object', length=46520)\n",
      "ad1\n",
      "loading datasets 1 done...\n",
      "Chen_a    20000\n",
      "Chen_c    10000\n",
      "Sanes      9020\n",
      "Chen_b     7500\n",
      "Name: dataset, dtype: int64\n"
     ]
    },
    {
     "name": "stderr",
     "output_type": "stream",
     "text": [
      "... storing 'batch' as categorical\n",
      "Trying to set attribute `.obs` of view, copying.\n",
      "... storing 'dataset' as categorical\n",
      "Trying to set attribute `.obs` of view, copying.\n",
      "... storing 'filename' as categorical\n",
      "Trying to set attribute `.obs` of view, copying.\n",
      "... storing 'scpred_prediction' as categorical\n",
      "Trying to set attribute `.obs` of view, copying.\n",
      "... storing 'cell.type' as categorical\n"
     ]
    },
    {
     "name": "stdout",
     "output_type": "stream",
     "text": [
      "../../data/integration_march_2021/input/input_500_cells_Chen+Sanes_part1.h5ad\n",
      "../../data/integration_march_2021/input/input_500_cells_Chen+Sanes.h5ad\n",
      "../../data/integration_march_2021/input/input_500_cells_Chen+Sanes_part3.h5ad\n"
     ]
    },
    {
     "name": "stderr",
     "output_type": "stream",
     "text": [
      "Trying to set attribute `.obs` of view, copying.\n"
     ]
    },
    {
     "name": "stdout",
     "output_type": "stream",
     "text": [
      "Chen_a    20000\n",
      "Chen_c    10000\n",
      "Sanes      9020\n",
      "Chen_b     7500\n",
      "Name: dataset, dtype: int64\n",
      "concatenating...\n",
      "done...\n",
      "ad final\n",
      "(46520, 4809)\n"
     ]
    },
    {
     "name": "stderr",
     "output_type": "stream",
     "text": [
      "Trying to set attribute `.obs` of view, copying.\n"
     ]
    },
    {
     "name": "stdout",
     "output_type": "stream",
     "text": [
      "before batch filter (n=100)\n",
      "(46520, 4809)\n"
     ]
    },
    {
     "name": "stderr",
     "output_type": "stream",
     "text": [
      "... storing 'batch.merged' as categorical\n",
      "... storing 'donor' as categorical\n"
     ]
    },
    {
     "name": "stdout",
     "output_type": "stream",
     "text": [
      "after batch filter (n=100)\n",
      "(46497, 4809)\n",
      "saving to output...\n",
      "done...\n"
     ]
    }
   ],
   "source": [
    "import gc\n",
    "\n",
    "overwrite = False\n",
    "for n_sample_per_batch in [500]: # , 500, None]:\n",
    "    # if n_sample_per_batch != None:\n",
    "    #    continue\n",
    "    if n_sample_per_batch != None and n_sample_per_batch != 500:\n",
    "        continue\n",
    "    # examine types, columns and others incorporated in the object\n",
    "    \n",
    "    code_n_cells = (('_' + str(n_sample_per_batch) if n_sample_per_batch is not None else ''))\n",
    "    \n",
    "    print('# of cells (input argument)', n_sample_per_batch)\n",
    "    \n",
    "    code_output = (('_' + str(n_sample_per_batch) if n_sample_per_batch is not None else '_all'))\n",
    "\n",
    "    for dataset_names_subset, dataset_code in zip(combinations, dataset_codes):\n",
    "        \n",
    "        output_path = '../../data/integration_march_2021/input/input%s_cells_%s.h5ad' % (code_output, dataset_code)\n",
    "        print(exists(output_path), output_path)\n",
    "        \n",
    "        if exists(output_path):\n",
    "            continue\n",
    "        \n",
    "        print(dataset_code, dataset_names_subset)\n",
    "        p1 = output_path.replace('.h5ad', '_part1.h5ad')\n",
    "\n",
    "        names1 = dataset_names_subset[:4]\n",
    "        names2 = dataset_names_subset[4:-1]\n",
    "        names3 = dataset_names_subset[-1:]\n",
    "        \n",
    "        if dataset_code != 'all':\n",
    "            names1, names2, names3 = names1, [], []\n",
    "        print(names1)\n",
    "        print(names2)\n",
    "        print(names3)\n",
    "        \n",
    "        if not exists(p1) and len(names1) > 0:\n",
    "            ad1 = utils.get_datasets(names1, code_n_cells=code_n_cells)\n",
    "\n",
    "            if 'RNA_snn_res.0.8' in ad1.obs:\n",
    "                ad1.obs['RNA_snn_res.0.8'] = ad1.obs['RNA_snn_res.0.8'].astype(int)\n",
    "            print('ad1')\n",
    "            print ('loading datasets 1 done...')\n",
    "            print(ad1.obs.dataset.value_counts())\n",
    "            # save part1\n",
    "             # save part1\n",
    "            ad1 = ad1[ad1.obs.dataset.isin(set(names1)),:]\n",
    "            ad1.write(p1, compression='lzf')\n",
    "            del ad1\n",
    "            print(p1)\n",
    "\n",
    "        p2 = output_path.replace('.h5ad', '_part2.h5ad')\n",
    "        if not exists(p2) and len(names2) > 0:\n",
    "            print('loading', names2)\n",
    "            ad2 = utils.get_datasets(names2, code_n_cells=code_n_cells)\n",
    "            if 'RNA_snn_res.0.8' in ad2.obs:\n",
    "                ad2.obs['RNA_snn_res.0.8'] = ad2.obs['RNA_snn_res.0.8'].astype(int)\n",
    "            print('ad2')\n",
    "            print(ad2)\n",
    "            print(ad2.obs.index)\n",
    "            print ('loading datasets 2 done...')\n",
    "            print(ad2.obs.dataset.value_counts())\n",
    "\n",
    "            # save part1\n",
    "            ad2 = ad2[ad2.obs.dataset.isin(set(names2)),:]\n",
    "            ad2.write(p2, compression='lzf')\n",
    "            del ad2\n",
    "            print(p2)   \n",
    "\n",
    "        print(output_path)\n",
    "        p3 = output_path.replace('.h5ad', '_part3.h5ad')\n",
    "        print(p3)\n",
    "        \n",
    "        \n",
    "        if not exists(p3) and len(names3) > 0:\n",
    "            print('loading', names3)\n",
    "            ad3 = utils.get_datasets(names3, code_n_cells=code_n_cells)\n",
    "\n",
    "            if 'RNA_snn_res.0.8' in ad3.obs:\n",
    "                ad3.obs['RNA_snn_res.0.8'] = ad3.obs['RNA_snn_res.0.8'].astype(int)\n",
    "\n",
    "            print('ad2')\n",
    "            print(ad3)\n",
    "            print(ad3.obs.index)\n",
    "            print ('loading datasets 3 done...')\n",
    "            print(ad3.obs.dataset.value_counts())\n",
    "\n",
    "            ad3 = ad3[ad3.obs.dataset.isin(set(names3)),:]\n",
    "            ad3.write(p3, compression='lzf')\n",
    "            del ad3\n",
    "            print(p3)    \n",
    "\n",
    "        gc.collect()\n",
    "\n",
    "        ad1, ad2, ad3 = None, None, None\n",
    "        # filter: only the datasets subset can be in the object\n",
    "        ad1 = sc.read_h5ad(p1) #  cache=True)\n",
    "        ad1 = ad1[ad1.obs['dataset'].isin(set(dataset_names_subset))]\n",
    "        print(ad1.obs.dataset.value_counts())\n",
    "\n",
    "        if exists(p2) and exists(p3):\n",
    "            print(p2)\n",
    "            print(p3)\n",
    "            ad2 = sc.read_h5ad(p2) #  cache=True)\n",
    "            ad3 = sc.read_h5ad(p3) #  cache=True)\n",
    "            ad2 = ad2[ad2.obs['dataset'].isin(set(dataset_names_subset))]\n",
    "            ad3 = ad3[ad3.obs['dataset'].isin(set(dataset_names_subset))]\n",
    "            print(ad2.obs.dataset.value_counts())\n",
    "            print(ad3.obs.dataset.value_counts())\n",
    "            # print(ad2.obs.dataset.value_counts())\n",
    "\n",
    "        gc.collect()\n",
    "        print('concatenating...')\n",
    "        ad_final = anndata.concat([ad1, ad2, ad3]) if (ad2 is not None and ad3 is not None) else ad1\n",
    "\n",
    "\n",
    "        # print(ad1.shape, ad2.shape, ad3.shape)\n",
    "        \n",
    "        gc.collect()\n",
    "        print('done...')\n",
    "\n",
    "        print('ad final')\n",
    "        # print(ad1.shape, ad2.shape)\n",
    "        print(ad_final.shape)\n",
    "        # print(ad_final.obs.index)\n",
    "\n",
    "        # define a unified code for all categories\n",
    "        ad_final.obs['batch.merged'] = ad_final.obs['dataset'].astype(str) + ':' + ad_final.obs['batch'].astype(str)\n",
    "        ad_final.obs['batch.merged'] = ad_final.obs['batch.merged'].astype('category').cat.codes\n",
    "        # input_scib.obs['batch.merged'].value_counts()\n",
    "        ad_final.obs['batch.merged'] = ad_final.obs['batch.merged'].astype('category').astype(str)\n",
    "        # print(ad_final.obs['batch.merged'].value_counts())\n",
    "        \n",
    "        # include the donor information\n",
    "        donor = pd.read_csv('data/donor_details.tsv', sep='\\t')\n",
    "        donor['k'] = donor['file'].str.replace('.', '').str.replace('h5ad', '')\n",
    "        donor['dataset'] = donor['k'].str.split('/').str[1]\n",
    "        donor['filename'] = donor['k'].str.split('/').str[2]\n",
    "        donor_by_filename = donor[['donor', 'filename']].set_index('filename')['donor'].to_dict()\n",
    "        ad_final.obs['donor'] = ad_final.obs['filename'].map(donor_by_filename)\n",
    "        \n",
    "        \n",
    "        ad_final.obs['batch_donor_dataset'] = ad_final.obs['donor'].astype(str) + ':' + ad_final.obs['dataset'].astype(str) + ':' + ad_final.obs['batch'].astype(str)\n",
    "\n",
    "        print('before batch filter (n=100)')\n",
    "        print(ad_final.shape)\n",
    "        ad_final = ad_final[ad_final.obs['batch_donor_dataset'].map(ad_final.obs['batch_donor_dataset'].value_counts().to_dict()) > 100,:]\n",
    "        ad_final.obs['batch_donor_dataset'].value_counts()\n",
    "\n",
    "        ad_final.obs['batch_donor_dataset'] = ad_final.obs['batch_donor_dataset'].astype('category')\n",
    "        \n",
    "        print('after batch filter (n=100)')\n",
    "        print(ad_final.shape)\n",
    "        print('saving to output...')\n",
    "        ad_final.write(output_path, compression='lzf')\n",
    "\n",
    "        if exists(p1):\n",
    "            os.remove(p1)\n",
    "        if exists(p2):\n",
    "            os.remove(p2)\n",
    "        if exists(p3):\n",
    "            os.remove(p3)\n",
    "        \n",
    "        print('done...')\n",
    "        \n",
    "        # assert False\n"
   ]
  }
 ],
 "metadata": {
  "kernelspec": {
   "display_name": "Python [conda env:mypython3] *",
   "language": "python",
   "name": "conda-env-mypython3-py"
  },
  "language_info": {
   "codemirror_mode": {
    "name": "ipython",
    "version": 3
   },
   "file_extension": ".py",
   "mimetype": "text/x-python",
   "name": "python",
   "nbconvert_exporter": "python",
   "pygments_lexer": "ipython3",
   "version": "3.7.8"
  }
 },
 "nbformat": 4,
 "nbformat_minor": 5
}
