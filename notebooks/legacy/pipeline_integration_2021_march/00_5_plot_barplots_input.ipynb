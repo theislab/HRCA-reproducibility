{
 "cells": [
  {
   "cell_type": "code",
   "execution_count": 1,
   "id": "d1f2ba8a",
   "metadata": {},
   "outputs": [],
   "source": [
    "%load_ext autoreload\n",
    "%autoreload 2"
   ]
  },
  {
   "cell_type": "code",
   "execution_count": 2,
   "id": "e9e1b591",
   "metadata": {},
   "outputs": [],
   "source": [
    "from os.path import join\n",
    "import matplotlib.pyplot as plt"
   ]
  },
  {
   "cell_type": "markdown",
   "id": "0a717301",
   "metadata": {},
   "source": [
    "### Check that the donor details is in alignment with the files we got"
   ]
  },
  {
   "cell_type": "code",
   "execution_count": 61,
   "id": "137c0b25",
   "metadata": {},
   "outputs": [],
   "source": [
    "import pandas as pd\n",
    "from os import listdir\n",
    "from os.path import join, exists"
   ]
  },
  {
   "cell_type": "code",
   "execution_count": 2,
   "id": "84c841fc",
   "metadata": {},
   "outputs": [],
   "source": [
    "df = pd.read_csv('data/donor_details.tsv', sep='\\t')"
   ]
  },
  {
   "cell_type": "code",
   "execution_count": 10,
   "id": "44c508c7",
   "metadata": {},
   "outputs": [],
   "source": [
    "for ri, r in df.iterrows():\n",
    "    path = join('/storage/groups/ml01/datasets/projects/20210318_retinal_data_integration_ignacio.ibarra_malte.luecken', r['file'])\n",
    "    if not exists(path):\n",
    "        print(exists(path), path)\n"
   ]
  },
  {
   "cell_type": "code",
   "execution_count": 3,
   "id": "71d4f11c",
   "metadata": {},
   "outputs": [],
   "source": [
    "import scanpy as sc\n",
    "import os"
   ]
  },
  {
   "cell_type": "code",
   "execution_count": 4,
   "id": "1fba061d-9c07-4576-a3ba-43557440631f",
   "metadata": {},
   "outputs": [],
   "source": [
    "## for logging purposes\n",
    "input_path = os.path.join('/lustre/groups/ml01/workspace/ignacio.ibarra/theislab/retinal_scRNAseq_integration/data/integration_march_2021',\n",
    "                          'output/retinal_all_cells_Chenfixed+Hackney_batch_donor_dataset_cell.type/integration/unscaled/HVG.3K/scgen.h5ad')"
   ]
  },
  {
   "cell_type": "code",
   "execution_count": 5,
   "id": "264dd8c1-2aac-4eb0-8337-506dd8f061a1",
   "metadata": {},
   "outputs": [],
   "source": [
    "input_path\n",
    "ad = sc.read_h5ad(input_path)\n",
    "ad.shape"
   ]
  },
  {
   "cell_type": "code",
   "execution_count": 7,
   "id": "f4e83306-73fd-464c-ab12-0036387d0d9b",
   "metadata": {},
   "outputs": [
    {
     "data": {
      "text/plain": [
       "(568985, 3000)"
      ]
     },
     "execution_count": 7,
     "metadata": {},
     "output_type": "execute_result"
    }
   ],
   "source": [
    "ad"
   ]
  },
  {
   "cell_type": "code",
   "execution_count": 13,
   "id": "57507ab4",
   "metadata": {},
   "outputs": [
    {
     "name": "stdout",
     "output_type": "stream",
     "text": [
      "reading...\n",
      "done...\n"
     ]
    }
   ],
   "source": [
    "# this input contains the raw counts for all cells, and needs to be updated in the raw sesion of the object.\n",
    "ad_raw = '/mnt/znas/icb_zstore01/groups/ml01/workspace/ignacio.ibarra/theislab/retinal_scRNAseq_integration/data/integration_march_2021/input/input_all_cells.h5ad'\n",
    "print('reading...')\n",
    "ad_raw = sc.read_h5ad(ad_raw)\n",
    "print('done...')"
   ]
  },
  {
   "cell_type": "code",
   "execution_count": 41,
   "id": "50b6648b",
   "metadata": {},
   "outputs": [],
   "source": []
  },
  {
   "cell_type": "code",
   "execution_count": 45,
   "id": "68befece",
   "metadata": {},
   "outputs": [
    {
     "data": {
      "text/plain": [
       "Microglia     49\n",
       "unassigned    15\n",
       "Astrocyte     15\n",
       "RPE            5\n",
       "MG             1\n",
       "Name: scpred_prediction, dtype: int64"
      ]
     },
     "execution_count": 45,
     "metadata": {},
     "output_type": "execute_result"
    }
   ],
   "source": [
    "ad2.obs['scpred_prediction'].value_counts()"
   ]
  },
  {
   "cell_type": "code",
   "execution_count": 23,
   "id": "0ba53bf6",
   "metadata": {},
   "outputs": [],
   "source": [
    "filename_by_donor = df.set_index('donor')['file'].to_dict()"
   ]
  },
  {
   "cell_type": "code",
   "execution_count": null,
   "id": "a1a454e9",
   "metadata": {},
   "outputs": [],
   "source": []
  },
  {
   "cell_type": "code",
   "execution_count": 48,
   "id": "951a8c06",
   "metadata": {},
   "outputs": [
    {
     "name": "stdout",
     "output_type": "stream",
     "text": [
      "./Roska/R-00646_04_Fovea_ChoroidRPE_Right.h5ad\n",
      "Microglia     74\n",
      "unassigned    15\n",
      "Astrocyte      9\n",
      "MG             1\n",
      "RPE            1\n",
      "Name: scpred_prediction, dtype: int64\n",
      "./Sanes/H3FoveaS3.h5ad\n",
      "HC     9\n",
      "Rod    5\n",
      "MG     5\n",
      "BC     3\n",
      "RGC    1\n",
      "Name: scpred_prediction, dtype: int64\n",
      "./Roska/R-00646_04_Fovea_ChoroidRPE_Left.h5ad\n",
      "Microglia     49\n",
      "unassigned    15\n",
      "Astrocyte     15\n",
      "RPE            5\n",
      "MG             1\n",
      "Name: scpred_prediction, dtype: int64\n"
     ]
    }
   ],
   "source": [
    "# missing files are containing less than 50 cells per cell type. This was an arbitrary definition to consider these.\n",
    "for f in (set(df['file']) - set('./' + ad_raw.obs['dataset'].astype(str) + '/' + ad_raw.obs['filename'].astype(str) + '.h5ad')):\n",
    "    print(f)\n",
    "    ad2 = sc.read_h5ad(join('/storage/groups/ml01/datasets/projects/20210318_retinal_data_integration_ignacio.ibarra_malte.luecken', f))\n",
    "    print(ad2.obs['scpred_prediction'].value_counts())"
   ]
  },
  {
   "cell_type": "code",
   "execution_count": 53,
   "id": "5d45cb4c",
   "metadata": {},
   "outputs": [
    {
     "data": {
      "text/plain": [
       "False    2159366\n",
       "Name: filename, dtype: int64"
      ]
     },
     "execution_count": 53,
     "metadata": {},
     "output_type": "execute_result"
    }
   ],
   "source": [
    "(ad_raw.obs['filename'] == 'H3FoveaS3').value_counts()"
   ]
  },
  {
   "cell_type": "code",
   "execution_count": 29,
   "id": "bea02694",
   "metadata": {},
   "outputs": [
    {
     "data": {
      "text/plain": [
       "50"
      ]
     },
     "execution_count": 29,
     "metadata": {},
     "output_type": "execute_result"
    }
   ],
   "source": [
    "len(ad_raw.obs['donor'].map(filename_by_donor).value_counts())"
   ]
  },
  {
   "cell_type": "code",
   "execution_count": 20,
   "id": "fe75f8c1",
   "metadata": {},
   "outputs": [
    {
     "data": {
      "text/plain": [
       "10x3_Lobe_19_D011_NeuN                   227481\n",
       "10x3_Lobe_19_D006_NeuN                   195551\n",
       "10x3_Lobe_19_D019_NeuN                    97844\n",
       "10x3_Lobe_D013_13_NeuN                    85084\n",
       "10x3_Lobe_19_D003_NeuN                    83556\n",
       "                                          ...  \n",
       "GSM3745994                                  347\n",
       "GSM3745993                                  339\n",
       "R-00646_03_Periphery_ChoroidRPE_Right       288\n",
       "GSM4081524                                  273\n",
       "R-00646_01_Periphery_ChoroidRPE_Right       250\n",
       "Name: filename, Length: 142, dtype: int64"
      ]
     },
     "execution_count": 20,
     "metadata": {},
     "output_type": "execute_result"
    }
   ],
   "source": [
    "ad_raw.obs['filename'].value_counts()"
   ]
  },
  {
   "cell_type": "code",
   "execution_count": 56,
   "id": "b0ebe295",
   "metadata": {},
   "outputs": [
    {
     "ename": "NameError",
     "evalue": "name 'plt' is not defined",
     "output_type": "error",
     "traceback": [
      "\u001b[0;31m---------------------------------------------------------------------------\u001b[0m",
      "\u001b[0;31mNameError\u001b[0m                                 Traceback (most recent call last)",
      "\u001b[0;32m<ipython-input-56-4e34de2ae2bd>\u001b[0m in \u001b[0;36m<module>\u001b[0;34m\u001b[0m\n\u001b[1;32m      5\u001b[0m \u001b[0mmatplotlib\u001b[0m\u001b[0;34m.\u001b[0m\u001b[0mrcParams\u001b[0m\u001b[0;34m[\u001b[0m\u001b[0;34m'ps.fonttype'\u001b[0m\u001b[0;34m]\u001b[0m \u001b[0;34m=\u001b[0m \u001b[0;36m42\u001b[0m\u001b[0;34m\u001b[0m\u001b[0;34m\u001b[0m\u001b[0m\n\u001b[1;32m      6\u001b[0m \u001b[0;34m\u001b[0m\u001b[0m\n\u001b[0;32m----> 7\u001b[0;31m \u001b[0mfpath\u001b[0m \u001b[0;34m=\u001b[0m \u001b[0mjoin\u001b[0m\u001b[0;34m(\u001b[0m\u001b[0mplt\u001b[0m\u001b[0;34m.\u001b[0m\u001b[0mrcParams\u001b[0m\u001b[0;34m[\u001b[0m\u001b[0;34m\"datapath\"\u001b[0m\u001b[0;34m]\u001b[0m\u001b[0;34m,\u001b[0m \u001b[0;34m\"fonts/ttf/arial.ttf\"\u001b[0m\u001b[0;34m)\u001b[0m\u001b[0;34m\u001b[0m\u001b[0;34m\u001b[0m\u001b[0m\n\u001b[0m\u001b[1;32m      8\u001b[0m \u001b[0;32mfrom\u001b[0m \u001b[0mmatplotlib\u001b[0m \u001b[0;32mimport\u001b[0m \u001b[0mfont_manager\u001b[0m \u001b[0;32mas\u001b[0m \u001b[0mfm\u001b[0m\u001b[0;34m,\u001b[0m \u001b[0mrcParams\u001b[0m\u001b[0;34m\u001b[0m\u001b[0;34m\u001b[0m\u001b[0m\n\u001b[1;32m      9\u001b[0m \u001b[0mprop\u001b[0m \u001b[0;34m=\u001b[0m \u001b[0mfm\u001b[0m\u001b[0;34m.\u001b[0m\u001b[0mFontProperties\u001b[0m\u001b[0;34m(\u001b[0m\u001b[0mfname\u001b[0m\u001b[0;34m=\u001b[0m\u001b[0mfpath\u001b[0m\u001b[0;34m)\u001b[0m\u001b[0;34m\u001b[0m\u001b[0;34m\u001b[0m\u001b[0m\n",
      "\u001b[0;31mNameError\u001b[0m: name 'plt' is not defined"
     ]
    }
   ],
   "source": [
    "# Fix export PDF as text issue\n",
    "import matplotlib\n",
    "\n",
    "matplotlib.rcParams['pdf.fonttype'] = 42\n",
    "matplotlib.rcParams['ps.fonttype'] = 42\n",
    "\n",
    "fpath = join(plt.rcParams[\"datapath\"], \"fonts/ttf/arial.ttf\")\n",
    "from matplotlib import font_manager as fm, rcParams\n",
    "prop = fm.FontProperties(fname=fpath)\n",
    "rcParams[\"font.family\"] = \"arial\"\n",
    "\n",
    "import os\n",
    "import scanpy as sc\n",
    "from os.path import join, exists\n",
    "from os import listdir\n",
    "import anndata\n",
    "import scipy\n",
    "import numpy as np\n",
    "import sys\n",
    "\n",
    "\n",
    "import seaborn as sns\n",
    "sns.set()\n",
    "from matplotlib import rcParams\n",
    "import matplotlib.pyplot as plt\n",
    "\n",
    "from utils import *\n",
    "\n",
    "# convert counts into float32\n",
    "# Convenience method for computing the size of objects\n",
    "def print_size_in_MB(x):\n",
    "    return '{:.3} MB'.format(x.__sizeof__()/1e6)\n",
    "\n",
    "def print_size_in_MB_sparse_matrix(a):\n",
    "    # a = scipy.sparse.csr_matrix(np.random.randint(10, size=(40, 3)))\n",
    "    # x = a.data.nbytes + a.indptr.nbytes + a.indices.nbytes\n",
    "    size = a.data.size/(1024**2)\n",
    "    return '{:.3} MB'.format(size)\n",
    "\n",
    "import warnings\n",
    "warnings.filterwarnings(\"ignore\")"
   ]
  },
  {
   "cell_type": "code",
   "execution_count": 57,
   "id": "3dcf159b",
   "metadata": {},
   "outputs": [
    {
     "name": "stdout",
     "output_type": "stream",
     "text": [
      "total 32G\n",
      "drwxr-xr-x. 2 ignacio.ibarra OG-ICB-User   11 Apr 30 14:31 \u001b[0m\u001b[38;5;33mbydataset_500\u001b[0m/\n",
      "drwxr-xr-x. 2 ignacio.ibarra OG-ICB-User   11 Apr 30 14:32 \u001b[38;5;33mbydataset_1000\u001b[0m/\n",
      "drwxr-xr-x. 2 ignacio.ibarra OG-ICB-User   11 Apr 30 14:33 \u001b[38;5;33mbydataset\u001b[0m/\n",
      "drwxr-xr-x. 2 ignacio.ibarra OG-ICB-User   11 May 12 20:56 \u001b[38;5;33mbydataset_250\u001b[0m/\n",
      "-rw-r--r--. 1 ignacio.ibarra OG-ICB-User 152M Jun  3 09:50 input_250_cells_part3.h5ad\n",
      "-rw-r--r--. 1 ignacio.ibarra OG-ICB-User 208M Jun  3 09:50 input_250_cells.h5ad\n",
      "-rw-r--r--. 1 ignacio.ibarra OG-ICB-User 302M Jun  3 09:51 input_500_cells_part3.h5ad\n",
      "-rw-r--r--. 1 ignacio.ibarra OG-ICB-User 441M Jun  3 09:51 input_500_cells.h5ad\n",
      "-rw-r--r--. 1 ignacio.ibarra OG-ICB-User 599M Jun  3 09:52 input_1000_cells_part3.h5ad\n",
      "-rw-r--r--. 1 ignacio.ibarra OG-ICB-User 874M Jun  3 09:53 input_1000_cells.h5ad\n",
      "-rw-r--r--. 1 ignacio.ibarra OG-ICB-User  17G Jun  3 10:23 input_all_cells_part3.h5ad\n",
      "-rw-r--r--. 1 ignacio.ibarra OG-ICB-User  12G Jun  3 10:32 input_all_cells.h5ad\n"
     ]
    }
   ],
   "source": [
    "ls -ltrh ../../data/integration_march_2021/input/"
   ]
  },
  {
   "cell_type": "code",
   "execution_count": 58,
   "id": "7905e469",
   "metadata": {},
   "outputs": [],
   "source": [
    "input_dir = '../../data/integration_march_2021/input'"
   ]
  },
  {
   "cell_type": "code",
   "execution_count": 62,
   "id": "e8502d53",
   "metadata": {},
   "outputs": [
    {
     "name": "stdout",
     "output_type": "stream",
     "text": [
      "input_500_cells.h5ad\n",
      "done...\n",
      "AnnData object with n_obs × n_vars = 69631 × 3841\n",
      "    obs: 'RNA_snn_res.0.8', 'batch', 'dataset', 'filename', 'nCount_RNA', 'nFeature_RNA', 'orig.ident', 'scpred_AC', 'scpred_Astrocyte', 'scpred_BC', 'scpred_Cone', 'scpred_HC', 'scpred_MG', 'scpred_Microglia', 'scpred_RGC', 'scpred_RPE', 'scpred_Rod', 'scpred_max', 'scpred_prediction', 'seurat_clusters', 'size_factors', 'cell.type', 'batch.merged', 'donor'\n",
      "    layers: 'counts'\n",
      "input_1000_cells.h5ad\n",
      "done...\n",
      "AnnData object with n_obs × n_vars = 134503 × 4063\n",
      "    obs: 'RNA_snn_res.0.8', 'batch', 'dataset', 'filename', 'nCount_RNA', 'nFeature_RNA', 'orig.ident', 'scpred_AC', 'scpred_Astrocyte', 'scpred_BC', 'scpred_Cone', 'scpred_HC', 'scpred_MG', 'scpred_Microglia', 'scpred_RGC', 'scpred_RPE', 'scpred_Rod', 'scpred_max', 'scpred_prediction', 'seurat_clusters', 'size_factors', 'cell.type', 'batch.merged', 'donor'\n",
      "    layers: 'counts'\n",
      "input_250_cells.h5ad\n",
      "done...\n",
      "AnnData object with n_obs × n_vars = 35492 × 3282\n",
      "    obs: 'orig.ident', 'nCount_RNA', 'nFeature_RNA', 'RNA_snn_res.0.8', 'seurat_clusters', 'scpred_AC', 'scpred_Astrocyte', 'scpred_BC', 'scpred_Cone', 'scpred_HC', 'scpred_MG', 'scpred_Microglia', 'scpred_RGC', 'scpred_RPE', 'scpred_Rod', 'scpred_max', 'scpred_prediction', 'size_factors', 'dataset', 'filename', 'batch', 'cell.type', 'batch.merged', 'donor'\n",
      "    layers: 'counts'\n",
      "input_all_cells.h5ad\n",
      "done...\n",
      "AnnData object with n_obs × n_vars = 2159366 × 4127\n",
      "    obs: 'RNA_snn_res.0.8', 'batch', 'dataset', 'filename', 'nCount_RNA', 'nFeature_RNA', 'orig.ident', 'scpred_AC', 'scpred_Astrocyte', 'scpred_BC', 'scpred_Cone', 'scpred_HC', 'scpred_MG', 'scpred_Microglia', 'scpred_RGC', 'scpred_RPE', 'scpred_Rod', 'scpred_max', 'scpred_prediction', 'seurat_clusters', 'size_factors', 'cell.type', 'batch.merged', 'donor'\n",
      "    layers: 'counts'\n"
     ]
    }
   ],
   "source": [
    "ad_by_f = {}\n",
    "for f in listdir(input_dir):\n",
    "    if not f.endswith('h5ad') or 'part' in f:\n",
    "        continue\n",
    "    print(f)\n",
    "    \n",
    "    p = join(input_dir, f)\n",
    "    ad = sc.read_h5ad(p)\n",
    "    ad_by_f[f] = ad\n",
    "    print('done...')\n",
    "    print(ad)    "
   ]
  },
  {
   "cell_type": "code",
   "execution_count": 8,
   "id": "c3f51aa5",
   "metadata": {},
   "outputs": [
    {
     "ename": "NameError",
     "evalue": "name 'ad_by_k' is not defined",
     "output_type": "error",
     "traceback": [
      "\u001b[0;31m---------------------------------------------------------------------------\u001b[0m",
      "\u001b[0;31mNameError\u001b[0m                                 Traceback (most recent call last)",
      "Input \u001b[0;32mIn [8]\u001b[0m, in \u001b[0;36m<cell line: 1>\u001b[0;34m()\u001b[0m\n\u001b[0;32m----> 1\u001b[0m \u001b[38;5;28;01mfor\u001b[39;00m k \u001b[38;5;129;01min\u001b[39;00m \u001b[43mad_by_k\u001b[49m:\n\u001b[1;32m      2\u001b[0m     \u001b[38;5;28mprint\u001b[39m(k)\n",
      "\u001b[0;31mNameError\u001b[0m: name 'ad_by_k' is not defined"
     ]
    }
   ],
   "source": [
    "for k in ad_by_k:\n",
    "    print(k)"
   ]
  },
  {
   "cell_type": "code",
   "execution_count": 71,
   "id": "9afaff60",
   "metadata": {},
   "outputs": [],
   "source": [
    "import numpy as np\n",
    "import matplotlib.pyplot as plt\n",
    "from matplotlib import rcParams\n",
    "import os"
   ]
  },
  {
   "cell_type": "code",
   "execution_count": 73,
   "id": "354356f5",
   "metadata": {},
   "outputs": [
    {
     "name": "stdout",
     "output_type": "stream",
     "text": [
      "input_500_cells.h5ad\n",
      "/mnt/znas/icb_zstore01/groups/ml01/workspace/ignacio.ibarra/theislab/retinal_scRNAseq_integration/data/scIB_run/donor_input_500_cells_barplot_scpred.png\n",
      "input_1000_cells.h5ad\n",
      "/mnt/znas/icb_zstore01/groups/ml01/workspace/ignacio.ibarra/theislab/retinal_scRNAseq_integration/data/scIB_run/donor_input_1000_cells_barplot_scpred.png\n",
      "input_250_cells.h5ad\n",
      "/mnt/znas/icb_zstore01/groups/ml01/workspace/ignacio.ibarra/theislab/retinal_scRNAseq_integration/data/scIB_run/donor_input_250_cells_barplot_scpred.png\n",
      "input_all_cells.h5ad\n",
      "/mnt/znas/icb_zstore01/groups/ml01/workspace/ignacio.ibarra/theislab/retinal_scRNAseq_integration/data/scIB_run/donor_input_all_cells_barplot_scpred.png\n"
     ]
    }
   ],
   "source": [
    "for batch_type in ['donor', 'dataset', 'batch.merged']:\n",
    "    if batch_type != 'donor':\n",
    "        continue\n",
    "    \n",
    "    for f in ad_by_f:\n",
    "        print(f)\n",
    "\n",
    "        ad = ad_by_f[f]\n",
    "        import pandas as pd\n",
    "\n",
    "        if batch_type == 'batch.merged':\n",
    "            ad.obs['batch.full'] = ad.obs['dataset'].astype(str) + '_' + ad.obs['batch'].astype(str)\n",
    "        elif batch_type == 'donor':\n",
    "            ad.obs['batch.full'] = ad.obs['donor'].astype(str)\n",
    "        else:\n",
    "            ad.obs['batch.full'] = ad.obs['dataset'].astype(str)\n",
    "        df = ad.obs[['cell.type', 'batch.full']].value_counts().reset_index()\n",
    "        df = df.pivot('batch.full', 'cell.type', 0)\n",
    "\n",
    "        name = df.index\n",
    "        df = df.reset_index(drop=True)\n",
    "        df = pd.DataFrame(np.array(df.fillna(0)).astype(int), columns=list(df.columns), index=list(name))\n",
    "\n",
    "        df['sum'] = df.sum(axis=1)\n",
    "        df['k'] = ['_'.join(a) for a in df.index.str.split('_').str[:-1]]\n",
    "\n",
    "        df = df.sort_values(['k','sum'], ascending=[False, False])\n",
    "        del df['sum']\n",
    "        del df['k']\n",
    "\n",
    "        rcParams['figure.figsize'] = [15, 7]\n",
    "        rcParams['figure.dpi'] = 120\n",
    "\n",
    "        from itertools import cycle, islice\n",
    "        import pandas, numpy as np  # I find np.random.randint to be better\n",
    "        c = ['#a6cee3', '#1f78b4', '#b2df8a', '#33a02c', '#fb9a99', '#e31a1c', '#fdbf6f', '#ff7f00', '#cab2d6', '#6a3d9a', 'lightgrey']\n",
    "        my_colors = list(islice(cycle(c), None, len(df.columns)))\n",
    "\n",
    "        n_total_cells = df.sum().sum()\n",
    "        n_batches = len(df.index)\n",
    "        cells_by_batch = df.sum(axis=1).mean()\n",
    "        for pi in [0, 1]:\n",
    "            ax = plt.subplot(2, 1, pi + 1)\n",
    "            df.plot(kind='bar', stacked=True, width=1.0, linewidth=0.2, logy=pi == 0,\n",
    "                    color=my_colors, edgecolor='black', ax=ax)\n",
    "            plt.ylabel('# cells%s' % (' (log)' if pi == 0 else ''))\n",
    "            plt.xlabel('dataset batch')\n",
    "            plt.xticks(fontsize=6)\n",
    "            if pi == 0:\n",
    "                plt.title('# cells = %s, # batches = %i, # cells by batch = %s' % ('{:,}'.format(n_total_cells), n_batches, '{:,}'.format(cells_by_batch)))\n",
    "            plt.legend(fontsize=10, title='scpred', bbox_to_anchor=(1.01, 1))\n",
    "\n",
    "        \n",
    "        plt.tight_layout()\n",
    "\n",
    "        img_path = '../../data/scIB_run/%s_%s' % (batch_type, f.replace('.h5ad', '_barplot_scpred.png'))\n",
    "        plt.savefig(img_path)\n",
    "\n",
    "        print(os.path.abspath(img_path)) # .replace('.pdf', '.png')))\n",
    "        plt.close()\n"
   ]
  },
  {
   "cell_type": "code",
   "execution_count": 19,
   "id": "868812a5",
   "metadata": {},
   "outputs": [
    {
     "name": "stdout",
     "output_type": "stream",
     "text": [
      "/mnt/znas/icb_zstore01/groups/ml01/workspace/ignacio.ibarra/theislab/retinal_scRNAseq_integration/data/scIB_run/input_250_cells_barplot_scpred.png\n"
     ]
    }
   ],
   "source": [
    "print(os.path.abspath(img_path))"
   ]
  },
  {
   "cell_type": "code",
   "execution_count": null,
   "id": "3f1cde07",
   "metadata": {},
   "outputs": [],
   "source": [
    "%matplotlib inline"
   ]
  },
  {
   "cell_type": "code",
   "execution_count": null,
   "id": "463f0c0c",
   "metadata": {},
   "outputs": [],
   "source": [
    "from PIL import Image\n",
    "\n",
    "image = Image.open(img_path)\n",
    "image.show()"
   ]
  },
  {
   "cell_type": "code",
   "execution_count": null,
   "id": "d23d3d5c",
   "metadata": {},
   "outputs": [],
   "source": []
  }
 ],
 "metadata": {
  "kernelspec": {
   "display_name": "Python [conda env:mypy3]",
   "language": "python",
   "name": "conda-env-mypy3-py"
  },
  "language_info": {
   "codemirror_mode": {
    "name": "ipython",
    "version": 3
   },
   "file_extension": ".py",
   "mimetype": "text/x-python",
   "name": "python",
   "nbconvert_exporter": "python",
   "pygments_lexer": "ipython3",
   "version": "3.8.13"
  }
 },
 "nbformat": 4,
 "nbformat_minor": 5
}
