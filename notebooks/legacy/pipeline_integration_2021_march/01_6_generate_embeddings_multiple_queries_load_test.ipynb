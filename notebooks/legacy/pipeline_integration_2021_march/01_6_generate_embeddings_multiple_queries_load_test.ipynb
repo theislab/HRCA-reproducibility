{
 "cells": [
  {
   "cell_type": "markdown",
   "metadata": {},
   "source": [
    "### This script emulates the functionality of save_embedding from scib, but using a non scib-python environment. It allows multicore."
   ]
  },
  {
   "cell_type": "code",
   "execution_count": 1,
   "metadata": {},
   "outputs": [],
   "source": [
    "import scanpy as sc\n",
    "\n",
    "import umap\n",
    "umap.__version__\n",
    "\n",
    "\n",
    "import pynndescent\n",
    "pynndescent.__version__\n",
    "\n",
    "from os.path import exists\n",
    "\n",
    "from scipy import sparse"
   ]
  },
  {
   "cell_type": "code",
   "execution_count": 2,
   "metadata": {},
   "outputs": [],
   "source": [
    "import numpy as np"
   ]
  },
  {
   "cell_type": "code",
   "execution_count": 3,
   "metadata": {},
   "outputs": [],
   "source": [
    "def reduce_data(adata, batch_key=None, subset=False,\n",
    "                filter=True, flavor='cell_ranger', n_top_genes=2000, n_bins=20,\n",
    "                pca=True, pca_comps=50, overwrite_hvg=True,\n",
    "                neighbors=True, use_rep='X_pca', \n",
    "                umap=True):\n",
    "    \"\"\"\n",
    "    overwrite_hvg:\n",
    "        if True, ignores any pre-existing 'highly_variable' column in adata.var\n",
    "        and recomputes it if `n_top_genes` is specified else calls PCA on full features.\n",
    "        if False, skips HVG computation even if `n_top_genes` is specified and uses\n",
    "        pre-existing HVG column for PCA\n",
    "    \"\"\"\n",
    "#     if n_top_genes is not None and overwrite_hvg:\n",
    "#         print(\"HVG\")\n",
    "        \n",
    "#         overwrite_hvg = False\n",
    "        \n",
    "#         ## quick fix: HVG doesn't work on dense matrix\n",
    "#         if not sparse.issparse(adata.X):\n",
    "#             adata.X = sparse.csr_matrix(adata.X)\n",
    "            \n",
    "#         if batch_key is not None:\n",
    "#             hvg_list = hvg_batch(adata, batch_key=batch_key, target_genes=n_top_genes, n_bins=n_bins)\n",
    "#             adata.var['highly_variable'] = np.in1d(adata.var_names, hvg_list)\n",
    "\n",
    "#         else:\n",
    "#             print(f\"Calculating {n_top_genes} HVGs for reduce_data.\")\n",
    "#             sc.pp.highly_variable_genes(adata,\n",
    "#                                         n_top_genes=n_top_genes,\n",
    "#                                         n_bins=n_bins,\n",
    "#                                         flavor=flavor)\n",
    "\n",
    "#         n_hvg = np.sum(adata.var[\"highly_variable\"])\n",
    "#         print(f'Computed {n_hvg} highly variable genes')\n",
    "    \n",
    "    print('setting up HVGs')\n",
    "    assert n_top_genes == adata.shape[1]\n",
    "    adata.var[\"highly_variable\"] = True\n",
    "    n_hvg = np.sum(adata.var[\"highly_variable\"])\n",
    "        \n",
    "    print('PCA and/or neighbors')\n",
    "    if pca:\n",
    "        print(\"PCA\")\n",
    "        use_hvgs = not overwrite_hvg and \"highly_variable\" in adata.var\n",
    "        sc.tl.pca(adata,\n",
    "                  n_comps=pca_comps, \n",
    "                  use_highly_variable=use_hvgs, \n",
    "                  svd_solver='arpack', \n",
    "                  return_info=True)\n",
    "    \n",
    "    if neighbors:\n",
    "        n_jobs = 4\n",
    "        print(\"Nearest Neigbours\")\n",
    "        sc.settings.n_jobs = n_jobs\n",
    "        from joblib import parallel_backend\n",
    "        import time\n",
    "        start_time = time.time()\n",
    "        with parallel_backend('threading', n_jobs=n_jobs): sc.pp.neighbors(adata, use_rep=use_rep)\n",
    "        print(\"--- %s seconds ---\" % (time.time() - start_time))\n",
    "    \n",
    "    if umap:\n",
    "        print(\"UMAP\")\n",
    "        start_time = time.time()\n",
    "        sc.tl.umap(adata)\n",
    "        print(\"--- %s seconds ---\" % (time.time() - start_time))\n",
    "        \n",
    "    # print('before return')\n",
    "    # print(adata)\n"
   ]
  },
  {
   "cell_type": "code",
   "execution_count": 4,
   "metadata": {},
   "outputs": [],
   "source": [
    "import scipy\n",
    "import gc"
   ]
  },
  {
   "cell_type": "code",
   "execution_count": 5,
   "metadata": {},
   "outputs": [],
   "source": [
    "# scipy.sparse.issparse(np.zeros(20))"
   ]
  },
  {
   "cell_type": "code",
   "execution_count": 6,
   "metadata": {},
   "outputs": [
    {
     "name": "stdout",
     "output_type": "stream",
     "text": [
      "24\n",
      "next query...\n",
      "/storage/groups/ml01/workspace/ignacio.ibarra/theislab/retinal_scRNAseq_integration/data/integration_march_2021/output/retinal_all_all_batch_donor_dataset_cell.type/integration/unscaled/HVG.1K/scgen.h5ad\n",
      "/storage/groups/ml01/workspace/ignacio.ibarra/theislab/retinal_scRNAseq_integration/data/integration_march_2021/output/retinal_all_all_batch_donor_dataset_cell.type/embeddings/unscaled/HVG.1K/scgen_full.csv\n",
      "result type full\n",
      "False /storage/groups/ml01/workspace/ignacio.ibarra/theislab/retinal_scRNAseq_integration/data/integration_march_2021/output/retinal_all_all_batch_donor_dataset_cell.type/embeddings/unscaled/HVG.1K/scgen_full.csv\n",
      "reading data...\n"
     ]
    },
    {
     "ename": "AssertionError",
     "evalue": "",
     "output_type": "error",
     "traceback": [
      "\u001b[0;31m---------------------------------------------------------------------------\u001b[0m",
      "\u001b[0;31mAssertionError\u001b[0m                            Traceback (most recent call last)",
      "\u001b[0;32m<ipython-input-6-730e343d0a57>\u001b[0m in \u001b[0;36m<module>\u001b[0;34m\u001b[0m\n\u001b[1;32m     32\u001b[0m \u001b[0;34m\u001b[0m\u001b[0m\n\u001b[1;32m     33\u001b[0m     \u001b[0mprint\u001b[0m\u001b[0;34m(\u001b[0m\u001b[0;34m'reading data...'\u001b[0m\u001b[0;34m)\u001b[0m\u001b[0;34m\u001b[0m\u001b[0;34m\u001b[0m\u001b[0m\n\u001b[0;32m---> 34\u001b[0;31m     \u001b[0;32massert\u001b[0m \u001b[0;32mFalse\u001b[0m\u001b[0;34m\u001b[0m\u001b[0;34m\u001b[0m\u001b[0m\n\u001b[0m\u001b[1;32m     35\u001b[0m \u001b[0;34m\u001b[0m\u001b[0m\n\u001b[1;32m     36\u001b[0m     \u001b[0madata\u001b[0m \u001b[0;34m=\u001b[0m \u001b[0msc\u001b[0m\u001b[0;34m.\u001b[0m\u001b[0mread_h5ad\u001b[0m\u001b[0;34m(\u001b[0m\u001b[0mintegrated_path\u001b[0m\u001b[0;34m)\u001b[0m\u001b[0;34m\u001b[0m\u001b[0;34m\u001b[0m\u001b[0m\n",
      "\u001b[0;31mAssertionError\u001b[0m: "
     ]
    }
   ],
   "source": [
    "queries = [q for q in open('queries_postintegration_save_embeddings.sh')]\n",
    "print(len(queries))\n",
    "for q in queries:\n",
    "    gc.collect()\n",
    "    s = q.split(' ')\n",
    "    input_pos = int([pi for pi, p in enumerate(s) if p == '-i' or p == '--input'][0])\n",
    "\n",
    "    integrated_path = s[input_pos + 1] # .replace('retinal_all', 'retinal_500')\n",
    "\n",
    "    embed_pos = int([pi for pi, p in enumerate(s) if p == '-i' or p == '--outfile'][0])\n",
    "    embed_path =s[embed_pos + 1]\n",
    "\n",
    "    # print(exists(embed_path), embed_path)\n",
    "    if exists(integrated_path) and not exists(embed_path):\n",
    "        print('next query...')\n",
    "        print(integrated_path)\n",
    "        print(embed_path)\n",
    "    else:\n",
    "        continue\n",
    "\n",
    "    result_pos = int([pi for pi, p in enumerate(s) if p == '-i' or p == '--result'][0])\n",
    "    result =s[result_pos + 1].strip()\n",
    "    \n",
    "    print('result type', result)\n",
    "    import os.path\n",
    "    method = os.path.basename(integrated_path).split('.')[0]\n",
    "    \n",
    "    print(exists(embed_path), embed_path)\n",
    "\n",
    "    if exists(embed_path):\n",
    "        continue\n",
    "        \n",
    "    print('reading data...')\n",
    "    assert False\n",
    "    \n",
    "    adata = sc.read_h5ad(integrated_path)\n",
    "    print(adata.shape)\n",
    "    \n",
    "    print('Preparing dataset...')\n",
    "    if result == 'embed':\n",
    "        reduce_data(adata, n_top_genes=None, neighbors=True,\n",
    "                    use_rep='X_emb', pca=False, umap=False)\n",
    "    elif result == 'full':\n",
    "        sc.pp.filter_genes(adata, min_cells=1)\n",
    "        reduce_data(adata, n_top_genes=2000, neighbors=True,\n",
    "                    use_rep='X_pca', pca=True, umap=False)\n",
    "\n",
    "    print('after return')\n",
    "    # print(adata)\n",
    "    # Calculate embedding\n",
    "    if method.startswithz('conos'):\n",
    "        print('Calculating graph embedding...')\n",
    "        sc.tl.draw_graph(adata, key_added_ext='graph')\n",
    "        basis = 'draw_graph_graph'\n",
    "        label = 'Graph'\n",
    "    else:\n",
    "        print('Calculating UMAP...')\n",
    "        sc.tl.umap(adata)\n",
    "        basis = 'umap'\n",
    "        label = 'UMAP'\n",
    "        \n",
    "        \n",
    "    print('done...')\n",
    "    import os\n",
    "    # Save embedding coordinates\n",
    "    print('Saving embedding coordinates...')\n",
    "    label = 'UMAP'\n",
    "    basis = 'umap'\n",
    "    adata.obs[label + '1'] = adata.obsm['X_' + basis][:, 0]\n",
    "    adata.obs[label + '2'] = adata.obsm['X_' + basis][:, 1]\n",
    "    coords = adata.obs[['cell.type', 'batch_donor_dataset', label + '1', label + '2' ]]\n",
    "    coords.to_csv(os.path.join(embed_path), index_label='CellID')\n",
    "    \n",
    "    gc.collect()\n",
    "    \n",
    "\n",
    "\n"
   ]
  },
  {
   "cell_type": "code",
   "execution_count": 7,
   "metadata": {},
   "outputs": [
    {
     "name": "stdout",
     "output_type": "stream",
     "text": [
      "here...\n"
     ]
    }
   ],
   "source": [
    "print('here...')"
   ]
  },
  {
   "cell_type": "code",
   "execution_count": 8,
   "metadata": {},
   "outputs": [
    {
     "data": {
      "text/plain": [
       "'/storage/groups/ml01/workspace/ignacio.ibarra/theislab/retinal_scRNAseq_integration/data/integration_march_2021/output/retinal_500_all_batch_donor_dataset_cell.type/integration/unscaled/HVG.1K/scgen.h5ad'"
      ]
     },
     "execution_count": 8,
     "metadata": {},
     "output_type": "execute_result"
    }
   ],
   "source": [
    "integrated_path = integrated_path.replace('retinal_all_', 'retinal_500_')\n",
    "integrated_path"
   ]
  },
  {
   "cell_type": "code",
   "execution_count": 9,
   "metadata": {},
   "outputs": [
    {
     "name": "stdout",
     "output_type": "stream",
     "text": [
      "(69631, 1000)\n"
     ]
    }
   ],
   "source": [
    "adata = sc.read_h5ad(integrated_path)\n",
    "print(adata.shape)"
   ]
  },
  {
   "cell_type": "code",
   "execution_count": 10,
   "metadata": {},
   "outputs": [
    {
     "data": {
      "text/plain": [
       "(69631, 1000)"
      ]
     },
     "execution_count": 10,
     "metadata": {},
     "output_type": "execute_result"
    }
   ],
   "source": [
    "adata.shape"
   ]
  },
  {
   "cell_type": "code",
   "execution_count": 11,
   "metadata": {},
   "outputs": [
    {
     "name": "stdout",
     "output_type": "stream",
     "text": [
      "Preparing dataset...\n",
      "filtering genes...\n"
     ]
    },
    {
     "name": "stderr",
     "output_type": "stream",
     "text": [
      "/home/icb/ignacio.ibarra/miniconda3/envs/mypython3/lib/python3.7/site-packages/pandas/core/arrays/categorical.py:2487: FutureWarning: The `inplace` parameter in pandas.Categorical.remove_unused_categories is deprecated and will be removed in a future version.\n",
      "  res = method(*args, **kwargs)\n"
     ]
    },
    {
     "name": "stdout",
     "output_type": "stream",
     "text": [
      "reducing data...\n",
      "setting up HVGs\n",
      "PCA and/or neighbors\n",
      "PCA\n",
      "Nearest Neigbours\n",
      "--- 53.41833519935608 seconds ---\n",
      "--- Neighbors done: 68.25791096687317 seconds ---\n"
     ]
    }
   ],
   "source": [
    "n_jobs = 10\n",
    "\n",
    "from joblib import parallel_backend\n",
    "import time\n",
    "start_time = time.time()\n",
    "\n",
    "print('Preparing dataset...')\n",
    "if result == 'embed':\n",
    "    reduce_data(adata, n_top_genes=None, neighbors=True,\n",
    "                use_rep='X_emb', pca=False, umap=False)\n",
    "elif result == 'full':\n",
    "    print('filtering genes...')\n",
    "    sc.pp.filter_genes(adata, min_cells=1)\n",
    "    print('reducing data...')\n",
    "    reduce_data(adata, n_top_genes=adata.shape[1], neighbors=True,\n",
    "                use_rep='X_pca', pca=True, umap=False)\n",
    "\n",
    "    \n",
    "print(\"--- Neighbors done: %s seconds ---\" % (time.time() - start_time))\n"
   ]
  },
  {
   "cell_type": "code",
   "execution_count": 12,
   "metadata": {},
   "outputs": [
    {
     "name": "stdout",
     "output_type": "stream",
     "text": [
      "here...\n"
     ]
    }
   ],
   "source": [
    "print('here...')"
   ]
  },
  {
   "cell_type": "code",
   "execution_count": 13,
   "metadata": {},
   "outputs": [
    {
     "name": "stdout",
     "output_type": "stream",
     "text": [
      "--- UMAP done: 145.70243620872498 seconds ---\n"
     ]
    }
   ],
   "source": [
    "\n",
    "start_time = time.time()\n",
    "sc.settings.n_jobs = n_jobs\n",
    "with parallel_backend('threading', n_jobs=n_jobs):\n",
    "    sc.tl.umap(adata)\n",
    "print(\"--- UMAP done: %s seconds ---\" % (time.time() - start_time))\n"
   ]
  },
  {
   "cell_type": "code",
   "execution_count": 14,
   "metadata": {},
   "outputs": [
    {
     "name": "stdout",
     "output_type": "stream",
     "text": [
      "here...\n"
     ]
    }
   ],
   "source": [
    "print('here...')"
   ]
  }
 ],
 "metadata": {
  "kernelspec": {
   "display_name": "Python [conda env:mypython3] *",
   "language": "python",
   "name": "conda-env-mypython3-py"
  },
  "language_info": {
   "codemirror_mode": {
    "name": "ipython",
    "version": 3
   },
   "file_extension": ".py",
   "mimetype": "text/x-python",
   "name": "python",
   "nbconvert_exporter": "python",
   "pygments_lexer": "ipython3",
   "version": "3.7.8"
  }
 },
 "nbformat": 4,
 "nbformat_minor": 4
}
