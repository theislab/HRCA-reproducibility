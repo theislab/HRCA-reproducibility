{
 "cells": [
  {
   "cell_type": "code",
   "execution_count": 8,
   "metadata": {},
   "outputs": [],
   "source": [
    "old_dir = '/storage/groups/ml01/datasets/projects/20210318_retinal_data_integration_ignacio.ibarra_malte.luecken'\n",
    "# new_dir = '/storage/groups/ml01/datasets/projects/20210430_retinal_data_integration_ignacio.ibarra_malte.luecken_v2'"
   ]
  },
  {
   "cell_type": "code",
   "execution_count": 14,
   "metadata": {},
   "outputs": [],
   "source": [
    "import scanpy as sc"
   ]
  },
  {
   "cell_type": "code",
   "execution_count": 35,
   "metadata": {},
   "outputs": [
    {
     "name": "stdout",
     "output_type": "stream",
     "text": [
      "/storage/groups/ml01/datasets/projects/20210318_retinal_data_integration_ignacio.ibarra_malte.luecken/Roska/R-00646_03_Periphery_ChoroidRPE_Right.h5ad\n",
      "/storage/groups/ml01/datasets/projects/20210430_retinal_data_integration_ignacio.ibarra_malte.luecken_v2/Roska/R-00646_03_Periphery_ChoroidRPE_Right.h5ad\n",
      "/storage/groups/ml01/datasets/projects/20210318_retinal_data_integration_ignacio.ibarra_malte.luecken/Roska/R-00646_04_Fovea_Retina_Right.h5ad\n",
      "/storage/groups/ml01/datasets/projects/20210430_retinal_data_integration_ignacio.ibarra_malte.luecken_v2/Roska/R-00646_04_Fovea_Retina_Right.h5ad\n",
      "/storage/groups/ml01/datasets/projects/20210318_retinal_data_integration_ignacio.ibarra_malte.luecken/Roska/R-00646_07_Periphery_ChoroidRPE.h5ad\n",
      "/storage/groups/ml01/datasets/projects/20210430_retinal_data_integration_ignacio.ibarra_malte.luecken_v2/Roska/R-00646_07_Periphery_ChoroidRPE.h5ad\n",
      "/storage/groups/ml01/datasets/projects/20210318_retinal_data_integration_ignacio.ibarra_malte.luecken/Roska/R-00646_04_Fovea_Retina_Left.h5ad\n",
      "/storage/groups/ml01/datasets/projects/20210430_retinal_data_integration_ignacio.ibarra_malte.luecken_v2/Roska/R-00646_04_Fovea_Retina_Left.h5ad\n",
      "/storage/groups/ml01/datasets/projects/20210318_retinal_data_integration_ignacio.ibarra_malte.luecken/Roska/R-00646_01_Periphery_ChoroidRPE_Right.h5ad\n",
      "/storage/groups/ml01/datasets/projects/20210430_retinal_data_integration_ignacio.ibarra_malte.luecken_v2/Roska/R-00646_01_Periphery_ChoroidRPE_Right.h5ad\n",
      "/storage/groups/ml01/datasets/projects/20210318_retinal_data_integration_ignacio.ibarra_malte.luecken/Roska/R-00646_03_Periphery_Retina_Left.h5ad\n",
      "/storage/groups/ml01/datasets/projects/20210430_retinal_data_integration_ignacio.ibarra_malte.luecken_v2/Roska/R-00646_03_Periphery_Retina_Left.h5ad\n",
      "/storage/groups/ml01/datasets/projects/20210318_retinal_data_integration_ignacio.ibarra_malte.luecken/Roska/R-00646_07_Periphery_Retina.h5ad\n",
      "/storage/groups/ml01/datasets/projects/20210430_retinal_data_integration_ignacio.ibarra_malte.luecken_v2/Roska/R-00646_07_Periphery_Retina.h5ad\n",
      "/storage/groups/ml01/datasets/projects/20210318_retinal_data_integration_ignacio.ibarra_malte.luecken/Roska/R-00646_04_Periphery_ChoroidRPE_Left.h5ad\n",
      "/storage/groups/ml01/datasets/projects/20210430_retinal_data_integration_ignacio.ibarra_malte.luecken_v2/Roska/R-00646_04_Periphery_ChoroidRPE_Left.h5ad\n",
      "/storage/groups/ml01/datasets/projects/20210318_retinal_data_integration_ignacio.ibarra_malte.luecken/Roska/R-00646_03_Fovea_ChoroidRPE_Left.h5ad\n",
      "/storage/groups/ml01/datasets/projects/20210430_retinal_data_integration_ignacio.ibarra_malte.luecken_v2/Roska/R-00646_03_Fovea_ChoroidRPE_Left.h5ad\n",
      "/storage/groups/ml01/datasets/projects/20210318_retinal_data_integration_ignacio.ibarra_malte.luecken/Roska/R-00646_04_Fovea_ChoroidRPE_Right.h5ad\n",
      "/storage/groups/ml01/datasets/projects/20210430_retinal_data_integration_ignacio.ibarra_malte.luecken_v2/Roska/R-00646_04_Fovea_ChoroidRPE_Right.h5ad\n",
      "/storage/groups/ml01/datasets/projects/20210318_retinal_data_integration_ignacio.ibarra_malte.luecken/Roska/R-00646_01_Periphery_ChoroidRPE_Left.h5ad\n",
      "/storage/groups/ml01/datasets/projects/20210430_retinal_data_integration_ignacio.ibarra_malte.luecken_v2/Roska/R-00646_01_Periphery_ChoroidRPE_Left.h5ad\n",
      "/storage/groups/ml01/datasets/projects/20210318_retinal_data_integration_ignacio.ibarra_malte.luecken/Roska/R-00646_01_Periphery_Retina_Left.h5ad\n",
      "/storage/groups/ml01/datasets/projects/20210430_retinal_data_integration_ignacio.ibarra_malte.luecken_v2/Roska/R-00646_01_Periphery_Retina_Left.h5ad\n",
      "/storage/groups/ml01/datasets/projects/20210318_retinal_data_integration_ignacio.ibarra_malte.luecken/Roska/R-00646_03_Fovea_Retina_Right.h5ad\n",
      "/storage/groups/ml01/datasets/projects/20210430_retinal_data_integration_ignacio.ibarra_malte.luecken_v2/Roska/R-00646_03_Fovea_Retina_Right.h5ad\n",
      "/storage/groups/ml01/datasets/projects/20210318_retinal_data_integration_ignacio.ibarra_malte.luecken/Roska/R-00646_04_Periphery_Retina_Right.h5ad\n",
      "/storage/groups/ml01/datasets/projects/20210430_retinal_data_integration_ignacio.ibarra_malte.luecken_v2/Roska/R-00646_04_Periphery_Retina_Right.h5ad\n",
      "/storage/groups/ml01/datasets/projects/20210318_retinal_data_integration_ignacio.ibarra_malte.luecken/Roska/R-00646_03_Fovea_Retina_Left.h5ad\n",
      "/storage/groups/ml01/datasets/projects/20210430_retinal_data_integration_ignacio.ibarra_malte.luecken_v2/Roska/R-00646_03_Fovea_Retina_Left.h5ad\n",
      "/storage/groups/ml01/datasets/projects/20210318_retinal_data_integration_ignacio.ibarra_malte.luecken/Roska/R-00646_03_Fovea_ChoroidRPE_Right.h5ad\n",
      "/storage/groups/ml01/datasets/projects/20210430_retinal_data_integration_ignacio.ibarra_malte.luecken_v2/Roska/R-00646_03_Fovea_ChoroidRPE_Right.h5ad\n",
      "/storage/groups/ml01/datasets/projects/20210318_retinal_data_integration_ignacio.ibarra_malte.luecken/Roska/R-00646_03_Periphery_ChoroidRPE_Left.h5ad\n",
      "/storage/groups/ml01/datasets/projects/20210430_retinal_data_integration_ignacio.ibarra_malte.luecken_v2/Roska/R-00646_03_Periphery_ChoroidRPE_Left.h5ad\n",
      "/storage/groups/ml01/datasets/projects/20210318_retinal_data_integration_ignacio.ibarra_malte.luecken/Roska/R-00646_01_Fovea_Retina_Right.h5ad\n",
      "/storage/groups/ml01/datasets/projects/20210430_retinal_data_integration_ignacio.ibarra_malte.luecken_v2/Roska/R-00646_01_Fovea_Retina_Right.h5ad\n",
      "/storage/groups/ml01/datasets/projects/20210318_retinal_data_integration_ignacio.ibarra_malte.luecken/Roska/R-00646_07_Periphery_RetinaChoroidRPE.h5ad\n",
      "/storage/groups/ml01/datasets/projects/20210430_retinal_data_integration_ignacio.ibarra_malte.luecken_v2/Roska/R-00646_07_Periphery_RetinaChoroidRPE.h5ad\n",
      "/storage/groups/ml01/datasets/projects/20210318_retinal_data_integration_ignacio.ibarra_malte.luecken/Roska/R-00646_04_Periphery_Retina_Left.h5ad\n",
      "/storage/groups/ml01/datasets/projects/20210430_retinal_data_integration_ignacio.ibarra_malte.luecken_v2/Roska/R-00646_04_Periphery_Retina_Left.h5ad\n",
      "/storage/groups/ml01/datasets/projects/20210318_retinal_data_integration_ignacio.ibarra_malte.luecken/Roska/R-00646_01_Periphery_Retina_Right.h5ad\n",
      "/storage/groups/ml01/datasets/projects/20210430_retinal_data_integration_ignacio.ibarra_malte.luecken_v2/Roska/R-00646_01_Periphery_Retina_Right.h5ad\n",
      "/storage/groups/ml01/datasets/projects/20210318_retinal_data_integration_ignacio.ibarra_malte.luecken/Roska/R-00646_03_Periphery_Retina_Right.h5ad\n",
      "/storage/groups/ml01/datasets/projects/20210430_retinal_data_integration_ignacio.ibarra_malte.luecken_v2/Roska/R-00646_03_Periphery_Retina_Right.h5ad\n",
      "/storage/groups/ml01/datasets/projects/20210318_retinal_data_integration_ignacio.ibarra_malte.luecken/Roska/R-00646_04_Fovea_ChoroidRPE_Left.h5ad\n",
      "/storage/groups/ml01/datasets/projects/20210430_retinal_data_integration_ignacio.ibarra_malte.luecken_v2/Roska/R-00646_04_Fovea_ChoroidRPE_Left.h5ad\n",
      "/storage/groups/ml01/datasets/projects/20210318_retinal_data_integration_ignacio.ibarra_malte.luecken/Scheetz/GSM3745997.h5ad\n",
      "/storage/groups/ml01/datasets/projects/20210430_retinal_data_integration_ignacio.ibarra_malte.luecken_v2/Scheetz/GSM3745997.h5ad\n",
      "/storage/groups/ml01/datasets/projects/20210318_retinal_data_integration_ignacio.ibarra_malte.luecken/Scheetz/GSM3745993.h5ad\n",
      "/storage/groups/ml01/datasets/projects/20210430_retinal_data_integration_ignacio.ibarra_malte.luecken_v2/Scheetz/GSM3745993.h5ad\n",
      "/storage/groups/ml01/datasets/projects/20210318_retinal_data_integration_ignacio.ibarra_malte.luecken/Scheetz/GSM3745996.h5ad\n",
      "/storage/groups/ml01/datasets/projects/20210430_retinal_data_integration_ignacio.ibarra_malte.luecken_v2/Scheetz/GSM3745996.h5ad\n",
      "/storage/groups/ml01/datasets/projects/20210318_retinal_data_integration_ignacio.ibarra_malte.luecken/Scheetz/GSM3745992.h5ad\n",
      "/storage/groups/ml01/datasets/projects/20210430_retinal_data_integration_ignacio.ibarra_malte.luecken_v2/Scheetz/GSM3745992.h5ad\n",
      "/storage/groups/ml01/datasets/projects/20210318_retinal_data_integration_ignacio.ibarra_malte.luecken/Scheetz/GSM3745994.h5ad\n",
      "/storage/groups/ml01/datasets/projects/20210430_retinal_data_integration_ignacio.ibarra_malte.luecken_v2/Scheetz/GSM3745994.h5ad\n",
      "/storage/groups/ml01/datasets/projects/20210318_retinal_data_integration_ignacio.ibarra_malte.luecken/Scheetz/GSM3745995.h5ad\n",
      "/storage/groups/ml01/datasets/projects/20210430_retinal_data_integration_ignacio.ibarra_malte.luecken_v2/Scheetz/GSM3745995.h5ad\n"
     ]
    },
    {
     "ename": "NotADirectoryError",
     "evalue": "[Errno 20] Not a directory: '/storage/groups/ml01/datasets/projects/20210430_retinal_data_integration_ignacio.ibarra_malte.luecken_v2/md5sum.txt'",
     "output_type": "error",
     "traceback": [
      "\u001b[0;31m---------------------------------------------------------------------------\u001b[0m",
      "\u001b[0;31mNotADirectoryError\u001b[0m                        Traceback (most recent call last)",
      "\u001b[0;32m<ipython-input-35-7e59f6ba083e>\u001b[0m in \u001b[0;36m<module>\u001b[0;34m\u001b[0m\n\u001b[1;32m      1\u001b[0m \u001b[0;32mfor\u001b[0m \u001b[0md\u001b[0m \u001b[0;32min\u001b[0m \u001b[0mos\u001b[0m\u001b[0;34m.\u001b[0m\u001b[0mlistdir\u001b[0m\u001b[0;34m(\u001b[0m\u001b[0mnew_dir\u001b[0m\u001b[0;34m)\u001b[0m\u001b[0;34m:\u001b[0m\u001b[0;34m\u001b[0m\u001b[0;34m\u001b[0m\u001b[0m\n\u001b[0;32m----> 2\u001b[0;31m     \u001b[0;32mfor\u001b[0m \u001b[0mf\u001b[0m \u001b[0;32min\u001b[0m \u001b[0mos\u001b[0m\u001b[0;34m.\u001b[0m\u001b[0mlistdir\u001b[0m\u001b[0;34m(\u001b[0m\u001b[0mos\u001b[0m\u001b[0;34m.\u001b[0m\u001b[0mpath\u001b[0m\u001b[0;34m.\u001b[0m\u001b[0mjoin\u001b[0m\u001b[0;34m(\u001b[0m\u001b[0mnew_dir\u001b[0m\u001b[0;34m,\u001b[0m \u001b[0md\u001b[0m\u001b[0;34m)\u001b[0m\u001b[0;34m)\u001b[0m\u001b[0;34m:\u001b[0m\u001b[0;34m\u001b[0m\u001b[0;34m\u001b[0m\u001b[0m\n\u001b[0m\u001b[1;32m      3\u001b[0m \u001b[0;34m\u001b[0m\u001b[0m\n\u001b[1;32m      4\u001b[0m         \u001b[0mold_path\u001b[0m \u001b[0;34m=\u001b[0m \u001b[0mos\u001b[0m\u001b[0;34m.\u001b[0m\u001b[0mpath\u001b[0m\u001b[0;34m.\u001b[0m\u001b[0mjoin\u001b[0m\u001b[0;34m(\u001b[0m\u001b[0mold_dir\u001b[0m\u001b[0;34m,\u001b[0m \u001b[0md\u001b[0m\u001b[0;34m,\u001b[0m \u001b[0mf\u001b[0m\u001b[0;34m)\u001b[0m\u001b[0;34m\u001b[0m\u001b[0;34m\u001b[0m\u001b[0m\n\u001b[1;32m      5\u001b[0m         \u001b[0mnew_path\u001b[0m \u001b[0;34m=\u001b[0m \u001b[0mos\u001b[0m\u001b[0;34m.\u001b[0m\u001b[0mpath\u001b[0m\u001b[0;34m.\u001b[0m\u001b[0mjoin\u001b[0m\u001b[0;34m(\u001b[0m\u001b[0mnew_dir\u001b[0m\u001b[0;34m,\u001b[0m \u001b[0md\u001b[0m\u001b[0;34m,\u001b[0m \u001b[0mf\u001b[0m\u001b[0;34m)\u001b[0m\u001b[0;34m\u001b[0m\u001b[0;34m\u001b[0m\u001b[0m\n",
      "\u001b[0;31mNotADirectoryError\u001b[0m: [Errno 20] Not a directory: '/storage/groups/ml01/datasets/projects/20210430_retinal_data_integration_ignacio.ibarra_malte.luecken_v2/md5sum.txt'"
     ]
    }
   ],
   "source": [
    "for d in os.listdir(new_dir):\n",
    "    for f in os.listdir(os.path.join(new_dir, d)):\n",
    "    \n",
    "        old_path = os.path.join(old_dir, d, f)\n",
    "        new_path = os.path.join(new_dir, d, f)\n",
    "        print(old_path)\n",
    "        print(new_path)\n",
    "        \n",
    "        ad_old = sc.read_h5ad(old_path)\n",
    "        ad_new = sc.read_h5ad(new_path)\n",
    "        \n",
    "        assert ad_old.obs_names.equals(ad_new.obs_names) and (ad_old.X != ad_new.X).nnz == 0"
   ]
  }
 ],
 "metadata": {
  "kernelspec": {
   "display_name": "Python [conda env:mypython3] *",
   "language": "python",
   "name": "conda-env-mypython3-py"
  },
  "language_info": {
   "codemirror_mode": {
    "name": "ipython",
    "version": 3
   },
   "file_extension": ".py",
   "mimetype": "text/x-python",
   "name": "python",
   "nbconvert_exporter": "python",
   "pygments_lexer": "ipython3",
   "version": "3.7.8"
  }
 },
 "nbformat": 4,
 "nbformat_minor": 4
}
