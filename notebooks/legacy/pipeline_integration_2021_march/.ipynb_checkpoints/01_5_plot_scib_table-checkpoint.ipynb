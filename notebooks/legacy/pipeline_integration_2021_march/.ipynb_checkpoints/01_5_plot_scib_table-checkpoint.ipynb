{
 "cells": [
  {
   "cell_type": "code",
   "execution_count": null,
   "metadata": {},
   "outputs": [],
   "source": [
    "print('here...')"
   ]
  },
  {
   "cell_type": "code",
   "execution_count": null,
   "metadata": {},
   "outputs": [],
   "source": [
    "setwd('/lustre/groups/ml01/workspace/ignacio.ibarra/theislab/scib/R/visualization')"
   ]
  },
  {
   "cell_type": "code",
   "execution_count": null,
   "metadata": {},
   "outputs": [],
   "source": [
    "# !ls -ltrh *.R"
   ]
  },
  {
   "cell_type": "code",
   "execution_count": null,
   "metadata": {},
   "outputs": [],
   "source": [
    "# import the functions to plot the respective functions\n",
    "source('plotSingleTaskRNA.R');"
   ]
  },
  {
   "cell_type": "code",
   "execution_count": null,
   "metadata": {},
   "outputs": [],
   "source": [
    "# metrics_path_all = '/lustre/groups/ml01/workspace/ignacio.ibarra/theislab/retinal_scRNAseq_integration/data/integration_march_2021/output/metrics_retinal_all_Chen+Hackney_batch_donor_dataset_cell.type.csv'\n",
    "metrics_path_all = '/lustre/groups/ml01/workspace/ignacio.ibarra/theislab/retinal_scRNAseq_integration/data/integration_march_2021/output/metrics_retinal_all_cells_Chenfixed+Hackney_batch_donor_dataset_cell.type.csv'\n",
    "\n",
    "df <- read.table(metrics_path_all, sep=',', header=T, row.names=1)"
   ]
  },
  {
   "cell_type": "code",
   "execution_count": null,
   "metadata": {},
   "outputs": [],
   "source": [
    "print('here...')"
   ]
  },
  {
   "cell_type": "code",
   "execution_count": null,
   "metadata": {},
   "outputs": [],
   "source": [
    "dim(df)"
   ]
  },
  {
   "cell_type": "code",
   "execution_count": null,
   "metadata": {},
   "outputs": [],
   "source": [
    "# plotSingleTaskRNA(metrics_path_all, outdir=scib_outdir)"
   ]
  },
  {
   "cell_type": "code",
   "execution_count": null,
   "metadata": {},
   "outputs": [],
   "source": [
    "rownames(df) <- str_replace(rownames(df), \"\\\\+\", 'and')\n",
    "rownames(df) <- str_replace(rownames(df), \"\\\\+\", 'and')\n",
    "rownames(df) <- str_replace(rownames(df), \"\\\\+\", 'and')"
   ]
  },
  {
   "cell_type": "code",
   "execution_count": null,
   "metadata": {},
   "outputs": [],
   "source": [
    "df <- df[grepl('Roska', rownames(df)) == FALSE,]\n",
    "df <- df[grepl('_E', rownames(df)),]\n",
    "# df <- df[grepl('_L', rownames(df)),]"
   ]
  },
  {
   "cell_type": "code",
   "execution_count": null,
   "metadata": {},
   "outputs": [],
   "source": [
    "scib_outdir = '/lustre/groups/ml01/workspace/ignacio.ibarra/theislab/retinal_scRNAseq_integration/data/integration_march_2021/output/results'\n",
    "# metrics_path = '/mnt/znas/icb_zstore01/groups/ml01/workspace/ignacio.ibarra/theislab/retinal_scRNAseq_integration/data/integration_march_2021/output/metrics.csv'\n",
    "# metrics_path = '/mnt/znas/icb_zstore01/groups/ml01/workspace/ignacio.ibarra/theislab/retinal_scRNAseq_integration/data/integration_march_2021/output/metrics_retinal_all_Chen+Hackney_batch_donor_dataset_cell.type_bkp.csv'\n",
    "metrics_path_all = '/lustre/groups/ml01/workspace/ignacio.ibarra/theislab/retinal_scRNAseq_integration/data/integration_march_2021/output/metrics_retinal_all_cells_Chenfixed+Hackney_batch_donor_dataset_cell.type.csv'\n",
    "# metrics_path = '/lustre/groups/ml01/workspace/ignacio.ibarra/theislab/retinal_scRNAseq_integration/data/integration_march_2021/output/metrics_retinal_all_Chen+Hackney_batch_donor_dataset_cell.type_bkp.csv'\n",
    "# metrics_path = '/mnt/znas/icb_zstore01/groups/ml01/workspace/ignacio.ibarra/theislab/retinal_scRNAseq_integration/data/integration_march_2021/output/metrics_bkp.csv'"
   ]
  },
  {
   "cell_type": "code",
   "execution_count": null,
   "metadata": {},
   "outputs": [],
   "source": [
    "df"
   ]
  },
  {
   "cell_type": "code",
   "execution_count": null,
   "metadata": {},
   "outputs": [],
   "source": [
    "for(group in c('ChenfixedandHackney_batch', 'ChenandHackneyandRoska_batch')){\n",
    "    for(k in c('HVG.1K', 'HVG.2K', 'HVG.3K')){\n",
    "        df_sel <- df[grepl(k, rownames(df)) == T,]\n",
    "        df_sel <- df_sel[grepl(group, rownames(df_sel)) == T,]\n",
    "        \n",
    "        print(c(k, group, dim(df_sel)))\n",
    "        if(nrow(df_sel) == 0){\n",
    "            next            \n",
    "        }\n",
    "\n",
    "        rownames(df_sel) <- str_replace(rownames(df_sel), '_E', ':E')\n",
    "        rownames(df_sel) <- str_replace(rownames(df_sel), '_L', ':L')\n",
    "        rownames(df_sel) <- str_replace(rownames(df_sel), '_H', ':H')\n",
    "        rownames(df_sel)\n",
    "        \n",
    "        print(c(dim(df_sel), nrow(df_sel)))\n",
    "        # print(head(df_sel))\n",
    "        p = paste0(metrics_path_all)\n",
    "        \n",
    "        metrics_path_hvg <- str_replace(metrics_path_all, '.csv', paste0('_', k, '.csv'))\n",
    "        # print(metrics_path_hvg)\n",
    "        write.csv(df_sel, metrics_path_hvg, quote=F)\n",
    "\n",
    "        print(metrics_path_hvg)\n",
    "        # stopifnot(1 > 2)\n",
    "        # import the functions to plot the respective functions\n",
    "        source('plotSingleTaskRNA.R');\n",
    "        plotSingleTaskRNA(metrics_path_hvg, outdir=scib_outdir, hvg_key=paste0(group, \"_\", k))\n",
    "    }    \n",
    "    break\n",
    "}\n"
   ]
  },
  {
   "cell_type": "code",
   "execution_count": null,
   "metadata": {},
   "outputs": [],
   "source": [
    "print('here...')"
   ]
  },
  {
   "cell_type": "code",
   "execution_count": null,
   "metadata": {},
   "outputs": [],
   "source": [
    "# import the functions to plot the respective functions\n",
    "source('plotSingleTaskRNA.R');\n",
    "plotSingleTaskRNA(metrics_path, outdir=scib_outdir)"
   ]
  },
  {
   "cell_type": "code",
   "execution_count": null,
   "metadata": {},
   "outputs": [],
   "source": [
    "print('here...')"
   ]
  },
  {
   "cell_type": "code",
   "execution_count": null,
   "metadata": {},
   "outputs": [],
   "source": [
    "for(k in c(250)){ # , 500, 1000, 'all')){\n",
    "    for(batch_label in c('batch_donor_dataset')){ #  'batch.merged', 'dataset')){\n",
    "        p = paste0(scib_outdir, k, '_', batch_label, '.csv')\n",
    "        print(p)\n",
    "        if(!file.exists(p)){\n",
    "            print('skip...')\n",
    "            next\n",
    "        }\n",
    "        print(file.exists(p))\n",
    "        plotSingleTaskRNA(p, outdir=scib_outdir)\n",
    "        # metrics_path = paste0(scib_outdir, 'metrics.csv')\n",
    "    }\n",
    "}"
   ]
  },
  {
   "cell_type": "code",
   "execution_count": null,
   "metadata": {},
   "outputs": [],
   "source": [
    "print(metrics_path_250)"
   ]
  },
  {
   "cell_type": "code",
   "execution_count": null,
   "metadata": {},
   "outputs": [],
   "source": [
    "# df = read.table(metrics_path_250, sep=',', header=T, row.names=1)\n",
    "# df_batch_merged <- df[grepl('_batch.merged_', rownames(df)),]\n",
    "# df_batch_dataset <- df[grepl('_dataset_', rownames(df)),]\n",
    "# print(c(dim(df_batch_merged), dim(df_batch_dataset)))\n",
    "\n",
    "# write.table(df_batch_merged, metrics_path_250_batch_merged, sep=',', quote=F, row.names=T, col.names=NA)\n",
    "# write.table(df_batch_dataset, metrics_path_250_batch_dataset, sep=',', quote=F, row.names=T, col.names=NA)"
   ]
  },
  {
   "cell_type": "code",
   "execution_count": null,
   "metadata": {},
   "outputs": [],
   "source": [
    "df = read.table(metrics_path_500, sep=',', header=T, row.names=1)\n",
    "df_batch_merged <- df[grepl('_batch.merged_', rownames(df)),]\n",
    "df_batch_dataset <- df[grepl('_dataset_', rownames(df)),]\n",
    "print(c(dim(df_batch_merged), dim(df_batch_dataset)))"
   ]
  },
  {
   "cell_type": "code",
   "execution_count": null,
   "metadata": {},
   "outputs": [],
   "source": [
    "write.table(df_batch_merged, metrics_path_500_batch_merged, sep=',', quote=F, row.names=T, col.names=NA)\n",
    "write.table(df_batch_dataset, metrics_path_500_batch_dataset, sep=',', quote=F, row.names=T, col.names=NA)"
   ]
  },
  {
   "cell_type": "code",
   "execution_count": null,
   "metadata": {},
   "outputs": [],
   "source": [
    "sel <- df[grepl('_all_', rownames(df)),]\n",
    "write.table(sel, , sep=',', quote=F, row.names=T, col.names=NA)"
   ]
  },
  {
   "cell_type": "code",
   "execution_count": null,
   "metadata": {},
   "outputs": [],
   "source": [
    "getwd()"
   ]
  },
  {
   "cell_type": "code",
   "execution_count": null,
   "metadata": {},
   "outputs": [],
   "source": [
    "scib_outdir <- '/mnt/znas/icb_zstore01/groups/ml01/workspace/ignacio.ibarra/theislab/retinal_scRNAseq_integration/data/integration_march_2021/output/'"
   ]
  },
  {
   "cell_type": "code",
   "execution_count": null,
   "metadata": {},
   "outputs": [],
   "source": [
    "# import the functions to plot the respective functions\n",
    "source('plotSingleTaskRNA.R');"
   ]
  },
  {
   "cell_type": "code",
   "execution_count": null,
   "metadata": {},
   "outputs": [],
   "source": [
    "v <- c('a', 'b', 'c')"
   ]
  },
  {
   "cell_type": "code",
   "execution_count": null,
   "metadata": {},
   "outputs": [],
   "source": [
    "next_path = paste0(scib_outdir, 'metrics', '.csv')\n",
    "print(next_path)\n",
    "plotSingleTaskRNA(next_path, outdir=scib_outdir)\n",
    "print(p)\n"
   ]
  },
  {
   "cell_type": "code",
   "execution_count": null,
   "metadata": {},
   "outputs": [],
   "source": []
  },
  {
   "cell_type": "code",
   "execution_count": null,
   "metadata": {},
   "outputs": [],
   "source": [
    "# print(metrics_path_500)\n",
    "plotSingleTaskRNA(metrics_path_250_batch_merged, outdir=scib_outdir)"
   ]
  },
  {
   "cell_type": "code",
   "execution_count": null,
   "metadata": {},
   "outputs": [],
   "source": [
    "# print(metrics_path_500)\n",
    "plotSingleTaskRNA(metrics_path_500_batch_merged, outdir=scib_outdir)"
   ]
  },
  {
   "cell_type": "code",
   "execution_count": null,
   "metadata": {},
   "outputs": [],
   "source": [
    "# print(metrics_path_500)\n",
    "plotSingleTaskRNA(metrics_path_500_batch_dataset, outdir=scib_outdir)"
   ]
  },
  {
   "cell_type": "code",
   "execution_count": null,
   "metadata": {},
   "outputs": [],
   "source": [
    "print(metrics_path_500)\n",
    "plotSingleTaskRNA(metrics_path_500, outdir=scib_outdir)"
   ]
  },
  {
   "cell_type": "code",
   "execution_count": null,
   "metadata": {},
   "outputs": [],
   "source": [
    "for (c in c('CP', 'all', 'PDAC')){\n",
    "    print(c)\n",
    "    outdir = paste0(scib_outdir, c, \"/\")\n",
    "    metrics_path = paste0(outdir, 'metrics.csv')\n",
    "    print(outdir)\n",
    "    print(metrics_path)\n",
    "    plotSingleTaskRNA(metrics_path, outdir=outdir)\n",
    "}\n",
    "    "
   ]
  }
 ],
 "metadata": {
  "kernelspec": {
   "display_name": "R [conda env:scIB-table]",
   "language": "R",
   "name": "conda-env-scIB-table-r"
  },
  "language_info": {
   "codemirror_mode": "r",
   "file_extension": ".r",
   "mimetype": "text/x-r-source",
   "name": "R",
   "pygments_lexer": "r",
   "version": "4.1.3"
  }
 },
 "nbformat": 4,
 "nbformat_minor": 4
}
