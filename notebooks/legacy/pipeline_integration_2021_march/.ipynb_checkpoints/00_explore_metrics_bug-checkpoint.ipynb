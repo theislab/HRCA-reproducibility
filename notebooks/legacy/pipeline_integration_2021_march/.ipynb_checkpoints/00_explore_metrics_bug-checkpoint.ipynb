{
 "cells": [
  {
   "cell_type": "code",
   "execution_count": 35,
   "metadata": {},
   "outputs": [],
   "source": [
    "p = '/storage/groups/ml01/workspace/ignacio.ibarra/theislab/retinal_scRNAseq_integration/data/integration_march_2021/input/input_500_cells.h5ad'\n",
    "p_sca = '/storage/groups/ml01/workspace/ignacio.ibarra/theislab/retinal_scRNAseq_integration/scIB_run/retinal_march_2021_500_cells/integration/unscaled/hvg/scanorama.h5ad'"
   ]
  },
  {
   "cell_type": "code",
   "execution_count": 3,
   "metadata": {},
   "outputs": [],
   "source": [
    "import scanpy as sc"
   ]
  },
  {
   "cell_type": "code",
   "execution_count": 36,
   "metadata": {},
   "outputs": [
    {
     "name": "stderr",
     "output_type": "stream",
     "text": [
      "Observation names are not unique. To make them unique, call `.obs_names_make_unique`.\n",
      "Observation names are not unique. To make them unique, call `.obs_names_make_unique`.\n"
     ]
    }
   ],
   "source": [
    "ad_input = sc.read_h5ad(p)\n",
    "ad_sca = sc.read_h5ad(p_sca)"
   ]
  },
  {
   "cell_type": "code",
   "execution_count": 195,
   "metadata": {},
   "outputs": [
    {
     "data": {
      "text/plain": [
       "Index(['AAACGGGAGCAGACTG-1-0:Wong:0', 'AAAGATGCAAATCCGT-1-0:Wong:0',\n",
       "       'AAAGCAAAGCTCCCAG-1-0:Wong:0', 'AAAGTAGAGCCAGAAC-1-0:Wong:0',\n",
       "       'AAAGTAGTCATGCATG-1-0:Wong:0', 'AAATGCCCACGCGAAA-1-0:Wong:0',\n",
       "       'AAATGCCCATGGTAGG-1-0:Wong:0', 'AACCATGAGGATTCGG-1-0:Wong:0',\n",
       "       'AACCATGAGGTGCTAG-1-0:Wong:0', 'AACGTTGAGGTTACCT-1-0:Wong:0',\n",
       "       ...\n",
       "       'TTTACGTTCCGGTAGC-1-14:Chen_b:14', 'TTTACGTTCGGTAGGA-1-14:Chen_b:14',\n",
       "       'TTTAGTCTCCCAAGCG-1-14:Chen_b:14', 'TTTATGCCATGGATCT-1-14:Chen_b:14',\n",
       "       'TTTCATGGTCATTCCC-1-14:Chen_b:14', 'TTTGACTCAAGTACCT-1-14:Chen_b:14',\n",
       "       'TTTGACTGTTGTATGC-1-14:Chen_b:14', 'TTTGGTTCAACCGCCA-1-14:Chen_b:14',\n",
       "       'TTTGGTTCAAGCGGAT-1-14:Chen_b:14', 'TTTGTTGTCACCGGGT-1-14:Chen_b:14'],\n",
       "      dtype='object', length=87558)"
      ]
     },
     "execution_count": 195,
     "metadata": {},
     "output_type": "execute_result"
    }
   ],
   "source": [
    "ad_input.obs.index"
   ]
  },
  {
   "cell_type": "code",
   "execution_count": 196,
   "metadata": {},
   "outputs": [
    {
     "data": {
      "text/plain": [
       "CACAGATCACAGAGCA-1-19:Chen_c:19    2\n",
       "CTTGATTTCCTATTTG-1-1:Chen_c:1      2\n",
       "CCGTGAGGTGATAGTA-1-4:Scheetz:4     2\n",
       "CAGCAGCGTGAGATAT-1-2:Scheetz:2     2\n",
       "AGACTCACACCCAACG-1-4:Hafler:4      2\n",
       "                                  ..\n",
       "GATTCTTAGTTGGACG-1-2:Chen_b:2      1\n",
       "CELL4008421-3:Hackney:3            1\n",
       "CCTCCTCTCCGCGGAT-1-9:Chen_b:9      1\n",
       "GGCTTTCAGAGGCCAT-1-29:Chen_a:29    1\n",
       "TAAGTGCGTTCACGGC-1-2:Sanes:2       1\n",
       "Length: 69843, dtype: int64"
      ]
     },
     "execution_count": 196,
     "metadata": {},
     "output_type": "execute_result"
    }
   ],
   "source": [
    "ad_input.obs.index.value_counts()"
   ]
  },
  {
   "cell_type": "code",
   "execution_count": 41,
   "metadata": {},
   "outputs": [
    {
     "data": {
      "text/plain": [
       "CACAGATCACAGAGCA-1-19:Chen_c:19    2\n",
       "CTTGATTTCCTATTTG-1-1:Chen_c:1      2\n",
       "CCGTGAGGTGATAGTA-1-4:Scheetz:4     2\n",
       "CAGCAGCGTGAGATAT-1-2:Scheetz:2     2\n",
       "AGACTCACACCCAACG-1-4:Hafler:4      2\n",
       "                                  ..\n",
       "GATTCTTAGTTGGACG-1-2:Chen_b:2      1\n",
       "CELL4008421-3:Hackney:3            1\n",
       "CCTCCTCTCCGCGGAT-1-9:Chen_b:9      1\n",
       "GGCTTTCAGAGGCCAT-1-29:Chen_a:29    1\n",
       "TAAGTGCGTTCACGGC-1-2:Sanes:2       1\n",
       "Length: 69843, dtype: int64"
      ]
     },
     "execution_count": 41,
     "metadata": {},
     "output_type": "execute_result"
    }
   ],
   "source": [
    "ad_sca.obs.index.value_counts()"
   ]
  },
  {
   "cell_type": "code",
   "execution_count": 26,
   "metadata": {},
   "outputs": [
    {
     "name": "stdout",
     "output_type": "stream",
     "text": [
      "total 125039266\n",
      "drwxr-xr-x. 2 ignacio.ibarra          11 Apr 18 18:12 \u001b[0m\u001b[38;5;33mbydataset\u001b[0m/\n",
      "-rw-r--r--. 1 ignacio.ibarra  3894492093 Apr 21 09:21 input_1000_cells.h5ad\n",
      "-rw-r--r--. 1 ignacio.ibarra   889286985 Apr 21 09:12 input_1000_cells_part1.h5ad\n",
      "-rw-r--r--. 1 ignacio.ibarra  3018091792 Apr 21 09:20 input_1000_cells_part2.h5ad\n",
      "-rw-r--r--. 1 ignacio.ibarra   111307671 Apr 19 16:55 input_150_cells.h5ad\n",
      "-rw-r--r--. 1 ignacio.ibarra  7399179519 Apr 21 09:38 input_2000_cells.h5ad\n",
      "-rw-r--r--. 1 ignacio.ibarra  1620421099 Apr 21 09:26 input_2000_cells_part1.h5ad\n",
      "-rw-r--r--. 1 ignacio.ibarra  5779137718 Apr 21 09:36 input_2000_cells_part2.h5ad\n",
      "-rw-r--r--. 1 ignacio.ibarra   216535898 Apr 20 15:31 input_250_cells_part1.h5ad\n",
      "-rw-r--r--. 1 ignacio.ibarra  1123362582 Apr 21 00:39 input_300_cells.h5ad\n",
      "-rw-r--r--. 1 ignacio.ibarra   268333518 Apr 20 23:57 input_300_cells_part1.h5ad\n",
      "-rw-r--r--. 1 ignacio.ibarra   858477158 Apr 21 00:08 input_300_cells_part2.h5ad\n",
      "-rw-r--r--. 1 ignacio.ibarra   925116178 Apr 19 12:13 input_5000_cells.h5ad\n",
      "-rw-r--r--. 1 ignacio.ibarra   455374599 Apr 21 10:29 input_500_cells_part1.h5ad\n",
      "-rw-r--r--. 1 ignacio.ibarra 49329122188 Apr 19 23:42 input_all_cells.h5ad\n",
      "-rw-r--r--. 1 ignacio.ibarra  6458656013 Apr 19 22:32 input_all_cells_part1.h5ad\n",
      "-rw-r--r--. 1 ignacio.ibarra 45725552720 Apr 19 23:13 input_all_cells_part2.h5ad\n"
     ]
    }
   ],
   "source": [
    "ll ../../data/integration_march_2021/input/"
   ]
  },
  {
   "cell_type": "code",
   "execution_count": 46,
   "metadata": {},
   "outputs": [
    {
     "name": "stdout",
     "output_type": "stream",
     "text": [
      "total 125047067\n",
      "drwxr-xr-x. 2 ignacio.ibarra          11 Apr 18 18:12 \u001b[0m\u001b[38;5;33mbydataset\u001b[0m/\n",
      "-rw-r--r--. 1 ignacio.ibarra  3894492093 Apr 21 09:21 input_1000_cells.h5ad\n",
      "-rw-r--r--. 1 ignacio.ibarra   889286985 Apr 21 09:12 input_1000_cells_part1.h5ad\n",
      "-rw-r--r--. 1 ignacio.ibarra  3018091792 Apr 21 09:20 input_1000_cells_part2.h5ad\n",
      "-rw-r--r--. 1 ignacio.ibarra   111307671 Apr 19 16:55 input_150_cells.h5ad\n",
      "-rw-r--r--. 1 ignacio.ibarra  7399179519 Apr 21 09:38 input_2000_cells.h5ad\n",
      "-rw-r--r--. 1 ignacio.ibarra  1620421099 Apr 21 09:26 input_2000_cells_part1.h5ad\n",
      "-rw-r--r--. 1 ignacio.ibarra  5779137718 Apr 21 09:36 input_2000_cells_part2.h5ad\n",
      "-rw-r--r--. 1 ignacio.ibarra   216535898 Apr 20 15:31 input_250_cells_part1.h5ad\n",
      "-rw-r--r--. 1 ignacio.ibarra  1123362582 Apr 21 00:39 input_300_cells.h5ad\n",
      "-rw-r--r--. 1 ignacio.ibarra   268333518 Apr 20 23:57 input_300_cells_part1.h5ad\n",
      "-rw-r--r--. 1 ignacio.ibarra   858477158 Apr 21 00:08 input_300_cells_part2.h5ad\n",
      "-rw-r--r--. 1 ignacio.ibarra   925116178 Apr 19 12:13 input_5000_cells.h5ad\n",
      "-rw-r--r--. 1 ignacio.ibarra   463388655 Apr 21 11:52 input_500_cells_part1.h5ad\n",
      "-rw-r--r--. 1 ignacio.ibarra 49329122188 Apr 19 23:42 input_all_cells.h5ad\n",
      "-rw-r--r--. 1 ignacio.ibarra  6458656013 Apr 19 22:32 input_all_cells_part1.h5ad\n",
      "-rw-r--r--. 1 ignacio.ibarra 45725552720 Apr 19 23:13 input_all_cells_part2.h5ad\n"
     ]
    }
   ],
   "source": [
    "ll ../../data/integration_march_2021/input/"
   ]
  },
  {
   "cell_type": "code",
   "execution_count": 197,
   "metadata": {},
   "outputs": [],
   "source": [
    "p500_1 = '../../data/integration_march_2021/input/input_500_cells_part1.h5ad'\n",
    "p500_2 = '../../data/integration_march_2021/input/input_500_cells_part2.h5ad'\n",
    "p500_12 = '../../data/integration_march_2021/input/input_500_cells.h5ad'\n",
    "ad1 = sc.read_h5ad(p500_1)\n",
    "ad2 = sc.read_h5ad(p500_2)\n",
    "ad = sc.read_h5ad(p500_12)"
   ]
  },
  {
   "cell_type": "code",
   "execution_count": 198,
   "metadata": {},
   "outputs": [
    {
     "data": {
      "text/plain": [
       "((17712, 8314), (52126, 8125))"
      ]
     },
     "execution_count": 198,
     "metadata": {},
     "output_type": "execute_result"
    }
   ],
   "source": [
    "ad1.shape, ad2.shape"
   ]
  },
  {
   "cell_type": "code",
   "execution_count": 199,
   "metadata": {},
   "outputs": [
    {
     "data": {
      "text/plain": [
       "Chen_a     20000\n",
       "Roska      10107\n",
       "Sanes       9019\n",
       "Chen_b      7500\n",
       "Hackney     5500\n",
       "Name: dataset, dtype: int64"
      ]
     },
     "execution_count": 199,
     "metadata": {},
     "output_type": "execute_result"
    }
   ],
   "source": [
    "ad2.obs.dataset.value_counts()"
   ]
  },
  {
   "cell_type": "code",
   "execution_count": 200,
   "metadata": {},
   "outputs": [
    {
     "data": {
      "text/plain": [
       "Chen_c     10000\n",
       "Hafler      2630\n",
       "Scheetz     2582\n",
       "Wong        2500\n",
       "Name: dataset, dtype: int64"
      ]
     },
     "execution_count": 200,
     "metadata": {},
     "output_type": "execute_result"
    }
   ],
   "source": [
    "ad1.obs.dataset.value_counts()"
   ]
  },
  {
   "cell_type": "code",
   "execution_count": 201,
   "metadata": {},
   "outputs": [
    {
     "data": {
      "text/plain": [
       "69838"
      ]
     },
     "execution_count": 201,
     "metadata": {},
     "output_type": "execute_result"
    }
   ],
   "source": [
    "sum(ad.obs.dataset.value_counts())"
   ]
  },
  {
   "cell_type": "code",
   "execution_count": 202,
   "metadata": {},
   "outputs": [
    {
     "data": {
      "text/plain": [
       "AGGCTGCCAGCAATTC-1-13:Chen_c:13     1\n",
       "GAGGGATTCGAACCTA-1-25:Chen_a:25     1\n",
       "CELL4006608-8:Hackney:8             1\n",
       "TTAGTCTTCGTTCCTG-1-29:Chen_a:29     1\n",
       "CTGTTTACATGAAGTA-1_3-18:Roska:18    1\n",
       "                                   ..\n",
       "GGTCACGCACACCTAA-1-34:Chen_a:34     1\n",
       "CTTCTCTGTTTGACAC-1_2-16:Roska:16    1\n",
       "TTTCATGGTAGCGAGT-1-2:Chen_b:2       1\n",
       "TCACGGGCATCATCTT-1-1:Scheetz:1      1\n",
       "CACAACAAGAGCATAT-1-14:Chen_a:14     1\n",
       "Length: 69838, dtype: int64"
      ]
     },
     "execution_count": 202,
     "metadata": {},
     "output_type": "execute_result"
    }
   ],
   "source": [
    "ad.obs.index.value_counts()"
   ]
  },
  {
   "cell_type": "code",
   "execution_count": 54,
   "metadata": {},
   "outputs": [
    {
     "data": {
      "text/plain": [
       "True"
      ]
     },
     "execution_count": 54,
     "metadata": {},
     "output_type": "execute_result"
    }
   ],
   "source": [
    "'TGAATCGAGAATTGCA-1-3:Chen_c:3' in ad2.obs.index"
   ]
  },
  {
   "cell_type": "code",
   "execution_count": 74,
   "metadata": {},
   "outputs": [],
   "source": [
    "from os import listdir\n",
    "from os.path import join"
   ]
  },
  {
   "cell_type": "code",
   "execution_count": 76,
   "metadata": {},
   "outputs": [
    {
     "name": "stdout",
     "output_type": "stream",
     "text": [
      "../../data/integration_march_2021/input/bydataset/Sanes.h5ad\n",
      "Sanes    75025\n",
      "Name: dataset, dtype: int64\n",
      "../../data/integration_march_2021/input/bydataset/Chen_a.h5ad\n",
      "Chen_a    1338345\n",
      "Name: dataset, dtype: int64\n",
      "../../data/integration_march_2021/input/bydataset/Hackney.h5ad\n",
      "Hackney    121779\n",
      "Name: dataset, dtype: int64\n",
      "../../data/integration_march_2021/input/bydataset/Chen_c.h5ad\n",
      "Chen_c    192327\n",
      "Name: dataset, dtype: int64\n",
      "../../data/integration_march_2021/input/bydataset/Roska.h5ad\n",
      "Roska    158641\n",
      "Name: dataset, dtype: int64\n",
      "../../data/integration_march_2021/input/bydataset/Scheetz.h5ad\n",
      "Scheetz    4463\n",
      "Name: dataset, dtype: int64\n",
      "../../data/integration_march_2021/input/bydataset/Wong.h5ad\n",
      "Wong    10708\n",
      "Name: dataset, dtype: int64\n",
      "../../data/integration_march_2021/input/bydataset/Chen_b.h5ad\n",
      "Chen_b    254881\n",
      "Name: dataset, dtype: int64\n",
      "../../data/integration_march_2021/input/bydataset/Hafler.h5ad\n",
      "Hafler    3559\n",
      "Name: dataset, dtype: int64\n"
     ]
    }
   ],
   "source": [
    "# check that bydatate only contain cells from that dataset\n",
    "bydataset = '../../data/integration_march_2021/input/bydataset'\n",
    "for f in listdir(bydataset):\n",
    "    p = join(bydataset, f)\n",
    "    print(p)\n",
    "    ad = sc.read(p)\n",
    "    print(ad.obs.dataset.value_counts())"
   ]
  },
  {
   "cell_type": "code",
   "execution_count": 107,
   "metadata": {},
   "outputs": [],
   "source": [
    "import numpy as np\n",
    "root = '../../../scib/scIB/'    \n",
    "cc_files = {'mouse': [root + 'resources/s_genes_tirosh.txt',\n",
    "                      root + 'resources/g2m_genes_tirosh.txt'],\n",
    "            'human': [root + 'resources/s_genes_tirosh_hm.txt',\n",
    "                      root + 'resources/g2m_genes_tirosh_hm.txt']}"
   ]
  },
  {
   "cell_type": "code",
   "execution_count": 115,
   "metadata": {},
   "outputs": [],
   "source": [
    "s_genes, g2m_genes = [[g.strip() for g in open(p)] for p in cc_files['human']]"
   ]
  },
  {
   "cell_type": "code",
   "execution_count": 124,
   "metadata": {},
   "outputs": [
    {
     "name": "stdout",
     "output_type": "stream",
     "text": [
      "Index(['RPA2', 'CLSPN', 'NASP', 'USP1', 'MSH2', 'SLBP', 'GMNN', 'RFC2', 'MCM4',\n",
      "       'HELLS', 'RRM1', 'POLD3', 'PRIM1', 'UNG', 'UBR7', 'WDR76', 'TIPIN',\n",
      "       'TYMS', 'PCNA'],\n",
      "      dtype='object')\n",
      "Index(['PSRC1', 'ANP32E', 'CKS1B', 'LBR', 'SMC4', 'ECT2', 'HMGB2', 'CKS2',\n",
      "       'TUBB4B', 'KIF20B', 'CKAP5', 'NCAPD2', 'CBX5', 'TMPO', 'CKAP2', 'G2E3',\n",
      "       'CTCF', 'RANGAP1'],\n",
      "      dtype='object')\n"
     ]
    }
   ],
   "source": [
    "print(ad1.var.index.intersection(s_genes))\n",
    "print(ad1.var.index.intersection(g2m_genes))"
   ]
  },
  {
   "cell_type": "code",
   "execution_count": 125,
   "metadata": {},
   "outputs": [
    {
     "data": {
      "text/plain": [
       "Index(['SAMD11', 'NOC2L', 'HES4', 'SDF4', 'UBE2J2', 'ACAP3', 'DVL1',\n",
       "       'AURKAIP1', 'CCNL2', 'MRPL20',\n",
       "       ...\n",
       "       'MT-CO2', 'MT-ATP8', 'MT-ATP6', 'MT-CO3', 'MT-ND3', 'MT-ND4L', 'MT-ND4',\n",
       "       'MT-ND5', 'MT-ND6', 'MT-CYB'],\n",
       "      dtype='object', length=8294)"
      ]
     },
     "execution_count": 125,
     "metadata": {},
     "output_type": "execute_result"
    }
   ],
   "source": [
    "ad1.var.index"
   ]
  },
  {
   "cell_type": "code",
   "execution_count": 153,
   "metadata": {},
   "outputs": [],
   "source": [
    "ad1.var_names = ad1.var.index.astype(str)"
   ]
  },
  {
   "cell_type": "code",
   "execution_count": 152,
   "metadata": {},
   "outputs": [
    {
     "data": {
      "text/plain": [
       "Index(['SAMD11', 'NOC2L', 'HES4', 'SDF4', 'UBE2J2', 'ACAP3', 'DVL1',\n",
       "       'AURKAIP1', 'CCNL2', 'MRPL20',\n",
       "       ...\n",
       "       'MT-CO2', 'MT-ATP8', 'MT-ATP6', 'MT-CO3', 'MT-ND3', 'MT-ND4L', 'MT-ND4',\n",
       "       'MT-ND5', 'MT-ND6', 'MT-CYB'],\n",
       "      dtype='object', name='index', length=8294)"
      ]
     },
     "execution_count": 152,
     "metadata": {},
     "output_type": "execute_result"
    }
   ],
   "source": [
    "ad1.var_names"
   ]
  },
  {
   "cell_type": "code",
   "execution_count": 154,
   "metadata": {},
   "outputs": [],
   "source": [
    "# s_genes, g2m_genes\n",
    "# sc.tl.score_genes_cell_cycle(ad1, s_genes, g2m_genes)"
   ]
  },
  {
   "cell_type": "code",
   "execution_count": 137,
   "metadata": {},
   "outputs": [],
   "source": [
    "### Cell Cycle\n",
    "def score_cell_cycle(adata, organism='mouse'):\n",
    "    \"\"\"\n",
    "    Tirosh et al. cell cycle marker genes downloaded from\n",
    "    https://raw.githubusercontent.com/theislab/scanpy_usage/master/180209_cell_cycle/data/regev_lab_cell_cycle_genes.txt\n",
    "    return: (s_genes, g2m_genes)\n",
    "        s_genes: S-phase genes\n",
    "        g2m_genes: G2- and M-phase genes\n",
    "    \"\"\"\n",
    "    # import pathlib\n",
    "    # root = pathlib.Path(__file__).parent\n",
    "    root = '../../../scib/scIB/'    \n",
    "    cc_files = {'mouse': [root + 'resources/s_genes_tirosh.txt',\n",
    "                          root + 'resources/g2m_genes_tirosh.txt'],\n",
    "                'human': [root + 'resources/s_genes_tirosh_hm.txt',\n",
    "                          root + 'resources/g2m_genes_tirosh_hm.txt']}\n",
    "    \n",
    "    s_genes = [x.strip() for x in open(cc_files[organism][0]) if x.strip() in adata.var.index]\n",
    "    g2m_genes = [x.strip() for x in open(cc_files[organism][1]) if x.strip() in adata.var.index]\n",
    "    \n",
    "    print((s_genes))\n",
    "    print((g2m_genes))\n",
    "    if (len(s_genes) == 0) or (len(g2m_genes) == 0):\n",
    "        rand_choice = np.random.randint(1,adata.n_vars,10)\n",
    "        rand_genes = adata.var_names[rand_choice].tolist()\n",
    "        raise ValueError(f\"cell cycle genes not in adata\\n organism: {organism}\\n varnames: {rand_genes}\")\n",
    "    \n",
    "    sc.tl.score_genes_cell_cycle(adata, s_genes, g2m_genes)\n"
   ]
  },
  {
   "cell_type": "code",
   "execution_count": 134,
   "metadata": {},
   "outputs": [],
   "source": []
  },
  {
   "cell_type": "code",
   "execution_count": 158,
   "metadata": {},
   "outputs": [],
   "source": [
    "a = ['PCNA', 'TYMS', 'MCM4', 'RRM1', 'UNG', 'PRIM1', 'HELLS', 'RFC2', 'RPA2', 'NASP', 'GMNN', 'WDR76', 'SLBP', 'UBR7', 'POLD3', 'MSH2', 'TIPIN', 'USP1', 'CLSPN']\n",
    "b = ['HMGB2', 'CKS2', 'CKS1B', 'TMPO', 'SMC4', 'CKAP2', 'ANP32E', 'TUBB4B', 'KIF20B', 'RANGAP1', 'NCAPD2', 'ECT2', 'PSRC1', 'LBR', 'CKAP5', 'CTCF', 'G2E3', 'CBX5']"
   ]
  },
  {
   "cell_type": "code",
   "execution_count": null,
   "metadata": {},
   "outputs": [],
   "source": [
    "pbmc = sc.datasets.pbmc3k()\n",
    "pbmc = pbmc[:,pbmc.var.index.isin(ad_sel.var.index)]"
   ]
  },
  {
   "cell_type": "code",
   "execution_count": 166,
   "metadata": {},
   "outputs": [
    {
     "name": "stdout",
     "output_type": "stream",
     "text": [
      "['MCM5', 'PCNA', 'TYMS', 'FEN1', 'MCM2', 'MCM4', 'RRM1', 'UNG', 'GINS2', 'MCM6', 'CDCA7', 'DTL', 'PRIM1', 'HELLS', 'RFC2', 'RPA2', 'NASP', 'RAD51AP1', 'GMNN', 'WDR76', 'SLBP', 'CCNE2', 'UBR7', 'POLD3', 'MSH2', 'ATAD2', 'RAD51', 'RRM2', 'CDC45', 'CDC6', 'EXO1', 'TIPIN', 'DSCC1', 'BLM', 'USP1', 'CLSPN', 'POLA1', 'CHAF1B', 'BRIP1', 'E2F8']\n",
      "['HMGB2', 'CDK1', 'NUSAP1', 'UBE2C', 'BIRC5', 'TPX2', 'TOP2A', 'NDC80', 'CKS2', 'NUF2', 'CKS1B', 'MKI67', 'TMPO', 'CENPF', 'TACC3', 'FAM64A', 'SMC4', 'CCNB2', 'CKAP2L', 'CKAP2', 'AURKB', 'BUB1', 'KIF11', 'ANP32E', 'TUBB4B', 'GTSE1', 'KIF20B', 'HJURP', 'CDCA3', 'HN1', 'CDC20', 'TTK', 'CDC25C', 'KIF2C', 'RANGAP1', 'NCAPD2', 'DLGAP5', 'CDCA2', 'CDCA8', 'ECT2', 'KIF23', 'HMMR', 'AURKA', 'PSRC1', 'ANLN', 'LBR', 'CKAP5', 'CENPE', 'CTCF', 'NEK2', 'G2E3', 'GAS2L3', 'CBX5', 'CENPA']\n"
     ]
    }
   ],
   "source": [
    "score_cell_cycle(pbmc, organism='human')"
   ]
  },
  {
   "cell_type": "code",
   "execution_count": 159,
   "metadata": {},
   "outputs": [],
   "source": [
    "ad_sel = ad1[:,ad1.var.index.isin(a) | ad1.var.index.isin(b)]"
   ]
  },
  {
   "cell_type": "code",
   "execution_count": 160,
   "metadata": {},
   "outputs": [
    {
     "data": {
      "text/plain": [
       "View of AnnData object with n_obs × n_vars = 17711 × 37\n",
       "    obs: 'orig.ident', 'nCount_RNA', 'nFeature_RNA', 'dataset', 'filename', 'batch', 'cell.type', 'n_counts'\n",
       "    layers: 'counts'"
      ]
     },
     "execution_count": 160,
     "metadata": {},
     "output_type": "execute_result"
    }
   ],
   "source": [
    "ad_sel"
   ]
  },
  {
   "cell_type": "code",
   "execution_count": 171,
   "metadata": {},
   "outputs": [],
   "source": [
    "del ad_sel.raw"
   ]
  },
  {
   "cell_type": "code",
   "execution_count": 172,
   "metadata": {},
   "outputs": [
    {
     "name": "stdout",
     "output_type": "stream",
     "text": [
      "['PCNA', 'TYMS', 'MCM4', 'RRM1', 'UNG', 'PRIM1', 'HELLS', 'RFC2', 'RPA2', 'NASP', 'GMNN', 'WDR76', 'SLBP', 'UBR7', 'POLD3', 'MSH2', 'TIPIN', 'USP1', 'CLSPN']\n",
      "['HMGB2', 'CKS2', 'CKS1B', 'TMPO', 'SMC4', 'CKAP2', 'ANP32E', 'TUBB4B', 'KIF20B', 'RANGAP1', 'NCAPD2', 'ECT2', 'PSRC1', 'LBR', 'CKAP5', 'CTCF', 'G2E3', 'CBX5']\n"
     ]
    },
    {
     "name": "stderr",
     "output_type": "stream",
     "text": [
      "/home/icb/ignacio.ibarra/miniconda3/envs/mypython3/lib/python3.7/site-packages/pandas/core/arrays/categorical.py:2487: FutureWarning: The `inplace` parameter in pandas.Categorical.remove_unused_categories is deprecated and will be removed in a future version.\n",
      "  res = method(*args, **kwargs)\n",
      "/home/icb/ignacio.ibarra/miniconda3/envs/mypython3/lib/python3.7/site-packages/pandas/core/arrays/categorical.py:2487: FutureWarning: The `inplace` parameter in pandas.Categorical.remove_unused_categories is deprecated and will be removed in a future version.\n",
      "  res = method(*args, **kwargs)\n",
      "/home/icb/ignacio.ibarra/miniconda3/envs/mypython3/lib/python3.7/site-packages/pandas/core/arrays/categorical.py:2487: FutureWarning: The `inplace` parameter in pandas.Categorical.remove_unused_categories is deprecated and will be removed in a future version.\n",
      "  res = method(*args, **kwargs)\n",
      "/home/icb/ignacio.ibarra/miniconda3/envs/mypython3/lib/python3.7/site-packages/pandas/core/arrays/categorical.py:2487: FutureWarning: The `inplace` parameter in pandas.Categorical.remove_unused_categories is deprecated and will be removed in a future version.\n",
      "  res = method(*args, **kwargs)\n"
     ]
    }
   ],
   "source": [
    "score_cell_cycle(ad_sel, organism='human')"
   ]
  },
  {
   "cell_type": "code",
   "execution_count": 173,
   "metadata": {},
   "outputs": [
    {
     "name": "stdout",
     "output_type": "stream",
     "text": [
      "Index(['SAMD11', 'NOC2L', 'HES4', 'SDF4', 'UBE2J2', 'ACAP3', 'DVL1',\n",
      "       'AURKAIP1', 'CCNL2', 'MRPL20',\n",
      "       ...\n",
      "       'MT-CO2', 'MT-ATP8', 'MT-ATP6', 'MT-CO3', 'MT-ND3', 'MT-ND4L', 'MT-ND4',\n",
      "       'MT-ND5', 'MT-ND6', 'MT-CYB'],\n",
      "      dtype='object', name='index', length=8294)\n",
      "Index(['0', '1', '2', '3', '4', '5', '6', '7', '8', '9',\n",
      "       ...\n",
      "       '32728', '32729', '32730', '32731', '32732', '32733', '32734', '32735',\n",
      "       '32736', '32737'],\n",
      "      dtype='object', length=32738)\n"
     ]
    }
   ],
   "source": [
    "print(ad1.var_names)\n",
    "print(ad1.raw.var_names)"
   ]
  },
  {
   "cell_type": "code",
   "execution_count": null,
   "metadata": {},
   "outputs": [],
   "source": [
    "test_with_"
   ]
  },
  {
   "cell_type": "code",
   "execution_count": 174,
   "metadata": {},
   "outputs": [
    {
     "name": "stderr",
     "output_type": "stream",
     "text": [
      "Observation names are not unique. To make them unique, call `.obs_names_make_unique`.\n"
     ]
    }
   ],
   "source": [
    "p = '/storage/groups/ml01/workspace/ignacio.ibarra/theislab/retinal_scRNAseq_integration/scIB_run/retinal_march_2021_500_cells/prepare/unscaled/hvg/adata_pre.h5ad'\n",
    "ad = sc.read_h5ad(p)"
   ]
  },
  {
   "cell_type": "code",
   "execution_count": 180,
   "metadata": {},
   "outputs": [
    {
     "data": {
      "text/plain": [
       "ACCTGAACACGCGCTA-1-1:Scheetz:1       2\n",
       "GTCACTCGTCAGATTC-1-17:Chen_c:17      2\n",
       "TGACCCTGTGAGCAGT-1-2:Hafler:2        2\n",
       "TGTGTGACAATTCTCT-1-17:Chen_c:17      2\n",
       "TGGGCTGGTGCTGCAC-1-1:Scheetz:1       2\n",
       "                                    ..\n",
       "CCGTACTCAGATCCAT-1-10:Roska:10       1\n",
       "ACGTCAACACAGCGTC-1-3:Sanes:3         1\n",
       "CAACCTCAGCCGCTTG-1_4-30:Chen_a:30    1\n",
       "ATCGGCGCACCCTGAG-1-12:Chen_a:12      1\n",
       "TAACTTCGTGCACATT-1-6:Chen_a:6        1\n",
       "Length: 69843, dtype: int64"
      ]
     },
     "execution_count": 180,
     "metadata": {},
     "output_type": "execute_result"
    }
   ],
   "source": [
    "ad.obs.index.value_counts()"
   ]
  }
 ],
 "metadata": {
  "kernelspec": {
   "display_name": "Python [conda env:mypython3] *",
   "language": "python",
   "name": "conda-env-mypython3-py"
  },
  "language_info": {
   "codemirror_mode": {
    "name": "ipython",
    "version": 3
   },
   "file_extension": ".py",
   "mimetype": "text/x-python",
   "name": "python",
   "nbconvert_exporter": "python",
   "pygments_lexer": "ipython3",
   "version": "3.7.8"
  }
 },
 "nbformat": 4,
 "nbformat_minor": 4
}
