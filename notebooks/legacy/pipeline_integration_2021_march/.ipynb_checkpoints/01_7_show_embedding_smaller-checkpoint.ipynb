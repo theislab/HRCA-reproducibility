{
 "cells": [
  {
   "cell_type": "code",
   "execution_count": 2,
   "metadata": {},
   "outputs": [],
   "source": [
    "import scanpy as sc\n",
    "\n",
    "from os.path import join\n",
    "import pandas as pd\n",
    "import anndata\n",
    "import os\n",
    "import scanpy as sc\n",
    "import umap\n",
    "umap.__version__\n",
    "import pynndescent\n",
    "pynndescent.__version__\n",
    "\n",
    "from os.path import exists\n",
    "import scipy\n",
    "import gc\n",
    "from scipy import sparse\n",
    "import numpy as np\n",
    "from joblib import parallel_backend\n",
    "import time\n",
    "import numpy as np\n"
   ]
  },
  {
   "cell_type": "code",
   "execution_count": 26,
   "metadata": {},
   "outputs": [],
   "source": [
    "basedir = '/mnt/znas/icb_zstore01/groups/ml01/workspace/ignacio.ibarra/theislab/retinal_scRNAseq_integration/data/integration_march_2021/output/retinal_all_all_batch_donor_dataset_cell.type'\n",
    "ad_path = join(basedir, 'integration/unscaled/HVG.1K/scvi.h5ad')"
   ]
  },
  {
   "cell_type": "code",
   "execution_count": 27,
   "metadata": {},
   "outputs": [
    {
     "data": {
      "text/plain": [
       "True"
      ]
     },
     "execution_count": 27,
     "metadata": {},
     "output_type": "execute_result"
    }
   ],
   "source": [
    "os.path.exists(ad_path)"
   ]
  },
  {
   "cell_type": "code",
   "execution_count": 7,
   "metadata": {},
   "outputs": [],
   "source": [
    "ad = sc.read_h5ad(ad_path)"
   ]
  },
  {
   "cell_type": "code",
   "execution_count": 8,
   "metadata": {},
   "outputs": [
    {
     "data": {
      "text/plain": [
       "(2159366, 1000)"
      ]
     },
     "execution_count": 8,
     "metadata": {},
     "output_type": "execute_result"
    }
   ],
   "source": [
    "ad.shape"
   ]
  },
  {
   "cell_type": "code",
   "execution_count": 28,
   "metadata": {},
   "outputs": [],
   "source": [
    "embed_path = join(basedir, 'embeddings/unscaled/HVG.1K/scvi_embed.csv')\n",
    "os.path.exists(embed_path)"
   ]
  },
  {
   "cell_type": "code",
   "execution_count": 23,
   "metadata": {},
   "outputs": [],
   "source": [
    "n_sample = int(1e5)\n",
    "embed = pd.read_csv(embed_path, nrows=n_sample)\n",
    "ad_embed = anndata.AnnData(obs=embed.head(n_sample) if n_sample is not None else embed)\n",
    "sc.set_figure_params(facecolor='white')\n",
    "ad_embed.obsm['X_umap'] = ad_embed.obs[['UMAP1', 'UMAP2']].to_numpy()\n",
    "# query_name = basename(d).split('_')[2]\n",
    "# n_cells = \"+\".join(map(str, ad.obs['batch_donor_dataset'].str.split('_').str[0].value_counts().values))\n",
    "\n",
    "\n",
    "\n",
    "# title = \",\".join([s[:3] for s in embed_filename.replace('scvi_2000000_25_', '').replace('_embed.csv', '').split('_')])\n",
    "sc.pl.embedding(ad_embed, 'X_umap', color='cell.type') #  show=ei + 1 == grp.shape[0],\n",
    "               # legend_loc=None, frameon=False, title=title)"
   ]
  },
  {
   "cell_type": "markdown",
   "metadata": {},
   "source": [
    "### Generate an embedding using a sample of the full data"
   ]
  },
  {
   "cell_type": "code",
   "execution_count": 31,
   "metadata": {
    "jupyter": {
     "source_hidden": true
    }
   },
   "outputs": [],
   "source": [
    "def reduce_data(adata, batch_key=None, subset=False,\n",
    "                filter=True, flavor='cell_ranger', n_top_genes=2000, n_bins=20,\n",
    "                pca=True, pca_comps=50, overwrite_hvg=True,\n",
    "                neighbors=True, use_rep='X_pca', \n",
    "                umap=True):\n",
    "    \"\"\"\n",
    "    overwrite_hvg:\n",
    "        if True, ignores any pre-existing 'highly_variable' column in adata.var\n",
    "        and recomputes it if `n_top_genes` is specified else calls PCA on full features.\n",
    "        if False, skips HVG computation even if `n_top_genes` is specified and uses\n",
    "        pre-existing HVG column for PCA\n",
    "    \"\"\"\n",
    "#     if n_top_genes is not None and overwrite_hvg:\n",
    "#         print(\"HVG\")\n",
    "        \n",
    "#         overwrite_hvg = False\n",
    "        \n",
    "#         ## quick fix: HVG doesn't work on dense matrix\n",
    "#         if not sparse.issparse(adata.X):\n",
    "#             adata.X = sparse.csr_matrix(adata.X)\n",
    "            \n",
    "#         if batch_key is not None:\n",
    "#             hvg_list = hvg_batch(adata, batch_key=batch_key, target_genes=n_top_genes, n_bins=n_bins)\n",
    "#             adata.var['highly_variable'] = np.in1d(adata.var_names, hvg_list)\n",
    "\n",
    "#         else:\n",
    "#             print(f\"Calculating {n_top_genes} HVGs for reduce_data.\")\n",
    "#             sc.pp.highly_variable_genes(adata,\n",
    "#                                         n_top_genes=n_top_genes,\n",
    "#                                         n_bins=n_bins,\n",
    "#                                         flavor=flavor)\n",
    "\n",
    "#         n_hvg = np.sum(adata.var[\"highly_variable\"])\n",
    "#         print(f'Computed {n_hvg} highly variable genes')\n",
    "    \n",
    "    print('setting up HVGs')\n",
    "    assert n_top_genes == adata.shape[1]\n",
    "    adata.var[\"highly_variable\"] = True\n",
    "    n_hvg = np.sum(adata.var[\"highly_variable\"])\n",
    "        \n",
    "    print('PCA and/or neighbors')\n",
    "    if pca:\n",
    "        print(\"PCA\")\n",
    "        use_hvgs = not overwrite_hvg and \"highly_variable\" in adata.var\n",
    "        sc.tl.pca(adata,\n",
    "                  n_comps=pca_comps, \n",
    "                  use_highly_variable=use_hvgs, \n",
    "                  svd_solver='arpack', \n",
    "                  return_info=True)\n",
    "    \n",
    "    if neighbors:\n",
    "        n_jobs = 4\n",
    "        print(\"Nearest Neigbours\")\n",
    "        sc.settings.n_jobs = n_jobs\n",
    "        from joblib import parallel_backend\n",
    "        import time\n",
    "        start_time = time.time()\n",
    "        with parallel_backend('threading', n_jobs=n_jobs): sc.pp.neighbors(adata, use_rep=use_rep)\n",
    "        print(\"--- %s seconds ---\" % (time.time() - start_time))\n",
    "    \n",
    "    if umap:\n",
    "        print(\"UMAP\")\n",
    "        start_time = time.time()\n",
    "        sc.tl.umap(adata)\n",
    "        print(\"--- %s seconds ---\" % (time.time() - start_time))\n",
    "        \n",
    "    # print('before return')\n",
    "    # print(adata)\n"
   ]
  },
  {
   "cell_type": "code",
   "execution_count": 37,
   "metadata": {},
   "outputs": [],
   "source": [
    "import random\n",
    "obs_sample = pd.Series(ad.obs_names).sample(n_sample).values\n",
    "ad_sample = ad[ad.obs_names.isin(obs_sample),:]"
   ]
  },
  {
   "cell_type": "code",
   "execution_count": 41,
   "metadata": {},
   "outputs": [
    {
     "name": "stdout",
     "output_type": "stream",
     "text": [
      "Preparing dataset...\n",
      "setting up HVGs\n",
      "PCA and/or neighbors\n",
      "PCA\n",
      "Nearest Neigbours\n",
      "--- 58.41297435760498 seconds ---\n",
      "--- Neighbors done: 85.95651721954346 seconds ---\n"
     ]
    }
   ],
   "source": [
    "result = 'full'\n",
    "print('Preparing dataset...')\n",
    "n_jobs = 10\n",
    "start_time = time.time()\n",
    "\n",
    "\n",
    "if result == 'embed':\n",
    "    reduce_data(ad_sample, n_top_genes=None, neighbors=True,\n",
    "                use_rep='X_emb', pca=False, umap=False)\n",
    "elif result == 'full':\n",
    "    sc.pp.filter_genes(ad_sample, min_cells=1)\n",
    "    reduce_data(ad_sample, n_top_genes=ad_sample.shape[1], neighbors=True,\n",
    "                use_rep='X_pca', pca=True, umap=False)\n",
    "\n",
    "print(\"--- Neighbors done: %s seconds ---\" % (time.time() - start_time))        "
   ]
  },
  {
   "cell_type": "code",
   "execution_count": null,
   "metadata": {},
   "outputs": [
    {
     "name": "stdout",
     "output_type": "stream",
     "text": [
      "Calculating UMAP...\n"
     ]
    }
   ],
   "source": [
    "method = 'scvi'\n",
    "\n",
    "# print(adata)\n",
    "# Calculate embedding\n",
    "start_time = time.time()\n",
    "sc.settings.n_jobs = n_jobs\n",
    "if method.startswith('conos'):\n",
    "    print('Calculating graph embedding...')\n",
    "    sc.tl.draw_graph(ad_sample, key_added_ext='graph')\n",
    "    basis = 'draw_graph_graph'\n",
    "    label = 'Graph'\n",
    "else:\n",
    "    print('Calculating UMAP...')\n",
    "    with parallel_backend('threading', n_jobs=n_jobs):\n",
    "        sc.tl.umap(ad_sample)\n",
    "    basis = 'umap'\n",
    "    label = 'UMAP'\n",
    "\n",
    "\n",
    "print(\"--- UMAP done: %s seconds ---\" % (time.time() - start_time))\n",
    "\n",
    "print('done...')\n",
    "import os\n",
    "# Save embedding coordinates\n",
    "print('Saving embedding coordinates...')\n",
    "label = 'UMAP'\n",
    "basis = 'umap'\n",
    "ad_sample.obs[label + '1'] = ad_sample.obsm['X_' + basis][:, 0]\n",
    "ad_sample.obs[label + '2'] = ad_sample.obsm['X_' + basis][:, 1]"
   ]
  },
  {
   "cell_type": "code",
   "execution_count": null,
   "metadata": {},
   "outputs": [],
   "source": [
    "gc.collect()\n",
    "sc.set_figure_params(facecolor='white')\n",
    "\n",
    "coords = adata.obs[['cell.type', 'batch_donor_dataset', label + '1', label + '2' ]]\n",
    "# coords.to_csv(os.path.join(embed_path), index_label='CellID')\n",
    "ad_sample.obsm['X_umap'] = ad_embed.obs[['UMAP1', 'UMAP2']].to_numpy()\n",
    "# query_name = basename(d).split('_')[2]\n",
    "# n_cells = \"+\".join(map(str, ad.obs['batch_donor_dataset'].str.split('_').str[0].value_counts().values))\n",
    "\n",
    "# title = \",\".join([s[:3] for s in embed_filename.replace('scvi_2000000_25_', '').replace('_embed.csv', '').split('_')])\n",
    "sc.pl.embedding(ad_sample, 'X_umap', color='cell.type') #  show=ei + 1 == grp.shape[0],\n",
    "               # legend_loc=None, frameon=False, title=title)"
   ]
  }
 ],
 "metadata": {
  "kernelspec": {
   "display_name": "Python [conda env:mypython3] *",
   "language": "python",
   "name": "conda-env-mypython3-py"
  },
  "language_info": {
   "codemirror_mode": {
    "name": "ipython",
    "version": 3
   },
   "file_extension": ".py",
   "mimetype": "text/x-python",
   "name": "python",
   "nbconvert_exporter": "python",
   "pygments_lexer": "ipython3",
   "version": "3.7.8"
  }
 },
 "nbformat": 4,
 "nbformat_minor": 4
}
