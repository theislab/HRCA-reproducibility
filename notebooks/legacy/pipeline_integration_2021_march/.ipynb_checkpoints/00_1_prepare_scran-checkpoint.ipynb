{
 "cells": [
  {
   "cell_type": "markdown",
   "metadata": {},
   "source": [
    "### 1. Verify that all data reported by Jin is in"
   ]
  },
  {
   "cell_type": "code",
   "execution_count": 1,
   "metadata": {},
   "outputs": [
    {
     "name": "stderr",
     "output_type": "stream",
     "text": [
      "/home/icb/ignacio.ibarra/miniconda3/envs/scIB-python/lib/python3.7/site-packages/anndata/_core/anndata.py:21: FutureWarning: pandas.core.index is deprecated and will be removed in a future version.  The public classes are available in the top-level namespace.\n",
      "  from pandas.core.index import RangeIndex\n"
     ]
    }
   ],
   "source": [
    "import scIB"
   ]
  },
  {
   "cell_type": "code",
   "execution_count": 2,
   "metadata": {},
   "outputs": [],
   "source": [
    "import os\n",
    "import scanpy as sc\n",
    "from os.path import join\n",
    "from os import listdir\n",
    "import anndata"
   ]
  },
  {
   "cell_type": "code",
   "execution_count": 3,
   "metadata": {},
   "outputs": [],
   "source": [
    "import numpy as np"
   ]
  },
  {
   "cell_type": "code",
   "execution_count": 4,
   "metadata": {},
   "outputs": [],
   "source": [
    "import scipy"
   ]
  },
  {
   "cell_type": "code",
   "execution_count": 5,
   "metadata": {},
   "outputs": [],
   "source": [
    "import os"
   ]
  },
  {
   "cell_type": "code",
   "execution_count": 6,
   "metadata": {},
   "outputs": [],
   "source": [
    "# convert counts into float32\n",
    "# Convenience method for computing the size of objects\n",
    "def print_size_in_MB(x):\n",
    "    print('{:.3} MB'.format(x.__sizeof__()/1e6))"
   ]
  },
  {
   "cell_type": "code",
   "execution_count": 7,
   "metadata": {},
   "outputs": [],
   "source": [
    "datadir = '/storage/groups/ml01/datasets/projects/20210318_retinal_data_integration_ignacio.ibarra_malte.luecken'\n",
    "\n",
    "outdir = '/mnt/znas/icb_zstore01/groups/ml01/workspace/ignacio.ibarra/theislab/retinal_scRNAseq_integration/data/integration_march_2021/scran'"
   ]
  },
  {
   "cell_type": "code",
   "execution_count": 8,
   "metadata": {},
   "outputs": [],
   "source": [
    "filenames = [f for f in os.listdir(datadir)]"
   ]
  },
  {
   "cell_type": "code",
   "execution_count": 9,
   "metadata": {},
   "outputs": [],
   "source": [
    "filenames_md5 = [f.strip() for f in open(os.path.join(datadir, 'md5sum.txt'))]"
   ]
  },
  {
   "cell_type": "code",
   "execution_count": 10,
   "metadata": {},
   "outputs": [],
   "source": [
    "files = set()\n",
    "for qi in filenames_md5:\n",
    "    md5, fi = qi.split('  ')\n",
    "    found = os.path.exists(os.path.join(datadir, fi))\n",
    "    if not found:\n",
    "        print('not found', fi)\n",
    "    files.add(fi)"
   ]
  },
  {
   "cell_type": "markdown",
   "metadata": {},
   "source": [
    "**The following files are listed but for some reason not found anymore. Consider deleting (Request to Jin first)**"
   ]
  },
  {
   "cell_type": "code",
   "execution_count": 11,
   "metadata": {},
   "outputs": [],
   "source": [
    "filenames_by_dataset = {}\n",
    "for f in filenames_md5:\n",
    "    dataset, filename = f.split(' ')[-1].split('/')[-2:]\n",
    "    if not dataset in filenames_by_dataset:\n",
    "        filenames_by_dataset[dataset] = []\n",
    "    filenames_by_dataset[dataset].append(filename)"
   ]
  },
  {
   "cell_type": "markdown",
   "metadata": {},
   "source": [
    "### scran normalization"
   ]
  },
  {
   "cell_type": "code",
   "execution_count": 12,
   "metadata": {},
   "outputs": [],
   "source": [
    "def execute_preprocessing(input_path, output_path):\n",
    "    print('')\n",
    "    path_preprocessing = '../../scib/scripts/preprocessing_remove_empty.py'\n",
    "    cmd = 'python %s -i %s -o %s' % (path_preprocessing, input_path, output_path)\n",
    "    \n",
    "    try:\n",
    "        print(cmd)\n",
    "        os.system(cmd)\n",
    "    except Exception as err:\n",
    "        print('something went wrong...')\n",
    "        print(err)"
   ]
  },
  {
   "cell_type": "code",
   "execution_count": 13,
   "metadata": {},
   "outputs": [],
   "source": [
    "import multiprocessing\n",
    "from multiprocessing import Process\n",
    "from multiprocessing import Manager\n",
    "\n",
    "def run(function, input_list, n_cores, log_each=None, log=False):\n",
    "    print(('run function %s with n_cores = %i' % (function, n_cores)))\n",
    "    print(function)\n",
    "    # print 'with input list of len'\n",
    "    # print len(input_list)\n",
    "    # print 'in groups of %d threads' % n_threads\n",
    "\n",
    "    assert n_cores <= 20\n",
    "\n",
    "    # the type of input_list has to be a list. If not\n",
    "    # then it can a single element list and we cast it to list.\n",
    "    if not isinstance(type(input_list[0]), type(list)):\n",
    "        input_list = [[i] for i in input_list]\n",
    "\n",
    "    n_groups = int(len(input_list) / n_cores + 1)\n",
    "    # print 'n groups', n_groups\n",
    "\n",
    "    n_done = 0\n",
    "    for group_i in range(n_groups):\n",
    "        start, end = group_i * n_cores, (group_i + 1) * n_cores\n",
    "        # print 'start', start, 'end', end\n",
    "\n",
    "        threads = [None] * (end - start)\n",
    "        for i, pi in enumerate(range(start, min(end, len(input_list)))):\n",
    "            next_args = input_list[pi]\n",
    "            if log:\n",
    "                print(next_args)\n",
    "            # print next_kmer\n",
    "            threads[i] = Process(target=function, args=next_args)\n",
    "            # print 'starting process #', i\n",
    "            threads[i].start()\n",
    "\n",
    "        # print  threads\n",
    "        # print 'joining threads...'\n",
    "        # do some other stuff\n",
    "        for i in range(len(threads)):\n",
    "            if threads[i] is None:\n",
    "                continue\n",
    "            threads[i].join()\n",
    "\n",
    "            n_done += 1\n",
    "            if log_each is not None and log_each % n_done == 0:\n",
    "                print('Done %i so far' % n_done)\n",
    "    print('done...')\n"
   ]
  },
  {
   "cell_type": "code",
   "execution_count": 18,
   "metadata": {},
   "outputs": [],
   "source": [
    "from os.path import join\n",
    "arguments = []\n",
    "\n",
    "for dataset in filenames_by_dataset:\n",
    "    # print(dataset)\n",
    "    for filename in filenames_by_dataset[dataset]:\n",
    "        input_file = join(datadir, dataset, filename)\n",
    "        next_outdir = join(outdir, dataset)\n",
    "        # print(next_outdir)\n",
    "        \n",
    "        if not os.path.exists(next_outdir):\n",
    "            os.mkdir(next_outdir)\n",
    "            \n",
    "        output_file = join(next_outdir, filename)\n",
    "\n",
    "        # print(os.path.exists(output_file), output_file)\n",
    "        if os.path.exists(output_file):\n",
    "            # print(os.path.exists(output_file), 'skip...')\n",
    "            continue\n",
    "        \n",
    "        # print(input_file)\n",
    "        # print(output_file)\n",
    "        # print('')\n",
    "        \n",
    "        arguments.append([input_file, output_file])\n",
    "        # ad = sc.read_h5ad(join(datadir, p))\n",
    "    "
   ]
  },
  {
   "cell_type": "code",
   "execution_count": 19,
   "metadata": {},
   "outputs": [
    {
     "data": {
      "text/plain": [
       "[['/storage/groups/ml01/datasets/projects/20210318_retinal_data_integration_ignacio.ibarra_malte.luecken/Scheetz/GSM3745992.h5ad',\n",
       "  '/mnt/znas/icb_zstore01/groups/ml01/workspace/ignacio.ibarra/theislab/retinal_scRNAseq_integration/data/integration_march_2021/scran/Scheetz/GSM3745992.h5ad'],\n",
       " ['/storage/groups/ml01/datasets/projects/20210318_retinal_data_integration_ignacio.ibarra_malte.luecken/Scheetz/GSM3745996.h5ad',\n",
       "  '/mnt/znas/icb_zstore01/groups/ml01/workspace/ignacio.ibarra/theislab/retinal_scRNAseq_integration/data/integration_march_2021/scran/Scheetz/GSM3745996.h5ad'],\n",
       " ['/storage/groups/ml01/datasets/projects/20210318_retinal_data_integration_ignacio.ibarra_malte.luecken/Scheetz/GSM3745993.h5ad',\n",
       "  '/mnt/znas/icb_zstore01/groups/ml01/workspace/ignacio.ibarra/theislab/retinal_scRNAseq_integration/data/integration_march_2021/scran/Scheetz/GSM3745993.h5ad'],\n",
       " ['/storage/groups/ml01/datasets/projects/20210318_retinal_data_integration_ignacio.ibarra_malte.luecken/Scheetz/GSM3745997.h5ad',\n",
       "  '/mnt/znas/icb_zstore01/groups/ml01/workspace/ignacio.ibarra/theislab/retinal_scRNAseq_integration/data/integration_march_2021/scran/Scheetz/GSM3745997.h5ad'],\n",
       " ['/storage/groups/ml01/datasets/projects/20210318_retinal_data_integration_ignacio.ibarra_malte.luecken/Scheetz/GSM3745995.h5ad',\n",
       "  '/mnt/znas/icb_zstore01/groups/ml01/workspace/ignacio.ibarra/theislab/retinal_scRNAseq_integration/data/integration_march_2021/scran/Scheetz/GSM3745995.h5ad'],\n",
       " ['/storage/groups/ml01/datasets/projects/20210318_retinal_data_integration_ignacio.ibarra_malte.luecken/Scheetz/GSM3745994.h5ad',\n",
       "  '/mnt/znas/icb_zstore01/groups/ml01/workspace/ignacio.ibarra/theislab/retinal_scRNAseq_integration/data/integration_march_2021/scran/Scheetz/GSM3745994.h5ad'],\n",
       " ['/storage/groups/ml01/datasets/projects/20210318_retinal_data_integration_ignacio.ibarra_malte.luecken/Roska/R-00646_03_Fovea_Retina_Left.h5ad',\n",
       "  '/mnt/znas/icb_zstore01/groups/ml01/workspace/ignacio.ibarra/theislab/retinal_scRNAseq_integration/data/integration_march_2021/scran/Roska/R-00646_03_Fovea_Retina_Left.h5ad'],\n",
       " ['/storage/groups/ml01/datasets/projects/20210318_retinal_data_integration_ignacio.ibarra_malte.luecken/Roska/R-00646_04_Fovea_Retina_Right.h5ad',\n",
       "  '/mnt/znas/icb_zstore01/groups/ml01/workspace/ignacio.ibarra/theislab/retinal_scRNAseq_integration/data/integration_march_2021/scran/Roska/R-00646_04_Fovea_Retina_Right.h5ad'],\n",
       " ['/storage/groups/ml01/datasets/projects/20210318_retinal_data_integration_ignacio.ibarra_malte.luecken/Roska/R-00646_04_Fovea_ChoroidRPE_Left.h5ad',\n",
       "  '/mnt/znas/icb_zstore01/groups/ml01/workspace/ignacio.ibarra/theislab/retinal_scRNAseq_integration/data/integration_march_2021/scran/Roska/R-00646_04_Fovea_ChoroidRPE_Left.h5ad'],\n",
       " ['/storage/groups/ml01/datasets/projects/20210318_retinal_data_integration_ignacio.ibarra_malte.luecken/Roska/R-00646_04_Periphery_ChoroidRPE_Left.h5ad',\n",
       "  '/mnt/znas/icb_zstore01/groups/ml01/workspace/ignacio.ibarra/theislab/retinal_scRNAseq_integration/data/integration_march_2021/scran/Roska/R-00646_04_Periphery_ChoroidRPE_Left.h5ad'],\n",
       " ['/storage/groups/ml01/datasets/projects/20210318_retinal_data_integration_ignacio.ibarra_malte.luecken/Roska/R-00646_07_Periphery_ChoroidRPE.h5ad',\n",
       "  '/mnt/znas/icb_zstore01/groups/ml01/workspace/ignacio.ibarra/theislab/retinal_scRNAseq_integration/data/integration_march_2021/scran/Roska/R-00646_07_Periphery_ChoroidRPE.h5ad'],\n",
       " ['/storage/groups/ml01/datasets/projects/20210318_retinal_data_integration_ignacio.ibarra_malte.luecken/Roska/R-00646_03_Fovea_ChoroidRPE_Right.h5ad',\n",
       "  '/mnt/znas/icb_zstore01/groups/ml01/workspace/ignacio.ibarra/theislab/retinal_scRNAseq_integration/data/integration_march_2021/scran/Roska/R-00646_03_Fovea_ChoroidRPE_Right.h5ad'],\n",
       " ['/storage/groups/ml01/datasets/projects/20210318_retinal_data_integration_ignacio.ibarra_malte.luecken/Roska/R-00646_04_Periphery_Retina_Left.h5ad',\n",
       "  '/mnt/znas/icb_zstore01/groups/ml01/workspace/ignacio.ibarra/theislab/retinal_scRNAseq_integration/data/integration_march_2021/scran/Roska/R-00646_04_Periphery_Retina_Left.h5ad'],\n",
       " ['/storage/groups/ml01/datasets/projects/20210318_retinal_data_integration_ignacio.ibarra_malte.luecken/Roska/R-00646_01_Periphery_ChoroidRPE_Left.h5ad',\n",
       "  '/mnt/znas/icb_zstore01/groups/ml01/workspace/ignacio.ibarra/theislab/retinal_scRNAseq_integration/data/integration_march_2021/scran/Roska/R-00646_01_Periphery_ChoroidRPE_Left.h5ad'],\n",
       " ['/storage/groups/ml01/datasets/projects/20210318_retinal_data_integration_ignacio.ibarra_malte.luecken/Roska/R-00646_03_Fovea_Retina_Right.h5ad',\n",
       "  '/mnt/znas/icb_zstore01/groups/ml01/workspace/ignacio.ibarra/theislab/retinal_scRNAseq_integration/data/integration_march_2021/scran/Roska/R-00646_03_Fovea_Retina_Right.h5ad'],\n",
       " ['/storage/groups/ml01/datasets/projects/20210318_retinal_data_integration_ignacio.ibarra_malte.luecken/Roska/R-00646_03_Periphery_Retina_Right.h5ad',\n",
       "  '/mnt/znas/icb_zstore01/groups/ml01/workspace/ignacio.ibarra/theislab/retinal_scRNAseq_integration/data/integration_march_2021/scran/Roska/R-00646_03_Periphery_Retina_Right.h5ad'],\n",
       " ['/storage/groups/ml01/datasets/projects/20210318_retinal_data_integration_ignacio.ibarra_malte.luecken/Roska/R-00646_07_Periphery_RetinaChoroidRPE.h5ad',\n",
       "  '/mnt/znas/icb_zstore01/groups/ml01/workspace/ignacio.ibarra/theislab/retinal_scRNAseq_integration/data/integration_march_2021/scran/Roska/R-00646_07_Periphery_RetinaChoroidRPE.h5ad'],\n",
       " ['/storage/groups/ml01/datasets/projects/20210318_retinal_data_integration_ignacio.ibarra_malte.luecken/Roska/R-00646_01_Periphery_Retina_Right.h5ad',\n",
       "  '/mnt/znas/icb_zstore01/groups/ml01/workspace/ignacio.ibarra/theislab/retinal_scRNAseq_integration/data/integration_march_2021/scran/Roska/R-00646_01_Periphery_Retina_Right.h5ad'],\n",
       " ['/storage/groups/ml01/datasets/projects/20210318_retinal_data_integration_ignacio.ibarra_malte.luecken/Roska/R-00646_04_Fovea_ChoroidRPE_Right.h5ad',\n",
       "  '/mnt/znas/icb_zstore01/groups/ml01/workspace/ignacio.ibarra/theislab/retinal_scRNAseq_integration/data/integration_march_2021/scran/Roska/R-00646_04_Fovea_ChoroidRPE_Right.h5ad'],\n",
       " ['/storage/groups/ml01/datasets/projects/20210318_retinal_data_integration_ignacio.ibarra_malte.luecken/Roska/R-00646_07_Periphery_Retina.h5ad',\n",
       "  '/mnt/znas/icb_zstore01/groups/ml01/workspace/ignacio.ibarra/theislab/retinal_scRNAseq_integration/data/integration_march_2021/scran/Roska/R-00646_07_Periphery_Retina.h5ad'],\n",
       " ['/storage/groups/ml01/datasets/projects/20210318_retinal_data_integration_ignacio.ibarra_malte.luecken/Roska/R-00646_03_Periphery_ChoroidRPE_Left.h5ad',\n",
       "  '/mnt/znas/icb_zstore01/groups/ml01/workspace/ignacio.ibarra/theislab/retinal_scRNAseq_integration/data/integration_march_2021/scran/Roska/R-00646_03_Periphery_ChoroidRPE_Left.h5ad'],\n",
       " ['/storage/groups/ml01/datasets/projects/20210318_retinal_data_integration_ignacio.ibarra_malte.luecken/Roska/R-00646_04_Fovea_Retina_Left.h5ad',\n",
       "  '/mnt/znas/icb_zstore01/groups/ml01/workspace/ignacio.ibarra/theislab/retinal_scRNAseq_integration/data/integration_march_2021/scran/Roska/R-00646_04_Fovea_Retina_Left.h5ad'],\n",
       " ['/storage/groups/ml01/datasets/projects/20210318_retinal_data_integration_ignacio.ibarra_malte.luecken/Roska/R-00646_01_Fovea_Retina_Right.h5ad',\n",
       "  '/mnt/znas/icb_zstore01/groups/ml01/workspace/ignacio.ibarra/theislab/retinal_scRNAseq_integration/data/integration_march_2021/scran/Roska/R-00646_01_Fovea_Retina_Right.h5ad'],\n",
       " ['/storage/groups/ml01/datasets/projects/20210318_retinal_data_integration_ignacio.ibarra_malte.luecken/Roska/R-00646_01_Periphery_Retina_Left.h5ad',\n",
       "  '/mnt/znas/icb_zstore01/groups/ml01/workspace/ignacio.ibarra/theislab/retinal_scRNAseq_integration/data/integration_march_2021/scran/Roska/R-00646_01_Periphery_Retina_Left.h5ad'],\n",
       " ['/storage/groups/ml01/datasets/projects/20210318_retinal_data_integration_ignacio.ibarra_malte.luecken/Roska/R-00646_03_Fovea_ChoroidRPE_Left.h5ad',\n",
       "  '/mnt/znas/icb_zstore01/groups/ml01/workspace/ignacio.ibarra/theislab/retinal_scRNAseq_integration/data/integration_march_2021/scran/Roska/R-00646_03_Fovea_ChoroidRPE_Left.h5ad'],\n",
       " ['/storage/groups/ml01/datasets/projects/20210318_retinal_data_integration_ignacio.ibarra_malte.luecken/Roska/R-00646_04_Periphery_Retina_Right.h5ad',\n",
       "  '/mnt/znas/icb_zstore01/groups/ml01/workspace/ignacio.ibarra/theislab/retinal_scRNAseq_integration/data/integration_march_2021/scran/Roska/R-00646_04_Periphery_Retina_Right.h5ad'],\n",
       " ['/storage/groups/ml01/datasets/projects/20210318_retinal_data_integration_ignacio.ibarra_malte.luecken/Roska/R-00646_03_Periphery_Retina_Left.h5ad',\n",
       "  '/mnt/znas/icb_zstore01/groups/ml01/workspace/ignacio.ibarra/theislab/retinal_scRNAseq_integration/data/integration_march_2021/scran/Roska/R-00646_03_Periphery_Retina_Left.h5ad'],\n",
       " ['/storage/groups/ml01/datasets/projects/20210318_retinal_data_integration_ignacio.ibarra_malte.luecken/Roska/R-00646_03_Periphery_ChoroidRPE_Right.h5ad',\n",
       "  '/mnt/znas/icb_zstore01/groups/ml01/workspace/ignacio.ibarra/theislab/retinal_scRNAseq_integration/data/integration_march_2021/scran/Roska/R-00646_03_Periphery_ChoroidRPE_Right.h5ad'],\n",
       " ['/storage/groups/ml01/datasets/projects/20210318_retinal_data_integration_ignacio.ibarra_malte.luecken/Roska/R-00646_01_Periphery_ChoroidRPE_Right.h5ad',\n",
       "  '/mnt/znas/icb_zstore01/groups/ml01/workspace/ignacio.ibarra/theislab/retinal_scRNAseq_integration/data/integration_march_2021/scran/Roska/R-00646_01_Periphery_ChoroidRPE_Right.h5ad']]"
      ]
     },
     "execution_count": 19,
     "metadata": {},
     "output_type": "execute_result"
    }
   ],
   "source": [
    "arguments"
   ]
  },
  {
   "cell_type": "code",
   "execution_count": 14,
   "metadata": {},
   "outputs": [],
   "source": [
    "# this is a test. maintain commented after finishing\n",
    "# !python ../../scib/scripts/preprocessing_remove_empty.py -i /storage/groups/ml01/datasets/projects/20210318_retinal_data_integration_ignacio.ibarra_malte.luecken/Wong/Retina_2B.h5ad -o /mnt/znas/icb_zstore01/groups/ml01/workspace/ignacio.ibarra/theislab/retinal_scRNAseq_integration/data/integration_march_2021/scran/Wong/Retina_2B.h5ad"
   ]
  },
  {
   "cell_type": "code",
   "execution_count": 21,
   "metadata": {},
   "outputs": [
    {
     "name": "stdout",
     "output_type": "stream",
     "text": [
      "0\n"
     ]
    }
   ],
   "source": [
    "print(len(arguments))\n",
    "arguments = sorted(arguments, key=lambda x: os.path.getsize(x[0]))"
   ]
  },
  {
   "cell_type": "code",
   "execution_count": 20,
   "metadata": {},
   "outputs": [
    {
     "name": "stdout",
     "output_type": "stream",
     "text": [
      "run function <function execute_preprocessing at 0x7fe520096e60> with n_cores = 10\n",
      "<function execute_preprocessing at 0x7fe520096e60>\n",
      "\n",
      "\n",
      "python ../../scib/scripts/preprocessing_remove_empty.py -i /storage/groups/ml01/datasets/projects/20210318_retinal_data_integration_ignacio.ibarra_malte.luecken/Scheetz/GSM3745992.h5ad -o /mnt/znas/icb_zstore01/groups/ml01/workspace/ignacio.ibarra/theislab/retinal_scRNAseq_integration/data/integration_march_2021/scran/Scheetz/GSM3745992.h5ad\n",
      "python ../../scib/scripts/preprocessing_remove_empty.py -i /storage/groups/ml01/datasets/projects/20210318_retinal_data_integration_ignacio.ibarra_malte.luecken/Scheetz/GSM3745996.h5ad -o /mnt/znas/icb_zstore01/groups/ml01/workspace/ignacio.ibarra/theislab/retinal_scRNAseq_integration/data/integration_march_2021/scran/Scheetz/GSM3745996.h5ad\n",
      "\n",
      "python ../../scib/scripts/preprocessing_remove_empty.py -i /storage/groups/ml01/datasets/projects/20210318_retinal_data_integration_ignacio.ibarra_malte.luecken/Scheetz/GSM3745993.h5ad -o /mnt/znas/icb_zstore01/groups/ml01/workspace/ignacio.ibarra/theislab/retinal_scRNAseq_integration/data/integration_march_2021/scran/Scheetz/GSM3745993.h5ad\n",
      "\n",
      "python ../../scib/scripts/preprocessing_remove_empty.py -i /storage/groups/ml01/datasets/projects/20210318_retinal_data_integration_ignacio.ibarra_malte.luecken/Scheetz/GSM3745997.h5ad -o /mnt/znas/icb_zstore01/groups/ml01/workspace/ignacio.ibarra/theislab/retinal_scRNAseq_integration/data/integration_march_2021/scran/Scheetz/GSM3745997.h5ad\n",
      "\n",
      "python ../../scib/scripts/preprocessing_remove_empty.py -i /storage/groups/ml01/datasets/projects/20210318_retinal_data_integration_ignacio.ibarra_malte.luecken/Scheetz/GSM3745995.h5ad -o /mnt/znas/icb_zstore01/groups/ml01/workspace/ignacio.ibarra/theislab/retinal_scRNAseq_integration/data/integration_march_2021/scran/Scheetz/GSM3745995.h5ad\n",
      "\n",
      "python ../../scib/scripts/preprocessing_remove_empty.py -i /storage/groups/ml01/datasets/projects/20210318_retinal_data_integration_ignacio.ibarra_malte.luecken/Scheetz/GSM3745994.h5ad -o /mnt/znas/icb_zstore01/groups/ml01/workspace/ignacio.ibarra/theislab/retinal_scRNAseq_integration/data/integration_march_2021/scran/Scheetz/GSM3745994.h5ad\n",
      "\n",
      "python ../../scib/scripts/preprocessing_remove_empty.py -i /storage/groups/ml01/datasets/projects/20210318_retinal_data_integration_ignacio.ibarra_malte.luecken/Roska/R-00646_03_Fovea_Retina_Left.h5ad -o /mnt/znas/icb_zstore01/groups/ml01/workspace/ignacio.ibarra/theislab/retinal_scRNAseq_integration/data/integration_march_2021/scran/Roska/R-00646_03_Fovea_Retina_Left.h5ad\n",
      "\n",
      "python ../../scib/scripts/preprocessing_remove_empty.py -i /storage/groups/ml01/datasets/projects/20210318_retinal_data_integration_ignacio.ibarra_malte.luecken/Roska/R-00646_04_Fovea_Retina_Right.h5ad -o /mnt/znas/icb_zstore01/groups/ml01/workspace/ignacio.ibarra/theislab/retinal_scRNAseq_integration/data/integration_march_2021/scran/Roska/R-00646_04_Fovea_Retina_Right.h5ad\n",
      "\n",
      "python ../../scib/scripts/preprocessing_remove_empty.py -i /storage/groups/ml01/datasets/projects/20210318_retinal_data_integration_ignacio.ibarra_malte.luecken/Roska/R-00646_04_Fovea_ChoroidRPE_Left.h5ad -o /mnt/znas/icb_zstore01/groups/ml01/workspace/ignacio.ibarra/theislab/retinal_scRNAseq_integration/data/integration_march_2021/scran/Roska/R-00646_04_Fovea_ChoroidRPE_Left.h5ad\n",
      "\n",
      "python ../../scib/scripts/preprocessing_remove_empty.py -i /storage/groups/ml01/datasets/projects/20210318_retinal_data_integration_ignacio.ibarra_malte.luecken/Roska/R-00646_04_Periphery_ChoroidRPE_Left.h5ad -o /mnt/znas/icb_zstore01/groups/ml01/workspace/ignacio.ibarra/theislab/retinal_scRNAseq_integration/data/integration_march_2021/scran/Roska/R-00646_04_Periphery_ChoroidRPE_Left.h5ad\n",
      "\n",
      "python ../../scib/scripts/preprocessing_remove_empty.py -i /storage/groups/ml01/datasets/projects/20210318_retinal_data_integration_ignacio.ibarra_malte.luecken/Roska/R-00646_07_Periphery_ChoroidRPE.h5ad -o /mnt/znas/icb_zstore01/groups/ml01/workspace/ignacio.ibarra/theislab/retinal_scRNAseq_integration/data/integration_march_2021/scran/Roska/R-00646_07_Periphery_ChoroidRPE.h5ad\n",
      "\n",
      "python ../../scib/scripts/preprocessing_remove_empty.py -i /storage/groups/ml01/datasets/projects/20210318_retinal_data_integration_ignacio.ibarra_malte.luecken/Roska/R-00646_03_Fovea_ChoroidRPE_Right.h5ad -o /mnt/znas/icb_zstore01/groups/ml01/workspace/ignacio.ibarra/theislab/retinal_scRNAseq_integration/data/integration_march_2021/scran/Roska/R-00646_03_Fovea_ChoroidRPE_Right.h5ad\n",
      "\n",
      "python ../../scib/scripts/preprocessing_remove_empty.py -i /storage/groups/ml01/datasets/projects/20210318_retinal_data_integration_ignacio.ibarra_malte.luecken/Roska/R-00646_04_Periphery_Retina_Left.h5ad -o /mnt/znas/icb_zstore01/groups/ml01/workspace/ignacio.ibarra/theislab/retinal_scRNAseq_integration/data/integration_march_2021/scran/Roska/R-00646_04_Periphery_Retina_Left.h5ad\n",
      "\n",
      "python ../../scib/scripts/preprocessing_remove_empty.py -i /storage/groups/ml01/datasets/projects/20210318_retinal_data_integration_ignacio.ibarra_malte.luecken/Roska/R-00646_01_Periphery_ChoroidRPE_Left.h5ad -o /mnt/znas/icb_zstore01/groups/ml01/workspace/ignacio.ibarra/theislab/retinal_scRNAseq_integration/data/integration_march_2021/scran/Roska/R-00646_01_Periphery_ChoroidRPE_Left.h5ad\n",
      "\n",
      "python ../../scib/scripts/preprocessing_remove_empty.py -i /storage/groups/ml01/datasets/projects/20210318_retinal_data_integration_ignacio.ibarra_malte.luecken/Roska/R-00646_03_Fovea_Retina_Right.h5ad -o /mnt/znas/icb_zstore01/groups/ml01/workspace/ignacio.ibarra/theislab/retinal_scRNAseq_integration/data/integration_march_2021/scran/Roska/R-00646_03_Fovea_Retina_Right.h5ad\n",
      "\n",
      "python ../../scib/scripts/preprocessing_remove_empty.py -i /storage/groups/ml01/datasets/projects/20210318_retinal_data_integration_ignacio.ibarra_malte.luecken/Roska/R-00646_03_Periphery_Retina_Right.h5ad -o /mnt/znas/icb_zstore01/groups/ml01/workspace/ignacio.ibarra/theislab/retinal_scRNAseq_integration/data/integration_march_2021/scran/Roska/R-00646_03_Periphery_Retina_Right.h5ad\n",
      "\n",
      "python ../../scib/scripts/preprocessing_remove_empty.py -i /storage/groups/ml01/datasets/projects/20210318_retinal_data_integration_ignacio.ibarra_malte.luecken/Roska/R-00646_07_Periphery_RetinaChoroidRPE.h5ad -o /mnt/znas/icb_zstore01/groups/ml01/workspace/ignacio.ibarra/theislab/retinal_scRNAseq_integration/data/integration_march_2021/scran/Roska/R-00646_07_Periphery_RetinaChoroidRPE.h5ad\n",
      "\n",
      "python ../../scib/scripts/preprocessing_remove_empty.py -i /storage/groups/ml01/datasets/projects/20210318_retinal_data_integration_ignacio.ibarra_malte.luecken/Roska/R-00646_01_Periphery_Retina_Right.h5ad -o /mnt/znas/icb_zstore01/groups/ml01/workspace/ignacio.ibarra/theislab/retinal_scRNAseq_integration/data/integration_march_2021/scran/Roska/R-00646_01_Periphery_Retina_Right.h5ad\n",
      "\n",
      "python ../../scib/scripts/preprocessing_remove_empty.py -i /storage/groups/ml01/datasets/projects/20210318_retinal_data_integration_ignacio.ibarra_malte.luecken/Roska/R-00646_04_Fovea_ChoroidRPE_Right.h5ad -o /mnt/znas/icb_zstore01/groups/ml01/workspace/ignacio.ibarra/theislab/retinal_scRNAseq_integration/data/integration_march_2021/scran/Roska/R-00646_04_Fovea_ChoroidRPE_Right.h5ad\n",
      "\n",
      "python ../../scib/scripts/preprocessing_remove_empty.py -i /storage/groups/ml01/datasets/projects/20210318_retinal_data_integration_ignacio.ibarra_malte.luecken/Roska/R-00646_07_Periphery_Retina.h5ad -o /mnt/znas/icb_zstore01/groups/ml01/workspace/ignacio.ibarra/theislab/retinal_scRNAseq_integration/data/integration_march_2021/scran/Roska/R-00646_07_Periphery_Retina.h5ad\n",
      "\n",
      "python ../../scib/scripts/preprocessing_remove_empty.py -i /storage/groups/ml01/datasets/projects/20210318_retinal_data_integration_ignacio.ibarra_malte.luecken/Roska/R-00646_03_Periphery_ChoroidRPE_Left.h5ad -o /mnt/znas/icb_zstore01/groups/ml01/workspace/ignacio.ibarra/theislab/retinal_scRNAseq_integration/data/integration_march_2021/scran/Roska/R-00646_03_Periphery_ChoroidRPE_Left.h5ad\n",
      "\n",
      "python ../../scib/scripts/preprocessing_remove_empty.py -i /storage/groups/ml01/datasets/projects/20210318_retinal_data_integration_ignacio.ibarra_malte.luecken/Roska/R-00646_04_Fovea_Retina_Left.h5ad -o /mnt/znas/icb_zstore01/groups/ml01/workspace/ignacio.ibarra/theislab/retinal_scRNAseq_integration/data/integration_march_2021/scran/Roska/R-00646_04_Fovea_Retina_Left.h5ad\n",
      "\n",
      "\n",
      "python ../../scib/scripts/preprocessing_remove_empty.py -i /storage/groups/ml01/datasets/projects/20210318_retinal_data_integration_ignacio.ibarra_malte.luecken/Roska/R-00646_01_Fovea_Retina_Right.h5ad -o /mnt/znas/icb_zstore01/groups/ml01/workspace/ignacio.ibarra/theislab/retinal_scRNAseq_integration/data/integration_march_2021/scran/Roska/R-00646_01_Fovea_Retina_Right.h5ad\n",
      "python ../../scib/scripts/preprocessing_remove_empty.py -i /storage/groups/ml01/datasets/projects/20210318_retinal_data_integration_ignacio.ibarra_malte.luecken/Roska/R-00646_01_Periphery_Retina_Left.h5ad -o /mnt/znas/icb_zstore01/groups/ml01/workspace/ignacio.ibarra/theislab/retinal_scRNAseq_integration/data/integration_march_2021/scran/Roska/R-00646_01_Periphery_Retina_Left.h5ad\n",
      "\n",
      "\n",
      "python ../../scib/scripts/preprocessing_remove_empty.py -i /storage/groups/ml01/datasets/projects/20210318_retinal_data_integration_ignacio.ibarra_malte.luecken/Roska/R-00646_03_Fovea_ChoroidRPE_Left.h5ad -o /mnt/znas/icb_zstore01/groups/ml01/workspace/ignacio.ibarra/theislab/retinal_scRNAseq_integration/data/integration_march_2021/scran/Roska/R-00646_03_Fovea_ChoroidRPE_Left.h5adpython ../../scib/scripts/preprocessing_remove_empty.py -i /storage/groups/ml01/datasets/projects/20210318_retinal_data_integration_ignacio.ibarra_malte.luecken/Roska/R-00646_04_Periphery_Retina_Right.h5ad -o /mnt/znas/icb_zstore01/groups/ml01/workspace/ignacio.ibarra/theislab/retinal_scRNAseq_integration/data/integration_march_2021/scran/Roska/R-00646_04_Periphery_Retina_Right.h5ad\n",
      "\n",
      "\n",
      "python ../../scib/scripts/preprocessing_remove_empty.py -i /storage/groups/ml01/datasets/projects/20210318_retinal_data_integration_ignacio.ibarra_malte.luecken/Roska/R-00646_03_Periphery_Retina_Left.h5ad -o /mnt/znas/icb_zstore01/groups/ml01/workspace/ignacio.ibarra/theislab/retinal_scRNAseq_integration/data/integration_march_2021/scran/Roska/R-00646_03_Periphery_Retina_Left.h5ad\n",
      "\n",
      "python ../../scib/scripts/preprocessing_remove_empty.py -i /storage/groups/ml01/datasets/projects/20210318_retinal_data_integration_ignacio.ibarra_malte.luecken/Roska/R-00646_03_Periphery_ChoroidRPE_Right.h5ad -o /mnt/znas/icb_zstore01/groups/ml01/workspace/ignacio.ibarra/theislab/retinal_scRNAseq_integration/data/integration_march_2021/scran/Roska/R-00646_03_Periphery_ChoroidRPE_Right.h5ad\n",
      "\n",
      "python ../../scib/scripts/preprocessing_remove_empty.py -i /storage/groups/ml01/datasets/projects/20210318_retinal_data_integration_ignacio.ibarra_malte.luecken/Roska/R-00646_01_Periphery_ChoroidRPE_Right.h5ad -o /mnt/znas/icb_zstore01/groups/ml01/workspace/ignacio.ibarra/theislab/retinal_scRNAseq_integration/data/integration_march_2021/scran/Roska/R-00646_01_Periphery_ChoroidRPE_Right.h5ad\n",
      "done...\n"
     ]
    }
   ],
   "source": [
    "run(execute_preprocessing, arguments, n_cores=10)"
   ]
  }
 ],
 "metadata": {
  "kernelspec": {
   "display_name": "Python [conda env:scIB-python]",
   "language": "python",
   "name": "conda-env-scIB-python-py"
  },
  "language_info": {
   "codemirror_mode": {
    "name": "ipython",
    "version": 3
   },
   "file_extension": ".py",
   "mimetype": "text/x-python",
   "name": "python",
   "nbconvert_exporter": "python",
   "pygments_lexer": "ipython3",
   "version": "3.7.10"
  }
 },
 "nbformat": 4,
 "nbformat_minor": 4
}
