{
 "cells": [
  {
   "cell_type": "code",
   "execution_count": 1,
   "id": "bf66a74c",
   "metadata": {},
   "outputs": [
    {
     "name": "stdout",
     "output_type": "stream",
     "text": [
      "/lustre/groups/ml01/workspace/ignacio.ibarra/theislab/retinal_scRNAseq_integration/notebooks/pipeline_integration_2021_march\n"
     ]
    }
   ],
   "source": [
    "cd /lustre/groups/ml01/workspace/ignacio.ibarra/theislab/retinal_scRNAseq_integration/notebooks/pipeline_integration_2021_march"
   ]
  },
  {
   "cell_type": "code",
   "execution_count": 2,
   "id": "7d7d5b25",
   "metadata": {},
   "outputs": [],
   "source": [
    "import os\n",
    "import scanpy as sc\n",
    "from os.path import join, exists\n",
    "from os import listdir\n",
    "import anndata\n",
    "import scipy\n",
    "import numpy as np\n",
    "import sys\n",
    "\n",
    "from utils import *\n",
    "\n",
    "# convert counts into float32\n",
    "# Convenience method for computing the size of objects\n",
    "def print_size_in_MB(x):\n",
    "    return '{:.3} MB'.format(x.__sizeof__()/1e6)\n",
    "\n",
    "def print_size_in_MB_sparse_matrix(a):\n",
    "    # a = scipy.sparse.csr_matrix(np.random.randint(10, size=(40, 3)))\n",
    "    # x = a.data.nbytes + a.indptr.nbytes + a.indices.nbytes\n",
    "    size = a.data.size/(1024**2)\n",
    "    return '{:.3} MB'.format(size)\n",
    "\n",
    "import warnings\n",
    "warnings.filterwarnings(\"ignore\")"
   ]
  },
  {
   "cell_type": "markdown",
   "id": "d650b5e0",
   "metadata": {},
   "source": [
    "### Prepare input for general run"
   ]
  },
  {
   "cell_type": "code",
   "execution_count": 3,
   "id": "c80e5ed2",
   "metadata": {},
   "outputs": [],
   "source": [
    "scib_methods_path = 'scib_config.methods.yml'\n",
    "lines = [r for r in open(scib_methods_path)]\n",
    "methods_data = {}\n",
    "curr_method = None\n",
    "method_parms = []\n",
    "for e in lines:\n",
    "    if e.startswith('  ') and not e.startswith('   '):\n",
    "        if curr_method is not None:\n",
    "            methods_data[curr_method] = method_parms\n",
    "        curr_method = e.strip()[:-1]\n",
    "        method_parms = []\n",
    "    else:\n",
    "        method_parms.append(e.strip())\n",
    "        \n",
    "# last method\n",
    "methods_data[curr_method] = method_parms"
   ]
  },
  {
   "cell_type": "code",
   "execution_count": 4,
   "id": "ab77d58a",
   "metadata": {},
   "outputs": [],
   "source": [
    "# methods_query =  ['harmony', 'combat', 'scgen', 'scanvi', 'scvi'] #  'scanorama', 'seurat', 'combat', 'bbknn'] # 'saucie'] # 'scgen']\n",
    "methods_query =  ['scgen', 'scanvi', 'scvi'] #  'scanorama', 'seurat', 'combat', 'bbknn'] # 'saucie'] # 'scgen']"
   ]
  },
  {
   "cell_type": "code",
   "execution_count": 5,
   "id": "ae635f42",
   "metadata": {},
   "outputs": [
    {
     "name": "stdout",
     "output_type": "stream",
     "text": [
      "input_500_cells_Chen+Hackney.h5ad\n",
      "input_500_cells_Chen+Hackney+Roska.h5ad\n",
      "input_250_cells_Chen+Hackney.h5ad\n",
      "input_all_cells_Chen+Hackney+Roska.h5ad\n",
      "input_all_cells_Chen+Hackney.h5ad\n",
      "input_all_cells_Chen+Hackney+Roska_batch_donor_dataset_as_object.h5ad\n"
     ]
    },
    {
     "data": {
      "text/html": [
       "<div>\n",
       "<style scoped>\n",
       "    .dataframe tbody tr th:only-of-type {\n",
       "        vertical-align: middle;\n",
       "    }\n",
       "\n",
       "    .dataframe tbody tr th {\n",
       "        vertical-align: top;\n",
       "    }\n",
       "\n",
       "    .dataframe thead th {\n",
       "        text-align: right;\n",
       "    }\n",
       "</style>\n",
       "<table border=\"1\" class=\"dataframe\">\n",
       "  <thead>\n",
       "    <tr style=\"text-align: right;\">\n",
       "      <th></th>\n",
       "      <th>file</th>\n",
       "      <th>batch_key</th>\n",
       "      <th>label_key</th>\n",
       "      <th>name</th>\n",
       "    </tr>\n",
       "  </thead>\n",
       "  <tbody>\n",
       "    <tr>\n",
       "      <th>0</th>\n",
       "      <td>/storage/groups/ml01/workspace/ignacio.ibarra/...</td>\n",
       "      <td>batch_donor_dataset</td>\n",
       "      <td>cell.type</td>\n",
       "      <td>retinal_500_Chen+Hackney</td>\n",
       "    </tr>\n",
       "    <tr>\n",
       "      <th>1</th>\n",
       "      <td>/storage/groups/ml01/workspace/ignacio.ibarra/...</td>\n",
       "      <td>batch_donor_dataset</td>\n",
       "      <td>cell.type</td>\n",
       "      <td>retinal_500_Chen+Hackney+Roska</td>\n",
       "    </tr>\n",
       "    <tr>\n",
       "      <th>2</th>\n",
       "      <td>/storage/groups/ml01/workspace/ignacio.ibarra/...</td>\n",
       "      <td>batch_donor_dataset</td>\n",
       "      <td>cell.type</td>\n",
       "      <td>retinal_250_Chen+Hackney</td>\n",
       "    </tr>\n",
       "    <tr>\n",
       "      <th>3</th>\n",
       "      <td>/storage/groups/ml01/workspace/ignacio.ibarra/...</td>\n",
       "      <td>batch_donor_dataset</td>\n",
       "      <td>cell.type</td>\n",
       "      <td>retinal_all_Chen+Hackney+Roska</td>\n",
       "    </tr>\n",
       "    <tr>\n",
       "      <th>4</th>\n",
       "      <td>/storage/groups/ml01/workspace/ignacio.ibarra/...</td>\n",
       "      <td>batch_donor_dataset</td>\n",
       "      <td>cell.type</td>\n",
       "      <td>retinal_all_Chen+Hackney</td>\n",
       "    </tr>\n",
       "    <tr>\n",
       "      <th>5</th>\n",
       "      <td>/storage/groups/ml01/workspace/ignacio.ibarra/...</td>\n",
       "      <td>batch_donor_dataset</td>\n",
       "      <td>cell.type</td>\n",
       "      <td>retinal_all_object</td>\n",
       "    </tr>\n",
       "  </tbody>\n",
       "</table>\n",
       "</div>"
      ],
      "text/plain": [
       "                                                file            batch_key  \\\n",
       "0  /storage/groups/ml01/workspace/ignacio.ibarra/...  batch_donor_dataset   \n",
       "1  /storage/groups/ml01/workspace/ignacio.ibarra/...  batch_donor_dataset   \n",
       "2  /storage/groups/ml01/workspace/ignacio.ibarra/...  batch_donor_dataset   \n",
       "3  /storage/groups/ml01/workspace/ignacio.ibarra/...  batch_donor_dataset   \n",
       "4  /storage/groups/ml01/workspace/ignacio.ibarra/...  batch_donor_dataset   \n",
       "5  /storage/groups/ml01/workspace/ignacio.ibarra/...  batch_donor_dataset   \n",
       "\n",
       "   label_key                            name  \n",
       "0  cell.type        retinal_500_Chen+Hackney  \n",
       "1  cell.type  retinal_500_Chen+Hackney+Roska  \n",
       "2  cell.type        retinal_250_Chen+Hackney  \n",
       "3  cell.type  retinal_all_Chen+Hackney+Roska  \n",
       "4  cell.type        retinal_all_Chen+Hackney  \n",
       "5  cell.type              retinal_all_object  "
      ]
     },
     "execution_count": 5,
     "metadata": {},
     "output_type": "execute_result"
    }
   ],
   "source": [
    "scib_template_path = 'scib_config.template.yml'\n",
    "# exists(scib_template_path)\n",
    "lines = ''.join([r for r in open(scib_template_path)])\n",
    "\n",
    "import pandas as pd\n",
    "from os import listdir\n",
    "from os.path import abspath, exists, join\n",
    "input_dir = '/storage/groups/ml01/workspace/ignacio.ibarra/theislab/retinal_scRNAseq_integration/data/integration_march_2021/input'\n",
    "# batches = ['dataset', 'donor', 'batch.merged']\n",
    "batches = ['batch_donor_dataset']\n",
    "labels = ['cell.type']\n",
    "# n_hvgs = [2000, 3000, 4000, 5000, 6000]\n",
    "\n",
    "queries = []\n",
    "for f in listdir(input_dir):\n",
    "    if not f.endswith('.h5ad') or 'part' in f or 'ndatasets' in f:\n",
    "        continue\n",
    "    print(f)\n",
    "    p = abspath(join(input_dir, f))\n",
    "    \n",
    "    name = 'retinal_' + f.split('_')[1] + '_' + f.split('_')[-1].replace('.h5ad', '')\n",
    "    for batch in batches:\n",
    "        for label in labels:\n",
    "            queries.append([p, batch, label, name])\n",
    "queries = pd.DataFrame(queries, columns=['file', 'batch_key', 'label_key', 'name',])\n",
    "\n",
    "queries"
   ]
  },
  {
   "cell_type": "code",
   "execution_count": 6,
   "id": "823310f5",
   "metadata": {},
   "outputs": [
    {
     "data": {
      "text/plain": [
       "['/storage/groups/ml01/workspace/ignacio.ibarra/theislab/retinal_scRNAseq_integration/data/integration_march_2021/input/input_500_cells_Chen+Hackney.h5ad',\n",
       " '/storage/groups/ml01/workspace/ignacio.ibarra/theislab/retinal_scRNAseq_integration/data/integration_march_2021/input/input_500_cells_Chen+Hackney+Roska.h5ad',\n",
       " '/storage/groups/ml01/workspace/ignacio.ibarra/theislab/retinal_scRNAseq_integration/data/integration_march_2021/input/input_250_cells_Chen+Hackney.h5ad',\n",
       " '/storage/groups/ml01/workspace/ignacio.ibarra/theislab/retinal_scRNAseq_integration/data/integration_march_2021/input/input_all_cells_Chen+Hackney+Roska.h5ad',\n",
       " '/storage/groups/ml01/workspace/ignacio.ibarra/theislab/retinal_scRNAseq_integration/data/integration_march_2021/input/input_all_cells_Chen+Hackney.h5ad',\n",
       " '/storage/groups/ml01/workspace/ignacio.ibarra/theislab/retinal_scRNAseq_integration/data/integration_march_2021/input/input_all_cells_Chen+Hackney+Roska_batch_donor_dataset_as_object.h5ad']"
      ]
     },
     "execution_count": 6,
     "metadata": {},
     "output_type": "execute_result"
    }
   ],
   "source": [
    "import os\n",
    "list(queries['file'])"
   ]
  },
  {
   "cell_type": "code",
   "execution_count": 7,
   "id": "e9904dd6",
   "metadata": {},
   "outputs": [
    {
     "data": {
      "text/plain": [
       "0    False\n",
       "1    False\n",
       "2    False\n",
       "3     True\n",
       "4     True\n",
       "5     True\n",
       "Name: file, dtype: bool"
      ]
     },
     "execution_count": 7,
     "metadata": {},
     "output_type": "execute_result"
    }
   ],
   "source": [
    "queries['file'].astype(str).str.contains('input_all_cells')"
   ]
  },
  {
   "cell_type": "code",
   "execution_count": 8,
   "id": "12574c48",
   "metadata": {},
   "outputs": [
    {
     "data": {
      "text/html": [
       "<div>\n",
       "<style scoped>\n",
       "    .dataframe tbody tr th:only-of-type {\n",
       "        vertical-align: middle;\n",
       "    }\n",
       "\n",
       "    .dataframe tbody tr th {\n",
       "        vertical-align: top;\n",
       "    }\n",
       "\n",
       "    .dataframe thead th {\n",
       "        text-align: right;\n",
       "    }\n",
       "</style>\n",
       "<table border=\"1\" class=\"dataframe\">\n",
       "  <thead>\n",
       "    <tr style=\"text-align: right;\">\n",
       "      <th></th>\n",
       "      <th>file</th>\n",
       "      <th>batch_key</th>\n",
       "      <th>label_key</th>\n",
       "      <th>name</th>\n",
       "    </tr>\n",
       "  </thead>\n",
       "  <tbody>\n",
       "    <tr>\n",
       "      <th>3</th>\n",
       "      <td>/storage/groups/ml01/workspace/ignacio.ibarra/...</td>\n",
       "      <td>batch_donor_dataset</td>\n",
       "      <td>cell.type</td>\n",
       "      <td>retinal_all_Chen+Hackney+Roska</td>\n",
       "    </tr>\n",
       "    <tr>\n",
       "      <th>4</th>\n",
       "      <td>/storage/groups/ml01/workspace/ignacio.ibarra/...</td>\n",
       "      <td>batch_donor_dataset</td>\n",
       "      <td>cell.type</td>\n",
       "      <td>retinal_all_Chen+Hackney</td>\n",
       "    </tr>\n",
       "    <tr>\n",
       "      <th>5</th>\n",
       "      <td>/storage/groups/ml01/workspace/ignacio.ibarra/...</td>\n",
       "      <td>batch_donor_dataset</td>\n",
       "      <td>cell.type</td>\n",
       "      <td>retinal_all_object</td>\n",
       "    </tr>\n",
       "  </tbody>\n",
       "</table>\n",
       "</div>"
      ],
      "text/plain": [
       "                                                file            batch_key  \\\n",
       "3  /storage/groups/ml01/workspace/ignacio.ibarra/...  batch_donor_dataset   \n",
       "4  /storage/groups/ml01/workspace/ignacio.ibarra/...  batch_donor_dataset   \n",
       "5  /storage/groups/ml01/workspace/ignacio.ibarra/...  batch_donor_dataset   \n",
       "\n",
       "   label_key                            name  \n",
       "3  cell.type  retinal_all_Chen+Hackney+Roska  \n",
       "4  cell.type        retinal_all_Chen+Hackney  \n",
       "5  cell.type              retinal_all_object  "
      ]
     },
     "execution_count": 8,
     "metadata": {},
     "output_type": "execute_result"
    }
   ],
   "source": [
    "queries = queries[queries['file'].str.contains('input_all_cells')]\n",
    "queries"
   ]
  },
  {
   "cell_type": "code",
   "execution_count": 9,
   "id": "52f6e6b8",
   "metadata": {},
   "outputs": [],
   "source": [
    "queries = queries[queries['name'].str.contains('Chen\\+Hackney\\+Roska')]"
   ]
  },
  {
   "cell_type": "code",
   "execution_count": 10,
   "id": "b11e8be8",
   "metadata": {},
   "outputs": [
    {
     "name": "stdout",
     "output_type": "stream",
     "text": [
      "\n",
      "# of cells (input argument) None\n",
      "True /lustre/groups/ml01/workspace/ignacio.ibarra/theislab/retinal_scRNAseq_integration/data/integration_march_2021/input/input_all_cells_all.h5ad\n"
     ]
    }
   ],
   "source": [
    "\n",
    "dataset_template = '''\n",
    "  $query_name:\n",
    "    batch_key: $batch_key\n",
    "    label_key: $label_key\n",
    "    assay: expression\n",
    "    organism: human\n",
    "    file: $path\n",
    "'''\n",
    "out_queries = ''\n",
    "for ri, r in queries.iterrows():\n",
    "    # print(ri, r.values)\n",
    "    next_query = dataset_template.replace('$query_name', r['name'] + '_' + r['batch_key'] + '_' + r['label_key'])\n",
    "    next_query = next_query.replace('$batch_key', r['batch_key']).replace('$label_key', r['label_key']).replace('$path', r['file'])\n",
    "    out_queries += next_query\n",
    "\n",
    "out_methods = ''\n",
    "for q in methods_query:\n",
    "    next_method = '  ' + q + ':\\n    ' + '\\n    '.join(methods_data[q])\n",
    "    out_methods += next_method + '\\n'\n",
    "out = lines.replace('$METHODS_QUERY', out_methods)\n",
    "out = out.replace('$DATA_SCENARIOS_QUERY', out_queries)\n",
    "\n",
    "config_output_path = '/lustre/groups/ml01/workspace/ignacio.ibarra/theislab/scib/config_retinal_old.yaml'\n",
    "writer = open(config_output_path, 'w')\n",
    "writer.writelines(out + '\\n')\n",
    "writer.close()\n",
    "\n",
    "overwrite = False\n",
    "for n_sample_per_batch in [None]:\n",
    "    # examine types, columns and others incorporated in the object\n",
    "    \n",
    "    code_n_cells = (('_' + str(n_sample_per_batch) if n_sample_per_batch is not None else ''))\n",
    "    print(code_n_cells)\n",
    "    print('# of cells (input argument)', n_sample_per_batch)\n",
    "    code_output = (('_' + str(n_sample_per_batch) if n_sample_per_batch is not None else '_all'))\n",
    "    output_path = '../../data/integration_march_2021/input/input%s_cells_all.h5ad' % code_output\n",
    "    abspath_scib = os.path.abspath(output_path)        \n",
    "    print(exists(abspath_scib), abspath_scib)\n",
    "    \n",
    "## write a single path with the DATA_scenarios\n",
    "scenarios_path = config_output_path.replace('.yaml', '_scenarios.yaml')\n",
    "writer = open(scenarios_path, 'w')\n",
    "writer.writelines(out_queries + '\\n')\n",
    "writer.close()\n",
    "# print(abspath(scenarios_path))"
   ]
  },
  {
   "cell_type": "markdown",
   "id": "46598cca",
   "metadata": {},
   "source": [
    "### Print commands that will be executed during the pipelin"
   ]
  },
  {
   "cell_type": "code",
   "execution_count": 11,
   "id": "ce530628",
   "metadata": {},
   "outputs": [],
   "source": [
    "dryrun_cmds_path = '/lustre/groups/ml01/workspace/ignacio.ibarra/theislab/scib/snakemake_dryrun_retinal.out'\n",
    "dryrun_cmds_path_all = '/lustre/groups/ml01/workspace/ignacio.ibarra/theislab/scib/snakemake_dryrun_retinal_all.out'"
   ]
  },
  {
   "cell_type": "code",
   "execution_count": 12,
   "id": "87fd0ebf",
   "metadata": {},
   "outputs": [
    {
     "name": "stdout",
     "output_type": "stream",
     "text": [
      "/lustre/groups/ml01/workspace/ignacio.ibarra/theislab/retinal_scRNAseq_integration/notebooks/pipeline_integration_2021_march\n"
     ]
    }
   ],
   "source": [
    "!readlink -f ."
   ]
  },
  {
   "cell_type": "code",
   "execution_count": 13,
   "id": "95660599",
   "metadata": {},
   "outputs": [
    {
     "name": "stdout",
     "output_type": "stream",
     "text": [
      "/lustre/groups/ml01/workspace/ignacio.ibarra/theislab/retinal_scRNAseq_integration/notebooks/pipeline_integration_2021_march\n"
     ]
    }
   ],
   "source": [
    "!pwd"
   ]
  },
  {
   "cell_type": "code",
   "execution_count": 14,
   "id": "72138944",
   "metadata": {},
   "outputs": [
    {
     "name": "stdout",
     "output_type": "stream",
     "text": [
      "/lustre/groups/ml01/workspace/ignacio.ibarra/theislab/scib\n"
     ]
    }
   ],
   "source": [
    "cd /lustre/groups/ml01/workspace/ignacio.ibarra/theislab/scib"
   ]
  },
  {
   "cell_type": "code",
   "execution_count": null,
   "id": "34185a0c-2ef1-47ee-8b31-eb81911d59fc",
   "metadata": {},
   "outputs": [],
   "source": [
    "!which snakemake"
   ]
  },
  {
   "cell_type": "code",
   "execution_count": 15,
   "id": "b604798c",
   "metadata": {},
   "outputs": [
    {
     "name": "stdout",
     "output_type": "stream",
     "text": [
      "/bin/bash: snakemake: command not found\n",
      "/bin/bash: snakemake: command not found\n"
     ]
    }
   ],
   "source": [
    "!snakemake --configfile config_retinal.yaml --dryrun --printshellcmds --nolock  > $dryrun_cmds_path\n",
    "!snakemake --configfile config_retinal.yaml --dryrun --printshellcmds --nolock -R integration_run_python  > $dryrun_cmds_path_all"
   ]
  },
  {
   "cell_type": "code",
   "execution_count": 16,
   "id": "3b198a4f",
   "metadata": {},
   "outputs": [],
   "source": [
    "# !head $dryrun_cmds_path_all"
   ]
  },
  {
   "cell_type": "code",
   "execution_count": 17,
   "id": "eef6e405",
   "metadata": {},
   "outputs": [],
   "source": [
    "# cd '/mnt/znas/icb_zstore01/groups/ml01/workspace/ignacio.ibarra/theislab/retinal_scRNAseq_integration/notebooks/pipeline_integration_2021_march'\n",
    "queries = [q.strip() for q in open(dryrun_cmds_path) if q.strip().startswith('conda') and 'runIntegration' in q] #  in q and 'runIntegration'in q]\n",
    "queries_postintegration = [q.strip() for q in open(dryrun_cmds_path_all) if q.strip().startswith('conda') and not 'runIntegration' in q] #  in q and 'runIntegration'in q]\n",
    "queries_all = [q.strip() for q in open(dryrun_cmds_path_all) if q.strip().startswith('conda') and 'runIntegration' in q] #  in q and 'runIntegration'in q]\n"
   ]
  },
  {
   "cell_type": "code",
   "execution_count": 18,
   "id": "81498c29",
   "metadata": {},
   "outputs": [
    {
     "data": {
      "text/plain": [
       "(0, 0, 0)"
      ]
     },
     "execution_count": 18,
     "metadata": {},
     "output_type": "execute_result"
    }
   ],
   "source": [
    "len(queries), len(queries_all), len(queries_postintegration)"
   ]
  },
  {
   "cell_type": "code",
   "execution_count": 19,
   "id": "3c457570",
   "metadata": {},
   "outputs": [],
   "source": [
    "for q in queries[:10]:\n",
    "    print(q)"
   ]
  },
  {
   "cell_type": "markdown",
   "id": "082bc7d4",
   "metadata": {},
   "source": [
    "### Generate sbatch query for GPU routines (e.g. scgen, scVI, scANVI)"
   ]
  },
  {
   "cell_type": "code",
   "execution_count": 20,
   "id": "67f9cf62",
   "metadata": {},
   "outputs": [],
   "source": [
    "# queries_all"
   ]
  },
  {
   "cell_type": "code",
   "execution_count": 21,
   "id": "1440743a",
   "metadata": {},
   "outputs": [],
   "source": [
    "# to run GPU methods, we save the path of input queries into output\n",
    "paths = []\n",
    "for q in queries_all:\n",
    "    s = q.split(' ')\n",
    "    s = [si for si in s if not len(si.strip()) == 0]\n",
    "    # print(s)\n",
    "\n",
    "    args = ['--method', '-v', '-c', '-i', '-o', '--nepochs', '--nlayers', '--nhidden']\n",
    "    v = []\n",
    "    for a in args:\n",
    "        found = False\n",
    "        for si, x in enumerate(s):\n",
    "            if x == a:\n",
    "                found = True\n",
    "                v.append(s[si + 1])\n",
    "        if not found:\n",
    "            v.append(None)\n",
    "    # print(v)\n",
    "    \n",
    "    paths.append(v)\n",
    "    \n"
   ]
  },
  {
   "cell_type": "code",
   "execution_count": 22,
   "id": "1396dfd8",
   "metadata": {},
   "outputs": [
    {
     "name": "stdout",
     "output_type": "stream",
     "text": [
      "/lustre/groups/ml01/workspace/ignacio.ibarra/theislab/retinal_scRNAseq_integration/notebooks/pipeline_integration_2021_march\n"
     ]
    }
   ],
   "source": [
    "cd /lustre/groups/ml01/workspace/ignacio.ibarra/theislab/retinal_scRNAseq_integration/notebooks/pipeline_integration_2021_march"
   ]
  },
  {
   "cell_type": "code",
   "execution_count": 23,
   "id": "c6601393",
   "metadata": {},
   "outputs": [],
   "source": [
    "df = pd.DataFrame(paths, columns=['method', 'hvg', 'cell_type_key', 'input', 'output', 'nepochs', 'nlayers', 'nhidden'])"
   ]
  },
  {
   "cell_type": "code",
   "execution_count": 24,
   "id": "054061c9",
   "metadata": {},
   "outputs": [
    {
     "data": {
      "text/html": [
       "<div>\n",
       "<style scoped>\n",
       "    .dataframe tbody tr th:only-of-type {\n",
       "        vertical-align: middle;\n",
       "    }\n",
       "\n",
       "    .dataframe tbody tr th {\n",
       "        vertical-align: top;\n",
       "    }\n",
       "\n",
       "    .dataframe thead th {\n",
       "        text-align: right;\n",
       "    }\n",
       "</style>\n",
       "<table border=\"1\" class=\"dataframe\">\n",
       "  <thead>\n",
       "    <tr style=\"text-align: right;\">\n",
       "      <th></th>\n",
       "      <th>method</th>\n",
       "      <th>hvg</th>\n",
       "      <th>cell_type_key</th>\n",
       "      <th>input</th>\n",
       "      <th>output</th>\n",
       "      <th>nepochs</th>\n",
       "      <th>nlayers</th>\n",
       "      <th>nhidden</th>\n",
       "    </tr>\n",
       "  </thead>\n",
       "  <tbody>\n",
       "  </tbody>\n",
       "</table>\n",
       "</div>"
      ],
      "text/plain": [
       "Empty DataFrame\n",
       "Columns: [method, hvg, cell_type_key, input, output, nepochs, nlayers, nhidden]\n",
       "Index: []"
      ]
     },
     "execution_count": 24,
     "metadata": {},
     "output_type": "execute_result"
    }
   ],
   "source": [
    "df['cell_type_key'] = np.where(df['method'].isin({'scvi', 'scgen'}),  'cell.type', df['cell_type_key'])\n",
    "df"
   ]
  },
  {
   "cell_type": "code",
   "execution_count": 25,
   "id": "90830413",
   "metadata": {},
   "outputs": [],
   "source": [
    "output_exists = []\n",
    "input_exists = []\n",
    "for ri, r in df.iterrows():\n",
    "    output_exists.append(exists(r['output']))\n",
    "    input_exists.append(exists(r['input']))\n",
    "df['in.exists'] = input_exists\n",
    "df['out.exists'] = output_exists\n",
    "\n",
    "# df = df[~df['input'].str.contains('Roska')]\n",
    "# df = df[~df['input'].str.contains('Hafler')]\n",
    "\n",
    "df_all = df.copy()\n",
    "df = df[~df['out.exists'] & df['in.exists']]\n",
    "del df['in.exists']\n",
    "del df['out.exists']\n"
   ]
  },
  {
   "cell_type": "code",
   "execution_count": 26,
   "id": "a2d56842",
   "metadata": {},
   "outputs": [
    {
     "data": {
      "text/plain": [
       "(0, 10)"
      ]
     },
     "execution_count": 26,
     "metadata": {},
     "output_type": "execute_result"
    }
   ],
   "source": [
    "df_all.shape"
   ]
  },
  {
   "cell_type": "code",
   "execution_count": 27,
   "id": "bdecfe90",
   "metadata": {},
   "outputs": [
    {
     "data": {
      "text/plain": [
       "(0, 8)"
      ]
     },
     "execution_count": 27,
     "metadata": {},
     "output_type": "execute_result"
    }
   ],
   "source": [
    "df.shape"
   ]
  },
  {
   "cell_type": "code",
   "execution_count": 28,
   "id": "902f22c8",
   "metadata": {},
   "outputs": [],
   "source": [
    "for ri, r in df_all.iterrows():\n",
    "    print(r['output'])"
   ]
  },
  {
   "cell_type": "code",
   "execution_count": 29,
   "id": "f9ea0780",
   "metadata": {},
   "outputs": [],
   "source": [
    "# df['output']"
   ]
  },
  {
   "cell_type": "code",
   "execution_count": 30,
   "id": "13ce6e33",
   "metadata": {},
   "outputs": [],
   "source": [
    "# list(df_all['output'])"
   ]
  },
  {
   "cell_type": "code",
   "execution_count": 31,
   "id": "f50ce5b5",
   "metadata": {},
   "outputs": [],
   "source": [
    "df['sample'] = df['output'].str.split('/').str[-5].astype(str).str.split('_').str[1]\n",
    "df = df.sort_values('sample')\n",
    "# df['output'].value_counts()\n",
    "df = df[df['method'].str.split('_').str[0].isin({'scvi', 'scgen', 'scanvi'})]\n"
   ]
  },
  {
   "cell_type": "code",
   "execution_count": null,
   "id": "657e7c69",
   "metadata": {},
   "outputs": [],
   "source": []
  },
  {
   "cell_type": "code",
   "execution_count": 32,
   "id": "d57aacad",
   "metadata": {},
   "outputs": [
    {
     "data": {
      "text/plain": [
       "(0, 9)"
      ]
     },
     "execution_count": 32,
     "metadata": {},
     "output_type": "execute_result"
    }
   ],
   "source": [
    "df.shape"
   ]
  },
  {
   "cell_type": "code",
   "execution_count": 33,
   "id": "4be31eb1",
   "metadata": {},
   "outputs": [],
   "source": [
    "# list(df['output'])"
   ]
  },
  {
   "cell_type": "code",
   "execution_count": 34,
   "id": "0067bd91",
   "metadata": {},
   "outputs": [],
   "source": [
    "del df['sample']"
   ]
  },
  {
   "cell_type": "code",
   "execution_count": 35,
   "id": "89af4d78",
   "metadata": {},
   "outputs": [
    {
     "data": {
      "text/plain": [
       "(0, 8)"
      ]
     },
     "execution_count": 35,
     "metadata": {},
     "output_type": "execute_result"
    }
   ],
   "source": [
    "df.shape"
   ]
  },
  {
   "cell_type": "code",
   "execution_count": 36,
   "id": "0ab14afc",
   "metadata": {},
   "outputs": [],
   "source": [
    "# df[((df['output'].str.contains('Wong')) & (df['method'].str.contains('scgen')))].reset_index(drop=True)\n",
    "# df[((df['output'].str.contains('Wong')) & (df['method'].str.contains('scgen')))].reset_index(drop=True).to_csv('queries_gpu_methods.csv')"
   ]
  },
  {
   "cell_type": "code",
   "execution_count": 37,
   "id": "bfcfce48",
   "metadata": {},
   "outputs": [
    {
     "name": "stdout",
     "output_type": "stream",
     "text": [
      "(0, 8)\n"
     ]
    },
    {
     "data": {
      "text/plain": [
       "(0, 8)"
      ]
     },
     "execution_count": 37,
     "metadata": {},
     "output_type": "execute_result"
    }
   ],
   "source": [
    "df = df.reset_index(drop=True)\n",
    "print(df.shape)\n",
    "df.reset_index(drop=True).to_csv('queries_gpu_methods.csv')\n",
    "# df\n",
    "df.shape"
   ]
  },
  {
   "cell_type": "code",
   "execution_count": 38,
   "id": "4cf706d0",
   "metadata": {},
   "outputs": [
    {
     "name": "stdout",
     "output_type": "stream",
     "text": [
      "/lustre/groups/ml01/workspace/ignacio.ibarra/theislab/retinal_scRNAseq_integration/notebooks/pipeline_integration_2021_march/queries_gpu_methods.csv\n"
     ]
    }
   ],
   "source": [
    "!readlink -f queries_gpu_methods.csv"
   ]
  },
  {
   "cell_type": "code",
   "execution_count": 39,
   "id": "9c8a4ba0",
   "metadata": {},
   "outputs": [
    {
     "data": {
      "text/html": [
       "<div>\n",
       "<style scoped>\n",
       "    .dataframe tbody tr th:only-of-type {\n",
       "        vertical-align: middle;\n",
       "    }\n",
       "\n",
       "    .dataframe tbody tr th {\n",
       "        vertical-align: top;\n",
       "    }\n",
       "\n",
       "    .dataframe thead th {\n",
       "        text-align: right;\n",
       "    }\n",
       "</style>\n",
       "<table border=\"1\" class=\"dataframe\">\n",
       "  <thead>\n",
       "    <tr style=\"text-align: right;\">\n",
       "      <th></th>\n",
       "      <th>method</th>\n",
       "      <th>hvg</th>\n",
       "      <th>cell_type_key</th>\n",
       "      <th>input</th>\n",
       "      <th>output</th>\n",
       "      <th>nepochs</th>\n",
       "      <th>nlayers</th>\n",
       "      <th>nhidden</th>\n",
       "    </tr>\n",
       "  </thead>\n",
       "  <tbody>\n",
       "  </tbody>\n",
       "</table>\n",
       "</div>"
      ],
      "text/plain": [
       "Empty DataFrame\n",
       "Columns: [method, hvg, cell_type_key, input, output, nepochs, nlayers, nhidden]\n",
       "Index: []"
      ]
     },
     "execution_count": 39,
     "metadata": {},
     "output_type": "execute_result"
    }
   ],
   "source": [
    "df"
   ]
  },
  {
   "cell_type": "code",
   "execution_count": 40,
   "id": "eb72adc7",
   "metadata": {},
   "outputs": [
    {
     "name": "stdout",
     "output_type": "stream",
     "text": [
      "(0, 10)\n"
     ]
    },
    {
     "data": {
      "text/html": [
       "<div>\n",
       "<style scoped>\n",
       "    .dataframe tbody tr th:only-of-type {\n",
       "        vertical-align: middle;\n",
       "    }\n",
       "\n",
       "    .dataframe tbody tr th {\n",
       "        vertical-align: top;\n",
       "    }\n",
       "\n",
       "    .dataframe thead th {\n",
       "        text-align: right;\n",
       "    }\n",
       "</style>\n",
       "<table border=\"1\" class=\"dataframe\">\n",
       "  <thead>\n",
       "    <tr style=\"text-align: right;\">\n",
       "      <th></th>\n",
       "      <th>method</th>\n",
       "      <th>hvg</th>\n",
       "      <th>cell_type_key</th>\n",
       "      <th>input</th>\n",
       "      <th>output</th>\n",
       "      <th>nepochs</th>\n",
       "      <th>nlayers</th>\n",
       "      <th>nhidden</th>\n",
       "      <th>in.exists</th>\n",
       "      <th>out.exists</th>\n",
       "    </tr>\n",
       "  </thead>\n",
       "  <tbody>\n",
       "  </tbody>\n",
       "</table>\n",
       "</div>"
      ],
      "text/plain": [
       "Empty DataFrame\n",
       "Columns: [method, hvg, cell_type_key, input, output, nepochs, nlayers, nhidden, in.exists, out.exists]\n",
       "Index: []"
      ]
     },
     "execution_count": 40,
     "metadata": {},
     "output_type": "execute_result"
    }
   ],
   "source": [
    "df_all = df_all.reset_index(drop=True)\n",
    "print(df_all.shape)\n",
    "df_all.reset_index(drop=True).to_csv('queries_gpu_methods_all.csv')\n",
    "# df\n",
    "df_all.head(10)"
   ]
  },
  {
   "cell_type": "code",
   "execution_count": 41,
   "id": "7062a71a",
   "metadata": {},
   "outputs": [
    {
     "data": {
      "text/plain": [
       "(0, 10)"
      ]
     },
     "execution_count": 41,
     "metadata": {},
     "output_type": "execute_result"
    }
   ],
   "source": [
    "df_all.shape"
   ]
  },
  {
   "cell_type": "code",
   "execution_count": 42,
   "id": "836e347e",
   "metadata": {},
   "outputs": [
    {
     "data": {
      "text/plain": [
       "Series([], Name: out.exists, dtype: int64)"
      ]
     },
     "execution_count": 42,
     "metadata": {},
     "output_type": "execute_result"
    }
   ],
   "source": [
    "df_all['out.exists'].value_counts()"
   ]
  },
  {
   "cell_type": "code",
   "execution_count": 43,
   "id": "712ec87b",
   "metadata": {},
   "outputs": [],
   "source": [
    "# list(df_all[~df_all['out.exists']]['out.exists'])"
   ]
  },
  {
   "cell_type": "code",
   "execution_count": 44,
   "id": "df2b6af9",
   "metadata": {},
   "outputs": [],
   "source": [
    "for ri, r in df.iterrows():\n",
    "    if not exists(r['output']):\n",
    "        print(exists(r['input']), exists(r['output']), r['output'].replace('/storage/groups/ml01/workspace/ignacio.ibarra/', '~/workspace/theislab'))\n"
   ]
  },
  {
   "cell_type": "code",
   "execution_count": 45,
   "id": "7064ae16",
   "metadata": {},
   "outputs": [
    {
     "data": {
      "text/plain": [
       "(0, 8)"
      ]
     },
     "execution_count": 45,
     "metadata": {},
     "output_type": "execute_result"
    }
   ],
   "source": [
    "df.shape"
   ]
  },
  {
   "cell_type": "code",
   "execution_count": 46,
   "id": "3cf2ea8f",
   "metadata": {},
   "outputs": [
    {
     "name": "stdout",
     "output_type": "stream",
     "text": [
      "sbatch --array=0--1 submit_gpu.sh\n"
     ]
    }
   ],
   "source": [
    "# this is the command one should run as a job array\n",
    "print('sbatch --array=0-%i %s' % (df.shape[0] - 1, 'submit_gpu.sh'))"
   ]
  },
  {
   "cell_type": "code",
   "execution_count": 47,
   "id": "d69cb138",
   "metadata": {},
   "outputs": [
    {
     "data": {
      "text/html": [
       "<div>\n",
       "<style scoped>\n",
       "    .dataframe tbody tr th:only-of-type {\n",
       "        vertical-align: middle;\n",
       "    }\n",
       "\n",
       "    .dataframe tbody tr th {\n",
       "        vertical-align: top;\n",
       "    }\n",
       "\n",
       "    .dataframe thead th {\n",
       "        text-align: right;\n",
       "    }\n",
       "</style>\n",
       "<table border=\"1\" class=\"dataframe\">\n",
       "  <thead>\n",
       "    <tr style=\"text-align: right;\">\n",
       "      <th></th>\n",
       "      <th>method</th>\n",
       "      <th>hvg</th>\n",
       "      <th>cell_type_key</th>\n",
       "      <th>input</th>\n",
       "      <th>output</th>\n",
       "      <th>nepochs</th>\n",
       "      <th>nlayers</th>\n",
       "      <th>nhidden</th>\n",
       "    </tr>\n",
       "  </thead>\n",
       "  <tbody>\n",
       "  </tbody>\n",
       "</table>\n",
       "</div>"
      ],
      "text/plain": [
       "Empty DataFrame\n",
       "Columns: [method, hvg, cell_type_key, input, output, nepochs, nlayers, nhidden]\n",
       "Index: []"
      ]
     },
     "execution_count": 47,
     "metadata": {},
     "output_type": "execute_result"
    }
   ],
   "source": [
    "df"
   ]
  },
  {
   "cell_type": "markdown",
   "id": "d557bf91",
   "metadata": {},
   "source": [
    "### Generate a new config_retinal that will only contain the cases where output has been genera"
   ]
  },
  {
   "cell_type": "code",
   "execution_count": 48,
   "id": "c46ba25b",
   "metadata": {},
   "outputs": [],
   "source": [
    "scib_wd_dir = '/lustre/groups/ml01/workspace/ignacio.ibarra/theislab/scib'"
   ]
  },
  {
   "cell_type": "code",
   "execution_count": 49,
   "id": "bbfdf7d9",
   "metadata": {},
   "outputs": [],
   "source": [
    "from os.path import join"
   ]
  },
  {
   "cell_type": "code",
   "execution_count": 50,
   "id": "b2b92f47",
   "metadata": {},
   "outputs": [],
   "source": [
    "scib_methods_path = join(scib_wd_dir, 'config_retinal.yaml')\n",
    "lines = [r for r in open(scib_methods_path)]\n",
    "methods_data = {}\n",
    "curr_method = None\n",
    "method_parms = []\n",
    "for e in lines:\n",
    "    if e.startswith('  ') and not e.startswith('   '):\n",
    "        if curr_method is not None:\n",
    "            methods_data[curr_method] = method_parms\n",
    "        curr_method = e.strip()[:-1]\n",
    "        method_parms = []\n",
    "    else:\n",
    "        method_parms.append(e.strip())\n",
    "        \n",
    "# last method\n",
    "methods_data[curr_method] = method_parms"
   ]
  },
  {
   "cell_type": "markdown",
   "id": "6caa13ce",
   "metadata": {},
   "source": [
    "### This indicates the amount of entries that have not finished"
   ]
  },
  {
   "cell_type": "code",
   "execution_count": 51,
   "id": "3b343ac6",
   "metadata": {},
   "outputs": [
    {
     "name": "stdout",
     "output_type": "stream",
     "text": [
      "scanvi_E100_L1_H128 0\n",
      "scanvi_E100_L2_H128 0\n",
      "scanvi_E100_L3_H128 0\n",
      "scanvi_E100_L1_H256 0\n",
      "scanvi_E100_L2_H256 0\n",
      "scanvi_E100_L3_H256 0\n"
     ]
    }
   ],
   "source": [
    "entries = list(methods_data.keys())\n",
    "for k in entries:\n",
    "    if k.startswith('scvi') or k.startswith('scanvi') or k.startswith('scgen'):\n",
    "        print(k, sum(~df_all[df_all['method'] == k]['out.exists']))\n",
    "    else:\n",
    "        del methods_data[k]\n"
   ]
  },
  {
   "cell_type": "code",
   "execution_count": 52,
   "id": "17f18b02",
   "metadata": {},
   "outputs": [
    {
     "data": {
      "text/plain": [
       "{'scanvi_E100_L1_H128': ['output_type: embed',\n",
       "  'no_scale: true',\n",
       "  'nepochs: 100',\n",
       "  'nlayers: 1',\n",
       "  'nhidden: 128'],\n",
       " 'scanvi_E100_L2_H128': ['output_type: embed',\n",
       "  'no_scale: true',\n",
       "  'nepochs: 100',\n",
       "  'nlayers: 2',\n",
       "  'nhidden: 128'],\n",
       " 'scanvi_E100_L3_H128': ['output_type: embed',\n",
       "  'no_scale: true',\n",
       "  'nepochs: 100',\n",
       "  'nlayers: 3',\n",
       "  'nhidden: 128'],\n",
       " 'scanvi_E100_L1_H256': ['output_type: embed',\n",
       "  'no_scale: true',\n",
       "  'nepochs: 100',\n",
       "  'nlayers: 1',\n",
       "  'nhidden: 256'],\n",
       " 'scanvi_E100_L2_H256': ['output_type: embed',\n",
       "  'no_scale: true',\n",
       "  'nepochs: 100',\n",
       "  'nlayers: 2',\n",
       "  'nhidden: 256'],\n",
       " 'scanvi_E100_L3_H256': ['output_type: embed',\n",
       "  'no_scale: true',\n",
       "  'nepochs: 100',\n",
       "  'nlayers: 3',\n",
       "  'nhidden: 256',\n",
       "  '']}"
      ]
     },
     "execution_count": 52,
     "metadata": {},
     "output_type": "execute_result"
    }
   ],
   "source": [
    "methods_data"
   ]
  },
  {
   "cell_type": "code",
   "execution_count": 53,
   "id": "84fc3ca0",
   "metadata": {},
   "outputs": [],
   "source": [
    "for f in df['output']:\n",
    "    print(exists(f), f)"
   ]
  },
  {
   "cell_type": "markdown",
   "id": "1e926972",
   "metadata": {},
   "source": [
    "## To calculate embeddings and other stuff, we only rely on cases where all output is available."
   ]
  },
  {
   "cell_type": "code",
   "execution_count": 54,
   "id": "a2712d52",
   "metadata": {},
   "outputs": [],
   "source": [
    "done = {}\n",
    "df_all['case'] = list(df_all['input'].str.split('/').str[-5])\n",
    "for case, grp in df_all.groupby('method'):\n",
    "    all_found = sum(grp['out.exists']) == grp.shape[0]\n",
    "    print(case, grp.shape, sum(grp['out.exists']), all_found)"
   ]
  },
  {
   "cell_type": "code",
   "execution_count": 55,
   "id": "8daae8c0",
   "metadata": {},
   "outputs": [
    {
     "data": {
      "text/plain": [
       "0"
      ]
     },
     "execution_count": 55,
     "metadata": {},
     "output_type": "execute_result"
    }
   ],
   "source": [
    "len(queries_all)"
   ]
  },
  {
   "cell_type": "code",
   "execution_count": 56,
   "id": "0af05d25",
   "metadata": {},
   "outputs": [],
   "source": [
    "queries_postintegration = [q for q in queries_postintegration if 'save_embeddings.py' in q] #  in q or 'scripts/metrics.py' in q]\n",
    "# print(len(queries_postintegration))\n",
    "selected_cmds = []\n",
    "for q in queries_postintegration:\n",
    "    s = q.split(' ')\n",
    "    input_pos = [pi for pi, p in enumerate(s) if p == '-i' or p == '--input'][0]\n",
    "    input_path = s[input_pos + 1]\n",
    "    output_pos = [pi for pi, p in enumerate(s) if p == '-o' or p == '--outfile'][0]\n",
    "    output_path = s[output_pos + 1]\n",
    "\n",
    "    if exists(output_path):\n",
    "        print(os.path.exists(output_path), output_path)\n",
    "        # print(q)\n",
    "        continue\n",
    "    selected_cmds.append(q)\n",
    "writer = open('queries_postintegration_%s.sh' % 'save_embeddings', 'w')\n",
    "writer.writelines('\\n'.join(selected_cmds) + '\\n')\n",
    "writer.close()"
   ]
  },
  {
   "cell_type": "code",
   "execution_count": 57,
   "id": "ee9e9ef2",
   "metadata": {},
   "outputs": [
    {
     "data": {
      "text/plain": [
       "0"
      ]
     },
     "execution_count": 57,
     "metadata": {},
     "output_type": "execute_result"
    }
   ],
   "source": [
    "len(selected_cmds)"
   ]
  },
  {
   "cell_type": "code",
   "execution_count": 58,
   "id": "736f6f8d",
   "metadata": {},
   "outputs": [
    {
     "name": "stdout",
     "output_type": "stream",
     "text": [
      "-rw-r--r--. 1 ignacio.ibarra OG-ICB-User 1 Oct 12 14:07 queries_postintegration_save_embeddings.sh\n"
     ]
    }
   ],
   "source": [
    "!ls -ltrh 'queries_postintegration_save_embeddings.sh'"
   ]
  },
  {
   "cell_type": "code",
   "execution_count": 59,
   "id": "210e1c86",
   "metadata": {},
   "outputs": [
    {
     "name": "stdout",
     "output_type": "stream",
     "text": [
      "sbatch --array=0--1 submit_cpu_save_embeddings.sh\n"
     ]
    }
   ],
   "source": [
    "# this is the command one should run as a job array\n",
    "print('sbatch --array=0-%i %s' % (len(selected_cmds) - 1, 'submit_cpu_save_embeddings.sh'))"
   ]
  }
 ],
 "metadata": {
  "kernelspec": {
   "display_name": "Python [conda env:mypy3]",
   "language": "python",
   "name": "conda-env-mypy3-py"
  },
  "language_info": {
   "codemirror_mode": {
    "name": "ipython",
    "version": 3
   },
   "file_extension": ".py",
   "mimetype": "text/x-python",
   "name": "python",
   "nbconvert_exporter": "python",
   "pygments_lexer": "ipython3",
   "version": "3.8.13"
  }
 },
 "nbformat": 4,
 "nbformat_minor": 5
}
