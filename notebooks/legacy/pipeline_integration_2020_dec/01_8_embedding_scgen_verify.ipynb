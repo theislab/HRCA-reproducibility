{
 "cells": [
  {
   "cell_type": "code",
   "execution_count": 1,
   "metadata": {},
   "outputs": [],
   "source": [
    "import scanpy as sc"
   ]
  },
  {
   "cell_type": "code",
   "execution_count": 6,
   "metadata": {},
   "outputs": [],
   "source": [
    "from os.path import join\n",
    "import os"
   ]
  },
  {
   "cell_type": "code",
   "execution_count": 11,
   "metadata": {},
   "outputs": [],
   "source": [
    "p = join('/mnt/znas/icb_zstore01/groups/ml01/workspace/ignacio.ibarra',\n",
    "         'theislab/retinal_scRNAseq_integration/data/integration_march_2021/output/retinal_all_Chen+Hackney_batch_donor_dataset_cell.type',\n",
    "         'integration/unscaled/HVG.2K/scgen_E100.h5ad')"
   ]
  },
  {
   "cell_type": "code",
   "execution_count": 12,
   "metadata": {},
   "outputs": [
    {
     "data": {
      "text/plain": [
       "'/mnt/znas/icb_zstore01/groups/ml01/workspace/ignacio.ibarra/theislab/retinal_scRNAseq_integration/data/integration_march_2021/output/retinal_all_Chen+Hackney_batch_donor_dataset_cell.type/integration/unscaled/HVG.2K/scgen_E100.h5ad'"
      ]
     },
     "execution_count": 12,
     "metadata": {},
     "output_type": "execute_result"
    }
   ],
   "source": [
    "p"
   ]
  },
  {
   "cell_type": "code",
   "execution_count": 13,
   "metadata": {},
   "outputs": [
    {
     "name": "stdout",
     "output_type": "stream",
     "text": [
      "True\n"
     ]
    }
   ],
   "source": [
    "print(os.path.exists(p))"
   ]
  },
  {
   "cell_type": "code",
   "execution_count": 14,
   "metadata": {},
   "outputs": [],
   "source": [
    "ad = sc.read_h5ad(p)"
   ]
  },
  {
   "cell_type": "code",
   "execution_count": 15,
   "metadata": {},
   "outputs": [
    {
     "data": {
      "text/plain": [
       "(1907304, 2000)"
      ]
     },
     "execution_count": 15,
     "metadata": {},
     "output_type": "execute_result"
    }
   ],
   "source": [
    "ad.shape"
   ]
  },
  {
   "cell_type": "code",
   "execution_count": 23,
   "metadata": {},
   "outputs": [
    {
     "data": {
      "text/plain": [
       "array([[-3.3900986 ,  3.5111475 ,  3.4285276 , ..., -5.181853  ,\n",
       "         1.1941323 ,  2.482645  ],\n",
       "       [-2.2524872 , -2.163664  ,  4.358981  , ...,  1.7629993 ,\n",
       "        -4.093835  ,  4.3500767 ],\n",
       "       [ 0.07043314,  0.893476  ,  3.0069523 , ...,  0.7417289 ,\n",
       "        -2.8514898 ,  3.6380644 ],\n",
       "       ...,\n",
       "       [-0.6904181 , -0.1109705 ,  2.973665  , ..., -0.98119867,\n",
       "        -2.3953989 ,  5.315196  ],\n",
       "       [-0.21422017,  1.6230556 ,  1.9340961 , ..., -3.325179  ,\n",
       "         2.8809345 ,  1.6307557 ],\n",
       "       [ 0.5991281 ,  2.1400132 , -1.1945403 , ..., -4.5866385 ,\n",
       "         1.8722341 ,  2.6089313 ]], dtype=float32)"
      ]
     },
     "execution_count": 23,
     "metadata": {},
     "output_type": "execute_result"
    }
   ],
   "source": [
    "ad.obsm['latent']"
   ]
  },
  {
   "cell_type": "code",
   "execution_count": 22,
   "metadata": {},
   "outputs": [
    {
     "data": {
      "text/plain": [
       "array([[ 1.9612117e+00, -4.1682130e-01, -5.1507692e+00, ...,\n",
       "        -7.1102011e-01, -6.1498737e-01, -1.4505470e-01],\n",
       "       [-6.0773635e-01, -1.5809393e+00, -2.3193264e+00, ...,\n",
       "         2.8886764e+00, -8.0837464e-01,  1.8975329e+00],\n",
       "       [ 6.5351343e-01,  1.2551534e+00, -3.1097369e+00, ...,\n",
       "         7.1929896e-01,  7.1653366e-01, -5.5549145e-03],\n",
       "       ...,\n",
       "       [-1.1896133e-02, -1.0076270e+00, -1.7223274e+00, ...,\n",
       "         2.5343115e+00,  2.7846861e-01,  9.9839902e-01],\n",
       "       [ 2.1966434e-01, -1.1601613e+00, -4.1411829e-01, ...,\n",
       "         4.9381793e-01,  1.7249532e+00,  2.8921254e+00],\n",
       "       [-2.6287749e+00, -1.1027355e+00, -1.7267114e+00, ...,\n",
       "         5.5728555e+00,  1.3619137e+00,  1.9701908e+00]], dtype=float32)"
      ]
     },
     "execution_count": 22,
     "metadata": {},
     "output_type": "execute_result"
    }
   ],
   "source": [
    "ad.obsm['corrected_latent']"
   ]
  },
  {
   "cell_type": "code",
   "execution_count": 29,
   "metadata": {},
   "outputs": [
    {
     "data": {
      "text/plain": [
       "AnnData object with n_obs × n_vars = 1907304 × 2000\n",
       "    obs: 'RNA_snn_res.0.8', 'batch', 'dataset', 'filename', 'nCount_RNA', 'nFeature_RNA', 'orig.ident', 'scpred_AC', 'scpred_Astrocyte', 'scpred_BC', 'scpred_Cone', 'scpred_HC', 'scpred_MG', 'scpred_Microglia', 'scpred_RGC', 'scpred_RPE', 'scpred_Rod', 'scpred_max', 'scpred_prediction', 'seurat_clusters', 'size_factors', 'cell.type', 'batch.merged', 'donor', 'batch_donor_dataset', '_scvi_batch', '_scvi_labels', '_scvi_local_l_mean', '_scvi_local_l_var'\n",
       "    uns: '_scvi'\n",
       "    obsm: 'corrected_latent', 'latent'"
      ]
     },
     "execution_count": 29,
     "metadata": {},
     "output_type": "execute_result"
    }
   ],
   "source": [
    "ad"
   ]
  }
 ],
 "metadata": {
  "kernelspec": {
   "display_name": "Python [conda env:mypython3] *",
   "language": "python",
   "name": "conda-env-mypython3-py"
  },
  "language_info": {
   "codemirror_mode": {
    "name": "ipython",
    "version": 3
   },
   "file_extension": ".py",
   "mimetype": "text/x-python",
   "name": "python",
   "nbconvert_exporter": "python",
   "pygments_lexer": "ipython3",
   "version": "3.7.8"
  }
 },
 "nbformat": 4,
 "nbformat_minor": 4
}
