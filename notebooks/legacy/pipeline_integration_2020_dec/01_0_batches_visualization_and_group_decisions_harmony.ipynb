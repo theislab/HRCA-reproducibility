{
 "cells": [
  {
   "cell_type": "code",
   "execution_count": 1,
   "metadata": {},
   "outputs": [
    {
     "name": "stderr",
     "output_type": "stream",
     "text": [
      "/home/icb/ignacio.ibarra/miniconda3/envs/scIB-python/lib/python3.7/site-packages/anndata/_core/anndata.py:21: FutureWarning: pandas.core.index is deprecated and will be removed in a future version.  The public classes are available in the top-level namespace.\n",
      "  from pandas.core.index import RangeIndex\n"
     ]
    }
   ],
   "source": [
    "import scIB"
   ]
  },
  {
   "cell_type": "code",
   "execution_count": 2,
   "metadata": {},
   "outputs": [],
   "source": [
    "from os.path import abspath, join\n",
    "import os\n",
    "from os import listdir\n",
    "import scanpy as sc"
   ]
  },
  {
   "cell_type": "code",
   "execution_count": 3,
   "metadata": {},
   "outputs": [],
   "source": [
    "bydataset = '../../data/integration_march_2021/input/bydataset'"
   ]
  },
  {
   "cell_type": "code",
   "execution_count": 4,
   "metadata": {},
   "outputs": [],
   "source": [
    "# ad = sc.read_h5ad('../../data/integration_march_2021/input/input_all_cells.h5ad')"
   ]
  },
  {
   "cell_type": "code",
   "execution_count": 5,
   "metadata": {},
   "outputs": [
    {
     "data": {
      "text/plain": [
       "'/mnt/znas/icb_zstore01/groups/ml01/workspace/ignacio.ibarra/theislab/retinal_scRNAseq_integration/data/figures'"
      ]
     },
     "execution_count": 5,
     "metadata": {},
     "output_type": "execute_result"
    }
   ],
   "source": [
    "os.path.abspath('../../data/figures')"
   ]
  },
  {
   "cell_type": "code",
   "execution_count": 6,
   "metadata": {},
   "outputs": [],
   "source": [
    "import numpy as np"
   ]
  },
  {
   "cell_type": "code",
   "execution_count": 7,
   "metadata": {},
   "outputs": [],
   "source": [
    "for f in listdir(bydataset):\n",
    "    umap_path = '../../data/figures/%s_umap.png' % f.replace('.h5ad', '')\n",
    "    if os.path.exists(umap_path):\n",
    "        continue\n",
    "    print(f)\n",
    "    ad = sc.read_h5ad(join(bydataset, f))\n",
    "    print(ad.shape)\n",
    "    \n",
    "    print('normalization')\n",
    "    sc.pp.normalize_per_cell(ad, counts_per_cell_after=1e5)\n",
    "    sc.pp.log1p(ad)\n",
    "\n",
    "    sc.tl.pca(ad)\n",
    "    sc.pp.neighbors(ad)\n",
    "    sc.tl.umap(ad)\n",
    "    \n",
    "    ad.obs['scpred_prediction'] = ad.obs['scpred_prediction'] if 'scpred_prediction' in ad.obs else np.nan\n",
    "    sc.pl.umap(ad, color=['dataset', 'batch', 'scpred_prediction'], show=False)\n",
    "    plt.savefig(umap_path)\n",
    "    plt.close()\n"
   ]
  },
  {
   "cell_type": "code",
   "execution_count": 8,
   "metadata": {},
   "outputs": [],
   "source": [
    "sc.set_figure_params(facecolor='white')"
   ]
  },
  {
   "cell_type": "code",
   "execution_count": 9,
   "metadata": {},
   "outputs": [],
   "source": [
    "import matplotlib.pyplot as plt"
   ]
  },
  {
   "cell_type": "code",
   "execution_count": 11,
   "metadata": {},
   "outputs": [],
   "source": [
    "# p = '../../data/integration_march_2021/input/input_1000_cells.h5ad'"
   ]
  },
  {
   "cell_type": "code",
   "execution_count": 10,
   "metadata": {},
   "outputs": [],
   "source": [
    "p = '/mnt/znas/icb_zstore01/groups/ml01/workspace/ignacio.ibarra/theislab/scIB_output/retinal_all_donor_cell.type/integration/unscaled/hvg/R/harmony.h5ad'"
   ]
  },
  {
   "cell_type": "code",
   "execution_count": 12,
   "metadata": {},
   "outputs": [],
   "source": [
    "ad = sc.read_h5ad(p)"
   ]
  },
  {
   "cell_type": "code",
   "execution_count": 13,
   "metadata": {},
   "outputs": [],
   "source": [
    "# sc.pl.pca(ad, color=['dataset', 'batch', 'scpred_prediction'])"
   ]
  },
  {
   "cell_type": "code",
   "execution_count": 14,
   "metadata": {},
   "outputs": [],
   "source": [
    "# sc.pl.umap(ad_sel, color=['dataset', 'batch'])"
   ]
  },
  {
   "cell_type": "code",
   "execution_count": 13,
   "metadata": {},
   "outputs": [
    {
     "data": {
      "text/plain": [
       "AnnData object with n_obs × n_vars = 2159366 × 2000 \n",
       "    obs: 'RNA_snn_res.0.8', 'batch', 'dataset', 'filename', 'nCount_RNA', 'nFeature_RNA', 'orig.ident', 'scpred_AC', 'scpred_Astrocyte', 'scpred_BC', 'scpred_Cone', 'scpred_HC', 'scpred_MG', 'scpred_Microglia', 'scpred_RGC', 'scpred_RPE', 'scpred_Rod', 'scpred_max', 'scpred_prediction', 'seurat_clusters', 'size_factors', 'cell.type', 'batch.merged', 'donor', 'ident'\n",
       "    obsm: 'HARMONY', 'X_emb', 'X_pca'\n",
       "    layers: 'logcounts'"
      ]
     },
     "execution_count": 13,
     "metadata": {},
     "output_type": "execute_result"
    }
   ],
   "source": [
    "ad"
   ]
  },
  {
   "cell_type": "code",
   "execution_count": 14,
   "metadata": {},
   "outputs": [
    {
     "data": {
      "text/plain": [
       "Chen_a     1338319\n",
       "Chen_b      254881\n",
       "Chen_c      192326\n",
       "Roska       158368\n",
       "Hackney     121778\n",
       "Sanes        74980\n",
       "Wong         10707\n",
       "Scheetz       4459\n",
       "Hafler        3548\n",
       "Name: dataset, dtype: int64"
      ]
     },
     "execution_count": 14,
     "metadata": {},
     "output_type": "execute_result"
    }
   ],
   "source": [
    "ad.obs['dataset'].value_counts()"
   ]
  },
  {
   "cell_type": "code",
   "execution_count": 16,
   "metadata": {},
   "outputs": [
    {
     "data": {
      "text/plain": [
       "0     248394\n",
       "35    227481\n",
       "7     126491\n",
       "11    126305\n",
       "30     97844\n",
       "4      92040\n",
       "10     81043\n",
       "1      71576\n",
       "6      66360\n",
       "8      65797\n",
       "31     63772\n",
       "17     60955\n",
       "2      59154\n",
       "3      58966\n",
       "5      56964\n",
       "13     50683\n",
       "9      49271\n",
       "26     46970\n",
       "16     44424\n",
       "20     42206\n",
       "12     38319\n",
       "36     36774\n",
       "21     35129\n",
       "15     33771\n",
       "19     29980\n",
       "14     29083\n",
       "38     24536\n",
       "28     24382\n",
       "27     21693\n",
       "29     18088\n",
       "18     17590\n",
       "22     17003\n",
       "23     15290\n",
       "24     13372\n",
       "33     13321\n",
       "37     12448\n",
       "32     12095\n",
       "25     11725\n",
       "39     10702\n",
       "34      7369\n",
       "Name: batch, dtype: int64"
      ]
     },
     "execution_count": 16,
     "metadata": {},
     "output_type": "execute_result"
    }
   ],
   "source": [
    "ad.obs['batch'].value_counts()"
   ]
  },
  {
   "cell_type": "code",
   "execution_count": 17,
   "metadata": {},
   "outputs": [
    {
     "name": "stdout",
     "output_type": "stream",
     "text": [
      "RNA_snn_res.0.8 75\n",
      "batch 40\n",
      "dataset 9\n",
      "filename 142\n",
      "nCount_RNA 12455\n",
      "nFeature_RNA 1563\n",
      "orig.ident 2\n",
      "scpred_AC 2159283\n",
      "scpred_Astrocyte 2159313\n",
      "scpred_BC 2159365\n",
      "scpred_Cone 2159363\n",
      "scpred_HC 2159359\n",
      "scpred_MG 2159363\n",
      "scpred_Microglia 2159361\n",
      "scpred_RGC 2159364\n",
      "scpred_RPE 2159357\n",
      "scpred_Rod 2159357\n",
      "scpred_max 2159297\n",
      "scpred_prediction 11\n",
      "seurat_clusters 75\n",
      "size_factors 2159365\n",
      "cell.type 11\n",
      "batch.merged 142\n",
      "donor 50\n",
      "ident 50\n"
     ]
    }
   ],
   "source": [
    "for k in ad.obs:\n",
    "    print(k, len(set(ad.obs[k])))"
   ]
  },
  {
   "cell_type": "code",
   "execution_count": 18,
   "metadata": {},
   "outputs": [],
   "source": [
    "\n",
    "import pandas as pd"
   ]
  },
  {
   "cell_type": "code",
   "execution_count": 21,
   "metadata": {},
   "outputs": [
    {
     "ename": "KeyError",
     "evalue": "\"Could not find entry in `obsm` for 'umap'.\\nAvailable keys are: ['HARMONY', 'X_emb', 'X_pca'].\"",
     "output_type": "error",
     "traceback": [
      "\u001b[0;31m---------------------------------------------------------------------------\u001b[0m",
      "\u001b[0;31mKeyError\u001b[0m                                  Traceback (most recent call last)",
      "\u001b[0;32m<ipython-input-21-011d77b42cac>\u001b[0m in \u001b[0;36m<module>\u001b[0;34m\u001b[0m\n\u001b[0;32m----> 1\u001b[0;31m \u001b[0msc\u001b[0m\u001b[0;34m.\u001b[0m\u001b[0mpl\u001b[0m\u001b[0;34m.\u001b[0m\u001b[0mumap\u001b[0m\u001b[0;34m(\u001b[0m\u001b[0mad\u001b[0m\u001b[0;34m,\u001b[0m \u001b[0mcolor\u001b[0m\u001b[0;34m=\u001b[0m\u001b[0;34m'donor'\u001b[0m\u001b[0;34m)\u001b[0m\u001b[0;34m\u001b[0m\u001b[0;34m\u001b[0m\u001b[0m\n\u001b[0m",
      "\u001b[0;32m~/miniconda3/envs/scIB-python/lib/python3.7/site-packages/scanpy/plotting/_tools/scatterplots.py\u001b[0m in \u001b[0;36mumap\u001b[0;34m(adata, **kwargs)\u001b[0m\n\u001b[1;32m    610\u001b[0m     \u001b[0mIf\u001b[0m\u001b[0;31m \u001b[0m\u001b[0;31m`\u001b[0m\u001b[0mshow\u001b[0m\u001b[0;34m==\u001b[0m\u001b[0;32mFalse\u001b[0m\u001b[0;31m`\u001b[0m \u001b[0ma\u001b[0m \u001b[0;34m:\u001b[0m\u001b[0;32mclass\u001b[0m\u001b[0;34m:\u001b[0m\u001b[0;31m`\u001b[0m\u001b[0;34m~\u001b[0m\u001b[0mmatplotlib\u001b[0m\u001b[0;34m.\u001b[0m\u001b[0maxes\u001b[0m\u001b[0;34m.\u001b[0m\u001b[0mAxes\u001b[0m\u001b[0;31m`\u001b[0m \u001b[0;32mor\u001b[0m \u001b[0ma\u001b[0m \u001b[0mlist\u001b[0m \u001b[0mof\u001b[0m \u001b[0mit\u001b[0m\u001b[0;34m.\u001b[0m\u001b[0;34m\u001b[0m\u001b[0;34m\u001b[0m\u001b[0m\n\u001b[1;32m    611\u001b[0m     \"\"\"\n\u001b[0;32m--> 612\u001b[0;31m     \u001b[0;32mreturn\u001b[0m \u001b[0membedding\u001b[0m\u001b[0;34m(\u001b[0m\u001b[0madata\u001b[0m\u001b[0;34m,\u001b[0m \u001b[0;34m'umap'\u001b[0m\u001b[0;34m,\u001b[0m \u001b[0;34m**\u001b[0m\u001b[0mkwargs\u001b[0m\u001b[0;34m)\u001b[0m\u001b[0;34m\u001b[0m\u001b[0;34m\u001b[0m\u001b[0m\n\u001b[0m\u001b[1;32m    613\u001b[0m \u001b[0;34m\u001b[0m\u001b[0m\n\u001b[1;32m    614\u001b[0m \u001b[0;34m\u001b[0m\u001b[0m\n",
      "\u001b[0;32m~/miniconda3/envs/scIB-python/lib/python3.7/site-packages/scanpy/plotting/_tools/scatterplots.py\u001b[0m in \u001b[0;36membedding\u001b[0;34m(adata, basis, color, gene_symbols, use_raw, sort_order, edges, edges_width, edges_color, arrows, arrows_kwds, groups, components, layer, projection, img_key, crop_coord, alpha_img, bw, color_map, palette, size, frameon, legend_fontsize, legend_fontweight, legend_loc, legend_fontoutline, vmax, vmin, add_outline, outline_width, outline_color, ncols, hspace, wspace, title, show, save, ax, return_fig, **kwargs)\u001b[0m\n\u001b[1;32m    151\u001b[0m     \u001b[0;31m# (only if components is not None)\u001b[0m\u001b[0;34m\u001b[0m\u001b[0;34m\u001b[0m\u001b[0;34m\u001b[0m\u001b[0m\n\u001b[1;32m    152\u001b[0m     data_points, components_list = _get_data_points(\n\u001b[0;32m--> 153\u001b[0;31m         \u001b[0madata\u001b[0m\u001b[0;34m,\u001b[0m \u001b[0mbasis\u001b[0m\u001b[0;34m,\u001b[0m \u001b[0mprojection\u001b[0m\u001b[0;34m,\u001b[0m \u001b[0mcomponents\u001b[0m\u001b[0;34m,\u001b[0m \u001b[0mimg_key\u001b[0m\u001b[0;34m\u001b[0m\u001b[0;34m\u001b[0m\u001b[0m\n\u001b[0m\u001b[1;32m    154\u001b[0m     )\n\u001b[1;32m    155\u001b[0m \u001b[0;34m\u001b[0m\u001b[0m\n",
      "\u001b[0;32m~/miniconda3/envs/scIB-python/lib/python3.7/site-packages/scanpy/plotting/_tools/scatterplots.py\u001b[0m in \u001b[0;36m_get_data_points\u001b[0;34m(adata, basis, projection, components, img_key)\u001b[0m\n\u001b[1;32m    802\u001b[0m     \u001b[0;32melse\u001b[0m\u001b[0;34m:\u001b[0m\u001b[0;34m\u001b[0m\u001b[0;34m\u001b[0m\u001b[0m\n\u001b[1;32m    803\u001b[0m         raise KeyError(\n\u001b[0;32m--> 804\u001b[0;31m             \u001b[0;34mf\"Could not find entry in `obsm` for '{basis}'.\\n\"\u001b[0m\u001b[0;34m\u001b[0m\u001b[0;34m\u001b[0m\u001b[0m\n\u001b[0m\u001b[1;32m    805\u001b[0m             \u001b[0;34mf\"Available keys are: {list(adata.obsm.keys())}.\"\u001b[0m\u001b[0;34m\u001b[0m\u001b[0;34m\u001b[0m\u001b[0m\n\u001b[1;32m    806\u001b[0m         )\n",
      "\u001b[0;31mKeyError\u001b[0m: \"Could not find entry in `obsm` for 'umap'.\\nAvailable keys are: ['HARMONY', 'X_emb', 'X_pca'].\""
     ]
    }
   ],
   "source": [
    "sc.pl.umap(ad, color='donor')"
   ]
  },
  {
   "cell_type": "code",
   "execution_count": 63,
   "metadata": {},
   "outputs": [],
   "source": [
    "# print(ad.obs['donor'].value_counts().shape, ad.obs['batch'].value_counts().shape)\n",
    "ad.obs['donor.n.batch'] = (ad.obs['donor'].astype(str) + ':' + ad.obs['batch'].astype(str))"
   ]
  },
  {
   "cell_type": "code",
   "execution_count": 65,
   "metadata": {},
   "outputs": [
    {
     "name": "stdout",
     "output_type": "stream",
     "text": [
      "donor\n",
      "batch\n",
      "dataset\n",
      "batch.merged\n",
      "cell.type\n"
     ]
    }
   ],
   "source": [
    "res_all = []\n",
    "for k in ['donor', 'batch', 'dataset', 'batch.merged', 'cell.type']:\n",
    "    print(k)\n",
    "    res_all.append([k, len(set(ad.obs[k])), scIB.me.pcr(ad, k)])\n",
    "df = pd.DataFrame(res_all, columns=['k', 'n.labels', 'PCR'])"
   ]
  },
  {
   "cell_type": "code",
   "execution_count": 66,
   "metadata": {},
   "outputs": [
    {
     "data": {
      "text/html": [
       "<div>\n",
       "<style scoped>\n",
       "    .dataframe tbody tr th:only-of-type {\n",
       "        vertical-align: middle;\n",
       "    }\n",
       "\n",
       "    .dataframe tbody tr th {\n",
       "        vertical-align: top;\n",
       "    }\n",
       "\n",
       "    .dataframe thead th {\n",
       "        text-align: right;\n",
       "    }\n",
       "</style>\n",
       "<table border=\"1\" class=\"dataframe\">\n",
       "  <thead>\n",
       "    <tr style=\"text-align: right;\">\n",
       "      <th></th>\n",
       "      <th>k</th>\n",
       "      <th>n.labels</th>\n",
       "      <th>PCR</th>\n",
       "    </tr>\n",
       "  </thead>\n",
       "  <tbody>\n",
       "    <tr>\n",
       "      <th>2</th>\n",
       "      <td>dataset</td>\n",
       "      <td>9</td>\n",
       "      <td>0.139663</td>\n",
       "    </tr>\n",
       "    <tr>\n",
       "      <th>4</th>\n",
       "      <td>cell.type</td>\n",
       "      <td>11</td>\n",
       "      <td>0.181280</td>\n",
       "    </tr>\n",
       "    <tr>\n",
       "      <th>1</th>\n",
       "      <td>batch</td>\n",
       "      <td>40</td>\n",
       "      <td>0.051304</td>\n",
       "    </tr>\n",
       "    <tr>\n",
       "      <th>0</th>\n",
       "      <td>donor</td>\n",
       "      <td>50</td>\n",
       "      <td>0.147762</td>\n",
       "    </tr>\n",
       "    <tr>\n",
       "      <th>3</th>\n",
       "      <td>batch.merged</td>\n",
       "      <td>142</td>\n",
       "      <td>0.219455</td>\n",
       "    </tr>\n",
       "  </tbody>\n",
       "</table>\n",
       "</div>"
      ],
      "text/plain": [
       "              k  n.labels       PCR\n",
       "2       dataset         9  0.139663\n",
       "4     cell.type        11  0.181280\n",
       "1         batch        40  0.051304\n",
       "0         donor        50  0.147762\n",
       "3  batch.merged       142  0.219455"
      ]
     },
     "execution_count": 66,
     "metadata": {},
     "output_type": "execute_result"
    }
   ],
   "source": [
    "df.sort_values('n.labels')"
   ]
  },
  {
   "cell_type": "code",
   "execution_count": 67,
   "metadata": {},
   "outputs": [],
   "source": [
    "df['dataset'] = 'all'"
   ]
  },
  {
   "cell_type": "code",
   "execution_count": 68,
   "metadata": {},
   "outputs": [
    {
     "name": "stdout",
     "output_type": "stream",
     "text": [
      "Hafler\n",
      "6 6\n",
      "Chen_b\n",
      "15 15\n",
      "Chen_a\n"
     ]
    },
    {
     "name": "stderr",
     "output_type": "stream",
     "text": [
      "/home/icb/ignacio.ibarra/miniconda3/envs/scIB-python/lib/python3.7/site-packages/anndata/_core/anndata.py:1056: FutureWarning: is_categorical is deprecated and will be removed in a future version.  Use is_categorical_dtype instead\n",
      "  if not is_categorical(df_full[k]):\n",
      "/home/icb/ignacio.ibarra/miniconda3/envs/scIB-python/lib/python3.7/site-packages/pandas/core/arrays/categorical.py:2487: FutureWarning: The `inplace` parameter in pandas.Categorical.remove_unused_categories is deprecated and will be removed in a future version.\n",
      "  res = method(*args, **kwargs)\n"
     ]
    },
    {
     "name": "stdout",
     "output_type": "stream",
     "text": [
      "40 40\n",
      "Wong\n",
      "5 5\n",
      "Chen_c\n",
      "20 20\n",
      "Hackney\n",
      "11 11\n",
      "Roska\n",
      "21 21\n",
      "Sanes\n",
      "18 18\n",
      "Scheetz\n",
      "6 6\n"
     ]
    }
   ],
   "source": [
    "for dataset in set(ad.obs['dataset']):\n",
    "    print(dataset)\n",
    "    ad_sel = ad[ad.obs['dataset'] == dataset,:]\n",
    "    print(len(ad_sel.obs['batch.merged'].value_counts()), len(ad_sel.obs['batch'].value_counts()))"
   ]
  },
  {
   "cell_type": "code",
   "execution_count": 69,
   "metadata": {},
   "outputs": [
    {
     "name": "stdout",
     "output_type": "stream",
     "text": [
      "Hafler\n",
      "(3548, 2000)\n",
      "Chen_b\n",
      "(254881, 2000)\n"
     ]
    },
    {
     "name": "stderr",
     "output_type": "stream",
     "text": [
      "/home/icb/ignacio.ibarra/miniconda3/envs/scIB-python/lib/python3.7/site-packages/anndata/_core/anndata.py:1056: FutureWarning: is_categorical is deprecated and will be removed in a future version.  Use is_categorical_dtype instead\n",
      "  if not is_categorical(df_full[k]):\n",
      "/home/icb/ignacio.ibarra/miniconda3/envs/scIB-python/lib/python3.7/site-packages/pandas/core/arrays/categorical.py:2487: FutureWarning: The `inplace` parameter in pandas.Categorical.remove_unused_categories is deprecated and will be removed in a future version.\n",
      "  res = method(*args, **kwargs)\n"
     ]
    },
    {
     "name": "stdout",
     "output_type": "stream",
     "text": [
      "Chen_a\n"
     ]
    },
    {
     "name": "stderr",
     "output_type": "stream",
     "text": [
      "/home/icb/ignacio.ibarra/miniconda3/envs/scIB-python/lib/python3.7/site-packages/anndata/_core/anndata.py:1056: FutureWarning: is_categorical is deprecated and will be removed in a future version.  Use is_categorical_dtype instead\n",
      "  if not is_categorical(df_full[k]):\n",
      "/home/icb/ignacio.ibarra/miniconda3/envs/scIB-python/lib/python3.7/site-packages/pandas/core/arrays/categorical.py:2487: FutureWarning: The `inplace` parameter in pandas.Categorical.remove_unused_categories is deprecated and will be removed in a future version.\n",
      "  res = method(*args, **kwargs)\n"
     ]
    },
    {
     "name": "stdout",
     "output_type": "stream",
     "text": [
      "(1338319, 2000)\n",
      "Wong\n"
     ]
    },
    {
     "name": "stderr",
     "output_type": "stream",
     "text": [
      "/home/icb/ignacio.ibarra/miniconda3/envs/scIB-python/lib/python3.7/site-packages/anndata/_core/anndata.py:1056: FutureWarning: is_categorical is deprecated and will be removed in a future version.  Use is_categorical_dtype instead\n",
      "  if not is_categorical(df_full[k]):\n",
      "/home/icb/ignacio.ibarra/miniconda3/envs/scIB-python/lib/python3.7/site-packages/pandas/core/arrays/categorical.py:2487: FutureWarning: The `inplace` parameter in pandas.Categorical.remove_unused_categories is deprecated and will be removed in a future version.\n",
      "  res = method(*args, **kwargs)\n"
     ]
    },
    {
     "name": "stdout",
     "output_type": "stream",
     "text": [
      "(10707, 2000)\n",
      "Chen_c\n",
      "(192326, 2000)\n"
     ]
    },
    {
     "name": "stderr",
     "output_type": "stream",
     "text": [
      "/home/icb/ignacio.ibarra/miniconda3/envs/scIB-python/lib/python3.7/site-packages/anndata/_core/anndata.py:1056: FutureWarning: is_categorical is deprecated and will be removed in a future version.  Use is_categorical_dtype instead\n",
      "  if not is_categorical(df_full[k]):\n",
      "/home/icb/ignacio.ibarra/miniconda3/envs/scIB-python/lib/python3.7/site-packages/pandas/core/arrays/categorical.py:2487: FutureWarning: The `inplace` parameter in pandas.Categorical.remove_unused_categories is deprecated and will be removed in a future version.\n",
      "  res = method(*args, **kwargs)\n"
     ]
    },
    {
     "name": "stdout",
     "output_type": "stream",
     "text": [
      "Hackney\n",
      "(121778, 2000)\n"
     ]
    },
    {
     "name": "stderr",
     "output_type": "stream",
     "text": [
      "/home/icb/ignacio.ibarra/miniconda3/envs/scIB-python/lib/python3.7/site-packages/anndata/_core/anndata.py:1056: FutureWarning: is_categorical is deprecated and will be removed in a future version.  Use is_categorical_dtype instead\n",
      "  if not is_categorical(df_full[k]):\n",
      "/home/icb/ignacio.ibarra/miniconda3/envs/scIB-python/lib/python3.7/site-packages/pandas/core/arrays/categorical.py:2487: FutureWarning: The `inplace` parameter in pandas.Categorical.remove_unused_categories is deprecated and will be removed in a future version.\n",
      "  res = method(*args, **kwargs)\n"
     ]
    },
    {
     "name": "stdout",
     "output_type": "stream",
     "text": [
      "Roska\n",
      "(158368, 2000)\n"
     ]
    },
    {
     "name": "stderr",
     "output_type": "stream",
     "text": [
      "/home/icb/ignacio.ibarra/miniconda3/envs/scIB-python/lib/python3.7/site-packages/anndata/_core/anndata.py:1056: FutureWarning: is_categorical is deprecated and will be removed in a future version.  Use is_categorical_dtype instead\n",
      "  if not is_categorical(df_full[k]):\n",
      "/home/icb/ignacio.ibarra/miniconda3/envs/scIB-python/lib/python3.7/site-packages/pandas/core/arrays/categorical.py:2487: FutureWarning: The `inplace` parameter in pandas.Categorical.remove_unused_categories is deprecated and will be removed in a future version.\n",
      "  res = method(*args, **kwargs)\n"
     ]
    },
    {
     "name": "stdout",
     "output_type": "stream",
     "text": [
      "Sanes\n",
      "(74980, 2000)\n"
     ]
    },
    {
     "name": "stderr",
     "output_type": "stream",
     "text": [
      "/home/icb/ignacio.ibarra/miniconda3/envs/scIB-python/lib/python3.7/site-packages/anndata/_core/anndata.py:1056: FutureWarning: is_categorical is deprecated and will be removed in a future version.  Use is_categorical_dtype instead\n",
      "  if not is_categorical(df_full[k]):\n",
      "/home/icb/ignacio.ibarra/miniconda3/envs/scIB-python/lib/python3.7/site-packages/pandas/core/arrays/categorical.py:2487: FutureWarning: The `inplace` parameter in pandas.Categorical.remove_unused_categories is deprecated and will be removed in a future version.\n",
      "  res = method(*args, **kwargs)\n"
     ]
    },
    {
     "name": "stdout",
     "output_type": "stream",
     "text": [
      "Scheetz\n",
      "(4459, 2000)\n"
     ]
    },
    {
     "name": "stderr",
     "output_type": "stream",
     "text": [
      "/home/icb/ignacio.ibarra/miniconda3/envs/scIB-python/lib/python3.7/site-packages/anndata/_core/anndata.py:1056: FutureWarning: is_categorical is deprecated and will be removed in a future version.  Use is_categorical_dtype instead\n",
      "  if not is_categorical(df_full[k]):\n",
      "/home/icb/ignacio.ibarra/miniconda3/envs/scIB-python/lib/python3.7/site-packages/pandas/core/arrays/categorical.py:2487: FutureWarning: The `inplace` parameter in pandas.Categorical.remove_unused_categories is deprecated and will be removed in a future version.\n",
      "  res = method(*args, **kwargs)\n"
     ]
    }
   ],
   "source": [
    "df_all = []\n",
    "for dataset in set(ad.obs['dataset']):\n",
    "    print(dataset)\n",
    "    ad_sel = ad[ad.obs['dataset'] == dataset,:]\n",
    "    print(ad_sel.shape)\n",
    "    df2 = pd.DataFrame([[k, len(set(ad_sel.obs[k])), scIB.me.pcr(ad_sel, k)]\n",
    "                        for k in ['donor', 'batch', 'dataset', 'batch.merged', 'donor.n.batch', 'cell.type']], columns=['k', 'n.labels', 'PCR'])\n",
    "    df2['dataset'] = dataset\n",
    "    df_all.append(df2)"
   ]
  },
  {
   "cell_type": "code",
   "execution_count": 70,
   "metadata": {},
   "outputs": [],
   "source": [
    "# res = pd.concat(df_all)\n",
    "res = pd.concat([df, pd.concat(df_all)])"
   ]
  },
  {
   "cell_type": "code",
   "execution_count": 71,
   "metadata": {},
   "outputs": [],
   "source": [
    "# remove this label (mistake and it has to be checked)\n",
    "res = res[~res['k'].str.contains('sample.40')]"
   ]
  },
  {
   "cell_type": "code",
   "execution_count": 72,
   "metadata": {},
   "outputs": [],
   "source": [
    "import seaborn as sns\n",
    "from matplotlib import rcParams"
   ]
  },
  {
   "cell_type": "code",
   "execution_count": 73,
   "metadata": {},
   "outputs": [],
   "source": [
    "rcParams['figure.figsize'] = 10, 5"
   ]
  },
  {
   "cell_type": "code",
   "execution_count": 74,
   "metadata": {},
   "outputs": [
    {
     "data": {
      "text/plain": [
       "(40, 142, 50)"
      ]
     },
     "execution_count": 74,
     "metadata": {},
     "output_type": "execute_result"
    }
   ],
   "source": [
    "len(set(ad.obs['batch'])), len(set(ad.obs['batch.merged'])), len(set(ad.obs['donor']))"
   ]
  },
  {
   "cell_type": "code",
   "execution_count": 75,
   "metadata": {},
   "outputs": [
    {
     "data": {
      "text/html": [
       "<div>\n",
       "<style scoped>\n",
       "    .dataframe tbody tr th:only-of-type {\n",
       "        vertical-align: middle;\n",
       "    }\n",
       "\n",
       "    .dataframe tbody tr th {\n",
       "        vertical-align: top;\n",
       "    }\n",
       "\n",
       "    .dataframe thead th {\n",
       "        text-align: right;\n",
       "    }\n",
       "</style>\n",
       "<table border=\"1\" class=\"dataframe\">\n",
       "  <thead>\n",
       "    <tr style=\"text-align: right;\">\n",
       "      <th>dataset</th>\n",
       "      <th>Chen_a</th>\n",
       "      <th>Chen_b</th>\n",
       "      <th>Chen_c</th>\n",
       "      <th>Hackney</th>\n",
       "      <th>Hafler</th>\n",
       "      <th>Roska</th>\n",
       "      <th>Sanes</th>\n",
       "      <th>Scheetz</th>\n",
       "      <th>Wong</th>\n",
       "      <th>all</th>\n",
       "    </tr>\n",
       "    <tr>\n",
       "      <th>k</th>\n",
       "      <th></th>\n",
       "      <th></th>\n",
       "      <th></th>\n",
       "      <th></th>\n",
       "      <th></th>\n",
       "      <th></th>\n",
       "      <th></th>\n",
       "      <th></th>\n",
       "      <th></th>\n",
       "      <th></th>\n",
       "    </tr>\n",
       "  </thead>\n",
       "  <tbody>\n",
       "    <tr>\n",
       "      <th>cell.type</th>\n",
       "      <td>11.0</td>\n",
       "      <td>11.0</td>\n",
       "      <td>11.0</td>\n",
       "      <td>11.0</td>\n",
       "      <td>10.0</td>\n",
       "      <td>11.0</td>\n",
       "      <td>11.0</td>\n",
       "      <td>11.0</td>\n",
       "      <td>11.0</td>\n",
       "      <td>11.0</td>\n",
       "    </tr>\n",
       "    <tr>\n",
       "      <th>dataset.9</th>\n",
       "      <td>1.0</td>\n",
       "      <td>1.0</td>\n",
       "      <td>1.0</td>\n",
       "      <td>1.0</td>\n",
       "      <td>1.0</td>\n",
       "      <td>1.0</td>\n",
       "      <td>1.0</td>\n",
       "      <td>1.0</td>\n",
       "      <td>1.0</td>\n",
       "      <td>9.0</td>\n",
       "    </tr>\n",
       "    <tr>\n",
       "      <th>donor</th>\n",
       "      <td>20.0</td>\n",
       "      <td>6.0</td>\n",
       "      <td>20.0</td>\n",
       "      <td>4.0</td>\n",
       "      <td>3.0</td>\n",
       "      <td>4.0</td>\n",
       "      <td>7.0</td>\n",
       "      <td>3.0</td>\n",
       "      <td>3.0</td>\n",
       "      <td>50.0</td>\n",
       "    </tr>\n",
       "    <tr>\n",
       "      <th>donor.n.batch</th>\n",
       "      <td>40.0</td>\n",
       "      <td>15.0</td>\n",
       "      <td>20.0</td>\n",
       "      <td>11.0</td>\n",
       "      <td>6.0</td>\n",
       "      <td>21.0</td>\n",
       "      <td>18.0</td>\n",
       "      <td>6.0</td>\n",
       "      <td>5.0</td>\n",
       "      <td>NaN</td>\n",
       "    </tr>\n",
       "    <tr>\n",
       "      <th>sample.142</th>\n",
       "      <td>40.0</td>\n",
       "      <td>15.0</td>\n",
       "      <td>20.0</td>\n",
       "      <td>11.0</td>\n",
       "      <td>6.0</td>\n",
       "      <td>21.0</td>\n",
       "      <td>18.0</td>\n",
       "      <td>6.0</td>\n",
       "      <td>5.0</td>\n",
       "      <td>142.0</td>\n",
       "    </tr>\n",
       "    <tr>\n",
       "      <th>sample.40</th>\n",
       "      <td>40.0</td>\n",
       "      <td>15.0</td>\n",
       "      <td>20.0</td>\n",
       "      <td>11.0</td>\n",
       "      <td>6.0</td>\n",
       "      <td>21.0</td>\n",
       "      <td>18.0</td>\n",
       "      <td>6.0</td>\n",
       "      <td>5.0</td>\n",
       "      <td>40.0</td>\n",
       "    </tr>\n",
       "  </tbody>\n",
       "</table>\n",
       "</div>"
      ],
      "text/plain": [
       "dataset        Chen_a  Chen_b  Chen_c  Hackney  Hafler  Roska  Sanes  Scheetz  \\\n",
       "k                                                                               \n",
       "cell.type        11.0    11.0    11.0     11.0    10.0   11.0   11.0     11.0   \n",
       "dataset.9         1.0     1.0     1.0      1.0     1.0    1.0    1.0      1.0   \n",
       "donor            20.0     6.0    20.0      4.0     3.0    4.0    7.0      3.0   \n",
       "donor.n.batch    40.0    15.0    20.0     11.0     6.0   21.0   18.0      6.0   \n",
       "sample.142       40.0    15.0    20.0     11.0     6.0   21.0   18.0      6.0   \n",
       "sample.40        40.0    15.0    20.0     11.0     6.0   21.0   18.0      6.0   \n",
       "\n",
       "dataset        Wong    all  \n",
       "k                           \n",
       "cell.type      11.0   11.0  \n",
       "dataset.9       1.0    9.0  \n",
       "donor           3.0   50.0  \n",
       "donor.n.batch   5.0    NaN  \n",
       "sample.142      5.0  142.0  \n",
       "sample.40       5.0   40.0  "
      ]
     },
     "execution_count": 75,
     "metadata": {},
     "output_type": "execute_result"
    }
   ],
   "source": [
    "# resb\n",
    "d = {'batch': 'sample.40', 'batch.merged': 'sample.142', 'dataset': 'dataset.9'}\n",
    "res['k'] = np.where(~pd.isnull(res['k'].map(d)), res['k'].map(d), res['k'])\n",
    "hm = res.pivot('dataset', 'k', 'n.labels').T\n",
    "order = hm.columns\n",
    "hm"
   ]
  },
  {
   "cell_type": "code",
   "execution_count": 76,
   "metadata": {},
   "outputs": [
    {
     "data": {
      "text/html": [
       "<div>\n",
       "<style scoped>\n",
       "    .dataframe tbody tr th:only-of-type {\n",
       "        vertical-align: middle;\n",
       "    }\n",
       "\n",
       "    .dataframe tbody tr th {\n",
       "        vertical-align: top;\n",
       "    }\n",
       "\n",
       "    .dataframe thead th {\n",
       "        text-align: right;\n",
       "    }\n",
       "</style>\n",
       "<table border=\"1\" class=\"dataframe\">\n",
       "  <thead>\n",
       "    <tr style=\"text-align: right;\">\n",
       "      <th>dataset</th>\n",
       "      <th>Wong</th>\n",
       "      <th>Hackney</th>\n",
       "      <th>Roska</th>\n",
       "      <th>Hafler</th>\n",
       "      <th>Chen_b</th>\n",
       "      <th>Scheetz</th>\n",
       "      <th>Chen_c</th>\n",
       "      <th>Sanes</th>\n",
       "      <th>Chen_a</th>\n",
       "      <th>all</th>\n",
       "    </tr>\n",
       "    <tr>\n",
       "      <th>k</th>\n",
       "      <th></th>\n",
       "      <th></th>\n",
       "      <th></th>\n",
       "      <th></th>\n",
       "      <th></th>\n",
       "      <th></th>\n",
       "      <th></th>\n",
       "      <th></th>\n",
       "      <th></th>\n",
       "      <th></th>\n",
       "    </tr>\n",
       "  </thead>\n",
       "  <tbody>\n",
       "    <tr>\n",
       "      <th>cell.type</th>\n",
       "      <td>11.0</td>\n",
       "      <td>11.0</td>\n",
       "      <td>11.0</td>\n",
       "      <td>10.0</td>\n",
       "      <td>11.0</td>\n",
       "      <td>11.0</td>\n",
       "      <td>11.0</td>\n",
       "      <td>11.0</td>\n",
       "      <td>11.0</td>\n",
       "      <td>11.0</td>\n",
       "    </tr>\n",
       "    <tr>\n",
       "      <th>dataset.9</th>\n",
       "      <td>1.0</td>\n",
       "      <td>1.0</td>\n",
       "      <td>1.0</td>\n",
       "      <td>1.0</td>\n",
       "      <td>1.0</td>\n",
       "      <td>1.0</td>\n",
       "      <td>1.0</td>\n",
       "      <td>1.0</td>\n",
       "      <td>1.0</td>\n",
       "      <td>9.0</td>\n",
       "    </tr>\n",
       "    <tr>\n",
       "      <th>donor</th>\n",
       "      <td>3.0</td>\n",
       "      <td>4.0</td>\n",
       "      <td>4.0</td>\n",
       "      <td>3.0</td>\n",
       "      <td>6.0</td>\n",
       "      <td>3.0</td>\n",
       "      <td>20.0</td>\n",
       "      <td>7.0</td>\n",
       "      <td>20.0</td>\n",
       "      <td>50.0</td>\n",
       "    </tr>\n",
       "    <tr>\n",
       "      <th>donor.n.batch</th>\n",
       "      <td>5.0</td>\n",
       "      <td>11.0</td>\n",
       "      <td>21.0</td>\n",
       "      <td>6.0</td>\n",
       "      <td>15.0</td>\n",
       "      <td>6.0</td>\n",
       "      <td>20.0</td>\n",
       "      <td>18.0</td>\n",
       "      <td>40.0</td>\n",
       "      <td>NaN</td>\n",
       "    </tr>\n",
       "    <tr>\n",
       "      <th>sample.142</th>\n",
       "      <td>5.0</td>\n",
       "      <td>11.0</td>\n",
       "      <td>21.0</td>\n",
       "      <td>6.0</td>\n",
       "      <td>15.0</td>\n",
       "      <td>6.0</td>\n",
       "      <td>20.0</td>\n",
       "      <td>18.0</td>\n",
       "      <td>40.0</td>\n",
       "      <td>142.0</td>\n",
       "    </tr>\n",
       "    <tr>\n",
       "      <th>sample.40</th>\n",
       "      <td>5.0</td>\n",
       "      <td>11.0</td>\n",
       "      <td>21.0</td>\n",
       "      <td>6.0</td>\n",
       "      <td>15.0</td>\n",
       "      <td>6.0</td>\n",
       "      <td>20.0</td>\n",
       "      <td>18.0</td>\n",
       "      <td>40.0</td>\n",
       "      <td>40.0</td>\n",
       "    </tr>\n",
       "  </tbody>\n",
       "</table>\n",
       "</div>"
      ],
      "text/plain": [
       "dataset        Wong  Hackney  Roska  Hafler  Chen_b  Scheetz  Chen_c  Sanes  \\\n",
       "k                                                                             \n",
       "cell.type      11.0     11.0   11.0    10.0    11.0     11.0    11.0   11.0   \n",
       "dataset.9       1.0      1.0    1.0     1.0     1.0      1.0     1.0    1.0   \n",
       "donor           3.0      4.0    4.0     3.0     6.0      3.0    20.0    7.0   \n",
       "donor.n.batch   5.0     11.0   21.0     6.0    15.0      6.0    20.0   18.0   \n",
       "sample.142      5.0     11.0   21.0     6.0    15.0      6.0    20.0   18.0   \n",
       "sample.40       5.0     11.0   21.0     6.0    15.0      6.0    20.0   18.0   \n",
       "\n",
       "dataset        Chen_a    all  \n",
       "k                             \n",
       "cell.type        11.0   11.0  \n",
       "dataset.9         1.0    9.0  \n",
       "donor            20.0   50.0  \n",
       "donor.n.batch    40.0    NaN  \n",
       "sample.142       40.0  142.0  \n",
       "sample.40        40.0   40.0  "
      ]
     },
     "execution_count": 76,
     "metadata": {},
     "output_type": "execute_result"
    }
   ],
   "source": [
    "order = res[res['k'] == 'donor'].sort_values('PCR').dataset.values\n",
    "hm[order]"
   ]
  },
  {
   "cell_type": "code",
   "execution_count": 77,
   "metadata": {},
   "outputs": [
    {
     "data": {
      "text/plain": [
       "array(['Wong', 'Hackney', 'Roska', 'Hafler', 'Chen_b', 'Scheetz',\n",
       "       'Chen_c', 'Sanes', 'Chen_a', 'all'], dtype=object)"
      ]
     },
     "execution_count": 77,
     "metadata": {},
     "output_type": "execute_result"
    }
   ],
   "source": [
    "order"
   ]
  },
  {
   "cell_type": "code",
   "execution_count": 78,
   "metadata": {},
   "outputs": [
    {
     "data": {
      "text/html": [
       "<div>\n",
       "<style scoped>\n",
       "    .dataframe tbody tr th:only-of-type {\n",
       "        vertical-align: middle;\n",
       "    }\n",
       "\n",
       "    .dataframe tbody tr th {\n",
       "        vertical-align: top;\n",
       "    }\n",
       "\n",
       "    .dataframe thead th {\n",
       "        text-align: right;\n",
       "    }\n",
       "</style>\n",
       "<table border=\"1\" class=\"dataframe\">\n",
       "  <thead>\n",
       "    <tr style=\"text-align: right;\">\n",
       "      <th></th>\n",
       "      <th>k</th>\n",
       "      <th>n.labels</th>\n",
       "      <th>PCR</th>\n",
       "      <th>dataset</th>\n",
       "    </tr>\n",
       "  </thead>\n",
       "  <tbody>\n",
       "    <tr>\n",
       "      <th>0</th>\n",
       "      <td>donor</td>\n",
       "      <td>50</td>\n",
       "      <td>1.477621e-01</td>\n",
       "      <td>all</td>\n",
       "    </tr>\n",
       "    <tr>\n",
       "      <th>1</th>\n",
       "      <td>sample.40</td>\n",
       "      <td>40</td>\n",
       "      <td>5.130397e-02</td>\n",
       "      <td>all</td>\n",
       "    </tr>\n",
       "    <tr>\n",
       "      <th>2</th>\n",
       "      <td>dataset.9</td>\n",
       "      <td>9</td>\n",
       "      <td>1.396627e-01</td>\n",
       "      <td>all</td>\n",
       "    </tr>\n",
       "    <tr>\n",
       "      <th>3</th>\n",
       "      <td>sample.142</td>\n",
       "      <td>142</td>\n",
       "      <td>2.194546e-01</td>\n",
       "      <td>all</td>\n",
       "    </tr>\n",
       "    <tr>\n",
       "      <th>4</th>\n",
       "      <td>cell.type</td>\n",
       "      <td>11</td>\n",
       "      <td>1.812796e-01</td>\n",
       "      <td>all</td>\n",
       "    </tr>\n",
       "    <tr>\n",
       "      <th>0</th>\n",
       "      <td>donor</td>\n",
       "      <td>3</td>\n",
       "      <td>2.996475e-02</td>\n",
       "      <td>Hafler</td>\n",
       "    </tr>\n",
       "    <tr>\n",
       "      <th>1</th>\n",
       "      <td>sample.40</td>\n",
       "      <td>6</td>\n",
       "      <td>5.107870e-02</td>\n",
       "      <td>Hafler</td>\n",
       "    </tr>\n",
       "    <tr>\n",
       "      <th>2</th>\n",
       "      <td>dataset.9</td>\n",
       "      <td>1</td>\n",
       "      <td>9.605404e-09</td>\n",
       "      <td>Hafler</td>\n",
       "    </tr>\n",
       "    <tr>\n",
       "      <th>3</th>\n",
       "      <td>sample.142</td>\n",
       "      <td>6</td>\n",
       "      <td>5.109609e-02</td>\n",
       "      <td>Hafler</td>\n",
       "    </tr>\n",
       "    <tr>\n",
       "      <th>4</th>\n",
       "      <td>donor.n.batch</td>\n",
       "      <td>6</td>\n",
       "      <td>5.119580e-02</td>\n",
       "      <td>Hafler</td>\n",
       "    </tr>\n",
       "    <tr>\n",
       "      <th>5</th>\n",
       "      <td>cell.type</td>\n",
       "      <td>10</td>\n",
       "      <td>3.029049e-01</td>\n",
       "      <td>Hafler</td>\n",
       "    </tr>\n",
       "    <tr>\n",
       "      <th>0</th>\n",
       "      <td>donor</td>\n",
       "      <td>6</td>\n",
       "      <td>3.206044e-02</td>\n",
       "      <td>Chen_b</td>\n",
       "    </tr>\n",
       "    <tr>\n",
       "      <th>1</th>\n",
       "      <td>sample.40</td>\n",
       "      <td>15</td>\n",
       "      <td>1.160992e-01</td>\n",
       "      <td>Chen_b</td>\n",
       "    </tr>\n",
       "    <tr>\n",
       "      <th>2</th>\n",
       "      <td>dataset.9</td>\n",
       "      <td>1</td>\n",
       "      <td>3.735088e-09</td>\n",
       "      <td>Chen_b</td>\n",
       "    </tr>\n",
       "    <tr>\n",
       "      <th>3</th>\n",
       "      <td>sample.142</td>\n",
       "      <td>15</td>\n",
       "      <td>1.160965e-01</td>\n",
       "      <td>Chen_b</td>\n",
       "    </tr>\n",
       "    <tr>\n",
       "      <th>4</th>\n",
       "      <td>donor.n.batch</td>\n",
       "      <td>15</td>\n",
       "      <td>1.160992e-01</td>\n",
       "      <td>Chen_b</td>\n",
       "    </tr>\n",
       "    <tr>\n",
       "      <th>5</th>\n",
       "      <td>cell.type</td>\n",
       "      <td>11</td>\n",
       "      <td>4.219537e-01</td>\n",
       "      <td>Chen_b</td>\n",
       "    </tr>\n",
       "    <tr>\n",
       "      <th>0</th>\n",
       "      <td>donor</td>\n",
       "      <td>20</td>\n",
       "      <td>1.098853e-01</td>\n",
       "      <td>Chen_a</td>\n",
       "    </tr>\n",
       "    <tr>\n",
       "      <th>1</th>\n",
       "      <td>sample.40</td>\n",
       "      <td>40</td>\n",
       "      <td>1.587466e-01</td>\n",
       "      <td>Chen_a</td>\n",
       "    </tr>\n",
       "    <tr>\n",
       "      <th>2</th>\n",
       "      <td>dataset.9</td>\n",
       "      <td>1</td>\n",
       "      <td>4.431184e-09</td>\n",
       "      <td>Chen_a</td>\n",
       "    </tr>\n",
       "    <tr>\n",
       "      <th>3</th>\n",
       "      <td>sample.142</td>\n",
       "      <td>40</td>\n",
       "      <td>1.587467e-01</td>\n",
       "      <td>Chen_a</td>\n",
       "    </tr>\n",
       "    <tr>\n",
       "      <th>4</th>\n",
       "      <td>donor.n.batch</td>\n",
       "      <td>40</td>\n",
       "      <td>1.587467e-01</td>\n",
       "      <td>Chen_a</td>\n",
       "    </tr>\n",
       "    <tr>\n",
       "      <th>5</th>\n",
       "      <td>cell.type</td>\n",
       "      <td>11</td>\n",
       "      <td>2.189715e-01</td>\n",
       "      <td>Chen_a</td>\n",
       "    </tr>\n",
       "    <tr>\n",
       "      <th>0</th>\n",
       "      <td>donor</td>\n",
       "      <td>3</td>\n",
       "      <td>6.650090e-03</td>\n",
       "      <td>Wong</td>\n",
       "    </tr>\n",
       "    <tr>\n",
       "      <th>1</th>\n",
       "      <td>sample.40</td>\n",
       "      <td>5</td>\n",
       "      <td>6.895786e-03</td>\n",
       "      <td>Wong</td>\n",
       "    </tr>\n",
       "    <tr>\n",
       "      <th>2</th>\n",
       "      <td>dataset.9</td>\n",
       "      <td>1</td>\n",
       "      <td>4.018510e-09</td>\n",
       "      <td>Wong</td>\n",
       "    </tr>\n",
       "    <tr>\n",
       "      <th>3</th>\n",
       "      <td>sample.142</td>\n",
       "      <td>5</td>\n",
       "      <td>6.896063e-03</td>\n",
       "      <td>Wong</td>\n",
       "    </tr>\n",
       "    <tr>\n",
       "      <th>4</th>\n",
       "      <td>donor.n.batch</td>\n",
       "      <td>5</td>\n",
       "      <td>6.894248e-03</td>\n",
       "      <td>Wong</td>\n",
       "    </tr>\n",
       "    <tr>\n",
       "      <th>5</th>\n",
       "      <td>cell.type</td>\n",
       "      <td>11</td>\n",
       "      <td>4.803537e-02</td>\n",
       "      <td>Wong</td>\n",
       "    </tr>\n",
       "    <tr>\n",
       "      <th>0</th>\n",
       "      <td>donor</td>\n",
       "      <td>20</td>\n",
       "      <td>6.192479e-02</td>\n",
       "      <td>Chen_c</td>\n",
       "    </tr>\n",
       "    <tr>\n",
       "      <th>1</th>\n",
       "      <td>sample.40</td>\n",
       "      <td>20</td>\n",
       "      <td>6.192752e-02</td>\n",
       "      <td>Chen_c</td>\n",
       "    </tr>\n",
       "    <tr>\n",
       "      <th>2</th>\n",
       "      <td>dataset.9</td>\n",
       "      <td>1</td>\n",
       "      <td>2.682142e-09</td>\n",
       "      <td>Chen_c</td>\n",
       "    </tr>\n",
       "    <tr>\n",
       "      <th>3</th>\n",
       "      <td>sample.142</td>\n",
       "      <td>20</td>\n",
       "      <td>6.192765e-02</td>\n",
       "      <td>Chen_c</td>\n",
       "    </tr>\n",
       "    <tr>\n",
       "      <th>4</th>\n",
       "      <td>donor.n.batch</td>\n",
       "      <td>20</td>\n",
       "      <td>6.192676e-02</td>\n",
       "      <td>Chen_c</td>\n",
       "    </tr>\n",
       "    <tr>\n",
       "      <th>5</th>\n",
       "      <td>cell.type</td>\n",
       "      <td>11</td>\n",
       "      <td>2.695182e-01</td>\n",
       "      <td>Chen_c</td>\n",
       "    </tr>\n",
       "    <tr>\n",
       "      <th>0</th>\n",
       "      <td>donor</td>\n",
       "      <td>4</td>\n",
       "      <td>9.569726e-03</td>\n",
       "      <td>Hackney</td>\n",
       "    </tr>\n",
       "    <tr>\n",
       "      <th>1</th>\n",
       "      <td>sample.40</td>\n",
       "      <td>11</td>\n",
       "      <td>9.853701e-03</td>\n",
       "      <td>Hackney</td>\n",
       "    </tr>\n",
       "    <tr>\n",
       "      <th>2</th>\n",
       "      <td>dataset.9</td>\n",
       "      <td>1</td>\n",
       "      <td>1.649783e-09</td>\n",
       "      <td>Hackney</td>\n",
       "    </tr>\n",
       "    <tr>\n",
       "      <th>3</th>\n",
       "      <td>sample.142</td>\n",
       "      <td>11</td>\n",
       "      <td>9.797323e-03</td>\n",
       "      <td>Hackney</td>\n",
       "    </tr>\n",
       "    <tr>\n",
       "      <th>4</th>\n",
       "      <td>donor.n.batch</td>\n",
       "      <td>11</td>\n",
       "      <td>1.034178e-02</td>\n",
       "      <td>Hackney</td>\n",
       "    </tr>\n",
       "    <tr>\n",
       "      <th>5</th>\n",
       "      <td>cell.type</td>\n",
       "      <td>11</td>\n",
       "      <td>4.150001e-01</td>\n",
       "      <td>Hackney</td>\n",
       "    </tr>\n",
       "    <tr>\n",
       "      <th>0</th>\n",
       "      <td>donor</td>\n",
       "      <td>4</td>\n",
       "      <td>1.274969e-02</td>\n",
       "      <td>Roska</td>\n",
       "    </tr>\n",
       "    <tr>\n",
       "      <th>1</th>\n",
       "      <td>sample.40</td>\n",
       "      <td>21</td>\n",
       "      <td>6.238735e-02</td>\n",
       "      <td>Roska</td>\n",
       "    </tr>\n",
       "    <tr>\n",
       "      <th>2</th>\n",
       "      <td>dataset.9</td>\n",
       "      <td>1</td>\n",
       "      <td>7.246281e-10</td>\n",
       "      <td>Roska</td>\n",
       "    </tr>\n",
       "    <tr>\n",
       "      <th>3</th>\n",
       "      <td>sample.142</td>\n",
       "      <td>21</td>\n",
       "      <td>6.238105e-02</td>\n",
       "      <td>Roska</td>\n",
       "    </tr>\n",
       "    <tr>\n",
       "      <th>4</th>\n",
       "      <td>donor.n.batch</td>\n",
       "      <td>21</td>\n",
       "      <td>6.238840e-02</td>\n",
       "      <td>Roska</td>\n",
       "    </tr>\n",
       "    <tr>\n",
       "      <th>5</th>\n",
       "      <td>cell.type</td>\n",
       "      <td>11</td>\n",
       "      <td>3.356079e-01</td>\n",
       "      <td>Roska</td>\n",
       "    </tr>\n",
       "    <tr>\n",
       "      <th>0</th>\n",
       "      <td>donor</td>\n",
       "      <td>7</td>\n",
       "      <td>7.164468e-02</td>\n",
       "      <td>Sanes</td>\n",
       "    </tr>\n",
       "    <tr>\n",
       "      <th>1</th>\n",
       "      <td>sample.40</td>\n",
       "      <td>18</td>\n",
       "      <td>1.005098e-01</td>\n",
       "      <td>Sanes</td>\n",
       "    </tr>\n",
       "    <tr>\n",
       "      <th>2</th>\n",
       "      <td>dataset.9</td>\n",
       "      <td>1</td>\n",
       "      <td>4.098024e-09</td>\n",
       "      <td>Sanes</td>\n",
       "    </tr>\n",
       "    <tr>\n",
       "      <th>3</th>\n",
       "      <td>sample.142</td>\n",
       "      <td>18</td>\n",
       "      <td>1.005066e-01</td>\n",
       "      <td>Sanes</td>\n",
       "    </tr>\n",
       "    <tr>\n",
       "      <th>4</th>\n",
       "      <td>donor.n.batch</td>\n",
       "      <td>18</td>\n",
       "      <td>1.005075e-01</td>\n",
       "      <td>Sanes</td>\n",
       "    </tr>\n",
       "    <tr>\n",
       "      <th>5</th>\n",
       "      <td>cell.type</td>\n",
       "      <td>11</td>\n",
       "      <td>5.998945e-01</td>\n",
       "      <td>Sanes</td>\n",
       "    </tr>\n",
       "    <tr>\n",
       "      <th>0</th>\n",
       "      <td>donor</td>\n",
       "      <td>3</td>\n",
       "      <td>3.832568e-02</td>\n",
       "      <td>Scheetz</td>\n",
       "    </tr>\n",
       "    <tr>\n",
       "      <th>1</th>\n",
       "      <td>sample.40</td>\n",
       "      <td>6</td>\n",
       "      <td>7.289530e-02</td>\n",
       "      <td>Scheetz</td>\n",
       "    </tr>\n",
       "    <tr>\n",
       "      <th>2</th>\n",
       "      <td>dataset.9</td>\n",
       "      <td>1</td>\n",
       "      <td>4.323178e-10</td>\n",
       "      <td>Scheetz</td>\n",
       "    </tr>\n",
       "    <tr>\n",
       "      <th>3</th>\n",
       "      <td>sample.142</td>\n",
       "      <td>6</td>\n",
       "      <td>7.289530e-02</td>\n",
       "      <td>Scheetz</td>\n",
       "    </tr>\n",
       "    <tr>\n",
       "      <th>4</th>\n",
       "      <td>donor.n.batch</td>\n",
       "      <td>6</td>\n",
       "      <td>7.286510e-02</td>\n",
       "      <td>Scheetz</td>\n",
       "    </tr>\n",
       "    <tr>\n",
       "      <th>5</th>\n",
       "      <td>cell.type</td>\n",
       "      <td>11</td>\n",
       "      <td>1.843977e-01</td>\n",
       "      <td>Scheetz</td>\n",
       "    </tr>\n",
       "  </tbody>\n",
       "</table>\n",
       "</div>"
      ],
      "text/plain": [
       "               k  n.labels           PCR  dataset\n",
       "0          donor        50  1.477621e-01      all\n",
       "1      sample.40        40  5.130397e-02      all\n",
       "2      dataset.9         9  1.396627e-01      all\n",
       "3     sample.142       142  2.194546e-01      all\n",
       "4      cell.type        11  1.812796e-01      all\n",
       "0          donor         3  2.996475e-02   Hafler\n",
       "1      sample.40         6  5.107870e-02   Hafler\n",
       "2      dataset.9         1  9.605404e-09   Hafler\n",
       "3     sample.142         6  5.109609e-02   Hafler\n",
       "4  donor.n.batch         6  5.119580e-02   Hafler\n",
       "5      cell.type        10  3.029049e-01   Hafler\n",
       "0          donor         6  3.206044e-02   Chen_b\n",
       "1      sample.40        15  1.160992e-01   Chen_b\n",
       "2      dataset.9         1  3.735088e-09   Chen_b\n",
       "3     sample.142        15  1.160965e-01   Chen_b\n",
       "4  donor.n.batch        15  1.160992e-01   Chen_b\n",
       "5      cell.type        11  4.219537e-01   Chen_b\n",
       "0          donor        20  1.098853e-01   Chen_a\n",
       "1      sample.40        40  1.587466e-01   Chen_a\n",
       "2      dataset.9         1  4.431184e-09   Chen_a\n",
       "3     sample.142        40  1.587467e-01   Chen_a\n",
       "4  donor.n.batch        40  1.587467e-01   Chen_a\n",
       "5      cell.type        11  2.189715e-01   Chen_a\n",
       "0          donor         3  6.650090e-03     Wong\n",
       "1      sample.40         5  6.895786e-03     Wong\n",
       "2      dataset.9         1  4.018510e-09     Wong\n",
       "3     sample.142         5  6.896063e-03     Wong\n",
       "4  donor.n.batch         5  6.894248e-03     Wong\n",
       "5      cell.type        11  4.803537e-02     Wong\n",
       "0          donor        20  6.192479e-02   Chen_c\n",
       "1      sample.40        20  6.192752e-02   Chen_c\n",
       "2      dataset.9         1  2.682142e-09   Chen_c\n",
       "3     sample.142        20  6.192765e-02   Chen_c\n",
       "4  donor.n.batch        20  6.192676e-02   Chen_c\n",
       "5      cell.type        11  2.695182e-01   Chen_c\n",
       "0          donor         4  9.569726e-03  Hackney\n",
       "1      sample.40        11  9.853701e-03  Hackney\n",
       "2      dataset.9         1  1.649783e-09  Hackney\n",
       "3     sample.142        11  9.797323e-03  Hackney\n",
       "4  donor.n.batch        11  1.034178e-02  Hackney\n",
       "5      cell.type        11  4.150001e-01  Hackney\n",
       "0          donor         4  1.274969e-02    Roska\n",
       "1      sample.40        21  6.238735e-02    Roska\n",
       "2      dataset.9         1  7.246281e-10    Roska\n",
       "3     sample.142        21  6.238105e-02    Roska\n",
       "4  donor.n.batch        21  6.238840e-02    Roska\n",
       "5      cell.type        11  3.356079e-01    Roska\n",
       "0          donor         7  7.164468e-02    Sanes\n",
       "1      sample.40        18  1.005098e-01    Sanes\n",
       "2      dataset.9         1  4.098024e-09    Sanes\n",
       "3     sample.142        18  1.005066e-01    Sanes\n",
       "4  donor.n.batch        18  1.005075e-01    Sanes\n",
       "5      cell.type        11  5.998945e-01    Sanes\n",
       "0          donor         3  3.832568e-02  Scheetz\n",
       "1      sample.40         6  7.289530e-02  Scheetz\n",
       "2      dataset.9         1  4.323178e-10  Scheetz\n",
       "3     sample.142         6  7.289530e-02  Scheetz\n",
       "4  donor.n.batch         6  7.286510e-02  Scheetz\n",
       "5      cell.type        11  1.843977e-01  Scheetz"
      ]
     },
     "execution_count": 78,
     "metadata": {},
     "output_type": "execute_result"
    }
   ],
   "source": [
    "res"
   ]
  },
  {
   "cell_type": "code",
   "execution_count": 89,
   "metadata": {},
   "outputs": [
    {
     "data": {
      "image/png": "[encoded data removed]",
      "text/plain": [
       "<Figure size 1200x600 with 1 Axes>"
      ]
     },
     "metadata": {
      "image/png": {
       "height": 626,
       "width": 1047
      }
     },
     "output_type": "display_data"
    }
   ],
   "source": [
    "rcParams['figure.dpi'] = 120\n",
    "sns.barplot(data=res[res['k'] != 'sample.40'], x='dataset', y='PCR', hue='k', zorder=0, order=order,\n",
    "           hue_order=sorted(list(set(res[res['k'] != 'sample.40']['k']))))\n",
    "\n",
    "plt.xticks(rotation=45, ha='right')\n",
    "plt.legend(fontsize=10)\n",
    "plt.grid(False)\n",
    "plt.ylim([0, 0.7]);"
   ]
  },
  {
   "cell_type": "code",
   "execution_count": null,
   "metadata": {},
   "outputs": [],
   "source": [
    "splot = sns.barplot(data=res, x='dataset', y='PCR', hue='k', zorder=0)\n",
    "for p in splot.patches:\n",
    "    splot.annotate(format(p.get_height(), '.1f'), \n",
    "                   (p.get_x() + p.get_width() / 2., p.get_height()), \n",
    "                   ha = 'center', va = 'center', \n",
    "                   xytext = (0, 9), \n",
    "                   textcoords = 'offset points')\n",
    "plt.xticks(rotation=45, ha='right')\n",
    "plt.grid(False)"
   ]
  }
 ],
 "metadata": {
  "kernelspec": {
   "display_name": "Python [conda env:scIB-python]",
   "language": "python",
   "name": "conda-env-scIB-python-py"
  },
  "language_info": {
   "codemirror_mode": {
    "name": "ipython",
    "version": 3
   },
   "file_extension": ".py",
   "mimetype": "text/x-python",
   "name": "python",
   "nbconvert_exporter": "python",
   "pygments_lexer": "ipython3",
   "version": "3.7.10"
  }
 },
 "nbformat": 4,
 "nbformat_minor": 4
}
