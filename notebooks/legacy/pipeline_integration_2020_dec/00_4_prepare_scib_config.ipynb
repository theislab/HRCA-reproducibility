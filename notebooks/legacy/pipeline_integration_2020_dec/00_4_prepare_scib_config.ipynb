{
 "cells": [
  {
   "cell_type": "code",
   "execution_count": 1,
   "id": "86579624",
   "metadata": {},
   "outputs": [
    {
     "name": "stdout",
     "output_type": "stream",
     "text": [
      "/mnt/znas/icb_zstore01/groups/ml01/workspace/ignacio.ibarra/theislab/retinal_scRNAseq_integration/notebooks/pipeline_integration\n"
     ]
    }
   ],
   "source": [
    "cd /mnt/znas/icb_zstore01/groups/ml01/workspace/ignacio.ibarra/theislab/retinal_scRNAseq_integration/notebooks/pipeline_integration"
   ]
  },
  {
   "cell_type": "code",
   "execution_count": 2,
   "id": "c3809977",
   "metadata": {},
   "outputs": [],
   "source": [
    "import os\n",
    "import scanpy as sc\n",
    "from os.path import join, exists\n",
    "from os import listdir\n",
    "import anndata\n",
    "import scipy\n",
    "import numpy as np\n",
    "import sys\n",
    "\n",
    "from utils import *\n",
    "\n",
    "# convert counts into float32\n",
    "# Convenience method for computing the size of objects\n",
    "def print_size_in_MB(x):\n",
    "    return '{:.3} MB'.format(x.__sizeof__()/1e6)\n",
    "\n",
    "def print_size_in_MB_sparse_matrix(a):\n",
    "    # a = scipy.sparse.csr_matrix(np.random.randint(10, size=(40, 3)))\n",
    "    # x = a.data.nbytes + a.indptr.nbytes + a.indices.nbytes\n",
    "    size = a.data.size/(1024**2)\n",
    "    return '{:.3} MB'.format(size)\n",
    "\n",
    "import warnings\n",
    "warnings.filterwarnings(\"ignore\")"
   ]
  },
  {
   "cell_type": "markdown",
   "id": "d58648f2",
   "metadata": {},
   "source": [
    "### Prepare input for general run"
   ]
  },
  {
   "cell_type": "code",
   "execution_count": 3,
   "id": "1368a8d8",
   "metadata": {},
   "outputs": [],
   "source": [
    "scib_methods_path = 'scib_config.methods.yml'\n",
    "lines = [r for r in open(scib_methods_path)]\n",
    "methods_data = {}\n",
    "curr_method = None\n",
    "method_parms = []\n",
    "for e in lines:\n",
    "    if e.startswith('  ') and not e.startswith('   '):\n",
    "        if curr_method is not None:\n",
    "            methods_data[curr_method] = method_parms\n",
    "        curr_method = e.strip()[:-1]\n",
    "        method_parms = []\n",
    "    else:\n",
    "        method_parms.append(e.strip())\n",
    "        \n",
    "# last method\n",
    "methods_data[curr_method] = method_parms"
   ]
  },
  {
   "cell_type": "code",
   "execution_count": 4,
   "id": "b77ea2a1",
   "metadata": {},
   "outputs": [],
   "source": [
    "# methods_query =  ['harmony', 'combat', 'scgen', 'scanvi', 'scvi'] #  'scanorama', 'seurat', 'combat', 'bbknn'] # 'saucie'] # 'scgen']\n",
    "methods_query =  ['scgen', 'scanvi', 'scvi'] #  'scanorama', 'seurat', 'combat', 'bbknn'] # 'saucie'] # 'scgen']"
   ]
  },
  {
   "cell_type": "code",
   "execution_count": 5,
   "id": "df7d0a54",
   "metadata": {},
   "outputs": [
    {
     "name": "stdout",
     "output_type": "stream",
     "text": [
      "input_500_cells_Chen+Hackney.h5ad\n",
      "input_all_cells_Chen+Sanes.h5ad\n",
      "input_500_cells_Chen.h5ad\n",
      "input_all_cells_Chen.h5ad\n",
      "input_all_cells_Chen+Scheetz.h5ad\n",
      "input_500_cells_Chen+Wong.h5ad\n",
      "input_500_cells_Chen+Sanes.h5ad\n",
      "input_500_cells_Chen+Scheetz.h5ad\n",
      "input_500_cells_Chen+Roska.h5ad\n",
      "input_all_cells_all_fix5.h5ad\n",
      "input_all_cells_all.h5ad\n",
      "input_all_cells_Chen+Hackney+Roska.h5ad\n",
      "input_all_cells_Chen+Wong.h5ad\n",
      "input_500_cells_Chen+Hafler.h5ad\n",
      "input_all_cells_Chen+Hafler.h5ad\n",
      "input_all_cells_Chen+Roska.h5ad\n",
      "input_all_cells_Chen+Hackney.h5ad\n",
      "input_500_cells_all.h5ad\n"
     ]
    },
    {
     "data": {
      "text/html": [
       "<div>\n",
       "<style scoped>\n",
       "    .dataframe tbody tr th:only-of-type {\n",
       "        vertical-align: middle;\n",
       "    }\n",
       "\n",
       "    .dataframe tbody tr th {\n",
       "        vertical-align: top;\n",
       "    }\n",
       "\n",
       "    .dataframe thead th {\n",
       "        text-align: right;\n",
       "    }\n",
       "</style>\n",
       "<table border=\"1\" class=\"dataframe\">\n",
       "  <thead>\n",
       "    <tr style=\"text-align: right;\">\n",
       "      <th></th>\n",
       "      <th>file</th>\n",
       "      <th>batch_key</th>\n",
       "      <th>label_key</th>\n",
       "      <th>name</th>\n",
       "    </tr>\n",
       "  </thead>\n",
       "  <tbody>\n",
       "    <tr>\n",
       "      <th>0</th>\n",
       "      <td>/storage/groups/ml01/workspace/ignacio.ibarra/...</td>\n",
       "      <td>batch_donor_dataset</td>\n",
       "      <td>cell.type</td>\n",
       "      <td>retinal_500_Chen+Hackney</td>\n",
       "    </tr>\n",
       "    <tr>\n",
       "      <th>1</th>\n",
       "      <td>/storage/groups/ml01/workspace/ignacio.ibarra/...</td>\n",
       "      <td>batch_donor_dataset</td>\n",
       "      <td>cell.type</td>\n",
       "      <td>retinal_all_Chen+Sanes</td>\n",
       "    </tr>\n",
       "    <tr>\n",
       "      <th>2</th>\n",
       "      <td>/storage/groups/ml01/workspace/ignacio.ibarra/...</td>\n",
       "      <td>batch_donor_dataset</td>\n",
       "      <td>cell.type</td>\n",
       "      <td>retinal_500_Chen</td>\n",
       "    </tr>\n",
       "    <tr>\n",
       "      <th>3</th>\n",
       "      <td>/storage/groups/ml01/workspace/ignacio.ibarra/...</td>\n",
       "      <td>batch_donor_dataset</td>\n",
       "      <td>cell.type</td>\n",
       "      <td>retinal_all_Chen</td>\n",
       "    </tr>\n",
       "    <tr>\n",
       "      <th>4</th>\n",
       "      <td>/storage/groups/ml01/workspace/ignacio.ibarra/...</td>\n",
       "      <td>batch_donor_dataset</td>\n",
       "      <td>cell.type</td>\n",
       "      <td>retinal_all_Chen+Scheetz</td>\n",
       "    </tr>\n",
       "    <tr>\n",
       "      <th>5</th>\n",
       "      <td>/storage/groups/ml01/workspace/ignacio.ibarra/...</td>\n",
       "      <td>batch_donor_dataset</td>\n",
       "      <td>cell.type</td>\n",
       "      <td>retinal_500_Chen+Wong</td>\n",
       "    </tr>\n",
       "    <tr>\n",
       "      <th>6</th>\n",
       "      <td>/storage/groups/ml01/workspace/ignacio.ibarra/...</td>\n",
       "      <td>batch_donor_dataset</td>\n",
       "      <td>cell.type</td>\n",
       "      <td>retinal_500_Chen+Sanes</td>\n",
       "    </tr>\n",
       "    <tr>\n",
       "      <th>7</th>\n",
       "      <td>/storage/groups/ml01/workspace/ignacio.ibarra/...</td>\n",
       "      <td>batch_donor_dataset</td>\n",
       "      <td>cell.type</td>\n",
       "      <td>retinal_500_Chen+Scheetz</td>\n",
       "    </tr>\n",
       "    <tr>\n",
       "      <th>8</th>\n",
       "      <td>/storage/groups/ml01/workspace/ignacio.ibarra/...</td>\n",
       "      <td>batch_donor_dataset</td>\n",
       "      <td>cell.type</td>\n",
       "      <td>retinal_500_Chen+Roska</td>\n",
       "    </tr>\n",
       "    <tr>\n",
       "      <th>9</th>\n",
       "      <td>/storage/groups/ml01/workspace/ignacio.ibarra/...</td>\n",
       "      <td>batch_donor_dataset</td>\n",
       "      <td>cell.type</td>\n",
       "      <td>retinal_all_fix5</td>\n",
       "    </tr>\n",
       "    <tr>\n",
       "      <th>10</th>\n",
       "      <td>/storage/groups/ml01/workspace/ignacio.ibarra/...</td>\n",
       "      <td>batch_donor_dataset</td>\n",
       "      <td>cell.type</td>\n",
       "      <td>retinal_all_all</td>\n",
       "    </tr>\n",
       "    <tr>\n",
       "      <th>11</th>\n",
       "      <td>/storage/groups/ml01/workspace/ignacio.ibarra/...</td>\n",
       "      <td>batch_donor_dataset</td>\n",
       "      <td>cell.type</td>\n",
       "      <td>retinal_all_Chen+Hackney+Roska</td>\n",
       "    </tr>\n",
       "    <tr>\n",
       "      <th>12</th>\n",
       "      <td>/storage/groups/ml01/workspace/ignacio.ibarra/...</td>\n",
       "      <td>batch_donor_dataset</td>\n",
       "      <td>cell.type</td>\n",
       "      <td>retinal_all_Chen+Wong</td>\n",
       "    </tr>\n",
       "    <tr>\n",
       "      <th>13</th>\n",
       "      <td>/storage/groups/ml01/workspace/ignacio.ibarra/...</td>\n",
       "      <td>batch_donor_dataset</td>\n",
       "      <td>cell.type</td>\n",
       "      <td>retinal_500_Chen+Hafler</td>\n",
       "    </tr>\n",
       "    <tr>\n",
       "      <th>14</th>\n",
       "      <td>/storage/groups/ml01/workspace/ignacio.ibarra/...</td>\n",
       "      <td>batch_donor_dataset</td>\n",
       "      <td>cell.type</td>\n",
       "      <td>retinal_all_Chen+Hafler</td>\n",
       "    </tr>\n",
       "    <tr>\n",
       "      <th>15</th>\n",
       "      <td>/storage/groups/ml01/workspace/ignacio.ibarra/...</td>\n",
       "      <td>batch_donor_dataset</td>\n",
       "      <td>cell.type</td>\n",
       "      <td>retinal_all_Chen+Roska</td>\n",
       "    </tr>\n",
       "    <tr>\n",
       "      <th>16</th>\n",
       "      <td>/storage/groups/ml01/workspace/ignacio.ibarra/...</td>\n",
       "      <td>batch_donor_dataset</td>\n",
       "      <td>cell.type</td>\n",
       "      <td>retinal_all_Chen+Hackney</td>\n",
       "    </tr>\n",
       "    <tr>\n",
       "      <th>17</th>\n",
       "      <td>/storage/groups/ml01/workspace/ignacio.ibarra/...</td>\n",
       "      <td>batch_donor_dataset</td>\n",
       "      <td>cell.type</td>\n",
       "      <td>retinal_500_all</td>\n",
       "    </tr>\n",
       "  </tbody>\n",
       "</table>\n",
       "</div>"
      ],
      "text/plain": [
       "                                                 file            batch_key  \\\n",
       "0   /storage/groups/ml01/workspace/ignacio.ibarra/...  batch_donor_dataset   \n",
       "1   /storage/groups/ml01/workspace/ignacio.ibarra/...  batch_donor_dataset   \n",
       "2   /storage/groups/ml01/workspace/ignacio.ibarra/...  batch_donor_dataset   \n",
       "3   /storage/groups/ml01/workspace/ignacio.ibarra/...  batch_donor_dataset   \n",
       "4   /storage/groups/ml01/workspace/ignacio.ibarra/...  batch_donor_dataset   \n",
       "5   /storage/groups/ml01/workspace/ignacio.ibarra/...  batch_donor_dataset   \n",
       "6   /storage/groups/ml01/workspace/ignacio.ibarra/...  batch_donor_dataset   \n",
       "7   /storage/groups/ml01/workspace/ignacio.ibarra/...  batch_donor_dataset   \n",
       "8   /storage/groups/ml01/workspace/ignacio.ibarra/...  batch_donor_dataset   \n",
       "9   /storage/groups/ml01/workspace/ignacio.ibarra/...  batch_donor_dataset   \n",
       "10  /storage/groups/ml01/workspace/ignacio.ibarra/...  batch_donor_dataset   \n",
       "11  /storage/groups/ml01/workspace/ignacio.ibarra/...  batch_donor_dataset   \n",
       "12  /storage/groups/ml01/workspace/ignacio.ibarra/...  batch_donor_dataset   \n",
       "13  /storage/groups/ml01/workspace/ignacio.ibarra/...  batch_donor_dataset   \n",
       "14  /storage/groups/ml01/workspace/ignacio.ibarra/...  batch_donor_dataset   \n",
       "15  /storage/groups/ml01/workspace/ignacio.ibarra/...  batch_donor_dataset   \n",
       "16  /storage/groups/ml01/workspace/ignacio.ibarra/...  batch_donor_dataset   \n",
       "17  /storage/groups/ml01/workspace/ignacio.ibarra/...  batch_donor_dataset   \n",
       "\n",
       "    label_key                            name  \n",
       "0   cell.type        retinal_500_Chen+Hackney  \n",
       "1   cell.type          retinal_all_Chen+Sanes  \n",
       "2   cell.type                retinal_500_Chen  \n",
       "3   cell.type                retinal_all_Chen  \n",
       "4   cell.type        retinal_all_Chen+Scheetz  \n",
       "5   cell.type           retinal_500_Chen+Wong  \n",
       "6   cell.type          retinal_500_Chen+Sanes  \n",
       "7   cell.type        retinal_500_Chen+Scheetz  \n",
       "8   cell.type          retinal_500_Chen+Roska  \n",
       "9   cell.type                retinal_all_fix5  \n",
       "10  cell.type                 retinal_all_all  \n",
       "11  cell.type  retinal_all_Chen+Hackney+Roska  \n",
       "12  cell.type           retinal_all_Chen+Wong  \n",
       "13  cell.type         retinal_500_Chen+Hafler  \n",
       "14  cell.type         retinal_all_Chen+Hafler  \n",
       "15  cell.type          retinal_all_Chen+Roska  \n",
       "16  cell.type        retinal_all_Chen+Hackney  \n",
       "17  cell.type                 retinal_500_all  "
      ]
     },
     "execution_count": 5,
     "metadata": {},
     "output_type": "execute_result"
    }
   ],
   "source": [
    "scib_template_path = 'scib_config.template.yml'\n",
    "# exists(scib_template_path)\n",
    "lines = ''.join([r for r in open(scib_template_path)])\n",
    "\n",
    "import pandas as pd\n",
    "from os import listdir\n",
    "from os.path import abspath, exists, join\n",
    "input_dir = '/storage/groups/ml01/workspace/ignacio.ibarra/theislab/retinal_scRNAseq_integration/data/integration_march_2021/input'\n",
    "# batches = ['dataset', 'donor', 'batch.merged']\n",
    "batches = ['batch_donor_dataset']\n",
    "labels = ['cell.type']\n",
    "# n_hvgs = [2000, 3000, 4000, 5000, 6000]\n",
    "\n",
    "queries = []\n",
    "for f in listdir(input_dir):\n",
    "    if not f.endswith('.h5ad') or 'part' in f or 'ndatasets' in f:\n",
    "        continue\n",
    "    print(f)\n",
    "    p = abspath(join(input_dir, f))\n",
    "    \n",
    "    name = 'retinal_' + f.split('_')[1] + '_' + f.split('_')[-1].replace('.h5ad', '')\n",
    "    for batch in batches:\n",
    "        for label in labels:\n",
    "            queries.append([p, batch, label, name])\n",
    "queries = pd.DataFrame(queries, columns=['file', 'batch_key', 'label_key', 'name',])\n",
    "\n",
    "queries"
   ]
  },
  {
   "cell_type": "code",
   "execution_count": 6,
   "id": "8677ad62-4eeb-4070-b190-51017a45d2d5",
   "metadata": {},
   "outputs": [
    {
     "data": {
      "text/plain": [
       "(18, 4)"
      ]
     },
     "execution_count": 6,
     "metadata": {},
     "output_type": "execute_result"
    }
   ],
   "source": [
    "queries.shape"
   ]
  },
  {
   "cell_type": "code",
   "execution_count": 7,
   "id": "8b2e2939",
   "metadata": {},
   "outputs": [
    {
     "data": {
      "text/plain": [
       "['/storage/groups/ml01/workspace/ignacio.ibarra/theislab/retinal_scRNAseq_integration/data/integration_march_2021/input/input_500_cells_Chen+Hackney.h5ad',\n",
       " '/storage/groups/ml01/workspace/ignacio.ibarra/theislab/retinal_scRNAseq_integration/data/integration_march_2021/input/input_all_cells_Chen+Sanes.h5ad',\n",
       " '/storage/groups/ml01/workspace/ignacio.ibarra/theislab/retinal_scRNAseq_integration/data/integration_march_2021/input/input_500_cells_Chen.h5ad',\n",
       " '/storage/groups/ml01/workspace/ignacio.ibarra/theislab/retinal_scRNAseq_integration/data/integration_march_2021/input/input_all_cells_Chen.h5ad',\n",
       " '/storage/groups/ml01/workspace/ignacio.ibarra/theislab/retinal_scRNAseq_integration/data/integration_march_2021/input/input_all_cells_Chen+Scheetz.h5ad',\n",
       " '/storage/groups/ml01/workspace/ignacio.ibarra/theislab/retinal_scRNAseq_integration/data/integration_march_2021/input/input_500_cells_Chen+Wong.h5ad',\n",
       " '/storage/groups/ml01/workspace/ignacio.ibarra/theislab/retinal_scRNAseq_integration/data/integration_march_2021/input/input_500_cells_Chen+Sanes.h5ad',\n",
       " '/storage/groups/ml01/workspace/ignacio.ibarra/theislab/retinal_scRNAseq_integration/data/integration_march_2021/input/input_500_cells_Chen+Scheetz.h5ad',\n",
       " '/storage/groups/ml01/workspace/ignacio.ibarra/theislab/retinal_scRNAseq_integration/data/integration_march_2021/input/input_500_cells_Chen+Roska.h5ad',\n",
       " '/storage/groups/ml01/workspace/ignacio.ibarra/theislab/retinal_scRNAseq_integration/data/integration_march_2021/input/input_all_cells_all_fix5.h5ad',\n",
       " '/storage/groups/ml01/workspace/ignacio.ibarra/theislab/retinal_scRNAseq_integration/data/integration_march_2021/input/input_all_cells_all.h5ad',\n",
       " '/storage/groups/ml01/workspace/ignacio.ibarra/theislab/retinal_scRNAseq_integration/data/integration_march_2021/input/input_all_cells_Chen+Hackney+Roska.h5ad',\n",
       " '/storage/groups/ml01/workspace/ignacio.ibarra/theislab/retinal_scRNAseq_integration/data/integration_march_2021/input/input_all_cells_Chen+Wong.h5ad',\n",
       " '/storage/groups/ml01/workspace/ignacio.ibarra/theislab/retinal_scRNAseq_integration/data/integration_march_2021/input/input_500_cells_Chen+Hafler.h5ad',\n",
       " '/storage/groups/ml01/workspace/ignacio.ibarra/theislab/retinal_scRNAseq_integration/data/integration_march_2021/input/input_all_cells_Chen+Hafler.h5ad',\n",
       " '/storage/groups/ml01/workspace/ignacio.ibarra/theislab/retinal_scRNAseq_integration/data/integration_march_2021/input/input_all_cells_Chen+Roska.h5ad',\n",
       " '/storage/groups/ml01/workspace/ignacio.ibarra/theislab/retinal_scRNAseq_integration/data/integration_march_2021/input/input_all_cells_Chen+Hackney.h5ad',\n",
       " '/storage/groups/ml01/workspace/ignacio.ibarra/theislab/retinal_scRNAseq_integration/data/integration_march_2021/input/input_500_cells_all.h5ad']"
      ]
     },
     "execution_count": 7,
     "metadata": {},
     "output_type": "execute_result"
    }
   ],
   "source": [
    "import os\n",
    "list(queries['file'])"
   ]
  },
  {
   "cell_type": "code",
   "execution_count": 8,
   "id": "20c65316-cde2-4f77-af10-14fe722d7720",
   "metadata": {},
   "outputs": [
    {
     "data": {
      "text/html": [
       "<div>\n",
       "<style scoped>\n",
       "    .dataframe tbody tr th:only-of-type {\n",
       "        vertical-align: middle;\n",
       "    }\n",
       "\n",
       "    .dataframe tbody tr th {\n",
       "        vertical-align: top;\n",
       "    }\n",
       "\n",
       "    .dataframe thead th {\n",
       "        text-align: right;\n",
       "    }\n",
       "</style>\n",
       "<table border=\"1\" class=\"dataframe\">\n",
       "  <thead>\n",
       "    <tr style=\"text-align: right;\">\n",
       "      <th></th>\n",
       "      <th>file</th>\n",
       "      <th>batch_key</th>\n",
       "      <th>label_key</th>\n",
       "      <th>name</th>\n",
       "    </tr>\n",
       "  </thead>\n",
       "  <tbody>\n",
       "    <tr>\n",
       "      <th>0</th>\n",
       "      <td>/storage/groups/ml01/workspace/ignacio.ibarra/...</td>\n",
       "      <td>batch_donor_dataset</td>\n",
       "      <td>cell.type</td>\n",
       "      <td>retinal_500_Chen+Hackney</td>\n",
       "    </tr>\n",
       "    <tr>\n",
       "      <th>1</th>\n",
       "      <td>/storage/groups/ml01/workspace/ignacio.ibarra/...</td>\n",
       "      <td>batch_donor_dataset</td>\n",
       "      <td>cell.type</td>\n",
       "      <td>retinal_all_Chen+Sanes</td>\n",
       "    </tr>\n",
       "    <tr>\n",
       "      <th>2</th>\n",
       "      <td>/storage/groups/ml01/workspace/ignacio.ibarra/...</td>\n",
       "      <td>batch_donor_dataset</td>\n",
       "      <td>cell.type</td>\n",
       "      <td>retinal_500_Chen</td>\n",
       "    </tr>\n",
       "    <tr>\n",
       "      <th>3</th>\n",
       "      <td>/storage/groups/ml01/workspace/ignacio.ibarra/...</td>\n",
       "      <td>batch_donor_dataset</td>\n",
       "      <td>cell.type</td>\n",
       "      <td>retinal_all_Chen</td>\n",
       "    </tr>\n",
       "    <tr>\n",
       "      <th>4</th>\n",
       "      <td>/storage/groups/ml01/workspace/ignacio.ibarra/...</td>\n",
       "      <td>batch_donor_dataset</td>\n",
       "      <td>cell.type</td>\n",
       "      <td>retinal_all_Chen+Scheetz</td>\n",
       "    </tr>\n",
       "    <tr>\n",
       "      <th>5</th>\n",
       "      <td>/storage/groups/ml01/workspace/ignacio.ibarra/...</td>\n",
       "      <td>batch_donor_dataset</td>\n",
       "      <td>cell.type</td>\n",
       "      <td>retinal_500_Chen+Wong</td>\n",
       "    </tr>\n",
       "    <tr>\n",
       "      <th>6</th>\n",
       "      <td>/storage/groups/ml01/workspace/ignacio.ibarra/...</td>\n",
       "      <td>batch_donor_dataset</td>\n",
       "      <td>cell.type</td>\n",
       "      <td>retinal_500_Chen+Sanes</td>\n",
       "    </tr>\n",
       "    <tr>\n",
       "      <th>7</th>\n",
       "      <td>/storage/groups/ml01/workspace/ignacio.ibarra/...</td>\n",
       "      <td>batch_donor_dataset</td>\n",
       "      <td>cell.type</td>\n",
       "      <td>retinal_500_Chen+Scheetz</td>\n",
       "    </tr>\n",
       "    <tr>\n",
       "      <th>8</th>\n",
       "      <td>/storage/groups/ml01/workspace/ignacio.ibarra/...</td>\n",
       "      <td>batch_donor_dataset</td>\n",
       "      <td>cell.type</td>\n",
       "      <td>retinal_500_Chen+Roska</td>\n",
       "    </tr>\n",
       "    <tr>\n",
       "      <th>9</th>\n",
       "      <td>/storage/groups/ml01/workspace/ignacio.ibarra/...</td>\n",
       "      <td>batch_donor_dataset</td>\n",
       "      <td>cell.type</td>\n",
       "      <td>retinal_all_fix5</td>\n",
       "    </tr>\n",
       "    <tr>\n",
       "      <th>10</th>\n",
       "      <td>/storage/groups/ml01/workspace/ignacio.ibarra/...</td>\n",
       "      <td>batch_donor_dataset</td>\n",
       "      <td>cell.type</td>\n",
       "      <td>retinal_all_all</td>\n",
       "    </tr>\n",
       "    <tr>\n",
       "      <th>11</th>\n",
       "      <td>/storage/groups/ml01/workspace/ignacio.ibarra/...</td>\n",
       "      <td>batch_donor_dataset</td>\n",
       "      <td>cell.type</td>\n",
       "      <td>retinal_all_Chen+Hackney+Roska</td>\n",
       "    </tr>\n",
       "    <tr>\n",
       "      <th>12</th>\n",
       "      <td>/storage/groups/ml01/workspace/ignacio.ibarra/...</td>\n",
       "      <td>batch_donor_dataset</td>\n",
       "      <td>cell.type</td>\n",
       "      <td>retinal_all_Chen+Wong</td>\n",
       "    </tr>\n",
       "    <tr>\n",
       "      <th>13</th>\n",
       "      <td>/storage/groups/ml01/workspace/ignacio.ibarra/...</td>\n",
       "      <td>batch_donor_dataset</td>\n",
       "      <td>cell.type</td>\n",
       "      <td>retinal_500_Chen+Hafler</td>\n",
       "    </tr>\n",
       "    <tr>\n",
       "      <th>14</th>\n",
       "      <td>/storage/groups/ml01/workspace/ignacio.ibarra/...</td>\n",
       "      <td>batch_donor_dataset</td>\n",
       "      <td>cell.type</td>\n",
       "      <td>retinal_all_Chen+Hafler</td>\n",
       "    </tr>\n",
       "    <tr>\n",
       "      <th>15</th>\n",
       "      <td>/storage/groups/ml01/workspace/ignacio.ibarra/...</td>\n",
       "      <td>batch_donor_dataset</td>\n",
       "      <td>cell.type</td>\n",
       "      <td>retinal_all_Chen+Roska</td>\n",
       "    </tr>\n",
       "    <tr>\n",
       "      <th>16</th>\n",
       "      <td>/storage/groups/ml01/workspace/ignacio.ibarra/...</td>\n",
       "      <td>batch_donor_dataset</td>\n",
       "      <td>cell.type</td>\n",
       "      <td>retinal_all_Chen+Hackney</td>\n",
       "    </tr>\n",
       "    <tr>\n",
       "      <th>17</th>\n",
       "      <td>/storage/groups/ml01/workspace/ignacio.ibarra/...</td>\n",
       "      <td>batch_donor_dataset</td>\n",
       "      <td>cell.type</td>\n",
       "      <td>retinal_500_all</td>\n",
       "    </tr>\n",
       "  </tbody>\n",
       "</table>\n",
       "</div>"
      ],
      "text/plain": [
       "                                                 file            batch_key  \\\n",
       "0   /storage/groups/ml01/workspace/ignacio.ibarra/...  batch_donor_dataset   \n",
       "1   /storage/groups/ml01/workspace/ignacio.ibarra/...  batch_donor_dataset   \n",
       "2   /storage/groups/ml01/workspace/ignacio.ibarra/...  batch_donor_dataset   \n",
       "3   /storage/groups/ml01/workspace/ignacio.ibarra/...  batch_donor_dataset   \n",
       "4   /storage/groups/ml01/workspace/ignacio.ibarra/...  batch_donor_dataset   \n",
       "5   /storage/groups/ml01/workspace/ignacio.ibarra/...  batch_donor_dataset   \n",
       "6   /storage/groups/ml01/workspace/ignacio.ibarra/...  batch_donor_dataset   \n",
       "7   /storage/groups/ml01/workspace/ignacio.ibarra/...  batch_donor_dataset   \n",
       "8   /storage/groups/ml01/workspace/ignacio.ibarra/...  batch_donor_dataset   \n",
       "9   /storage/groups/ml01/workspace/ignacio.ibarra/...  batch_donor_dataset   \n",
       "10  /storage/groups/ml01/workspace/ignacio.ibarra/...  batch_donor_dataset   \n",
       "11  /storage/groups/ml01/workspace/ignacio.ibarra/...  batch_donor_dataset   \n",
       "12  /storage/groups/ml01/workspace/ignacio.ibarra/...  batch_donor_dataset   \n",
       "13  /storage/groups/ml01/workspace/ignacio.ibarra/...  batch_donor_dataset   \n",
       "14  /storage/groups/ml01/workspace/ignacio.ibarra/...  batch_donor_dataset   \n",
       "15  /storage/groups/ml01/workspace/ignacio.ibarra/...  batch_donor_dataset   \n",
       "16  /storage/groups/ml01/workspace/ignacio.ibarra/...  batch_donor_dataset   \n",
       "17  /storage/groups/ml01/workspace/ignacio.ibarra/...  batch_donor_dataset   \n",
       "\n",
       "    label_key                            name  \n",
       "0   cell.type        retinal_500_Chen+Hackney  \n",
       "1   cell.type          retinal_all_Chen+Sanes  \n",
       "2   cell.type                retinal_500_Chen  \n",
       "3   cell.type                retinal_all_Chen  \n",
       "4   cell.type        retinal_all_Chen+Scheetz  \n",
       "5   cell.type           retinal_500_Chen+Wong  \n",
       "6   cell.type          retinal_500_Chen+Sanes  \n",
       "7   cell.type        retinal_500_Chen+Scheetz  \n",
       "8   cell.type          retinal_500_Chen+Roska  \n",
       "9   cell.type                retinal_all_fix5  \n",
       "10  cell.type                 retinal_all_all  \n",
       "11  cell.type  retinal_all_Chen+Hackney+Roska  \n",
       "12  cell.type           retinal_all_Chen+Wong  \n",
       "13  cell.type         retinal_500_Chen+Hafler  \n",
       "14  cell.type         retinal_all_Chen+Hafler  \n",
       "15  cell.type          retinal_all_Chen+Roska  \n",
       "16  cell.type        retinal_all_Chen+Hackney  \n",
       "17  cell.type                 retinal_500_all  "
      ]
     },
     "execution_count": 8,
     "metadata": {},
     "output_type": "execute_result"
    }
   ],
   "source": [
    "queries"
   ]
  },
  {
   "cell_type": "code",
   "execution_count": 9,
   "id": "0d05d76c",
   "metadata": {},
   "outputs": [
    {
     "data": {
      "text/html": [
       "<div>\n",
       "<style scoped>\n",
       "    .dataframe tbody tr th:only-of-type {\n",
       "        vertical-align: middle;\n",
       "    }\n",
       "\n",
       "    .dataframe tbody tr th {\n",
       "        vertical-align: top;\n",
       "    }\n",
       "\n",
       "    .dataframe thead th {\n",
       "        text-align: right;\n",
       "    }\n",
       "</style>\n",
       "<table border=\"1\" class=\"dataframe\">\n",
       "  <thead>\n",
       "    <tr style=\"text-align: right;\">\n",
       "      <th></th>\n",
       "      <th>file</th>\n",
       "      <th>batch_key</th>\n",
       "      <th>label_key</th>\n",
       "      <th>name</th>\n",
       "    </tr>\n",
       "  </thead>\n",
       "  <tbody>\n",
       "    <tr>\n",
       "      <th>0</th>\n",
       "      <td>/storage/groups/ml01/workspace/ignacio.ibarra/...</td>\n",
       "      <td>batch_donor_dataset</td>\n",
       "      <td>cell.type</td>\n",
       "      <td>retinal_500_Chen+Hackney</td>\n",
       "    </tr>\n",
       "    <tr>\n",
       "      <th>1</th>\n",
       "      <td>/storage/groups/ml01/workspace/ignacio.ibarra/...</td>\n",
       "      <td>batch_donor_dataset</td>\n",
       "      <td>cell.type</td>\n",
       "      <td>retinal_all_Chen+Sanes</td>\n",
       "    </tr>\n",
       "    <tr>\n",
       "      <th>2</th>\n",
       "      <td>/storage/groups/ml01/workspace/ignacio.ibarra/...</td>\n",
       "      <td>batch_donor_dataset</td>\n",
       "      <td>cell.type</td>\n",
       "      <td>retinal_500_Chen</td>\n",
       "    </tr>\n",
       "    <tr>\n",
       "      <th>3</th>\n",
       "      <td>/storage/groups/ml01/workspace/ignacio.ibarra/...</td>\n",
       "      <td>batch_donor_dataset</td>\n",
       "      <td>cell.type</td>\n",
       "      <td>retinal_all_Chen</td>\n",
       "    </tr>\n",
       "    <tr>\n",
       "      <th>4</th>\n",
       "      <td>/storage/groups/ml01/workspace/ignacio.ibarra/...</td>\n",
       "      <td>batch_donor_dataset</td>\n",
       "      <td>cell.type</td>\n",
       "      <td>retinal_all_Chen+Scheetz</td>\n",
       "    </tr>\n",
       "    <tr>\n",
       "      <th>5</th>\n",
       "      <td>/storage/groups/ml01/workspace/ignacio.ibarra/...</td>\n",
       "      <td>batch_donor_dataset</td>\n",
       "      <td>cell.type</td>\n",
       "      <td>retinal_500_Chen+Wong</td>\n",
       "    </tr>\n",
       "    <tr>\n",
       "      <th>6</th>\n",
       "      <td>/storage/groups/ml01/workspace/ignacio.ibarra/...</td>\n",
       "      <td>batch_donor_dataset</td>\n",
       "      <td>cell.type</td>\n",
       "      <td>retinal_500_Chen+Sanes</td>\n",
       "    </tr>\n",
       "    <tr>\n",
       "      <th>7</th>\n",
       "      <td>/storage/groups/ml01/workspace/ignacio.ibarra/...</td>\n",
       "      <td>batch_donor_dataset</td>\n",
       "      <td>cell.type</td>\n",
       "      <td>retinal_500_Chen+Scheetz</td>\n",
       "    </tr>\n",
       "    <tr>\n",
       "      <th>8</th>\n",
       "      <td>/storage/groups/ml01/workspace/ignacio.ibarra/...</td>\n",
       "      <td>batch_donor_dataset</td>\n",
       "      <td>cell.type</td>\n",
       "      <td>retinal_500_Chen+Roska</td>\n",
       "    </tr>\n",
       "    <tr>\n",
       "      <th>9</th>\n",
       "      <td>/storage/groups/ml01/workspace/ignacio.ibarra/...</td>\n",
       "      <td>batch_donor_dataset</td>\n",
       "      <td>cell.type</td>\n",
       "      <td>retinal_all_fix5</td>\n",
       "    </tr>\n",
       "    <tr>\n",
       "      <th>10</th>\n",
       "      <td>/storage/groups/ml01/workspace/ignacio.ibarra/...</td>\n",
       "      <td>batch_donor_dataset</td>\n",
       "      <td>cell.type</td>\n",
       "      <td>retinal_all_all</td>\n",
       "    </tr>\n",
       "    <tr>\n",
       "      <th>11</th>\n",
       "      <td>/storage/groups/ml01/workspace/ignacio.ibarra/...</td>\n",
       "      <td>batch_donor_dataset</td>\n",
       "      <td>cell.type</td>\n",
       "      <td>retinal_all_Chen+Hackney+Roska</td>\n",
       "    </tr>\n",
       "    <tr>\n",
       "      <th>12</th>\n",
       "      <td>/storage/groups/ml01/workspace/ignacio.ibarra/...</td>\n",
       "      <td>batch_donor_dataset</td>\n",
       "      <td>cell.type</td>\n",
       "      <td>retinal_all_Chen+Wong</td>\n",
       "    </tr>\n",
       "    <tr>\n",
       "      <th>13</th>\n",
       "      <td>/storage/groups/ml01/workspace/ignacio.ibarra/...</td>\n",
       "      <td>batch_donor_dataset</td>\n",
       "      <td>cell.type</td>\n",
       "      <td>retinal_500_Chen+Hafler</td>\n",
       "    </tr>\n",
       "    <tr>\n",
       "      <th>14</th>\n",
       "      <td>/storage/groups/ml01/workspace/ignacio.ibarra/...</td>\n",
       "      <td>batch_donor_dataset</td>\n",
       "      <td>cell.type</td>\n",
       "      <td>retinal_all_Chen+Hafler</td>\n",
       "    </tr>\n",
       "    <tr>\n",
       "      <th>15</th>\n",
       "      <td>/storage/groups/ml01/workspace/ignacio.ibarra/...</td>\n",
       "      <td>batch_donor_dataset</td>\n",
       "      <td>cell.type</td>\n",
       "      <td>retinal_all_Chen+Roska</td>\n",
       "    </tr>\n",
       "    <tr>\n",
       "      <th>16</th>\n",
       "      <td>/storage/groups/ml01/workspace/ignacio.ibarra/...</td>\n",
       "      <td>batch_donor_dataset</td>\n",
       "      <td>cell.type</td>\n",
       "      <td>retinal_all_Chen+Hackney</td>\n",
       "    </tr>\n",
       "    <tr>\n",
       "      <th>17</th>\n",
       "      <td>/storage/groups/ml01/workspace/ignacio.ibarra/...</td>\n",
       "      <td>batch_donor_dataset</td>\n",
       "      <td>cell.type</td>\n",
       "      <td>retinal_500_all</td>\n",
       "    </tr>\n",
       "  </tbody>\n",
       "</table>\n",
       "</div>"
      ],
      "text/plain": [
       "                                                 file            batch_key  \\\n",
       "0   /storage/groups/ml01/workspace/ignacio.ibarra/...  batch_donor_dataset   \n",
       "1   /storage/groups/ml01/workspace/ignacio.ibarra/...  batch_donor_dataset   \n",
       "2   /storage/groups/ml01/workspace/ignacio.ibarra/...  batch_donor_dataset   \n",
       "3   /storage/groups/ml01/workspace/ignacio.ibarra/...  batch_donor_dataset   \n",
       "4   /storage/groups/ml01/workspace/ignacio.ibarra/...  batch_donor_dataset   \n",
       "5   /storage/groups/ml01/workspace/ignacio.ibarra/...  batch_donor_dataset   \n",
       "6   /storage/groups/ml01/workspace/ignacio.ibarra/...  batch_donor_dataset   \n",
       "7   /storage/groups/ml01/workspace/ignacio.ibarra/...  batch_donor_dataset   \n",
       "8   /storage/groups/ml01/workspace/ignacio.ibarra/...  batch_donor_dataset   \n",
       "9   /storage/groups/ml01/workspace/ignacio.ibarra/...  batch_donor_dataset   \n",
       "10  /storage/groups/ml01/workspace/ignacio.ibarra/...  batch_donor_dataset   \n",
       "11  /storage/groups/ml01/workspace/ignacio.ibarra/...  batch_donor_dataset   \n",
       "12  /storage/groups/ml01/workspace/ignacio.ibarra/...  batch_donor_dataset   \n",
       "13  /storage/groups/ml01/workspace/ignacio.ibarra/...  batch_donor_dataset   \n",
       "14  /storage/groups/ml01/workspace/ignacio.ibarra/...  batch_donor_dataset   \n",
       "15  /storage/groups/ml01/workspace/ignacio.ibarra/...  batch_donor_dataset   \n",
       "16  /storage/groups/ml01/workspace/ignacio.ibarra/...  batch_donor_dataset   \n",
       "17  /storage/groups/ml01/workspace/ignacio.ibarra/...  batch_donor_dataset   \n",
       "\n",
       "    label_key                            name  \n",
       "0   cell.type        retinal_500_Chen+Hackney  \n",
       "1   cell.type          retinal_all_Chen+Sanes  \n",
       "2   cell.type                retinal_500_Chen  \n",
       "3   cell.type                retinal_all_Chen  \n",
       "4   cell.type        retinal_all_Chen+Scheetz  \n",
       "5   cell.type           retinal_500_Chen+Wong  \n",
       "6   cell.type          retinal_500_Chen+Sanes  \n",
       "7   cell.type        retinal_500_Chen+Scheetz  \n",
       "8   cell.type          retinal_500_Chen+Roska  \n",
       "9   cell.type                retinal_all_fix5  \n",
       "10  cell.type                 retinal_all_all  \n",
       "11  cell.type  retinal_all_Chen+Hackney+Roska  \n",
       "12  cell.type           retinal_all_Chen+Wong  \n",
       "13  cell.type         retinal_500_Chen+Hafler  \n",
       "14  cell.type         retinal_all_Chen+Hafler  \n",
       "15  cell.type          retinal_all_Chen+Roska  \n",
       "16  cell.type        retinal_all_Chen+Hackney  \n",
       "17  cell.type                 retinal_500_all  "
      ]
     },
     "execution_count": 9,
     "metadata": {},
     "output_type": "execute_result"
    }
   ],
   "source": [
    "# queries = queries[queries['file'].str.contains('Chen_fix5')]\n",
    "queries"
   ]
  },
  {
   "cell_type": "code",
   "execution_count": 10,
   "id": "61ec6adc-2536-4f73-a505-9a649c4adad5",
   "metadata": {},
   "outputs": [
    {
     "data": {
      "text/html": [
       "<div>\n",
       "<style scoped>\n",
       "    .dataframe tbody tr th:only-of-type {\n",
       "        vertical-align: middle;\n",
       "    }\n",
       "\n",
       "    .dataframe tbody tr th {\n",
       "        vertical-align: top;\n",
       "    }\n",
       "\n",
       "    .dataframe thead th {\n",
       "        text-align: right;\n",
       "    }\n",
       "</style>\n",
       "<table border=\"1\" class=\"dataframe\">\n",
       "  <thead>\n",
       "    <tr style=\"text-align: right;\">\n",
       "      <th></th>\n",
       "      <th>file</th>\n",
       "      <th>batch_key</th>\n",
       "      <th>label_key</th>\n",
       "      <th>name</th>\n",
       "    </tr>\n",
       "  </thead>\n",
       "  <tbody>\n",
       "    <tr>\n",
       "      <th>0</th>\n",
       "      <td>/storage/groups/ml01/workspace/ignacio.ibarra/...</td>\n",
       "      <td>batch_donor_dataset</td>\n",
       "      <td>cell.type</td>\n",
       "      <td>retinal_500_Chen+Hackney</td>\n",
       "    </tr>\n",
       "    <tr>\n",
       "      <th>1</th>\n",
       "      <td>/storage/groups/ml01/workspace/ignacio.ibarra/...</td>\n",
       "      <td>batch_donor_dataset</td>\n",
       "      <td>cell.type</td>\n",
       "      <td>retinal_all_Chen+Sanes</td>\n",
       "    </tr>\n",
       "    <tr>\n",
       "      <th>2</th>\n",
       "      <td>/storage/groups/ml01/workspace/ignacio.ibarra/...</td>\n",
       "      <td>batch_donor_dataset</td>\n",
       "      <td>cell.type</td>\n",
       "      <td>retinal_500_Chen</td>\n",
       "    </tr>\n",
       "    <tr>\n",
       "      <th>3</th>\n",
       "      <td>/storage/groups/ml01/workspace/ignacio.ibarra/...</td>\n",
       "      <td>batch_donor_dataset</td>\n",
       "      <td>cell.type</td>\n",
       "      <td>retinal_all_Chen</td>\n",
       "    </tr>\n",
       "    <tr>\n",
       "      <th>4</th>\n",
       "      <td>/storage/groups/ml01/workspace/ignacio.ibarra/...</td>\n",
       "      <td>batch_donor_dataset</td>\n",
       "      <td>cell.type</td>\n",
       "      <td>retinal_all_Chen+Scheetz</td>\n",
       "    </tr>\n",
       "    <tr>\n",
       "      <th>5</th>\n",
       "      <td>/storage/groups/ml01/workspace/ignacio.ibarra/...</td>\n",
       "      <td>batch_donor_dataset</td>\n",
       "      <td>cell.type</td>\n",
       "      <td>retinal_500_Chen+Wong</td>\n",
       "    </tr>\n",
       "    <tr>\n",
       "      <th>6</th>\n",
       "      <td>/storage/groups/ml01/workspace/ignacio.ibarra/...</td>\n",
       "      <td>batch_donor_dataset</td>\n",
       "      <td>cell.type</td>\n",
       "      <td>retinal_500_Chen+Sanes</td>\n",
       "    </tr>\n",
       "    <tr>\n",
       "      <th>7</th>\n",
       "      <td>/storage/groups/ml01/workspace/ignacio.ibarra/...</td>\n",
       "      <td>batch_donor_dataset</td>\n",
       "      <td>cell.type</td>\n",
       "      <td>retinal_500_Chen+Scheetz</td>\n",
       "    </tr>\n",
       "    <tr>\n",
       "      <th>8</th>\n",
       "      <td>/storage/groups/ml01/workspace/ignacio.ibarra/...</td>\n",
       "      <td>batch_donor_dataset</td>\n",
       "      <td>cell.type</td>\n",
       "      <td>retinal_500_Chen+Roska</td>\n",
       "    </tr>\n",
       "    <tr>\n",
       "      <th>9</th>\n",
       "      <td>/storage/groups/ml01/workspace/ignacio.ibarra/...</td>\n",
       "      <td>batch_donor_dataset</td>\n",
       "      <td>cell.type</td>\n",
       "      <td>retinal_all_fix5</td>\n",
       "    </tr>\n",
       "    <tr>\n",
       "      <th>10</th>\n",
       "      <td>/storage/groups/ml01/workspace/ignacio.ibarra/...</td>\n",
       "      <td>batch_donor_dataset</td>\n",
       "      <td>cell.type</td>\n",
       "      <td>retinal_all_all</td>\n",
       "    </tr>\n",
       "    <tr>\n",
       "      <th>11</th>\n",
       "      <td>/storage/groups/ml01/workspace/ignacio.ibarra/...</td>\n",
       "      <td>batch_donor_dataset</td>\n",
       "      <td>cell.type</td>\n",
       "      <td>retinal_all_Chen+Hackney+Roska</td>\n",
       "    </tr>\n",
       "    <tr>\n",
       "      <th>12</th>\n",
       "      <td>/storage/groups/ml01/workspace/ignacio.ibarra/...</td>\n",
       "      <td>batch_donor_dataset</td>\n",
       "      <td>cell.type</td>\n",
       "      <td>retinal_all_Chen+Wong</td>\n",
       "    </tr>\n",
       "    <tr>\n",
       "      <th>13</th>\n",
       "      <td>/storage/groups/ml01/workspace/ignacio.ibarra/...</td>\n",
       "      <td>batch_donor_dataset</td>\n",
       "      <td>cell.type</td>\n",
       "      <td>retinal_500_Chen+Hafler</td>\n",
       "    </tr>\n",
       "    <tr>\n",
       "      <th>14</th>\n",
       "      <td>/storage/groups/ml01/workspace/ignacio.ibarra/...</td>\n",
       "      <td>batch_donor_dataset</td>\n",
       "      <td>cell.type</td>\n",
       "      <td>retinal_all_Chen+Hafler</td>\n",
       "    </tr>\n",
       "    <tr>\n",
       "      <th>15</th>\n",
       "      <td>/storage/groups/ml01/workspace/ignacio.ibarra/...</td>\n",
       "      <td>batch_donor_dataset</td>\n",
       "      <td>cell.type</td>\n",
       "      <td>retinal_all_Chen+Roska</td>\n",
       "    </tr>\n",
       "    <tr>\n",
       "      <th>16</th>\n",
       "      <td>/storage/groups/ml01/workspace/ignacio.ibarra/...</td>\n",
       "      <td>batch_donor_dataset</td>\n",
       "      <td>cell.type</td>\n",
       "      <td>retinal_all_Chen+Hackney</td>\n",
       "    </tr>\n",
       "    <tr>\n",
       "      <th>17</th>\n",
       "      <td>/storage/groups/ml01/workspace/ignacio.ibarra/...</td>\n",
       "      <td>batch_donor_dataset</td>\n",
       "      <td>cell.type</td>\n",
       "      <td>retinal_500_all</td>\n",
       "    </tr>\n",
       "  </tbody>\n",
       "</table>\n",
       "</div>"
      ],
      "text/plain": [
       "                                                 file            batch_key  \\\n",
       "0   /storage/groups/ml01/workspace/ignacio.ibarra/...  batch_donor_dataset   \n",
       "1   /storage/groups/ml01/workspace/ignacio.ibarra/...  batch_donor_dataset   \n",
       "2   /storage/groups/ml01/workspace/ignacio.ibarra/...  batch_donor_dataset   \n",
       "3   /storage/groups/ml01/workspace/ignacio.ibarra/...  batch_donor_dataset   \n",
       "4   /storage/groups/ml01/workspace/ignacio.ibarra/...  batch_donor_dataset   \n",
       "5   /storage/groups/ml01/workspace/ignacio.ibarra/...  batch_donor_dataset   \n",
       "6   /storage/groups/ml01/workspace/ignacio.ibarra/...  batch_donor_dataset   \n",
       "7   /storage/groups/ml01/workspace/ignacio.ibarra/...  batch_donor_dataset   \n",
       "8   /storage/groups/ml01/workspace/ignacio.ibarra/...  batch_donor_dataset   \n",
       "9   /storage/groups/ml01/workspace/ignacio.ibarra/...  batch_donor_dataset   \n",
       "10  /storage/groups/ml01/workspace/ignacio.ibarra/...  batch_donor_dataset   \n",
       "11  /storage/groups/ml01/workspace/ignacio.ibarra/...  batch_donor_dataset   \n",
       "12  /storage/groups/ml01/workspace/ignacio.ibarra/...  batch_donor_dataset   \n",
       "13  /storage/groups/ml01/workspace/ignacio.ibarra/...  batch_donor_dataset   \n",
       "14  /storage/groups/ml01/workspace/ignacio.ibarra/...  batch_donor_dataset   \n",
       "15  /storage/groups/ml01/workspace/ignacio.ibarra/...  batch_donor_dataset   \n",
       "16  /storage/groups/ml01/workspace/ignacio.ibarra/...  batch_donor_dataset   \n",
       "17  /storage/groups/ml01/workspace/ignacio.ibarra/...  batch_donor_dataset   \n",
       "\n",
       "    label_key                            name  \n",
       "0   cell.type        retinal_500_Chen+Hackney  \n",
       "1   cell.type          retinal_all_Chen+Sanes  \n",
       "2   cell.type                retinal_500_Chen  \n",
       "3   cell.type                retinal_all_Chen  \n",
       "4   cell.type        retinal_all_Chen+Scheetz  \n",
       "5   cell.type           retinal_500_Chen+Wong  \n",
       "6   cell.type          retinal_500_Chen+Sanes  \n",
       "7   cell.type        retinal_500_Chen+Scheetz  \n",
       "8   cell.type          retinal_500_Chen+Roska  \n",
       "9   cell.type                retinal_all_fix5  \n",
       "10  cell.type                 retinal_all_all  \n",
       "11  cell.type  retinal_all_Chen+Hackney+Roska  \n",
       "12  cell.type           retinal_all_Chen+Wong  \n",
       "13  cell.type         retinal_500_Chen+Hafler  \n",
       "14  cell.type         retinal_all_Chen+Hafler  \n",
       "15  cell.type          retinal_all_Chen+Roska  \n",
       "16  cell.type        retinal_all_Chen+Hackney  \n",
       "17  cell.type                 retinal_500_all  "
      ]
     },
     "execution_count": 10,
     "metadata": {},
     "output_type": "execute_result"
    }
   ],
   "source": [
    "queries"
   ]
  },
  {
   "cell_type": "code",
   "execution_count": 11,
   "id": "031b8c27",
   "metadata": {},
   "outputs": [],
   "source": [
    "# queries = queries[queries['name'].str.contains('Chen\\+Hackney\\+Roska')]"
   ]
  },
  {
   "cell_type": "code",
   "execution_count": 12,
   "id": "3968962d",
   "metadata": {},
   "outputs": [
    {
     "name": "stdout",
     "output_type": "stream",
     "text": [
      "\n",
      "# of cells (input argument) None\n",
      "True /mnt/znas/icb_zstore01/groups/ml01/workspace/ignacio.ibarra/theislab/retinal_scRNAseq_integration/data/integration_march_2021/input/input_all_cells_all.h5ad\n"
     ]
    }
   ],
   "source": [
    "\n",
    "dataset_template = '''\n",
    "  $query_name:\n",
    "    batch_key: $batch_key\n",
    "    label_key: $label_key\n",
    "    assay: expression\n",
    "    organism: human\n",
    "    file: $path\n",
    "'''\n",
    "out_queries = ''\n",
    "for ri, r in queries.iterrows():\n",
    "    # print(ri, r.values)\n",
    "    next_query = dataset_template.replace('$query_name', r['name'] + '_' + r['batch_key'] + '_' + r['label_key'])\n",
    "    next_query = next_query.replace('$batch_key', r['batch_key']).replace('$label_key', r['label_key']).replace('$path', r['file'])\n",
    "    out_queries += next_query\n",
    "\n",
    "out_methods = ''\n",
    "for q in methods_query:\n",
    "    next_method = '  ' + q + ':\\n    ' + '\\n    '.join(methods_data[q])\n",
    "    out_methods += next_method + '\\n'\n",
    "out = lines.replace('$METHODS_QUERY', out_methods)\n",
    "out = out.replace('$DATA_SCENARIOS_QUERY', out_queries)\n",
    "\n",
    "config_output_path = '/mnt/znas/icb_zstore01/groups/ml01/workspace/ignacio.ibarra/theislab/scib/config_retinal_old.yaml'\n",
    "writer = open(config_output_path, 'w')\n",
    "writer.writelines(out + '\\n')\n",
    "writer.close()\n",
    "\n",
    "overwrite = False\n",
    "for n_sample_per_batch in [None]:\n",
    "    # examine types, columns and others incorporated in the object\n",
    "    \n",
    "    code_n_cells = (('_' + str(n_sample_per_batch) if n_sample_per_batch is not None else ''))\n",
    "    print(code_n_cells)\n",
    "    print('# of cells (input argument)', n_sample_per_batch)\n",
    "    code_output = (('_' + str(n_sample_per_batch) if n_sample_per_batch is not None else '_all'))\n",
    "    output_path = '../../data/integration_march_2021/input/input%s_cells_all.h5ad' % code_output\n",
    "    abspath_scib = os.path.abspath(output_path)        \n",
    "    print(exists(abspath_scib), abspath_scib)\n",
    "    \n",
    "## write a single path with the DATA_scenarios\n",
    "scenarios_path = config_output_path.replace('.yaml', '_scenarios.yaml')\n",
    "writer = open(scenarios_path, 'w')\n",
    "writer.writelines(out_queries + '\\n')\n",
    "writer.close()\n",
    "# print(abspath(scenarios_path))"
   ]
  },
  {
   "cell_type": "markdown",
   "id": "e131dfb9",
   "metadata": {},
   "source": [
    "### Print commands that will be executed during the pipelin"
   ]
  },
  {
   "cell_type": "code",
   "execution_count": 13,
   "id": "90cb24ef",
   "metadata": {},
   "outputs": [],
   "source": [
    "dryrun_cmds_path = '/storage/groups/ml01/workspace/ignacio.ibarra/theislab/scib/snakemake_dryrun_retinal.out'\n",
    "dryrun_cmds_path_all = '/storage/groups/ml01/workspace/ignacio.ibarra/theislab/scib/snakemake_dryrun_retinal_all.out'"
   ]
  },
  {
   "cell_type": "code",
   "execution_count": 14,
   "id": "a1ccc512",
   "metadata": {},
   "outputs": [
    {
     "name": "stdout",
     "output_type": "stream",
     "text": [
      "/mnt/znas/icb_zstore01/groups/ml01/workspace/ignacio.ibarra/theislab/retinal_scRNAseq_integration/notebooks/pipeline_integration\n"
     ]
    }
   ],
   "source": [
    "!readlink -f ."
   ]
  },
  {
   "cell_type": "code",
   "execution_count": 15,
   "id": "4766b94b",
   "metadata": {},
   "outputs": [
    {
     "name": "stdout",
     "output_type": "stream",
     "text": [
      "/mnt/znas/icb_zstore01/groups/ml01/workspace/ignacio.ibarra/theislab/scib\n"
     ]
    }
   ],
   "source": [
    "cd ~/workspace/ignacio.ibarra/theislab/scib"
   ]
  },
  {
   "cell_type": "code",
   "execution_count": null,
   "id": "eec8567f",
   "metadata": {},
   "outputs": [],
   "source": [
    "!snakemake --configfile config_retinal.yaml --dryrun --printshellcmds --nolock  > $dryrun_cmds_path\n",
    "!snakemake --configfile config_retinal.yaml --dryrun --printshellcmds --nolock -R integration_run_python  > $dryrun_cmds_path_all"
   ]
  },
  {
   "cell_type": "code",
   "execution_count": null,
   "id": "c8367fc7",
   "metadata": {},
   "outputs": [],
   "source": [
    "# !head $dryrun_cmds_path_all"
   ]
  },
  {
   "cell_type": "code",
   "execution_count": null,
   "id": "321fb532",
   "metadata": {},
   "outputs": [],
   "source": [
    "# cd '/mnt/znas/icb_zstore01/groups/ml01/workspace/ignacio.ibarra/theislab/retinal_scRNAseq_integration/notebooks/pipeline_integration_2021_march'\n",
    "queries = [q.strip() for q in open(dryrun_cmds_path) if q.strip().startswith('conda') and 'runIntegration' in q] #  in q and 'runIntegration'in q]\n",
    "queries_postintegration = [q.strip() for q in open(dryrun_cmds_path_all) if q.strip().startswith('conda') and not 'runIntegration' in q] #  in q and 'runIntegration'in q]\n",
    "queries_all = [q.strip() for q in open(dryrun_cmds_path_all) if q.strip().startswith('conda') and 'runIntegration' in q] #  in q and 'runIntegration'in q]\n"
   ]
  },
  {
   "cell_type": "code",
   "execution_count": null,
   "id": "44a291b8",
   "metadata": {},
   "outputs": [],
   "source": [
    "len(queries), len(queries_all), len(queries_postintegration)"
   ]
  },
  {
   "cell_type": "code",
   "execution_count": null,
   "id": "42c3baf2",
   "metadata": {},
   "outputs": [],
   "source": [
    "for q in queries[:10]:\n",
    "    print(q)\n",
    "    print('')"
   ]
  },
  {
   "cell_type": "markdown",
   "id": "da690e2c",
   "metadata": {},
   "source": [
    "### Generate sbatch query for GPU routines (e.g. scgen, scVI, scANVI)"
   ]
  },
  {
   "cell_type": "code",
   "execution_count": null,
   "id": "4de35725",
   "metadata": {},
   "outputs": [],
   "source": [
    "# queries_all"
   ]
  },
  {
   "cell_type": "code",
   "execution_count": null,
   "id": "c31f9d49",
   "metadata": {},
   "outputs": [],
   "source": [
    "q"
   ]
  },
  {
   "cell_type": "code",
   "execution_count": null,
   "id": "93c0d4fe",
   "metadata": {},
   "outputs": [],
   "source": [
    "# to run GPU methods, we save the path of input queries into output\n",
    "paths = []\n",
    "for q in queries_all:\n",
    "    s = q.split(' ')\n",
    "    s = [si for si in s if not len(si.strip()) == 0]\n",
    "    # print(s)\n",
    "\n",
    "    args = ['--method', '-v', '-c', '-i', '-o', '--nepochs', '--nlayers', '--nhidden']\n",
    "    v = []\n",
    "    for a in args:\n",
    "        found = False\n",
    "        for si, x in enumerate(s):\n",
    "            if x == a:\n",
    "                found = True\n",
    "                v.append(s[si + 1])\n",
    "        if not found:\n",
    "            v.append(None)\n",
    "    # print(v)\n",
    "    \n",
    "    paths.append(v)\n",
    "    \n"
   ]
  },
  {
   "cell_type": "code",
   "execution_count": null,
   "id": "d4bd0cec",
   "metadata": {},
   "outputs": [],
   "source": [
    "cd ~/workspace/theislab/retinal_scRNAseq_integration/notebooks/pipeline_integration"
   ]
  },
  {
   "cell_type": "code",
   "execution_count": null,
   "id": "ba433c86",
   "metadata": {},
   "outputs": [],
   "source": [
    "df = pd.DataFrame(paths, columns=['method', 'hvg', 'cell_type_key', 'input', 'output', 'nepochs', 'nlayers', 'nhidden'])"
   ]
  },
  {
   "cell_type": "code",
   "execution_count": null,
   "id": "1a68adcd-9746-43a5-ba23-693bcbee8828",
   "metadata": {},
   "outputs": [],
   "source": [
    "# only 1K\n",
    "df = df[df['input'].str.contains('1K')]"
   ]
  },
  {
   "cell_type": "code",
   "execution_count": null,
   "id": "b7b342fc-2d1e-483a-8d96-60d8fb0b00d5",
   "metadata": {},
   "outputs": [],
   "source": [
    "list(df['output'])"
   ]
  },
  {
   "cell_type": "code",
   "execution_count": null,
   "id": "93690dd3",
   "metadata": {},
   "outputs": [],
   "source": [
    "df['cell_type_key'] = np.where(df['method'].isin({'scvi', 'scgen'}),  'cell.type', df['cell_type_key'])\n",
    "df\n",
    "# for f in df['input']:\n",
    "#     print(f)"
   ]
  },
  {
   "cell_type": "code",
   "execution_count": null,
   "id": "95eac9b9",
   "metadata": {},
   "outputs": [],
   "source": [
    "output_exists = []\n",
    "input_exists = []\n",
    "for ri, r in df.iterrows():\n",
    "    output_exists.append(exists(r['output']))\n",
    "    input_exists.append(exists(r['input']))\n",
    "df['in.exists'] = input_exists\n",
    "df['out.exists'] = output_exists\n",
    "\n",
    "# df = df[~df['input'].str.contains('Roska')]\n",
    "# df = df[~df['input'].str.contains('Hafler')]\n",
    "\n",
    "df_all = df.copy()\n",
    "df = df[~df['out.exists'] & df['in.exists']]\n",
    "del df['in.exists']\n",
    "del df['out.exists']\n"
   ]
  },
  {
   "cell_type": "code",
   "execution_count": null,
   "id": "5ca70379",
   "metadata": {},
   "outputs": [],
   "source": [
    "df_all.shape"
   ]
  },
  {
   "cell_type": "code",
   "execution_count": null,
   "id": "4a9fd272",
   "metadata": {},
   "outputs": [],
   "source": [
    "df.shape"
   ]
  },
  {
   "cell_type": "code",
   "execution_count": null,
   "id": "38c30ced",
   "metadata": {},
   "outputs": [],
   "source": [
    "# df['output']"
   ]
  },
  {
   "cell_type": "code",
   "execution_count": null,
   "id": "f77fb397",
   "metadata": {},
   "outputs": [],
   "source": [
    "# list(df_all['output'])"
   ]
  },
  {
   "cell_type": "code",
   "execution_count": null,
   "id": "f58bfabc",
   "metadata": {},
   "outputs": [],
   "source": [
    "df['sample'] = df['output'].str.split('/').str[-5].astype(str).str.split('_').str[1]\n",
    "df = df.sort_values('sample')\n",
    "# df['output'].value_counts()\n",
    "df = df[df['method'].str.split('_').str[0].isin({'scvi', 'scgen', 'scanvi'})]\n"
   ]
  },
  {
   "cell_type": "code",
   "execution_count": null,
   "id": "91b25f34",
   "metadata": {},
   "outputs": [],
   "source": [
    "df.shape"
   ]
  },
  {
   "cell_type": "code",
   "execution_count": null,
   "id": "19482dd4",
   "metadata": {},
   "outputs": [],
   "source": [
    "# list(df['output'])"
   ]
  },
  {
   "cell_type": "code",
   "execution_count": null,
   "id": "7bbc5782",
   "metadata": {},
   "outputs": [],
   "source": [
    "del df['sample']"
   ]
  },
  {
   "cell_type": "code",
   "execution_count": null,
   "id": "d3348cbc",
   "metadata": {},
   "outputs": [],
   "source": [
    "df.shape"
   ]
  },
  {
   "cell_type": "code",
   "execution_count": null,
   "id": "2fbfd34d",
   "metadata": {},
   "outputs": [],
   "source": [
    "# df[((df['output'].str.contains('Wong')) & (df['method'].str.contains('scgen')))].reset_index(drop=True)\n",
    "# df[((df['output'].str.contains('Wong')) & (df['method'].str.contains('scgen')))].reset_index(drop=True).to_csv('queries_gpu_methods.csv')"
   ]
  },
  {
   "cell_type": "code",
   "execution_count": null,
   "id": "6ab3f0d1",
   "metadata": {},
   "outputs": [],
   "source": [
    "df = df.reset_index(drop=True)\n",
    "print(df.shape)\n",
    "df.reset_index(drop=True).to_csv('queries_gpu_methods.csv')\n",
    "# df\n",
    "df.shape"
   ]
  },
  {
   "cell_type": "code",
   "execution_count": null,
   "id": "ed709978",
   "metadata": {},
   "outputs": [],
   "source": [
    "df"
   ]
  },
  {
   "cell_type": "code",
   "execution_count": null,
   "id": "616d9da2",
   "metadata": {},
   "outputs": [],
   "source": [
    "df_all = df_all.reset_index(drop=True)\n",
    "print(df_all.shape)\n",
    "df_all.reset_index(drop=True).to_csv('queries_gpu_methods_all.csv')\n",
    "# df\n",
    "df_all.head(10)"
   ]
  },
  {
   "cell_type": "code",
   "execution_count": null,
   "id": "907e969e",
   "metadata": {},
   "outputs": [],
   "source": [
    "df_all"
   ]
  },
  {
   "cell_type": "code",
   "execution_count": null,
   "id": "cbc8d20e",
   "metadata": {},
   "outputs": [],
   "source": [
    "df_all['out.exists'].value_counts()"
   ]
  },
  {
   "cell_type": "code",
   "execution_count": null,
   "id": "6531aedb",
   "metadata": {},
   "outputs": [],
   "source": [
    "# list(df_all[~df_all['out.exists']]['out.exists'])"
   ]
  },
  {
   "cell_type": "code",
   "execution_count": null,
   "id": "5f25a6d7",
   "metadata": {},
   "outputs": [],
   "source": [
    "for ri, r in df.iterrows():\n",
    "    if not exists(r['output']):\n",
    "        print(exists(r['input']), exists(r['output']), r['output'].replace('/storage/groups/ml01/workspace/ignacio.ibarra/', '~/workspace/theislab'))\n"
   ]
  },
  {
   "cell_type": "code",
   "execution_count": null,
   "id": "2c8f1ea1",
   "metadata": {},
   "outputs": [],
   "source": [
    "df.shape"
   ]
  },
  {
   "cell_type": "code",
   "execution_count": null,
   "id": "9da863e0",
   "metadata": {},
   "outputs": [],
   "source": [
    "# this is the command one should run as a job array\n",
    "print('sbatch --array=0-%i %s' % (df.shape[0] - 1, 'submit_gpu.sh'))"
   ]
  },
  {
   "cell_type": "code",
   "execution_count": null,
   "id": "29d8bc8f-9f81-4a41-9b0e-9c534b8642a7",
   "metadata": {},
   "outputs": [],
   "source": [
    "!pwd"
   ]
  },
  {
   "cell_type": "code",
   "execution_count": null,
   "id": "053c21d2",
   "metadata": {},
   "outputs": [],
   "source": [
    "df"
   ]
  },
  {
   "cell_type": "markdown",
   "id": "633f976a",
   "metadata": {},
   "source": [
    "### Generate a new config_retinal that will only contain the cases where output has been genera"
   ]
  },
  {
   "cell_type": "code",
   "execution_count": null,
   "id": "14728a42",
   "metadata": {},
   "outputs": [],
   "source": [
    "scib_wd_dir = '/mnt/znas/icb_zstore01/groups/ml01/workspace/ignacio.ibarra/theislab/scib'"
   ]
  },
  {
   "cell_type": "code",
   "execution_count": null,
   "id": "2470f5c0",
   "metadata": {},
   "outputs": [],
   "source": [
    "from os.path import join"
   ]
  },
  {
   "cell_type": "code",
   "execution_count": null,
   "id": "fb0c60a8",
   "metadata": {},
   "outputs": [],
   "source": [
    "scib_methods_path = join(scib_wd_dir, 'config_retinal.yaml')\n",
    "lines = [r for r in open(scib_methods_path)]\n",
    "methods_data = {}\n",
    "curr_method = None\n",
    "method_parms = []\n",
    "for e in lines:\n",
    "    if e.startswith('  ') and not e.startswith('   '):\n",
    "        if curr_method is not None:\n",
    "            methods_data[curr_method] = method_parms\n",
    "        curr_method = e.strip()[:-1]\n",
    "        method_parms = []\n",
    "    else:\n",
    "        method_parms.append(e.strip())\n",
    "        \n",
    "# last method\n",
    "methods_data[curr_method] = method_parms"
   ]
  },
  {
   "cell_type": "markdown",
   "id": "c919628b",
   "metadata": {},
   "source": [
    "### This indicates the amount of entries that have not finished"
   ]
  },
  {
   "cell_type": "code",
   "execution_count": null,
   "id": "4021d229",
   "metadata": {},
   "outputs": [],
   "source": [
    "entries = list(methods_data.keys())\n",
    "for k in entries:\n",
    "    if k.startswith('scvi') or k.startswith('scanvi') or k.startswith('scgen'):\n",
    "        print(k, sum(~df_all[df_all['method'] == k]['out.exists']))\n",
    "    else:\n",
    "        del methods_data[k]\n"
   ]
  },
  {
   "cell_type": "code",
   "execution_count": null,
   "id": "486b9f9b",
   "metadata": {},
   "outputs": [],
   "source": [
    "methods_data"
   ]
  },
  {
   "cell_type": "code",
   "execution_count": null,
   "id": "fbaf9d88",
   "metadata": {},
   "outputs": [],
   "source": [
    "for f in df['output']:\n",
    "    print(exists(f), f)"
   ]
  },
  {
   "cell_type": "markdown",
   "id": "d6e4b4ce",
   "metadata": {},
   "source": [
    "## To calculate embeddings and other stuff, we only rely on cases where all output is available."
   ]
  },
  {
   "cell_type": "code",
   "execution_count": null,
   "id": "3277e8c0",
   "metadata": {},
   "outputs": [],
   "source": [
    "done = {}\n",
    "df_all['case'] = list(df_all['input'].str.split('/').str[-5])\n",
    "for case, grp in df_all.groupby('method'):\n",
    "    all_found = sum(grp['out.exists']) == grp.shape[0]\n",
    "    print(case, grp.shape, sum(grp['out.exists']), all_found)"
   ]
  },
  {
   "cell_type": "code",
   "execution_count": null,
   "id": "637d4d55",
   "metadata": {},
   "outputs": [],
   "source": [
    "len(queries_all)"
   ]
  },
  {
   "cell_type": "code",
   "execution_count": null,
   "id": "497882e9",
   "metadata": {},
   "outputs": [],
   "source": [
    "queries_postintegration = [q for q in queries_postintegration if 'save_embeddings.py' in q] #  in q or 'scripts/metrics.py' in q]\n",
    "# print(len(queries_postintegration))\n",
    "selected_cmds = []\n",
    "for q in queries_postintegration:\n",
    "    s = q.split(' ')\n",
    "    input_pos = [pi for pi, p in enumerate(s) if p == '-i' or p == '--input'][0]\n",
    "    input_path = s[input_pos + 1]\n",
    "    # if exists(input_path):\n",
    "    #     print(q)\n",
    "    selected_cmds.append(q)\n",
    "writer = open('queries_postintegration_%s.sh' % 'save_embeddings', 'w')\n",
    "writer.writelines('\\n'.join(selected_cmds) + '\\n')\n",
    "writer.close()"
   ]
  },
  {
   "cell_type": "code",
   "execution_count": null,
   "id": "3a20a7e5",
   "metadata": {},
   "outputs": [],
   "source": [
    "len(selected_cmds)"
   ]
  },
  {
   "cell_type": "code",
   "execution_count": null,
   "id": "4fd94774",
   "metadata": {},
   "outputs": [],
   "source": [
    "# this is the command one should run as a job array\n",
    "print('sbatch --array=0-%i %s' % (len(selected_cmds) - 1, 'submit_cpu_save_embeddings.sh'))"
   ]
  },
  {
   "cell_type": "code",
   "execution_count": null,
   "id": "bddaa3fb-f452-4bec-a2bd-c06038ca846a",
   "metadata": {},
   "outputs": [],
   "source": []
  }
 ],
 "metadata": {
  "kernelspec": {
   "display_name": "Python [conda env:mypython3] *",
   "language": "python",
   "name": "conda-env-mypython3-py"
  },
  "language_info": {
   "codemirror_mode": {
    "name": "ipython",
    "version": 3
   },
   "file_extension": ".py",
   "mimetype": "text/x-python",
   "name": "python",
   "nbconvert_exporter": "python",
   "pygments_lexer": "ipython3",
   "version": "3.7.8"
  }
 },
 "nbformat": 4,
 "nbformat_minor": 5
}
