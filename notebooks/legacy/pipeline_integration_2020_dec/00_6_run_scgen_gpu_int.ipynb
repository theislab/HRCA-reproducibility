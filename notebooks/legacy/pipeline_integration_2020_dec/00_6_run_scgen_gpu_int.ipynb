{
 "cells": [
  {
   "cell_type": "code",
   "execution_count": 1,
   "metadata": {},
   "outputs": [
    {
     "name": "stdout",
     "output_type": "stream",
     "text": [
      "/home/icb/ignacio.ibarra/miniconda3/envs/scIB-python/bin/python\n"
     ]
    }
   ],
   "source": [
    "!which python"
   ]
  },
  {
   "cell_type": "code",
   "execution_count": 3,
   "metadata": {},
   "outputs": [
    {
     "name": "stdout",
     "output_type": "stream",
     "text": [
      "/storage/groups/ml01/workspace/ignacio.ibarra/theislab/scib\n"
     ]
    }
   ],
   "source": [
    "cd ~/workspace/theislab/scib"
   ]
  },
  {
   "cell_type": "code",
   "execution_count": 8,
   "metadata": {},
   "outputs": [],
   "source": [
    "input_path = '/storage/groups/ml01/workspace/ignacio.ibarra/theislab/retinal_scRNAseq_integration/data/scIB_run/retinal_500_batch.merged_cell.type/prepare/scaled/hvg/adata_pre.h5ad'\n",
    "output_path = '/storage/groups/ml01/workspace/ignacio.ibarra/theislab/retinal_scRNAseq_integration/data/scIB_run/retinal_500_dataset_cell.type/integration/scaled/hvg/scgen.h5ad'"
   ]
  },
  {
   "cell_type": "code",
   "execution_count": null,
   "metadata": {},
   "outputs": [
    {
     "name": "stdout",
     "output_type": "stream",
     "text": [
      "/home/icb/ignacio.ibarra/miniconda3/envs/scIB-python/lib/python3.7/site-packages/anndata/_core/anndata.py:21: FutureWarning: pandas.core.index is deprecated and will be removed in a future version.  The public classes are available in the top-level namespace.\n",
      "  from pandas.core.index import RangeIndex\n",
      "importing scgen\n",
      "batch key batch.merged\n",
      "celltype key cell.type\n",
      "Index(['RNA_snn_res.0.8', 'batch', 'batch.merged', 'cell.type', 'dataset',\n",
      "       'filename', 'nCount_RNA', 'nFeature_RNA', 'orig.ident', 'scpred_AC',\n",
      "       'scpred_Astrocyte', 'scpred_BC', 'scpred_Cone', 'scpred_HC',\n",
      "       'scpred_MG', 'scpred_Microglia', 'scpred_RGC', 'scpred_RPE',\n",
      "       'scpred_Rod', 'scpred_max', 'scpred_prediction', 'seurat_clusters',\n",
      "       'size_factors'],\n",
      "      dtype='object')\n",
      "True\n",
      "Using TensorFlow backend.\n",
      "2021-05-04 19:02:05.210910: I tensorflow/stream_executor/platform/default/dso_loader.cc:44] Successfully opened dynamic library libcuda.so.1\n",
      "2021-05-04 19:02:05.564319: I tensorflow/core/common_runtime/gpu/gpu_device.cc:1618] Found device 0 with properties: \n",
      "name: Tesla V100-SXM3-32GB major: 7 minor: 0 memoryClockRate(GHz): 1.597\n",
      "pciBusID: 0000:91:00.0\n",
      "2021-05-04 19:02:05.564711: I tensorflow/stream_executor/platform/default/dso_loader.cc:44] Successfully opened dynamic library libcudart.so.10.0\n",
      "2021-05-04 19:02:05.566299: I tensorflow/stream_executor/platform/default/dso_loader.cc:44] Successfully opened dynamic library libcublas.so.10.0\n",
      "2021-05-04 19:02:05.567740: I tensorflow/stream_executor/platform/default/dso_loader.cc:44] Successfully opened dynamic library libcufft.so.10.0\n",
      "2021-05-04 19:02:05.568103: I tensorflow/stream_executor/platform/default/dso_loader.cc:44] Successfully opened dynamic library libcurand.so.10.0\n",
      "2021-05-04 19:02:05.569893: I tensorflow/stream_executor/platform/default/dso_loader.cc:44] Successfully opened dynamic library libcusolver.so.10.0\n",
      "2021-05-04 19:02:05.571289: I tensorflow/stream_executor/platform/default/dso_loader.cc:44] Successfully opened dynamic library libcusparse.so.10.0\n",
      "2021-05-04 19:02:05.575612: I tensorflow/stream_executor/platform/default/dso_loader.cc:44] Successfully opened dynamic library libcudnn.so.7\n",
      "2021-05-04 19:02:05.589629: I tensorflow/core/common_runtime/gpu/gpu_device.cc:1746] Adding visible gpu devices: 0\n",
      "Num GPUs Available:  1\n",
      "2021-05-04 19:02:05.589879: I tensorflow/core/platform/cpu_feature_guard.cc:142] Your CPU supports instructions that this TensorFlow binary was not compiled to use: AVX2 AVX512F FMA\n",
      "2021-05-04 19:02:05.596673: I tensorflow/core/platform/profile_utils/cpu_utils.cc:94] CPU Frequency: 2700000000 Hz\n",
      "2021-05-04 19:02:05.597407: I tensorflow/compiler/xla/service/service.cc:168] XLA service 0x56394d75f250 initialized for platform Host (this does not guarantee that XLA will be used). Devices:\n",
      "2021-05-04 19:02:05.597435: I tensorflow/compiler/xla/service/service.cc:176]   StreamExecutor device (0): Host, Default Version\n",
      "2021-05-04 19:02:05.899298: I tensorflow/compiler/xla/service/service.cc:168] XLA service 0x56394d761b10 initialized for platform CUDA (this does not guarantee that XLA will be used). Devices:\n",
      "2021-05-04 19:02:05.899349: I tensorflow/compiler/xla/service/service.cc:176]   StreamExecutor device (0): Tesla V100-SXM3-32GB, Compute Capability 7.0\n",
      "2021-05-04 19:02:05.902573: I tensorflow/core/common_runtime/gpu/gpu_device.cc:1618] Found device 0 with properties: \n",
      "name: Tesla V100-SXM3-32GB major: 7 minor: 0 memoryClockRate(GHz): 1.597\n",
      "pciBusID: 0000:91:00.0\n",
      "2021-05-04 19:02:05.902676: I tensorflow/stream_executor/platform/default/dso_loader.cc:44] Successfully opened dynamic library libcudart.so.10.0\n",
      "2021-05-04 19:02:05.902697: I tensorflow/stream_executor/platform/default/dso_loader.cc:44] Successfully opened dynamic library libcublas.so.10.0\n",
      "2021-05-04 19:02:05.902713: I tensorflow/stream_executor/platform/default/dso_loader.cc:44] Successfully opened dynamic library libcufft.so.10.0\n",
      "2021-05-04 19:02:05.902728: I tensorflow/stream_executor/platform/default/dso_loader.cc:44] Successfully opened dynamic library libcurand.so.10.0\n",
      "2021-05-04 19:02:05.902743: I tensorflow/stream_executor/platform/default/dso_loader.cc:44] Successfully opened dynamic library libcusolver.so.10.0\n",
      "2021-05-04 19:02:05.902759: I tensorflow/stream_executor/platform/default/dso_loader.cc:44] Successfully opened dynamic library libcusparse.so.10.0\n",
      "2021-05-04 19:02:05.902775: I tensorflow/stream_executor/platform/default/dso_loader.cc:44] Successfully opened dynamic library libcudnn.so.7\n",
      "2021-05-04 19:02:05.908595: I tensorflow/core/common_runtime/gpu/gpu_device.cc:1746] Adding visible gpu devices: 0\n",
      "2021-05-04 19:02:05.908691: I tensorflow/stream_executor/platform/default/dso_loader.cc:44] Successfully opened dynamic library libcudart.so.10.0\n",
      "2021-05-04 19:02:05.918983: I tensorflow/core/common_runtime/gpu/gpu_device.cc:1159] Device interconnect StreamExecutor with strength 1 edge matrix:\n",
      "2021-05-04 19:02:05.919006: I tensorflow/core/common_runtime/gpu/gpu_device.cc:1165]      0 \n",
      "2021-05-04 19:02:05.919018: I tensorflow/core/common_runtime/gpu/gpu_device.cc:1178] 0:   N \n",
      "2021-05-04 19:02:05.925000: I tensorflow/core/common_runtime/gpu/gpu_device.cc:1304] Created TensorFlow device (/device:GPU:0 with 30590 MB memory) -> physical GPU (device: 0, name: Tesla V100-SXM3-32GB, pci bus id: 0000:91:00.0, compute capability: 7.0)\n",
      "[name: \"/device:CPU:0\"\n",
      "device_type: \"CPU\"\n",
      "memory_limit: 268435456\n",
      "locality {\n",
      "}\n",
      "incarnation: 10966429795433671567\n",
      ", name: \"/device:XLA_CPU:0\"\n",
      "device_type: \"XLA_CPU\"\n",
      "memory_limit: 17179869184\n",
      "locality {\n",
      "}\n",
      "incarnation: 11989723996673747533\n",
      "physical_device_desc: \"device: XLA_CPU device\"\n",
      ", name: \"/device:XLA_GPU:0\"\n",
      "device_type: \"XLA_GPU\"\n",
      "memory_limit: 17179869184\n",
      "locality {\n",
      "}\n",
      "incarnation: 15678742603685333354\n",
      "physical_device_desc: \"device: XLA_GPU device\"\n",
      ", name: \"/device:GPU:0\"\n",
      "device_type: \"GPU\"\n",
      "memory_limit: 32076188877\n",
      "locality {\n",
      "  bus_id: 2\n",
      "  numa_node: 1\n",
      "  links {\n",
      "  }\n",
      "}\n",
      "incarnation: 16549548966059291391\n",
      "physical_device_desc: \"device: 0, name: Tesla V100-SXM3-32GB, pci bus id: 0000:91:00.0, compute capability: 7.0\"\n",
      "]\n",
      "done...\n",
      "starting object...\n",
      "WARNING:tensorflow:From /home/icb/ignacio.ibarra/miniconda3/envs/scIB-python/lib/python3.7/site-packages/scgen/models/_vae.py:35: The name tf.reset_default_graph is deprecated. Please use tf.compat.v1.reset_default_graph instead.\n",
      "\n",
      "WARNING:tensorflow:From /home/icb/ignacio.ibarra/miniconda3/envs/scIB-python/lib/python3.7/site-packages/scgen/models/_vae.py:42: The name tf.placeholder is deprecated. Please use tf.compat.v1.placeholder instead.\n",
      "\n",
      "WARNING:tensorflow:\n",
      "The TensorFlow contrib module will not be included in TensorFlow 2.0.\n",
      "For more information, please see:\n",
      "  * https://github.com/tensorflow/community/blob/master/rfcs/20180907-contrib-sunset.md\n",
      "  * https://github.com/tensorflow/addons\n",
      "  * https://github.com/tensorflow/io (for I/O related ops)\n",
      "If you depend on functionality not listed there, please file an issue.\n",
      "\n",
      "WARNING:tensorflow:From /home/icb/ignacio.ibarra/miniconda3/envs/scIB-python/lib/python3.7/site-packages/scgen/models/_vae.py:67: The name tf.variable_scope is deprecated. Please use tf.compat.v1.variable_scope instead.\n",
      "\n",
      "WARNING:tensorflow:From /home/icb/ignacio.ibarra/miniconda3/envs/scIB-python/lib/python3.7/site-packages/scgen/models/_vae.py:67: The name tf.AUTO_REUSE is deprecated. Please use tf.compat.v1.AUTO_REUSE instead.\n",
      "\n",
      "WARNING:tensorflow:From /home/icb/ignacio.ibarra/miniconda3/envs/scIB-python/lib/python3.7/site-packages/scgen/models/_vae.py:68: dense (from tensorflow.python.layers.core) is deprecated and will be removed in a future version.\n",
      "Instructions for updating:\n",
      "Use keras.layers.Dense instead.\n",
      "WARNING:tensorflow:From /home/icb/ignacio.ibarra/miniconda3/envs/scIB-python/lib/python3.7/site-packages/tensorflow_core/python/layers/core.py:187: Layer.apply (from tensorflow.python.keras.engine.base_layer) is deprecated and will be removed in a future version.\n",
      "Instructions for updating:\n",
      "Please use `layer.__call__` method instead.\n",
      "WARNING:tensorflow:From /home/icb/ignacio.ibarra/miniconda3/envs/scIB-python/lib/python3.7/site-packages/scgen/models/_vae.py:69: batch_normalization (from tensorflow.python.layers.normalization) is deprecated and will be removed in a future version.\n",
      "Instructions for updating:\n",
      "Use keras.layers.BatchNormalization instead.  In particular, `tf.control_dependencies(tf.GraphKeys.UPDATE_OPS)` should not be used (consult the `tf.keras.layers.batch_normalization` documentation).\n",
      "WARNING:tensorflow:From /home/icb/ignacio.ibarra/miniconda3/envs/scIB-python/lib/python3.7/site-packages/scgen/models/_vae.py:71: dropout (from tensorflow.python.layers.core) is deprecated and will be removed in a future version.\n",
      "Instructions for updating:\n",
      "Use keras.layers.dropout instead.\n",
      "WARNING:tensorflow:From /home/icb/ignacio.ibarra/miniconda3/envs/scIB-python/lib/python3.7/site-packages/scgen/models/_vae.py:120: The name tf.random_normal is deprecated. Please use tf.random.normal instead.\n",
      "\n",
      "WARNING:tensorflow:From /home/icb/ignacio.ibarra/miniconda3/envs/scIB-python/lib/python3.7/site-packages/scgen/models/_vae.py:158: The name tf.get_collection is deprecated. Please use tf.compat.v1.get_collection instead.\n",
      "\n",
      "WARNING:tensorflow:From /home/icb/ignacio.ibarra/miniconda3/envs/scIB-python/lib/python3.7/site-packages/scgen/models/_vae.py:158: The name tf.GraphKeys is deprecated. Please use tf.compat.v1.GraphKeys instead.\n",
      "\n",
      "WARNING:tensorflow:From /home/icb/ignacio.ibarra/miniconda3/envs/scIB-python/lib/python3.7/site-packages/scgen/models/_vae.py:159: The name tf.train.AdamOptimizer is deprecated. Please use tf.compat.v1.train.AdamOptimizer instead.\n",
      "\n",
      "WARNING:tensorflow:From /home/icb/ignacio.ibarra/miniconda3/envs/scIB-python/lib/python3.7/site-packages/scgen/models/_vae.py:48: The name tf.Session is deprecated. Please use tf.compat.v1.Session instead.\n",
      "\n",
      "2021-05-04 19:02:07.495681: I tensorflow/core/common_runtime/gpu/gpu_device.cc:1618] Found device 0 with properties: \n",
      "name: Tesla V100-SXM3-32GB major: 7 minor: 0 memoryClockRate(GHz): 1.597\n",
      "pciBusID: 0000:91:00.0\n",
      "2021-05-04 19:02:07.495818: I tensorflow/stream_executor/platform/default/dso_loader.cc:44] Successfully opened dynamic library libcudart.so.10.0\n",
      "2021-05-04 19:02:07.495838: I tensorflow/stream_executor/platform/default/dso_loader.cc:44] Successfully opened dynamic library libcublas.so.10.0\n",
      "2021-05-04 19:02:07.495853: I tensorflow/stream_executor/platform/default/dso_loader.cc:44] Successfully opened dynamic library libcufft.so.10.0\n",
      "2021-05-04 19:02:07.495870: I tensorflow/stream_executor/platform/default/dso_loader.cc:44] Successfully opened dynamic library libcurand.so.10.0\n",
      "2021-05-04 19:02:07.495885: I tensorflow/stream_executor/platform/default/dso_loader.cc:44] Successfully opened dynamic library libcusolver.so.10.0\n",
      "2021-05-04 19:02:07.495900: I tensorflow/stream_executor/platform/default/dso_loader.cc:44] Successfully opened dynamic library libcusparse.so.10.0\n",
      "2021-05-04 19:02:07.495916: I tensorflow/stream_executor/platform/default/dso_loader.cc:44] Successfully opened dynamic library libcudnn.so.7\n",
      "2021-05-04 19:02:07.513085: I tensorflow/core/common_runtime/gpu/gpu_device.cc:1746] Adding visible gpu devices: 0\n",
      "2021-05-04 19:02:07.513127: I tensorflow/core/common_runtime/gpu/gpu_device.cc:1159] Device interconnect StreamExecutor with strength 1 edge matrix:\n",
      "2021-05-04 19:02:07.513138: I tensorflow/core/common_runtime/gpu/gpu_device.cc:1165]      0 \n",
      "2021-05-04 19:02:07.513146: I tensorflow/core/common_runtime/gpu/gpu_device.cc:1178] 0:   N \n",
      "2021-05-04 19:02:07.535426: I tensorflow/core/common_runtime/gpu/gpu_device.cc:1304] Created TensorFlow device (/job:localhost/replica:0/task:0/device:GPU:0 with 30590 MB memory) -> physical GPU (device: 0, name: Tesla V100-SXM3-32GB, pci bus id: 0000:91:00.0, compute capability: 7.0)\n",
      "WARNING:tensorflow:From /home/icb/ignacio.ibarra/miniconda3/envs/scIB-python/lib/python3.7/site-packages/scgen/models/_vae.py:49: The name tf.train.Saver is deprecated. Please use tf.compat.v1.train.Saver instead.\n",
      "\n",
      "WARNING:tensorflow:From /home/icb/ignacio.ibarra/miniconda3/envs/scIB-python/lib/python3.7/site-packages/scgen/models/_vae.py:50: The name tf.global_variables_initializer is deprecated. Please use tf.compat.v1.global_variables_initializer instead.\n",
      "\n",
      "\n",
      "\n",
      "\n",
      "\n",
      "attempting training with 100 epochs...\n",
      "use gpu True\n",
      "2021-05-04 19:02:09.295153: I tensorflow/stream_executor/platform/default/dso_loader.cc:44] Successfully opened dynamic library libcublas.so.10.0\n",
      "Epoch 0: Train Loss: 965.8233459612967\n",
      "Epoch 1: Train Loss: 948.5695029353\n",
      "Epoch 2: Train Loss: 938.8881725092044\n",
      "Epoch 3: Train Loss: 930.6776656788793\n"
     ]
    }
   ],
   "source": [
    "!python scripts/runIntegration.py -i $input_path -o $output_path -b batch.merged --method scgen -v 2000 -c cell.type"
   ]
  }
 ],
 "metadata": {
  "kernelspec": {
   "display_name": "Python [conda env:scIB-python]",
   "language": "python",
   "name": "conda-env-scIB-python-py"
  },
  "language_info": {
   "codemirror_mode": {
    "name": "ipython",
    "version": 3
   },
   "file_extension": ".py",
   "mimetype": "text/x-python",
   "name": "python",
   "nbconvert_exporter": "python",
   "pygments_lexer": "ipython3",
   "version": "3.7.10"
  }
 },
 "nbformat": 4,
 "nbformat_minor": 5
}
