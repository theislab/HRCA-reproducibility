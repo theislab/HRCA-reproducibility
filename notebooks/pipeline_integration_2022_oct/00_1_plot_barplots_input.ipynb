{
 "cells": [
  {
   "cell_type": "code",
   "execution_count": 1,
   "id": "00c941c1",
   "metadata": {
    "pycharm": {
     "name": "#%%\n"
    }
   },
   "outputs": [],
   "source": [
    "%load_ext autoreload\n",
    "%autoreload 2"
   ]
  },
  {
   "cell_type": "code",
   "execution_count": 11,
   "metadata": {
    "collapsed": false,
    "pycharm": {
     "name": "#%%\n"
    }
   },
   "outputs": [
    {
     "name": "stdout",
     "output_type": "stream",
     "text": [
      "/mnt/c/Users/ignacio.ibarra/Dropbox/workspace/theislab/retina/notebooks/pipeline_integration_2022_oct\n"
     ]
    }
   ],
   "source": [
    "cd workspace/theislab/retina/notebooks/pipeline_integration_2022_oct/"
   ]
  },
  {
   "cell_type": "code",
   "execution_count": 12,
   "id": "16152690",
   "metadata": {
    "pycharm": {
     "name": "#%%\n"
    }
   },
   "outputs": [],
   "source": [
    "from os.path import join\n",
    "import matplotlib.pyplot as plt"
   ]
  },
  {
   "cell_type": "markdown",
   "id": "be517e54",
   "metadata": {
    "pycharm": {
     "name": "#%% md\n"
    }
   },
   "source": [
    "### Check that the donor details is in alignment with the files we got"
   ]
  },
  {
   "cell_type": "code",
   "execution_count": 13,
   "id": "a453db76",
   "metadata": {
    "pycharm": {
     "name": "#%%\n"
    }
   },
   "outputs": [],
   "source": [
    "import pandas as pd\n",
    "from os import listdir\n",
    "from os.path import join, exists"
   ]
  },
  {
   "cell_type": "code",
   "execution_count": 14,
   "id": "77a26042-6632-44e7-a884-182e590244b4",
   "metadata": {
    "pycharm": {
     "name": "#%%\n"
    }
   },
   "outputs": [],
   "source": [
    "import scanpy as sc"
   ]
  },
  {
   "cell_type": "code",
   "execution_count": 15,
   "id": "158a06db",
   "metadata": {
    "pycharm": {
     "name": "#%%\n"
    }
   },
   "outputs": [],
   "source": [
    "# # this input contains the raw counts for all cells, and needs to be updated in the raw sesion of the object.\n",
    "# input_path = '/lustre/groups/ml01/workspace/ignacio.ibarra/theislab/retinal_scRNAseq_integration/data/integration_oct_2022/input/input_all_cells_Chen+Hackney+Roska.h5ad'\n",
    "# ad = sc.read_h5ad(input_path)\n",
    "# print('done...')\n",
    "# ad.obs['scpred_prediction'].value_counts()\n",
    "# ad.obs['filename'].value_counts()"
   ]
  },
  {
   "cell_type": "code",
   "execution_count": 16,
   "id": "a70cd65e",
   "metadata": {
    "pycharm": {
     "name": "#%%\n"
    }
   },
   "outputs": [],
   "source": [
    "# filename_by_donor = df.set_index('donor')['file'].to_dict()"
   ]
  },
  {
   "cell_type": "code",
   "execution_count": 17,
   "id": "541a2d68",
   "metadata": {
    "pycharm": {
     "name": "#%%\n"
    }
   },
   "outputs": [],
   "source": [
    "# # missing files are containing less than 50 cells per cell type. This was an arbitrary definition to consider these.\n",
    "# for f in (set(df['file']) - set('./' + ad_raw.obs['dataset'].astype(str) + '/' + ad_raw.obs['filename'].astype(str) + '.h5ad')):\n",
    "#     print(f)\n",
    "#     ad2 = sc.read_h5ad(join('/storage/groups/ml01/datasets/projects/20210318_retinal_data_integration_ignacio.ibarra_malte.luecken', f))\n",
    "#     print(ad2.obs['scpred_prediction'].value_counts())"
   ]
  },
  {
   "cell_type": "code",
   "execution_count": 18,
   "id": "dac18bd4",
   "metadata": {
    "pycharm": {
     "name": "#%%\n"
    }
   },
   "outputs": [],
   "source": [
    "# Fix export PDF as text issue\n",
    "import matplotlib\n",
    "\n",
    "matplotlib.rcParams['pdf.fonttype'] = 42\n",
    "matplotlib.rcParams['ps.fonttype'] = 42\n",
    "\n",
    "fpath = \"arial.ttf\"\n",
    "from matplotlib import font_manager as fm, rcParams\n",
    "prop = fm.FontProperties(fname=fpath)\n",
    "rcParams[\"font.family\"] = \"arial\"\n",
    "\n",
    "import os\n",
    "import scanpy as sc\n",
    "from os.path import join, exists\n",
    "from os import listdir\n",
    "import anndata\n",
    "import scipy\n",
    "import numpy as np\n",
    "import sys\n",
    "\n",
    "\n",
    "import seaborn as sns\n",
    "sns.set()\n",
    "from matplotlib import rcParams\n",
    "import matplotlib.pyplot as plt\n",
    "\n",
    "from utils import *\n",
    "\n",
    "# convert counts into float32\n",
    "# Convenience method for computing the size of objects\n",
    "def print_size_in_MB(x):\n",
    "    return '{:.3} MB'.format(x.__sizeof__()/1e6)\n",
    "\n",
    "def print_size_in_MB_sparse_matrix(a):\n",
    "    # a = scipy.sparse.csr_matrix(np.random.randint(10, size=(40, 3)))\n",
    "    # x = a.data.nbytes + a.indptr.nbytes + a.indices.nbytes\n",
    "    size = a.data.size/(1024**2)\n",
    "    return '{:.3} MB'.format(size)\n",
    "\n",
    "import anndata\n",
    "import warnings\n",
    "warnings.filterwarnings(\"ignore\")"
   ]
  },
  {
   "cell_type": "code",
   "execution_count": 19,
   "id": "e170e178",
   "metadata": {
    "pycharm": {
     "name": "#%%\n"
    }
   },
   "outputs": [],
   "source": [
    "import numpy as np\n",
    "import matplotlib.pyplot as plt\n",
    "from matplotlib import rcParams\n",
    "import os"
   ]
  },
  {
   "cell_type": "code",
   "execution_count": 22,
   "id": "5a761a53-ed63-48bc-8100-3075c619d7de",
   "metadata": {
    "pycharm": {
     "name": "#%%\n"
    }
   },
   "outputs": [
    {
     "name": "stdout",
     "output_type": "stream",
     "text": [
      "Chang_100.h5ad\n",
      "../../data/integration_oct_2022/input/bydataset_100/Chang_100.h5ad\n",
      "Chen_a_100.h5ad\n",
      "../../data/integration_oct_2022/input/bydataset_100/Chen_a_100.h5ad\n",
      "Chen_b_100.h5ad\n",
      "../../data/integration_oct_2022/input/bydataset_100/Chen_b_100.h5ad\n",
      "Chen_c_100.h5ad\n",
      "../../data/integration_oct_2022/input/bydataset_100/Chen_c_100.h5ad\n",
      "Chen_rgc_100.h5ad\n",
      "../../data/integration_oct_2022/input/bydataset_100/Chen_rgc_100.h5ad\n",
      "Hackney_100.h5ad\n",
      "../../data/integration_oct_2022/input/bydataset_100/Hackney_100.h5ad\n",
      "Hafler_100.h5ad\n",
      "../../data/integration_oct_2022/input/bydataset_100/Hafler_100.h5ad\n",
      "Roska_100.h5ad\n",
      "../../data/integration_oct_2022/input/bydataset_100/Roska_100.h5ad\n",
      "Sanes_100.h5ad\n",
      "../../data/integration_oct_2022/input/bydataset_100/Sanes_100.h5ad\n",
      "Scheetz_100.h5ad\n",
      "../../data/integration_oct_2022/input/bydataset_100/Scheetz_100.h5ad\n",
      "Wong_100.h5ad\n",
      "../../data/integration_oct_2022/input/bydataset_100/Wong_100.h5ad\n",
      "done...\n"
     ]
    }
   ],
   "source": [
    "ad_by_k = {}\n",
    "d = '../../data/integration_oct_2022/input/bydataset_100'\n",
    "for f in listdir(d):\n",
    "    print(f)\n",
    "    p = os.path.join(d, f)\n",
    "    print(p)\n",
    "    ad = sc.read_h5ad(p)\n",
    "    ad_by_k[f.replace('.h5ad', '')] = ad\n",
    "    # if len(ad_by_k) == 3:\n",
    "    #     break\n",
    "print('done...')\n",
    "\n",
    "adata = anndata.concat(ad_by_k.values())"
   ]
  },
  {
   "cell_type": "code",
   "execution_count": 30,
   "metadata": {
    "collapsed": false,
    "pycharm": {
     "name": "#%%\n"
    }
   },
   "outputs": [
    {
     "data": {
      "text/plain": [
       "0     1100\n",
       "2     1100\n",
       "3     1100\n",
       "4     1100\n",
       "1     1100\n",
       "5     1000\n",
       "6      800\n",
       "7      700\n",
       "8      600\n",
       "9      600\n",
       "10     600\n",
       "13     500\n",
       "14     500\n",
       "12     500\n",
       "11     500\n",
       "15     300\n",
       "16     300\n",
       "17     300\n",
       "18     300\n",
       "19     200\n",
       "30     100\n",
       "38     100\n",
       "37     100\n",
       "36     100\n",
       "35     100\n",
       "34     100\n",
       "33     100\n",
       "32     100\n",
       "31     100\n",
       "20     100\n",
       "29     100\n",
       "28     100\n",
       "27     100\n",
       "26     100\n",
       "25     100\n",
       "24     100\n",
       "23     100\n",
       "22     100\n",
       "21     100\n",
       "39     100\n",
       "Name: batch, dtype: int64"
      ]
     },
     "execution_count": 30,
     "metadata": {},
     "output_type": "execute_result"
    }
   ],
   "source": [
    "adata.obs.batch.value_counts()"
   ]
  },
  {
   "cell_type": "code",
   "execution_count": 29,
   "metadata": {
    "collapsed": false,
    "pycharm": {
     "name": "#%%\n"
    }
   },
   "outputs": [
    {
     "data": {
      "text/plain": [
       "Chen_a      4000\n",
       "Chen_c      2000\n",
       "Sanes       1900\n",
       "Chen_b      1500\n",
       "Roska       1500\n",
       "Hackney     1100\n",
       "Chang        800\n",
       "Chen_rgc     700\n",
       "Hafler       600\n",
       "Scheetz      600\n",
       "Wong         500\n",
       "Name: dataset, dtype: int64"
      ]
     },
     "execution_count": 29,
     "metadata": {},
     "output_type": "execute_result"
    }
   ],
   "source": [
    "adata.obs.dataset.value_counts()"
   ]
  },
  {
   "cell_type": "markdown",
   "id": "60c04779-6186-4208-a810-dea684d26ae3",
   "metadata": {
    "pycharm": {
     "name": "#%% md\n"
    }
   },
   "source": [
    "## Means PCA, to quickly visualize the separation between datasets"
   ]
  },
  {
   "cell_type": "markdown",
   "id": "32a1826a-5c76-4e4d-bbe1-3ab3b85b8045",
   "metadata": {
    "pycharm": {
     "name": "#%% md\n"
    }
   },
   "source": [
    "### Calculate means of all features, in a way to PCA-compare the expression values across all the samples."
   ]
  },
  {
   "cell_type": "code",
   "execution_count": null,
   "id": "d01bdbd2-7685-479a-9255-1368b2b1633b",
   "metadata": {
    "pycharm": {
     "name": "#%%\n"
    }
   },
   "outputs": [],
   "source": [
    "common = None\n",
    "for k in ad_by_k:\n",
    "    ad = ad_by_k[k]\n",
    "    var_names = ad.var_names\n",
    "    common = set(var_names) if common is None else common.intersection(set(var_names))\n",
    "    print(k, len(var_names), var_names[:5])\n",
    "len(common)\n",
    "order = pd.Series(list(common)).values\n"
   ]
  },
  {
   "cell_type": "code",
   "execution_count": null,
   "id": "bdc2aa3d-1067-4e6b-97e9-5e4200997005",
   "metadata": {
    "pycharm": {
     "name": "#%%\n"
    }
   },
   "outputs": [],
   "source": [
    "print('here...')"
   ]
  },
  {
   "cell_type": "code",
   "execution_count": null,
   "id": "d6198af1-21a9-4499-8339-0e5993f3bcdc",
   "metadata": {
    "pycharm": {
     "name": "#%%\n"
    }
   },
   "outputs": [],
   "source": [
    "\n",
    "means = []\n",
    "for k in ad_by_k:\n",
    "    ad = ad_by_k[k]\n",
    "    # ad_sel = ad[:,order]\n",
    "    # assert sum(ad_sel.var_names.values == order) == len(order)\n",
    "    next_means = ad.X.mean(axis=0)\n",
    "    next_means = pd.DataFrame(next_means, columns=ad.var_names)\n",
    "    means.append(next_means)\n",
    "    print(next_means.shape)\n"
   ]
  },
  {
   "cell_type": "code",
   "execution_count": null,
   "id": "aedd3681-a63b-470e-8dbd-e2d5cb7ea1d2",
   "metadata": {
    "pycharm": {
     "name": "#%%\n"
    }
   },
   "outputs": [],
   "source": [
    "len(means)"
   ]
  },
  {
   "cell_type": "code",
   "execution_count": null,
   "id": "19071ea3-18b4-428d-9601-af1f5e5726cd",
   "metadata": {
    "pycharm": {
     "name": "#%%\n"
    }
   },
   "outputs": [],
   "source": [
    "m = pd.concat(means)\n",
    "m = m.dropna(axis=1, how='any')"
   ]
  },
  {
   "cell_type": "code",
   "execution_count": null,
   "id": "1f96f53c-8a1c-4dc5-8daa-ef28aeee214f",
   "metadata": {
    "pycharm": {
     "name": "#%%\n"
    }
   },
   "outputs": [],
   "source": [
    "for k in ad_by_k:\n",
    "    print(k, ad_by_k[k].shape[0])"
   ]
  },
  {
   "cell_type": "code",
   "execution_count": null,
   "id": "699c3f34-1ccd-4d2d-be10-27bbe73b961f",
   "metadata": {
    "pycharm": {
     "name": "#%%\n"
    }
   },
   "outputs": [],
   "source": [
    "import matplotlib.pyplot as plt\n",
    "from sklearn import datasets\n",
    "from sklearn.decomposition import PCA\n",
    "from sklearn.discriminant_analysis import LinearDiscriminantAnalysis\n",
    "from sklearn.preprocessing import scale, normalize\n",
    "\n",
    "X = m\n",
    "X -= np.mean(X, axis = 0) \n",
    "X = normalize(X, axis=1)\n",
    "\n",
    "y = np.arange(X.shape[0])\n",
    "target_names = list(ad_by_k.keys())[:len(y)]\n",
    "\n"
   ]
  },
  {
   "cell_type": "code",
   "execution_count": null,
   "id": "76edc03f-63bb-4089-8e1b-0a17053b41a9",
   "metadata": {
    "pycharm": {
     "name": "#%%\n"
    }
   },
   "outputs": [],
   "source": [
    "tech = np.where(pd.Series(target_names).str.split('_').str[0].isin({'Chen', 'Chang', 'Hackney'}), 'snRNA-seq', 'scRNA-seq')\n",
    "tech\n"
   ]
  },
  {
   "cell_type": "code",
   "execution_count": null,
   "id": "d7fb071e-a129-4203-8314-fba62aec2c84",
   "metadata": {
    "pycharm": {
     "name": "#%%\n"
    }
   },
   "outputs": [],
   "source": [
    "\n",
    "pca = PCA(n_components=2)\n",
    "X_r = pca.fit(X).transform(X)\n",
    "\n",
    "# Percentage of variance explained for each components\n",
    "print(\n",
    "    \"explained variance ratio (first two components): %s\"\n",
    "    % str(pca.explained_variance_ratio_)\n",
    ")\n",
    "\n",
    "rcParams['figure.figsize'] = 3, 3\n",
    "\n",
    "plt.figure()\n",
    "colors = ['#a6cee3','#1f78b4','#b2df8a','#33a02c','#fb9a99','#e31a1c','#fdbf6f','#ff7f00','#cab2d6','#6a3d9a','#ffff99']\n",
    "lw = 2\n",
    "for color, i, target_name, tech_i in zip(colors, y, target_names, tech):\n",
    "    plt.scatter(\n",
    "        X_r[y == i, 0], X_r[y == i, 1],\n",
    "        marker='^' if tech_i == 'snRNA-seq' else 'o',\n",
    "        color=color, alpha=0.8, lw=lw, label=target_name\n",
    "    )\n",
    "plt.legend(loc=\"best\", shadow=False, scatterpoints=1, bbox_to_anchor=(1.01, 1), fontsize=8)\n",
    "plt.xlabel('PC1 (%.1f%s variance)' % (pca.explained_variance_ratio_[0] * 100, '%'))\n",
    "plt.ylabel('PC2 (%.1f%s variance)' % (pca.explained_variance_ratio_[1] * 100, '%'))\n",
    "plt.title(\"PCA (expression mean)\")\n",
    "plt.show()\n",
    "\n",
    "lw = 2\n",
    "\n",
    "\n",
    "ax = plt.subplot()\n",
    "for color, i, target_name, tech_i in zip(colors, y, target_names, tech):\n",
    "    ax.scatter(\n",
    "        X_r[y == i, 0], X_r[y == i, 1], marker='^' if tech_i == 'snRNA-seq' else 'o',\n",
    "        color='#1b9e77' if tech_i == 'snRNA-seq' else '#d95f02', alpha=0.8, lw=lw, label=target_name\n",
    "    )\n",
    "    for xi, yi in X_r[y == i,:]:\n",
    "        print(xi, yi)\n",
    "        ax.annotate(target_name, (xi, yi), fontsize=8)\n",
    "# plt.legend(loc=\"best\", shadow=False, scatterpoints=1, bbox_to_anchor=(1.01, 1), fontsize=8)\n",
    "plt.title(\"PCA of retina samples\")\n",
    "plt.xlabel('PC1 (%.1f%s variance)' % (pca.explained_variance_ratio_[0] * 100, '%'))\n",
    "plt.ylabel('PC2 (%.1f%s variance)' % (pca.explained_variance_ratio_[1] * 100, '%'))\n"
   ]
  },
  {
   "cell_type": "markdown",
   "id": "e2497f91-d81a-4736-a281-8a3c742a5d0c",
   "metadata": {
    "pycharm": {
     "name": "#%% md\n"
    }
   },
   "source": [
    "### Plot barplots of relevant information"
   ]
  },
  {
   "cell_type": "code",
   "execution_count": null,
   "id": "5aa75f65-266e-439f-abbe-c43eb7530393",
   "metadata": {
    "pycharm": {
     "name": "#%%\n"
    }
   },
   "outputs": [],
   "source": [
    "obs = [ad.obs for ad in ad_by_k.values()]\n",
    "obs = pd.concat(obs)"
   ]
  },
  {
   "cell_type": "code",
   "execution_count": null,
   "id": "5be7be4b-29c8-4b12-b23d-e9e158a4c542",
   "metadata": {
    "pycharm": {
     "name": "#%%\n"
    }
   },
   "outputs": [],
   "source": [
    "# add donor information\n",
    "path_xlsx = '/lustre/groups/ml01/datasets/projects/20210318_retinal_data_integration_ignacio.ibarra_malte.luecken/20221611_redownload/chen_rna_atlas/processed_h5ad/atlasrna_metadata.xlsx'\n",
    "xl = pd.ExcelFile(path_xlsx)\n",
    "xl.sheet_names  # see all sheet names\n",
    "\n",
    "donor = []\n",
    "for sheet_name in xl.sheet_names:\n",
    "    df2 = xl.parse(sheet_name)  # read a specific sheet to DataFrame\n",
    "    # print(sheet_name, df.shape)\n",
    "    df2['sheet_name'] = sheet_name\n",
    "    donor.append(df2)\n",
    "donor = pd.concat(donor).reset_index(drop=True)"
   ]
  },
  {
   "cell_type": "code",
   "execution_count": null,
   "id": "0a4d835c-4021-469d-9aa3-7a9cb0055297",
   "metadata": {
    "pycharm": {
     "name": "#%%\n"
    }
   },
   "outputs": [],
   "source": [
    "tech = np.where(pd.Series(target_names).str.split('_').str[0].isin({'Chen', 'Hackney', 'Chang'}), 'snRNA-seq', 'scRNA-seq')\n"
   ]
  },
  {
   "cell_type": "code",
   "execution_count": null,
   "id": "e414e605-1bc3-4d5d-9204-963a5f0fd30a",
   "metadata": {
    "pycharm": {
     "name": "#%%\n"
    }
   },
   "outputs": [],
   "source": [
    "donor['tech'] = np.where(donor['sheet_name'].str.contains('Chen') | donor['sheet_name'].str.contains('Hackney'), 'snRNA-seq', 'scRNA-seq')\n",
    "donor.drop_duplicates('donor').groupby(['tech']).size()"
   ]
  },
  {
   "cell_type": "code",
   "execution_count": null,
   "id": "559d3199-faf0-49ca-b5c5-2853d034d2b2",
   "metadata": {
    "pycharm": {
     "name": "#%%\n"
    }
   },
   "outputs": [],
   "source": [
    "counts = []\n",
    "for k in ad_by_k:\n",
    "    ad = ad_by_k[k]\n",
    "    # print(k, ad.shape)\n",
    "    counts.append([ad.shape[0], k, 'core' if 'Chen' in k or 'Hackney' in k else 'extended'])\n",
    "counts = pd.DataFrame(counts, columns=['n_cells', 'dataset', 'tech'])"
   ]
  },
  {
   "cell_type": "code",
   "execution_count": null,
   "id": "c94e7e7b-4138-47cd-9114-497fffbbfe6f",
   "metadata": {
    "pycharm": {
     "name": "#%%\n"
    }
   },
   "outputs": [],
   "source": [
    "rcParams['figure.figsize'] = 3.5, 1.0\n",
    "counts_sum = counts.groupby('tech').sum()\n",
    "\n",
    "ext = pd.DataFrame([counts_sum['n_cells'].sum()], columns=['n_cells'], index=['core+extended'])\n",
    "counts_sum = pd.concat([counts_sum, ext])\n",
    "counts_sum = counts_sum.reindex(['core', 'core+extended'])\n",
    "\n",
    "g = counts_sum.sort_values('n_cells', ascending=False).plot(kind='barh')\n",
    "g.legend_.remove()\n",
    "plt.xlabel('status')\n",
    "plt.ylabel('# cells')"
   ]
  },
  {
   "cell_type": "code",
   "execution_count": null,
   "id": "5a74aa28-5a55-4a57-b8b9-1b6d2f8c0a68",
   "metadata": {
    "pycharm": {
     "name": "#%%\n"
    }
   },
   "outputs": [],
   "source": [
    "sns.set_style('darkgrid')"
   ]
  },
  {
   "cell_type": "code",
   "execution_count": null,
   "id": "ff70fba2-417e-4bc4-9411-1575439bfbb8",
   "metadata": {
    "pycharm": {
     "name": "#%%\n"
    }
   },
   "outputs": [],
   "source": [
    "rcParams['figure.figsize'] = 2, 2\n",
    "donor['tissue'] = donor['tissue'].astype(str)\n",
    "df2 = donor.drop_duplicates('donor')\n",
    "df2['tissue'] = np.where(df2['tissue'] == 'nan', 'n/a', df2['tissue'])\n",
    "df2 = df2['tissue'].value_counts().reset_index()\n",
    "df2.index = df2['index']\n",
    "df2 = df2.reindex(list(df2.index[:2]) + list(df2.index[3:]) + list(df2.index[2:3]))\n",
    "\n",
    "g = df2.plot(kind='bar', x='index')\n",
    "g.legend_.remove()\n",
    "plt.xlabel('tissue')\n",
    "plt.ylabel('# individuals')"
   ]
  },
  {
   "cell_type": "code",
   "execution_count": null,
   "id": "ab94f86d-8bbd-46ed-bcc1-0f55220ab780",
   "metadata": {
    "pycharm": {
     "name": "#%%\n"
    }
   },
   "outputs": [],
   "source": [
    "rcParams['figure.figsize'] = 2, 2\n",
    "donor['ethnicity'] = donor['race'].astype(str)\n",
    "ethnicity = donor.drop_duplicates('donor')\n",
    "ethnicity['ethnicity'] = np.where(ethnicity['ethnicity'] == 'nan', 'Unknown', ethnicity['ethnicity'])\n",
    "ethnicity = ethnicity['ethnicity'].value_counts().reset_index()\n",
    "g = ethnicity.plot(kind='bar', x='index')\n",
    "g.legend_.remove()\n",
    "plt.xlabel('ethnic group')\n",
    "plt.ylabel('# individuals')"
   ]
  },
  {
   "cell_type": "code",
   "execution_count": null,
   "id": "697c0609-06e0-4216-a558-57e8da87355d",
   "metadata": {
    "pycharm": {
     "name": "#%%\n"
    }
   },
   "outputs": [],
   "source": [
    "donor[donor['gender'] == 'Male_Female']"
   ]
  },
  {
   "cell_type": "code",
   "execution_count": null,
   "id": "201bef67-25e0-4e04-8611-80f97cdb1de1",
   "metadata": {
    "pycharm": {
     "name": "#%%\n"
    }
   },
   "outputs": [],
   "source": [
    "rcParams['figure.figsize'] = 2, 2\n",
    "donor['sex'] = donor['gender'].astype(str)\n",
    "df2 = donor.drop_duplicates('donor')\n",
    "df2['sex'] = np.where(df2['sex'] == 'Male_Female', 'Unknown', df2['sex'])\n",
    "df2 = df2['sex'].value_counts().reset_index()\n",
    "print(df2)\n",
    "g = df2.plot(kind='bar', x='index')\n",
    "g.legend_.remove()\n",
    "plt.xlabel('ethnic group')\n",
    "plt.ylabel('# individuals')"
   ]
  },
  {
   "cell_type": "code",
   "execution_count": null,
   "id": "7c384b1e-7d40-4de0-a230-ddcd4e2e6f60",
   "metadata": {
    "pycharm": {
     "name": "#%%\n"
    }
   },
   "outputs": [],
   "source": [
    "# obs['batch_full'].value_counts()"
   ]
  },
  {
   "cell_type": "code",
   "execution_count": null,
   "id": "b96587fc-cd5b-4960-ba28-a8f14e8f5326",
   "metadata": {
    "pycharm": {
     "name": "#%%\n"
    }
   },
   "outputs": [],
   "source": []
  },
  {
   "cell_type": "code",
   "execution_count": null,
   "id": "2a1c2281-3682-4827-bfed-952f3df8cbb3",
   "metadata": {
    "pycharm": {
     "name": "#%%\n"
    }
   },
   "outputs": [],
   "source": [
    "rcParams['figure.figsize'] = 2, 2\n",
    "donor['ethnicity'] = donor['race'].astype(str)\n",
    "df2 = donor.drop_duplicates('donor')\n",
    "df2['ethnicity'] = np.where(df2['ethnicity'] == 'nan', 'Unknown', df2['ethnicity'])\n",
    "df2 = df2[['age']] # .value_counts()\n",
    "mapped = df2[['age']]['age'].map({'50-80': 65, '65_91': 78, '91_81': 71})\n",
    "df2['age'] = np.where(~pd.isnull(mapped), mapped, df2['age']).astype(int)\n",
    "sns.histplot(data=df2, x='age', bins=13)\n",
    "# g.legend_.remove()\n",
    "plt.xlabel('age')\n",
    "plt.ylabel('# individuals')"
   ]
  },
  {
   "cell_type": "code",
   "execution_count": null,
   "id": "2a4e3d59-fd38-43bc-b628-40f46780e476",
   "metadata": {
    "pycharm": {
     "name": "#%%\n"
    }
   },
   "outputs": [],
   "source": [
    "rcParams['figure.figsize'] = 2, 2\n",
    "donor['ethnicity'] = donor['race'].astype(str)\n",
    "df2 = donor.drop_duplicates('donor')\n",
    "df2['ethnicity'] = np.where(df2['ethnicity'] == 'nan', 'Unknown', df2['ethnicity'])\n",
    "df2 = df2[['age']] # .value_counts()\n",
    "mapped = df2[['age']]['age'].map({'50-80': 65, '65_91': 78, '91_81': 71})\n",
    "df2['age'] = np.where(~pd.isnull(mapped), mapped, df2['age']).astype(int)\n",
    "sns.histplot(data=df2, x='age', bins=13)\n",
    "# g.legend_.remove()\n",
    "plt.xlabel('age')\n",
    "plt.ylabel('# individuals')"
   ]
  },
  {
   "cell_type": "code",
   "execution_count": null,
   "id": "6e9c922a-28a3-410f-aac3-3222fb6a5293",
   "metadata": {
    "pycharm": {
     "name": "#%%\n"
    }
   },
   "outputs": [],
   "source": [
    "df2['age'].describe()"
   ]
  },
  {
   "cell_type": "code",
   "execution_count": null,
   "id": "858d87d7-9d9f-41f6-9772-a6319fd730f2",
   "metadata": {
    "pycharm": {
     "name": "#%%\n"
    }
   },
   "outputs": [],
   "source": [
    "donor_by_filename = donor[['sampleid', 'donor']].set_index('sampleid')['donor'].to_dict()\n",
    "obs['donor'] = obs['filename'].map(donor_by_filename)"
   ]
  },
  {
   "cell_type": "code",
   "execution_count": null,
   "id": "27bf6359-6ba0-4d64-bb1e-50bc86cd46b7",
   "metadata": {
    "pycharm": {
     "name": "#%%\n"
    }
   },
   "outputs": [],
   "source": [
    "obs['cell_type'] = obs['scpred_prediction']"
   ]
  },
  {
   "cell_type": "code",
   "execution_count": null,
   "id": "da109246-13b7-466f-b298-52f853775024",
   "metadata": {
    "pycharm": {
     "name": "#%%\n"
    }
   },
   "outputs": [],
   "source": [
    "len(set(obs['donor'].value_counts()))"
   ]
  },
  {
   "cell_type": "code",
   "execution_count": null,
   "id": "00b89716-fa36-46fd-9c6d-37905131bd4c",
   "metadata": {
    "pycharm": {
     "name": "#%%\n"
    }
   },
   "outputs": [],
   "source": []
  },
  {
   "cell_type": "code",
   "execution_count": null,
   "id": "dbb3fbe4",
   "metadata": {
    "pycharm": {
     "name": "#%%\n"
    }
   },
   "outputs": [],
   "source": [
    "norm = True\n",
    "for batch_type in ['donor', 'dataset', 'batch_merged']:\n",
    "    # if batch_type != 'dataset':\n",
    "    #     continue\n",
    "    \n",
    "    # for f in ad_by_f:\n",
    "    import pandas as pd\n",
    "\n",
    "    if batch_type == 'batch_merged':\n",
    "        obs['batch_full'] = obs['dataset'].astype(str) + '_' + obs['batch'].astype(str)\n",
    "    elif batch_type == 'donor':\n",
    "        obs['batch_full'] = obs['donor'].astype(str)\n",
    "    else:\n",
    "        obs['batch_full'] = obs['dataset'].astype(str)\n",
    "    \n",
    "    df = obs[['cell_type', 'batch_full']].value_counts().reset_index()\n",
    "    df = df.pivot('batch_full', 'cell_type', 0)\n",
    "\n",
    "    name = df.index\n",
    "    df = df.reset_index(drop=True)\n",
    "    df = pd.DataFrame(np.array(df.fillna(0)).astype(int), columns=list(df.columns), index=list(name))\n",
    "\n",
    "    # df['sum'] = df.sum(axis=1)\n",
    "\n",
    "    df['sum'] = df.sum(axis=1).values\n",
    "    # df['k'] = ['_'.join(a) for a in df.index.str.split('_').str[:-1]]\n",
    "    df['k'] = df.index.str.split('_').str[0]\n",
    "    rank_by_k = {k : i for i, k in enumerate(df.groupby('k').sum().sort_values('sum').index)}\n",
    "    df['k_rank'] = df['k'].map(rank_by_k)\n",
    "    df = df.sort_values(['k_rank', 'sum'], ascending=False)\n",
    "    del df['k_rank']\n",
    "    del df['k']\n",
    "    del df['sum']\n",
    "    \n",
    "    if norm:\n",
    "        df = df.T\n",
    "        for c in df:\n",
    "            df[c] = df[c] / sum(df[c])\n",
    "        df = df.T\n",
    "\n",
    "    # assert False\n",
    "\n",
    "    rcParams['figure.figsize'] = [4 if batch_type == 'dataset' else 10, 7]\n",
    "    rcParams['figure.dpi'] = 120\n",
    "\n",
    "    from itertools import cycle, islice\n",
    "    import pandas, numpy as np  # I find np.random.randint to be better\n",
    "    c = ['#a6cee3', '#1f78b4', '#b2df8a', '#33a02c', '#fb9a99', '#e31a1c', '#fdbf6f', '#ff7f00', '#cab2d6', '#6a3d9a', 'lightgrey']\n",
    "    my_colors = list(islice(cycle(c), None, len(df.columns)))\n",
    "\n",
    "    n_total_cells = df.sum().sum()\n",
    "    n_batches = len(df.index)\n",
    "    cells_by_batch = df.sum(axis=1).mean()\n",
    "    for pi in [0, 1]:\n",
    "        ax = plt.subplot(2, 1, pi + 1)\n",
    "        df.plot(kind='bar', stacked=True, width=1.0, linewidth=0.2, logy=pi == 0,\n",
    "                color=my_colors, edgecolor='black', ax=ax)\n",
    "        plt.ylabel('# cells%s' % (' (log)' if pi == 0 else ''), fontsize=7)\n",
    "        plt.xlabel('dataset batch', fontsize=7)\n",
    "        plt.xticks(fontsize=6)\n",
    "        plt.yticks(fontsize=7)\n",
    "        if pi == 0:\n",
    "            plt.title('# cells = %s, # %s = %i\\n# cells by batch = %s' % ('{:,}'.format(n_total_cells),\n",
    "                                                                          batch_type,\n",
    "                                                                          n_batches,\n",
    "                                                                          '{:,}'.format(int(cells_by_batch))),\n",
    "                      fontsize=8)\n",
    "        plt.legend(fontsize=8, title='scpred', bbox_to_anchor=(1.01, 1))\n",
    "\n",
    "    plt.tight_layout()\n",
    "\n",
    "    img_path = '../../data/scIB_run/%s_barplot_scpred.pdf' % (batch_type)\n",
    "    plt.savefig(img_path)\n",
    "\n",
    "    print(os.path.abspath(img_path)) # .replace('.pdf', '.png')))\n",
    "    plt.close()\n"
   ]
  },
  {
   "cell_type": "code",
   "execution_count": null,
   "id": "72050533",
   "metadata": {
    "pycharm": {
     "name": "#%%\n"
    }
   },
   "outputs": [],
   "source": [
    "print(os.path.abspath(img_path))"
   ]
  },
  {
   "cell_type": "code",
   "execution_count": null,
   "id": "5d413e44",
   "metadata": {
    "pycharm": {
     "name": "#%%\n"
    }
   },
   "outputs": [],
   "source": [
    "%matplotlib inline"
   ]
  },
  {
   "cell_type": "code",
   "execution_count": null,
   "id": "7b4afd2b",
   "metadata": {
    "pycharm": {
     "name": "#%%\n"
    }
   },
   "outputs": [],
   "source": [
    "from PIL import Image\n",
    "\n",
    "image = Image.open(img_path)\n",
    "image.show()"
   ]
  },
  {
   "cell_type": "code",
   "execution_count": null,
   "id": "8cfb5b39",
   "metadata": {
    "pycharm": {
     "name": "#%%\n"
    }
   },
   "outputs": [],
   "source": []
  }
 ],
 "metadata": {
  "kernelspec": {
   "display_name": "Python [conda env:retina]",
   "language": "python",
   "name": "conda-env-retina-py"
  }
 },
 "nbformat": 4,
 "nbformat_minor": 5
}
