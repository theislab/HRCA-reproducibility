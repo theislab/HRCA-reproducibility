{
 "cells": [
  {
   "cell_type": "code",
   "execution_count": 1,
   "id": "00c941c1",
   "metadata": {},
   "outputs": [],
   "source": [
    "%load_ext autoreload\n",
    "%autoreload 2"
   ]
  },
  {
   "cell_type": "code",
   "execution_count": 2,
   "id": "16152690",
   "metadata": {},
   "outputs": [],
   "source": [
    "from os.path import join\n",
    "import matplotlib.pyplot as plt"
   ]
  },
  {
   "cell_type": "markdown",
   "id": "be517e54",
   "metadata": {},
   "source": [
    "### Check that the donor details is in alignment with the files we got"
   ]
  },
  {
   "cell_type": "code",
   "execution_count": 3,
   "id": "a453db76",
   "metadata": {},
   "outputs": [],
   "source": [
    "import pandas as pd\n",
    "from os import listdir\n",
    "from os.path import join, exists"
   ]
  },
  {
   "cell_type": "code",
   "execution_count": 4,
   "id": "77a26042-6632-44e7-a884-182e590244b4",
   "metadata": {},
   "outputs": [],
   "source": [
    "import scanpy as sc"
   ]
  },
  {
   "cell_type": "code",
   "execution_count": 5,
   "id": "158a06db",
   "metadata": {},
   "outputs": [],
   "source": [
    "# # this input contains the raw counts for all cells, and needs to be updated in the raw sesion of the object.\n",
    "# input_path = '/lustre/groups/ml01/workspace/ignacio.ibarra/theislab/retinal_scRNAseq_integration/data/integration_oct_2022/input/input_all_cells_Chen+Hackney+Roska.h5ad'\n",
    "# ad = sc.read_h5ad(input_path)\n",
    "# print('done...')\n",
    "# ad.obs['scpred_prediction'].value_counts()\n",
    "# ad.obs['filename'].value_counts()"
   ]
  },
  {
   "cell_type": "code",
   "execution_count": 6,
   "id": "a70cd65e",
   "metadata": {},
   "outputs": [],
   "source": [
    "# filename_by_donor = df.set_index('donor')['file'].to_dict()"
   ]
  },
  {
   "cell_type": "code",
   "execution_count": 7,
   "id": "541a2d68",
   "metadata": {},
   "outputs": [],
   "source": [
    "# # missing files are containing less than 50 cells per cell type. This was an arbitrary definition to consider these.\n",
    "# for f in (set(df['file']) - set('./' + ad_raw.obs['dataset'].astype(str) + '/' + ad_raw.obs['filename'].astype(str) + '.h5ad')):\n",
    "#     print(f)\n",
    "#     ad2 = sc.read_h5ad(join('/storage/groups/ml01/datasets/projects/20210318_retinal_data_integration_ignacio.ibarra_malte.luecken', f))\n",
    "#     print(ad2.obs['scpred_prediction'].value_counts())"
   ]
  },
  {
   "cell_type": "code",
   "execution_count": 8,
   "id": "dac18bd4",
   "metadata": {},
   "outputs": [],
   "source": [
    "# Fix export PDF as text issue\n",
    "import matplotlib\n",
    "\n",
    "matplotlib.rcParams['pdf.fonttype'] = 42\n",
    "matplotlib.rcParams['ps.fonttype'] = 42\n",
    "\n",
    "fpath = \"arial.ttf\"\n",
    "from matplotlib import font_manager as fm, rcParams\n",
    "prop = fm.FontProperties(fname=fpath)\n",
    "rcParams[\"font.family\"] = \"arial\"\n",
    "\n",
    "import os\n",
    "import scanpy as sc\n",
    "from os.path import join, exists\n",
    "from os import listdir\n",
    "import anndata\n",
    "import scipy\n",
    "import numpy as np\n",
    "import sys\n",
    "\n",
    "\n",
    "import seaborn as sns\n",
    "sns.set()\n",
    "from matplotlib import rcParams\n",
    "import matplotlib.pyplot as plt\n",
    "\n",
    "from utils import *\n",
    "\n",
    "# convert counts into float32\n",
    "# Convenience method for computing the size of objects\n",
    "def print_size_in_MB(x):\n",
    "    return '{:.3} MB'.format(x.__sizeof__()/1e6)\n",
    "\n",
    "def print_size_in_MB_sparse_matrix(a):\n",
    "    # a = scipy.sparse.csr_matrix(np.random.randint(10, size=(40, 3)))\n",
    "    # x = a.data.nbytes + a.indptr.nbytes + a.indices.nbytes\n",
    "    size = a.data.size/(1024**2)\n",
    "    return '{:.3} MB'.format(size)\n",
    "\n",
    "import warnings\n",
    "warnings.filterwarnings(\"ignore\")"
   ]
  },
  {
   "cell_type": "code",
   "execution_count": 9,
   "id": "e170e178",
   "metadata": {},
   "outputs": [],
   "source": [
    "import numpy as np\n",
    "import matplotlib.pyplot as plt\n",
    "from matplotlib import rcParams\n",
    "import os"
   ]
  },
  {
   "cell_type": "code",
   "execution_count": 14,
   "id": "5a761a53-ed63-48bc-8100-3075c619d7de",
   "metadata": {},
   "outputs": [
    {
     "name": "stdout",
     "output_type": "stream",
     "text": [
      "Hafler_500.h5ad\n",
      "../../data/integration_oct_2022/input/bydataset_500/Hafler_500.h5ad\n",
      "Chen_c_500.h5ad\n",
      "../../data/integration_oct_2022/input/bydataset_500/Chen_c_500.h5ad\n",
      "Sanes_500.h5ad\n",
      "../../data/integration_oct_2022/input/bydataset_500/Sanes_500.h5ad\n",
      "Chen_a_500.h5ad\n",
      "../../data/integration_oct_2022/input/bydataset_500/Chen_a_500.h5ad\n",
      "Chen_b_500.h5ad\n",
      "../../data/integration_oct_2022/input/bydataset_500/Chen_b_500.h5ad\n",
      "Chang_500.h5ad\n",
      "../../data/integration_oct_2022/input/bydataset_500/Chang_500.h5ad\n",
      "Scheetz_500.h5ad\n",
      "../../data/integration_oct_2022/input/bydataset_500/Scheetz_500.h5ad\n",
      "Roska_500.h5ad\n",
      "../../data/integration_oct_2022/input/bydataset_500/Roska_500.h5ad\n",
      "Hackney_500.h5ad\n",
      "../../data/integration_oct_2022/input/bydataset_500/Hackney_500.h5ad\n",
      "Chen_rgc_500.h5ad\n",
      "../../data/integration_oct_2022/input/bydataset_500/Chen_rgc_500.h5ad\n",
      "Wong_500.h5ad\n",
      "../../data/integration_oct_2022/input/bydataset_500/Wong_500.h5ad\n",
      "done...\n"
     ]
    }
   ],
   "source": [
    "ad_by_k = {}\n",
    "d = '../../data/integration_oct_2022/input/bydataset_500'\n",
    "for f in listdir(d):\n",
    "    print(f)\n",
    "    p = os.path.join(d, f)\n",
    "    print(p)\n",
    "    ad = sc.read_h5ad(p)\n",
    "    ad_by_k[f.replace('.h5ad', '')] = ad\n",
    "    # if len(ad_by_k) == 3:\n",
    "    #     break\n",
    "print('done...')"
   ]
  },
  {
   "cell_type": "markdown",
   "id": "60c04779-6186-4208-a810-dea684d26ae3",
   "metadata": {},
   "source": [
    "## Means PCA, to quickly visualize the separation between datasets"
   ]
  },
  {
   "cell_type": "markdown",
   "id": "32a1826a-5c76-4e4d-bbe1-3ab3b85b8045",
   "metadata": {},
   "source": [
    "### Calculate means of all features, in a way to PCA-compare the expression values across all the samples."
   ]
  },
  {
   "cell_type": "code",
   "execution_count": 15,
   "id": "d01bdbd2-7685-479a-9255-1368b2b1633b",
   "metadata": {},
   "outputs": [
    {
     "name": "stdout",
     "output_type": "stream",
     "text": [
      "Hafler_500 36601 Index(['MIR1302-2HG', 'FAM138A', 'OR4F5', 'AL627309.1', 'AL627309.3'], dtype='object')\n",
      "Chen_c_500 36601 Index(['MIR1302-2HG', 'FAM138A', 'OR4F5', 'AL627309.1', 'AL627309.3'], dtype='object')\n",
      "Sanes_500 36601 Index(['MIR1302-2HG', 'FAM138A', 'OR4F5', 'AL627309.1', 'AL627309.3'], dtype='object')\n",
      "Chen_a_500 36601 Index(['MIR1302-2HG', 'FAM138A', 'OR4F5', 'AL627309.1', 'AL627309.3'], dtype='object')\n",
      "Chen_b_500 36601 Index(['MIR1302-2HG', 'FAM138A', 'OR4F5', 'AL627309.1', 'AL627309.3'], dtype='object')\n",
      "Chang_500 36601 Index(['MIR1302-2HG', 'FAM138A', 'OR4F5', 'AL627309.1', 'AL627309.3'], dtype='object')\n",
      "Scheetz_500 36601 Index(['MIR1302-2HG', 'FAM138A', 'OR4F5', 'AL627309.1', 'AL627309.3'], dtype='object')\n",
      "Roska_500 36601 Index(['MIR1302-2HG', 'FAM138A', 'OR4F5', 'AL627309.1', 'AL627309.3'], dtype='object')\n",
      "Hackney_500 56356 Index(['A1BG', 'A1BG-AS1', 'A1CF', 'A2M', 'A2M-AS1'], dtype='object')\n",
      "Chen_rgc_500 36601 Index(['MIR1302-2HG', 'FAM138A', 'OR4F5', 'AL627309.1', 'AL627309.3'], dtype='object')\n",
      "Wong_500 36601 Index(['MIR1302-2HG', 'FAM138A', 'OR4F5', 'AL627309.1', 'AL627309.3'], dtype='object')\n"
     ]
    }
   ],
   "source": [
    "common = None\n",
    "for k in ad_by_k:\n",
    "    ad = ad_by_k[k]\n",
    "    var_names = ad.var_names\n",
    "    common = set(var_names) if common is None else common.intersection(set(var_names))\n",
    "    print(k, len(var_names), var_names[:5])\n",
    "len(common)\n",
    "order = pd.Series(list(common)).values\n"
   ]
  },
  {
   "cell_type": "code",
   "execution_count": 16,
   "id": "bdc2aa3d-1067-4e6b-97e9-5e4200997005",
   "metadata": {},
   "outputs": [
    {
     "name": "stdout",
     "output_type": "stream",
     "text": [
      "here...\n"
     ]
    }
   ],
   "source": [
    "print('here...')"
   ]
  },
  {
   "cell_type": "code",
   "execution_count": 17,
   "id": "d6198af1-21a9-4499-8339-0e5993f3bcdc",
   "metadata": {},
   "outputs": [
    {
     "name": "stdout",
     "output_type": "stream",
     "text": [
      "(1, 36601)\n",
      "(1, 36601)\n",
      "(1, 36601)\n",
      "(1, 36601)\n",
      "(1, 36601)\n",
      "(1, 36601)\n",
      "(1, 36601)\n",
      "(1, 36601)\n",
      "(1, 56356)\n",
      "(1, 36601)\n",
      "(1, 36601)\n"
     ]
    }
   ],
   "source": [
    "\n",
    "means = []\n",
    "for k in ad_by_k:\n",
    "    ad = ad_by_k[k]\n",
    "    # ad_sel = ad[:,order]\n",
    "    # assert sum(ad_sel.var_names.values == order) == len(order)\n",
    "    next_means = ad.X.mean(axis=0)\n",
    "    next_means = pd.DataFrame(next_means, columns=ad.var_names)\n",
    "    means.append(next_means)\n",
    "    print(next_means.shape)\n"
   ]
  },
  {
   "cell_type": "code",
   "execution_count": 18,
   "id": "aedd3681-a63b-470e-8dbd-e2d5cb7ea1d2",
   "metadata": {},
   "outputs": [
    {
     "data": {
      "text/plain": [
       "11"
      ]
     },
     "execution_count": 18,
     "metadata": {},
     "output_type": "execute_result"
    }
   ],
   "source": [
    "len(means)"
   ]
  },
  {
   "cell_type": "code",
   "execution_count": 19,
   "id": "19071ea3-18b4-428d-9601-af1f5e5726cd",
   "metadata": {},
   "outputs": [],
   "source": [
    "m = pd.concat(means)\n",
    "m = m.dropna(axis=1, how='any')"
   ]
  },
  {
   "cell_type": "code",
   "execution_count": 20,
   "id": "1f96f53c-8a1c-4dc5-8daa-ef28aeee214f",
   "metadata": {},
   "outputs": [
    {
     "name": "stdout",
     "output_type": "stream",
     "text": [
      "Hafler_500 3000\n",
      "Chen_c_500 10000\n",
      "Sanes_500 9129\n",
      "Chen_a_500 20000\n",
      "Chen_b_500 7500\n",
      "Chang_500 4000\n",
      "Scheetz_500 2947\n",
      "Roska_500 7500\n",
      "Hackney_500 5500\n",
      "Chen_rgc_500 3500\n",
      "Wong_500 2500\n"
     ]
    }
   ],
   "source": [
    "for k in ad_by_k:\n",
    "    print(k, ad_by_k[k].shape[0])"
   ]
  },
  {
   "cell_type": "code",
   "execution_count": 21,
   "id": "699c3f34-1ccd-4d2d-be10-27bbe73b961f",
   "metadata": {},
   "outputs": [],
   "source": [
    "import matplotlib.pyplot as plt\n",
    "from sklearn import datasets\n",
    "from sklearn.decomposition import PCA\n",
    "from sklearn.discriminant_analysis import LinearDiscriminantAnalysis\n",
    "from sklearn.preprocessing import scale, normalize\n",
    "\n",
    "X = m\n",
    "X -= np.mean(X, axis = 0) \n",
    "X = normalize(X, axis=1)\n",
    "\n",
    "y = np.arange(X.shape[0])\n",
    "target_names = list(ad_by_k.keys())[:len(y)]\n",
    "\n"
   ]
  },
  {
   "cell_type": "code",
   "execution_count": 22,
   "id": "76edc03f-63bb-4089-8e1b-0a17053b41a9",
   "metadata": {},
   "outputs": [
    {
     "data": {
      "text/plain": [
       "array(['scRNA-seq', 'snRNA-seq', 'scRNA-seq', 'snRNA-seq', 'snRNA-seq',\n",
       "       'snRNA-seq', 'scRNA-seq', 'scRNA-seq', 'snRNA-seq', 'snRNA-seq',\n",
       "       'scRNA-seq'], dtype='<U9')"
      ]
     },
     "execution_count": 22,
     "metadata": {},
     "output_type": "execute_result"
    }
   ],
   "source": [
    "tech = np.where(pd.Series(target_names).str.split('_').str[0].isin({'Chen', 'Chang', 'Hackney'}), 'snRNA-seq', 'scRNA-seq')\n",
    "tech\n"
   ]
  },
  {
   "cell_type": "code",
   "execution_count": 23,
   "id": "d7fb071e-a129-4203-8314-fba62aec2c84",
   "metadata": {},
   "outputs": [
    {
     "name": "stdout",
     "output_type": "stream",
     "text": [
      "explained variance ratio (first two components): [0.5423936  0.18221767]\n"
     ]
    },
    {
     "data": {
      "image/png": "[encoded data removed]",
      "text/plain": [
       "<Figure size 300x300 with 1 Axes>"
      ]
     },
     "metadata": {},
     "output_type": "display_data"
    },
    {
     "name": "stdout",
     "output_type": "stream",
     "text": [
      "-0.081569165 -0.79883814\n",
      "-0.27454174 0.809479\n",
      "0.9259033 -0.21500987\n",
      "-0.76307034 -0.09439331\n",
      "-0.75925195 0.13775975\n",
      "-0.6709148 0.16068521\n",
      "1.0559549 0.2469989\n",
      "0.97566146 -0.33522844\n",
      "-0.65841126 -0.34256464\n",
      "-0.4247003 -0.04206099\n",
      "0.67493993 0.47317243\n"
     ]
    },
    {
     "data": {
      "text/plain": [
       "Text(0, 0.5, 'PC2 (18.2% variance)')"
      ]
     },
     "execution_count": 23,
     "metadata": {},
     "output_type": "execute_result"
    },
    {
     "data": {
      "image/png": "[encoded data removed]",
      "text/plain": [
       "<Figure size 300x300 with 1 Axes>"
      ]
     },
     "metadata": {},
     "output_type": "display_data"
    }
   ],
   "source": [
    "\n",
    "pca = PCA(n_components=2)\n",
    "X_r = pca.fit(X).transform(X)\n",
    "\n",
    "# Percentage of variance explained for each components\n",
    "print(\n",
    "    \"explained variance ratio (first two components): %s\"\n",
    "    % str(pca.explained_variance_ratio_)\n",
    ")\n",
    "\n",
    "rcParams['figure.figsize'] = 3, 3\n",
    "\n",
    "plt.figure()\n",
    "colors = ['#a6cee3','#1f78b4','#b2df8a','#33a02c','#fb9a99','#e31a1c','#fdbf6f','#ff7f00','#cab2d6','#6a3d9a','#ffff99']\n",
    "lw = 2\n",
    "for color, i, target_name, tech_i in zip(colors, y, target_names, tech):\n",
    "    plt.scatter(\n",
    "        X_r[y == i, 0], X_r[y == i, 1],\n",
    "        marker='^' if tech_i == 'snRNA-seq' else 'o',\n",
    "        color=color, alpha=0.8, lw=lw, label=target_name\n",
    "    )\n",
    "plt.legend(loc=\"best\", shadow=False, scatterpoints=1, bbox_to_anchor=(1.01, 1), fontsize=8)\n",
    "plt.xlabel('PC1 (%.1f%s variance)' % (pca.explained_variance_ratio_[0] * 100, '%'))\n",
    "plt.ylabel('PC2 (%.1f%s variance)' % (pca.explained_variance_ratio_[1] * 100, '%'))\n",
    "plt.title(\"PCA (expression mean)\")\n",
    "plt.show()\n",
    "\n",
    "lw = 2\n",
    "\n",
    "\n",
    "ax = plt.subplot()\n",
    "for color, i, target_name, tech_i in zip(colors, y, target_names, tech):\n",
    "    ax.scatter(\n",
    "        X_r[y == i, 0], X_r[y == i, 1], marker='^' if tech_i == 'snRNA-seq' else 'o',\n",
    "        color='#1b9e77' if tech_i == 'snRNA-seq' else '#d95f02', alpha=0.8, lw=lw, label=target_name\n",
    "    )\n",
    "    for xi, yi in X_r[y == i,:]:\n",
    "        print(xi, yi)\n",
    "        ax.annotate(target_name, (xi, yi), fontsize=8)\n",
    "# plt.legend(loc=\"best\", shadow=False, scatterpoints=1, bbox_to_anchor=(1.01, 1), fontsize=8)\n",
    "plt.title(\"PCA of retina samples\")\n",
    "plt.xlabel('PC1 (%.1f%s variance)' % (pca.explained_variance_ratio_[0] * 100, '%'))\n",
    "plt.ylabel('PC2 (%.1f%s variance)' % (pca.explained_variance_ratio_[1] * 100, '%'))\n"
   ]
  },
  {
   "cell_type": "markdown",
   "id": "e2497f91-d81a-4736-a281-8a3c742a5d0c",
   "metadata": {},
   "source": [
    "### Plot barplots of relevant information"
   ]
  },
  {
   "cell_type": "code",
   "execution_count": 24,
   "id": "5aa75f65-266e-439f-abbe-c43eb7530393",
   "metadata": {},
   "outputs": [],
   "source": [
    "obs = [ad.obs for ad in ad_by_k.values()]\n",
    "obs = pd.concat(obs)"
   ]
  },
  {
   "cell_type": "code",
   "execution_count": 25,
   "id": "5be7be4b-29c8-4b12-b23d-e9e158a4c542",
   "metadata": {},
   "outputs": [],
   "source": [
    "# add donor information\n",
    "path_xlsx = '/lustre/groups/ml01/datasets/projects/20210318_retinal_data_integration_ignacio.ibarra_malte.luecken/20221611_redownload/chen_rna_atlas/processed_h5ad/atlasrna_metadata.xlsx'\n",
    "xl = pd.ExcelFile(path_xlsx)\n",
    "xl.sheet_names  # see all sheet names\n",
    "\n",
    "donor = []\n",
    "for sheet_name in xl.sheet_names:\n",
    "    df2 = xl.parse(sheet_name)  # read a specific sheet to DataFrame\n",
    "    # print(sheet_name, df.shape)\n",
    "    df2['sheet_name'] = sheet_name\n",
    "    donor.append(df2)\n",
    "donor = pd.concat(donor).reset_index(drop=True)"
   ]
  },
  {
   "cell_type": "code",
   "execution_count": 26,
   "id": "0a4d835c-4021-469d-9aa3-7a9cb0055297",
   "metadata": {},
   "outputs": [],
   "source": [
    "tech = np.where(pd.Series(target_names).str.split('_').str[0].isin({'Chen', 'Hackney', 'Chang'}), 'snRNA-seq', 'scRNA-seq')\n"
   ]
  },
  {
   "cell_type": "code",
   "execution_count": 27,
   "id": "e414e605-1bc3-4d5d-9204-963a5f0fd30a",
   "metadata": {},
   "outputs": [
    {
     "data": {
      "text/plain": [
       "tech\n",
       "scRNA-seq    24\n",
       "snRNA-seq    34\n",
       "dtype: int64"
      ]
     },
     "execution_count": 27,
     "metadata": {},
     "output_type": "execute_result"
    }
   ],
   "source": [
    "donor['tech'] = np.where(donor['sheet_name'].str.contains('Chen') | donor['sheet_name'].str.contains('Hackney'), 'snRNA-seq', 'scRNA-seq')\n",
    "donor.drop_duplicates('donor').groupby(['tech']).size()"
   ]
  },
  {
   "cell_type": "code",
   "execution_count": 28,
   "id": "559d3199-faf0-49ca-b5c5-2853d034d2b2",
   "metadata": {},
   "outputs": [],
   "source": [
    "counts = []\n",
    "for k in ad_by_k:\n",
    "    ad = ad_by_k[k]\n",
    "    # print(k, ad.shape)\n",
    "    counts.append([ad.shape[0], k, 'core' if 'Chen' in k or 'Hackney' in k else 'extended'])\n",
    "counts = pd.DataFrame(counts, columns=['n_cells', 'dataset', 'tech'])"
   ]
  },
  {
   "cell_type": "code",
   "execution_count": 29,
   "id": "c94e7e7b-4138-47cd-9114-497fffbbfe6f",
   "metadata": {},
   "outputs": [
    {
     "data": {
      "text/plain": [
       "Text(0, 0.5, '# cells')"
      ]
     },
     "execution_count": 29,
     "metadata": {},
     "output_type": "execute_result"
    },
    {
     "data": {
      "image/png": "[encoded data removed]",
      "text/plain": [
       "<Figure size 350x100 with 1 Axes>"
      ]
     },
     "metadata": {},
     "output_type": "display_data"
    }
   ],
   "source": [
    "rcParams['figure.figsize'] = 3.5, 1.0\n",
    "counts_sum = counts.groupby('tech').sum()\n",
    "\n",
    "ext = pd.DataFrame([counts_sum['n_cells'].sum()], columns=['n_cells'], index=['core+extended'])\n",
    "counts_sum = pd.concat([counts_sum, ext])\n",
    "counts_sum = counts_sum.reindex(['core', 'core+extended'])\n",
    "\n",
    "g = counts_sum.sort_values('n_cells', ascending=False).plot(kind='barh')\n",
    "g.legend_.remove()\n",
    "plt.xlabel('status')\n",
    "plt.ylabel('# cells')"
   ]
  },
  {
   "cell_type": "code",
   "execution_count": 30,
   "id": "5a74aa28-5a55-4a57-b8b9-1b6d2f8c0a68",
   "metadata": {},
   "outputs": [],
   "source": [
    "sns.set_style('darkgrid')"
   ]
  },
  {
   "cell_type": "code",
   "execution_count": 31,
   "id": "ff70fba2-417e-4bc4-9411-1575439bfbb8",
   "metadata": {},
   "outputs": [
    {
     "data": {
      "text/plain": [
       "Text(0, 0.5, '# individuals')"
      ]
     },
     "execution_count": 31,
     "metadata": {},
     "output_type": "execute_result"
    },
    {
     "data": {
      "image/png": "[encoded data removed]",
      "text/plain": [
       "<Figure size 200x200 with 1 Axes>"
      ]
     },
     "metadata": {},
     "output_type": "display_data"
    }
   ],
   "source": [
    "rcParams['figure.figsize'] = 2, 2\n",
    "donor['tissue'] = donor['tissue'].astype(str)\n",
    "df2 = donor.drop_duplicates('donor')\n",
    "df2['tissue'] = np.where(df2['tissue'] == 'nan', 'n/a', df2['tissue'])\n",
    "df2 = df2['tissue'].value_counts().reset_index()\n",
    "df2.index = df2['index']\n",
    "df2 = df2.reindex(list(df2.index[:2]) + list(df2.index[3:]) + list(df2.index[2:3]))\n",
    "\n",
    "g = df2.plot(kind='bar', x='index')\n",
    "g.legend_.remove()\n",
    "plt.xlabel('tissue')\n",
    "plt.ylabel('# individuals')"
   ]
  },
  {
   "cell_type": "code",
   "execution_count": 32,
   "id": "ab94f86d-8bbd-46ed-bcc1-0f55220ab780",
   "metadata": {},
   "outputs": [
    {
     "data": {
      "text/plain": [
       "Text(0, 0.5, '# individuals')"
      ]
     },
     "execution_count": 32,
     "metadata": {},
     "output_type": "execute_result"
    },
    {
     "data": {
      "image/png": "[encoded data removed]",
      "text/plain": [
       "<Figure size 200x200 with 1 Axes>"
      ]
     },
     "metadata": {},
     "output_type": "display_data"
    }
   ],
   "source": [
    "rcParams['figure.figsize'] = 2, 2\n",
    "donor['ethnicity'] = donor['race'].astype(str)\n",
    "ethnicity = donor.drop_duplicates('donor')\n",
    "ethnicity['ethnicity'] = np.where(ethnicity['ethnicity'] == 'nan', 'Unknown', ethnicity['ethnicity'])\n",
    "ethnicity = ethnicity['ethnicity'].value_counts().reset_index()\n",
    "g = ethnicity.plot(kind='bar', x='index')\n",
    "g.legend_.remove()\n",
    "plt.xlabel('ethnic group')\n",
    "plt.ylabel('# individuals')"
   ]
  },
  {
   "cell_type": "code",
   "execution_count": 33,
   "id": "697c0609-06e0-4216-a558-57e8da87355d",
   "metadata": {},
   "outputs": [
    {
     "data": {
      "text/html": [
       "<div>\n",
       "<style scoped>\n",
       "    .dataframe tbody tr th:only-of-type {\n",
       "        vertical-align: middle;\n",
       "    }\n",
       "\n",
       "    .dataframe tbody tr th {\n",
       "        vertical-align: top;\n",
       "    }\n",
       "\n",
       "    .dataframe thead th {\n",
       "        text-align: right;\n",
       "    }\n",
       "</style>\n",
       "<table border=\"1\" class=\"dataframe\">\n",
       "  <thead>\n",
       "    <tr style=\"text-align: right;\">\n",
       "      <th></th>\n",
       "      <th>sampleid</th>\n",
       "      <th>donor</th>\n",
       "      <th>tissue</th>\n",
       "      <th>race</th>\n",
       "      <th>gender</th>\n",
       "      <th>age</th>\n",
       "      <th>file</th>\n",
       "      <th>sheet_name</th>\n",
       "      <th>tech</th>\n",
       "      <th>ethnicity</th>\n",
       "    </tr>\n",
       "  </thead>\n",
       "  <tbody>\n",
       "    <tr>\n",
       "      <th>24</th>\n",
       "      <td>Chen_a_10x_Lobe_D017_18_13_NeuN</td>\n",
       "      <td>Chen_mix_D017_13_D018_13</td>\n",
       "      <td>lobe</td>\n",
       "      <td>Caucasian</td>\n",
       "      <td>Male_Female</td>\n",
       "      <td>65_91</td>\n",
       "      <td>/storage/singlecell/jinli/wkfl/atlashumanprj/n...</td>\n",
       "      <td>Chen82</td>\n",
       "      <td>snRNA-seq</td>\n",
       "      <td>Caucasian</td>\n",
       "    </tr>\n",
       "    <tr>\n",
       "      <th>25</th>\n",
       "      <td>Chen_a_10x_Lobe_D017_18_13_Nu</td>\n",
       "      <td>Chen_mix_D017_13_D018_13</td>\n",
       "      <td>lobe</td>\n",
       "      <td>Caucasian</td>\n",
       "      <td>Male_Female</td>\n",
       "      <td>65_91</td>\n",
       "      <td>/storage/singlecell/jinli/wkfl/atlashumanprj/n...</td>\n",
       "      <td>Chen82</td>\n",
       "      <td>snRNA-seq</td>\n",
       "      <td>Caucasian</td>\n",
       "    </tr>\n",
       "    <tr>\n",
       "      <th>26</th>\n",
       "      <td>Chen_a_10x_Lobe_D018_26_13_NeuN</td>\n",
       "      <td>Chen_mix_D018_13_D026_13</td>\n",
       "      <td>lobe</td>\n",
       "      <td>Caucasian</td>\n",
       "      <td>Male_Female</td>\n",
       "      <td>91_81</td>\n",
       "      <td>/storage/singlecell/jinli/wkfl/atlashumanprj/n...</td>\n",
       "      <td>Chen82</td>\n",
       "      <td>snRNA-seq</td>\n",
       "      <td>Caucasian</td>\n",
       "    </tr>\n",
       "    <tr>\n",
       "      <th>27</th>\n",
       "      <td>Chen_a_10x_Lobe_D018_26_13_Nu</td>\n",
       "      <td>Chen_mix_D018_13_D026_13</td>\n",
       "      <td>lobe</td>\n",
       "      <td>Caucasian</td>\n",
       "      <td>Male_Female</td>\n",
       "      <td>91_81</td>\n",
       "      <td>/storage/singlecell/jinli/wkfl/atlashumanprj/n...</td>\n",
       "      <td>Chen82</td>\n",
       "      <td>snRNA-seq</td>\n",
       "      <td>Caucasian</td>\n",
       "    </tr>\n",
       "  </tbody>\n",
       "</table>\n",
       "</div>"
      ],
      "text/plain": [
       "                           sampleid                     donor tissue  \\\n",
       "24  Chen_a_10x_Lobe_D017_18_13_NeuN  Chen_mix_D017_13_D018_13   lobe   \n",
       "25    Chen_a_10x_Lobe_D017_18_13_Nu  Chen_mix_D017_13_D018_13   lobe   \n",
       "26  Chen_a_10x_Lobe_D018_26_13_NeuN  Chen_mix_D018_13_D026_13   lobe   \n",
       "27    Chen_a_10x_Lobe_D018_26_13_Nu  Chen_mix_D018_13_D026_13   lobe   \n",
       "\n",
       "         race       gender    age  \\\n",
       "24  Caucasian  Male_Female  65_91   \n",
       "25  Caucasian  Male_Female  65_91   \n",
       "26  Caucasian  Male_Female  91_81   \n",
       "27  Caucasian  Male_Female  91_81   \n",
       "\n",
       "                                                 file sheet_name       tech  \\\n",
       "24  /storage/singlecell/jinli/wkfl/atlashumanprj/n...     Chen82  snRNA-seq   \n",
       "25  /storage/singlecell/jinli/wkfl/atlashumanprj/n...     Chen82  snRNA-seq   \n",
       "26  /storage/singlecell/jinli/wkfl/atlashumanprj/n...     Chen82  snRNA-seq   \n",
       "27  /storage/singlecell/jinli/wkfl/atlashumanprj/n...     Chen82  snRNA-seq   \n",
       "\n",
       "    ethnicity  \n",
       "24  Caucasian  \n",
       "25  Caucasian  \n",
       "26  Caucasian  \n",
       "27  Caucasian  "
      ]
     },
     "execution_count": 33,
     "metadata": {},
     "output_type": "execute_result"
    }
   ],
   "source": [
    "donor[donor['gender'] == 'Male_Female']"
   ]
  },
  {
   "cell_type": "code",
   "execution_count": 34,
   "id": "201bef67-25e0-4e04-8611-80f97cdb1de1",
   "metadata": {},
   "outputs": [
    {
     "name": "stdout",
     "output_type": "stream",
     "text": [
      "     index  sex\n",
      "0     Male   39\n",
      "1   Female   17\n",
      "2  Unknown    2\n"
     ]
    },
    {
     "data": {
      "text/plain": [
       "Text(0, 0.5, '# individuals')"
      ]
     },
     "execution_count": 34,
     "metadata": {},
     "output_type": "execute_result"
    },
    {
     "data": {
      "image/png": "[encoded data removed]",
      "text/plain": [
       "<Figure size 200x200 with 1 Axes>"
      ]
     },
     "metadata": {},
     "output_type": "display_data"
    }
   ],
   "source": [
    "rcParams['figure.figsize'] = 2, 2\n",
    "donor['sex'] = donor['gender'].astype(str)\n",
    "df2 = donor.drop_duplicates('donor')\n",
    "df2['sex'] = np.where(df2['sex'] == 'Male_Female', 'Unknown', df2['sex'])\n",
    "df2 = df2['sex'].value_counts().reset_index()\n",
    "print(df2)\n",
    "g = df2.plot(kind='bar', x='index')\n",
    "g.legend_.remove()\n",
    "plt.xlabel('ethnic group')\n",
    "plt.ylabel('# individuals')"
   ]
  },
  {
   "cell_type": "code",
   "execution_count": 35,
   "id": "7c384b1e-7d40-4de0-a230-ddcd4e2e6f60",
   "metadata": {},
   "outputs": [],
   "source": [
    "# obs['batch_full'].value_counts()"
   ]
  },
  {
   "cell_type": "code",
   "execution_count": null,
   "id": "b96587fc-cd5b-4960-ba28-a8f14e8f5326",
   "metadata": {},
   "outputs": [],
   "source": []
  },
  {
   "cell_type": "code",
   "execution_count": 37,
   "id": "2a1c2281-3682-4827-bfed-952f3df8cbb3",
   "metadata": {},
   "outputs": [
    {
     "data": {
      "text/plain": [
       "Text(0, 0.5, '# individuals')"
      ]
     },
     "execution_count": 37,
     "metadata": {},
     "output_type": "execute_result"
    },
    {
     "data": {
      "image/png": "[encoded data removed]",
      "text/plain": [
       "<Figure size 200x200 with 1 Axes>"
      ]
     },
     "metadata": {},
     "output_type": "display_data"
    }
   ],
   "source": [
    "rcParams['figure.figsize'] = 2, 2\n",
    "donor['ethnicity'] = donor['race'].astype(str)\n",
    "df2 = donor.drop_duplicates('donor')\n",
    "df2['ethnicity'] = np.where(df2['ethnicity'] == 'nan', 'Unknown', df2['ethnicity'])\n",
    "df2 = df2[['age']] # .value_counts()\n",
    "mapped = df2[['age']]['age'].map({'50-80': 65, '65_91': 78, '91_81': 71})\n",
    "df2['age'] = np.where(~pd.isnull(mapped), mapped, df2['age']).astype(int)\n",
    "sns.histplot(data=df2, x='age', bins=13)\n",
    "# g.legend_.remove()\n",
    "plt.xlabel('age')\n",
    "plt.ylabel('# individuals')"
   ]
  },
  {
   "cell_type": "code",
   "execution_count": 39,
   "id": "2a4e3d59-fd38-43bc-b628-40f46780e476",
   "metadata": {},
   "outputs": [
    {
     "data": {
      "text/plain": [
       "Text(0, 0.5, '# individuals')"
      ]
     },
     "execution_count": 39,
     "metadata": {},
     "output_type": "execute_result"
    },
    {
     "data": {
      "image/png": "[encoded data removed]",
      "text/plain": [
       "<Figure size 200x200 with 1 Axes>"
      ]
     },
     "metadata": {},
     "output_type": "display_data"
    }
   ],
   "source": [
    "rcParams['figure.figsize'] = 2, 2\n",
    "donor['ethnicity'] = donor['race'].astype(str)\n",
    "df2 = donor.drop_duplicates('donor')\n",
    "df2['ethnicity'] = np.where(df2['ethnicity'] == 'nan', 'Unknown', df2['ethnicity'])\n",
    "df2 = df2[['age']] # .value_counts()\n",
    "mapped = df2[['age']]['age'].map({'50-80': 65, '65_91': 78, '91_81': 71})\n",
    "df2['age'] = np.where(~pd.isnull(mapped), mapped, df2['age']).astype(int)\n",
    "sns.histplot(data=df2, x='age', bins=13)\n",
    "# g.legend_.remove()\n",
    "plt.xlabel('age')\n",
    "plt.ylabel('# individuals')"
   ]
  },
  {
   "cell_type": "code",
   "execution_count": 40,
   "id": "6e9c922a-28a3-410f-aac3-3222fb6a5293",
   "metadata": {},
   "outputs": [
    {
     "data": {
      "text/plain": [
       "count    58.000000\n",
       "mean     73.224138\n",
       "std      11.195305\n",
       "min      42.000000\n",
       "25%      65.000000\n",
       "50%      73.500000\n",
       "75%      82.000000\n",
       "max      91.000000\n",
       "Name: age, dtype: float64"
      ]
     },
     "execution_count": 40,
     "metadata": {},
     "output_type": "execute_result"
    }
   ],
   "source": [
    "df2['age'].describe()"
   ]
  },
  {
   "cell_type": "code",
   "execution_count": 41,
   "id": "858d87d7-9d9f-41f6-9772-a6319fd730f2",
   "metadata": {},
   "outputs": [],
   "source": [
    "donor_by_filename = donor[['sampleid', 'donor']].set_index('sampleid')['donor'].to_dict()\n",
    "obs['donor'] = obs['filename'].map(donor_by_filename)"
   ]
  },
  {
   "cell_type": "code",
   "execution_count": 42,
   "id": "27bf6359-6ba0-4d64-bb1e-50bc86cd46b7",
   "metadata": {},
   "outputs": [],
   "source": [
    "obs['cell_type'] = obs['scpred_prediction']"
   ]
  },
  {
   "cell_type": "code",
   "execution_count": null,
   "id": "da109246-13b7-466f-b298-52f853775024",
   "metadata": {},
   "outputs": [],
   "source": [
    "len(set(obs['donor'].value_counts()))"
   ]
  },
  {
   "cell_type": "code",
   "execution_count": null,
   "id": "00b89716-fa36-46fd-9c6d-37905131bd4c",
   "metadata": {},
   "outputs": [],
   "source": []
  },
  {
   "cell_type": "code",
   "execution_count": null,
   "id": "dbb3fbe4",
   "metadata": {},
   "outputs": [],
   "source": [
    "norm = True\n",
    "for batch_type in ['donor', 'dataset', 'batch_merged']:\n",
    "    # if batch_type != 'dataset':\n",
    "    #     continue\n",
    "    \n",
    "    # for f in ad_by_f:\n",
    "    import pandas as pd\n",
    "\n",
    "    if batch_type == 'batch_merged':\n",
    "        obs['batch_full'] = obs['dataset'].astype(str) + '_' + obs['batch'].astype(str)\n",
    "    elif batch_type == 'donor':\n",
    "        obs['batch_full'] = obs['donor'].astype(str)\n",
    "    else:\n",
    "        obs['batch_full'] = obs['dataset'].astype(str)\n",
    "    \n",
    "    df = obs[['cell_type', 'batch_full']].value_counts().reset_index()\n",
    "    df = df.pivot('batch_full', 'cell_type', 0)\n",
    "\n",
    "    name = df.index\n",
    "    df = df.reset_index(drop=True)\n",
    "    df = pd.DataFrame(np.array(df.fillna(0)).astype(int), columns=list(df.columns), index=list(name))\n",
    "\n",
    "    # df['sum'] = df.sum(axis=1)\n",
    "\n",
    "    df['sum'] = df.sum(axis=1).values\n",
    "    # df['k'] = ['_'.join(a) for a in df.index.str.split('_').str[:-1]]\n",
    "    df['k'] = df.index.str.split('_').str[0]\n",
    "    rank_by_k = {k : i for i, k in enumerate(df.groupby('k').sum().sort_values('sum').index)}\n",
    "    df['k_rank'] = df['k'].map(rank_by_k)\n",
    "    df = df.sort_values(['k_rank', 'sum'], ascending=False)\n",
    "    del df['k_rank']\n",
    "    del df['k']\n",
    "    del df['sum']\n",
    "    \n",
    "    if norm:\n",
    "        df = df.T\n",
    "        for c in df:\n",
    "            df[c] = df[c] / sum(df[c])\n",
    "        df = df.T\n",
    "\n",
    "    # assert False\n",
    "\n",
    "    rcParams['figure.figsize'] = [4 if batch_type == 'dataset' else 10, 7]\n",
    "    rcParams['figure.dpi'] = 120\n",
    "\n",
    "    from itertools import cycle, islice\n",
    "    import pandas, numpy as np  # I find np.random.randint to be better\n",
    "    c = ['#a6cee3', '#1f78b4', '#b2df8a', '#33a02c', '#fb9a99', '#e31a1c', '#fdbf6f', '#ff7f00', '#cab2d6', '#6a3d9a', 'lightgrey']\n",
    "    my_colors = list(islice(cycle(c), None, len(df.columns)))\n",
    "\n",
    "    n_total_cells = df.sum().sum()\n",
    "    n_batches = len(df.index)\n",
    "    cells_by_batch = df.sum(axis=1).mean()\n",
    "    for pi in [0, 1]:\n",
    "        ax = plt.subplot(2, 1, pi + 1)\n",
    "        df.plot(kind='bar', stacked=True, width=1.0, linewidth=0.2, logy=pi == 0,\n",
    "                color=my_colors, edgecolor='black', ax=ax)\n",
    "        plt.ylabel('# cells%s' % (' (log)' if pi == 0 else ''), fontsize=7)\n",
    "        plt.xlabel('dataset batch', fontsize=7)\n",
    "        plt.xticks(fontsize=6)\n",
    "        plt.yticks(fontsize=7)\n",
    "        if pi == 0:\n",
    "            plt.title('# cells = %s, # %s = %i\\n# cells by batch = %s' % ('{:,}'.format(n_total_cells),\n",
    "                                                                          batch_type,\n",
    "                                                                          n_batches,\n",
    "                                                                          '{:,}'.format(int(cells_by_batch))),\n",
    "                      fontsize=8)\n",
    "        plt.legend(fontsize=8, title='scpred', bbox_to_anchor=(1.01, 1))\n",
    "\n",
    "    plt.tight_layout()\n",
    "\n",
    "    img_path = '../../data/scIB_run/%s_barplot_scpred.pdf' % (batch_type)\n",
    "    plt.savefig(img_path)\n",
    "\n",
    "    print(os.path.abspath(img_path)) # .replace('.pdf', '.png')))\n",
    "    plt.close()\n"
   ]
  },
  {
   "cell_type": "code",
   "execution_count": null,
   "id": "72050533",
   "metadata": {},
   "outputs": [],
   "source": [
    "print(os.path.abspath(img_path))"
   ]
  },
  {
   "cell_type": "code",
   "execution_count": null,
   "id": "5d413e44",
   "metadata": {},
   "outputs": [],
   "source": [
    "%matplotlib inline"
   ]
  },
  {
   "cell_type": "code",
   "execution_count": null,
   "id": "7b4afd2b",
   "metadata": {},
   "outputs": [],
   "source": [
    "from PIL import Image\n",
    "\n",
    "image = Image.open(img_path)\n",
    "image.show()"
   ]
  },
  {
   "cell_type": "code",
   "execution_count": null,
   "id": "8cfb5b39",
   "metadata": {},
   "outputs": [],
   "source": []
  }
 ],
 "metadata": {
  "kernelspec": {
   "display_name": "Python [conda env:mypy3]",
   "language": "python",
   "name": "conda-env-mypy3-py"
  },
  "language_info": {
   "codemirror_mode": {
    "name": "ipython",
    "version": 3
   },
   "file_extension": ".py",
   "mimetype": "text/x-python",
   "name": "python",
   "nbconvert_exporter": "python",
   "pygments_lexer": "ipython3",
   "version": "3.8.13"
  }
 },
 "nbformat": 4,
 "nbformat_minor": 5
}
