{
 "cells": [
  {
   "cell_type": "markdown",
   "metadata": {},
   "source": [
    "### 1. Verify that all data reported by Jin is in"
   ]
  },
  {
   "cell_type": "code",
   "execution_count": 19,
   "metadata": {},
   "outputs": [],
   "source": [
    "import scIB"
   ]
  },
  {
   "cell_type": "code",
   "execution_count": 20,
   "metadata": {},
   "outputs": [],
   "source": [
    "import os\n",
    "import scanpy as sc\n",
    "from os.path import join\n",
    "from os import listdir\n",
    "import anndata\n",
    "import numpy as np\n",
    "import scipy\n",
    "import os"
   ]
  },
  {
   "cell_type": "code",
   "execution_count": 21,
   "metadata": {},
   "outputs": [],
   "source": [
    "# convert counts into float32\n",
    "# Convenience method for computing the size of objects\n",
    "def print_size_in_MB(x):\n",
    "    print('{:.3} MB'.format(x.__sizeof__()/1e6))"
   ]
  },
  {
   "cell_type": "code",
   "execution_count": 22,
   "metadata": {},
   "outputs": [
    {
     "data": {
      "text/plain": [
       "(True, True)"
      ]
     },
     "execution_count": 22,
     "metadata": {},
     "output_type": "execute_result"
    }
   ],
   "source": [
    "# datadir = '/storage/groups/ml01/datasets/projects/20210318_retinal_data_integration_ignacio.ibarra_malte.luecken'\n",
    "datadir = '/mnt/f/workspace/theislab/retina/data/RNA'\n",
    "# outdir = '/mnt/znas/icb_zstore01/groups/ml01/workspace/ignacio.ibarra/theislab/retinal_scRNAseq_integration/data/integration_march_2021/scran'\n",
    "outdir = '/mnt/f/workspace/theislab/retina/data/integration_oct_2022/scran'\n",
    "os.path.exists(outdir), os.path.exists(datadir)"
   ]
  },
  {
   "cell_type": "code",
   "execution_count": 37,
   "metadata": {},
   "outputs": [],
   "source": [
    "filenames = [f for f in os.listdir(datadir)]"
   ]
  },
  {
   "cell_type": "code",
   "execution_count": 38,
   "metadata": {},
   "outputs": [
    {
     "data": {
      "text/plain": [
       "['Chang_GSM5866081.h5ad',\n",
       " 'Chang_GSM5866082.h5ad',\n",
       " 'Chang_GSM5866083.h5ad',\n",
       " 'Chang_GSM5866084.h5ad',\n",
       " 'Chang_GSM5866085.h5ad',\n",
       " 'Chang_GSM5866086.h5ad',\n",
       " 'Chang_GSM5866087.h5ad',\n",
       " 'Chang_GSM5866088.h5ad',\n",
       " 'Chen_a_10x3_Lobe_19_D003_NeuN.h5ad',\n",
       " 'Chen_a_10x3_Lobe_19_D003_Nu.h5ad',\n",
       " 'Chen_a_10x3_Lobe_19_D005_NeuN.h5ad',\n",
       " 'Chen_a_10x3_Lobe_19_D005_Nu.h5ad',\n",
       " 'Chen_a_10x3_Lobe_19_D006_NeuN.h5ad',\n",
       " 'Chen_a_10x3_Lobe_19_D006_Nu.h5ad',\n",
       " 'Chen_a_10x3_Lobe_19_D007_NeuN.h5ad',\n",
       " 'Chen_a_10x3_Lobe_19_D007_Nu.h5ad',\n",
       " 'Chen_a_10x3_Lobe_19_D008_NeuN.h5ad',\n",
       " 'Chen_a_10x3_Lobe_19_D008_Nu.h5ad',\n",
       " 'Chen_a_10x3_Lobe_19_D009_NeuN.h5ad',\n",
       " 'Chen_a_10x3_Lobe_19_D009_Nu.h5ad',\n",
       " 'Chen_a_10x3_Lobe_19_D010_NeuN.h5ad',\n",
       " 'Chen_a_10x3_Lobe_19_D010_Nu.h5ad',\n",
       " 'Chen_a_10x3_Lobe_19_D011_NeuN.h5ad',\n",
       " 'Chen_a_10x3_Lobe_19_D011_Nu.h5ad',\n",
       " 'Chen_a_10x3_Lobe_19_D019_NeuN.h5ad',\n",
       " 'Chen_a_10x3_Lobe_19_D019_Nu.h5ad',\n",
       " 'Chen_a_10x3_Lobe_D005_13_NeuN.h5ad',\n",
       " 'Chen_a_10x3_Lobe_D005_13_Nu.h5ad',\n",
       " 'Chen_a_10x3_Lobe_D009_13_NeuN.h5ad',\n",
       " 'Chen_a_10x3_Lobe_D009_13_Nu.h5ad',\n",
       " 'Chen_a_10x3_Lobe_D013_13_NeuN.h5ad',\n",
       " 'Chen_a_10x3_Lobe_D013_13_Nu.h5ad',\n",
       " 'Chen_a_10x_Lobe_D017_18_13_NeuN.h5ad',\n",
       " 'Chen_a_10x_Lobe_D017_18_13_Nu.h5ad',\n",
       " 'Chen_a_10x_Lobe_D018_26_13_NeuN.h5ad',\n",
       " 'Chen_a_10x_Lobe_D018_26_13_Nu.h5ad',\n",
       " 'Chen_a_10x_Lobe_D026_13_NeuN.h5ad',\n",
       " 'Chen_a_10x_Lobe_D026_13_Nu.h5ad',\n",
       " 'Chen_a_10x_Lobe_D19_13_NeuN.h5ad',\n",
       " 'Chen_a_10x_Lobe_D19_13_Nu.h5ad',\n",
       " 'Chen_a_10x_Lobe_D21_13_NeuN.h5ad',\n",
       " 'Chen_a_10x_Lobe_D21_13_Nu.h5ad',\n",
       " 'Chen_a_10x_Lobe_D27_13_NeuN.h5ad',\n",
       " 'Chen_a_10x_Lobe_D27_13_Nu.h5ad',\n",
       " 'Chen_a_10x_Lobe_D28_13_NeuN.h5ad',\n",
       " 'Chen_a_10x_Lobe_D28_13_Nu.h5ad',\n",
       " 'Chen_a_10x_Lobe_D30_13_NeuN.h5ad',\n",
       " 'Chen_a_10x_Lobe_D30_13_Nu.h5ad',\n",
       " 'Chen_b_17D013_lobe_NeuNT.h5ad',\n",
       " 'Chen_b_19D013_fovea.h5ad',\n",
       " 'Chen_b_19D013_lobe_NeuNT.h5ad',\n",
       " 'Chen_b_19D013_macular.h5ad',\n",
       " 'Chen_b_19D014_fovea.h5ad',\n",
       " 'Chen_b_19D014_lobe_NeuNT.h5ad',\n",
       " 'Chen_b_19D014_macular.h5ad',\n",
       " 'Chen_b_19D015_fovea.h5ad',\n",
       " 'Chen_b_19D015_lobe_NeuNM.h5ad',\n",
       " 'Chen_b_19D015_lobe_NeuNT.h5ad',\n",
       " 'Chen_b_19D015_lobe_Nu.h5ad',\n",
       " 'Chen_b_19D015_macular.h5ad',\n",
       " 'Chen_b_19D016_macular.h5ad',\n",
       " 'Chen_b_D001-12_lobe_NeuNM.h5ad',\n",
       " 'Chen_b_D001-12_lobe_NeuNT.h5ad',\n",
       " 'Chen_c_10x3_19_D003.h5ad',\n",
       " 'Chen_c_10x3_19_D005.h5ad',\n",
       " 'Chen_c_10x3_19_D006.h5ad',\n",
       " 'Chen_c_10x3_19_D007.h5ad',\n",
       " 'Chen_c_10x3_19_D008.h5ad',\n",
       " 'Chen_c_10x3_19_D009.h5ad',\n",
       " 'Chen_c_10x3_19_D010.h5ad',\n",
       " 'Chen_c_10x3_19_D011.h5ad',\n",
       " 'Chen_c_10x3_19_D019.h5ad',\n",
       " 'Chen_c_10x3_D005_13.h5ad',\n",
       " 'Chen_c_10x3_D009_13.h5ad',\n",
       " 'Chen_c_10x3_D013_13.h5ad',\n",
       " 'Chen_c_10x3_D017_13.h5ad',\n",
       " 'Chen_c_10x3_D018_13.h5ad',\n",
       " 'Chen_c_10x3_D019_13.h5ad',\n",
       " 'Chen_c_10x3_D021_13.h5ad',\n",
       " 'Chen_c_10x3_D026_13.h5ad',\n",
       " 'Chen_c_10x3_D027_13.h5ad',\n",
       " 'Chen_c_10x3_D028_13.h5ad',\n",
       " 'Chen_c_10x3_D030_13_Macular.h5ad',\n",
       " 'Chen_rgc_10x3V31_19_D007_Macular_NeuN_T.h5ad',\n",
       " 'Chen_rgc_10x3V31_19_D016_Macular_NeuN_T.h5ad',\n",
       " 'Chen_rgc_10x3V31_19_D017_Macular_NeuN_T.h5ad',\n",
       " 'Chen_rgc_10x3v31_19_D005_Macular_NeuN_T.h5ad',\n",
       " 'Chen_rgc_10x3v31_19_D008_Mac_NeuN_T.h5ad',\n",
       " 'Chen_rgc_10x3v31_19_D009_Mac_NeuN_T.h5ad',\n",
       " 'Chen_rgc_10x3v31_19_D011_Macular_NeuN_T.h5ad',\n",
       " 'Hackney_GSM3988006.h5ad',\n",
       " 'Hackney_GSM3988007.h5ad',\n",
       " 'Hackney_GSM3988008.h5ad',\n",
       " 'Hackney_GSM3988009.h5ad',\n",
       " 'Hackney_GSM3988010.h5ad',\n",
       " 'Hackney_GSM3988011.h5ad',\n",
       " 'Hackney_GSM3988012.h5ad',\n",
       " 'Hackney_GSM3988013.h5ad',\n",
       " 'Hackney_GSM3988014.h5ad',\n",
       " 'Hackney_GSM3988015.h5ad',\n",
       " 'Hackney_GSM3988016.h5ad',\n",
       " 'Hafler_GSM4081524.h5ad',\n",
       " 'Hafler_GSM4081525.h5ad',\n",
       " 'Hafler_GSM4081526.h5ad',\n",
       " 'Hafler_GSM4081527.h5ad',\n",
       " 'Hafler_GSM4081528.h5ad',\n",
       " 'Hafler_GSM4081529.h5ad',\n",
       " 'Roska_R-00646_01_Fovea_Retina_Right.h5ad',\n",
       " 'Roska_R-00646_01_Periphery_ChoroidRPE_Left.h5ad',\n",
       " 'Roska_R-00646_01_Periphery_Retina_Left.h5ad',\n",
       " 'Roska_R-00646_01_Periphery_Retina_Right.h5ad',\n",
       " 'Roska_R-00646_03_Fovea_Retina_Left.h5ad',\n",
       " 'Roska_R-00646_03_Fovea_Retina_Right.h5ad',\n",
       " 'Roska_R-00646_03_Periphery_Retina_Left.h5ad',\n",
       " 'Roska_R-00646_03_Periphery_Retina_Right.h5ad',\n",
       " 'Roska_R-00646_04_Fovea_Retina_Left.h5ad',\n",
       " 'Roska_R-00646_04_Fovea_Retina_Right.h5ad',\n",
       " 'Roska_R-00646_04_Periphery_Retina_Left.h5ad',\n",
       " 'Roska_R-00646_04_Periphery_Retina_Right.h5ad',\n",
       " 'Roska_R-00646_07_Periphery_ChoroidRPE.h5ad',\n",
       " 'Roska_R-00646_07_Periphery_Retina.h5ad',\n",
       " 'Roska_R-00646_07_Periphery_RetinaChoroidRPE.h5ad',\n",
       " 'Sanes_H11FoveaS1.h5ad',\n",
       " 'Sanes_H1CD73dpS1.h5ad',\n",
       " 'Sanes_H1CD90S1.h5ad',\n",
       " 'Sanes_H2Fovea1S1.h5ad',\n",
       " 'Sanes_H2Fovea2S1.h5ad',\n",
       " 'Sanes_H3CD73dpS1.h5ad',\n",
       " 'Sanes_H3CD73dpS2.h5ad',\n",
       " 'Sanes_H3CD90S1.h5ad',\n",
       " 'Sanes_H3CD90S2.h5ad',\n",
       " 'Sanes_H3FoveaS1.h5ad',\n",
       " 'Sanes_H3FoveaS2.h5ad',\n",
       " 'Sanes_H3FoveaS3.h5ad',\n",
       " 'Sanes_H4FoveaS1.h5ad',\n",
       " 'Sanes_H5FoveaS1.h5ad',\n",
       " 'Sanes_H5FoveaS2.h5ad',\n",
       " 'Sanes_H5FoveaS3.h5ad',\n",
       " 'Sanes_H5FoveaS4.h5ad',\n",
       " 'Sanes_H5FoveaS5.h5ad',\n",
       " 'Sanes_H9FoveaS1.h5ad',\n",
       " 'Scheetz_GSM3745992.h5ad',\n",
       " 'Scheetz_GSM3745993.h5ad',\n",
       " 'Scheetz_GSM3745994.h5ad',\n",
       " 'Scheetz_GSM3745995.h5ad',\n",
       " 'Scheetz_GSM3745996.h5ad',\n",
       " 'Scheetz_GSM3745997.h5ad',\n",
       " 'Wong_Retina_1.h5ad',\n",
       " 'Wong_Retina_2A.h5ad',\n",
       " 'Wong_Retina_2B.h5ad',\n",
       " 'Wong_Retina_3A.h5ad',\n",
       " 'Wong_Retina_3B.h5ad']"
      ]
     },
     "execution_count": 38,
     "metadata": {},
     "output_type": "execute_result"
    }
   ],
   "source": [
    "# filenames_md5 = [f.strip() for f in open(os.path.join(datadir, 'md5sum.txt'))]\n",
    "filenames_md5 = [f.strip() for f in os.listdir(datadir) if f.endswith(\".h5ad\")]\n",
    "filenames_md5\n",
    "\n",
    "# files = set()\n",
    "# for qi in filenames_md5:\n",
    "#     md5, fi = qi.split('  ')\n",
    "#     found = os.path.exists(os.path.join(datadir, fi))\n",
    "#     if not found:\n",
    "#         print('not found', fi)\n",
    "#     files.add(fi)"
   ]
  },
  {
   "cell_type": "markdown",
   "metadata": {},
   "source": [
    "**The following files are listed but for some reason not found anymore. Consider deleting (Request to Jin first)**"
   ]
  },
  {
   "cell_type": "code",
   "execution_count": 39,
   "metadata": {},
   "outputs": [
    {
     "name": "stdout",
     "output_type": "stream",
     "text": [
      "Chang Chang_GSM5866081.h5ad\n",
      "Chang Chang_GSM5866082.h5ad\n",
      "Chang Chang_GSM5866083.h5ad\n",
      "Chang Chang_GSM5866084.h5ad\n",
      "Chang Chang_GSM5866085.h5ad\n",
      "Chang Chang_GSM5866086.h5ad\n",
      "Chang Chang_GSM5866087.h5ad\n",
      "Chang Chang_GSM5866088.h5ad\n",
      "Chen_a Chen_a_10x3_Lobe_19_D003_NeuN.h5ad\n",
      "Chen_a Chen_a_10x3_Lobe_19_D003_Nu.h5ad\n",
      "Chen_a Chen_a_10x3_Lobe_19_D005_NeuN.h5ad\n",
      "Chen_a Chen_a_10x3_Lobe_19_D005_Nu.h5ad\n",
      "Chen_a Chen_a_10x3_Lobe_19_D006_NeuN.h5ad\n",
      "Chen_a Chen_a_10x3_Lobe_19_D006_Nu.h5ad\n",
      "Chen_a Chen_a_10x3_Lobe_19_D007_NeuN.h5ad\n",
      "Chen_a Chen_a_10x3_Lobe_19_D007_Nu.h5ad\n",
      "Chen_a Chen_a_10x3_Lobe_19_D008_NeuN.h5ad\n",
      "Chen_a Chen_a_10x3_Lobe_19_D008_Nu.h5ad\n",
      "Chen_a Chen_a_10x3_Lobe_19_D009_NeuN.h5ad\n",
      "Chen_a Chen_a_10x3_Lobe_19_D009_Nu.h5ad\n",
      "Chen_a Chen_a_10x3_Lobe_19_D010_NeuN.h5ad\n",
      "Chen_a Chen_a_10x3_Lobe_19_D010_Nu.h5ad\n",
      "Chen_a Chen_a_10x3_Lobe_19_D011_NeuN.h5ad\n",
      "Chen_a Chen_a_10x3_Lobe_19_D011_Nu.h5ad\n",
      "Chen_a Chen_a_10x3_Lobe_19_D019_NeuN.h5ad\n",
      "Chen_a Chen_a_10x3_Lobe_19_D019_Nu.h5ad\n",
      "Chen_a Chen_a_10x3_Lobe_D005_13_NeuN.h5ad\n",
      "Chen_a Chen_a_10x3_Lobe_D005_13_Nu.h5ad\n",
      "Chen_a Chen_a_10x3_Lobe_D009_13_NeuN.h5ad\n",
      "Chen_a Chen_a_10x3_Lobe_D009_13_Nu.h5ad\n",
      "Chen_a Chen_a_10x3_Lobe_D013_13_NeuN.h5ad\n",
      "Chen_a Chen_a_10x3_Lobe_D013_13_Nu.h5ad\n",
      "Chen_a Chen_a_10x_Lobe_D017_18_13_NeuN.h5ad\n",
      "Chen_a Chen_a_10x_Lobe_D017_18_13_Nu.h5ad\n",
      "Chen_a Chen_a_10x_Lobe_D018_26_13_NeuN.h5ad\n",
      "Chen_a Chen_a_10x_Lobe_D018_26_13_Nu.h5ad\n",
      "Chen_a Chen_a_10x_Lobe_D026_13_NeuN.h5ad\n",
      "Chen_a Chen_a_10x_Lobe_D026_13_Nu.h5ad\n",
      "Chen_a Chen_a_10x_Lobe_D19_13_NeuN.h5ad\n",
      "Chen_a Chen_a_10x_Lobe_D19_13_Nu.h5ad\n",
      "Chen_a Chen_a_10x_Lobe_D21_13_NeuN.h5ad\n",
      "Chen_a Chen_a_10x_Lobe_D21_13_Nu.h5ad\n",
      "Chen_a Chen_a_10x_Lobe_D27_13_NeuN.h5ad\n",
      "Chen_a Chen_a_10x_Lobe_D27_13_Nu.h5ad\n",
      "Chen_a Chen_a_10x_Lobe_D28_13_NeuN.h5ad\n",
      "Chen_a Chen_a_10x_Lobe_D28_13_Nu.h5ad\n",
      "Chen_a Chen_a_10x_Lobe_D30_13_NeuN.h5ad\n",
      "Chen_a Chen_a_10x_Lobe_D30_13_Nu.h5ad\n",
      "Chen_b Chen_b_17D013_lobe_NeuNT.h5ad\n",
      "Chen_b Chen_b_19D013_fovea.h5ad\n",
      "Chen_b Chen_b_19D013_lobe_NeuNT.h5ad\n",
      "Chen_b Chen_b_19D013_macular.h5ad\n",
      "Chen_b Chen_b_19D014_fovea.h5ad\n",
      "Chen_b Chen_b_19D014_lobe_NeuNT.h5ad\n",
      "Chen_b Chen_b_19D014_macular.h5ad\n",
      "Chen_b Chen_b_19D015_fovea.h5ad\n",
      "Chen_b Chen_b_19D015_lobe_NeuNM.h5ad\n",
      "Chen_b Chen_b_19D015_lobe_NeuNT.h5ad\n",
      "Chen_b Chen_b_19D015_lobe_Nu.h5ad\n",
      "Chen_b Chen_b_19D015_macular.h5ad\n",
      "Chen_b Chen_b_19D016_macular.h5ad\n",
      "Chen_b Chen_b_D001-12_lobe_NeuNM.h5ad\n",
      "Chen_b Chen_b_D001-12_lobe_NeuNT.h5ad\n",
      "Chen_c Chen_c_10x3_19_D003.h5ad\n",
      "Chen_c Chen_c_10x3_19_D005.h5ad\n",
      "Chen_c Chen_c_10x3_19_D006.h5ad\n",
      "Chen_c Chen_c_10x3_19_D007.h5ad\n",
      "Chen_c Chen_c_10x3_19_D008.h5ad\n",
      "Chen_c Chen_c_10x3_19_D009.h5ad\n",
      "Chen_c Chen_c_10x3_19_D010.h5ad\n",
      "Chen_c Chen_c_10x3_19_D011.h5ad\n",
      "Chen_c Chen_c_10x3_19_D019.h5ad\n",
      "Chen_c Chen_c_10x3_D005_13.h5ad\n",
      "Chen_c Chen_c_10x3_D009_13.h5ad\n",
      "Chen_c Chen_c_10x3_D013_13.h5ad\n",
      "Chen_c Chen_c_10x3_D017_13.h5ad\n",
      "Chen_c Chen_c_10x3_D018_13.h5ad\n",
      "Chen_c Chen_c_10x3_D019_13.h5ad\n",
      "Chen_c Chen_c_10x3_D021_13.h5ad\n",
      "Chen_c Chen_c_10x3_D026_13.h5ad\n",
      "Chen_c Chen_c_10x3_D027_13.h5ad\n",
      "Chen_c Chen_c_10x3_D028_13.h5ad\n",
      "Chen_c Chen_c_10x3_D030_13_Macular.h5ad\n",
      "Chen_rgc Chen_rgc_10x3V31_19_D007_Macular_NeuN_T.h5ad\n",
      "Chen_rgc Chen_rgc_10x3V31_19_D016_Macular_NeuN_T.h5ad\n",
      "Chen_rgc Chen_rgc_10x3V31_19_D017_Macular_NeuN_T.h5ad\n",
      "Chen_rgc Chen_rgc_10x3v31_19_D005_Macular_NeuN_T.h5ad\n",
      "Chen_rgc Chen_rgc_10x3v31_19_D008_Mac_NeuN_T.h5ad\n",
      "Chen_rgc Chen_rgc_10x3v31_19_D009_Mac_NeuN_T.h5ad\n",
      "Chen_rgc Chen_rgc_10x3v31_19_D011_Macular_NeuN_T.h5ad\n",
      "Hackney Hackney_GSM3988006.h5ad\n",
      "Hackney Hackney_GSM3988007.h5ad\n",
      "Hackney Hackney_GSM3988008.h5ad\n",
      "Hackney Hackney_GSM3988009.h5ad\n",
      "Hackney Hackney_GSM3988010.h5ad\n",
      "Hackney Hackney_GSM3988011.h5ad\n",
      "Hackney Hackney_GSM3988012.h5ad\n",
      "Hackney Hackney_GSM3988013.h5ad\n",
      "Hackney Hackney_GSM3988014.h5ad\n",
      "Hackney Hackney_GSM3988015.h5ad\n",
      "Hackney Hackney_GSM3988016.h5ad\n",
      "Hafler Hafler_GSM4081524.h5ad\n",
      "Hafler Hafler_GSM4081525.h5ad\n",
      "Hafler Hafler_GSM4081526.h5ad\n",
      "Hafler Hafler_GSM4081527.h5ad\n",
      "Hafler Hafler_GSM4081528.h5ad\n",
      "Hafler Hafler_GSM4081529.h5ad\n",
      "Roska Roska_R-00646_01_Fovea_Retina_Right.h5ad\n",
      "Roska Roska_R-00646_01_Periphery_ChoroidRPE_Left.h5ad\n",
      "Roska Roska_R-00646_01_Periphery_Retina_Left.h5ad\n",
      "Roska Roska_R-00646_01_Periphery_Retina_Right.h5ad\n",
      "Roska Roska_R-00646_03_Fovea_Retina_Left.h5ad\n",
      "Roska Roska_R-00646_03_Fovea_Retina_Right.h5ad\n",
      "Roska Roska_R-00646_03_Periphery_Retina_Left.h5ad\n",
      "Roska Roska_R-00646_03_Periphery_Retina_Right.h5ad\n",
      "Roska Roska_R-00646_04_Fovea_Retina_Left.h5ad\n",
      "Roska Roska_R-00646_04_Fovea_Retina_Right.h5ad\n",
      "Roska Roska_R-00646_04_Periphery_Retina_Left.h5ad\n",
      "Roska Roska_R-00646_04_Periphery_Retina_Right.h5ad\n",
      "Roska Roska_R-00646_07_Periphery_ChoroidRPE.h5ad\n",
      "Roska Roska_R-00646_07_Periphery_Retina.h5ad\n",
      "Roska Roska_R-00646_07_Periphery_RetinaChoroidRPE.h5ad\n",
      "Sanes Sanes_H11FoveaS1.h5ad\n",
      "Sanes Sanes_H1CD73dpS1.h5ad\n",
      "Sanes Sanes_H1CD90S1.h5ad\n",
      "Sanes Sanes_H2Fovea1S1.h5ad\n",
      "Sanes Sanes_H2Fovea2S1.h5ad\n",
      "Sanes Sanes_H3CD73dpS1.h5ad\n",
      "Sanes Sanes_H3CD73dpS2.h5ad\n",
      "Sanes Sanes_H3CD90S1.h5ad\n",
      "Sanes Sanes_H3CD90S2.h5ad\n",
      "Sanes Sanes_H3FoveaS1.h5ad\n",
      "Sanes Sanes_H3FoveaS2.h5ad\n",
      "Sanes Sanes_H3FoveaS3.h5ad\n",
      "Sanes Sanes_H4FoveaS1.h5ad\n",
      "Sanes Sanes_H5FoveaS1.h5ad\n",
      "Sanes Sanes_H5FoveaS2.h5ad\n",
      "Sanes Sanes_H5FoveaS3.h5ad\n",
      "Sanes Sanes_H5FoveaS4.h5ad\n",
      "Sanes Sanes_H5FoveaS5.h5ad\n",
      "Sanes Sanes_H9FoveaS1.h5ad\n",
      "Scheetz Scheetz_GSM3745992.h5ad\n",
      "Scheetz Scheetz_GSM3745993.h5ad\n",
      "Scheetz Scheetz_GSM3745994.h5ad\n",
      "Scheetz Scheetz_GSM3745995.h5ad\n",
      "Scheetz Scheetz_GSM3745996.h5ad\n",
      "Scheetz Scheetz_GSM3745997.h5ad\n",
      "Wong Wong_Retina_1.h5ad\n",
      "Wong Wong_Retina_2A.h5ad\n",
      "Wong Wong_Retina_2B.h5ad\n",
      "Wong Wong_Retina_3A.h5ad\n",
      "Wong Wong_Retina_3B.h5ad\n"
     ]
    }
   ],
   "source": [
    "filenames_by_dataset = {}\n",
    "for f in filenames_md5:\n",
    "    # dataset, filename = f.split(' ')[-1].split('/')[-2:]\n",
    "    dataset = f.split('_')[0] if not \"Chen\" in f else f.split('_')[0] + '_' + f.split('_')[1]\n",
    "    filename = f\n",
    "    print(dataset, filename)\n",
    "    if not dataset in filenames_by_dataset:\n",
    "        filenames_by_dataset[dataset] = []\n",
    "    filenames_by_dataset[dataset].append(filename)"
   ]
  },
  {
   "cell_type": "markdown",
   "metadata": {},
   "source": [
    "### scran normalization"
   ]
  },
  {
   "cell_type": "code",
   "execution_count": 40,
   "metadata": {},
   "outputs": [
    {
     "data": {
      "text/plain": [
       "True"
      ]
     },
     "execution_count": 40,
     "metadata": {},
     "output_type": "execute_result"
    }
   ],
   "source": [
    "path_preprocessing = '/mnt/c/Users/ignacio.ibarra/Dropbox/workspace/theislab/HECA-scib-pipeline/scripts/preprocessing.py'\n",
    "os.path.exists(path_preprocessing)"
   ]
  },
  {
   "cell_type": "code",
   "execution_count": 27,
   "metadata": {},
   "outputs": [],
   "source": [
    "def execute_preprocessing(input_path, output_path):\n",
    "    print('')\n",
    "    path_preprocessing = '/mnt/c/Users/ignacio.ibarra/Dropbox/workspace/theislab/HECA-scib-pipeline/scripts/preprocessing.py'\n",
    "    cmd = 'python %s -i %s -o %s' % (path_preprocessing, input_path, output_path)\n",
    "    \n",
    "    try:\n",
    "        print(cmd)\n",
    "        os.system(cmd)\n",
    "    except Exception as err:\n",
    "        print('something went wrong...')\n",
    "        print(err)"
   ]
  },
  {
   "cell_type": "code",
   "execution_count": 41,
   "metadata": {},
   "outputs": [],
   "source": [
    "import multiprocessing\n",
    "from multiprocessing import Process\n",
    "from multiprocessing import Manager\n",
    "\n",
    "def run(function, input_list, n_cores, log_each=None, log=False):\n",
    "    print(('run function %s with n_cores = %i' % (function, n_cores)))\n",
    "    print(function)\n",
    "    # print 'with input list of len'\n",
    "    # print len(input_list)\n",
    "    # print 'in groups of %d threads' % n_threads\n",
    "\n",
    "    assert n_cores <= 20\n",
    "\n",
    "    # the type of input_list has to be a list. If not\n",
    "    # then it can a single element list and we cast it to list.\n",
    "    if not isinstance(type(input_list[0]), type(list)):\n",
    "        input_list = [[i] for i in input_list]\n",
    "\n",
    "    n_groups = int(len(input_list) / n_cores + 1)\n",
    "    # print 'n groups', n_groups\n",
    "\n",
    "    n_done = 0\n",
    "    for group_i in range(n_groups):\n",
    "        start, end = group_i * n_cores, (group_i + 1) * n_cores\n",
    "        # print 'start', start, 'end', end\n",
    "\n",
    "        threads = [None] * (end - start)\n",
    "        for i, pi in enumerate(range(start, min(end, len(input_list)))):\n",
    "            next_args = input_list[pi]\n",
    "            if log:\n",
    "                print(next_args)\n",
    "            # print next_kmer\n",
    "            threads[i] = Process(target=function, args=next_args)\n",
    "            # print 'starting process #', i\n",
    "            threads[i].start()\n",
    "\n",
    "        # print  threads\n",
    "        # print 'joining threads...'\n",
    "        # do some other stuff\n",
    "        for i in range(len(threads)):\n",
    "            if threads[i] is None:\n",
    "                continue\n",
    "            threads[i].join()\n",
    "\n",
    "            n_done += 1\n",
    "            if log_each is not None and log_each % n_done == 0:\n",
    "                print('Done %i so far' % n_done)\n",
    "    print('done...')\n"
   ]
  },
  {
   "cell_type": "code",
   "execution_count": 42,
   "metadata": {},
   "outputs": [],
   "source": [
    "from os.path import join\n",
    "arguments = []\n",
    "\n",
    "for dataset in filenames_by_dataset:\n",
    "    # print(dataset)\n",
    "    for filename in filenames_by_dataset[dataset]:\n",
    "        input_file = join(datadir, filename)\n",
    "        next_outdir = join(outdir, dataset)\n",
    "        # print(next_outdir)\n",
    "        \n",
    "        if not os.path.exists(next_outdir):\n",
    "            os.mkdir(next_outdir)\n",
    "            \n",
    "        output_file = join(next_outdir, filename)\n",
    "\n",
    "        # print(os.path.exists(output_file), output_file)\n",
    "        if os.path.exists(output_file):\n",
    "            # print(os.path.exists(output_file), 'skip...')\n",
    "            continue\n",
    "        \n",
    "        # print(input_file)\n",
    "        # print(output_file)\n",
    "        # print('')\n",
    "        \n",
    "        arguments.append([input_file, output_file])\n",
    "        # ad = sc.read_h5ad(join(datadir, p))\n",
    "    "
   ]
  },
  {
   "cell_type": "code",
   "execution_count": 13,
   "metadata": {},
   "outputs": [],
   "source": [
    "# this is a test. maintain commented after finishing\n",
    "# !python ../../scib/scripts/preprocessing_remove_empty.py -i /storage/groups/ml01/datasets/projects/20210318_retinal_data_integration_ignacio.ibarra_malte.luecken/Wong/Retina_2B.h5ad -o /mnt/znas/icb_zstore01/groups/ml01/workspace/ignacio.ibarra/theislab/retinal_scRNAseq_integration/data/integration_march_2021/scran/Wong/Retina_2B.h5ad"
   ]
  },
  {
   "cell_type": "code",
   "execution_count": 14,
   "metadata": {},
   "outputs": [
    {
     "name": "stdout",
     "output_type": "stream",
     "text": [
      "2\n"
     ]
    }
   ],
   "source": [
    "print(len(arguments))\n",
    "arguments = sorted(arguments, key=lambda x: os.path.getsize(x[0]))"
   ]
  },
  {
   "cell_type": "code",
   "execution_count": 15,
   "metadata": {},
   "outputs": [
    {
     "name": "stdout",
     "output_type": "stream",
     "text": [
      "run function <function execute_preprocessing at 0x7f472f31d7a0> with n_cores = 1\n",
      "<function execute_preprocessing at 0x7f472f31d7a0>\n",
      "\n",
      "python /mnt/c/Users/ignacio.ibarra/Dropbox/workspace/theislab/HECA-scib-pipeline/scripts/preprocessing.py -i /mnt/f/workspace/theislab/retina/data/RNA/Chen_a_10x3_Lobe_19_D019_NeuN.h5ad -o /mnt/f/workspace/theislab/retina/data/integration_oct_2022/scran/Chen_a/Chen_a_10x3_Lobe_19_D019_NeuN.h5ad\n"
     ]
    },
    {
     "name": "stderr",
     "output_type": "stream",
     "text": [
      "Killed\n"
     ]
    },
    {
     "name": "stdout",
     "output_type": "stream",
     "text": [
      "\n",
      "python /mnt/c/Users/ignacio.ibarra/Dropbox/workspace/theislab/HECA-scib-pipeline/scripts/preprocessing.py -i /mnt/f/workspace/theislab/retina/data/RNA/Chen_a_10x3_Lobe_19_D011_NeuN.h5ad -o /mnt/f/workspace/theislab/retina/data/integration_oct_2022/scran/Chen_a/Chen_a_10x3_Lobe_19_D011_NeuN.h5ad\n",
      "done...\n"
     ]
    },
    {
     "name": "stderr",
     "output_type": "stream",
     "text": [
      "Killed\n"
     ]
    }
   ],
   "source": [
    "run(execute_preprocessing, arguments, n_cores=1)"
   ]
  },
  {
   "cell_type": "code",
   "execution_count": 16,
   "metadata": {},
   "outputs": [
    {
     "name": "stdout",
     "output_type": "stream",
     "text": [
      "done...\n"
     ]
    }
   ],
   "source": [
    "print('done...')"
   ]
  },
  {
   "cell_type": "code",
   "execution_count": 54,
   "metadata": {},
   "outputs": [
    {
     "name": "stdout",
     "output_type": "stream",
     "text": [
      "Chang Chang_GSM5866087.h5ad (6489, 30136)\n",
      "Chang Chang_GSM5866084.h5ad (7066, 29978)\n",
      "Chang Chang_GSM5866083.h5ad (8361, 29951)\n",
      "Chang Chang_GSM5866088.h5ad (5756, 30314)\n",
      "Chang Chang_GSM5866086.h5ad (6637, 29987)\n",
      "Chang Chang_GSM5866085.h5ad (7365, 30071)\n",
      "Chang Chang_GSM5866081.h5ad (10314, 30181)\n",
      "Chang Chang_GSM5866082.h5ad (11148, 30057)\n",
      "Chen_a Chen_a_10x_Lobe_D21_13_Nu.h5ad (8935, 29776)\n",
      "Chen_a Chen_a_10x3_Lobe_19_D009_Nu.h5ad (9648, 29774)\n",
      "Chen_a Chen_a_10x_Lobe_D19_13_Nu.h5ad (10457, 29958)\n",
      "Chen_a Chen_a_10x_Lobe_D018_26_13_Nu.h5ad (12144, 30117)\n",
      "Chen_a Chen_a_10x3_Lobe_19_D010_Nu.h5ad (13328, 30130)\n",
      "Chen_a Chen_a_10x3_Lobe_19_D003_Nu.h5ad (12237, 29608)\n",
      "Chen_a Chen_a_10x3_Lobe_19_D008_Nu.h5ad (13082, 30378)\n",
      "Chen_a Chen_a_10x_Lobe_D018_26_13_NeuN.h5ad (12594, 30917)\n",
      "Chen_a Chen_a_10x3_Lobe_19_D007_Nu.h5ad (13216, 30376)\n",
      "Chen_a Chen_a_10x3_Lobe_19_D005_Nu.h5ad (13937, 30324)\n",
      "Chen_a Chen_a_10x_Lobe_D026_13_NeuN.h5ad (8375, 31456)\n",
      "Chen_a Chen_a_10x3_Lobe_D009_13_Nu.h5ad (13472, 30568)\n",
      "Chen_a Chen_a_10x_Lobe_D28_13_Nu.h5ad (12484, 29950)\n",
      "Chen_a Chen_a_10x_Lobe_D30_13_Nu.h5ad (12833, 30362)\n",
      "Chen_a Chen_a_10x3_Lobe_19_D006_Nu.h5ad (12383, 30809)\n",
      "Chen_a Chen_a_10x3_Lobe_D013_13_Nu.h5ad (15729, 30872)\n",
      "Chen_a Chen_a_10x3_Lobe_D009_13_NeuN.h5ad (10542, 31256)\n",
      "Chen_a Chen_a_10x_Lobe_D27_13_Nu.h5ad (14489, 30983)\n",
      "Chen_a Chen_a_10x3_Lobe_D005_13_Nu.h5ad (13620, 31144)\n",
      "Chen_a Chen_a_10x3_Lobe_19_D005_NeuN.h5ad (13980, 31580)\n",
      "Chen_a Chen_a_10x_Lobe_D026_13_Nu.h5ad (12160, 31425)\n",
      "Chen_a Chen_a_10x_Lobe_D017_18_13_Nu.h5ad (13188, 31225)\n",
      "Chen_a Chen_a_10x3_Lobe_19_D019_Nu.h5ad (16106, 31390)\n",
      "Chen_a Chen_a_10x_Lobe_D27_13_NeuN.h5ad (17264, 32147)\n",
      "Chen_a Chen_a_10x3_Lobe_19_D007_NeuN.h5ad (20388, 31315)\n",
      "Chen_a Chen_a_10x3_Lobe_19_D011_Nu.h5ad (23756, 31593)\n",
      "Chen_a Chen_a_10x_Lobe_D28_13_NeuN.h5ad (28239, 32032)\n",
      "Chen_a Chen_a_10x_Lobe_D19_13_NeuN.h5ad (26590, 32314)\n",
      "Chen_a Chen_a_10x_Lobe_D21_13_NeuN.h5ad (28353, 32369)\n",
      "Chen_a Chen_a_10x3_Lobe_19_D009_NeuN.h5ad (35167, 32084)\n",
      "Chen_a Chen_a_10x3_Lobe_19_D010_NeuN.h5ad (36747, 32055)\n",
      "Chen_a Chen_a_10x_Lobe_D30_13_NeuN.h5ad (24096, 32260)\n",
      "Chen_a Chen_a_10x_Lobe_D017_18_13_NeuN.h5ad (28010, 32664)\n",
      "Chen_a Chen_a_10x3_Lobe_19_D003_NeuN.h5ad (42469, 32385)\n",
      "Chen_a Chen_a_10x3_Lobe_19_D008_NeuN.h5ad (46407, 32314)\n",
      "Chen_a Chen_a_10x3_Lobe_D005_13_NeuN.h5ad (73345, 33132)\n",
      "Chen_a Chen_a_10x3_Lobe_D013_13_NeuN.h5ad (106956, 33353)\n",
      "Chen_a Chen_a_10x3_Lobe_19_D006_NeuN.h5ad (102573, 33610)\n",
      "Chen_a Chen_a_10x3_Lobe_19_D019_NeuN.h5ad (118211, 33731)\n",
      "Chen_a Chen_a_10x3_Lobe_19_D011_NeuN.h5ad (133769, 33850)\n",
      "Chen_b Chen_b_19D014_lobe_NeuNT.h5ad (7600, 29299)\n",
      "Chen_b Chen_b_17D013_lobe_NeuNT.h5ad (8076, 30342)\n",
      "Chen_b Chen_b_D001-12_lobe_NeuNM.h5ad (10248, 30317)\n",
      "Chen_b Chen_b_19D015_lobe_Nu.h5ad (10524, 30986)\n",
      "Chen_b Chen_b_D001-12_lobe_NeuNT.h5ad (12229, 30971)\n",
      "Chen_b Chen_b_19D013_lobe_NeuNT.h5ad (11638, 31732)\n",
      "Chen_b Chen_b_19D014_macular.h5ad (18899, 31228)\n",
      "Chen_b Chen_b_19D013_macular.h5ad (18777, 31202)\n",
      "Chen_b Chen_b_19D016_macular.h5ad (22936, 31429)\n",
      "Chen_b Chen_b_19D015_macular.h5ad (23593, 31547)\n",
      "Chen_b Chen_b_19D015_lobe_NeuNT.h5ad (22293, 31996)\n",
      "Chen_b Chen_b_19D015_lobe_NeuNM.h5ad (24445, 31953)\n"
     ]
    },
    {
     "ename": "KeyboardInterrupt",
     "evalue": "",
     "output_type": "error",
     "traceback": [
      "\u001b[0;31m---------------------------------------------------------------------------\u001b[0m",
      "\u001b[0;31mKeyboardInterrupt\u001b[0m                         Traceback (most recent call last)",
      "\u001b[0;32m/tmp/ipykernel_7465/1444189536.py\u001b[0m in \u001b[0;36m<module>\u001b[0;34m\u001b[0m\n\u001b[1;32m      7\u001b[0m         \u001b[0;32massert\u001b[0m \u001b[0mos\u001b[0m\u001b[0;34m.\u001b[0m\u001b[0mpath\u001b[0m\u001b[0;34m.\u001b[0m\u001b[0mexists\u001b[0m\u001b[0;34m(\u001b[0m\u001b[0mh5ad_path\u001b[0m\u001b[0;34m)\u001b[0m\u001b[0;34m\u001b[0m\u001b[0;34m\u001b[0m\u001b[0m\n\u001b[1;32m      8\u001b[0m \u001b[0;34m\u001b[0m\u001b[0m\n\u001b[0;32m----> 9\u001b[0;31m         \u001b[0mad\u001b[0m \u001b[0;34m=\u001b[0m \u001b[0msc\u001b[0m\u001b[0;34m.\u001b[0m\u001b[0mread_h5ad\u001b[0m\u001b[0;34m(\u001b[0m\u001b[0mh5ad_path\u001b[0m\u001b[0;34m)\u001b[0m\u001b[0;34m\u001b[0m\u001b[0;34m\u001b[0m\u001b[0m\n\u001b[0m\u001b[1;32m     10\u001b[0m         \u001b[0mprint\u001b[0m\u001b[0;34m(\u001b[0m\u001b[0mdataset_name\u001b[0m\u001b[0;34m,\u001b[0m \u001b[0mf\u001b[0m\u001b[0;34m,\u001b[0m \u001b[0mad\u001b[0m\u001b[0;34m.\u001b[0m\u001b[0mshape\u001b[0m\u001b[0;34m)\u001b[0m\u001b[0;34m\u001b[0m\u001b[0;34m\u001b[0m\u001b[0m\n\u001b[1;32m     11\u001b[0m         \u001b[0;32mdel\u001b[0m \u001b[0mad\u001b[0m\u001b[0;34m\u001b[0m\u001b[0;34m\u001b[0m\u001b[0m\n",
      "\u001b[0;32m~/miniconda3/envs/scIB-python/lib/python3.7/site-packages/anndata/_io/h5ad.py\u001b[0m in \u001b[0;36mread_h5ad\u001b[0;34m(filename, backed, as_sparse, as_sparse_fmt, chunk_size)\u001b[0m\n\u001b[1;32m    236\u001b[0m                 \u001b[0md\u001b[0m\u001b[0;34m[\u001b[0m\u001b[0mk\u001b[0m\u001b[0;34m]\u001b[0m \u001b[0;34m=\u001b[0m \u001b[0mread_dataframe\u001b[0m\u001b[0;34m(\u001b[0m\u001b[0mf\u001b[0m\u001b[0;34m[\u001b[0m\u001b[0mk\u001b[0m\u001b[0;34m]\u001b[0m\u001b[0;34m)\u001b[0m\u001b[0;34m\u001b[0m\u001b[0;34m\u001b[0m\u001b[0m\n\u001b[1;32m    237\u001b[0m             \u001b[0;32melse\u001b[0m\u001b[0;34m:\u001b[0m  \u001b[0;31m# Base case\u001b[0m\u001b[0;34m\u001b[0m\u001b[0;34m\u001b[0m\u001b[0m\n\u001b[0;32m--> 238\u001b[0;31m                 \u001b[0md\u001b[0m\u001b[0;34m[\u001b[0m\u001b[0mk\u001b[0m\u001b[0;34m]\u001b[0m \u001b[0;34m=\u001b[0m \u001b[0mread_elem\u001b[0m\u001b[0;34m(\u001b[0m\u001b[0mf\u001b[0m\u001b[0;34m[\u001b[0m\u001b[0mk\u001b[0m\u001b[0;34m]\u001b[0m\u001b[0;34m)\u001b[0m\u001b[0;34m\u001b[0m\u001b[0;34m\u001b[0m\u001b[0m\n\u001b[0m\u001b[1;32m    239\u001b[0m \u001b[0;34m\u001b[0m\u001b[0m\n\u001b[1;32m    240\u001b[0m         \u001b[0md\u001b[0m\u001b[0;34m[\u001b[0m\u001b[0;34m\"raw\"\u001b[0m\u001b[0;34m]\u001b[0m \u001b[0;34m=\u001b[0m \u001b[0m_read_raw\u001b[0m\u001b[0;34m(\u001b[0m\u001b[0mf\u001b[0m\u001b[0;34m,\u001b[0m \u001b[0mas_sparse\u001b[0m\u001b[0;34m,\u001b[0m \u001b[0mrdasp\u001b[0m\u001b[0;34m)\u001b[0m\u001b[0;34m\u001b[0m\u001b[0;34m\u001b[0m\u001b[0m\n",
      "\u001b[0;32m~/miniconda3/envs/scIB-python/lib/python3.7/site-packages/anndata/_io/specs/registry.py\u001b[0m in \u001b[0;36mread_elem\u001b[0;34m(elem, modifiers)\u001b[0m\n\u001b[1;32m    181\u001b[0m ) -> Any:\n\u001b[1;32m    182\u001b[0m     \u001b[0;34m\"\"\"Read an element from an on disk store.\"\"\"\u001b[0m\u001b[0;34m\u001b[0m\u001b[0;34m\u001b[0m\u001b[0m\n\u001b[0;32m--> 183\u001b[0;31m     \u001b[0;32mreturn\u001b[0m \u001b[0m_REGISTRY\u001b[0m\u001b[0;34m.\u001b[0m\u001b[0mget_reader\u001b[0m\u001b[0;34m(\u001b[0m\u001b[0mtype\u001b[0m\u001b[0;34m(\u001b[0m\u001b[0melem\u001b[0m\u001b[0;34m)\u001b[0m\u001b[0;34m,\u001b[0m \u001b[0mget_spec\u001b[0m\u001b[0;34m(\u001b[0m\u001b[0melem\u001b[0m\u001b[0;34m)\u001b[0m\u001b[0;34m,\u001b[0m \u001b[0mfrozenset\u001b[0m\u001b[0;34m(\u001b[0m\u001b[0mmodifiers\u001b[0m\u001b[0;34m)\u001b[0m\u001b[0;34m)\u001b[0m\u001b[0;34m(\u001b[0m\u001b[0melem\u001b[0m\u001b[0;34m)\u001b[0m\u001b[0;34m\u001b[0m\u001b[0;34m\u001b[0m\u001b[0m\n\u001b[0m\u001b[1;32m    184\u001b[0m \u001b[0;34m\u001b[0m\u001b[0m\n\u001b[1;32m    185\u001b[0m \u001b[0;34m\u001b[0m\u001b[0m\n",
      "\u001b[0;32m~/miniconda3/envs/scIB-python/lib/python3.7/site-packages/anndata/_io/specs/methods.py\u001b[0m in \u001b[0;36mread_sparse\u001b[0;34m(elem)\u001b[0m\n\u001b[1;32m    473\u001b[0m \u001b[0;34m@\u001b[0m\u001b[0m_REGISTRY\u001b[0m\u001b[0;34m.\u001b[0m\u001b[0mregister_read\u001b[0m\u001b[0;34m(\u001b[0m\u001b[0mZarrGroup\u001b[0m\u001b[0;34m,\u001b[0m \u001b[0mIOSpec\u001b[0m\u001b[0;34m(\u001b[0m\u001b[0;34m\"csr_matrix\"\u001b[0m\u001b[0;34m,\u001b[0m \u001b[0;34m\"0.1.0\"\u001b[0m\u001b[0;34m)\u001b[0m\u001b[0;34m)\u001b[0m\u001b[0;34m\u001b[0m\u001b[0;34m\u001b[0m\u001b[0m\n\u001b[1;32m    474\u001b[0m \u001b[0;32mdef\u001b[0m \u001b[0mread_sparse\u001b[0m\u001b[0;34m(\u001b[0m\u001b[0melem\u001b[0m\u001b[0;34m)\u001b[0m\u001b[0;34m:\u001b[0m\u001b[0;34m\u001b[0m\u001b[0;34m\u001b[0m\u001b[0m\n\u001b[0;32m--> 475\u001b[0;31m     \u001b[0;32mreturn\u001b[0m \u001b[0mSparseDataset\u001b[0m\u001b[0;34m(\u001b[0m\u001b[0melem\u001b[0m\u001b[0;34m)\u001b[0m\u001b[0;34m.\u001b[0m\u001b[0mto_memory\u001b[0m\u001b[0;34m(\u001b[0m\u001b[0;34m)\u001b[0m\u001b[0;34m\u001b[0m\u001b[0;34m\u001b[0m\u001b[0m\n\u001b[0m\u001b[1;32m    476\u001b[0m \u001b[0;34m\u001b[0m\u001b[0m\n\u001b[1;32m    477\u001b[0m \u001b[0;34m\u001b[0m\u001b[0m\n",
      "\u001b[0;32m~/miniconda3/envs/scIB-python/lib/python3.7/site-packages/anndata/_core/sparse_dataset.py\u001b[0m in \u001b[0;36mto_memory\u001b[0;34m(self)\u001b[0m\n\u001b[1;32m    378\u001b[0m         \u001b[0mmtx\u001b[0m \u001b[0;34m=\u001b[0m \u001b[0mformat_class\u001b[0m\u001b[0;34m(\u001b[0m\u001b[0mself\u001b[0m\u001b[0;34m.\u001b[0m\u001b[0mshape\u001b[0m\u001b[0;34m,\u001b[0m \u001b[0mdtype\u001b[0m\u001b[0;34m=\u001b[0m\u001b[0mself\u001b[0m\u001b[0;34m.\u001b[0m\u001b[0mdtype\u001b[0m\u001b[0;34m)\u001b[0m\u001b[0;34m\u001b[0m\u001b[0;34m\u001b[0m\u001b[0m\n\u001b[1;32m    379\u001b[0m         \u001b[0mmtx\u001b[0m\u001b[0;34m.\u001b[0m\u001b[0mdata\u001b[0m \u001b[0;34m=\u001b[0m \u001b[0mself\u001b[0m\u001b[0;34m.\u001b[0m\u001b[0mgroup\u001b[0m\u001b[0;34m[\u001b[0m\u001b[0;34m\"data\"\u001b[0m\u001b[0;34m]\u001b[0m\u001b[0;34m[\u001b[0m\u001b[0;34m...\u001b[0m\u001b[0;34m]\u001b[0m\u001b[0;34m\u001b[0m\u001b[0;34m\u001b[0m\u001b[0m\n\u001b[0;32m--> 380\u001b[0;31m         \u001b[0mmtx\u001b[0m\u001b[0;34m.\u001b[0m\u001b[0mindices\u001b[0m \u001b[0;34m=\u001b[0m \u001b[0mself\u001b[0m\u001b[0;34m.\u001b[0m\u001b[0mgroup\u001b[0m\u001b[0;34m[\u001b[0m\u001b[0;34m\"indices\"\u001b[0m\u001b[0;34m]\u001b[0m\u001b[0;34m[\u001b[0m\u001b[0;34m...\u001b[0m\u001b[0;34m]\u001b[0m\u001b[0;34m\u001b[0m\u001b[0;34m\u001b[0m\u001b[0m\n\u001b[0m\u001b[1;32m    381\u001b[0m         \u001b[0mmtx\u001b[0m\u001b[0;34m.\u001b[0m\u001b[0mindptr\u001b[0m \u001b[0;34m=\u001b[0m \u001b[0mself\u001b[0m\u001b[0;34m.\u001b[0m\u001b[0mgroup\u001b[0m\u001b[0;34m[\u001b[0m\u001b[0;34m\"indptr\"\u001b[0m\u001b[0;34m]\u001b[0m\u001b[0;34m[\u001b[0m\u001b[0;34m...\u001b[0m\u001b[0;34m]\u001b[0m\u001b[0;34m\u001b[0m\u001b[0;34m\u001b[0m\u001b[0m\n\u001b[1;32m    382\u001b[0m         \u001b[0;32mreturn\u001b[0m \u001b[0mmtx\u001b[0m\u001b[0;34m\u001b[0m\u001b[0;34m\u001b[0m\u001b[0m\n",
      "\u001b[0;32mh5py/_objects.pyx\u001b[0m in \u001b[0;36mh5py._objects.with_phil.wrapper\u001b[0;34m()\u001b[0m\n",
      "\u001b[0;32mh5py/_objects.pyx\u001b[0m in \u001b[0;36mh5py._objects.with_phil.wrapper\u001b[0;34m()\u001b[0m\n",
      "\u001b[0;32m~/miniconda3/envs/scIB-python/lib/python3.7/site-packages/h5py/_hl/dataset.py\u001b[0m in \u001b[0;36m__getitem__\u001b[0;34m(self, args, new_dtype)\u001b[0m\n\u001b[1;32m    766\u001b[0m         \u001b[0;32mif\u001b[0m \u001b[0mself\u001b[0m\u001b[0;34m.\u001b[0m\u001b[0m_fast_read_ok\u001b[0m \u001b[0;32mand\u001b[0m \u001b[0;34m(\u001b[0m\u001b[0mnew_dtype\u001b[0m \u001b[0;32mis\u001b[0m \u001b[0;32mNone\u001b[0m\u001b[0;34m)\u001b[0m\u001b[0;34m:\u001b[0m\u001b[0;34m\u001b[0m\u001b[0;34m\u001b[0m\u001b[0m\n\u001b[1;32m    767\u001b[0m             \u001b[0;32mtry\u001b[0m\u001b[0;34m:\u001b[0m\u001b[0;34m\u001b[0m\u001b[0;34m\u001b[0m\u001b[0m\n\u001b[0;32m--> 768\u001b[0;31m                 \u001b[0;32mreturn\u001b[0m \u001b[0mself\u001b[0m\u001b[0;34m.\u001b[0m\u001b[0m_fast_reader\u001b[0m\u001b[0;34m.\u001b[0m\u001b[0mread\u001b[0m\u001b[0;34m(\u001b[0m\u001b[0margs\u001b[0m\u001b[0;34m)\u001b[0m\u001b[0;34m\u001b[0m\u001b[0;34m\u001b[0m\u001b[0m\n\u001b[0m\u001b[1;32m    769\u001b[0m             \u001b[0;32mexcept\u001b[0m \u001b[0mTypeError\u001b[0m\u001b[0;34m:\u001b[0m\u001b[0;34m\u001b[0m\u001b[0;34m\u001b[0m\u001b[0m\n\u001b[1;32m    770\u001b[0m                 \u001b[0;32mpass\u001b[0m  \u001b[0;31m# Fall back to Python read pathway below\u001b[0m\u001b[0;34m\u001b[0m\u001b[0;34m\u001b[0m\u001b[0m\n",
      "\u001b[0;31mKeyboardInterrupt\u001b[0m: "
     ]
    }
   ],
   "source": [
    "# verifying that we can load the h5ad files without problems\n",
    "import gc\n",
    "for dataset_name in listdir(outdir):\n",
    "    dataset_dir = os.path.join(outdir, dataset_name)\n",
    "    for f in listdir(dataset_dir):\n",
    "        h5ad_path = os.path.join(outdir, dataset_dir, f)\n",
    "        assert os.path.exists(h5ad_path)\n",
    "\n",
    "        ad = sc.read_h5ad(h5ad_path)\n",
    "        print(dataset_name, f, ad.shape)\n",
    "        del ad\n",
    "        gc.collect()\n"
   ]
  }
 ],
 "metadata": {
  "kernelspec": {
   "display_name": "Python [conda env:scIB-python]",
   "language": "python",
   "name": "conda-env-scIB-python-py"
  },
  "language_info": {
   "codemirror_mode": {
    "name": "ipython",
    "version": 3
   },
   "file_extension": ".py",
   "mimetype": "text/x-python",
   "name": "python",
   "nbconvert_exporter": "python",
   "pygments_lexer": "ipython3",
   "version": "3.7.12"
  }
 },
 "nbformat": 4,
 "nbformat_minor": 4
}
