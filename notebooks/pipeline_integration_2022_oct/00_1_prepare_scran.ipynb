{
 "cells": [
  {
   "cell_type": "markdown",
   "metadata": {},
   "source": [
    "### 1. Verify that all data reported by Jin is in"
   ]
  },
  {
   "cell_type": "code",
   "execution_count": 24,
   "metadata": {},
   "outputs": [],
   "source": [
    "import scIB"
   ]
  },
  {
   "cell_type": "code",
   "execution_count": 25,
   "metadata": {},
   "outputs": [],
   "source": [
    "import os\n",
    "import scanpy as sc\n",
    "from os.path import join\n",
    "from os import listdir\n",
    "import anndata\n",
    "import numpy as np\n",
    "import scipy\n",
    "import os"
   ]
  },
  {
   "cell_type": "code",
   "execution_count": 26,
   "metadata": {},
   "outputs": [],
   "source": [
    "# convert counts into float32\n",
    "# Convenience method for computing the size of objects\n",
    "def print_size_in_MB(x):\n",
    "    print('{:.3} MB'.format(x.__sizeof__()/1e6))"
   ]
  },
  {
   "cell_type": "code",
   "execution_count": 27,
   "metadata": {},
   "outputs": [
    {
     "data": {
      "text/plain": [
       "(True, True)"
      ]
     },
     "execution_count": 27,
     "metadata": {},
     "output_type": "execute_result"
    }
   ],
   "source": [
    "# datadir = '/storage/groups/ml01/datasets/projects/20210318_retinal_data_integration_ignacio.ibarra_malte.luecken'\n",
    "datadir = '/mnt/f/workspace/theislab/retina/data/RNA'\n",
    "# outdir = '/mnt/znas/icb_zstore01/groups/ml01/workspace/ignacio.ibarra/theislab/retinal_scRNAseq_integration/data/integration_march_2021/scran'\n",
    "outdir = '/mnt/f/workspace/theislab/retina/data/integration_oct_2022/scran'\n",
    "os.path.exists(outdir), os.path.exists(datadir)"
   ]
  },
  {
   "cell_type": "code",
   "execution_count": 28,
   "metadata": {},
   "outputs": [],
   "source": [
    "filenames = [f for f in os.listdir(datadir)]"
   ]
  },
  {
   "cell_type": "code",
   "execution_count": 29,
   "metadata": {},
   "outputs": [
    {
     "data": {
      "text/plain": [
       "['Chang_GSM5866081.h5ad',\n",
       " 'Chang_GSM5866082.h5ad',\n",
       " 'Chang_GSM5866083.h5ad',\n",
       " 'Chang_GSM5866084.h5ad',\n",
       " 'Chang_GSM5866085.h5ad',\n",
       " 'Chang_GSM5866086.h5ad',\n",
       " 'Chang_GSM5866087.h5ad',\n",
       " 'Chang_GSM5866088.h5ad',\n",
       " 'Chen_a_10x3_Lobe_19_D003_NeuN.h5ad',\n",
       " 'Chen_a_10x3_Lobe_19_D003_Nu.h5ad',\n",
       " 'Chen_a_10x3_Lobe_19_D005_NeuN.h5ad',\n",
       " 'Chen_a_10x3_Lobe_19_D005_Nu.h5ad',\n",
       " 'Chen_a_10x3_Lobe_19_D006_NeuN.h5ad',\n",
       " 'Chen_a_10x3_Lobe_19_D006_Nu.h5ad',\n",
       " 'Chen_a_10x3_Lobe_19_D007_NeuN.h5ad',\n",
       " 'Chen_a_10x3_Lobe_19_D007_Nu.h5ad',\n",
       " 'Chen_a_10x3_Lobe_19_D008_NeuN.h5ad',\n",
       " 'Chen_a_10x3_Lobe_19_D008_Nu.h5ad',\n",
       " 'Chen_a_10x3_Lobe_19_D009_NeuN.h5ad',\n",
       " 'Chen_a_10x3_Lobe_19_D009_Nu.h5ad',\n",
       " 'Chen_a_10x3_Lobe_19_D010_NeuN.h5ad',\n",
       " 'Chen_a_10x3_Lobe_19_D010_Nu.h5ad',\n",
       " 'Chen_a_10x3_Lobe_19_D011_NeuN.h5ad',\n",
       " 'Chen_a_10x3_Lobe_19_D011_Nu.h5ad',\n",
       " 'Chen_a_10x3_Lobe_19_D019_NeuN.h5ad',\n",
       " 'Chen_a_10x3_Lobe_19_D019_Nu.h5ad',\n",
       " 'Chen_a_10x3_Lobe_D005_13_NeuN.h5ad',\n",
       " 'Chen_a_10x3_Lobe_D005_13_Nu.h5ad',\n",
       " 'Chen_a_10x3_Lobe_D009_13_NeuN.h5ad',\n",
       " 'Chen_a_10x3_Lobe_D009_13_Nu.h5ad',\n",
       " 'Chen_a_10x3_Lobe_D013_13_NeuN.h5ad',\n",
       " 'Chen_a_10x3_Lobe_D013_13_Nu.h5ad',\n",
       " 'Chen_a_10x_Lobe_D017_18_13_NeuN.h5ad',\n",
       " 'Chen_a_10x_Lobe_D017_18_13_Nu.h5ad',\n",
       " 'Chen_a_10x_Lobe_D018_26_13_NeuN.h5ad',\n",
       " 'Chen_a_10x_Lobe_D018_26_13_Nu.h5ad',\n",
       " 'Chen_a_10x_Lobe_D026_13_NeuN.h5ad',\n",
       " 'Chen_a_10x_Lobe_D026_13_Nu.h5ad',\n",
       " 'Chen_a_10x_Lobe_D19_13_NeuN.h5ad',\n",
       " 'Chen_a_10x_Lobe_D19_13_Nu.h5ad',\n",
       " 'Chen_a_10x_Lobe_D21_13_NeuN.h5ad',\n",
       " 'Chen_a_10x_Lobe_D21_13_Nu.h5ad',\n",
       " 'Chen_a_10x_Lobe_D27_13_NeuN.h5ad',\n",
       " 'Chen_a_10x_Lobe_D27_13_Nu.h5ad',\n",
       " 'Chen_a_10x_Lobe_D28_13_NeuN.h5ad',\n",
       " 'Chen_a_10x_Lobe_D28_13_Nu.h5ad',\n",
       " 'Chen_a_10x_Lobe_D30_13_NeuN.h5ad',\n",
       " 'Chen_a_10x_Lobe_D30_13_Nu.h5ad',\n",
       " 'Chen_b_17D013_lobe_NeuNT.h5ad',\n",
       " 'Chen_b_19D013_fovea.h5ad',\n",
       " 'Chen_b_19D013_lobe_NeuNT.h5ad',\n",
       " 'Chen_b_19D013_macular.h5ad',\n",
       " 'Chen_b_19D014_fovea.h5ad',\n",
       " 'Chen_b_19D014_lobe_NeuNT.h5ad',\n",
       " 'Chen_b_19D014_macular.h5ad',\n",
       " 'Chen_b_19D015_fovea.h5ad',\n",
       " 'Chen_b_19D015_lobe_NeuNM.h5ad',\n",
       " 'Chen_b_19D015_lobe_NeuNT.h5ad',\n",
       " 'Chen_b_19D015_lobe_Nu.h5ad',\n",
       " 'Chen_b_19D015_macular.h5ad',\n",
       " 'Chen_b_19D016_macular.h5ad',\n",
       " 'Chen_b_D001-12_lobe_NeuNM.h5ad',\n",
       " 'Chen_b_D001-12_lobe_NeuNT.h5ad',\n",
       " 'Chen_c_10x3_19_D003.h5ad',\n",
       " 'Chen_c_10x3_19_D005.h5ad',\n",
       " 'Chen_c_10x3_19_D006.h5ad',\n",
       " 'Chen_c_10x3_19_D007.h5ad',\n",
       " 'Chen_c_10x3_19_D008.h5ad',\n",
       " 'Chen_c_10x3_19_D009.h5ad',\n",
       " 'Chen_c_10x3_19_D010.h5ad',\n",
       " 'Chen_c_10x3_19_D011.h5ad',\n",
       " 'Chen_c_10x3_19_D019.h5ad',\n",
       " 'Chen_c_10x3_D005_13.h5ad',\n",
       " 'Chen_c_10x3_D009_13.h5ad',\n",
       " 'Chen_c_10x3_D013_13.h5ad',\n",
       " 'Chen_c_10x3_D017_13.h5ad',\n",
       " 'Chen_c_10x3_D018_13.h5ad',\n",
       " 'Chen_c_10x3_D019_13.h5ad',\n",
       " 'Chen_c_10x3_D021_13.h5ad',\n",
       " 'Chen_c_10x3_D026_13.h5ad',\n",
       " 'Chen_c_10x3_D027_13.h5ad',\n",
       " 'Chen_c_10x3_D028_13.h5ad',\n",
       " 'Chen_c_10x3_D030_13_Macular.h5ad',\n",
       " 'Chen_rgc_10x3V31_19_D007_Macular_NeuN_T.h5ad',\n",
       " 'Chen_rgc_10x3V31_19_D016_Macular_NeuN_T.h5ad',\n",
       " 'Chen_rgc_10x3V31_19_D017_Macular_NeuN_T.h5ad',\n",
       " 'Chen_rgc_10x3v31_19_D005_Macular_NeuN_T.h5ad',\n",
       " 'Chen_rgc_10x3v31_19_D008_Mac_NeuN_T.h5ad',\n",
       " 'Chen_rgc_10x3v31_19_D009_Mac_NeuN_T.h5ad',\n",
       " 'Chen_rgc_10x3v31_19_D011_Macular_NeuN_T.h5ad',\n",
       " 'Hackney_GSM3988006.h5ad',\n",
       " 'Hackney_GSM3988007.h5ad',\n",
       " 'Hackney_GSM3988008.h5ad',\n",
       " 'Hackney_GSM3988009.h5ad',\n",
       " 'Hackney_GSM3988010.h5ad',\n",
       " 'Hackney_GSM3988011.h5ad',\n",
       " 'Hackney_GSM3988012.h5ad',\n",
       " 'Hackney_GSM3988013.h5ad',\n",
       " 'Hackney_GSM3988014.h5ad',\n",
       " 'Hackney_GSM3988015.h5ad',\n",
       " 'Hackney_GSM3988016.h5ad',\n",
       " 'Hafler_GSM4081524.h5ad',\n",
       " 'Hafler_GSM4081525.h5ad',\n",
       " 'Hafler_GSM4081526.h5ad',\n",
       " 'Hafler_GSM4081527.h5ad',\n",
       " 'Hafler_GSM4081528.h5ad',\n",
       " 'Hafler_GSM4081529.h5ad',\n",
       " 'Roska_R-00646_01_Fovea_Retina_Right.h5ad',\n",
       " 'Roska_R-00646_01_Periphery_ChoroidRPE_Left.h5ad',\n",
       " 'Roska_R-00646_01_Periphery_Retina_Left.h5ad',\n",
       " 'Roska_R-00646_01_Periphery_Retina_Right.h5ad',\n",
       " 'Roska_R-00646_03_Fovea_Retina_Left.h5ad',\n",
       " 'Roska_R-00646_03_Fovea_Retina_Right.h5ad',\n",
       " 'Roska_R-00646_03_Periphery_Retina_Left.h5ad',\n",
       " 'Roska_R-00646_03_Periphery_Retina_Right.h5ad',\n",
       " 'Roska_R-00646_04_Fovea_Retina_Left.h5ad',\n",
       " 'Roska_R-00646_04_Fovea_Retina_Right.h5ad',\n",
       " 'Roska_R-00646_04_Periphery_Retina_Left.h5ad',\n",
       " 'Roska_R-00646_04_Periphery_Retina_Right.h5ad',\n",
       " 'Roska_R-00646_07_Periphery_ChoroidRPE.h5ad',\n",
       " 'Roska_R-00646_07_Periphery_Retina.h5ad',\n",
       " 'Roska_R-00646_07_Periphery_RetinaChoroidRPE.h5ad',\n",
       " 'Sanes_H11FoveaS1.h5ad',\n",
       " 'Sanes_H1CD73dpS1.h5ad',\n",
       " 'Sanes_H1CD90S1.h5ad',\n",
       " 'Sanes_H2Fovea1S1.h5ad',\n",
       " 'Sanes_H2Fovea2S1.h5ad',\n",
       " 'Sanes_H3CD73dpS1.h5ad',\n",
       " 'Sanes_H3CD73dpS2.h5ad',\n",
       " 'Sanes_H3CD90S1.h5ad',\n",
       " 'Sanes_H3CD90S2.h5ad',\n",
       " 'Sanes_H3FoveaS1.h5ad',\n",
       " 'Sanes_H3FoveaS2.h5ad',\n",
       " 'Sanes_H3FoveaS3.h5ad',\n",
       " 'Sanes_H4FoveaS1.h5ad',\n",
       " 'Sanes_H5FoveaS1.h5ad',\n",
       " 'Sanes_H5FoveaS2.h5ad',\n",
       " 'Sanes_H5FoveaS3.h5ad',\n",
       " 'Sanes_H5FoveaS4.h5ad',\n",
       " 'Sanes_H5FoveaS5.h5ad',\n",
       " 'Sanes_H9FoveaS1.h5ad',\n",
       " 'Scheetz_GSM3745992.h5ad',\n",
       " 'Scheetz_GSM3745993.h5ad',\n",
       " 'Scheetz_GSM3745994.h5ad',\n",
       " 'Scheetz_GSM3745995.h5ad',\n",
       " 'Scheetz_GSM3745996.h5ad',\n",
       " 'Scheetz_GSM3745997.h5ad',\n",
       " 'Wong_Retina_1.h5ad',\n",
       " 'Wong_Retina_2A.h5ad',\n",
       " 'Wong_Retina_2B.h5ad',\n",
       " 'Wong_Retina_3A.h5ad',\n",
       " 'Wong_Retina_3B.h5ad']"
      ]
     },
     "execution_count": 29,
     "metadata": {},
     "output_type": "execute_result"
    }
   ],
   "source": [
    "# filenames_md5 = [f.strip() for f in open(os.path.join(datadir, 'md5sum.txt'))]\n",
    "filenames_md5 = [f.strip() for f in os.listdir(datadir) if f.endswith(\".h5ad\")]\n",
    "filenames_md5\n",
    "\n",
    "# files = set()\n",
    "# for qi in filenames_md5:\n",
    "#     md5, fi = qi.split('  ')\n",
    "#     found = os.path.exists(os.path.join(datadir, fi))\n",
    "#     if not found:\n",
    "#         print('not found', fi)\n",
    "#     files.add(fi)"
   ]
  },
  {
   "cell_type": "markdown",
   "metadata": {},
   "source": [
    "**The following files are listed but for some reason not found anymore. Consider deleting (Request to Jin first)**"
   ]
  },
  {
   "cell_type": "code",
   "execution_count": 30,
   "metadata": {},
   "outputs": [
    {
     "name": "stdout",
     "output_type": "stream",
     "text": [
      "Chang Chang_GSM5866081.h5ad\n",
      "Chang Chang_GSM5866082.h5ad\n",
      "Chang Chang_GSM5866083.h5ad\n",
      "Chang Chang_GSM5866084.h5ad\n",
      "Chang Chang_GSM5866085.h5ad\n",
      "Chang Chang_GSM5866086.h5ad\n",
      "Chang Chang_GSM5866087.h5ad\n",
      "Chang Chang_GSM5866088.h5ad\n",
      "Chen_a Chen_a_10x3_Lobe_19_D003_NeuN.h5ad\n",
      "Chen_a Chen_a_10x3_Lobe_19_D003_Nu.h5ad\n",
      "Chen_a Chen_a_10x3_Lobe_19_D005_NeuN.h5ad\n",
      "Chen_a Chen_a_10x3_Lobe_19_D005_Nu.h5ad\n",
      "Chen_a Chen_a_10x3_Lobe_19_D006_NeuN.h5ad\n",
      "Chen_a Chen_a_10x3_Lobe_19_D006_Nu.h5ad\n",
      "Chen_a Chen_a_10x3_Lobe_19_D007_NeuN.h5ad\n",
      "Chen_a Chen_a_10x3_Lobe_19_D007_Nu.h5ad\n",
      "Chen_a Chen_a_10x3_Lobe_19_D008_NeuN.h5ad\n",
      "Chen_a Chen_a_10x3_Lobe_19_D008_Nu.h5ad\n",
      "Chen_a Chen_a_10x3_Lobe_19_D009_NeuN.h5ad\n",
      "Chen_a Chen_a_10x3_Lobe_19_D009_Nu.h5ad\n",
      "Chen_a Chen_a_10x3_Lobe_19_D010_NeuN.h5ad\n",
      "Chen_a Chen_a_10x3_Lobe_19_D010_Nu.h5ad\n",
      "Chen_a Chen_a_10x3_Lobe_19_D011_NeuN.h5ad\n",
      "Chen_a Chen_a_10x3_Lobe_19_D011_Nu.h5ad\n",
      "Chen_a Chen_a_10x3_Lobe_19_D019_NeuN.h5ad\n",
      "Chen_a Chen_a_10x3_Lobe_19_D019_Nu.h5ad\n",
      "Chen_a Chen_a_10x3_Lobe_D005_13_NeuN.h5ad\n",
      "Chen_a Chen_a_10x3_Lobe_D005_13_Nu.h5ad\n",
      "Chen_a Chen_a_10x3_Lobe_D009_13_NeuN.h5ad\n",
      "Chen_a Chen_a_10x3_Lobe_D009_13_Nu.h5ad\n",
      "Chen_a Chen_a_10x3_Lobe_D013_13_NeuN.h5ad\n",
      "Chen_a Chen_a_10x3_Lobe_D013_13_Nu.h5ad\n",
      "Chen_a Chen_a_10x_Lobe_D017_18_13_NeuN.h5ad\n",
      "Chen_a Chen_a_10x_Lobe_D017_18_13_Nu.h5ad\n",
      "Chen_a Chen_a_10x_Lobe_D018_26_13_NeuN.h5ad\n",
      "Chen_a Chen_a_10x_Lobe_D018_26_13_Nu.h5ad\n",
      "Chen_a Chen_a_10x_Lobe_D026_13_NeuN.h5ad\n",
      "Chen_a Chen_a_10x_Lobe_D026_13_Nu.h5ad\n",
      "Chen_a Chen_a_10x_Lobe_D19_13_NeuN.h5ad\n",
      "Chen_a Chen_a_10x_Lobe_D19_13_Nu.h5ad\n",
      "Chen_a Chen_a_10x_Lobe_D21_13_NeuN.h5ad\n",
      "Chen_a Chen_a_10x_Lobe_D21_13_Nu.h5ad\n",
      "Chen_a Chen_a_10x_Lobe_D27_13_NeuN.h5ad\n",
      "Chen_a Chen_a_10x_Lobe_D27_13_Nu.h5ad\n",
      "Chen_a Chen_a_10x_Lobe_D28_13_NeuN.h5ad\n",
      "Chen_a Chen_a_10x_Lobe_D28_13_Nu.h5ad\n",
      "Chen_a Chen_a_10x_Lobe_D30_13_NeuN.h5ad\n",
      "Chen_a Chen_a_10x_Lobe_D30_13_Nu.h5ad\n",
      "Chen_b Chen_b_17D013_lobe_NeuNT.h5ad\n",
      "Chen_b Chen_b_19D013_fovea.h5ad\n",
      "Chen_b Chen_b_19D013_lobe_NeuNT.h5ad\n",
      "Chen_b Chen_b_19D013_macular.h5ad\n",
      "Chen_b Chen_b_19D014_fovea.h5ad\n",
      "Chen_b Chen_b_19D014_lobe_NeuNT.h5ad\n",
      "Chen_b Chen_b_19D014_macular.h5ad\n",
      "Chen_b Chen_b_19D015_fovea.h5ad\n",
      "Chen_b Chen_b_19D015_lobe_NeuNM.h5ad\n",
      "Chen_b Chen_b_19D015_lobe_NeuNT.h5ad\n",
      "Chen_b Chen_b_19D015_lobe_Nu.h5ad\n",
      "Chen_b Chen_b_19D015_macular.h5ad\n",
      "Chen_b Chen_b_19D016_macular.h5ad\n",
      "Chen_b Chen_b_D001-12_lobe_NeuNM.h5ad\n",
      "Chen_b Chen_b_D001-12_lobe_NeuNT.h5ad\n",
      "Chen_c Chen_c_10x3_19_D003.h5ad\n",
      "Chen_c Chen_c_10x3_19_D005.h5ad\n",
      "Chen_c Chen_c_10x3_19_D006.h5ad\n",
      "Chen_c Chen_c_10x3_19_D007.h5ad\n",
      "Chen_c Chen_c_10x3_19_D008.h5ad\n",
      "Chen_c Chen_c_10x3_19_D009.h5ad\n",
      "Chen_c Chen_c_10x3_19_D010.h5ad\n",
      "Chen_c Chen_c_10x3_19_D011.h5ad\n",
      "Chen_c Chen_c_10x3_19_D019.h5ad\n",
      "Chen_c Chen_c_10x3_D005_13.h5ad\n",
      "Chen_c Chen_c_10x3_D009_13.h5ad\n",
      "Chen_c Chen_c_10x3_D013_13.h5ad\n",
      "Chen_c Chen_c_10x3_D017_13.h5ad\n",
      "Chen_c Chen_c_10x3_D018_13.h5ad\n",
      "Chen_c Chen_c_10x3_D019_13.h5ad\n",
      "Chen_c Chen_c_10x3_D021_13.h5ad\n",
      "Chen_c Chen_c_10x3_D026_13.h5ad\n",
      "Chen_c Chen_c_10x3_D027_13.h5ad\n",
      "Chen_c Chen_c_10x3_D028_13.h5ad\n",
      "Chen_c Chen_c_10x3_D030_13_Macular.h5ad\n",
      "Chen_rgc Chen_rgc_10x3V31_19_D007_Macular_NeuN_T.h5ad\n",
      "Chen_rgc Chen_rgc_10x3V31_19_D016_Macular_NeuN_T.h5ad\n",
      "Chen_rgc Chen_rgc_10x3V31_19_D017_Macular_NeuN_T.h5ad\n",
      "Chen_rgc Chen_rgc_10x3v31_19_D005_Macular_NeuN_T.h5ad\n",
      "Chen_rgc Chen_rgc_10x3v31_19_D008_Mac_NeuN_T.h5ad\n",
      "Chen_rgc Chen_rgc_10x3v31_19_D009_Mac_NeuN_T.h5ad\n",
      "Chen_rgc Chen_rgc_10x3v31_19_D011_Macular_NeuN_T.h5ad\n",
      "Hackney Hackney_GSM3988006.h5ad\n",
      "Hackney Hackney_GSM3988007.h5ad\n",
      "Hackney Hackney_GSM3988008.h5ad\n",
      "Hackney Hackney_GSM3988009.h5ad\n",
      "Hackney Hackney_GSM3988010.h5ad\n",
      "Hackney Hackney_GSM3988011.h5ad\n",
      "Hackney Hackney_GSM3988012.h5ad\n",
      "Hackney Hackney_GSM3988013.h5ad\n",
      "Hackney Hackney_GSM3988014.h5ad\n",
      "Hackney Hackney_GSM3988015.h5ad\n",
      "Hackney Hackney_GSM3988016.h5ad\n",
      "Hafler Hafler_GSM4081524.h5ad\n",
      "Hafler Hafler_GSM4081525.h5ad\n",
      "Hafler Hafler_GSM4081526.h5ad\n",
      "Hafler Hafler_GSM4081527.h5ad\n",
      "Hafler Hafler_GSM4081528.h5ad\n",
      "Hafler Hafler_GSM4081529.h5ad\n",
      "Roska Roska_R-00646_01_Fovea_Retina_Right.h5ad\n",
      "Roska Roska_R-00646_01_Periphery_ChoroidRPE_Left.h5ad\n",
      "Roska Roska_R-00646_01_Periphery_Retina_Left.h5ad\n",
      "Roska Roska_R-00646_01_Periphery_Retina_Right.h5ad\n",
      "Roska Roska_R-00646_03_Fovea_Retina_Left.h5ad\n",
      "Roska Roska_R-00646_03_Fovea_Retina_Right.h5ad\n",
      "Roska Roska_R-00646_03_Periphery_Retina_Left.h5ad\n",
      "Roska Roska_R-00646_03_Periphery_Retina_Right.h5ad\n",
      "Roska Roska_R-00646_04_Fovea_Retina_Left.h5ad\n",
      "Roska Roska_R-00646_04_Fovea_Retina_Right.h5ad\n",
      "Roska Roska_R-00646_04_Periphery_Retina_Left.h5ad\n",
      "Roska Roska_R-00646_04_Periphery_Retina_Right.h5ad\n",
      "Roska Roska_R-00646_07_Periphery_ChoroidRPE.h5ad\n",
      "Roska Roska_R-00646_07_Periphery_Retina.h5ad\n",
      "Roska Roska_R-00646_07_Periphery_RetinaChoroidRPE.h5ad\n",
      "Sanes Sanes_H11FoveaS1.h5ad\n",
      "Sanes Sanes_H1CD73dpS1.h5ad\n",
      "Sanes Sanes_H1CD90S1.h5ad\n",
      "Sanes Sanes_H2Fovea1S1.h5ad\n",
      "Sanes Sanes_H2Fovea2S1.h5ad\n",
      "Sanes Sanes_H3CD73dpS1.h5ad\n",
      "Sanes Sanes_H3CD73dpS2.h5ad\n",
      "Sanes Sanes_H3CD90S1.h5ad\n",
      "Sanes Sanes_H3CD90S2.h5ad\n",
      "Sanes Sanes_H3FoveaS1.h5ad\n",
      "Sanes Sanes_H3FoveaS2.h5ad\n",
      "Sanes Sanes_H3FoveaS3.h5ad\n",
      "Sanes Sanes_H4FoveaS1.h5ad\n",
      "Sanes Sanes_H5FoveaS1.h5ad\n",
      "Sanes Sanes_H5FoveaS2.h5ad\n",
      "Sanes Sanes_H5FoveaS3.h5ad\n",
      "Sanes Sanes_H5FoveaS4.h5ad\n",
      "Sanes Sanes_H5FoveaS5.h5ad\n",
      "Sanes Sanes_H9FoveaS1.h5ad\n",
      "Scheetz Scheetz_GSM3745992.h5ad\n",
      "Scheetz Scheetz_GSM3745993.h5ad\n",
      "Scheetz Scheetz_GSM3745994.h5ad\n",
      "Scheetz Scheetz_GSM3745995.h5ad\n",
      "Scheetz Scheetz_GSM3745996.h5ad\n",
      "Scheetz Scheetz_GSM3745997.h5ad\n",
      "Wong Wong_Retina_1.h5ad\n",
      "Wong Wong_Retina_2A.h5ad\n",
      "Wong Wong_Retina_2B.h5ad\n",
      "Wong Wong_Retina_3A.h5ad\n",
      "Wong Wong_Retina_3B.h5ad\n"
     ]
    }
   ],
   "source": [
    "filenames_by_dataset = {}\n",
    "for f in filenames_md5:\n",
    "    # dataset, filename = f.split(' ')[-1].split('/')[-2:]\n",
    "    dataset = f.split('_')[0] if not \"Chen\" in f else f.split('_')[0] + '_' + f.split('_')[1]\n",
    "    filename = f\n",
    "    print(dataset, filename)\n",
    "    if not dataset in filenames_by_dataset:\n",
    "        filenames_by_dataset[dataset] = []\n",
    "    filenames_by_dataset[dataset].append(filename)"
   ]
  },
  {
   "cell_type": "markdown",
   "metadata": {},
   "source": [
    "### scran normalization"
   ]
  },
  {
   "cell_type": "code",
   "execution_count": 31,
   "metadata": {},
   "outputs": [
    {
     "data": {
      "text/plain": [
       "True"
      ]
     },
     "execution_count": 31,
     "metadata": {},
     "output_type": "execute_result"
    }
   ],
   "source": [
    "path_preprocessing = '/mnt/c/Users/ignacio.ibarra/Dropbox/workspace/theislab/HECA-scib-pipeline/scripts/preprocessing.py'\n",
    "os.path.exists(path_preprocessing)"
   ]
  },
  {
   "cell_type": "code",
   "execution_count": 32,
   "metadata": {},
   "outputs": [],
   "source": [
    "def execute_preprocessing(input_path, output_path):\n",
    "    print('')\n",
    "    path_preprocessing = '/mnt/c/Users/ignacio.ibarra/Dropbox/workspace/theislab/HECA-scib-pipeline/scripts/preprocessing.py'\n",
    "    cmd = 'python %s -i %s -o %s' % (path_preprocessing, input_path, output_path)\n",
    "    \n",
    "    try:\n",
    "        print(cmd)\n",
    "        os.system(cmd)\n",
    "    except Exception as err:\n",
    "        print('something went wrong...')\n",
    "        print(err)"
   ]
  },
  {
   "cell_type": "code",
   "execution_count": 33,
   "metadata": {},
   "outputs": [],
   "source": [
    "import multiprocessing\n",
    "from multiprocessing import Process\n",
    "from multiprocessing import Manager\n",
    "\n",
    "def run(function, input_list, n_cores, log_each=None, log=False):\n",
    "    print(('run function %s with n_cores = %i' % (function, n_cores)))\n",
    "    print(function)\n",
    "    # print 'with input list of len'\n",
    "    # print len(input_list)\n",
    "    # print 'in groups of %d threads' % n_threads\n",
    "\n",
    "    assert n_cores <= 20\n",
    "\n",
    "    # the type of input_list has to be a list. If not\n",
    "    # then it can a single element list and we cast it to list.\n",
    "    if not isinstance(type(input_list[0]), type(list)):\n",
    "        input_list = [[i] for i in input_list]\n",
    "\n",
    "    n_groups = int(len(input_list) / n_cores + 1)\n",
    "    # print 'n groups', n_groups\n",
    "\n",
    "    n_done = 0\n",
    "    for group_i in range(n_groups):\n",
    "        start, end = group_i * n_cores, (group_i + 1) * n_cores\n",
    "        # print 'start', start, 'end', end\n",
    "\n",
    "        threads = [None] * (end - start)\n",
    "        for i, pi in enumerate(range(start, min(end, len(input_list)))):\n",
    "            next_args = input_list[pi]\n",
    "            if log:\n",
    "                print(next_args)\n",
    "            # print next_kmer\n",
    "            threads[i] = Process(target=function, args=next_args)\n",
    "            # print 'starting process #', i\n",
    "            threads[i].start()\n",
    "\n",
    "        # print  threads\n",
    "        # print 'joining threads...'\n",
    "        # do some other stuff\n",
    "        for i in range(len(threads)):\n",
    "            if threads[i] is None:\n",
    "                continue\n",
    "            threads[i].join()\n",
    "\n",
    "            n_done += 1\n",
    "            if log_each is not None and log_each % n_done == 0:\n",
    "                print('Done %i so far' % n_done)\n",
    "    print('done...')\n"
   ]
  },
  {
   "cell_type": "code",
   "execution_count": 34,
   "metadata": {},
   "outputs": [],
   "source": [
    "from os.path import join\n",
    "arguments = []\n",
    "\n",
    "for dataset in filenames_by_dataset:\n",
    "    # print(dataset)\n",
    "    for filename in filenames_by_dataset[dataset]:\n",
    "        input_file = join(datadir, filename)\n",
    "        next_outdir = join(outdir, dataset)\n",
    "        # print(next_outdir)\n",
    "        \n",
    "        if not os.path.exists(next_outdir):\n",
    "            os.mkdir(next_outdir)\n",
    "            \n",
    "        output_file = join(next_outdir, filename)\n",
    "\n",
    "        # print(os.path.exists(output_file), output_file)\n",
    "        if os.path.exists(output_file):\n",
    "            # print(os.path.exists(output_file), 'skip...')\n",
    "            continue\n",
    "        \n",
    "        # print(input_file)\n",
    "        # print(output_file)\n",
    "        # print('')\n",
    "        \n",
    "        arguments.append([input_file, output_file])\n",
    "        # ad = sc.read_h5ad(join(datadir, p))\n",
    "    "
   ]
  },
  {
   "cell_type": "code",
   "execution_count": 35,
   "metadata": {},
   "outputs": [
    {
     "data": {
      "text/plain": [
       "[['/mnt/f/workspace/theislab/retina/data/RNA/Chen_a_10x3_Lobe_19_D006_NeuN.h5ad',\n",
       "  '/mnt/f/workspace/theislab/retina/data/integration_oct_2022/scran/Chen_a/Chen_a_10x3_Lobe_19_D006_NeuN.h5ad'],\n",
       " ['/mnt/f/workspace/theislab/retina/data/RNA/Chen_a_10x3_Lobe_19_D011_NeuN.h5ad',\n",
       "  '/mnt/f/workspace/theislab/retina/data/integration_oct_2022/scran/Chen_a/Chen_a_10x3_Lobe_19_D011_NeuN.h5ad'],\n",
       " ['/mnt/f/workspace/theislab/retina/data/RNA/Chen_a_10x3_Lobe_19_D019_NeuN.h5ad',\n",
       "  '/mnt/f/workspace/theislab/retina/data/integration_oct_2022/scran/Chen_a/Chen_a_10x3_Lobe_19_D019_NeuN.h5ad'],\n",
       " ['/mnt/f/workspace/theislab/retina/data/RNA/Chen_a_10x3_Lobe_D013_13_NeuN.h5ad',\n",
       "  '/mnt/f/workspace/theislab/retina/data/integration_oct_2022/scran/Chen_a/Chen_a_10x3_Lobe_D013_13_NeuN.h5ad'],\n",
       " ['/mnt/f/workspace/theislab/retina/data/RNA/Chen_b_19D013_fovea.h5ad',\n",
       "  '/mnt/f/workspace/theislab/retina/data/integration_oct_2022/scran/Chen_b/Chen_b_19D013_fovea.h5ad']]"
      ]
     },
     "execution_count": 35,
     "metadata": {},
     "output_type": "execute_result"
    }
   ],
   "source": [
    "arguments"
   ]
  },
  {
   "cell_type": "code",
   "execution_count": 36,
   "metadata": {},
   "outputs": [],
   "source": [
    "# this is a test. maintain commented after finishing\n",
    "# !python ../../scib/scripts/preprocessing_remove_empty.py -i /storage/groups/ml01/datasets/projects/20210318_retinal_data_integration_ignacio.ibarra_malte.luecken/Wong/Retina_2B.h5ad -o /mnt/znas/icb_zstore01/groups/ml01/workspace/ignacio.ibarra/theislab/retinal_scRNAseq_integration/data/integration_march_2021/scran/Wong/Retina_2B.h5ad"
   ]
  },
  {
   "cell_type": "code",
   "execution_count": 37,
   "metadata": {},
   "outputs": [
    {
     "name": "stdout",
     "output_type": "stream",
     "text": [
      "5\n"
     ]
    }
   ],
   "source": [
    "print(len(arguments))\n",
    "arguments = sorted(arguments, key=lambda x: os.path.getsize(x[0]))"
   ]
  },
  {
   "cell_type": "code",
   "execution_count": 23,
   "metadata": {},
   "outputs": [
    {
     "name": "stdout",
     "output_type": "stream",
     "text": [
      "run function <function execute_preprocessing at 0x7fae00568b90> with n_cores = 5\n",
      "<function execute_preprocessing at 0x7fae00568b90>\n",
      "\n",
      "python /mnt/c/Users/ignacio.ibarra/Dropbox/workspace/theislab/HECA-scib-pipeline/scripts/preprocessing.py -i /mnt/f/workspace/theislab/retina/data/RNA/Chen_a_10x3_Lobe_19_D008_NeuN.h5ad -o /mnt/f/workspace/theislab/retina/data/integration_oct_2022/scran/Chen_a/Chen_a_10x3_Lobe_19_D008_NeuN.h5ad\n",
      "\n",
      "python /mnt/c/Users/ignacio.ibarra/Dropbox/workspace/theislab/HECA-scib-pipeline/scripts/preprocessing.py -i /mnt/f/workspace/theislab/retina/data/RNA/Chen_a_10x3_Lobe_19_D003_NeuN.h5ad -o /mnt/f/workspace/theislab/retina/data/integration_oct_2022/scran/Chen_a/Chen_a_10x3_Lobe_19_D003_NeuN.h5ad\n",
      "\n",
      "python /mnt/c/Users/ignacio.ibarra/Dropbox/workspace/theislab/HECA-scib-pipeline/scripts/preprocessing.py -i /mnt/f/workspace/theislab/retina/data/RNA/Chen_b_19D013_fovea.h5ad -o /mnt/f/workspace/theislab/retina/data/integration_oct_2022/scran/Chen_b/Chen_b_19D013_fovea.h5ad\n",
      "\n",
      "python /mnt/c/Users/ignacio.ibarra/Dropbox/workspace/theislab/HECA-scib-pipeline/scripts/preprocessing.py -i /mnt/f/workspace/theislab/retina/data/RNA/Chen_rgc_10x3v31_19_D011_Macular_NeuN_T.h5ad -o /mnt/f/workspace/theislab/retina/data/integration_oct_2022/scran/Chen_rgc/Chen_rgc_10x3v31_19_D011_Macular_NeuN_T.h5ad\n",
      "\n",
      "python /mnt/c/Users/ignacio.ibarra/Dropbox/workspace/theislab/HECA-scib-pipeline/scripts/preprocessing.py -i /mnt/f/workspace/theislab/retina/data/RNA/Chen_b_19D015_fovea.h5ad -o /mnt/f/workspace/theislab/retina/data/integration_oct_2022/scran/Chen_b/Chen_b_19D015_fovea.h5ad\n"
     ]
    },
    {
     "name": "stderr",
     "output_type": "stream",
     "text": [
      "Killed\n"
     ]
    },
    {
     "name": "stdout",
     "output_type": "stream",
     "text": [
      "Normalisation\n",
      "Note! Performing log1p-transformation after normalization.\n",
      "Normalisation\n",
      "Note! Performing log1p-transformation after normalization.\n",
      "Normalisation\n",
      "Note! Performing log1p-transformation after normalization.\n",
      "Normalisation\n",
      "Note! Performing log1p-transformation after normalization.\n",
      "\n",
      "\n",
      "\n",
      "\n",
      "\n",
      "python /mnt/c/Users/ignacio.ibarra/Dropbox/workspace/theislab/HECA-scib-pipeline/scripts/preprocessing.py -i /mnt/f/workspace/theislab/retina/data/RNA/Roska_R-00646_07_Periphery_RetinaChoroidRPE.h5ad -o /mnt/f/workspace/theislab/retina/data/integration_oct_2022/scran/Roska/Roska_R-00646_07_Periphery_RetinaChoroidRPE.h5adpython /mnt/c/Users/ignacio.ibarra/Dropbox/workspace/theislab/HECA-scib-pipeline/scripts/preprocessing.py -i /mnt/f/workspace/theislab/retina/data/RNA/Chen_a_10x3_Lobe_D013_13_NeuN.h5ad -o /mnt/f/workspace/theislab/retina/data/integration_oct_2022/scran/Chen_a/Chen_a_10x3_Lobe_D013_13_NeuN.h5adpython /mnt/c/Users/ignacio.ibarra/Dropbox/workspace/theislab/HECA-scib-pipeline/scripts/preprocessing.py -i /mnt/f/workspace/theislab/retina/data/RNA/Chen_rgc_10x3V31_19_D007_Macular_NeuN_T.h5ad -o /mnt/f/workspace/theislab/retina/data/integration_oct_2022/scran/Chen_rgc/Chen_rgc_10x3V31_19_D007_Macular_NeuN_T.h5adpython /mnt/c/Users/ignacio.ibarra/Dropbox/workspace/theislab/HECA-scib-pipeline/scripts/preprocessing.py -i /mnt/f/workspace/theislab/retina/data/RNA/Chen_a_10x3_Lobe_19_D006_NeuN.h5ad -o /mnt/f/workspace/theislab/retina/data/integration_oct_2022/scran/Chen_a/Chen_a_10x3_Lobe_19_D006_NeuN.h5adpython /mnt/c/Users/ignacio.ibarra/Dropbox/workspace/theislab/HECA-scib-pipeline/scripts/preprocessing.py -i /mnt/f/workspace/theislab/retina/data/RNA/Chen_a_10x3_Lobe_D005_13_NeuN.h5ad -o /mnt/f/workspace/theislab/retina/data/integration_oct_2022/scran/Chen_a/Chen_a_10x3_Lobe_D005_13_NeuN.h5ad\n",
      "\n",
      "\n",
      "\n",
      "\n"
     ]
    },
    {
     "name": "stderr",
     "output_type": "stream",
     "text": [
      "Killed\n",
      "Killed\n"
     ]
    },
    {
     "name": "stdout",
     "output_type": "stream",
     "text": [
      "Normalisation\n",
      "Note! Performing log1p-transformation after normalization.\n",
      "Normalisation\n",
      "Note! Performing log1p-transformation after normalization.\n",
      "Normalisation\n",
      "Note! Performing log1p-transformation after normalization.\n",
      "\n",
      "\n",
      "python /mnt/c/Users/ignacio.ibarra/Dropbox/workspace/theislab/HECA-scib-pipeline/scripts/preprocessing.py -i /mnt/f/workspace/theislab/retina/data/RNA/Chen_a_10x3_Lobe_19_D019_NeuN.h5ad -o /mnt/f/workspace/theislab/retina/data/integration_oct_2022/scran/Chen_a/Chen_a_10x3_Lobe_19_D019_NeuN.h5adpython /mnt/c/Users/ignacio.ibarra/Dropbox/workspace/theislab/HECA-scib-pipeline/scripts/preprocessing.py -i /mnt/f/workspace/theislab/retina/data/RNA/Chen_a_10x3_Lobe_19_D011_NeuN.h5ad -o /mnt/f/workspace/theislab/retina/data/integration_oct_2022/scran/Chen_a/Chen_a_10x3_Lobe_19_D011_NeuN.h5ad\n",
      "\n"
     ]
    },
    {
     "name": "stderr",
     "output_type": "stream",
     "text": [
      "Killed\n"
     ]
    },
    {
     "ename": "KeyboardInterrupt",
     "evalue": "",
     "output_type": "error",
     "traceback": [
      "\u001b[0;31m---------------------------------------------------------------------------\u001b[0m",
      "\u001b[0;31mKeyboardInterrupt\u001b[0m                         Traceback (most recent call last)",
      "\u001b[0;32m/tmp/ipykernel_21017/3791304809.py\u001b[0m in \u001b[0;36m<module>\u001b[0;34m\u001b[0m\n\u001b[0;32m----> 1\u001b[0;31m \u001b[0mrun\u001b[0m\u001b[0;34m(\u001b[0m\u001b[0mexecute_preprocessing\u001b[0m\u001b[0;34m,\u001b[0m \u001b[0marguments\u001b[0m\u001b[0;34m,\u001b[0m \u001b[0mn_cores\u001b[0m\u001b[0;34m=\u001b[0m\u001b[0;36m5\u001b[0m\u001b[0;34m)\u001b[0m\u001b[0;34m\u001b[0m\u001b[0;34m\u001b[0m\u001b[0m\n\u001b[0m",
      "\u001b[0;32m/tmp/ipykernel_21017/2506372170.py\u001b[0m in \u001b[0;36mrun\u001b[0;34m(function, input_list, n_cores, log_each, log)\u001b[0m\n\u001b[1;32m     41\u001b[0m             \u001b[0;32mif\u001b[0m \u001b[0mthreads\u001b[0m\u001b[0;34m[\u001b[0m\u001b[0mi\u001b[0m\u001b[0;34m]\u001b[0m \u001b[0;32mis\u001b[0m \u001b[0;32mNone\u001b[0m\u001b[0;34m:\u001b[0m\u001b[0;34m\u001b[0m\u001b[0;34m\u001b[0m\u001b[0m\n\u001b[1;32m     42\u001b[0m                 \u001b[0;32mcontinue\u001b[0m\u001b[0;34m\u001b[0m\u001b[0;34m\u001b[0m\u001b[0m\n\u001b[0;32m---> 43\u001b[0;31m             \u001b[0mthreads\u001b[0m\u001b[0;34m[\u001b[0m\u001b[0mi\u001b[0m\u001b[0;34m]\u001b[0m\u001b[0;34m.\u001b[0m\u001b[0mjoin\u001b[0m\u001b[0;34m(\u001b[0m\u001b[0;34m)\u001b[0m\u001b[0;34m\u001b[0m\u001b[0;34m\u001b[0m\u001b[0m\n\u001b[0m\u001b[1;32m     44\u001b[0m \u001b[0;34m\u001b[0m\u001b[0m\n\u001b[1;32m     45\u001b[0m             \u001b[0mn_done\u001b[0m \u001b[0;34m+=\u001b[0m \u001b[0;36m1\u001b[0m\u001b[0;34m\u001b[0m\u001b[0;34m\u001b[0m\u001b[0m\n",
      "\u001b[0;32m~/miniconda3/envs/scIB-python/lib/python3.7/multiprocessing/process.py\u001b[0m in \u001b[0;36mjoin\u001b[0;34m(self, timeout)\u001b[0m\n\u001b[1;32m    138\u001b[0m         \u001b[0;32massert\u001b[0m \u001b[0mself\u001b[0m\u001b[0;34m.\u001b[0m\u001b[0m_parent_pid\u001b[0m \u001b[0;34m==\u001b[0m \u001b[0mos\u001b[0m\u001b[0;34m.\u001b[0m\u001b[0mgetpid\u001b[0m\u001b[0;34m(\u001b[0m\u001b[0;34m)\u001b[0m\u001b[0;34m,\u001b[0m \u001b[0;34m'can only join a child process'\u001b[0m\u001b[0;34m\u001b[0m\u001b[0;34m\u001b[0m\u001b[0m\n\u001b[1;32m    139\u001b[0m         \u001b[0;32massert\u001b[0m \u001b[0mself\u001b[0m\u001b[0;34m.\u001b[0m\u001b[0m_popen\u001b[0m \u001b[0;32mis\u001b[0m \u001b[0;32mnot\u001b[0m \u001b[0;32mNone\u001b[0m\u001b[0;34m,\u001b[0m \u001b[0;34m'can only join a started process'\u001b[0m\u001b[0;34m\u001b[0m\u001b[0;34m\u001b[0m\u001b[0m\n\u001b[0;32m--> 140\u001b[0;31m         \u001b[0mres\u001b[0m \u001b[0;34m=\u001b[0m \u001b[0mself\u001b[0m\u001b[0;34m.\u001b[0m\u001b[0m_popen\u001b[0m\u001b[0;34m.\u001b[0m\u001b[0mwait\u001b[0m\u001b[0;34m(\u001b[0m\u001b[0mtimeout\u001b[0m\u001b[0;34m)\u001b[0m\u001b[0;34m\u001b[0m\u001b[0;34m\u001b[0m\u001b[0m\n\u001b[0m\u001b[1;32m    141\u001b[0m         \u001b[0;32mif\u001b[0m \u001b[0mres\u001b[0m \u001b[0;32mis\u001b[0m \u001b[0;32mnot\u001b[0m \u001b[0;32mNone\u001b[0m\u001b[0;34m:\u001b[0m\u001b[0;34m\u001b[0m\u001b[0;34m\u001b[0m\u001b[0m\n\u001b[1;32m    142\u001b[0m             \u001b[0m_children\u001b[0m\u001b[0;34m.\u001b[0m\u001b[0mdiscard\u001b[0m\u001b[0;34m(\u001b[0m\u001b[0mself\u001b[0m\u001b[0;34m)\u001b[0m\u001b[0;34m\u001b[0m\u001b[0;34m\u001b[0m\u001b[0m\n",
      "\u001b[0;32m~/miniconda3/envs/scIB-python/lib/python3.7/multiprocessing/popen_fork.py\u001b[0m in \u001b[0;36mwait\u001b[0;34m(self, timeout)\u001b[0m\n\u001b[1;32m     46\u001b[0m                     \u001b[0;32mreturn\u001b[0m \u001b[0;32mNone\u001b[0m\u001b[0;34m\u001b[0m\u001b[0;34m\u001b[0m\u001b[0m\n\u001b[1;32m     47\u001b[0m             \u001b[0;31m# This shouldn't block if wait() returned successfully.\u001b[0m\u001b[0;34m\u001b[0m\u001b[0;34m\u001b[0m\u001b[0;34m\u001b[0m\u001b[0m\n\u001b[0;32m---> 48\u001b[0;31m             \u001b[0;32mreturn\u001b[0m \u001b[0mself\u001b[0m\u001b[0;34m.\u001b[0m\u001b[0mpoll\u001b[0m\u001b[0;34m(\u001b[0m\u001b[0mos\u001b[0m\u001b[0;34m.\u001b[0m\u001b[0mWNOHANG\u001b[0m \u001b[0;32mif\u001b[0m \u001b[0mtimeout\u001b[0m \u001b[0;34m==\u001b[0m \u001b[0;36m0.0\u001b[0m \u001b[0;32melse\u001b[0m \u001b[0;36m0\u001b[0m\u001b[0;34m)\u001b[0m\u001b[0;34m\u001b[0m\u001b[0;34m\u001b[0m\u001b[0m\n\u001b[0m\u001b[1;32m     49\u001b[0m         \u001b[0;32mreturn\u001b[0m \u001b[0mself\u001b[0m\u001b[0;34m.\u001b[0m\u001b[0mreturncode\u001b[0m\u001b[0;34m\u001b[0m\u001b[0;34m\u001b[0m\u001b[0m\n\u001b[1;32m     50\u001b[0m \u001b[0;34m\u001b[0m\u001b[0m\n",
      "\u001b[0;32m~/miniconda3/envs/scIB-python/lib/python3.7/multiprocessing/popen_fork.py\u001b[0m in \u001b[0;36mpoll\u001b[0;34m(self, flag)\u001b[0m\n\u001b[1;32m     26\u001b[0m         \u001b[0;32mif\u001b[0m \u001b[0mself\u001b[0m\u001b[0;34m.\u001b[0m\u001b[0mreturncode\u001b[0m \u001b[0;32mis\u001b[0m \u001b[0;32mNone\u001b[0m\u001b[0;34m:\u001b[0m\u001b[0;34m\u001b[0m\u001b[0;34m\u001b[0m\u001b[0m\n\u001b[1;32m     27\u001b[0m             \u001b[0;32mtry\u001b[0m\u001b[0;34m:\u001b[0m\u001b[0;34m\u001b[0m\u001b[0;34m\u001b[0m\u001b[0m\n\u001b[0;32m---> 28\u001b[0;31m                 \u001b[0mpid\u001b[0m\u001b[0;34m,\u001b[0m \u001b[0msts\u001b[0m \u001b[0;34m=\u001b[0m \u001b[0mos\u001b[0m\u001b[0;34m.\u001b[0m\u001b[0mwaitpid\u001b[0m\u001b[0;34m(\u001b[0m\u001b[0mself\u001b[0m\u001b[0;34m.\u001b[0m\u001b[0mpid\u001b[0m\u001b[0;34m,\u001b[0m \u001b[0mflag\u001b[0m\u001b[0;34m)\u001b[0m\u001b[0;34m\u001b[0m\u001b[0;34m\u001b[0m\u001b[0m\n\u001b[0m\u001b[1;32m     29\u001b[0m             \u001b[0;32mexcept\u001b[0m \u001b[0mOSError\u001b[0m \u001b[0;32mas\u001b[0m \u001b[0me\u001b[0m\u001b[0;34m:\u001b[0m\u001b[0;34m\u001b[0m\u001b[0;34m\u001b[0m\u001b[0m\n\u001b[1;32m     30\u001b[0m                 \u001b[0;31m# Child process not yet created. See #1731717\u001b[0m\u001b[0;34m\u001b[0m\u001b[0;34m\u001b[0m\u001b[0;34m\u001b[0m\u001b[0m\n",
      "\u001b[0;31mKeyboardInterrupt\u001b[0m: "
     ]
    }
   ],
   "source": [
    "run(execute_preprocessing, arguments, n_cores=1)"
   ]
  }
 ],
 "metadata": {
  "kernelspec": {
   "display_name": "Python [conda env:scIB-python]",
   "language": "python",
   "name": "conda-env-scIB-python-py"
  },
  "language_info": {
   "codemirror_mode": {
    "name": "ipython",
    "version": 3
   },
   "file_extension": ".py",
   "mimetype": "text/x-python",
   "name": "python",
   "nbconvert_exporter": "python",
   "pygments_lexer": "ipython3",
   "version": "3.7.12"
  }
 },
 "nbformat": 4,
 "nbformat_minor": 4
}
