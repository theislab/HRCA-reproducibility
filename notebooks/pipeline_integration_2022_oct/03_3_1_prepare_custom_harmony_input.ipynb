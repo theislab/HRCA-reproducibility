{
 "cells": [
  {
   "attachments": {},
   "cell_type": "markdown",
   "metadata": {},
   "source": [
    "### Harmony's input relies on the normalized counts, so modification to input R files are done to save space "
   ]
  },
  {
   "cell_type": "code",
   "execution_count": null,
   "metadata": {},
   "outputs": [],
   "source": [
    "import os"
   ]
  },
  {
   "cell_type": "code",
   "execution_count": 1,
   "metadata": {},
   "outputs": [],
   "source": [
    "path = '/mnt/f/workspace/theislab/retina/data/integration_oct_2022/output/retina_500_cells_all_sc_batch_donor_dataset_cell.type_2022/prepare/unscaled/HVG.1K/adata_pre.RDS'"
   ]
  },
  {
   "cell_type": "code",
   "execution_count": 2,
   "metadata": {},
   "outputs": [
    {
     "name": "stdout",
     "output_type": "stream",
     "text": [
      "/mnt/f/workspace/theislab/retina/data/integration_oct_2022/output/retina_500_cells_all_sc_batch_donor_dataset_cell.type_2022/prepare/unscaled/HVG.1K/adata_pre.RDS\n"
     ]
    }
   ],
   "source": [
    "print(path)"
   ]
  }
 ],
 "metadata": {
  "kernelspec": {
   "display_name": "Python [conda env:scIB-R-integration]",
   "language": "python",
   "name": "conda-env-scIB-R-integration-py"
  },
  "language_info": {
   "codemirror_mode": {
    "name": "ipython",
    "version": 3
   },
   "file_extension": ".py",
   "mimetype": "text/x-python",
   "name": "python",
   "nbconvert_exporter": "python",
   "pygments_lexer": "ipython3",
   "version": "3.7.3"
  },
  "orig_nbformat": 4
 },
 "nbformat": 4,
 "nbformat_minor": 2
}
