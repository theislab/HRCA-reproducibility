{
 "cells": [
  {
   "cell_type": "code",
   "execution_count": 42,
   "metadata": {},
   "outputs": [],
   "source": [
    "# decoy ld files\n",
    "import pandas as pd\n",
    "input_path = '/mnt/c/Users/ignacio.ibarra/Downloads/hepatitis_snps.snp'\n",
    "df = pd.read_csv(input_path, sep='\\t', header=None)\n",
    "output_path = input_path.replace('.snp', '.ld')\n",
    "\n",
    "groups = {}\n",
    "thr = 15000000\n",
    "\n",
    "for ri, r1 in df.iterrows():\n",
    "    ca, sa, ea, ka = r1.values\n",
    "    for rj, r2 in df.iterrows():\n",
    "        cb, sb, eb, kb = r2.values\n",
    "\n",
    "    dist = min(abs(sa - eb), abs(ea - sb))\n",
    "\n",
    "    print(ca, sa, sb, ka, '|', cb, sb, eb, kb, dist)\n",
    "\n",
    "    if dist < thr:\n",
    "        ka = ka if ka > kb else kb\n",
    "        print(ka)\n",
    "        if not ka in groups:\n",
    "            groups[ka] = set()\n",
    "        groups[ka].add(kb)\n",
    "\n",
    "print(groups)\n",
    "\n",
    "for g in groups:\n",
    "    print(g + ':\\t' + '\\t'.join(groups[g]))\n",
    "\n",
    "w = open(output_path, 'w')\n",
    "for g in groups:\n",
    "    w.write(g + ':\\t' + '\\t'.join(groups[g]) + '\\n')\n",
    "w.close()"
   ]
  }
 ],
 "metadata": {
  "kernelspec": {
   "display_name": "Python [conda env:mypy3]",
   "language": "python",
   "name": "conda-env-mypy3-py"
  },
  "language_info": {
   "codemirror_mode": {
    "name": "ipython",
    "version": 3
   },
   "file_extension": ".py",
   "mimetype": "text/x-python",
   "name": "python",
   "nbconvert_exporter": "python",
   "pygments_lexer": "ipython3",
   "version": "3.10.4"
  },
  "orig_nbformat": 4
 },
 "nbformat": 4,
 "nbformat_minor": 2
}
