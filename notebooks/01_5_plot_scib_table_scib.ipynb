{
 "cells": [
  {
   "cell_type": "code",
   "execution_count": 1,
   "metadata": {},
   "outputs": [
    {
     "name": "stdout",
     "output_type": "stream",
     "text": [
      "[1] \"here...\"\n"
     ]
    }
   ],
   "source": [
    "print('here...')"
   ]
  },
  {
   "cell_type": "code",
   "execution_count": 8,
   "metadata": {},
   "outputs": [],
   "source": [
    "setwd('/lustre/groups/ml01/workspace/ignacio.ibarra/theislab/HECA-scib-pipeline/R/visualization')"
   ]
  },
  {
   "cell_type": "code",
   "execution_count": 10,
   "metadata": {},
   "outputs": [],
   "source": [
    "# import the functions to plot the respective functions\n",
    "source('plotSingleTaskRNA.R');"
   ]
  },
  {
   "cell_type": "code",
   "execution_count": 25,
   "metadata": {},
   "outputs": [],
   "source": [
    "# metrics_path_all = '/lustre/groups/ml01/workspace/ignacio.ibarra/theislab/retinal_scRNAseq_integration/data/integration_march_2021/output/metrics_retinal_all_Chen+Hackney_batch_donor_dataset_cell.type.csv'\n",
    "metrics_path_all = '/lustre/groups/ml01/workspace/ignacio.ibarra/theislab/retinal_scRNAseq_integration/data/integration_march_2021/output/metrics_retinal_all_cells_Chenfixed+Hackney_batch_donor_dataset_cell.type.csv'\n",
    "\n",
    "df <- read.table(metrics_path_all, sep=',', header=T, row.names=1)"
   ]
  },
  {
   "cell_type": "code",
   "execution_count": 26,
   "metadata": {},
   "outputs": [
    {
     "name": "stdout",
     "output_type": "stream",
     "text": [
      "[1] \"here...\"\n"
     ]
    }
   ],
   "source": [
    "print('here...')"
   ]
  },
  {
   "cell_type": "code",
   "execution_count": 27,
   "metadata": {},
   "outputs": [
    {
     "data": {
      "text/html": [
       "<style>\n",
       ".list-inline {list-style: none; margin:0; padding: 0}\n",
       ".list-inline>li {display: inline-block}\n",
       ".list-inline>li:not(:last-child)::after {content: \"\\00b7\"; padding: 0 .5ex}\n",
       "</style>\n",
       "<ol class=list-inline><li>12</li><li>14</li></ol>\n"
      ],
      "text/latex": [
       "\\begin{enumerate*}\n",
       "\\item 12\n",
       "\\item 14\n",
       "\\end{enumerate*}\n"
      ],
      "text/markdown": [
       "1. 12\n",
       "2. 14\n",
       "\n",
       "\n"
      ],
      "text/plain": [
       "[1] 12 14"
      ]
     },
     "metadata": {},
     "output_type": "display_data"
    }
   ],
   "source": [
    "dim(df)"
   ]
  },
  {
   "cell_type": "code",
   "execution_count": 28,
   "metadata": {},
   "outputs": [],
   "source": [
    "# plotSingleTaskRNA(metrics_path_all, outdir=scib_outdir)"
   ]
  },
  {
   "cell_type": "code",
   "execution_count": 29,
   "metadata": {},
   "outputs": [],
   "source": [
    "rownames(df) <- str_replace(rownames(df), \"\\\\+\", 'and')\n",
    "rownames(df) <- str_replace(rownames(df), \"\\\\+\", 'and')\n",
    "rownames(df) <- str_replace(rownames(df), \"\\\\+\", 'and')"
   ]
  },
  {
   "cell_type": "code",
   "execution_count": 30,
   "metadata": {},
   "outputs": [],
   "source": [
    "df <- df[grepl('Roska', rownames(df)) == FALSE,]\n",
    "df <- df[grepl('_E', rownames(df)),]\n",
    "# df <- df[grepl('_L', rownames(df)),]"
   ]
  },
  {
   "cell_type": "code",
   "execution_count": 31,
   "metadata": {},
   "outputs": [
    {
     "data": {
      "text/html": [
       "<style>\n",
       ".list-inline {list-style: none; margin:0; padding: 0}\n",
       ".list-inline>li {display: inline-block}\n",
       ".list-inline>li:not(:last-child)::after {content: \"\\00b7\"; padding: 0 .5ex}\n",
       "</style>\n",
       "<ol class=list-inline><li>12</li><li>14</li></ol>\n"
      ],
      "text/latex": [
       "\\begin{enumerate*}\n",
       "\\item 12\n",
       "\\item 14\n",
       "\\end{enumerate*}\n"
      ],
      "text/markdown": [
       "1. 12\n",
       "2. 14\n",
       "\n",
       "\n"
      ],
      "text/plain": [
       "[1] 12 14"
      ]
     },
     "metadata": {},
     "output_type": "display_data"
    }
   ],
   "source": [
    "dim(df)"
   ]
  },
  {
   "cell_type": "code",
   "execution_count": 32,
   "metadata": {},
   "outputs": [],
   "source": [
    "scib_outdir = '/lustre/groups/ml01/workspace/ignacio.ibarra/theislab/retinal_scRNAseq_integration/data/integration_march_2021/output/results'\n",
    "# metrics_path = '/mnt/znas/icb_zstore01/groups/ml01/workspace/ignacio.ibarra/theislab/retinal_scRNAseq_integration/data/integration_march_2021/output/metrics.csv'\n",
    "# metrics_path = '/mnt/znas/icb_zstore01/groups/ml01/workspace/ignacio.ibarra/theislab/retinal_scRNAseq_integration/data/integration_march_2021/output/metrics_retinal_all_Chen+Hackney_batch_donor_dataset_cell.type_bkp.csv'\n",
    "metrics_path_all = '/lustre/groups/ml01/workspace/ignacio.ibarra/theislab/retinal_scRNAseq_integration/data/integration_march_2021/output/metrics_retinal_all_cells_Chenfixed+Hackney_batch_donor_dataset_cell.type.csv'\n",
    "# metrics_path = '/lustre/groups/ml01/workspace/ignacio.ibarra/theislab/retinal_scRNAseq_integration/data/integration_march_2021/output/metrics_retinal_all_Chen+Hackney_batch_donor_dataset_cell.type_bkp.csv'\n",
    "# metrics_path = '/mnt/znas/icb_zstore01/groups/ml01/workspace/ignacio.ibarra/theislab/retinal_scRNAseq_integration/data/integration_march_2021/output/metrics_bkp.csv'"
   ]
  },
  {
   "cell_type": "code",
   "execution_count": 33,
   "metadata": {},
   "outputs": [
    {
     "data": {
      "text/html": [
       "<table class=\"dataframe\">\n",
       "<caption>A data.frame: 12 × 14</caption>\n",
       "<thead>\n",
       "\t<tr><th></th><th scope=col>ASW_label</th><th scope=col>ASW_label.batch</th><th scope=col>PCR_batch</th><th scope=col>cell_cycle_conservation</th><th scope=col>isolated_label_F1</th><th scope=col>isolated_label_silhouette</th><th scope=col>graph_conn</th><th scope=col>kBET</th><th scope=col>iLISI</th><th scope=col>cLISI</th><th scope=col>hvg_overlap</th><th scope=col>trajectory</th><th scope=col>NMI_cluster.label</th><th scope=col>ARI_cluster.label</th></tr>\n",
       "\t<tr><th></th><th scope=col>&lt;dbl&gt;</th><th scope=col>&lt;dbl&gt;</th><th scope=col>&lt;dbl&gt;</th><th scope=col>&lt;dbl&gt;</th><th scope=col>&lt;dbl&gt;</th><th scope=col>&lt;dbl&gt;</th><th scope=col>&lt;dbl&gt;</th><th scope=col>&lt;lgl&gt;</th><th scope=col>&lt;dbl&gt;</th><th scope=col>&lt;dbl&gt;</th><th scope=col>&lt;dbl&gt;</th><th scope=col>&lt;lgl&gt;</th><th scope=col>&lt;dbl&gt;</th><th scope=col>&lt;dbl&gt;</th></tr>\n",
       "</thead>\n",
       "<tbody>\n",
       "\t<tr><th scope=row>/retinal_all_cells_ChenfixedandHackney_batch_donor_dataset_cell.type/metrics/unscaled/HVG.3K/scanvi_E100_L2_H128_embed</th><td>0.7203922</td><td>0.8669905</td><td>0.6593395</td><td>0.6021941</td><td>0.9859526</td><td>0.6036046</td><td>0.9742568</td><td>NA</td><td>0.11114429</td><td> 1</td><td>       NA</td><td>NA</td><td>0.7483269</td><td> 1.03363390</td></tr>\n",
       "\t<tr><th scope=row>/retinal_all_cells_ChenfixedandHackney_batch_donor_dataset_cell.type/metrics/unscaled/HVG.3K/scanvi_E100_L2_H256_embed</th><td>0.6618309</td><td>0.9023872</td><td>0.6833126</td><td>0.4422945</td><td>0.9863766</td><td>0.6204339</td><td>0.9729808</td><td>NA</td><td>        NA</td><td>NA</td><td>       NA</td><td>NA</td><td>0.7570255</td><td>-0.76511592</td></tr>\n",
       "\t<tr><th scope=row>/retinal_all_cells_ChenfixedandHackney_batch_donor_dataset_cell.type/metrics/unscaled/HVG.3K/scgen_E25_full</th><td>0.7669813</td><td>0.7528006</td><td>0.4990032</td><td>0.8559595</td><td>0.9934958</td><td>0.6449923</td><td>0.9973609</td><td>NA</td><td>0.14689177</td><td> 1</td><td>0.6323478</td><td>NA</td><td>0.7839313</td><td> 0.42893253</td></tr>\n",
       "\t<tr><th scope=row>/retinal_all_cells_ChenfixedandHackney_batch_donor_dataset_cell.type/metrics/unscaled/HVG.3K/scanvi_E100_L3_H256_embed</th><td>0.6715404</td><td>0.8877936</td><td>0.6514299</td><td>0.4215536</td><td>0.9143676</td><td>0.5814484</td><td>0.9720373</td><td>NA</td><td>0.11497984</td><td> 1</td><td>       NA</td><td>NA</td><td>0.7580714</td><td>-1.66121018</td></tr>\n",
       "\t<tr><th scope=row>/retinal_all_cells_ChenfixedandHackney_batch_donor_dataset_cell.type/metrics/unscaled/HVG.3K/scvi_E100_embed</th><td>0.5725212</td><td>0.9083022</td><td>0.6773711</td><td>0.2843015</td><td>0.9864909</td><td>0.5387418</td><td>0.9747274</td><td>NA</td><td>        NA</td><td>NA</td><td>       NA</td><td>NA</td><td>0.7611938</td><td> 1.21315680</td></tr>\n",
       "\t<tr><th scope=row>/retinal_all_cells_ChenfixedandHackney_batch_donor_dataset_cell.type/metrics/unscaled/HVG.3K/scanvi_E100_L3_H128_embed</th><td>0.7080778</td><td>0.8390986</td><td>0.6648116</td><td>0.6309993</td><td>0.9079755</td><td>0.5986855</td><td>0.9708819</td><td>NA</td><td>0.11755068</td><td> 1</td><td>       NA</td><td>NA</td><td>0.7605693</td><td> 0.04687615</td></tr>\n",
       "\t<tr><th scope=row>/retinal_all_cells_ChenfixedandHackney_batch_donor_dataset_cell.type/metrics/unscaled/HVG.3K/scanvi_E100_L1_H256_embed</th><td>0.6496115</td><td>0.9046363</td><td>0.6908231</td><td>0.4068210</td><td>0.9871414</td><td>0.6411234</td><td>0.9709656</td><td>NA</td><td>0.09865844</td><td> 1</td><td>       NA</td><td>NA</td><td>0.7538828</td><td>-0.04720547</td></tr>\n",
       "\t<tr><th scope=row>/retinal_all_cells_ChenfixedandHackney_batch_donor_dataset_cell.type/metrics/unscaled/HVG.3K/scgen_E100_full</th><td>0.7634819</td><td>0.7608667</td><td>0.5032324</td><td>0.8584306</td><td>0.9921832</td><td>0.6344225</td><td>0.9981679</td><td>NA</td><td>0.14836626</td><td> 1</td><td>0.6255217</td><td>NA</td><td>0.7812187</td><td> 2.40256485</td></tr>\n",
       "\t<tr><th scope=row>/retinal_all_cells_ChenfixedandHackney_batch_donor_dataset_cell.type/metrics/unscaled/HVG.3K/scanvi_E100_L1_H128_embed</th><td>0.6651205</td><td>0.8910514</td><td>0.7298072</td><td>0.3968005</td><td>0.9858382</td><td>0.6963982</td><td>0.8862874</td><td>NA</td><td>0.10032823</td><td> 1</td><td>       NA</td><td>NA</td><td>0.7583419</td><td> 1.58586156</td></tr>\n",
       "\t<tr><th scope=row>/retinal_all_cells_ChenfixedandHackney_batch_donor_dataset_cell.type/metrics/unscaled/HVG.3K/scgen_E50_full</th><td>0.7657265</td><td>0.7566393</td><td>       NA</td><td>0.8434941</td><td>0.9913101</td><td>0.6350358</td><td>0.9980478</td><td>NA</td><td>0.15032383</td><td> 1</td><td>0.6302174</td><td>NA</td><td>0.7567434</td><td>-1.50043411</td></tr>\n",
       "\t<tr><th scope=row>/retinal_all_cells_ChenfixedandHackney_batch_donor_dataset_cell.type/metrics/unscaled/HVG.3K/scvi_E25_embed</th><td>0.6189849</td><td>0.8998756</td><td>0.6272670</td><td>0.3976177</td><td>0.9861660</td><td>0.5858962</td><td>0.9772354</td><td>NA</td><td>0.08394888</td><td> 1</td><td>       NA</td><td>NA</td><td>0.7564956</td><td> 4.00719536</td></tr>\n",
       "\t<tr><th scope=row>/retinal_all_cells_ChenfixedandHackney_batch_donor_dataset_cell.type/metrics/unscaled/HVG.3K/scvi_E50_embed</th><td>0.5905271</td><td>0.9048576</td><td>0.6489303</td><td>0.3230007</td><td>0.9863796</td><td>0.5639763</td><td>0.8850978</td><td>NA</td><td>0.08757719</td><td> 1</td><td>       NA</td><td>NA</td><td>0.7526528</td><td> 1.81704385</td></tr>\n",
       "</tbody>\n",
       "</table>\n"
      ],
      "text/latex": [
       "A data.frame: 12 × 14\n",
       "\\begin{tabular}{r|llllllllllllll}\n",
       "  & ASW\\_label & ASW\\_label.batch & PCR\\_batch & cell\\_cycle\\_conservation & isolated\\_label\\_F1 & isolated\\_label\\_silhouette & graph\\_conn & kBET & iLISI & cLISI & hvg\\_overlap & trajectory & NMI\\_cluster.label & ARI\\_cluster.label\\\\\n",
       "  & <dbl> & <dbl> & <dbl> & <dbl> & <dbl> & <dbl> & <dbl> & <lgl> & <dbl> & <dbl> & <dbl> & <lgl> & <dbl> & <dbl>\\\\\n",
       "\\hline\n",
       "\t/retinal\\_all\\_cells\\_ChenfixedandHackney\\_batch\\_donor\\_dataset\\_cell.type/metrics/unscaled/HVG.3K/scanvi\\_E100\\_L2\\_H128\\_embed & 0.7203922 & 0.8669905 & 0.6593395 & 0.6021941 & 0.9859526 & 0.6036046 & 0.9742568 & NA & 0.11114429 &  1 &        NA & NA & 0.7483269 &  1.03363390\\\\\n",
       "\t/retinal\\_all\\_cells\\_ChenfixedandHackney\\_batch\\_donor\\_dataset\\_cell.type/metrics/unscaled/HVG.3K/scanvi\\_E100\\_L2\\_H256\\_embed & 0.6618309 & 0.9023872 & 0.6833126 & 0.4422945 & 0.9863766 & 0.6204339 & 0.9729808 & NA &         NA & NA &        NA & NA & 0.7570255 & -0.76511592\\\\\n",
       "\t/retinal\\_all\\_cells\\_ChenfixedandHackney\\_batch\\_donor\\_dataset\\_cell.type/metrics/unscaled/HVG.3K/scgen\\_E25\\_full & 0.7669813 & 0.7528006 & 0.4990032 & 0.8559595 & 0.9934958 & 0.6449923 & 0.9973609 & NA & 0.14689177 &  1 & 0.6323478 & NA & 0.7839313 &  0.42893253\\\\\n",
       "\t/retinal\\_all\\_cells\\_ChenfixedandHackney\\_batch\\_donor\\_dataset\\_cell.type/metrics/unscaled/HVG.3K/scanvi\\_E100\\_L3\\_H256\\_embed & 0.6715404 & 0.8877936 & 0.6514299 & 0.4215536 & 0.9143676 & 0.5814484 & 0.9720373 & NA & 0.11497984 &  1 &        NA & NA & 0.7580714 & -1.66121018\\\\\n",
       "\t/retinal\\_all\\_cells\\_ChenfixedandHackney\\_batch\\_donor\\_dataset\\_cell.type/metrics/unscaled/HVG.3K/scvi\\_E100\\_embed & 0.5725212 & 0.9083022 & 0.6773711 & 0.2843015 & 0.9864909 & 0.5387418 & 0.9747274 & NA &         NA & NA &        NA & NA & 0.7611938 &  1.21315680\\\\\n",
       "\t/retinal\\_all\\_cells\\_ChenfixedandHackney\\_batch\\_donor\\_dataset\\_cell.type/metrics/unscaled/HVG.3K/scanvi\\_E100\\_L3\\_H128\\_embed & 0.7080778 & 0.8390986 & 0.6648116 & 0.6309993 & 0.9079755 & 0.5986855 & 0.9708819 & NA & 0.11755068 &  1 &        NA & NA & 0.7605693 &  0.04687615\\\\\n",
       "\t/retinal\\_all\\_cells\\_ChenfixedandHackney\\_batch\\_donor\\_dataset\\_cell.type/metrics/unscaled/HVG.3K/scanvi\\_E100\\_L1\\_H256\\_embed & 0.6496115 & 0.9046363 & 0.6908231 & 0.4068210 & 0.9871414 & 0.6411234 & 0.9709656 & NA & 0.09865844 &  1 &        NA & NA & 0.7538828 & -0.04720547\\\\\n",
       "\t/retinal\\_all\\_cells\\_ChenfixedandHackney\\_batch\\_donor\\_dataset\\_cell.type/metrics/unscaled/HVG.3K/scgen\\_E100\\_full & 0.7634819 & 0.7608667 & 0.5032324 & 0.8584306 & 0.9921832 & 0.6344225 & 0.9981679 & NA & 0.14836626 &  1 & 0.6255217 & NA & 0.7812187 &  2.40256485\\\\\n",
       "\t/retinal\\_all\\_cells\\_ChenfixedandHackney\\_batch\\_donor\\_dataset\\_cell.type/metrics/unscaled/HVG.3K/scanvi\\_E100\\_L1\\_H128\\_embed & 0.6651205 & 0.8910514 & 0.7298072 & 0.3968005 & 0.9858382 & 0.6963982 & 0.8862874 & NA & 0.10032823 &  1 &        NA & NA & 0.7583419 &  1.58586156\\\\\n",
       "\t/retinal\\_all\\_cells\\_ChenfixedandHackney\\_batch\\_donor\\_dataset\\_cell.type/metrics/unscaled/HVG.3K/scgen\\_E50\\_full & 0.7657265 & 0.7566393 &        NA & 0.8434941 & 0.9913101 & 0.6350358 & 0.9980478 & NA & 0.15032383 &  1 & 0.6302174 & NA & 0.7567434 & -1.50043411\\\\\n",
       "\t/retinal\\_all\\_cells\\_ChenfixedandHackney\\_batch\\_donor\\_dataset\\_cell.type/metrics/unscaled/HVG.3K/scvi\\_E25\\_embed & 0.6189849 & 0.8998756 & 0.6272670 & 0.3976177 & 0.9861660 & 0.5858962 & 0.9772354 & NA & 0.08394888 &  1 &        NA & NA & 0.7564956 &  4.00719536\\\\\n",
       "\t/retinal\\_all\\_cells\\_ChenfixedandHackney\\_batch\\_donor\\_dataset\\_cell.type/metrics/unscaled/HVG.3K/scvi\\_E50\\_embed & 0.5905271 & 0.9048576 & 0.6489303 & 0.3230007 & 0.9863796 & 0.5639763 & 0.8850978 & NA & 0.08757719 &  1 &        NA & NA & 0.7526528 &  1.81704385\\\\\n",
       "\\end{tabular}\n"
      ],
      "text/markdown": [
       "\n",
       "A data.frame: 12 × 14\n",
       "\n",
       "| <!--/--> | ASW_label &lt;dbl&gt; | ASW_label.batch &lt;dbl&gt; | PCR_batch &lt;dbl&gt; | cell_cycle_conservation &lt;dbl&gt; | isolated_label_F1 &lt;dbl&gt; | isolated_label_silhouette &lt;dbl&gt; | graph_conn &lt;dbl&gt; | kBET &lt;lgl&gt; | iLISI &lt;dbl&gt; | cLISI &lt;dbl&gt; | hvg_overlap &lt;dbl&gt; | trajectory &lt;lgl&gt; | NMI_cluster.label &lt;dbl&gt; | ARI_cluster.label &lt;dbl&gt; |\n",
       "|---|---|---|---|---|---|---|---|---|---|---|---|---|---|---|\n",
       "| /retinal_all_cells_ChenfixedandHackney_batch_donor_dataset_cell.type/metrics/unscaled/HVG.3K/scanvi_E100_L2_H128_embed | 0.7203922 | 0.8669905 | 0.6593395 | 0.6021941 | 0.9859526 | 0.6036046 | 0.9742568 | NA | 0.11114429 |  1 |        NA | NA | 0.7483269 |  1.03363390 |\n",
       "| /retinal_all_cells_ChenfixedandHackney_batch_donor_dataset_cell.type/metrics/unscaled/HVG.3K/scanvi_E100_L2_H256_embed | 0.6618309 | 0.9023872 | 0.6833126 | 0.4422945 | 0.9863766 | 0.6204339 | 0.9729808 | NA |         NA | NA |        NA | NA | 0.7570255 | -0.76511592 |\n",
       "| /retinal_all_cells_ChenfixedandHackney_batch_donor_dataset_cell.type/metrics/unscaled/HVG.3K/scgen_E25_full | 0.7669813 | 0.7528006 | 0.4990032 | 0.8559595 | 0.9934958 | 0.6449923 | 0.9973609 | NA | 0.14689177 |  1 | 0.6323478 | NA | 0.7839313 |  0.42893253 |\n",
       "| /retinal_all_cells_ChenfixedandHackney_batch_donor_dataset_cell.type/metrics/unscaled/HVG.3K/scanvi_E100_L3_H256_embed | 0.6715404 | 0.8877936 | 0.6514299 | 0.4215536 | 0.9143676 | 0.5814484 | 0.9720373 | NA | 0.11497984 |  1 |        NA | NA | 0.7580714 | -1.66121018 |\n",
       "| /retinal_all_cells_ChenfixedandHackney_batch_donor_dataset_cell.type/metrics/unscaled/HVG.3K/scvi_E100_embed | 0.5725212 | 0.9083022 | 0.6773711 | 0.2843015 | 0.9864909 | 0.5387418 | 0.9747274 | NA |         NA | NA |        NA | NA | 0.7611938 |  1.21315680 |\n",
       "| /retinal_all_cells_ChenfixedandHackney_batch_donor_dataset_cell.type/metrics/unscaled/HVG.3K/scanvi_E100_L3_H128_embed | 0.7080778 | 0.8390986 | 0.6648116 | 0.6309993 | 0.9079755 | 0.5986855 | 0.9708819 | NA | 0.11755068 |  1 |        NA | NA | 0.7605693 |  0.04687615 |\n",
       "| /retinal_all_cells_ChenfixedandHackney_batch_donor_dataset_cell.type/metrics/unscaled/HVG.3K/scanvi_E100_L1_H256_embed | 0.6496115 | 0.9046363 | 0.6908231 | 0.4068210 | 0.9871414 | 0.6411234 | 0.9709656 | NA | 0.09865844 |  1 |        NA | NA | 0.7538828 | -0.04720547 |\n",
       "| /retinal_all_cells_ChenfixedandHackney_batch_donor_dataset_cell.type/metrics/unscaled/HVG.3K/scgen_E100_full | 0.7634819 | 0.7608667 | 0.5032324 | 0.8584306 | 0.9921832 | 0.6344225 | 0.9981679 | NA | 0.14836626 |  1 | 0.6255217 | NA | 0.7812187 |  2.40256485 |\n",
       "| /retinal_all_cells_ChenfixedandHackney_batch_donor_dataset_cell.type/metrics/unscaled/HVG.3K/scanvi_E100_L1_H128_embed | 0.6651205 | 0.8910514 | 0.7298072 | 0.3968005 | 0.9858382 | 0.6963982 | 0.8862874 | NA | 0.10032823 |  1 |        NA | NA | 0.7583419 |  1.58586156 |\n",
       "| /retinal_all_cells_ChenfixedandHackney_batch_donor_dataset_cell.type/metrics/unscaled/HVG.3K/scgen_E50_full | 0.7657265 | 0.7566393 |        NA | 0.8434941 | 0.9913101 | 0.6350358 | 0.9980478 | NA | 0.15032383 |  1 | 0.6302174 | NA | 0.7567434 | -1.50043411 |\n",
       "| /retinal_all_cells_ChenfixedandHackney_batch_donor_dataset_cell.type/metrics/unscaled/HVG.3K/scvi_E25_embed | 0.6189849 | 0.8998756 | 0.6272670 | 0.3976177 | 0.9861660 | 0.5858962 | 0.9772354 | NA | 0.08394888 |  1 |        NA | NA | 0.7564956 |  4.00719536 |\n",
       "| /retinal_all_cells_ChenfixedandHackney_batch_donor_dataset_cell.type/metrics/unscaled/HVG.3K/scvi_E50_embed | 0.5905271 | 0.9048576 | 0.6489303 | 0.3230007 | 0.9863796 | 0.5639763 | 0.8850978 | NA | 0.08757719 |  1 |        NA | NA | 0.7526528 |  1.81704385 |\n",
       "\n"
      ],
      "text/plain": [
       "                                                                                                                       ASW_label\n",
       "/retinal_all_cells_ChenfixedandHackney_batch_donor_dataset_cell.type/metrics/unscaled/HVG.3K/scanvi_E100_L2_H128_embed 0.7203922\n",
       "/retinal_all_cells_ChenfixedandHackney_batch_donor_dataset_cell.type/metrics/unscaled/HVG.3K/scanvi_E100_L2_H256_embed 0.6618309\n",
       "/retinal_all_cells_ChenfixedandHackney_batch_donor_dataset_cell.type/metrics/unscaled/HVG.3K/scgen_E25_full            0.7669813\n",
       "/retinal_all_cells_ChenfixedandHackney_batch_donor_dataset_cell.type/metrics/unscaled/HVG.3K/scanvi_E100_L3_H256_embed 0.6715404\n",
       "/retinal_all_cells_ChenfixedandHackney_batch_donor_dataset_cell.type/metrics/unscaled/HVG.3K/scvi_E100_embed           0.5725212\n",
       "/retinal_all_cells_ChenfixedandHackney_batch_donor_dataset_cell.type/metrics/unscaled/HVG.3K/scanvi_E100_L3_H128_embed 0.7080778\n",
       "/retinal_all_cells_ChenfixedandHackney_batch_donor_dataset_cell.type/metrics/unscaled/HVG.3K/scanvi_E100_L1_H256_embed 0.6496115\n",
       "/retinal_all_cells_ChenfixedandHackney_batch_donor_dataset_cell.type/metrics/unscaled/HVG.3K/scgen_E100_full           0.7634819\n",
       "/retinal_all_cells_ChenfixedandHackney_batch_donor_dataset_cell.type/metrics/unscaled/HVG.3K/scanvi_E100_L1_H128_embed 0.6651205\n",
       "/retinal_all_cells_ChenfixedandHackney_batch_donor_dataset_cell.type/metrics/unscaled/HVG.3K/scgen_E50_full            0.7657265\n",
       "/retinal_all_cells_ChenfixedandHackney_batch_donor_dataset_cell.type/metrics/unscaled/HVG.3K/scvi_E25_embed            0.6189849\n",
       "/retinal_all_cells_ChenfixedandHackney_batch_donor_dataset_cell.type/metrics/unscaled/HVG.3K/scvi_E50_embed            0.5905271\n",
       "                                                                                                                       ASW_label.batch\n",
       "/retinal_all_cells_ChenfixedandHackney_batch_donor_dataset_cell.type/metrics/unscaled/HVG.3K/scanvi_E100_L2_H128_embed 0.8669905      \n",
       "/retinal_all_cells_ChenfixedandHackney_batch_donor_dataset_cell.type/metrics/unscaled/HVG.3K/scanvi_E100_L2_H256_embed 0.9023872      \n",
       "/retinal_all_cells_ChenfixedandHackney_batch_donor_dataset_cell.type/metrics/unscaled/HVG.3K/scgen_E25_full            0.7528006      \n",
       "/retinal_all_cells_ChenfixedandHackney_batch_donor_dataset_cell.type/metrics/unscaled/HVG.3K/scanvi_E100_L3_H256_embed 0.8877936      \n",
       "/retinal_all_cells_ChenfixedandHackney_batch_donor_dataset_cell.type/metrics/unscaled/HVG.3K/scvi_E100_embed           0.9083022      \n",
       "/retinal_all_cells_ChenfixedandHackney_batch_donor_dataset_cell.type/metrics/unscaled/HVG.3K/scanvi_E100_L3_H128_embed 0.8390986      \n",
       "/retinal_all_cells_ChenfixedandHackney_batch_donor_dataset_cell.type/metrics/unscaled/HVG.3K/scanvi_E100_L1_H256_embed 0.9046363      \n",
       "/retinal_all_cells_ChenfixedandHackney_batch_donor_dataset_cell.type/metrics/unscaled/HVG.3K/scgen_E100_full           0.7608667      \n",
       "/retinal_all_cells_ChenfixedandHackney_batch_donor_dataset_cell.type/metrics/unscaled/HVG.3K/scanvi_E100_L1_H128_embed 0.8910514      \n",
       "/retinal_all_cells_ChenfixedandHackney_batch_donor_dataset_cell.type/metrics/unscaled/HVG.3K/scgen_E50_full            0.7566393      \n",
       "/retinal_all_cells_ChenfixedandHackney_batch_donor_dataset_cell.type/metrics/unscaled/HVG.3K/scvi_E25_embed            0.8998756      \n",
       "/retinal_all_cells_ChenfixedandHackney_batch_donor_dataset_cell.type/metrics/unscaled/HVG.3K/scvi_E50_embed            0.9048576      \n",
       "                                                                                                                       PCR_batch\n",
       "/retinal_all_cells_ChenfixedandHackney_batch_donor_dataset_cell.type/metrics/unscaled/HVG.3K/scanvi_E100_L2_H128_embed 0.6593395\n",
       "/retinal_all_cells_ChenfixedandHackney_batch_donor_dataset_cell.type/metrics/unscaled/HVG.3K/scanvi_E100_L2_H256_embed 0.6833126\n",
       "/retinal_all_cells_ChenfixedandHackney_batch_donor_dataset_cell.type/metrics/unscaled/HVG.3K/scgen_E25_full            0.4990032\n",
       "/retinal_all_cells_ChenfixedandHackney_batch_donor_dataset_cell.type/metrics/unscaled/HVG.3K/scanvi_E100_L3_H256_embed 0.6514299\n",
       "/retinal_all_cells_ChenfixedandHackney_batch_donor_dataset_cell.type/metrics/unscaled/HVG.3K/scvi_E100_embed           0.6773711\n",
       "/retinal_all_cells_ChenfixedandHackney_batch_donor_dataset_cell.type/metrics/unscaled/HVG.3K/scanvi_E100_L3_H128_embed 0.6648116\n",
       "/retinal_all_cells_ChenfixedandHackney_batch_donor_dataset_cell.type/metrics/unscaled/HVG.3K/scanvi_E100_L1_H256_embed 0.6908231\n",
       "/retinal_all_cells_ChenfixedandHackney_batch_donor_dataset_cell.type/metrics/unscaled/HVG.3K/scgen_E100_full           0.5032324\n",
       "/retinal_all_cells_ChenfixedandHackney_batch_donor_dataset_cell.type/metrics/unscaled/HVG.3K/scanvi_E100_L1_H128_embed 0.7298072\n",
       "/retinal_all_cells_ChenfixedandHackney_batch_donor_dataset_cell.type/metrics/unscaled/HVG.3K/scgen_E50_full                   NA\n",
       "/retinal_all_cells_ChenfixedandHackney_batch_donor_dataset_cell.type/metrics/unscaled/HVG.3K/scvi_E25_embed            0.6272670\n",
       "/retinal_all_cells_ChenfixedandHackney_batch_donor_dataset_cell.type/metrics/unscaled/HVG.3K/scvi_E50_embed            0.6489303\n",
       "                                                                                                                       cell_cycle_conservation\n",
       "/retinal_all_cells_ChenfixedandHackney_batch_donor_dataset_cell.type/metrics/unscaled/HVG.3K/scanvi_E100_L2_H128_embed 0.6021941              \n",
       "/retinal_all_cells_ChenfixedandHackney_batch_donor_dataset_cell.type/metrics/unscaled/HVG.3K/scanvi_E100_L2_H256_embed 0.4422945              \n",
       "/retinal_all_cells_ChenfixedandHackney_batch_donor_dataset_cell.type/metrics/unscaled/HVG.3K/scgen_E25_full            0.8559595              \n",
       "/retinal_all_cells_ChenfixedandHackney_batch_donor_dataset_cell.type/metrics/unscaled/HVG.3K/scanvi_E100_L3_H256_embed 0.4215536              \n",
       "/retinal_all_cells_ChenfixedandHackney_batch_donor_dataset_cell.type/metrics/unscaled/HVG.3K/scvi_E100_embed           0.2843015              \n",
       "/retinal_all_cells_ChenfixedandHackney_batch_donor_dataset_cell.type/metrics/unscaled/HVG.3K/scanvi_E100_L3_H128_embed 0.6309993              \n",
       "/retinal_all_cells_ChenfixedandHackney_batch_donor_dataset_cell.type/metrics/unscaled/HVG.3K/scanvi_E100_L1_H256_embed 0.4068210              \n",
       "/retinal_all_cells_ChenfixedandHackney_batch_donor_dataset_cell.type/metrics/unscaled/HVG.3K/scgen_E100_full           0.8584306              \n",
       "/retinal_all_cells_ChenfixedandHackney_batch_donor_dataset_cell.type/metrics/unscaled/HVG.3K/scanvi_E100_L1_H128_embed 0.3968005              \n",
       "/retinal_all_cells_ChenfixedandHackney_batch_donor_dataset_cell.type/metrics/unscaled/HVG.3K/scgen_E50_full            0.8434941              \n",
       "/retinal_all_cells_ChenfixedandHackney_batch_donor_dataset_cell.type/metrics/unscaled/HVG.3K/scvi_E25_embed            0.3976177              \n",
       "/retinal_all_cells_ChenfixedandHackney_batch_donor_dataset_cell.type/metrics/unscaled/HVG.3K/scvi_E50_embed            0.3230007              \n",
       "                                                                                                                       isolated_label_F1\n",
       "/retinal_all_cells_ChenfixedandHackney_batch_donor_dataset_cell.type/metrics/unscaled/HVG.3K/scanvi_E100_L2_H128_embed 0.9859526        \n",
       "/retinal_all_cells_ChenfixedandHackney_batch_donor_dataset_cell.type/metrics/unscaled/HVG.3K/scanvi_E100_L2_H256_embed 0.9863766        \n",
       "/retinal_all_cells_ChenfixedandHackney_batch_donor_dataset_cell.type/metrics/unscaled/HVG.3K/scgen_E25_full            0.9934958        \n",
       "/retinal_all_cells_ChenfixedandHackney_batch_donor_dataset_cell.type/metrics/unscaled/HVG.3K/scanvi_E100_L3_H256_embed 0.9143676        \n",
       "/retinal_all_cells_ChenfixedandHackney_batch_donor_dataset_cell.type/metrics/unscaled/HVG.3K/scvi_E100_embed           0.9864909        \n",
       "/retinal_all_cells_ChenfixedandHackney_batch_donor_dataset_cell.type/metrics/unscaled/HVG.3K/scanvi_E100_L3_H128_embed 0.9079755        \n",
       "/retinal_all_cells_ChenfixedandHackney_batch_donor_dataset_cell.type/metrics/unscaled/HVG.3K/scanvi_E100_L1_H256_embed 0.9871414        \n",
       "/retinal_all_cells_ChenfixedandHackney_batch_donor_dataset_cell.type/metrics/unscaled/HVG.3K/scgen_E100_full           0.9921832        \n",
       "/retinal_all_cells_ChenfixedandHackney_batch_donor_dataset_cell.type/metrics/unscaled/HVG.3K/scanvi_E100_L1_H128_embed 0.9858382        \n",
       "/retinal_all_cells_ChenfixedandHackney_batch_donor_dataset_cell.type/metrics/unscaled/HVG.3K/scgen_E50_full            0.9913101        \n",
       "/retinal_all_cells_ChenfixedandHackney_batch_donor_dataset_cell.type/metrics/unscaled/HVG.3K/scvi_E25_embed            0.9861660        \n",
       "/retinal_all_cells_ChenfixedandHackney_batch_donor_dataset_cell.type/metrics/unscaled/HVG.3K/scvi_E50_embed            0.9863796        \n",
       "                                                                                                                       isolated_label_silhouette\n",
       "/retinal_all_cells_ChenfixedandHackney_batch_donor_dataset_cell.type/metrics/unscaled/HVG.3K/scanvi_E100_L2_H128_embed 0.6036046                \n",
       "/retinal_all_cells_ChenfixedandHackney_batch_donor_dataset_cell.type/metrics/unscaled/HVG.3K/scanvi_E100_L2_H256_embed 0.6204339                \n",
       "/retinal_all_cells_ChenfixedandHackney_batch_donor_dataset_cell.type/metrics/unscaled/HVG.3K/scgen_E25_full            0.6449923                \n",
       "/retinal_all_cells_ChenfixedandHackney_batch_donor_dataset_cell.type/metrics/unscaled/HVG.3K/scanvi_E100_L3_H256_embed 0.5814484                \n",
       "/retinal_all_cells_ChenfixedandHackney_batch_donor_dataset_cell.type/metrics/unscaled/HVG.3K/scvi_E100_embed           0.5387418                \n",
       "/retinal_all_cells_ChenfixedandHackney_batch_donor_dataset_cell.type/metrics/unscaled/HVG.3K/scanvi_E100_L3_H128_embed 0.5986855                \n",
       "/retinal_all_cells_ChenfixedandHackney_batch_donor_dataset_cell.type/metrics/unscaled/HVG.3K/scanvi_E100_L1_H256_embed 0.6411234                \n",
       "/retinal_all_cells_ChenfixedandHackney_batch_donor_dataset_cell.type/metrics/unscaled/HVG.3K/scgen_E100_full           0.6344225                \n",
       "/retinal_all_cells_ChenfixedandHackney_batch_donor_dataset_cell.type/metrics/unscaled/HVG.3K/scanvi_E100_L1_H128_embed 0.6963982                \n",
       "/retinal_all_cells_ChenfixedandHackney_batch_donor_dataset_cell.type/metrics/unscaled/HVG.3K/scgen_E50_full            0.6350358                \n",
       "/retinal_all_cells_ChenfixedandHackney_batch_donor_dataset_cell.type/metrics/unscaled/HVG.3K/scvi_E25_embed            0.5858962                \n",
       "/retinal_all_cells_ChenfixedandHackney_batch_donor_dataset_cell.type/metrics/unscaled/HVG.3K/scvi_E50_embed            0.5639763                \n",
       "                                                                                                                       graph_conn\n",
       "/retinal_all_cells_ChenfixedandHackney_batch_donor_dataset_cell.type/metrics/unscaled/HVG.3K/scanvi_E100_L2_H128_embed 0.9742568 \n",
       "/retinal_all_cells_ChenfixedandHackney_batch_donor_dataset_cell.type/metrics/unscaled/HVG.3K/scanvi_E100_L2_H256_embed 0.9729808 \n",
       "/retinal_all_cells_ChenfixedandHackney_batch_donor_dataset_cell.type/metrics/unscaled/HVG.3K/scgen_E25_full            0.9973609 \n",
       "/retinal_all_cells_ChenfixedandHackney_batch_donor_dataset_cell.type/metrics/unscaled/HVG.3K/scanvi_E100_L3_H256_embed 0.9720373 \n",
       "/retinal_all_cells_ChenfixedandHackney_batch_donor_dataset_cell.type/metrics/unscaled/HVG.3K/scvi_E100_embed           0.9747274 \n",
       "/retinal_all_cells_ChenfixedandHackney_batch_donor_dataset_cell.type/metrics/unscaled/HVG.3K/scanvi_E100_L3_H128_embed 0.9708819 \n",
       "/retinal_all_cells_ChenfixedandHackney_batch_donor_dataset_cell.type/metrics/unscaled/HVG.3K/scanvi_E100_L1_H256_embed 0.9709656 \n",
       "/retinal_all_cells_ChenfixedandHackney_batch_donor_dataset_cell.type/metrics/unscaled/HVG.3K/scgen_E100_full           0.9981679 \n",
       "/retinal_all_cells_ChenfixedandHackney_batch_donor_dataset_cell.type/metrics/unscaled/HVG.3K/scanvi_E100_L1_H128_embed 0.8862874 \n",
       "/retinal_all_cells_ChenfixedandHackney_batch_donor_dataset_cell.type/metrics/unscaled/HVG.3K/scgen_E50_full            0.9980478 \n",
       "/retinal_all_cells_ChenfixedandHackney_batch_donor_dataset_cell.type/metrics/unscaled/HVG.3K/scvi_E25_embed            0.9772354 \n",
       "/retinal_all_cells_ChenfixedandHackney_batch_donor_dataset_cell.type/metrics/unscaled/HVG.3K/scvi_E50_embed            0.8850978 \n",
       "                                                                                                                       kBET\n",
       "/retinal_all_cells_ChenfixedandHackney_batch_donor_dataset_cell.type/metrics/unscaled/HVG.3K/scanvi_E100_L2_H128_embed NA  \n",
       "/retinal_all_cells_ChenfixedandHackney_batch_donor_dataset_cell.type/metrics/unscaled/HVG.3K/scanvi_E100_L2_H256_embed NA  \n",
       "/retinal_all_cells_ChenfixedandHackney_batch_donor_dataset_cell.type/metrics/unscaled/HVG.3K/scgen_E25_full            NA  \n",
       "/retinal_all_cells_ChenfixedandHackney_batch_donor_dataset_cell.type/metrics/unscaled/HVG.3K/scanvi_E100_L3_H256_embed NA  \n",
       "/retinal_all_cells_ChenfixedandHackney_batch_donor_dataset_cell.type/metrics/unscaled/HVG.3K/scvi_E100_embed           NA  \n",
       "/retinal_all_cells_ChenfixedandHackney_batch_donor_dataset_cell.type/metrics/unscaled/HVG.3K/scanvi_E100_L3_H128_embed NA  \n",
       "/retinal_all_cells_ChenfixedandHackney_batch_donor_dataset_cell.type/metrics/unscaled/HVG.3K/scanvi_E100_L1_H256_embed NA  \n",
       "/retinal_all_cells_ChenfixedandHackney_batch_donor_dataset_cell.type/metrics/unscaled/HVG.3K/scgen_E100_full           NA  \n",
       "/retinal_all_cells_ChenfixedandHackney_batch_donor_dataset_cell.type/metrics/unscaled/HVG.3K/scanvi_E100_L1_H128_embed NA  \n",
       "/retinal_all_cells_ChenfixedandHackney_batch_donor_dataset_cell.type/metrics/unscaled/HVG.3K/scgen_E50_full            NA  \n",
       "/retinal_all_cells_ChenfixedandHackney_batch_donor_dataset_cell.type/metrics/unscaled/HVG.3K/scvi_E25_embed            NA  \n",
       "/retinal_all_cells_ChenfixedandHackney_batch_donor_dataset_cell.type/metrics/unscaled/HVG.3K/scvi_E50_embed            NA  \n",
       "                                                                                                                       iLISI     \n",
       "/retinal_all_cells_ChenfixedandHackney_batch_donor_dataset_cell.type/metrics/unscaled/HVG.3K/scanvi_E100_L2_H128_embed 0.11114429\n",
       "/retinal_all_cells_ChenfixedandHackney_batch_donor_dataset_cell.type/metrics/unscaled/HVG.3K/scanvi_E100_L2_H256_embed         NA\n",
       "/retinal_all_cells_ChenfixedandHackney_batch_donor_dataset_cell.type/metrics/unscaled/HVG.3K/scgen_E25_full            0.14689177\n",
       "/retinal_all_cells_ChenfixedandHackney_batch_donor_dataset_cell.type/metrics/unscaled/HVG.3K/scanvi_E100_L3_H256_embed 0.11497984\n",
       "/retinal_all_cells_ChenfixedandHackney_batch_donor_dataset_cell.type/metrics/unscaled/HVG.3K/scvi_E100_embed                   NA\n",
       "/retinal_all_cells_ChenfixedandHackney_batch_donor_dataset_cell.type/metrics/unscaled/HVG.3K/scanvi_E100_L3_H128_embed 0.11755068\n",
       "/retinal_all_cells_ChenfixedandHackney_batch_donor_dataset_cell.type/metrics/unscaled/HVG.3K/scanvi_E100_L1_H256_embed 0.09865844\n",
       "/retinal_all_cells_ChenfixedandHackney_batch_donor_dataset_cell.type/metrics/unscaled/HVG.3K/scgen_E100_full           0.14836626\n",
       "/retinal_all_cells_ChenfixedandHackney_batch_donor_dataset_cell.type/metrics/unscaled/HVG.3K/scanvi_E100_L1_H128_embed 0.10032823\n",
       "/retinal_all_cells_ChenfixedandHackney_batch_donor_dataset_cell.type/metrics/unscaled/HVG.3K/scgen_E50_full            0.15032383\n",
       "/retinal_all_cells_ChenfixedandHackney_batch_donor_dataset_cell.type/metrics/unscaled/HVG.3K/scvi_E25_embed            0.08394888\n",
       "/retinal_all_cells_ChenfixedandHackney_batch_donor_dataset_cell.type/metrics/unscaled/HVG.3K/scvi_E50_embed            0.08757719\n",
       "                                                                                                                       cLISI\n",
       "/retinal_all_cells_ChenfixedandHackney_batch_donor_dataset_cell.type/metrics/unscaled/HVG.3K/scanvi_E100_L2_H128_embed  1   \n",
       "/retinal_all_cells_ChenfixedandHackney_batch_donor_dataset_cell.type/metrics/unscaled/HVG.3K/scanvi_E100_L2_H256_embed NA   \n",
       "/retinal_all_cells_ChenfixedandHackney_batch_donor_dataset_cell.type/metrics/unscaled/HVG.3K/scgen_E25_full             1   \n",
       "/retinal_all_cells_ChenfixedandHackney_batch_donor_dataset_cell.type/metrics/unscaled/HVG.3K/scanvi_E100_L3_H256_embed  1   \n",
       "/retinal_all_cells_ChenfixedandHackney_batch_donor_dataset_cell.type/metrics/unscaled/HVG.3K/scvi_E100_embed           NA   \n",
       "/retinal_all_cells_ChenfixedandHackney_batch_donor_dataset_cell.type/metrics/unscaled/HVG.3K/scanvi_E100_L3_H128_embed  1   \n",
       "/retinal_all_cells_ChenfixedandHackney_batch_donor_dataset_cell.type/metrics/unscaled/HVG.3K/scanvi_E100_L1_H256_embed  1   \n",
       "/retinal_all_cells_ChenfixedandHackney_batch_donor_dataset_cell.type/metrics/unscaled/HVG.3K/scgen_E100_full            1   \n",
       "/retinal_all_cells_ChenfixedandHackney_batch_donor_dataset_cell.type/metrics/unscaled/HVG.3K/scanvi_E100_L1_H128_embed  1   \n",
       "/retinal_all_cells_ChenfixedandHackney_batch_donor_dataset_cell.type/metrics/unscaled/HVG.3K/scgen_E50_full             1   \n",
       "/retinal_all_cells_ChenfixedandHackney_batch_donor_dataset_cell.type/metrics/unscaled/HVG.3K/scvi_E25_embed             1   \n",
       "/retinal_all_cells_ChenfixedandHackney_batch_donor_dataset_cell.type/metrics/unscaled/HVG.3K/scvi_E50_embed             1   \n",
       "                                                                                                                       hvg_overlap\n",
       "/retinal_all_cells_ChenfixedandHackney_batch_donor_dataset_cell.type/metrics/unscaled/HVG.3K/scanvi_E100_L2_H128_embed        NA  \n",
       "/retinal_all_cells_ChenfixedandHackney_batch_donor_dataset_cell.type/metrics/unscaled/HVG.3K/scanvi_E100_L2_H256_embed        NA  \n",
       "/retinal_all_cells_ChenfixedandHackney_batch_donor_dataset_cell.type/metrics/unscaled/HVG.3K/scgen_E25_full            0.6323478  \n",
       "/retinal_all_cells_ChenfixedandHackney_batch_donor_dataset_cell.type/metrics/unscaled/HVG.3K/scanvi_E100_L3_H256_embed        NA  \n",
       "/retinal_all_cells_ChenfixedandHackney_batch_donor_dataset_cell.type/metrics/unscaled/HVG.3K/scvi_E100_embed                  NA  \n",
       "/retinal_all_cells_ChenfixedandHackney_batch_donor_dataset_cell.type/metrics/unscaled/HVG.3K/scanvi_E100_L3_H128_embed        NA  \n",
       "/retinal_all_cells_ChenfixedandHackney_batch_donor_dataset_cell.type/metrics/unscaled/HVG.3K/scanvi_E100_L1_H256_embed        NA  \n",
       "/retinal_all_cells_ChenfixedandHackney_batch_donor_dataset_cell.type/metrics/unscaled/HVG.3K/scgen_E100_full           0.6255217  \n",
       "/retinal_all_cells_ChenfixedandHackney_batch_donor_dataset_cell.type/metrics/unscaled/HVG.3K/scanvi_E100_L1_H128_embed        NA  \n",
       "/retinal_all_cells_ChenfixedandHackney_batch_donor_dataset_cell.type/metrics/unscaled/HVG.3K/scgen_E50_full            0.6302174  \n",
       "/retinal_all_cells_ChenfixedandHackney_batch_donor_dataset_cell.type/metrics/unscaled/HVG.3K/scvi_E25_embed                   NA  \n",
       "/retinal_all_cells_ChenfixedandHackney_batch_donor_dataset_cell.type/metrics/unscaled/HVG.3K/scvi_E50_embed                   NA  \n",
       "                                                                                                                       trajectory\n",
       "/retinal_all_cells_ChenfixedandHackney_batch_donor_dataset_cell.type/metrics/unscaled/HVG.3K/scanvi_E100_L2_H128_embed NA        \n",
       "/retinal_all_cells_ChenfixedandHackney_batch_donor_dataset_cell.type/metrics/unscaled/HVG.3K/scanvi_E100_L2_H256_embed NA        \n",
       "/retinal_all_cells_ChenfixedandHackney_batch_donor_dataset_cell.type/metrics/unscaled/HVG.3K/scgen_E25_full            NA        \n",
       "/retinal_all_cells_ChenfixedandHackney_batch_donor_dataset_cell.type/metrics/unscaled/HVG.3K/scanvi_E100_L3_H256_embed NA        \n",
       "/retinal_all_cells_ChenfixedandHackney_batch_donor_dataset_cell.type/metrics/unscaled/HVG.3K/scvi_E100_embed           NA        \n",
       "/retinal_all_cells_ChenfixedandHackney_batch_donor_dataset_cell.type/metrics/unscaled/HVG.3K/scanvi_E100_L3_H128_embed NA        \n",
       "/retinal_all_cells_ChenfixedandHackney_batch_donor_dataset_cell.type/metrics/unscaled/HVG.3K/scanvi_E100_L1_H256_embed NA        \n",
       "/retinal_all_cells_ChenfixedandHackney_batch_donor_dataset_cell.type/metrics/unscaled/HVG.3K/scgen_E100_full           NA        \n",
       "/retinal_all_cells_ChenfixedandHackney_batch_donor_dataset_cell.type/metrics/unscaled/HVG.3K/scanvi_E100_L1_H128_embed NA        \n",
       "/retinal_all_cells_ChenfixedandHackney_batch_donor_dataset_cell.type/metrics/unscaled/HVG.3K/scgen_E50_full            NA        \n",
       "/retinal_all_cells_ChenfixedandHackney_batch_donor_dataset_cell.type/metrics/unscaled/HVG.3K/scvi_E25_embed            NA        \n",
       "/retinal_all_cells_ChenfixedandHackney_batch_donor_dataset_cell.type/metrics/unscaled/HVG.3K/scvi_E50_embed            NA        \n",
       "                                                                                                                       NMI_cluster.label\n",
       "/retinal_all_cells_ChenfixedandHackney_batch_donor_dataset_cell.type/metrics/unscaled/HVG.3K/scanvi_E100_L2_H128_embed 0.7483269        \n",
       "/retinal_all_cells_ChenfixedandHackney_batch_donor_dataset_cell.type/metrics/unscaled/HVG.3K/scanvi_E100_L2_H256_embed 0.7570255        \n",
       "/retinal_all_cells_ChenfixedandHackney_batch_donor_dataset_cell.type/metrics/unscaled/HVG.3K/scgen_E25_full            0.7839313        \n",
       "/retinal_all_cells_ChenfixedandHackney_batch_donor_dataset_cell.type/metrics/unscaled/HVG.3K/scanvi_E100_L3_H256_embed 0.7580714        \n",
       "/retinal_all_cells_ChenfixedandHackney_batch_donor_dataset_cell.type/metrics/unscaled/HVG.3K/scvi_E100_embed           0.7611938        \n",
       "/retinal_all_cells_ChenfixedandHackney_batch_donor_dataset_cell.type/metrics/unscaled/HVG.3K/scanvi_E100_L3_H128_embed 0.7605693        \n",
       "/retinal_all_cells_ChenfixedandHackney_batch_donor_dataset_cell.type/metrics/unscaled/HVG.3K/scanvi_E100_L1_H256_embed 0.7538828        \n",
       "/retinal_all_cells_ChenfixedandHackney_batch_donor_dataset_cell.type/metrics/unscaled/HVG.3K/scgen_E100_full           0.7812187        \n",
       "/retinal_all_cells_ChenfixedandHackney_batch_donor_dataset_cell.type/metrics/unscaled/HVG.3K/scanvi_E100_L1_H128_embed 0.7583419        \n",
       "/retinal_all_cells_ChenfixedandHackney_batch_donor_dataset_cell.type/metrics/unscaled/HVG.3K/scgen_E50_full            0.7567434        \n",
       "/retinal_all_cells_ChenfixedandHackney_batch_donor_dataset_cell.type/metrics/unscaled/HVG.3K/scvi_E25_embed            0.7564956        \n",
       "/retinal_all_cells_ChenfixedandHackney_batch_donor_dataset_cell.type/metrics/unscaled/HVG.3K/scvi_E50_embed            0.7526528        \n",
       "                                                                                                                       ARI_cluster.label\n",
       "/retinal_all_cells_ChenfixedandHackney_batch_donor_dataset_cell.type/metrics/unscaled/HVG.3K/scanvi_E100_L2_H128_embed  1.03363390      \n",
       "/retinal_all_cells_ChenfixedandHackney_batch_donor_dataset_cell.type/metrics/unscaled/HVG.3K/scanvi_E100_L2_H256_embed -0.76511592      \n",
       "/retinal_all_cells_ChenfixedandHackney_batch_donor_dataset_cell.type/metrics/unscaled/HVG.3K/scgen_E25_full             0.42893253      \n",
       "/retinal_all_cells_ChenfixedandHackney_batch_donor_dataset_cell.type/metrics/unscaled/HVG.3K/scanvi_E100_L3_H256_embed -1.66121018      \n",
       "/retinal_all_cells_ChenfixedandHackney_batch_donor_dataset_cell.type/metrics/unscaled/HVG.3K/scvi_E100_embed            1.21315680      \n",
       "/retinal_all_cells_ChenfixedandHackney_batch_donor_dataset_cell.type/metrics/unscaled/HVG.3K/scanvi_E100_L3_H128_embed  0.04687615      \n",
       "/retinal_all_cells_ChenfixedandHackney_batch_donor_dataset_cell.type/metrics/unscaled/HVG.3K/scanvi_E100_L1_H256_embed -0.04720547      \n",
       "/retinal_all_cells_ChenfixedandHackney_batch_donor_dataset_cell.type/metrics/unscaled/HVG.3K/scgen_E100_full            2.40256485      \n",
       "/retinal_all_cells_ChenfixedandHackney_batch_donor_dataset_cell.type/metrics/unscaled/HVG.3K/scanvi_E100_L1_H128_embed  1.58586156      \n",
       "/retinal_all_cells_ChenfixedandHackney_batch_donor_dataset_cell.type/metrics/unscaled/HVG.3K/scgen_E50_full            -1.50043411      \n",
       "/retinal_all_cells_ChenfixedandHackney_batch_donor_dataset_cell.type/metrics/unscaled/HVG.3K/scvi_E25_embed             4.00719536      \n",
       "/retinal_all_cells_ChenfixedandHackney_batch_donor_dataset_cell.type/metrics/unscaled/HVG.3K/scvi_E50_embed             1.81704385      "
      ]
     },
     "metadata": {},
     "output_type": "display_data"
    }
   ],
   "source": [
    "df"
   ]
  },
  {
   "cell_type": "code",
   "execution_count": 34,
   "metadata": {},
   "outputs": [
    {
     "name": "stdout",
     "output_type": "stream",
     "text": [
      "[1] \"HVG.1K\"                    \"ChenfixedandHackney_batch\"\n",
      "[3] \"0\"                         \"14\"                       \n",
      "[1] \"HVG.2K\"                    \"ChenfixedandHackney_batch\"\n",
      "[3] \"0\"                         \"14\"                       \n",
      "[1] \"HVG.3K\"                    \"ChenfixedandHackney_batch\"\n",
      "[3] \"12\"                        \"14\"                       \n",
      "[1] 12 14 12\n",
      "[1] \"/lustre/groups/ml01/workspace/ignacio.ibarra/theislab/retinal_scRNAseq_integration/data/integration_march_2021/output/metrics_retinal_all_cells_Chenfixed+Hackney_batch_donor_dataset_cell.type_HVG.3K.csv\"\n",
      "[1] 12 15\n",
      "                                                                                                                        X\n",
      "1  /retinal_all_cells_ChenfixedandHackney_batch_donor_dataset_cell.type/metrics/unscaled/HVG.3K/scanvi:E100:L2:H128_embed\n",
      "2  /retinal_all_cells_ChenfixedandHackney_batch_donor_dataset_cell.type/metrics/unscaled/HVG.3K/scanvi:E100:L2:H256_embed\n",
      "3             /retinal_all_cells_ChenfixedandHackney_batch_donor_dataset_cell.type/metrics/unscaled/HVG.3K/scgen:E25_full\n",
      "4  /retinal_all_cells_ChenfixedandHackney_batch_donor_dataset_cell.type/metrics/unscaled/HVG.3K/scanvi:E100:L3:H256_embed\n",
      "5            /retinal_all_cells_ChenfixedandHackney_batch_donor_dataset_cell.type/metrics/unscaled/HVG.3K/scvi:E100_embed\n",
      "6  /retinal_all_cells_ChenfixedandHackney_batch_donor_dataset_cell.type/metrics/unscaled/HVG.3K/scanvi:E100:L3:H128_embed\n",
      "7  /retinal_all_cells_ChenfixedandHackney_batch_donor_dataset_cell.type/metrics/unscaled/HVG.3K/scanvi:E100:L1:H256_embed\n",
      "8            /retinal_all_cells_ChenfixedandHackney_batch_donor_dataset_cell.type/metrics/unscaled/HVG.3K/scgen:E100_full\n",
      "9  /retinal_all_cells_ChenfixedandHackney_batch_donor_dataset_cell.type/metrics/unscaled/HVG.3K/scanvi:E100:L1:H128_embed\n",
      "10            /retinal_all_cells_ChenfixedandHackney_batch_donor_dataset_cell.type/metrics/unscaled/HVG.3K/scgen:E50_full\n",
      "11            /retinal_all_cells_ChenfixedandHackney_batch_donor_dataset_cell.type/metrics/unscaled/HVG.3K/scvi:E25_embed\n",
      "12            /retinal_all_cells_ChenfixedandHackney_batch_donor_dataset_cell.type/metrics/unscaled/HVG.3K/scvi:E50_embed\n",
      "   ASW_label ASW_label.batch PCR_batch cell_cycle_conservation\n",
      "1  0.7203922       0.8669905 0.6593395               0.6021941\n",
      "2  0.6618309       0.9023872 0.6833126               0.4422945\n",
      "3  0.7669813       0.7528006 0.4990032               0.8559595\n",
      "4  0.6715404       0.8877936 0.6514299               0.4215536\n",
      "5  0.5725212       0.9083022 0.6773711               0.2843015\n",
      "6  0.7080778       0.8390986 0.6648116               0.6309993\n",
      "7  0.6496115       0.9046363 0.6908231               0.4068210\n",
      "8  0.7634819       0.7608667 0.5032324               0.8584306\n",
      "9  0.6651205       0.8910514 0.7298072               0.3968005\n",
      "10 0.7657265       0.7566393        NA               0.8434941\n",
      "11 0.6189849       0.8998756 0.6272670               0.3976177\n",
      "12 0.5905271       0.9048576 0.6489303               0.3230007\n",
      "   isolated_label_F1 isolated_label_silhouette graph_conn kBET      iLISI cLISI\n",
      "1          0.9859526                 0.6036046  0.9742568   NA 0.11114429     1\n",
      "2          0.9863766                 0.6204339  0.9729808   NA         NA    NA\n",
      "3          0.9934958                 0.6449923  0.9973609   NA 0.14689177     1\n",
      "4          0.9143676                 0.5814484  0.9720373   NA 0.11497984     1\n",
      "5          0.9864909                 0.5387418  0.9747274   NA         NA    NA\n",
      "6          0.9079755                 0.5986855  0.9708819   NA 0.11755068     1\n",
      "7          0.9871414                 0.6411234  0.9709656   NA 0.09865844     1\n",
      "8          0.9921832                 0.6344225  0.9981679   NA 0.14836626     1\n",
      "9          0.9858382                 0.6963982  0.8862874   NA 0.10032823     1\n",
      "10         0.9913101                 0.6350358  0.9980478   NA 0.15032383     1\n",
      "11         0.9861660                 0.5858962  0.9772354   NA 0.08394888     1\n",
      "12         0.9863796                 0.5639763  0.8850978   NA 0.08757719     1\n",
      "   hvg_overlap trajectory NMI_cluster.label ARI_cluster.label\n",
      "1           NA         NA         0.7483269        1.03363390\n",
      "2           NA         NA         0.7570255       -0.76511592\n",
      "3    0.6323478         NA         0.7839313        0.42893253\n",
      "4           NA         NA         0.7580714       -1.66121018\n",
      "5           NA         NA         0.7611938        1.21315680\n",
      "6           NA         NA         0.7605693        0.04687615\n",
      "7           NA         NA         0.7538828       -0.04720547\n",
      "8    0.6255217         NA         0.7812187        2.40256485\n",
      "9           NA         NA         0.7583419        1.58586156\n",
      "10   0.6302174         NA         0.7567434       -1.50043411\n",
      "11          NA         NA         0.7564956        4.00719536\n",
      "12          NA         NA         0.7526528        1.81704385\n",
      "[1] \"selected individual scenario...\"\n",
      " [1]  1  2  3  4  5  6  7  8  9 10 11 12\n",
      "[1] \"\"\n",
      "[1] \"methods full...\"\n",
      " [1] \"retinal_all_cells_ChenfixedandHackney_batch_donor_dataset_cell.type/metrics/unscaled/HVG.3K/scanvi:E100:L2:H128_embed\"\n",
      " [2] \"retinal_all_cells_ChenfixedandHackney_batch_donor_dataset_cell.type/metrics/unscaled/HVG.3K/scanvi:E100:L2:H256_embed\"\n",
      " [3] \"retinal_all_cells_ChenfixedandHackney_batch_donor_dataset_cell.type/metrics/unscaled/HVG.3K/scgen:E25_full\"           \n",
      " [4] \"retinal_all_cells_ChenfixedandHackney_batch_donor_dataset_cell.type/metrics/unscaled/HVG.3K/scanvi:E100:L3:H256_embed\"\n",
      " [5] \"retinal_all_cells_ChenfixedandHackney_batch_donor_dataset_cell.type/metrics/unscaled/HVG.3K/scvi:E100_embed\"          \n",
      " [6] \"retinal_all_cells_ChenfixedandHackney_batch_donor_dataset_cell.type/metrics/unscaled/HVG.3K/scanvi:E100:L3:H128_embed\"\n",
      " [7] \"retinal_all_cells_ChenfixedandHackney_batch_donor_dataset_cell.type/metrics/unscaled/HVG.3K/scanvi:E100:L1:H256_embed\"\n",
      " [8] \"retinal_all_cells_ChenfixedandHackney_batch_donor_dataset_cell.type/metrics/unscaled/HVG.3K/scgen:E100_full\"          \n",
      " [9] \"retinal_all_cells_ChenfixedandHackney_batch_donor_dataset_cell.type/metrics/unscaled/HVG.3K/scanvi:E100:L1:H128_embed\"\n",
      "[10] \"retinal_all_cells_ChenfixedandHackney_batch_donor_dataset_cell.type/metrics/unscaled/HVG.3K/scgen:E50_full\"           \n",
      "[11] \"retinal_all_cells_ChenfixedandHackney_batch_donor_dataset_cell.type/metrics/unscaled/HVG.3K/scvi:E25_embed\"           \n",
      "[12] \"retinal_all_cells_ChenfixedandHackney_batch_donor_dataset_cell.type/metrics/unscaled/HVG.3K/scvi:E50_embed\"           \n",
      "[1] \"\"\n",
      "[1] \"methods info before splitting...\"\n",
      " [1] \"retinal_all_cells_ChenfixedandHackney_batch_donor_dataset_cell.type/metrics/unscaled/HVG.3K/scanvi:E100:L2:H128_embed\"\n",
      " [2] \"retinal_all_cells_ChenfixedandHackney_batch_donor_dataset_cell.type/metrics/unscaled/HVG.3K/scanvi:E100:L2:H256_embed\"\n",
      " [3] \"retinal_all_cells_ChenfixedandHackney_batch_donor_dataset_cell.type/metrics/unscaled/HVG.3K/scgen:E25_full\"           \n",
      " [4] \"retinal_all_cells_ChenfixedandHackney_batch_donor_dataset_cell.type/metrics/unscaled/HVG.3K/scanvi:E100:L3:H256_embed\"\n",
      " [5] \"retinal_all_cells_ChenfixedandHackney_batch_donor_dataset_cell.type/metrics/unscaled/HVG.3K/scvi:E100_embed\"          \n",
      " [6] \"retinal_all_cells_ChenfixedandHackney_batch_donor_dataset_cell.type/metrics/unscaled/HVG.3K/scanvi:E100:L3:H128_embed\"\n",
      " [7] \"retinal_all_cells_ChenfixedandHackney_batch_donor_dataset_cell.type/metrics/unscaled/HVG.3K/scanvi:E100:L1:H256_embed\"\n",
      " [8] \"retinal_all_cells_ChenfixedandHackney_batch_donor_dataset_cell.type/metrics/unscaled/HVG.3K/scgen:E100_full\"          \n",
      " [9] \"retinal_all_cells_ChenfixedandHackney_batch_donor_dataset_cell.type/metrics/unscaled/HVG.3K/scanvi:E100:L1:H128_embed\"\n",
      "[10] \"retinal_all_cells_ChenfixedandHackney_batch_donor_dataset_cell.type/metrics/unscaled/HVG.3K/scgen:E50_full\"           \n",
      "[11] \"retinal_all_cells_ChenfixedandHackney_batch_donor_dataset_cell.type/metrics/unscaled/HVG.3K/scvi:E25_embed\"           \n",
      "[12] \"retinal_all_cells_ChenfixedandHackney_batch_donor_dataset_cell.type/metrics/unscaled/HVG.3K/scvi:E50_embed\"           \n",
      "[[1]]\n",
      "[1] \"retinal_all_cells_ChenfixedandHackney_batch_donor_dataset_cell.type\"\n",
      "[2] \"metrics\"                                                            \n",
      "[3] \"unscaled\"                                                           \n",
      "[4] \"HVG.3K\"                                                             \n",
      "[5] \"scanvi:E100:L2:H128_embed\"                                          \n",
      "\n",
      "[[2]]\n",
      "[1] \"retinal_all_cells_ChenfixedandHackney_batch_donor_dataset_cell.type\"\n",
      "[2] \"metrics\"                                                            \n",
      "[3] \"unscaled\"                                                           \n",
      "[4] \"HVG.3K\"                                                             \n",
      "[5] \"scanvi:E100:L2:H256_embed\"                                          \n",
      "\n",
      "[[3]]\n",
      "[1] \"retinal_all_cells_ChenfixedandHackney_batch_donor_dataset_cell.type\"\n",
      "[2] \"metrics\"                                                            \n",
      "[3] \"unscaled\"                                                           \n",
      "[4] \"HVG.3K\"                                                             \n",
      "[5] \"scgen:E25_full\"                                                     \n",
      "\n",
      "[[4]]\n",
      "[1] \"retinal_all_cells_ChenfixedandHackney_batch_donor_dataset_cell.type\"\n",
      "[2] \"metrics\"                                                            \n",
      "[3] \"unscaled\"                                                           \n",
      "[4] \"HVG.3K\"                                                             \n",
      "[5] \"scanvi:E100:L3:H256_embed\"                                          \n",
      "\n",
      "[[5]]\n",
      "[1] \"retinal_all_cells_ChenfixedandHackney_batch_donor_dataset_cell.type\"\n",
      "[2] \"metrics\"                                                            \n",
      "[3] \"unscaled\"                                                           \n",
      "[4] \"HVG.3K\"                                                             \n",
      "[5] \"scvi:E100_embed\"                                                    \n",
      "\n",
      "[[6]]\n",
      "[1] \"retinal_all_cells_ChenfixedandHackney_batch_donor_dataset_cell.type\"\n",
      "[2] \"metrics\"                                                            \n",
      "[3] \"unscaled\"                                                           \n",
      "[4] \"HVG.3K\"                                                             \n",
      "[5] \"scanvi:E100:L3:H128_embed\"                                          \n",
      "\n",
      "[[7]]\n",
      "[1] \"retinal_all_cells_ChenfixedandHackney_batch_donor_dataset_cell.type\"\n",
      "[2] \"metrics\"                                                            \n",
      "[3] \"unscaled\"                                                           \n",
      "[4] \"HVG.3K\"                                                             \n",
      "[5] \"scanvi:E100:L1:H256_embed\"                                          \n",
      "\n",
      "[[8]]\n",
      "[1] \"retinal_all_cells_ChenfixedandHackney_batch_donor_dataset_cell.type\"\n",
      "[2] \"metrics\"                                                            \n",
      "[3] \"unscaled\"                                                           \n",
      "[4] \"HVG.3K\"                                                             \n",
      "[5] \"scgen:E100_full\"                                                    \n",
      "\n",
      "[[9]]\n",
      "[1] \"retinal_all_cells_ChenfixedandHackney_batch_donor_dataset_cell.type\"\n",
      "[2] \"metrics\"                                                            \n",
      "[3] \"unscaled\"                                                           \n",
      "[4] \"HVG.3K\"                                                             \n",
      "[5] \"scanvi:E100:L1:H128_embed\"                                          \n",
      "\n",
      "[[10]]\n",
      "[1] \"retinal_all_cells_ChenfixedandHackney_batch_donor_dataset_cell.type\"\n",
      "[2] \"metrics\"                                                            \n",
      "[3] \"unscaled\"                                                           \n",
      "[4] \"HVG.3K\"                                                             \n",
      "[5] \"scgen:E50_full\"                                                     \n",
      "\n",
      "[[11]]\n",
      "[1] \"retinal_all_cells_ChenfixedandHackney_batch_donor_dataset_cell.type\"\n",
      "[2] \"metrics\"                                                            \n",
      "[3] \"unscaled\"                                                           \n",
      "[4] \"HVG.3K\"                                                             \n",
      "[5] \"scvi:E25_embed\"                                                     \n",
      "\n",
      "[[12]]\n",
      "[1] \"retinal_all_cells_ChenfixedandHackney_batch_donor_dataset_cell.type\"\n",
      "[2] \"metrics\"                                                            \n",
      "[3] \"unscaled\"                                                           \n",
      "[4] \"HVG.3K\"                                                             \n",
      "[5] \"scvi:E50_embed\"                                                     \n",
      "\n",
      "\n",
      "\n",
      "\n",
      "[1] \"Info on HVG selection...\"\n",
      " [1] \"HVG.3K\" \"HVG.3K\" \"HVG.3K\" \"HVG.3K\" \"HVG.3K\" \"HVG.3K\" \"HVG.3K\" \"HVG.3K\"\n",
      " [9] \"HVG.3K\" \"HVG.3K\" \"HVG.3K\" \"HVG.3K\"\n",
      "[1] \"\"\n"
     ]
    },
    {
     "name": "stderr",
     "output_type": "stream",
     "text": [
      "The following `from` values were not present in `x`: hvg, full_feature, HVG.1K, HVG.2K\n",
      "\n"
     ]
    },
    {
     "name": "stdout",
     "output_type": "stream",
     "text": [
      "[1] \"METHODS INFO\"\n",
      " [1] \"retinal_all_cells_ChenfixedandHackney_batch_donor_dataset_cell.type/metrics/unscaled/HVG.3K/scanvi:E100:L2:H128_embed\"\n",
      " [2] \"retinal_all_cells_ChenfixedandHackney_batch_donor_dataset_cell.type/metrics/unscaled/HVG.3K/scanvi:E100:L2:H256_embed\"\n",
      " [3] \"retinal_all_cells_ChenfixedandHackney_batch_donor_dataset_cell.type/metrics/unscaled/HVG.3K/scgen:E25_full\"           \n",
      " [4] \"retinal_all_cells_ChenfixedandHackney_batch_donor_dataset_cell.type/metrics/unscaled/HVG.3K/scanvi:E100:L3:H256_embed\"\n",
      " [5] \"retinal_all_cells_ChenfixedandHackney_batch_donor_dataset_cell.type/metrics/unscaled/HVG.3K/scvi:E100_embed\"          \n",
      " [6] \"retinal_all_cells_ChenfixedandHackney_batch_donor_dataset_cell.type/metrics/unscaled/HVG.3K/scanvi:E100:L3:H128_embed\"\n",
      " [7] \"retinal_all_cells_ChenfixedandHackney_batch_donor_dataset_cell.type/metrics/unscaled/HVG.3K/scanvi:E100:L1:H256_embed\"\n",
      " [8] \"retinal_all_cells_ChenfixedandHackney_batch_donor_dataset_cell.type/metrics/unscaled/HVG.3K/scgen:E100_full\"          \n",
      " [9] \"retinal_all_cells_ChenfixedandHackney_batch_donor_dataset_cell.type/metrics/unscaled/HVG.3K/scanvi:E100:L1:H128_embed\"\n",
      "[10] \"retinal_all_cells_ChenfixedandHackney_batch_donor_dataset_cell.type/metrics/unscaled/HVG.3K/scgen:E50_full\"           \n",
      "[11] \"retinal_all_cells_ChenfixedandHackney_batch_donor_dataset_cell.type/metrics/unscaled/HVG.3K/scvi:E25_embed\"           \n",
      "[12] \"retinal_all_cells_ChenfixedandHackney_batch_donor_dataset_cell.type/metrics/unscaled/HVG.3K/scvi:E50_embed\"           \n",
      "\n",
      "\n",
      "\n",
      "[1] \"METHODS\"\n",
      " [1] \"scanvi:E100:L2:H128_embed\" \"scanvi:E100:L2:H256_embed\"\n",
      " [3] \"scgen:E25_full\"            \"scanvi:E100:L3:H256_embed\"\n",
      " [5] \"scvi:E100_embed\"           \"scanvi:E100:L3:H128_embed\"\n",
      " [7] \"scanvi:E100:L1:H256_embed\" \"scgen:E100_full\"          \n",
      " [9] \"scanvi:E100:L1:H128_embed\" \"scgen:E50_full\"           \n",
      "[11] \"scvi:E25_embed\"            \"scvi:E50_embed\"           \n",
      "\n",
      "\n",
      "\n"
     ]
    },
    {
     "name": "stderr",
     "output_type": "stream",
     "text": [
      "The following `from` values were not present in `x`: Seurat, Seuratrpca, Mnn, Bbknn, Trvae, Scvi, Liger, Combat, Saucie, Fastmnn, Desc, Scanvi, Scgen\n",
      "\n"
     ]
    },
    {
     "name": "stdout",
     "output_type": "stream",
     "text": [
      "[1] \"\\n\"\n",
      "[1] \"method groups\"\n",
      " [1] \"embed\" \"embed\" \"full\"  \"embed\" \"embed\" \"embed\" \"embed\" \"full\"  \"embed\"\n",
      "[10] \"full\"  \"embed\" \"embed\"\n"
     ]
    },
    {
     "name": "stderr",
     "output_type": "stream",
     "text": [
      "The following `from` values were not present in `x`: knn\n",
      "\n"
     ]
    },
    {
     "name": "stdout",
     "output_type": "stream",
     "text": [
      "                Method Output Features  Scaling Overall Score Batch Correction\n",
      "3            Scgen:E25   gene   HVG.3K unscaled     0.6469932        0.4852890\n",
      "10           Scgen:E50   gene   HVG.3K unscaled     0.6077224        0.6745413\n",
      "2  Scanvi:E100:L2:H256  embed   HVG.3K unscaled     0.5955454        0.8459194\n",
      "8           Scgen:E100   gene   HVG.3K unscaled     0.5951414        0.5101757\n",
      "1  Scanvi:E100:L2:H128  embed   HVG.3K unscaled     0.5295338        0.6568178\n",
      "5            Scvi:E100  embed   HVG.3K unscaled     0.5207233        0.8551672\n",
      "9  Scanvi:E100:L1:H128  embed   HVG.3K unscaled     0.5092110        0.5365887\n",
      "7  Scanvi:E100:L1:H256  embed   HVG.3K unscaled     0.5039164        0.6971384\n",
      "11            Scvi:E25  embed   HVG.3K unscaled     0.4784231        0.5791019\n",
      "6  Scanvi:E100:L3:H128  embed   HVG.3K unscaled     0.4532303        0.6345706\n",
      "4  Scanvi:E100:L3:H256  embed   HVG.3K unscaled     0.3937149        0.6912346\n",
      "12            Scvi:E50  embed   HVG.3K unscaled     0.3372359        0.4205245\n",
      "   PCR batch Batch ASW graph iLISI graph connectivity Bio conservation\n",
      "3  0.4990032 0.7528006  0.14689177          0.9973609        0.7547961\n",
      "10        NA 0.7566393  0.15032383          0.9980478        0.5631764\n",
      "2  0.6833126 0.9023872          NA          0.9729808        0.4286295\n",
      "8  0.5032324 0.7608667  0.14836626          0.9981679        0.6517851\n",
      "1  0.6593395 0.8669905  0.11114429          0.9742568        0.4446778\n",
      "5  0.6773711 0.9083022          NA          0.9747274        0.2977607\n",
      "9  0.7298072 0.8910514  0.10032823          0.8862874        0.4909592\n",
      "7  0.6908231 0.9046363  0.09865844          0.9709656        0.3751017\n",
      "11 0.6272670 0.8998756  0.08394888          0.9772354        0.4113038\n",
      "6  0.6648116 0.8390986  0.11755068          0.9708819        0.3323368\n",
      "4  0.6514299 0.8877936  0.11497984          0.9720373        0.1953685\n",
      "12 0.6489303 0.9048576  0.08757719          0.8850978        0.2817101\n",
      "   NMI cluster/label ARI cluster/label Cell type ASW isolated label F1\n",
      "3          0.7839313        0.42893253     0.7669813         0.9934958\n",
      "10         0.7567434       -1.50043411     0.7657265         0.9913101\n",
      "2          0.7570255       -0.76511592     0.6618309         0.9863766\n",
      "8          0.7812187        2.40256485     0.7634819         0.9921832\n",
      "1          0.7483269        1.03363390     0.7203922         0.9859526\n",
      "5          0.7611938        1.21315680     0.5725212         0.9864909\n",
      "9          0.7583419        1.58586156     0.6651205         0.9858382\n",
      "7          0.7538828       -0.04720547     0.6496115         0.9871414\n",
      "11         0.7564956        4.00719536     0.6189849         0.9861660\n",
      "6          0.7605693        0.04687615     0.7080778         0.9079755\n",
      "4          0.7580714       -1.66121018     0.6715404         0.9143676\n",
      "12         0.7526528        1.81704385     0.5905271         0.9863796\n",
      "   isolated label silhouette graph cLISI CC conservation HVG conservation\n",
      "3                  0.6449923           1       0.8559595        0.6323478\n",
      "10                 0.6350358           1       0.8434941        0.6302174\n",
      "2                  0.6204339          NA       0.4422945               NA\n",
      "8                  0.6344225           1       0.8584306        0.6255217\n",
      "1                  0.6036046           1       0.6021941               NA\n",
      "5                  0.5387418          NA       0.2843015               NA\n",
      "9                  0.6963982           1       0.3968005               NA\n",
      "7                  0.6411234           1       0.4068210               NA\n",
      "11                 0.5858962           1       0.3976177               NA\n",
      "6                  0.5986855           1       0.6309993               NA\n",
      "4                  0.5814484           1       0.4215536               NA\n",
      "12                 0.5639763           1       0.3230007               NA\n"
     ]
    },
    {
     "name": "stderr",
     "output_type": "stream",
     "text": [
      "Warning message in sqrt(dat_mat):\n",
      "“NaNs produced”\n",
      "The following `from` values were not present in `x`: scaled\n",
      "\n",
      "The following `from` values were not present in `x`: graph\n",
      "\n"
     ]
    },
    {
     "name": "stdout",
     "output_type": "stream",
     "text": [
      "[1] \"/lustre/groups/ml01/workspace/ignacio.ibarra/theislab/retinal_scRNAseq_integration/data/integration_march_2021/output/results/20221012_152655_ChenfixedandHackney_batch_HVG.3K_summary_metrics.pdf\"\n"
     ]
    },
    {
     "name": "stderr",
     "output_type": "stream",
     "text": [
      "Warning message:\n",
      "“Removed 18 rows containing non-finite values (stat_circle).”\n"
     ]
    }
   ],
   "source": [
    "for(group in c('ChenfixedandHackney_batch', 'ChenandHackneyandRoska_batch')){\n",
    "    for(k in c('HVG.1K', 'HVG.2K', 'HVG.3K')){\n",
    "        df_sel <- df[grepl(k, rownames(df)) == T,]\n",
    "        df_sel <- df_sel[grepl(group, rownames(df_sel)) == T,]\n",
    "        \n",
    "        print(c(k, group, dim(df_sel)))\n",
    "        if(nrow(df_sel) == 0){\n",
    "            next            \n",
    "        }\n",
    "\n",
    "        rownames(df_sel) <- str_replace(rownames(df_sel), '_E', ':E')\n",
    "        rownames(df_sel) <- str_replace(rownames(df_sel), '_L', ':L')\n",
    "        rownames(df_sel) <- str_replace(rownames(df_sel), '_H', ':H')\n",
    "        rownames(df_sel)\n",
    "        \n",
    "        print(c(dim(df_sel), nrow(df_sel)))\n",
    "        # print(head(df_sel))\n",
    "        p = paste0(metrics_path_all)\n",
    "        \n",
    "        metrics_path_hvg <- str_replace(metrics_path_all, '.csv', paste0('_', k, '.csv'))\n",
    "        # print(metrics_path_hvg)\n",
    "        write.csv(df_sel, metrics_path_hvg, quote=F)\n",
    "\n",
    "        print(metrics_path_hvg)\n",
    "        # stopifnot(1 > 2)\n",
    "        # import the functions to plot the respective functions\n",
    "        source('plotSingleTaskRNA.R');\n",
    "        plotSingleTaskRNA(metrics_path_hvg, outdir=scib_outdir, hvg_key=paste0(group, \"_\", k))\n",
    "    }    \n",
    "    break\n",
    "}\n"
   ]
  },
  {
   "cell_type": "code",
   "execution_count": null,
   "metadata": {},
   "outputs": [],
   "source": [
    "print('here...')"
   ]
  },
  {
   "cell_type": "code",
   "execution_count": null,
   "metadata": {},
   "outputs": [],
   "source": [
    "# import the functions to plot the respective functions\n",
    "source('plotSingleTaskRNA.R');\n",
    "plotSingleTaskRNA(metrics_path, outdir=scib_outdir)"
   ]
  },
  {
   "cell_type": "code",
   "execution_count": null,
   "metadata": {},
   "outputs": [],
   "source": [
    "print('here...')"
   ]
  },
  {
   "cell_type": "code",
   "execution_count": null,
   "metadata": {},
   "outputs": [],
   "source": [
    "for(k in c(250)){ # , 500, 1000, 'all')){\n",
    "    for(batch_label in c('batch_donor_dataset')){ #  'batch.merged', 'dataset')){\n",
    "        p = paste0(scib_outdir, k, '_', batch_label, '.csv')\n",
    "        print(p)\n",
    "        if(!file.exists(p)){\n",
    "            print('skip...')\n",
    "            next\n",
    "        }\n",
    "        print(file.exists(p))\n",
    "        plotSingleTaskRNA(p, outdir=scib_outdir)\n",
    "        # metrics_path = paste0(scib_outdir, 'metrics.csv')\n",
    "    }\n",
    "}"
   ]
  },
  {
   "cell_type": "code",
   "execution_count": null,
   "metadata": {},
   "outputs": [],
   "source": [
    "print(metrics_path_250)"
   ]
  },
  {
   "cell_type": "code",
   "execution_count": null,
   "metadata": {},
   "outputs": [],
   "source": [
    "# df = read.table(metrics_path_250, sep=',', header=T, row.names=1)\n",
    "# df_batch_merged <- df[grepl('_batch.merged_', rownames(df)),]\n",
    "# df_batch_dataset <- df[grepl('_dataset_', rownames(df)),]\n",
    "# print(c(dim(df_batch_merged), dim(df_batch_dataset)))\n",
    "\n",
    "# write.table(df_batch_merged, metrics_path_250_batch_merged, sep=',', quote=F, row.names=T, col.names=NA)\n",
    "# write.table(df_batch_dataset, metrics_path_250_batch_dataset, sep=',', quote=F, row.names=T, col.names=NA)"
   ]
  },
  {
   "cell_type": "code",
   "execution_count": null,
   "metadata": {},
   "outputs": [],
   "source": [
    "df = read.table(metrics_path_500, sep=',', header=T, row.names=1)\n",
    "df_batch_merged <- df[grepl('_batch.merged_', rownames(df)),]\n",
    "df_batch_dataset <- df[grepl('_dataset_', rownames(df)),]\n",
    "print(c(dim(df_batch_merged), dim(df_batch_dataset)))"
   ]
  },
  {
   "cell_type": "code",
   "execution_count": null,
   "metadata": {},
   "outputs": [],
   "source": [
    "write.table(df_batch_merged, metrics_path_500_batch_merged, sep=',', quote=F, row.names=T, col.names=NA)\n",
    "write.table(df_batch_dataset, metrics_path_500_batch_dataset, sep=',', quote=F, row.names=T, col.names=NA)"
   ]
  },
  {
   "cell_type": "code",
   "execution_count": null,
   "metadata": {},
   "outputs": [],
   "source": [
    "sel <- df[grepl('_all_', rownames(df)),]\n",
    "write.table(sel, , sep=',', quote=F, row.names=T, col.names=NA)"
   ]
  },
  {
   "cell_type": "code",
   "execution_count": null,
   "metadata": {},
   "outputs": [],
   "source": [
    "getwd()"
   ]
  },
  {
   "cell_type": "code",
   "execution_count": null,
   "metadata": {},
   "outputs": [],
   "source": [
    "scib_outdir <- '/mnt/znas/icb_zstore01/groups/ml01/workspace/ignacio.ibarra/theislab/retinal_scRNAseq_integration/data/integration_march_2021/output/'"
   ]
  },
  {
   "cell_type": "code",
   "execution_count": null,
   "metadata": {},
   "outputs": [],
   "source": [
    "# import the functions to plot the respective functions\n",
    "source('plotSingleTaskRNA.R');"
   ]
  },
  {
   "cell_type": "code",
   "execution_count": null,
   "metadata": {},
   "outputs": [],
   "source": [
    "v <- c('a', 'b', 'c')"
   ]
  },
  {
   "cell_type": "code",
   "execution_count": null,
   "metadata": {},
   "outputs": [],
   "source": [
    "next_path = paste0(scib_outdir, 'metrics', '.csv')\n",
    "print(next_path)\n",
    "plotSingleTaskRNA(next_path, outdir=scib_outdir)\n",
    "print(p)\n"
   ]
  },
  {
   "cell_type": "code",
   "execution_count": null,
   "metadata": {},
   "outputs": [],
   "source": []
  },
  {
   "cell_type": "code",
   "execution_count": null,
   "metadata": {},
   "outputs": [],
   "source": [
    "# print(metrics_path_500)\n",
    "plotSingleTaskRNA(metrics_path_250_batch_merged, outdir=scib_outdir)"
   ]
  },
  {
   "cell_type": "code",
   "execution_count": null,
   "metadata": {},
   "outputs": [],
   "source": [
    "# print(metrics_path_500)\n",
    "plotSingleTaskRNA(metrics_path_500_batch_merged, outdir=scib_outdir)"
   ]
  },
  {
   "cell_type": "code",
   "execution_count": null,
   "metadata": {},
   "outputs": [],
   "source": [
    "# print(metrics_path_500)\n",
    "plotSingleTaskRNA(metrics_path_500_batch_dataset, outdir=scib_outdir)"
   ]
  },
  {
   "cell_type": "code",
   "execution_count": null,
   "metadata": {},
   "outputs": [],
   "source": [
    "print(metrics_path_500)\n",
    "plotSingleTaskRNA(metrics_path_500, outdir=scib_outdir)"
   ]
  },
  {
   "cell_type": "code",
   "execution_count": null,
   "metadata": {},
   "outputs": [],
   "source": [
    "for (c in c('CP', 'all', 'PDAC')){\n",
    "    print(c)\n",
    "    outdir = paste0(scib_outdir, c, \"/\")\n",
    "    metrics_path = paste0(outdir, 'metrics.csv')\n",
    "    print(outdir)\n",
    "    print(metrics_path)\n",
    "    plotSingleTaskRNA(metrics_path, outdir=outdir)\n",
    "}\n",
    "    "
   ]
  }
 ],
 "metadata": {
  "kernelspec": {
   "display_name": "R [conda env:scIB-table]",
   "language": "R",
   "name": "conda-env-scIB-table-r"
  },
  "language_info": {
   "codemirror_mode": "r",
   "file_extension": ".r",
   "mimetype": "text/x-r-source",
   "name": "R",
   "pygments_lexer": "r",
   "version": "4.1.3"
  }
 },
 "nbformat": 4,
 "nbformat_minor": 4
}
