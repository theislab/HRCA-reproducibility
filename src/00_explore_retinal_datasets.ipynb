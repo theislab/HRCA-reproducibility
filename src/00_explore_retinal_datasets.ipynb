{
 "cells": [
  {
   "cell_type": "code",
   "execution_count": 1,
   "metadata": {},
   "outputs": [
    {
     "name": "stdout",
     "output_type": "stream",
     "text": [
      "import pandas..\n",
      "importing path functions...\n",
      "importing stat functions...\n",
      "ipdb is not installed and cannot be imported...\n",
      "importing misc functions..\n",
      "importing done...\n"
     ]
    }
   ],
   "source": [
    "from lib.utils import *\n",
    "import pandas as pd"
   ]
  },
  {
   "cell_type": "code",
   "execution_count": 2,
   "metadata": {},
   "outputs": [
    {
     "name": "stdout",
     "output_type": "stream",
     "text": [
      "total 1.8M\n",
      "-rw-r--r--. 1 ignacio.ibarra OG-ICB-User  63K Jul 20 17:32 human_retina_dataset_overview.xlsx\n",
      "drwxr-xr-x. 6 ignacio.ibarra OG-ICB-User    6 Aug 26 17:20 datasets\n",
      "-rw-r--r--. 1 ignacio.ibarra OG-ICB-User 633K Aug 26 17:43 annotation_7_1_QL.xlsx\n",
      "-rw-r--r--. 1 ignacio.ibarra OG-ICB-User 930K Aug 28 09:07 kBET.zip\n",
      "drwxr-xr-x. 3 ignacio.ibarra OG-ICB-User    9 Sep 21 20:12 figures\n"
     ]
    }
   ],
   "source": [
    "!ls -ltrh ../data"
   ]
  },
  {
   "cell_type": "code",
   "execution_count": null,
   "metadata": {},
   "outputs": [],
   "source": []
  },
  {
   "cell_type": "code",
   "execution_count": 3,
   "metadata": {},
   "outputs": [],
   "source": [
    "annot = []\n",
    "df = pd.read_excel('../data/annotation_7_1_QL.xlsx', sheet_name=None, index_col=0)\n",
    "for k in df:\n",
    "    df2 = df[k]\n",
    "    df2['label'] = k\n",
    "    annot.append(df2)\n",
    "annot = pd.concat(annot)"
   ]
  },
  {
   "cell_type": "code",
   "execution_count": 4,
   "metadata": {},
   "outputs": [
    {
     "data": {
      "text/plain": [
       "Hafler_dataset_annotation       9959\n",
       "Wong_r2b_annotation             4960\n",
       "Wong_r2a_annotation             4950\n",
       "Wong_r3a_annotation             2978\n",
       "Wong_r3b_annotation             2819\n",
       "Wong_r1_annotation              1657\n",
       "Scheetz_a_peripheral_donor_1    1281\n",
       "Scheetz_a_fovea_donor_2         1208\n",
       "Scheetz_a_peripheral_donor_3    1000\n",
       "Scheetz_a_peripheral_donor_2     952\n",
       "Scheetz_a_fovea_donor_3          541\n",
       "Scheetz_a_fovea_donor_1          517\n",
       "Name: label, dtype: int64"
      ]
     },
     "execution_count": 4,
     "metadata": {},
     "output_type": "execute_result"
    }
   ],
   "source": [
    "annot['label'].value_counts()"
   ]
  }
 ],
 "metadata": {
  "kernelspec": {
   "display_name": "Python 3",
   "language": "python",
   "name": "python3"
  },
  "language_info": {
   "codemirror_mode": {
    "name": "ipython",
    "version": 3
   },
   "file_extension": ".py",
   "mimetype": "text/x-python",
   "name": "python",
   "nbconvert_exporter": "python",
   "pygments_lexer": "ipython3",
   "version": "3.7.8"
  }
 },
 "nbformat": 4,
 "nbformat_minor": 4
}
